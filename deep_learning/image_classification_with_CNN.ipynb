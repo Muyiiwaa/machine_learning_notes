{
  "nbformat": 4,
  "nbformat_minor": 0,
  "metadata": {
    "colab": {
      "provenance": [],
      "gpuType": "T4"
    },
    "kernelspec": {
      "name": "python3",
      "display_name": "Python 3"
    },
    "language_info": {
      "name": "python"
    },
    "accelerator": "GPU"
  },
  "cells": [
    {
      "cell_type": "markdown",
      "source": [
        "## CONVOLUTIONAL NEURAL NETWORK\n",
        "\n",
        "- Assignment:\n",
        "Train image classification model for digit recognition with simple artificial neural network."
      ],
      "metadata": {
        "id": "NieXpp9qtKdq"
      }
    },
    {
      "cell_type": "code",
      "source": [
        "import numpy as np\n",
        "import torch\n",
        "from torch import nn, optim\n",
        "from torchvision import datasets, transforms # utilities for sample dataset and image transformation\n",
        "from torch.utils.data import DataLoader # for efficient data loading during training and inference\n",
        "\n",
        "from sklearn.metrics import classification_report, confusion_matrix\n",
        "import seaborn as sns\n",
        "import matplotlib.pyplot as plt\n",
        "from tqdm import tqdm # for progress bar"
      ],
      "metadata": {
        "id": "Gv9zeFVmtRUs"
      },
      "execution_count": 1,
      "outputs": []
    },
    {
      "cell_type": "code",
      "source": [
        "# setup the transformation channel\n",
        "\n",
        "transform = transforms.Compose([\n",
        "    transforms.ToTensor(),\n",
        "    transforms.Normalize((0.5,),(0.5,))\n",
        "])\n",
        "\n",
        "# load the dataset\n",
        "train_data = datasets.MNIST(root='./data', train = True, transform=transform,\n",
        "                            download=True)\n",
        "test_data = datasets.MNIST(root='./data', train = False, transform=transform,\n",
        "                            download=True)"
      ],
      "metadata": {
        "colab": {
          "base_uri": "https://localhost:8080/"
        },
        "id": "5ZOe96juu_ke",
        "outputId": "36ce7a8c-3dda-42d5-dcb1-0370f7434ce7"
      },
      "execution_count": 2,
      "outputs": [
        {
          "output_type": "stream",
          "name": "stdout",
          "text": [
            "Downloading http://yann.lecun.com/exdb/mnist/train-images-idx3-ubyte.gz\n",
            "Failed to download (trying next):\n",
            "<urlopen error [Errno 110] Connection timed out>\n",
            "\n",
            "Downloading https://ossci-datasets.s3.amazonaws.com/mnist/train-images-idx3-ubyte.gz\n",
            "Downloading https://ossci-datasets.s3.amazonaws.com/mnist/train-images-idx3-ubyte.gz to ./data/MNIST/raw/train-images-idx3-ubyte.gz\n"
          ]
        },
        {
          "output_type": "stream",
          "name": "stderr",
          "text": [
            "100%|██████████| 9.91M/9.91M [00:00<00:00, 15.2MB/s]\n"
          ]
        },
        {
          "output_type": "stream",
          "name": "stdout",
          "text": [
            "Extracting ./data/MNIST/raw/train-images-idx3-ubyte.gz to ./data/MNIST/raw\n",
            "\n",
            "Downloading http://yann.lecun.com/exdb/mnist/train-labels-idx1-ubyte.gz\n",
            "Failed to download (trying next):\n",
            "<urlopen error [Errno 110] Connection timed out>\n",
            "\n",
            "Downloading https://ossci-datasets.s3.amazonaws.com/mnist/train-labels-idx1-ubyte.gz\n",
            "Downloading https://ossci-datasets.s3.amazonaws.com/mnist/train-labels-idx1-ubyte.gz to ./data/MNIST/raw/train-labels-idx1-ubyte.gz\n"
          ]
        },
        {
          "output_type": "stream",
          "name": "stderr",
          "text": [
            "100%|██████████| 28.9k/28.9k [00:00<00:00, 460kB/s]\n"
          ]
        },
        {
          "output_type": "stream",
          "name": "stdout",
          "text": [
            "Extracting ./data/MNIST/raw/train-labels-idx1-ubyte.gz to ./data/MNIST/raw\n",
            "\n",
            "Downloading http://yann.lecun.com/exdb/mnist/t10k-images-idx3-ubyte.gz\n",
            "Failed to download (trying next):\n",
            "<urlopen error [Errno 110] Connection timed out>\n",
            "\n",
            "Downloading https://ossci-datasets.s3.amazonaws.com/mnist/t10k-images-idx3-ubyte.gz\n",
            "Downloading https://ossci-datasets.s3.amazonaws.com/mnist/t10k-images-idx3-ubyte.gz to ./data/MNIST/raw/t10k-images-idx3-ubyte.gz\n"
          ]
        },
        {
          "output_type": "stream",
          "name": "stderr",
          "text": [
            "100%|██████████| 1.65M/1.65M [00:00<00:00, 4.10MB/s]\n"
          ]
        },
        {
          "output_type": "stream",
          "name": "stdout",
          "text": [
            "Extracting ./data/MNIST/raw/t10k-images-idx3-ubyte.gz to ./data/MNIST/raw\n",
            "\n",
            "Downloading http://yann.lecun.com/exdb/mnist/t10k-labels-idx1-ubyte.gz\n",
            "Failed to download (trying next):\n",
            "<urlopen error [Errno 110] Connection timed out>\n",
            "\n",
            "Downloading https://ossci-datasets.s3.amazonaws.com/mnist/t10k-labels-idx1-ubyte.gz\n",
            "Downloading https://ossci-datasets.s3.amazonaws.com/mnist/t10k-labels-idx1-ubyte.gz to ./data/MNIST/raw/t10k-labels-idx1-ubyte.gz\n"
          ]
        },
        {
          "output_type": "stream",
          "name": "stderr",
          "text": [
            "100%|██████████| 4.54k/4.54k [00:00<00:00, 4.34MB/s]"
          ]
        },
        {
          "output_type": "stream",
          "name": "stdout",
          "text": [
            "Extracting ./data/MNIST/raw/t10k-labels-idx1-ubyte.gz to ./data/MNIST/raw\n",
            "\n"
          ]
        },
        {
          "output_type": "stream",
          "name": "stderr",
          "text": [
            "\n"
          ]
        }
      ]
    },
    {
      "cell_type": "code",
      "source": [
        "# setup the data loader\n",
        "\n",
        "train_loader = DataLoader(dataset=train_data, batch_size=64, shuffle = True)\n",
        "test_loader = DataLoader(dataset=test_data, batch_size=64, shuffle = True)"
      ],
      "metadata": {
        "id": "JnZlv2BGwZ3Q"
      },
      "execution_count": 3,
      "outputs": []
    },
    {
      "cell_type": "code",
      "source": [
        "def show_image(image_index):\n",
        "  image, label = train_data[image_index][0], train_data[image_index][1]\n",
        "  image = image.detach().numpy()\n",
        "  image = np.transpose(image, (1,2,0))\n",
        "  plt.imshow(image, cmap = 'grey')\n",
        "  plt.title(f'This is an image of the number {label}')\n",
        "\n",
        "\n",
        "show_image(image_index=167)"
      ],
      "metadata": {
        "colab": {
          "base_uri": "https://localhost:8080/",
          "height": 452
        },
        "id": "A0QDUZD3ydx5",
        "outputId": "d57cf260-9f33-4f4c-e6cb-2f221bc10206"
      },
      "execution_count": 10,
      "outputs": [
        {
          "output_type": "display_data",
          "data": {
            "text/plain": [
              "<Figure size 640x480 with 1 Axes>"
            ],
            "image/png": "[encoded data removed]"
          },
          "metadata": {}
        }
      ]
    },
    {
      "cell_type": "code",
      "source": [
        "# set up the device configuration\n",
        "device = torch.device(\"cuda\" if torch.cuda.is_available() else 'cpu')\n",
        "device"
      ],
      "metadata": {
        "colab": {
          "base_uri": "https://localhost:8080/"
        },
        "id": "ceDEsu47xEiO",
        "outputId": "6f6f1673-682d-4fc3-8dc0-49553ea6a9f2"
      },
      "execution_count": 5,
      "outputs": [
        {
          "output_type": "execute_result",
          "data": {
            "text/plain": [
              "device(type='cuda')"
            ]
          },
          "metadata": {},
          "execution_count": 5
        }
      ]
    },
    {
      "cell_type": "code",
      "source": [
        "# set up the model architecture\n",
        "\n",
        "class Image_CNN(nn.Module):\n",
        "\n",
        "  def __init__(self) -> None:\n",
        "    super().__init__()\n",
        "    self.conv1 = nn.Conv2d(in_channels=1, out_channels=32, kernel_size= 3, stride = 1, padding = 1) # 32 by 28 by 28\n",
        "    self.conv2 = nn.Conv2d(in_channels=32, out_channels=64, kernel_size=3, stride = 1, padding = 1) # 64 by 28 by 28\n",
        "    self.pool = nn.MaxPool2d(kernel_size=2, stride = 2) # 64 by 14 by 14 -> after one round of poling, # 64 by 7 by 7 -> two rounds\n",
        "    self.fc1 = nn.Linear(in_features=64*7*7, out_features=500)\n",
        "    self.fc2 = nn.Linear(in_features=500, out_features=250)\n",
        "    self.out = nn.Linear(in_features=250, out_features=10)\n",
        "    self.dropout = nn.Dropout(0.5)\n",
        "    self.relu = nn.ReLU()\n",
        "\n",
        "  def forward(self, x:torch.Tensor):\n",
        "    result = self.pool(self.conv1(x))\n",
        "    result = self.pool(self.conv2(result))\n",
        "    result = result.view(-1, 64*7*7)\n",
        "    result = self.dropout(self.relu(self.fc1(result)))\n",
        "    result = self.dropout(self.relu(self.fc2(result)))\n",
        "    result = self.out(result)\n",
        "\n",
        "    return result"
      ],
      "metadata": {
        "id": "DkvE51KryBTe"
      },
      "execution_count": 11,
      "outputs": []
    },
    {
      "cell_type": "code",
      "source": [
        "# init the model and hyper parameters\n",
        "\n",
        "model = Image_CNN().to(device) # init the model and we transfered it to our gpu\n",
        "learning_rate = 1e-4\n",
        "EPOCHS = 5\n",
        "optimizer = optim.Adam(params = model.parameters(), lr = learning_rate)\n",
        "criterion = nn.CrossEntropyLoss()"
      ],
      "metadata": {
        "id": "WB4x-OVr5Xnt"
      },
      "execution_count": 12,
      "outputs": []
    },
    {
      "cell_type": "code",
      "source": [
        "# begin the training loop\n",
        "\n",
        "model.train() # put model in training mode\n",
        "all_preds = []\n",
        "all_labels = []\n",
        "\n",
        "for epoch in range(5):\n",
        "  current_batch = tqdm(train_loader, desc = f'epoch: {epoch+1}/{EPOCHS}')\n",
        "  batch_pred = []\n",
        "  batch_labels = []\n",
        "  for images, labels in current_batch:\n",
        "    images, labels = images.to(device), labels.to(device)\n",
        "    # forward pass\n",
        "    train_preds = model(images)\n",
        "    loss = criterion(train_preds, labels)\n",
        "\n",
        "    # back propagation\n",
        "\n",
        "    optimizer.zero_grad()\n",
        "    loss.backward()\n",
        "    optimizer.step()\n",
        "    _, preds = torch.max(train_preds, 1)\n",
        "    preds = preds.cpu().numpy()\n",
        "    batch_pred.extend(preds)\n",
        "    batch_labels.extend(labels.cpu().numpy())\n",
        "\n",
        "  all_labels.extend(batch_labels)\n",
        "  all_preds.extend(batch_pred)\n",
        "\n",
        "  print(f'Epoch: {epoch}........Loss: {loss.item()}')"
      ],
      "metadata": {
        "colab": {
          "base_uri": "https://localhost:8080/"
        },
        "id": "seXT4an_54pG",
        "outputId": "18e20b07-de51-4f97-ae53-a9484c5b2f71"
      },
      "execution_count": 24,
      "outputs": [
        {
          "output_type": "stream",
          "name": "stderr",
          "text": [
            "epoch: 1/5: 100%|██████████| 938/938 [00:17<00:00, 54.64it/s]\n"
          ]
        },
        {
          "output_type": "stream",
          "name": "stdout",
          "text": [
            "Epoch: 0........Loss: 0.004161059856414795\n"
          ]
        },
        {
          "output_type": "stream",
          "name": "stderr",
          "text": [
            "epoch: 2/5: 100%|██████████| 938/938 [00:18<00:00, 50.85it/s]\n"
          ]
        },
        {
          "output_type": "stream",
          "name": "stdout",
          "text": [
            "Epoch: 1........Loss: 0.010533243417739868\n"
          ]
        },
        {
          "output_type": "stream",
          "name": "stderr",
          "text": [
            "epoch: 3/5: 100%|██████████| 938/938 [00:32<00:00, 29.19it/s]\n"
          ]
        },
        {
          "output_type": "stream",
          "name": "stdout",
          "text": [
            "Epoch: 2........Loss: 0.10186688601970673\n"
          ]
        },
        {
          "output_type": "stream",
          "name": "stderr",
          "text": [
            "epoch: 4/5: 100%|██████████| 938/938 [00:28<00:00, 33.36it/s]\n"
          ]
        },
        {
          "output_type": "stream",
          "name": "stdout",
          "text": [
            "Epoch: 3........Loss: 0.0003910346422344446\n"
          ]
        },
        {
          "output_type": "stream",
          "name": "stderr",
          "text": [
            "epoch: 5/5: 100%|██████████| 938/938 [00:15<00:00, 61.39it/s]"
          ]
        },
        {
          "output_type": "stream",
          "name": "stdout",
          "text": [
            "Epoch: 4........Loss: 0.0009025111794471741\n"
          ]
        },
        {
          "output_type": "stream",
          "name": "stderr",
          "text": [
            "\n"
          ]
        }
      ]
    },
    {
      "cell_type": "code",
      "source": [
        "print(classification_report(all_labels, all_preds))"
      ],
      "metadata": {
        "colab": {
          "base_uri": "https://localhost:8080/"
        },
        "id": "zQKbUBxL8EOI",
        "outputId": "b2ca7031-4ed1-4e95-c76d-a7c7982159db"
      },
      "execution_count": 25,
      "outputs": [
        {
          "output_type": "stream",
          "name": "stdout",
          "text": [
            "              precision    recall  f1-score   support\n",
            "\n",
            "           0       1.00      1.00      1.00     29615\n",
            "           1       1.00      1.00      1.00     33710\n",
            "           2       0.99      0.99      0.99     29790\n",
            "           3       0.99      0.99      0.99     30655\n",
            "           4       0.99      0.99      0.99     29210\n",
            "           5       0.99      0.99      0.99     27105\n",
            "           6       0.99      0.99      0.99     29590\n",
            "           7       0.99      0.99      0.99     31325\n",
            "           8       0.99      0.99      0.99     29255\n",
            "           9       0.99      0.99      0.99     29745\n",
            "\n",
            "    accuracy                           0.99    300000\n",
            "   macro avg       0.99      0.99      0.99    300000\n",
            "weighted avg       0.99      0.99      0.99    300000\n",
            "\n"
          ]
        }
      ]
    },
    {
      "cell_type": "code",
      "source": [
        "sns.heatmap(data = confusion_matrix(all_labels, all_preds),\n",
        "            annot = True,fmt = 'd', cbar = False)"
      ],
      "metadata": {
        "colab": {
          "base_uri": "https://localhost:8080/",
          "height": 447
        },
        "id": "nudxGRZb-a3V",
        "outputId": "bc1cd2d9-21f3-4d8a-a0c8-7eee75ea4108"
      },
      "execution_count": 26,
      "outputs": [
        {
          "output_type": "execute_result",
          "data": {
            "text/plain": [
              "<Axes: >"
            ]
          },
          "metadata": {},
          "execution_count": 26
        },
        {
          "output_type": "display_data",
          "data": {
            "text/plain": [
              "<Figure size 640x480 with 1 Axes>"
            ],
            "image/png": "[encoded data removed]"
          },
          "metadata": {}
        }
      ]
    },
    {
      "cell_type": "code",
      "source": [
        "# inference\n",
        "model.eval()\n",
        "with torch.no_grad():\n",
        "  for images, labels in test_loader:\n",
        "    images, labels = images.to(device), labels.to(device)\n",
        "    test_preds = model(images)\n",
        "    _, test_preds = torch.max(test_preds, 1)\n",
        "    test_preds = test_preds.cpu().numpy()\n",
        "\n",
        "test_preds"
      ],
      "metadata": {
        "colab": {
          "base_uri": "https://localhost:8080/"
        },
        "id": "YtQ1mQifA4Bp",
        "outputId": "1c341f98-aeb2-43da-ea28-2aefcfd85edf"
      },
      "execution_count": 30,
      "outputs": [
        {
          "output_type": "execute_result",
          "data": {
            "text/plain": [
              "array([0, 5, 0, 4, 8, 0, 9, 6, 9, 8, 2, 8, 1, 8, 3, 4])"
            ]
          },
          "metadata": {},
          "execution_count": 30
        }
      ]
    },
    {
      "cell_type": "code",
      "source": [
        "labels = labels.cpu().numpy()\n",
        "print(classification_report(labels, test_preds))"
      ],
      "metadata": {
        "colab": {
          "base_uri": "https://localhost:8080/"
        },
        "id": "r4EYCQyPByZW",
        "outputId": "41b612b4-4cb6-449d-9a99-e6372e868d73"
      },
      "execution_count": 31,
      "outputs": [
        {
          "output_type": "stream",
          "name": "stdout",
          "text": [
            "              precision    recall  f1-score   support\n",
            "\n",
            "           0       1.00      1.00      1.00         3\n",
            "           1       1.00      1.00      1.00         1\n",
            "           2       1.00      1.00      1.00         1\n",
            "           3       1.00      1.00      1.00         1\n",
            "           4       1.00      1.00      1.00         2\n",
            "           5       1.00      1.00      1.00         1\n",
            "           6       1.00      1.00      1.00         1\n",
            "           8       1.00      1.00      1.00         4\n",
            "           9       1.00      1.00      1.00         2\n",
            "\n",
            "    accuracy                           1.00        16\n",
            "   macro avg       1.00      1.00      1.00        16\n",
            "weighted avg       1.00      1.00      1.00        16\n",
            "\n"
          ]
        }
      ]
    },
    {
      "cell_type": "code",
      "source": [],
      "metadata": {
        "id": "zq3S0rDfB1_i"
      },
      "execution_count": null,
      "outputs": []
    }
  ]
}