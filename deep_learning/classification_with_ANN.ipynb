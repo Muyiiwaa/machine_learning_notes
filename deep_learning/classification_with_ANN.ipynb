{
  "nbformat": 4,
  "nbformat_minor": 0,
  "metadata": {
    "colab": {
      "provenance": []
    },
    "kernelspec": {
      "name": "python3",
      "display_name": "Python 3"
    },
    "language_info": {
      "name": "python"
    }
  },
  "cells": [
    {
      "cell_type": "code",
      "execution_count": 1,
      "metadata": {
        "id": "BLnnPwQEGyv1"
      },
      "outputs": [],
      "source": [
        "import numpy as np\n",
        "import torch\n",
        "from torch import nn\n",
        "from torch import optim\n",
        "\n",
        "from sklearn.datasets import load_iris\n",
        "from sklearn.model_selection import train_test_split\n",
        "from sklearn.metrics import f1_score, classification_report, confusion_matrix\n",
        "\n",
        "import seaborn as sns\n",
        "import matplotlib.pyplot as plt\n",
        "\n",
        "sns.set_style('darkgrid')\n",
        "sns.set_palette('husl')"
      ]
    },
    {
      "cell_type": "code",
      "source": [
        "# set up the dataset\n",
        "X = load_iris()['data']\n",
        "y = load_iris()['target']\n",
        "\n",
        "# split\n",
        "\n",
        "X_train, X_test, y_train, y_test = train_test_split(X, y, test_size=0.2, random_state=23, shuffle=True,\n",
        "                                                    stratify=y)"
      ],
      "metadata": {
        "id": "kOLwYbUVH9Ed"
      },
      "execution_count": 2,
      "outputs": []
    },
    {
      "cell_type": "code",
      "source": [
        "# load the data to tensor objects\n",
        "X_train_tensor = torch.tensor(data= X_train, dtype = torch.float32)\n",
        "X_test_tensor = torch.tensor(data= X_test, dtype = torch.float32)\n",
        "y_train_tensor = torch.tensor(data = y_train, dtype = torch.long)\n",
        "y_test_tensor = torch.tensor (data= y_test, dtype = torch.long)"
      ],
      "metadata": {
        "id": "MHkcsaohJNxY"
      },
      "execution_count": 3,
      "outputs": []
    },
    {
      "cell_type": "code",
      "source": [
        "# set up the model architecture\n",
        "\n",
        "\n",
        "class Flower_NN(nn.Module):\n",
        "\n",
        "  def __init__(self, input_dim:int) -> None:\n",
        "    super().__init__()\n",
        "    self.fc1 = nn.Linear(in_features=input_dim, out_features=750)\n",
        "    self.fc2 = nn.Linear(in_features=750, out_features= 500)\n",
        "    self.fc3 = nn.Linear(in_features=500, out_features=150)\n",
        "    self.out = nn.Linear(in_features=150, out_features=3)\n",
        "    self.relu = nn.ReLU()\n",
        "    self.dropout = nn.Dropout(p=0.45)\n",
        "\n",
        "  def forward(self, x: torch.tensor):\n",
        "    result = self.relu(self.fc1(x))\n",
        "    result = self.dropout(result)\n",
        "    result = self.relu(self.fc2(result))\n",
        "    result = self.dropout(result)\n",
        "    result = self.relu(self.fc3(result))\n",
        "    result = self.dropout(result)\n",
        "    result = self.out(result)\n",
        "\n",
        "    return result"
      ],
      "metadata": {
        "id": "mV10M--CJPPV"
      },
      "execution_count": 4,
      "outputs": []
    },
    {
      "cell_type": "code",
      "source": [
        "# init the model and hyperparams\n",
        "\n",
        "model = Flower_NN(input_dim=X_train.shape[1])\n",
        "optimizer = optim.Adam(params = model.parameters(), lr =1e-4)\n",
        "criterion = nn.CrossEntropyLoss()\n",
        "EPOCHS = 3000"
      ],
      "metadata": {
        "id": "aRWOSSitOo8G"
      },
      "execution_count": 5,
      "outputs": []
    },
    {
      "cell_type": "code",
      "source": [
        "# begin the training loop\n",
        "loss_list = []\n",
        "model.train()\n",
        "for epoch in range(EPOCHS):\n",
        "  # forward pass\n",
        "  train_preds = model(X_train_tensor)\n",
        "  loss = criterion(train_preds, y_train_tensor)\n",
        "\n",
        "  # back prop\n",
        "  optimizer.zero_grad()\n",
        "  loss.backward()\n",
        "  optimizer.step()\n",
        "  loss_list.append(loss.item())\n",
        "\n",
        "  if epoch % 500 == 0:\n",
        "    print(f'Epoch: {(epoch//500) + 1}/6.......Loss: {loss.item()}')"
      ],
      "metadata": {
        "colab": {
          "base_uri": "https://localhost:8080/"
        },
        "id": "YgoSylQbR2SS",
        "outputId": "4304dc68-6af0-4f4e-98be-a514a82d3641"
      },
      "execution_count": 6,
      "outputs": [
        {
          "output_type": "stream",
          "name": "stdout",
          "text": [
            "Epoch: 1/6.......Loss: 1.1903076171875\n",
            "Epoch: 2/6.......Loss: 0.1507415920495987\n",
            "Epoch: 3/6.......Loss: 0.06634482741355896\n",
            "Epoch: 4/6.......Loss: 0.07648283988237381\n",
            "Epoch: 5/6.......Loss: 0.048175111413002014\n",
            "Epoch: 6/6.......Loss: 0.08314218372106552\n"
          ]
        }
      ]
    },
    {
      "cell_type": "code",
      "source": [
        "# visualiz the loss\n",
        "\n",
        "plt.plot(list(range(3000)), loss_list)\n",
        "plt.xlabel('Number Of Epochs')\n",
        "plt.ylabel('Loss')"
      ],
      "metadata": {
        "colab": {
          "base_uri": "https://localhost:8080/",
          "height": 466
        },
        "id": "IR2oivvATG0A",
        "outputId": "d393730c-8cba-43bc-a8d7-dab841eb29dd"
      },
      "execution_count": 8,
      "outputs": [
        {
          "output_type": "execute_result",
          "data": {
            "text/plain": [
              "Text(0, 0.5, 'Loss')"
            ]
          },
          "metadata": {},
          "execution_count": 8
        },
        {
          "output_type": "display_data",
          "data": {
            "text/plain": [
              "<Figure size 640x480 with 1 Axes>"
            ],
            "image/png": "[encoded data removed]"
          },
          "metadata": {}
        }
      ]
    },
    {
      "cell_type": "code",
      "source": [
        "loss.item()"
      ],
      "metadata": {
        "colab": {
          "base_uri": "https://localhost:8080/"
        },
        "id": "Ly4c0omXUw-d",
        "outputId": "37f528fa-f1b1-495e-bc67-f5026a6293f9"
      },
      "execution_count": 7,
      "outputs": [
        {
          "output_type": "execute_result",
          "data": {
            "text/plain": [
              "0.036421824246644974"
            ]
          },
          "metadata": {},
          "execution_count": 7
        }
      ]
    },
    {
      "cell_type": "code",
      "source": [
        "# inference\n",
        "\n",
        "model.eval()\n",
        "with torch.no_grad():\n",
        "  test_preds = model(X_test_tensor)\n",
        "  logits, preds = torch.max(test_preds, 1)\n",
        "  preds = preds.detach().numpy()"
      ],
      "metadata": {
        "id": "6VzwPbj7UyM0"
      },
      "execution_count": 26,
      "outputs": []
    },
    {
      "cell_type": "code",
      "source": [
        "print(f\"f1 score: {f1_score(y_test, preds, average = 'weighted')}\")"
      ],
      "metadata": {
        "colab": {
          "base_uri": "https://localhost:8080/"
        },
        "id": "M44Ziz5gWcqL",
        "outputId": "4568b51d-40ca-478b-b52b-1157a8e69fa0"
      },
      "execution_count": 28,
      "outputs": [
        {
          "output_type": "stream",
          "name": "stdout",
          "text": [
            "f1 score: 0.9665831244778613\n"
          ]
        }
      ]
    },
    {
      "cell_type": "code",
      "source": [
        "# classification report\n",
        "\n",
        "print(classification_report(y_test, preds))"
      ],
      "metadata": {
        "colab": {
          "base_uri": "https://localhost:8080/"
        },
        "id": "60Xv_friXKXo",
        "outputId": "2413e8c9-fa2b-428e-8710-5ed366fbbdc4"
      },
      "execution_count": 29,
      "outputs": [
        {
          "output_type": "stream",
          "name": "stdout",
          "text": [
            "              precision    recall  f1-score   support\n",
            "\n",
            "           0       1.00      1.00      1.00        10\n",
            "           1       1.00      0.90      0.95        10\n",
            "           2       0.91      1.00      0.95        10\n",
            "\n",
            "    accuracy                           0.97        30\n",
            "   macro avg       0.97      0.97      0.97        30\n",
            "weighted avg       0.97      0.97      0.97        30\n",
            "\n"
          ]
        }
      ]
    },
    {
      "cell_type": "code",
      "source": [
        "sns.heatmap(data = confusion_matrix(y_test, preds), annot = True, fmt = 'd',\n",
        "            cbar = 'False')"
      ],
      "metadata": {
        "colab": {
          "base_uri": "https://localhost:8080/",
          "height": 452
        },
        "id": "kElAsIBGXlH_",
        "outputId": "85fc06fe-2e19-4923-9fed-72b3de2177f3"
      },
      "execution_count": 30,
      "outputs": [
        {
          "output_type": "execute_result",
          "data": {
            "text/plain": [
              "<Axes: >"
            ]
          },
          "metadata": {},
          "execution_count": 30
        },
        {
          "output_type": "display_data",
          "data": {
            "text/plain": [
              "<Figure size 640x480 with 2 Axes>"
            ],
            "image/png": "[encoded data removed]"
          },
          "metadata": {}
        }
      ]
    },
    {
      "cell_type": "code",
      "source": [],
      "metadata": {
        "id": "GLa2R58lYMcs"
      },
      "execution_count": null,
      "outputs": []
    }
  ]
}