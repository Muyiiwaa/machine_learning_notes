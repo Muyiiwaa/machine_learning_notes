{
  "nbformat": 4,
  "nbformat_minor": 0,
  "metadata": {
    "colab": {
      "provenance": [],
      "authorship_tag": "ABX9TyPfnhXhPUTg1gKo+WdnP4v8",
      "include_colab_link": true
    },
    "kernelspec": {
      "name": "python3",
      "display_name": "Python 3"
    },
    "language_info": {
      "name": "python"
    }
  },
  "cells": [
    {
      "cell_type": "markdown",
      "metadata": {
        "id": "view-in-github",
        "colab_type": "text"
      },
      "source": [
        "<a href=\"https://colab.research.google.com/github/Muyiiwaa/machine_learning_notes/blob/master/multilayer_perceptron.ipynb\" target=\"_parent\"><img src=\"https://colab.research.google.com/assets/colab-badge.svg\" alt=\"Open In Colab\"/></a>"
      ]
    },
    {
      "cell_type": "markdown",
      "source": [
        "### REGRESSION NEURAL NETWORK"
      ],
      "metadata": {
        "id": "mYyKkOK2C79S"
      }
    },
    {
      "cell_type": "code",
      "source": [
        "import torch\n",
        "import numpy as np\n",
        "from torch import nn, optim\n",
        "\n",
        "from sklearn.datasets import load_diabetes\n",
        "from sklearn.model_selection import train_test_split\n",
        "from sklearn.metrics import root_mean_squared_error"
      ],
      "metadata": {
        "id": "AjJuQ3CLDHPB"
      },
      "execution_count": 5,
      "outputs": []
    },
    {
      "cell_type": "code",
      "source": [
        "# simple differentiation with pytorch\n",
        "x = torch.tensor(data = 4.0, dtype = torch.float32, requires_grad=True)\n",
        "y = torch.tensor(data = 3.0, dtype = torch.float32, requires_grad=True)\n",
        "\n",
        "f = 3 * x ** 2 + 5 * x + 6 + 2 * y\n",
        "\n",
        "f.backward()\n",
        "\n",
        "print(x.grad)\n",
        "y.grad"
      ],
      "metadata": {
        "colab": {
          "base_uri": "https://localhost:8080/"
        },
        "id": "lkEMWstqDWZb",
        "outputId": "d906a879-f690-419d-83bb-12cf098364e0"
      },
      "execution_count": 6,
      "outputs": [
        {
          "output_type": "stream",
          "name": "stdout",
          "text": [
            "tensor(29.)\n"
          ]
        },
        {
          "output_type": "execute_result",
          "data": {
            "text/plain": [
              "tensor(2.)"
            ]
          },
          "metadata": {},
          "execution_count": 6
        }
      ]
    },
    {
      "cell_type": "code",
      "source": [
        "# prepare the dataset\n",
        "\n",
        "X = load_diabetes()['data']\n",
        "y = load_diabetes()['target']\n",
        "\n",
        "# split the dataset\n",
        "X_train, X_test, y_train, y_test = train_test_split(X, y, test_size = 0.2, random_state = 23)\n",
        "\n",
        "# convert all the arrays to tensors\n",
        "\n",
        "X_train_tensor = torch.tensor(data = X_train, dtype = torch.float32)\n",
        "X_test_tensor = torch.tensor(data = X_test, dtype = torch.float32)\n",
        "y_train_tensor = torch.tensor(data = y_train, dtype = torch.float32).view(-1, 1)\n",
        "y_test_tensor = torch.tensor(data = y_test, dtype = torch.float32).view(-1, 1)"
      ],
      "metadata": {
        "id": "4Knv3QpcFdR2"
      },
      "execution_count": 12,
      "outputs": []
    },
    {
      "cell_type": "markdown",
      "source": [],
      "metadata": {
        "id": "qYuDmzeeIimt"
      }
    },
    {
      "cell_type": "code",
      "source": [
        "# define the neural net architecture\n",
        "\n",
        "class Diabetes_NN(nn.Module):\n",
        "\n",
        "  # define the constructor\n",
        "  def __init__(self, input_dim: int) -> None:\n",
        "    super().__init__()\n",
        "    self.fc1 = nn.Linear(in_features=input_dim, out_features=900)\n",
        "    self.fc2 = nn.Linear(in_features=900, out_features=500)\n",
        "    self.fc3 = nn.Linear(in_features=500, out_features=250)\n",
        "    self.fc4 = nn.Linear(in_features=250, out_features=50)\n",
        "    self.out = nn.Linear(in_features=50, out_features= 1)\n",
        "    self.relu = nn.ReLU()\n",
        "\n",
        "  def forward(self, X:torch.Tensor):\n",
        "    result = self.fc1(X)\n",
        "    result = self.relu(result)\n",
        "    result = self.relu(self.fc2(result))\n",
        "    result = self.relu(self.fc3(result))\n",
        "    result = self.relu(self.fc4(result))\n",
        "    result = self.out(result)\n",
        "\n",
        "    return result"
      ],
      "metadata": {
        "id": "IceawWcvIiDg"
      },
      "execution_count": 50,
      "outputs": []
    },
    {
      "cell_type": "code",
      "source": [
        "# step 3: Initialize the model and the model hyper-parameters\n",
        "model = Diabetes_NN(input_dim=X_train.shape[1])\n",
        "criterion = nn.MSELoss()\n",
        "optimizer = optim.Adam(params = model.parameters(), lr = 0.0001)\n",
        "EPOCHS = 5000"
      ],
      "metadata": {
        "id": "AdEh_HtLIQVh"
      },
      "execution_count": 51,
      "outputs": []
    },
    {
      "cell_type": "code",
      "source": [
        "# step 4: set up the training loop\n",
        "\n",
        "model.train()\n",
        "for epoch in range(EPOCHS):\n",
        "  # forward pass\n",
        "  train_preds = model(X_train_tensor)\n",
        "  loss = criterion(train_preds, y_train_tensor)\n",
        "\n",
        "  # back propagation\n",
        "  optimizer.zero_grad()\n",
        "  loss.backward()\n",
        "  optimizer.step()\n",
        "\n",
        "  if epoch % 1000 == 0:\n",
        "    print(f'epoch: {(epoch/1000) + 1}/{EPOCHS/1000}.....LOSS: {loss.item()}')"
      ],
      "metadata": {
        "colab": {
          "base_uri": "https://localhost:8080/"
        },
        "id": "XP0cXj28MqR3",
        "outputId": "d8221b0a-f275-49f6-c4d6-5b6adc4f93d6"
      },
      "execution_count": 52,
      "outputs": [
        {
          "output_type": "stream",
          "name": "stdout",
          "text": [
            "epoch: 1.0/5.0.....LOSS: 27716.220703125\n",
            "epoch: 2.0/5.0.....LOSS: 3008.132080078125\n",
            "epoch: 3.0/5.0.....LOSS: 2606.08642578125\n",
            "epoch: 4.0/5.0.....LOSS: 2309.51318359375\n",
            "epoch: 5.0/5.0.....LOSS: 1671.867431640625\n"
          ]
        }
      ]
    },
    {
      "cell_type": "code",
      "source": [
        "loss.item() ** 0.5"
      ],
      "metadata": {
        "colab": {
          "base_uri": "https://localhost:8080/"
        },
        "id": "5eYEaz01VZbB",
        "outputId": "7691e7ce-d71b-416e-c490-0baa690ea084"
      },
      "execution_count": 57,
      "outputs": [
        {
          "output_type": "execute_result",
          "data": {
            "text/plain": [
              "27.153539313791583"
            ]
          },
          "metadata": {},
          "execution_count": 57
        }
      ]
    },
    {
      "cell_type": "code",
      "source": [
        "# step 5. get evaluation\n",
        "\n",
        "model.eval()\n",
        "with torch.no_grad():\n",
        "  test_preds = model(X_test_tensor)\n",
        "  test_preds = test_preds.squeeze(1)\n",
        "  test_preds = test_preds.detach().numpy()"
      ],
      "metadata": {
        "id": "TTSxa2FaNMbw"
      },
      "execution_count": 54,
      "outputs": []
    },
    {
      "cell_type": "code",
      "source": [
        "print(root_mean_squared_error(y_test, test_preds))"
      ],
      "metadata": {
        "colab": {
          "base_uri": "https://localhost:8080/"
        },
        "id": "dZbNrnGnRrRb",
        "outputId": "2209f589-f3b1-4c88-909b-434512a48daa"
      },
      "execution_count": 55,
      "outputs": [
        {
          "output_type": "stream",
          "name": "stdout",
          "text": [
            "67.23359315984835\n"
          ]
        }
      ]
    },
    {
      "cell_type": "markdown",
      "source": [
        "###  CLASSIFICATION"
      ],
      "metadata": {
        "id": "p3drifhzUltX"
      }
    },
    {
      "cell_type": "code",
      "source": [
        "import torch\n",
        "import numpy as np\n",
        "from torch import nn, optim\n",
        "\n",
        "from sklearn.datasets import load_iris\n",
        "from sklearn.model_selection import train_test_split\n",
        "from sklearn.metrics import f1_score,classification_report"
      ],
      "metadata": {
        "id": "w_Bo_LBbTe1P"
      },
      "execution_count": 92,
      "outputs": []
    },
    {
      "cell_type": "code",
      "source": [
        "# prepare the dataset\n",
        "\n",
        "X = load_iris()['data']\n",
        "y = load_iris()['target']\n",
        "\n",
        "# split the dataset\n",
        "X_train, X_test, y_train, y_test = train_test_split(X, y, test_size = 0.2, random_state = 23,\n",
        "                                                    stratify=y)\n",
        "\n",
        "# convert all the arrays to tensors\n",
        "\n",
        "X_train_tensor = torch.tensor(data = X_train, dtype = torch.float32)\n",
        "X_test_tensor = torch.tensor(data = X_test, dtype = torch.float32)\n",
        "y_train_tensor = torch.tensor(data = y_train, dtype = torch.long)\n",
        "y_test_tensor = torch.tensor(data = y_test, dtype = torch.long)"
      ],
      "metadata": {
        "id": "WKiaRnfzU3RL"
      },
      "execution_count": 58,
      "outputs": []
    },
    {
      "cell_type": "code",
      "source": [
        "# define the neural net architecture\n",
        "\n",
        "class Flower_NN(nn.Module):\n",
        "\n",
        "  # define the constructor\n",
        "  def __init__(self, input_dim: int) -> None:\n",
        "    super().__init__()\n",
        "    self.fc1 = nn.Linear(in_features=input_dim, out_features=600)\n",
        "    self.fc2 = nn.Linear(in_features=600, out_features=300)\n",
        "    self.fc3 = nn.Linear(in_features=300, out_features=150)\n",
        "    self.fc4 = nn.Linear(in_features=150, out_features=50)\n",
        "    self.out = nn.Linear(in_features=50, out_features= 3)\n",
        "    self.relu = nn.ReLU()\n",
        "\n",
        "  def forward(self, X:torch.Tensor):\n",
        "    result = self.fc1(X)\n",
        "    result = self.relu(result)\n",
        "    result = self.relu(self.fc2(result))\n",
        "    result = self.relu(self.fc3(result))\n",
        "    result = self.relu(self.fc4(result))\n",
        "    result = self.out(result)\n",
        "\n",
        "    return result"
      ],
      "metadata": {
        "id": "vZkt_6kVV0uP"
      },
      "execution_count": 62,
      "outputs": []
    },
    {
      "cell_type": "code",
      "source": [
        "# step 3: Initialize the model and the model hyper-parameters\n",
        "model = Flower_NN(input_dim=X_train.shape[1])\n",
        "criterion = nn.CrossEntropyLoss()\n",
        "optimizer = optim.Adam(params = model.parameters(), lr = 0.0001)\n",
        "EPOCHS = 5000"
      ],
      "metadata": {
        "id": "NhqVNNQpV4ba"
      },
      "execution_count": 63,
      "outputs": []
    },
    {
      "cell_type": "code",
      "source": [
        "# step 4: set up the training loop\n",
        "\n",
        "model.train()\n",
        "for epoch in range(EPOCHS):\n",
        "  # forward pass\n",
        "  train_preds = model(X_train_tensor)\n",
        "  loss = criterion(train_preds, y_train_tensor)\n",
        "\n",
        "  # back propagation\n",
        "  optimizer.zero_grad()\n",
        "  loss.backward()\n",
        "  optimizer.step()\n",
        "\n",
        "  if epoch % 1000 == 0:\n",
        "    print(f'epoch: {(epoch/1000) + 1}/{EPOCHS/1000}.....LOSS: {loss.item()}')"
      ],
      "metadata": {
        "colab": {
          "base_uri": "https://localhost:8080/"
        },
        "id": "F-ADq_4CV6PE",
        "outputId": "f72cff92-ab11-4475-c183-06146039e983"
      },
      "execution_count": 64,
      "outputs": [
        {
          "output_type": "stream",
          "name": "stdout",
          "text": [
            "epoch: 1.0/5.0.....LOSS: 1.100999116897583\n",
            "epoch: 2.0/5.0.....LOSS: 0.03135601431131363\n",
            "epoch: 3.0/5.0.....LOSS: 0.006266219075769186\n",
            "epoch: 4.0/5.0.....LOSS: 0.0006185732781887054\n",
            "epoch: 5.0/5.0.....LOSS: 0.0001516809716122225\n"
          ]
        }
      ]
    },
    {
      "cell_type": "code",
      "source": [
        "# step 5. get evaluation\n",
        "\n",
        "model.eval()\n",
        "with torch.no_grad():\n",
        "  test_preds = model(X_test_tensor)\n",
        "  test_logits, test_preds = torch.max(test_preds, 1)\n",
        "  test_preds = test_preds.detach().numpy()\n",
        "\n",
        "\n",
        "\n",
        "print(classification_report(y_test, test_preds))"
      ],
      "metadata": {
        "colab": {
          "base_uri": "https://localhost:8080/"
        },
        "id": "C-AQnBZRXRH6",
        "outputId": "c91f3750-654f-400f-986f-d1036352d4bc"
      },
      "execution_count": 94,
      "outputs": [
        {
          "output_type": "stream",
          "name": "stdout",
          "text": [
            "              precision    recall  f1-score   support\n",
            "\n",
            "           0       1.00      1.00      1.00        10\n",
            "           1       1.00      1.00      1.00        10\n",
            "           2       1.00      1.00      1.00        10\n",
            "\n",
            "    accuracy                           1.00        30\n",
            "   macro avg       1.00      1.00      1.00        30\n",
            "weighted avg       1.00      1.00      1.00        30\n",
            "\n"
          ]
        }
      ]
    },
    {
      "cell_type": "code",
      "source": [
        "y_test_tensor"
      ],
      "metadata": {
        "colab": {
          "base_uri": "https://localhost:8080/"
        },
        "id": "Pjo5gKs-Xhlq",
        "outputId": "0cf96bd3-aa85-4df0-d1b8-0469f751a663"
      },
      "execution_count": 65,
      "outputs": [
        {
          "output_type": "execute_result",
          "data": {
            "text/plain": [
              "tensor([0, 0, 0, 1, 2, 1, 2, 1, 0, 2, 1, 2, 0, 2, 2, 1, 2, 1, 1, 2, 0, 2, 2, 0,\n",
              "        0, 0, 0, 1, 1, 1])"
            ]
          },
          "metadata": {},
          "execution_count": 65
        }
      ]
    },
    {
      "cell_type": "code",
      "source": [
        "test_preds[:5]"
      ],
      "metadata": {
        "colab": {
          "base_uri": "https://localhost:8080/"
        },
        "id": "zL-X6exTYx8K",
        "outputId": "d52b1cd1-b41a-476d-dff4-ec2f8dd96119"
      },
      "execution_count": 75,
      "outputs": [
        {
          "output_type": "execute_result",
          "data": {
            "text/plain": [
              "tensor([[ 49.3684,  34.1302, -45.4770],\n",
              "        [ 47.0161,  32.8743, -43.5847],\n",
              "        [ 50.5941,  34.8095, -46.4815],\n",
              "        [  1.9646,  21.5952, -16.3325],\n",
              "        [-10.4851, -10.1355,  17.5664]])"
            ]
          },
          "metadata": {},
          "execution_count": 75
        }
      ]
    },
    {
      "cell_type": "code",
      "source": [
        "torch.max(test_preds, 1)"
      ],
      "metadata": {
        "colab": {
          "base_uri": "https://localhost:8080/"
        },
        "id": "FPiQpakLXjfN",
        "outputId": "32c53749-6a80-4336-cb08-5c0b9487da48"
      },
      "execution_count": 73,
      "outputs": [
        {
          "output_type": "execute_result",
          "data": {
            "text/plain": [
              "torch.return_types.max(\n",
              "values=tensor([49.3684, 47.0161, 50.5941, 21.5952, 17.5664, 18.0786, 13.4516, 21.1595,\n",
              "        46.0909, 17.5906, 12.1758,  8.6851, 50.9490, 10.2815,  5.5728, 22.1788,\n",
              "         5.4056, 21.7586, 14.0211, 15.1917, 50.9421,  6.4043, 18.4930, 45.8903,\n",
              "        47.1235, 50.7822, 44.6392, 21.6050, 20.6353,  7.1746]),\n",
              "indices=tensor([0, 0, 0, 1, 2, 1, 2, 1, 0, 2, 1, 2, 0, 2, 2, 1, 2, 1, 1, 2, 0, 2, 2, 0,\n",
              "        0, 0, 0, 1, 1, 1]))"
            ]
          },
          "metadata": {},
          "execution_count": 73
        }
      ]
    },
    {
      "cell_type": "code",
      "source": [
        "model.eval()\n",
        "with torch.no_grad():\n",
        "  test_preds = model(X_test_tensor)\n",
        "\n",
        "test_preds[:5]"
      ],
      "metadata": {
        "colab": {
          "base_uri": "https://localhost:8080/"
        },
        "id": "cfIV2I7kcAVb",
        "outputId": "c5308c60-db1a-4e6e-b3dc-8d7d7775dd47"
      },
      "execution_count": 101,
      "outputs": [
        {
          "output_type": "execute_result",
          "data": {
            "text/plain": [
              "tensor([[ 49.3684,  34.1302, -45.4770],\n",
              "        [ 47.0161,  32.8743, -43.5847],\n",
              "        [ 50.5941,  34.8095, -46.4815],\n",
              "        [  1.9646,  21.5952, -16.3325],\n",
              "        [-10.4851, -10.1355,  17.5664]])"
            ]
          },
          "metadata": {},
          "execution_count": 101
        }
      ]
    },
    {
      "cell_type": "code",
      "source": [
        "softmax = nn.Softmax()"
      ],
      "metadata": {
        "id": "qVbPqxjkYdjg"
      },
      "execution_count": 76,
      "outputs": []
    },
    {
      "cell_type": "code",
      "source": [
        "softmax(test_preds)[:5]"
      ],
      "metadata": {
        "colab": {
          "base_uri": "https://localhost:8080/"
        },
        "id": "V3kPeqzmZZuR",
        "outputId": "dee6c9e4-4e43-4d1a-eb0f-60ba76d21aba"
      },
      "execution_count": 102,
      "outputs": [
        {
          "output_type": "stream",
          "name": "stderr",
          "text": [
            "/usr/local/lib/python3.11/dist-packages/torch/nn/modules/module.py:1736: UserWarning: Implicit dimension choice for softmax has been deprecated. Change the call to include dim=X as an argument.\n",
            "  return self._call_impl(*args, **kwargs)\n"
          ]
        },
        {
          "output_type": "execute_result",
          "data": {
            "text/plain": [
              "tensor([[1.0000e+00, 2.4106e-07, 6.4446e-42],\n",
              "        [1.0000e+00, 7.2157e-07, 4.4932e-40],\n",
              "        [1.0000e+00, 1.3958e-07, 6.9224e-43],\n",
              "        [2.9823e-09, 1.0000e+00, 3.3744e-17],\n",
              "        [6.5673e-13, 9.3157e-13, 1.0000e+00]])"
            ]
          },
          "metadata": {},
          "execution_count": 102
        }
      ]
    },
    {
      "cell_type": "code",
      "source": [
        "test_logits"
      ],
      "metadata": {
        "colab": {
          "base_uri": "https://localhost:8080/"
        },
        "id": "ZH-VXXwzZc-l",
        "outputId": "ab0d7ff1-592c-4af0-dba2-64c5a56a2777"
      },
      "execution_count": 99,
      "outputs": [
        {
          "output_type": "execute_result",
          "data": {
            "text/plain": [
              "tensor([49.3684, 47.0161, 50.5941, 21.5952, 17.5664, 18.0786, 13.4516, 21.1595,\n",
              "        46.0909, 17.5906, 12.1758,  8.6851, 50.9490, 10.2815,  5.5728, 22.1788,\n",
              "         5.4056, 21.7586, 14.0211, 15.1917, 50.9421,  6.4043, 18.4930, 45.8903,\n",
              "        47.1235, 50.7822, 44.6392, 21.6050, 20.6353,  7.1746])"
            ]
          },
          "metadata": {},
          "execution_count": 99
        }
      ]
    },
    {
      "cell_type": "code",
      "source": [],
      "metadata": {
        "id": "pnSqecfXb6VQ"
      },
      "execution_count": null,
      "outputs": []
    }
  ]
}