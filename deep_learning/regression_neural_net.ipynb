{
  "nbformat": 4,
  "nbformat_minor": 0,
  "metadata": {
    "colab": {
      "provenance": []
    },
    "kernelspec": {
      "name": "python3",
      "display_name": "Python 3"
    },
    "language_info": {
      "name": "python"
    }
  },
  "cells": [
    {
      "cell_type": "code",
      "execution_count": 1,
      "metadata": {
        "id": "Lltvzm4Qj5mb"
      },
      "outputs": [],
      "source": [
        "import torch\n",
        "import numpy as np\n",
        "from torch import nn\n",
        "from torch import optim\n",
        "\n",
        "from sklearn.datasets import load_diabetes\n",
        "from sklearn.metrics import root_mean_squared_error\n",
        "from sklearn.model_selection import train_test_split\n",
        "\n",
        "import seaborn as sns\n",
        "import matplotlib.pyplot as plt"
      ]
    },
    {
      "cell_type": "code",
      "source": [
        "# load the dataset\n",
        "X = load_diabetes()['data']\n",
        "y = load_diabetes()['target']\n",
        "\n",
        "# split the dataset\n",
        "X_train, X_test, y_train, y_test = train_test_split(X,y, test_size = 0.2, random_state=23)"
      ],
      "metadata": {
        "id": "sepRzUXekwS1"
      },
      "execution_count": 2,
      "outputs": []
    },
    {
      "cell_type": "code",
      "source": [
        "type(X_train)"
      ],
      "metadata": {
        "colab": {
          "base_uri": "https://localhost:8080/"
        },
        "id": "cCZxROOulT9K",
        "outputId": "d298ddd9-c01b-4212-f00f-98b453568dda"
      },
      "execution_count": 3,
      "outputs": [
        {
          "output_type": "execute_result",
          "data": {
            "text/plain": [
              "numpy.ndarray"
            ]
          },
          "metadata": {},
          "execution_count": 3
        }
      ]
    },
    {
      "cell_type": "markdown",
      "source": [
        "y = 3x^2 + 5x + 6 where x = 2"
      ],
      "metadata": {
        "id": "y5Q-uhz3l6pa"
      }
    },
    {
      "cell_type": "code",
      "source": [
        "x = torch.tensor(data = 2.0, requires_grad=True)\n",
        "\n",
        "y = 3 * x ** 2 + 5 * x + 6\n",
        "\n",
        "y.backward()\n",
        "\n",
        "print(f'The derivative of y with respect to x at x = 2 is {x.grad}')"
      ],
      "metadata": {
        "colab": {
          "base_uri": "https://localhost:8080/"
        },
        "id": "R58UE-mSlZ6v",
        "outputId": "d763ba38-96f2-4ab5-93fc-37402d10fbd6"
      },
      "execution_count": 4,
      "outputs": [
        {
          "output_type": "stream",
          "name": "stdout",
          "text": [
            "The derivative of y with respect to x at x = 2 is 17.0\n"
          ]
        }
      ]
    },
    {
      "cell_type": "code",
      "source": [
        "# convert all the data to tensor\n",
        "\n",
        "X_train_tensor = torch.tensor(data = X_train, dtype=torch.float32)\n",
        "X_test_tensor = torch.tensor(data = X_test, dtype=torch.float32)\n",
        "y_train_tensor = torch.tensor(data = y_train, dtype=torch.float32)\n",
        "y_test_tensor = torch.tensor(data = y_test, dtype=torch.float32)\n",
        "\n",
        "type(X_train_tensor)"
      ],
      "metadata": {
        "colab": {
          "base_uri": "https://localhost:8080/"
        },
        "id": "KviYinz8lr6K",
        "outputId": "0ef3f706-bc94-431a-8c0c-2ba77af4442e"
      },
      "execution_count": 5,
      "outputs": [
        {
          "output_type": "execute_result",
          "data": {
            "text/plain": [
              "torch.Tensor"
            ]
          },
          "metadata": {},
          "execution_count": 5
        }
      ]
    },
    {
      "cell_type": "code",
      "source": [
        "# convert the ys columnwise\n",
        "\n",
        "y_train_tensor = y_train_tensor.unsqueeze(1)\n",
        "y_test_tensor = y_test_tensor.unsqueeze(1)"
      ],
      "metadata": {
        "id": "n8dBjqbonNab"
      },
      "execution_count": 7,
      "outputs": []
    },
    {
      "cell_type": "code",
      "source": [
        "# create the graph\n",
        "\n",
        "class Diabetes(nn.Module):\n",
        "\n",
        "  def __init__(self, input_dim: int) -> None:\n",
        "    super().__init__()\n",
        "    self.fc1 = nn.Linear(in_features=input_dim, out_features=500)\n",
        "    self.fc2 = nn.Linear(in_features=500, out_features= 250)\n",
        "    self.out = nn.Linear(in_features=250, out_features= 1)\n",
        "    self.relu = nn.ReLU()\n",
        "\n",
        "  def forward(self, X: torch.tensor):\n",
        "\n",
        "    result = self.relu(self.fc1(X))\n",
        "    result = self.relu(self.fc2(result))\n",
        "    result = self.out(result)\n",
        "\n",
        "    return result"
      ],
      "metadata": {
        "id": "vZtmR1nSnZ8O"
      },
      "execution_count": 19,
      "outputs": []
    },
    {
      "cell_type": "code",
      "source": [
        "# init the model and hyperparameters\n",
        "\n",
        "model = Diabetes(input_dim = X_train.shape[1]) # init the model\n",
        "optimizer = optim.Adam(params = model.parameters(), lr = 1e-4)\n",
        "EPOCHS = 5000\n",
        "criterion = nn.MSELoss()"
      ],
      "metadata": {
        "id": "sNpERLidqTms"
      },
      "execution_count": 20,
      "outputs": []
    },
    {
      "cell_type": "code",
      "source": [
        "# begin the training loop\n",
        "\n",
        "loss_tracker = []\n",
        "model.train() # model in train mode\n",
        "\n",
        "for epoch in range(EPOCHS):\n",
        "  # forward pass\n",
        "  train_preds = model(X_train_tensor)\n",
        "  loss = criterion(train_preds, y_train_tensor)\n",
        "\n",
        "  # back propragaation\n",
        "  optimizer.zero_grad()\n",
        "  loss.backward()\n",
        "  optimizer.step()\n",
        "  loss_tracker.append(loss.item())\n",
        "\n",
        "  if epoch % 1000 == 0:\n",
        "    print(f'Epoch: {(epoch // 1000) + 1}.........Loss: {loss.item()}')"
      ],
      "metadata": {
        "colab": {
          "base_uri": "https://localhost:8080/"
        },
        "id": "n9VHdpc0qgWF",
        "outputId": "2523a39a-eb46-4b12-e93a-2c2ea305aabb"
      },
      "execution_count": 21,
      "outputs": [
        {
          "output_type": "stream",
          "name": "stdout",
          "text": [
            "Epoch: 1.........Loss: 27676.986328125\n",
            "Epoch: 2.........Loss: 4297.95556640625\n",
            "Epoch: 3.........Loss: 3478.423828125\n",
            "Epoch: 4.........Loss: 3079.1220703125\n",
            "Epoch: 5.........Loss: 2891.636474609375\n"
          ]
        }
      ]
    },
    {
      "cell_type": "code",
      "source": [
        "# inference on the test set\n",
        "\n",
        "model.eval()\n",
        "with torch.no_grad():\n",
        "  test_preds = model(X_test_tensor)\n",
        "  test_preds = test_preds.squeeze()\n",
        "\n",
        "\n",
        "print(f'test_rmse: {root_mean_squared_error(y_test, test_preds)}')"
      ],
      "metadata": {
        "colab": {
          "base_uri": "https://localhost:8080/"
        },
        "id": "6YEUblNwvUJu",
        "outputId": "c3e70956-634a-42d1-8c93-d75aa07cfef9"
      },
      "execution_count": 26,
      "outputs": [
        {
          "output_type": "stream",
          "name": "stdout",
          "text": [
            "test_rmse: 56.56563091660001\n"
          ]
        }
      ]
    },
    {
      "cell_type": "code",
      "source": [
        "sns.set_style('darkgrid')\n",
        "\n",
        "\n",
        "plt.plot(list(range(5000)), loss_tracker)\n",
        "plt.xlabel('Number of Epochs')\n",
        "plt.ylabel('Loss')"
      ],
      "metadata": {
        "colab": {
          "base_uri": "https://localhost:8080/",
          "height": 466
        },
        "id": "7XwAS3YMqiKt",
        "outputId": "c4e037ea-3851-4e2c-8117-0223a515ebdc"
      },
      "execution_count": 23,
      "outputs": [
        {
          "output_type": "execute_result",
          "data": {
            "text/plain": [
              "Text(0, 0.5, 'Loss')"
            ]
          },
          "metadata": {},
          "execution_count": 23
        },
        {
          "output_type": "display_data",
          "data": {
            "text/plain": [
              "<Figure size 640x480 with 1 Axes>"
            ],
            "image/png": "[encoded data removed]"
          },
          "metadata": {}
        }
      ]
    },
    {
      "cell_type": "code",
      "source": [],
      "metadata": {
        "id": "qwiFNFr8txSw"
      },
      "execution_count": null,
      "outputs": []
    }
  ]
}