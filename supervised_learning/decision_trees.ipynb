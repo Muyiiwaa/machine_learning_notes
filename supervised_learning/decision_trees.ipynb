{
 "cells": [
  {
   "cell_type": "code",
   "execution_count": 2,
   "metadata": {},
   "outputs": [],
   "source": [
    "import pandas as pd\n",
    "import numpy as np\n",
    "\n",
    "from sklearn.tree import DecisionTreeClassifier, DecisionTreeRegressor\n",
    "from sklearn.model_selection import train_test_split\n",
    "from sklearn.metrics import f1_score, root_mean_squared_error,classification_report\n",
    "from sklearn.datasets import load_breast_cancer,load_diabetes"
   ]
  },
  {
   "cell_type": "markdown",
   "metadata": {},
   "source": [
    "#### Regression Tree Model"
   ]
  },
  {
   "cell_type": "code",
   "execution_count": 19,
   "metadata": {},
   "outputs": [],
   "source": [
    "# load the sample datasets\n",
    "X = load_diabetes(as_frame=True)['data']\n",
    "y = load_diabetes()['target']\n",
    "\n",
    "#split the dataset\n",
    "def split_data(X:pd.DataFrame, y:np.array, stratify = None) -> tuple:\n",
    "    if stratify is None:\n",
    "        X_train, X_test, y_train, y_test = train_test_split(X, y, test_size=0.2, \n",
    "                                                        random_state=23)\n",
    "    else:\n",
    "        X_train, X_test, y_train, y_test = train_test_split(X, y, test_size=0.2, \n",
    "                                                        random_state=23, stratify=stratify)\n",
    "            \n",
    "    return X_train, X_test, y_train, y_test\n",
    "\n",
    "X_train, X_test, y_train, y_test = split_data(X, y)"
   ]
  },
  {
   "cell_type": "code",
   "execution_count": 10,
   "metadata": {},
   "outputs": [
    {
     "name": "stdout",
     "output_type": "stream",
     "text": [
      "train_rmse: 43.81506564007509\n",
      "test_rmse: 72.65870382003756\n"
     ]
    }
   ],
   "source": [
    "# train the model\n",
    "model = DecisionTreeRegressor(max_depth=5, criterion='squared_error')\n",
    "model.fit(X_train, y_train)\n",
    "train_preds = model.predict(X_train) # getting train prediction\n",
    "test_preds = model.predict(X_test) # getting test prediction\n",
    "\n",
    "# evaluation\n",
    "test_rmse = root_mean_squared_error(y_test, test_preds)\n",
    "train_rmse = root_mean_squared_error(y_train, train_preds)\n",
    "\n",
    "print(f'train_rmse: {train_rmse}')\n",
    "print(f'test_rmse: {test_rmse}')"
   ]
  },
  {
   "cell_type": "markdown",
   "metadata": {},
   "source": [
    "### Decision Trees Classifier"
   ]
  },
  {
   "cell_type": "code",
   "execution_count": 20,
   "metadata": {},
   "outputs": [],
   "source": [
    "X = load_breast_cancer(as_frame=True)['data']\n",
    "y = load_breast_cancer()['target']\n",
    "\n",
    "X_train, X_test, y_train, y_test = split_data(X, y, stratify=y)"
   ]
  },
  {
   "cell_type": "code",
   "execution_count": 37,
   "metadata": {},
   "outputs": [
    {
     "name": "stdout",
     "output_type": "stream",
     "text": [
      "Train F1 score: 0.9982425307557118\n",
      "Test F1 score: 0.9370629370629371\n"
     ]
    }
   ],
   "source": [
    "# model training\n",
    "model = DecisionTreeClassifier(max_depth=6, random_state=23,\n",
    "                               criterion='entropy', min_samples_split=5) # init the model\n",
    "model.fit(X_train, y_train) # fit the data to the model\n",
    "train_preds = model.predict(X_train) # get train prediction\n",
    "test_preds = model.predict(X_test) # get test prediction\n",
    "\n",
    "# evaluate model performance\n",
    "test_score = f1_score(y_test, test_preds)\n",
    "train_score = f1_score(y_train, train_preds)\n",
    "\n",
    "print(f'Train F1 score: {train_score}')\n",
    "print(f'Test F1 score: {test_score}')"
   ]
  },
  {
   "cell_type": "code",
   "execution_count": 38,
   "metadata": {},
   "outputs": [
    {
     "name": "stdout",
     "output_type": "stream",
     "text": [
      "===========Test Report ====================\n",
      "              precision    recall  f1-score   support\n",
      "\n",
      "           0       0.88      0.90      0.89        42\n",
      "           1       0.94      0.93      0.94        72\n",
      "\n",
      "    accuracy                           0.92       114\n",
      "   macro avg       0.91      0.92      0.92       114\n",
      "weighted avg       0.92      0.92      0.92       114\n",
      "\n",
      "===========Train Report ====================\n",
      "              precision    recall  f1-score   support\n",
      "\n",
      "           0       0.99      1.00      1.00       170\n",
      "           1       1.00      1.00      1.00       285\n",
      "\n",
      "    accuracy                           1.00       455\n",
      "   macro avg       1.00      1.00      1.00       455\n",
      "weighted avg       1.00      1.00      1.00       455\n",
      "\n"
     ]
    }
   ],
   "source": [
    "print('===========Test Report ====================')\n",
    "print(classification_report(y_test, test_preds))\n",
    "print('===========Train Report ====================')\n",
    "print(classification_report(y_train, train_preds))"
   ]
  },
  {
   "cell_type": "markdown",
   "metadata": {},
   "source": [
    "### Assignment\n",
    "\n",
    "Write a very good article on the following concepts in decision tree\n",
    "1. Entropy\n",
    "2. Gini\n",
    "3. Information Gain\n",
    "4. Overfitting in Tree algorithms\n",
    "\n",
    "Note: article should be atleast 100 words and at most 150."
   ]
  },
  {
   "cell_type": "code",
   "execution_count": null,
   "metadata": {},
   "outputs": [],
   "source": []
  }
 ],
 "metadata": {
  "kernelspec": {
   "display_name": "Python 3",
   "language": "python",
   "name": "python3"
  },
  "language_info": {
   "codemirror_mode": {
    "name": "ipython",
    "version": 3
   },
   "file_extension": ".py",
   "mimetype": "text/x-python",
   "name": "python",
   "nbconvert_exporter": "python",
   "pygments_lexer": "ipython3",
   "version": "3.12.0"
  }
 },
 "nbformat": 4,
 "nbformat_minor": 2
}
