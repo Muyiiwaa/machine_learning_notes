{
 "cells": [
  {
   "cell_type": "markdown",
   "id": "49f48498",
   "metadata": {},
   "source": [
    "### CROSS VALIDATION"
   ]
  },
  {
   "cell_type": "code",
   "execution_count": 1,
   "id": "5d232c4f",
   "metadata": {},
   "outputs": [],
   "source": [
    "import pandas as pd\n",
    "import numpy as np\n",
    "\n",
    "from sklearn.ensemble import RandomForestRegressor\n",
    "from sklearn.datasets import load_diabetes\n",
    "from sklearn.metrics import root_mean_squared_error\n",
    "from sklearn.model_selection import cross_val_score, KFold"
   ]
  },
  {
   "cell_type": "code",
   "execution_count": 2,
   "id": "9bac3731",
   "metadata": {},
   "outputs": [],
   "source": [
    "X = load_diabetes(as_frame=True)['data']\n",
    "y = load_diabetes()['target']"
   ]
  },
  {
   "cell_type": "markdown",
   "id": "95b8ab06",
   "metadata": {},
   "source": [
    "## Simple Cross Val_score"
   ]
  },
  {
   "cell_type": "code",
   "execution_count": 11,
   "id": "f81f619d",
   "metadata": {},
   "outputs": [
    {
     "name": "stdout",
     "output_type": "stream",
     "text": [
      "[CV] END .............................. score: (test=-61.336) total time=   0.7s\n",
      "[CV] END .............................. score: (test=-54.310) total time=   0.6s\n",
      "[CV] END .............................. score: (test=-56.690) total time=   0.3s\n",
      "[CV] END .............................. score: (test=-56.586) total time=   0.3s\n",
      "[CV] END .............................. score: (test=-60.699) total time=   0.4s\n",
      "[CV] END .............................. score: (test=-62.237) total time=   0.4s\n",
      "[CV] END .............................. score: (test=-56.959) total time=   0.4s\n",
      "[CV] END .............................. score: (test=-53.505) total time=   0.3s\n",
      "[CV] END .............................. score: (test=-70.570) total time=   0.3s\n",
      "[CV] END .............................. score: (test=-50.917) total time=   0.4s\n"
     ]
    },
    {
     "data": {
      "text/plain": [
       "58.381004649030636"
      ]
     },
     "execution_count": 11,
     "metadata": {},
     "output_type": "execute_result"
    }
   ],
   "source": [
    "regressor = RandomForestRegressor(random_state=23) # init the regressor\n",
    "final_rmse = -cross_val_score(estimator=regressor, X=X, y=y,\n",
    "                scoring=\"neg_root_mean_squared_error\", cv=10, n_jobs=1,\n",
    "                verbose= 5).mean()\n",
    "final_rmse"
   ]
  },
  {
   "cell_type": "markdown",
   "id": "41be4e81",
   "metadata": {},
   "source": [
    "### classification"
   ]
  },
  {
   "cell_type": "code",
   "execution_count": 21,
   "id": "c55633f5",
   "metadata": {},
   "outputs": [],
   "source": [
    "import pandas as pd\n",
    "import numpy as np\n",
    "\n",
    "from sklearn.ensemble import RandomForestClassifier\n",
    "from sklearn.datasets import load_breast_cancer\n",
    "from sklearn.metrics import root_mean_squared_error\n",
    "from sklearn.model_selection import cross_val_score, KFold"
   ]
  },
  {
   "cell_type": "code",
   "execution_count": 22,
   "id": "615ac27a",
   "metadata": {},
   "outputs": [],
   "source": [
    "X = load_breast_cancer(as_frame=True)['data']\n",
    "y = load_breast_cancer()['target']"
   ]
  },
  {
   "cell_type": "code",
   "execution_count": null,
   "id": "9d3ed09f",
   "metadata": {},
   "outputs": [
    {
     "name": "stdout",
     "output_type": "stream",
     "text": [
      "[CV] END ................................ score: (test=0.986) total time=   0.4s\n",
      "[CV] END ................................ score: (test=0.901) total time=   0.3s\n",
      "[CV] END ................................ score: (test=0.959) total time=   0.4s\n",
      "[CV] END ................................ score: (test=0.960) total time=   0.4s\n",
      "[CV] END ................................ score: (test=1.000) total time=   0.6s\n",
      "[CV] END ................................ score: (test=0.986) total time=   0.2s\n",
      "[CV] END ................................ score: (test=0.986) total time=   0.2s\n",
      "[CV] END ................................ score: (test=0.986) total time=   0.2s\n",
      "[CV] END ................................ score: (test=0.971) total time=   0.2s\n",
      "[CV] END ................................ score: (test=0.986) total time=   0.2s\n"
     ]
    },
    {
     "data": {
      "text/plain": [
       "0.9721273857159236"
      ]
     },
     "execution_count": 23,
     "metadata": {},
     "output_type": "execute_result"
    }
   ],
   "source": [
    "regressor = RandomForestClassifier(random_state=23) # init the regressor\n",
    "final_score = cross_val_score(estimator=regressor, X=X, y=y,\n",
    "                scoring=\"f1\", cv=10, n_jobs=1,\n",
    "                verbose= 3).mean()\n",
    "final_score"
   ]
  },
  {
   "cell_type": "markdown",
   "id": "2f8740c5",
   "metadata": {},
   "source": [
    "### KFOLD AND STRATIFIED KFOLD FROM SCRATCH"
   ]
  },
  {
   "cell_type": "code",
   "execution_count": 43,
   "id": "017c6c73",
   "metadata": {},
   "outputs": [
    {
     "name": "stdout",
     "output_type": "stream",
     "text": [
      "Completed Fold: 1/8.... test score: 0.946236559139785, train score: 0.9818780889621087\n",
      "Completed Fold: 2/8.... test score: 0.9438202247191011, train score: 0.9701986754966887\n",
      "Completed Fold: 3/8.... test score: 0.8888888888888888, train score: 0.9873817034700315\n",
      "Completed Fold: 4/8.... test score: 0.9195402298850575, train score: 0.9820554649265906\n",
      "Completed Fold: 5/8.... test score: 0.9397590361445783, train score: 0.9787928221859706\n",
      "Completed Fold: 6/8.... test score: 0.9111111111111111, train score: 0.9768211920529801\n",
      "Completed Fold: 7/8.... test score: 0.9382716049382716, train score: 0.9585406301824212\n",
      "Completed Fold: 8/8.... test score: 0.8941176470588236, train score: 0.9855072463768116\n",
      "scores: [0.946236559139785, 0.9438202247191011, 0.8888888888888888, 0.9195402298850575, 0.9397590361445783, 0.9111111111111111, 0.9382716049382716, 0.8941176470588236]\n",
      "============================================================\n",
      "final_score: 0.9227181627357022\n"
     ]
    }
   ],
   "source": [
    "from sklearn.metrics import f1_score\n",
    "\n",
    "# init the kfold object\n",
    "folds = 8\n",
    "fold = 1\n",
    "rfr_kfold = KFold(n_splits=folds, shuffle=True, random_state=23)\n",
    "scores = [] # track score list\n",
    "# init the model\n",
    "classifier = RandomForestClassifier(random_state=23, n_estimators=2)\n",
    "\n",
    "for train_index, test_index in rfr_kfold.split(X=X):\n",
    "    X_train, X_test = X.iloc[train_index], X.iloc[test_index]\n",
    "    y_train, y_test = y[train_index], y[test_index]\n",
    "    \n",
    "    # fit the model\n",
    "    classifier.fit(X_train, y_train)\n",
    "    test_preds = classifier.predict(X_test) # predict test\n",
    "    train_preds = classifier.predict(X_train)\n",
    "    score = f1_score(y_test, test_preds) # get the test score\n",
    "    train_score = f1_score(y_train, train_preds) # get the test score\n",
    "    scores.append(score) # update the scores\n",
    "    print(f'Completed Fold: {fold}/{folds}.... test score: {score}, train score: {train_score}')\n",
    "    fold += 1\n",
    "    \n",
    "    \n",
    "print(f'scores: {scores}')\n",
    "print('=' * 60)\n",
    "print(f'final_score: {sum(scores)/len(scores)}')"
   ]
  },
  {
   "cell_type": "code",
   "execution_count": null,
   "id": "973facd0",
   "metadata": {},
   "outputs": [
    {
     "name": "stdout",
     "output_type": "stream",
     "text": [
      "[CV] END ................................ score: (test=0.889) total time=   0.6s\n",
      "[CV] END ................................ score: (test=0.921) total time=   0.3s\n",
      "[CV] END ................................ score: (test=0.949) total time=   0.2s\n",
      "[CV] END ................................ score: (test=0.986) total time=   0.2s\n",
      "[CV] END ................................ score: (test=0.966) total time=   0.2s\n",
      "[CV] END ................................ score: (test=0.988) total time=   0.2s\n",
      "[CV] END ................................ score: (test=0.970) total time=   0.2s\n",
      "[CV] END ................................ score: (test=0.979) total time=   0.4s\n",
      "[CV] END ................................ score: (test=1.000) total time=   0.3s\n"
     ]
    },
    {
     "data": {
      "text/plain": [
       "0.9607395775699012"
      ]
     },
     "execution_count": 46,
     "metadata": {},
     "output_type": "execute_result"
    }
   ],
   "source": [
    "### COMBINING KFOLD WITH CROSS VALIDATION WITHOUT SHUFFLE\n",
    "\n",
    "rf_kfold = KFold(n_splits=9)\n",
    "\n",
    "regressor = RandomForestClassifier(random_state=23) # init the regressor\n",
    "final_score = cross_val_score(estimator=regressor, X=X, y=y,\n",
    "                scoring=\"f1\", cv=rf_kfold.split(X), n_jobs=1,\n",
    "                verbose= 3).mean()\n",
    "final_score"
   ]
  },
  {
   "cell_type": "code",
   "execution_count": 39,
   "id": "dd4b0b12",
   "metadata": {},
   "outputs": [
    {
     "data": {
      "text/plain": [
       "pandas.core.frame.DataFrame"
      ]
     },
     "execution_count": 39,
     "metadata": {},
     "output_type": "execute_result"
    }
   ],
   "source": [
    "type(X)"
   ]
  },
  {
   "cell_type": "code",
   "execution_count": 37,
   "id": "c62955ec",
   "metadata": {},
   "outputs": [
    {
     "data": {
      "text/html": [
       "<div>\n",
       "<style scoped>\n",
       "    .dataframe tbody tr th:only-of-type {\n",
       "        vertical-align: middle;\n",
       "    }\n",
       "\n",
       "    .dataframe tbody tr th {\n",
       "        vertical-align: top;\n",
       "    }\n",
       "\n",
       "    .dataframe thead th {\n",
       "        text-align: right;\n",
       "    }\n",
       "</style>\n",
       "<table border=\"1\" class=\"dataframe\">\n",
       "  <thead>\n",
       "    <tr style=\"text-align: right;\">\n",
       "      <th></th>\n",
       "      <th>mean radius</th>\n",
       "      <th>mean texture</th>\n",
       "      <th>mean perimeter</th>\n",
       "      <th>mean area</th>\n",
       "      <th>mean smoothness</th>\n",
       "      <th>mean compactness</th>\n",
       "      <th>mean concavity</th>\n",
       "      <th>mean concave points</th>\n",
       "      <th>mean symmetry</th>\n",
       "      <th>mean fractal dimension</th>\n",
       "      <th>...</th>\n",
       "      <th>worst radius</th>\n",
       "      <th>worst texture</th>\n",
       "      <th>worst perimeter</th>\n",
       "      <th>worst area</th>\n",
       "      <th>worst smoothness</th>\n",
       "      <th>worst compactness</th>\n",
       "      <th>worst concavity</th>\n",
       "      <th>worst concave points</th>\n",
       "      <th>worst symmetry</th>\n",
       "      <th>worst fractal dimension</th>\n",
       "    </tr>\n",
       "  </thead>\n",
       "  <tbody>\n",
       "    <tr>\n",
       "      <th>4</th>\n",
       "      <td>20.29</td>\n",
       "      <td>14.34</td>\n",
       "      <td>135.10</td>\n",
       "      <td>1297.0</td>\n",
       "      <td>0.10030</td>\n",
       "      <td>0.1328</td>\n",
       "      <td>0.19800</td>\n",
       "      <td>0.10430</td>\n",
       "      <td>0.1809</td>\n",
       "      <td>0.05883</td>\n",
       "      <td>...</td>\n",
       "      <td>22.54</td>\n",
       "      <td>16.67</td>\n",
       "      <td>152.2</td>\n",
       "      <td>1575.0</td>\n",
       "      <td>0.1374</td>\n",
       "      <td>0.2050</td>\n",
       "      <td>0.4000</td>\n",
       "      <td>0.1625</td>\n",
       "      <td>0.2364</td>\n",
       "      <td>0.07678</td>\n",
       "    </tr>\n",
       "    <tr>\n",
       "      <th>5</th>\n",
       "      <td>12.45</td>\n",
       "      <td>15.70</td>\n",
       "      <td>82.57</td>\n",
       "      <td>477.1</td>\n",
       "      <td>0.12780</td>\n",
       "      <td>0.1700</td>\n",
       "      <td>0.15780</td>\n",
       "      <td>0.08089</td>\n",
       "      <td>0.2087</td>\n",
       "      <td>0.07613</td>\n",
       "      <td>...</td>\n",
       "      <td>15.47</td>\n",
       "      <td>23.75</td>\n",
       "      <td>103.4</td>\n",
       "      <td>741.6</td>\n",
       "      <td>0.1791</td>\n",
       "      <td>0.5249</td>\n",
       "      <td>0.5355</td>\n",
       "      <td>0.1741</td>\n",
       "      <td>0.3985</td>\n",
       "      <td>0.12440</td>\n",
       "    </tr>\n",
       "    <tr>\n",
       "      <th>6</th>\n",
       "      <td>18.25</td>\n",
       "      <td>19.98</td>\n",
       "      <td>119.60</td>\n",
       "      <td>1040.0</td>\n",
       "      <td>0.09463</td>\n",
       "      <td>0.1090</td>\n",
       "      <td>0.11270</td>\n",
       "      <td>0.07400</td>\n",
       "      <td>0.1794</td>\n",
       "      <td>0.05742</td>\n",
       "      <td>...</td>\n",
       "      <td>22.88</td>\n",
       "      <td>27.66</td>\n",
       "      <td>153.2</td>\n",
       "      <td>1606.0</td>\n",
       "      <td>0.1442</td>\n",
       "      <td>0.2576</td>\n",
       "      <td>0.3784</td>\n",
       "      <td>0.1932</td>\n",
       "      <td>0.3063</td>\n",
       "      <td>0.08368</td>\n",
       "    </tr>\n",
       "    <tr>\n",
       "      <th>7</th>\n",
       "      <td>13.71</td>\n",
       "      <td>20.83</td>\n",
       "      <td>90.20</td>\n",
       "      <td>577.9</td>\n",
       "      <td>0.11890</td>\n",
       "      <td>0.1645</td>\n",
       "      <td>0.09366</td>\n",
       "      <td>0.05985</td>\n",
       "      <td>0.2196</td>\n",
       "      <td>0.07451</td>\n",
       "      <td>...</td>\n",
       "      <td>17.06</td>\n",
       "      <td>28.14</td>\n",
       "      <td>110.6</td>\n",
       "      <td>897.0</td>\n",
       "      <td>0.1654</td>\n",
       "      <td>0.3682</td>\n",
       "      <td>0.2678</td>\n",
       "      <td>0.1556</td>\n",
       "      <td>0.3196</td>\n",
       "      <td>0.11510</td>\n",
       "    </tr>\n",
       "    <tr>\n",
       "      <th>8</th>\n",
       "      <td>13.00</td>\n",
       "      <td>21.82</td>\n",
       "      <td>87.50</td>\n",
       "      <td>519.8</td>\n",
       "      <td>0.12730</td>\n",
       "      <td>0.1932</td>\n",
       "      <td>0.18590</td>\n",
       "      <td>0.09353</td>\n",
       "      <td>0.2350</td>\n",
       "      <td>0.07389</td>\n",
       "      <td>...</td>\n",
       "      <td>15.49</td>\n",
       "      <td>30.73</td>\n",
       "      <td>106.2</td>\n",
       "      <td>739.3</td>\n",
       "      <td>0.1703</td>\n",
       "      <td>0.5401</td>\n",
       "      <td>0.5390</td>\n",
       "      <td>0.2060</td>\n",
       "      <td>0.4378</td>\n",
       "      <td>0.10720</td>\n",
       "    </tr>\n",
       "  </tbody>\n",
       "</table>\n",
       "<p>5 rows × 30 columns</p>\n",
       "</div>"
      ],
      "text/plain": [
       "   mean radius  mean texture  mean perimeter  mean area  mean smoothness  \\\n",
       "4        20.29         14.34          135.10     1297.0          0.10030   \n",
       "5        12.45         15.70           82.57      477.1          0.12780   \n",
       "6        18.25         19.98          119.60     1040.0          0.09463   \n",
       "7        13.71         20.83           90.20      577.9          0.11890   \n",
       "8        13.00         21.82           87.50      519.8          0.12730   \n",
       "\n",
       "   mean compactness  mean concavity  mean concave points  mean symmetry  \\\n",
       "4            0.1328         0.19800              0.10430         0.1809   \n",
       "5            0.1700         0.15780              0.08089         0.2087   \n",
       "6            0.1090         0.11270              0.07400         0.1794   \n",
       "7            0.1645         0.09366              0.05985         0.2196   \n",
       "8            0.1932         0.18590              0.09353         0.2350   \n",
       "\n",
       "   mean fractal dimension  ...  worst radius  worst texture  worst perimeter  \\\n",
       "4                 0.05883  ...         22.54          16.67            152.2   \n",
       "5                 0.07613  ...         15.47          23.75            103.4   \n",
       "6                 0.05742  ...         22.88          27.66            153.2   \n",
       "7                 0.07451  ...         17.06          28.14            110.6   \n",
       "8                 0.07389  ...         15.49          30.73            106.2   \n",
       "\n",
       "   worst area  worst smoothness  worst compactness  worst concavity  \\\n",
       "4      1575.0            0.1374             0.2050           0.4000   \n",
       "5       741.6            0.1791             0.5249           0.5355   \n",
       "6      1606.0            0.1442             0.2576           0.3784   \n",
       "7       897.0            0.1654             0.3682           0.2678   \n",
       "8       739.3            0.1703             0.5401           0.5390   \n",
       "\n",
       "   worst concave points  worst symmetry  worst fractal dimension  \n",
       "4                0.1625          0.2364                  0.07678  \n",
       "5                0.1741          0.3985                  0.12440  \n",
       "6                0.1932          0.3063                  0.08368  \n",
       "7                0.1556          0.3196                  0.11510  \n",
       "8                0.2060          0.4378                  0.10720  \n",
       "\n",
       "[5 rows x 30 columns]"
      ]
     },
     "execution_count": 37,
     "metadata": {},
     "output_type": "execute_result"
    }
   ],
   "source": [
    "nums = [4,5,6,7,8]\n",
    "X.iloc[nums]"
   ]
  },
  {
   "cell_type": "code",
   "execution_count": 33,
   "id": "c87c8cf6",
   "metadata": {},
   "outputs": [],
   "source": [
    "def greet(name):\n",
    "    return f'HI {name} how are you?'\n",
    "    \n",
    "first_greeting = greet('bola')"
   ]
  },
  {
   "cell_type": "code",
   "execution_count": 34,
   "id": "53974578",
   "metadata": {},
   "outputs": [
    {
     "name": "stdout",
     "output_type": "stream",
     "text": [
      "HI bola how are you?\n"
     ]
    }
   ],
   "source": [
    "print(first_greeting)"
   ]
  },
  {
   "cell_type": "code",
   "execution_count": 35,
   "id": "5c07d4fa",
   "metadata": {},
   "outputs": [
    {
     "data": {
      "text/plain": [
       "'HI bola how are you?'"
      ]
     },
     "execution_count": 35,
     "metadata": {},
     "output_type": "execute_result"
    }
   ],
   "source": [
    "first_greeting"
   ]
  },
  {
   "cell_type": "code",
   "execution_count": null,
   "id": "6f680fee",
   "metadata": {},
   "outputs": [],
   "source": []
  }
 ],
 "metadata": {
  "kernelspec": {
   "display_name": "Python 3",
   "language": "python",
   "name": "python3"
  },
  "language_info": {
   "codemirror_mode": {
    "name": "ipython",
    "version": 3
   },
   "file_extension": ".py",
   "mimetype": "text/x-python",
   "name": "python",
   "nbconvert_exporter": "python",
   "pygments_lexer": "ipython3",
   "version": "3.12.0"
  }
 },
 "nbformat": 4,
 "nbformat_minor": 5
}
