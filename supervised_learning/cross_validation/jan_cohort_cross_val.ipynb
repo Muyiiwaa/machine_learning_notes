{
 "cells": [
  {
   "cell_type": "markdown",
   "id": "49f48498",
   "metadata": {},
   "source": [
    "### CROSS VALIDATION"
   ]
  },
  {
   "cell_type": "code",
   "execution_count": 1,
   "id": "5d232c4f",
   "metadata": {},
   "outputs": [],
   "source": [
    "import pandas as pd\n",
    "import numpy as np\n",
    "\n",
    "from sklearn.ensemble import RandomForestRegressor\n",
    "from sklearn.datasets import load_diabetes\n",
    "from sklearn.metrics import root_mean_squared_error\n",
    "from sklearn.model_selection import cross_val_score, KFold"
   ]
  },
  {
   "cell_type": "code",
   "execution_count": 2,
   "id": "9bac3731",
   "metadata": {},
   "outputs": [],
   "source": [
    "X = load_diabetes(as_frame=True)['data']\n",
    "y = load_diabetes()['target']"
   ]
  },
  {
   "cell_type": "markdown",
   "id": "95b8ab06",
   "metadata": {},
   "source": [
    "## Simple Cross Val_score"
   ]
  },
  {
   "cell_type": "code",
   "execution_count": 11,
   "id": "f81f619d",
   "metadata": {},
   "outputs": [
    {
     "name": "stdout",
     "output_type": "stream",
     "text": [
      "[CV] END .............................. score: (test=-61.336) total time=   0.7s\n",
      "[CV] END .............................. score: (test=-54.310) total time=   0.6s\n",
      "[CV] END .............................. score: (test=-56.690) total time=   0.3s\n",
      "[CV] END .............................. score: (test=-56.586) total time=   0.3s\n",
      "[CV] END .............................. score: (test=-60.699) total time=   0.4s\n",
      "[CV] END .............................. score: (test=-62.237) total time=   0.4s\n",
      "[CV] END .............................. score: (test=-56.959) total time=   0.4s\n",
      "[CV] END .............................. score: (test=-53.505) total time=   0.3s\n",
      "[CV] END .............................. score: (test=-70.570) total time=   0.3s\n",
      "[CV] END .............................. score: (test=-50.917) total time=   0.4s\n"
     ]
    },
    {
     "data": {
      "text/plain": [
       "58.381004649030636"
      ]
     },
     "execution_count": 11,
     "metadata": {},
     "output_type": "execute_result"
    }
   ],
   "source": [
    "regressor = RandomForestRegressor(random_state=23) # init the regressor\n",
    "final_rmse = -cross_val_score(estimator=regressor, X=X, y=y,\n",
    "                scoring=\"neg_root_mean_squared_error\", cv=10, n_jobs=1,\n",
    "                verbose= 5).mean()\n",
    "final_rmse"
   ]
  },
  {
   "cell_type": "markdown",
   "id": "41be4e81",
   "metadata": {},
   "source": [
    "### classification"
   ]
  },
  {
   "cell_type": "code",
   "execution_count": 21,
   "id": "c55633f5",
   "metadata": {},
   "outputs": [],
   "source": [
    "import pandas as pd\n",
    "import numpy as np\n",
    "\n",
    "from sklearn.ensemble import RandomForestClassifier\n",
    "from sklearn.datasets import load_breast_cancer\n",
    "from sklearn.metrics import root_mean_squared_error\n",
    "from sklearn.model_selection import cross_val_score, KFold"
   ]
  },
  {
   "cell_type": "code",
   "execution_count": 22,
   "id": "615ac27a",
   "metadata": {},
   "outputs": [],
   "source": [
    "X = load_breast_cancer(as_frame=True)['data']\n",
    "y = load_breast_cancer()['target']"
   ]
  },
  {
   "cell_type": "code",
   "execution_count": null,
   "id": "9d3ed09f",
   "metadata": {},
   "outputs": [
    {
     "name": "stdout",
     "output_type": "stream",
     "text": [
      "[CV] END ................................ score: (test=0.986) total time=   0.4s\n",
      "[CV] END ................................ score: (test=0.901) total time=   0.3s\n",
      "[CV] END ................................ score: (test=0.959) total time=   0.4s\n",
      "[CV] END ................................ score: (test=0.960) total time=   0.4s\n",
      "[CV] END ................................ score: (test=1.000) total time=   0.6s\n",
      "[CV] END ................................ score: (test=0.986) total time=   0.2s\n",
      "[CV] END ................................ score: (test=0.986) total time=   0.2s\n",
      "[CV] END ................................ score: (test=0.986) total time=   0.2s\n",
      "[CV] END ................................ score: (test=0.971) total time=   0.2s\n",
      "[CV] END ................................ score: (test=0.986) total time=   0.2s\n"
     ]
    },
    {
     "data": {
      "text/plain": [
       "0.9721273857159236"
      ]
     },
     "execution_count": 23,
     "metadata": {},
     "output_type": "execute_result"
    }
   ],
   "source": [
    "regressor = RandomForestClassifier(random_state=23) # init the regressor\n",
    "final_score = cross_val_score(estimator=regressor, X=X, y=y,\n",
    "                scoring=\"f1\", cv=10, n_jobs=1,\n",
    "                verbose= 3).mean()\n",
    "final_score"
   ]
  },
  {
   "cell_type": "markdown",
   "id": "2f8740c5",
   "metadata": {},
   "source": [
    "### KFOLD AND STRATIFIED KFOLD FROM SCRATCH"
   ]
  },
  {
   "cell_type": "code",
   "execution_count": 43,
   "id": "017c6c73",
   "metadata": {},
   "outputs": [
    {
     "name": "stdout",
     "output_type": "stream",
     "text": [
      "Completed Fold: 1/8.... test score: 0.946236559139785, train score: 0.9818780889621087\n",
      "Completed Fold: 2/8.... test score: 0.9438202247191011, train score: 0.9701986754966887\n",
      "Completed Fold: 3/8.... test score: 0.8888888888888888, train score: 0.9873817034700315\n",
      "Completed Fold: 4/8.... test score: 0.9195402298850575, train score: 0.9820554649265906\n",
      "Completed Fold: 5/8.... test score: 0.9397590361445783, train score: 0.9787928221859706\n",
      "Completed Fold: 6/8.... test score: 0.9111111111111111, train score: 0.9768211920529801\n",
      "Completed Fold: 7/8.... test score: 0.9382716049382716, train score: 0.9585406301824212\n",
      "Completed Fold: 8/8.... test score: 0.8941176470588236, train score: 0.9855072463768116\n",
      "scores: [0.946236559139785, 0.9438202247191011, 0.8888888888888888, 0.9195402298850575, 0.9397590361445783, 0.9111111111111111, 0.9382716049382716, 0.8941176470588236]\n",
      "============================================================\n",
      "final_score: 0.9227181627357022\n"
     ]
    }
   ],
   "source": [
    "from sklearn.metrics import f1_score\n",
    "\n",
    "# init the kfold object\n",
    "folds = 8\n",
    "fold = 1\n",
    "rfr_kfold = KFold(n_splits=folds, shuffle=True, random_state=23)\n",
    "scores = [] # track score list\n",
    "# init the model\n",
    "classifier = RandomForestClassifier(random_state=23, n_estimators=2)\n",
    "\n",
    "for train_index, test_index in rfr_kfold.split(X=X):\n",
    "    X_train, X_test = X.iloc[train_index], X.iloc[test_index]\n",
    "    y_train, y_test = y[train_index], y[test_index]\n",
    "    \n",
    "    # fit the model\n",
    "    classifier.fit(X_train, y_train)\n",
    "    test_preds = classifier.predict(X_test) # predict test\n",
    "    train_preds = classifier.predict(X_train)\n",
    "    score = f1_score(y_test, test_preds) # get the test score\n",
    "    train_score = f1_score(y_train, train_preds) # get the test score\n",
    "    scores.append(score) # update the scores\n",
    "    print(f'Completed Fold: {fold}/{folds}.... test score: {score}, train score: {train_score}')\n",
    "    fold += 1\n",
    "    \n",
    "    \n",
    "print(f'scores: {scores}')\n",
    "print('=' * 60)\n",
    "print(f'final_score: {sum(scores)/len(scores)}')"
   ]
  },
  {
   "cell_type": "code",
   "execution_count": null,
   "id": "973facd0",
   "metadata": {},
   "outputs": [
    {
     "name": "stdout",
     "output_type": "stream",
     "text": [
      "[CV] END ................................ score: (test=0.889) total time=   0.6s\n",
      "[CV] END ................................ score: (test=0.921) total time=   0.3s\n",
      "[CV] END ................................ score: (test=0.949) total time=   0.2s\n",
      "[CV] END ................................ score: (test=0.986) total time=   0.2s\n",
      "[CV] END ................................ score: (test=0.966) total time=   0.2s\n",
      "[CV] END ................................ score: (test=0.988) total time=   0.2s\n",
      "[CV] END ................................ score: (test=0.970) total time=   0.2s\n",
      "[CV] END ................................ score: (test=0.979) total time=   0.4s\n",
      "[CV] END ................................ score: (test=1.000) total time=   0.3s\n"
     ]
    },
    {
     "data": {
      "text/plain": [
       "0.9607395775699012"
      ]
     },
     "execution_count": 46,
     "metadata": {},
     "output_type": "execute_result"
    }
   ],
   "source": [
    "### COMBINING KFOLD WITH CROSS VALIDATION WITHOUT SHUFFLE\n",
    "\n",
    "rf_kfold = KFold(n_splits=9)\n",
    "\n",
    "regressor = RandomForestClassifier(random_state=23) # init the regressor\n",
    "final_score = cross_val_score(estimator=regressor, X=X, y=y,\n",
    "                scoring=\"f1\", cv=rf_kfold.split(X), n_jobs=1,\n",
    "                verbose= 3).mean()\n",
    "final_score"
   ]
  },
  {
   "cell_type": "markdown",
   "id": "c7360fbe",
   "metadata": {},
   "source": [
    "#### STRATIFIED KFOLD"
   ]
  },
  {
   "cell_type": "code",
   "execution_count": 2,
   "id": "dd4b0b12",
   "metadata": {},
   "outputs": [
    {
     "name": "stdout",
     "output_type": "stream",
     "text": [
      "Completed Fold: 1/8.... test score: 0.9534883720930233, train score: 0.9672131147540983\n",
      "Completed Fold: 2/8.... test score: 0.8860759493670886, train score: 0.9690048939641109\n",
      "Completed Fold: 3/8.... test score: 0.9302325581395349, train score: 0.9705882352941176\n",
      "Completed Fold: 4/8.... test score: 0.9411764705882353, train score: 0.9704918032786886\n",
      "Completed Fold: 5/8.... test score: 0.9333333333333333, train score: 0.9886914378029079\n",
      "Completed Fold: 6/8.... test score: 0.9555555555555556, train score: 0.9870550161812298\n",
      "Completed Fold: 7/8.... test score: 0.9425287356321839, train score: 0.9672131147540983\n",
      "Completed Fold: 8/8.... test score: 0.9285714285714286, train score: 0.9651741293532339\n",
      "scores: [0.9534883720930233, 0.8860759493670886, 0.9302325581395349, 0.9411764705882353, 0.9333333333333333, 0.9555555555555556, 0.9425287356321839, 0.9285714285714286]\n",
      "============================================================\n",
      "final_score: 0.933870300410048\n"
     ]
    }
   ],
   "source": [
    "from sklearn.metrics import f1_score\n",
    "from sklearn.model_selection import StratifiedKFold\n",
    "from sklearn.datasets import load_breast_cancer\n",
    "from sklearn.ensemble import RandomForestClassifier\n",
    "\n",
    "# set up the dataset\n",
    "X = load_breast_cancer(as_frame=True)['data']\n",
    "y = load_breast_cancer()['target']\n",
    "\n",
    "# init the kfold object\n",
    "folds = 8\n",
    "fold = 1\n",
    "\n",
    "str_kfold = StratifiedKFold(n_splits=folds, shuffle=True, random_state=23)\n",
    "scores = [] # track score list\n",
    "# init the model\n",
    "classifier = RandomForestClassifier(random_state=23, n_estimators=2)\n",
    "\n",
    "for train_index, test_index in str_kfold.split(X=X, y=y):\n",
    "    X_train, X_test = X.iloc[train_index], X.iloc[test_index]\n",
    "    y_train, y_test = y[train_index], y[test_index]\n",
    "    \n",
    "    # fit the model\n",
    "    classifier.fit(X_train, y_train)\n",
    "    test_preds = classifier.predict(X_test) # predict test\n",
    "    train_preds = classifier.predict(X_train)\n",
    "    score = f1_score(y_test, test_preds) # get the test score\n",
    "    train_score = f1_score(y_train, train_preds) # get the test score\n",
    "    scores.append(score) # update the scores\n",
    "    print(f'Completed Fold: {fold}/{folds}.... test score: {score}, train score: {train_score}')\n",
    "    fold += 1\n",
    "    \n",
    "    \n",
    "print(f'scores: {scores}')\n",
    "print('=' * 60)\n",
    "print(f'final_score: {sum(scores)/len(scores)}')"
   ]
  },
  {
   "cell_type": "code",
   "execution_count": null,
   "id": "6f680fee",
   "metadata": {},
   "outputs": [],
   "source": []
  }
 ],
 "metadata": {
  "kernelspec": {
   "display_name": "Python 3",
   "language": "python",
   "name": "python3"
  },
  "language_info": {
   "codemirror_mode": {
    "name": "ipython",
    "version": 3
   },
   "file_extension": ".py",
   "mimetype": "text/x-python",
   "name": "python",
   "nbconvert_exporter": "python",
   "pygments_lexer": "ipython3",
   "version": "3.12.0"
  }
 },
 "nbformat": 4,
 "nbformat_minor": 5
}
