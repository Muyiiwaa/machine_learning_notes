{
 "cells": [
  {
   "cell_type": "markdown",
   "id": "e0f66356",
   "metadata": {},
   "source": [
    "## CROSS VALIDATION"
   ]
  },
  {
   "cell_type": "markdown",
   "id": "3ceb6ddc",
   "metadata": {},
   "source": [
    "#### REGRESSION WITH KFOLD"
   ]
  },
  {
   "cell_type": "code",
   "execution_count": 8,
   "id": "50cda474",
   "metadata": {},
   "outputs": [],
   "source": [
    "import pandas as pd\n",
    "import numpy as np\n",
    "from sklearn.datasets import load_diabetes\n",
    "from sklearn.model_selection import KFold\n",
    "from sklearn.metrics import root_mean_squared_error\n",
    "from sklearn.ensemble import RandomForestRegressor"
   ]
  },
  {
   "cell_type": "code",
   "execution_count": 12,
   "id": "54bd0e6c",
   "metadata": {},
   "outputs": [],
   "source": [
    "# setup the dataset\n",
    "\n",
    "data = load_diabetes(as_frame=True)['data']\n",
    "data['target'] = load_diabetes()['target']\n",
    "\n",
    "# split X and y\n",
    "X = data.drop(columns=['target'])\n",
    "y = data['target']"
   ]
  },
  {
   "cell_type": "code",
   "execution_count": 13,
   "id": "c6181f0e",
   "metadata": {},
   "outputs": [
    {
     "name": "stdout",
     "output_type": "stream",
     "text": [
      "split: 1, train rmse: 22.059752213587252, test rmse: 57.1071868698459\n",
      "split: 2, train rmse: 21.97390492437177, test rmse: 58.34249560698268\n",
      "split: 3, train rmse: 22.216241782637113, test rmse: 51.31566869844194\n",
      "split: 4, train rmse: 21.39282823135239, test rmse: 60.47571318896773\n",
      "split: 5, train rmse: 21.89140287393474, test rmse: 58.01496101513214\n",
      "split: 6, train rmse: 21.450596310080694, test rmse: 62.798415585108515\n",
      "split: 7, train rmse: 21.3992017087808, test rmse: 58.960464773856785\n",
      "Overall train rmse: 21.769132577820677\n",
      "Overall test rmse: 58.14498653404795\n"
     ]
    }
   ],
   "source": [
    "\n",
    "regressor = RandomForestRegressor(random_state = 23) # init the trainer\n",
    "k_fold = KFold(n_splits=7, shuffle=True, random_state=23) # init the splitter\n",
    "\n",
    "split_no = 1\n",
    "train_scores, test_scores = [],[]\n",
    "for train_idx, test_idx in k_fold.split(X=X):\n",
    "    # perform the split.\n",
    "    X_train, X_test = X.iloc[train_idx], X.iloc[test_idx]\n",
    "    y_train, y_test = y.iloc[train_idx], y.iloc[test_idx]\n",
    "    \n",
    "    # train the model\n",
    "    regressor.fit(X_train, y_train)\n",
    "    train_preds = regressor.predict(X_train)\n",
    "    test_preds = regressor.predict(X_test)\n",
    "    \n",
    "    # evaluate model performance.\n",
    "    train_rmse = root_mean_squared_error(y_train, train_preds)\n",
    "    test_rmse = root_mean_squared_error(y_test, test_preds)\n",
    "    train_scores.append(train_rmse)\n",
    "    test_scores.append(test_rmse)\n",
    "    \n",
    "    print(f'split: {split_no}, train rmse: {train_rmse}, test rmse: {test_rmse}')\n",
    "    split_no += 1\n",
    "    \n",
    "\n",
    "print(f'Overall train rmse: {sum(train_scores)/len(train_scores)}')\n",
    "print(f'Overall test rmse: {sum(test_scores)/len(test_scores)}')"
   ]
  },
  {
   "cell_type": "markdown",
   "id": "5032ebdf",
   "metadata": {},
   "source": [
    "## CLASSIFICATION WITH STRATIFIED KFOLD"
   ]
  },
  {
   "cell_type": "code",
   "execution_count": 9,
   "id": "3f78420a",
   "metadata": {},
   "outputs": [],
   "source": [
    "import pandas as pd\n",
    "import numpy as np\n",
    "from sklearn.datasets import load_breast_cancer\n",
    "from sklearn.model_selection import StratifiedKFold\n",
    "from sklearn.metrics import f1_score\n",
    "from sklearn.ensemble import RandomForestClassifier"
   ]
  },
  {
   "cell_type": "code",
   "execution_count": 14,
   "id": "56b02e67",
   "metadata": {},
   "outputs": [],
   "source": [
    "# setup the dataset\n",
    "\n",
    "data = load_breast_cancer(as_frame=True)['data']\n",
    "data['target'] = load_breast_cancer()['target']\n",
    "\n",
    "# split X and y\n",
    "X = data.drop(columns=['target'])\n",
    "y = data['target']"
   ]
  },
  {
   "cell_type": "code",
   "execution_count": 15,
   "id": "0b055098",
   "metadata": {},
   "outputs": [
    {
     "name": "stdout",
     "output_type": "stream",
     "text": [
      "split: 1, train f1: 1.0, test f1: 0.9784172661870504\n",
      "split: 2, train f1: 1.0, test f1: 0.9655172413793104\n",
      "split: 3, train f1: 1.0, test f1: 0.9594594594594594\n",
      "split: 4, train f1: 1.0, test f1: 0.9793103448275862\n",
      "split: 5, train f1: 1.0, test f1: 0.971830985915493\n",
      "Overall train f1: 1.0\n",
      "Overall test f1: 0.9709070595537799\n"
     ]
    }
   ],
   "source": [
    "\n",
    "classifier = RandomForestClassifier(random_state = 23) # init the trainer\n",
    "st_kfold = StratifiedKFold(n_splits=5, shuffle=True, random_state=23) # init the splitter\n",
    "\n",
    "split_no = 1\n",
    "train_scores, test_scores = [],[]\n",
    "for train_idx, test_idx in st_kfold.split(X=X, y=y):\n",
    "    # perform the split.\n",
    "    X_train, X_test = X.iloc[train_idx], X.iloc[test_idx]\n",
    "    y_train, y_test = y.iloc[train_idx], y.iloc[test_idx]\n",
    "    \n",
    "    # train the model\n",
    "    classifier.fit(X_train, y_train)\n",
    "    train_preds = classifier.predict(X_train)\n",
    "    test_preds = classifier.predict(X_test)\n",
    "    \n",
    "    # evaluate model performance.\n",
    "    train_f1 = f1_score(y_train, train_preds)\n",
    "    test_f1 = f1_score(y_test, test_preds)\n",
    "    train_scores.append(train_f1)\n",
    "    test_scores.append(test_f1)\n",
    "    \n",
    "    print(f'split: {split_no}, train f1: {train_f1}, test f1: {test_f1}')\n",
    "    split_no += 1\n",
    "    \n",
    "\n",
    "print(f'Overall train f1: {sum(train_scores)/len(train_scores)}')\n",
    "print(f'Overall test f1: {sum(test_scores)/len(test_scores)}')"
   ]
  },
  {
   "cell_type": "markdown",
   "id": "b7770a8a",
   "metadata": {},
   "source": [
    "#### QUICK CROSS VALIDATION WITH CROSS VAL SCORE"
   ]
  },
  {
   "cell_type": "code",
   "execution_count": 16,
   "id": "e5ea5c02",
   "metadata": {},
   "outputs": [],
   "source": [
    "from sklearn.model_selection import cross_val_score"
   ]
  },
  {
   "cell_type": "code",
   "execution_count": 25,
   "id": "02067d7d",
   "metadata": {},
   "outputs": [
    {
     "name": "stdout",
     "output_type": "stream",
     "text": [
      "[CV] END ................................ score: (test=0.980) total time=   0.5s\n",
      "[CV] END ................................ score: (test=0.925) total time=   0.4s\n",
      "[CV] END ................................ score: (test=0.981) total time=   0.3s\n",
      "[CV] END ................................ score: (test=0.980) total time=   0.5s\n",
      "[CV] END ................................ score: (test=0.980) total time=   0.5s\n",
      "[CV] END ................................ score: (test=0.961) total time=   0.3s\n",
      "[CV] END ................................ score: (test=1.000) total time=   0.3s\n"
     ]
    },
    {
     "data": {
      "text/plain": [
       "0.9724094514438576"
      ]
     },
     "execution_count": 25,
     "metadata": {},
     "output_type": "execute_result"
    }
   ],
   "source": [
    "score = cross_val_score(estimator=classifier, X=X, y=y,\n",
    "                scoring='f1', cv=7, n_jobs=1, verbose=4)\n",
    "score.mean()"
   ]
  },
  {
   "cell_type": "code",
   "execution_count": null,
   "id": "1671f9f9",
   "metadata": {},
   "outputs": [],
   "source": []
  }
 ],
 "metadata": {
  "kernelspec": {
   "display_name": "Python 3",
   "language": "python",
   "name": "python3"
  },
  "language_info": {
   "codemirror_mode": {
    "name": "ipython",
    "version": 3
   },
   "file_extension": ".py",
   "mimetype": "text/x-python",
   "name": "python",
   "nbconvert_exporter": "python",
   "pygments_lexer": "ipython3",
   "version": "3.12.0"
  }
 },
 "nbformat": 4,
 "nbformat_minor": 5
}
