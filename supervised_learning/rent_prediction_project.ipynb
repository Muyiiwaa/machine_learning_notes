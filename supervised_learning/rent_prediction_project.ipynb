{
  "cells": [
    {
      "cell_type": "markdown",
      "metadata": {
        "id": "cf52vP5x7EgJ"
      },
      "source": [
        "# IMPORT DATA AND DEPENCIES"
      ]
    },
    {
      "cell_type": "code",
      "execution_count": null,
      "metadata": {
        "id": "uin0jc4m8oAV"
      },
      "outputs": [],
      "source": [
        "# run !pip install lazypredict optuna dask[dataframe] if this is the first time of running this project."
      ]
    },
    {
      "cell_type": "code",
      "execution_count": 2,
      "metadata": {
        "id": "B_DH6fSR7MQ-"
      },
      "outputs": [],
      "source": [
        "# import the libraries\n",
        "\n",
        "import pandas as pd\n",
        "import numpy as np\n",
        "import math\n",
        "\n",
        "import seaborn as sns\n",
        "import plotly.express as px\n",
        "import matplotlib.pyplot as plt\n",
        "\n",
        "import optuna\n",
        "from sklearn.model_selection import train_test_split,cross_val_score\n",
        "from sklearn.preprocessing import StandardScaler,LabelEncoder\n",
        "from sklearn.metrics import mean_squared_error\n",
        "from lazypredict.Supervised import LazyRegressor\n",
        "\n",
        "\n",
        "sns.set_style('darkgrid')\n",
        "sns.set_palette('husl')"
      ]
    },
    {
      "cell_type": "code",
      "execution_count": 3,
      "metadata": {
        "id": "cJRlDpuz9rXV"
      },
      "outputs": [],
      "source": [
        "# load the dataset\n",
        "data = pd.read_csv('House_Rent_Dataset.csv')"
      ]
    },
    {
      "cell_type": "markdown",
      "metadata": {
        "id": "eY7mwY1L7Ms5"
      },
      "source": [
        "# DATA PREPROCESSING"
      ]
    },
    {
      "cell_type": "code",
      "execution_count": 4,
      "metadata": {
        "colab": {
          "base_uri": "https://localhost:8080/"
        },
        "id": "eoijczqY7R_W",
        "outputId": "491ce498-be95-4318-9147-6bc84f04fb7b"
      },
      "outputs": [
        {
          "data": {
            "text/html": [
              "<div>\n",
              "<style scoped>\n",
              "    .dataframe tbody tr th:only-of-type {\n",
              "        vertical-align: middle;\n",
              "    }\n",
              "\n",
              "    .dataframe tbody tr th {\n",
              "        vertical-align: top;\n",
              "    }\n",
              "\n",
              "    .dataframe thead th {\n",
              "        text-align: right;\n",
              "    }\n",
              "</style>\n",
              "<table border=\"1\" class=\"dataframe\">\n",
              "  <thead>\n",
              "    <tr style=\"text-align: right;\">\n",
              "      <th></th>\n",
              "      <th>Posted On</th>\n",
              "      <th>BHK</th>\n",
              "      <th>Rent</th>\n",
              "      <th>Size</th>\n",
              "      <th>Floor</th>\n",
              "      <th>Area Type</th>\n",
              "      <th>Area Locality</th>\n",
              "      <th>City</th>\n",
              "      <th>Furnishing Status</th>\n",
              "      <th>Tenant Preferred</th>\n",
              "      <th>Bathroom</th>\n",
              "      <th>Point of Contact</th>\n",
              "    </tr>\n",
              "  </thead>\n",
              "  <tbody>\n",
              "    <tr>\n",
              "      <th>0</th>\n",
              "      <td>2022-05-18</td>\n",
              "      <td>2</td>\n",
              "      <td>10000</td>\n",
              "      <td>1100</td>\n",
              "      <td>Ground out of 2</td>\n",
              "      <td>Super Area</td>\n",
              "      <td>Bandel</td>\n",
              "      <td>Kolkata</td>\n",
              "      <td>Unfurnished</td>\n",
              "      <td>Bachelors/Family</td>\n",
              "      <td>2</td>\n",
              "      <td>Contact Owner</td>\n",
              "    </tr>\n",
              "    <tr>\n",
              "      <th>1</th>\n",
              "      <td>2022-05-13</td>\n",
              "      <td>2</td>\n",
              "      <td>20000</td>\n",
              "      <td>800</td>\n",
              "      <td>1 out of 3</td>\n",
              "      <td>Super Area</td>\n",
              "      <td>Phool Bagan, Kankurgachi</td>\n",
              "      <td>Kolkata</td>\n",
              "      <td>Semi-Furnished</td>\n",
              "      <td>Bachelors/Family</td>\n",
              "      <td>1</td>\n",
              "      <td>Contact Owner</td>\n",
              "    </tr>\n",
              "    <tr>\n",
              "      <th>2</th>\n",
              "      <td>2022-05-16</td>\n",
              "      <td>2</td>\n",
              "      <td>17000</td>\n",
              "      <td>1000</td>\n",
              "      <td>1 out of 3</td>\n",
              "      <td>Super Area</td>\n",
              "      <td>Salt Lake City Sector 2</td>\n",
              "      <td>Kolkata</td>\n",
              "      <td>Semi-Furnished</td>\n",
              "      <td>Bachelors/Family</td>\n",
              "      <td>1</td>\n",
              "      <td>Contact Owner</td>\n",
              "    </tr>\n",
              "    <tr>\n",
              "      <th>3</th>\n",
              "      <td>2022-07-04</td>\n",
              "      <td>2</td>\n",
              "      <td>10000</td>\n",
              "      <td>800</td>\n",
              "      <td>1 out of 2</td>\n",
              "      <td>Super Area</td>\n",
              "      <td>Dumdum Park</td>\n",
              "      <td>Kolkata</td>\n",
              "      <td>Unfurnished</td>\n",
              "      <td>Bachelors/Family</td>\n",
              "      <td>1</td>\n",
              "      <td>Contact Owner</td>\n",
              "    </tr>\n",
              "    <tr>\n",
              "      <th>4</th>\n",
              "      <td>2022-05-09</td>\n",
              "      <td>2</td>\n",
              "      <td>7500</td>\n",
              "      <td>850</td>\n",
              "      <td>1 out of 2</td>\n",
              "      <td>Carpet Area</td>\n",
              "      <td>South Dum Dum</td>\n",
              "      <td>Kolkata</td>\n",
              "      <td>Unfurnished</td>\n",
              "      <td>Bachelors</td>\n",
              "      <td>1</td>\n",
              "      <td>Contact Owner</td>\n",
              "    </tr>\n",
              "  </tbody>\n",
              "</table>\n",
              "</div>"
            ],
            "text/plain": [
              "    Posted On  BHK   Rent  Size            Floor    Area Type  \\\n",
              "0  2022-05-18    2  10000  1100  Ground out of 2   Super Area   \n",
              "1  2022-05-13    2  20000   800       1 out of 3   Super Area   \n",
              "2  2022-05-16    2  17000  1000       1 out of 3   Super Area   \n",
              "3  2022-07-04    2  10000   800       1 out of 2   Super Area   \n",
              "4  2022-05-09    2   7500   850       1 out of 2  Carpet Area   \n",
              "\n",
              "              Area Locality     City Furnishing Status  Tenant Preferred  \\\n",
              "0                    Bandel  Kolkata       Unfurnished  Bachelors/Family   \n",
              "1  Phool Bagan, Kankurgachi  Kolkata    Semi-Furnished  Bachelors/Family   \n",
              "2   Salt Lake City Sector 2  Kolkata    Semi-Furnished  Bachelors/Family   \n",
              "3               Dumdum Park  Kolkata       Unfurnished  Bachelors/Family   \n",
              "4             South Dum Dum  Kolkata       Unfurnished         Bachelors   \n",
              "\n",
              "   Bathroom Point of Contact  \n",
              "0         2    Contact Owner  \n",
              "1         1    Contact Owner  \n",
              "2         1    Contact Owner  \n",
              "3         1    Contact Owner  \n",
              "4         1    Contact Owner  "
            ]
          },
          "execution_count": 4,
          "metadata": {},
          "output_type": "execute_result"
        }
      ],
      "source": [
        "data.head()"
      ]
    },
    {
      "cell_type": "code",
      "execution_count": 7,
      "metadata": {
        "id": "vjZR5aiM-Oze"
      },
      "outputs": [
        {
          "data": {
            "text/plain": [
              "(4746, 12)"
            ]
          },
          "execution_count": 7,
          "metadata": {},
          "output_type": "execute_result"
        }
      ],
      "source": [
        "data.shape"
      ]
    },
    {
      "cell_type": "code",
      "execution_count": 8,
      "metadata": {},
      "outputs": [
        {
          "data": {
            "text/plain": [
              "Posted On            0\n",
              "BHK                  0\n",
              "Rent                 0\n",
              "Size                 0\n",
              "Floor                0\n",
              "Area Type            0\n",
              "Area Locality        0\n",
              "City                 0\n",
              "Furnishing Status    0\n",
              "Tenant Preferred     0\n",
              "Bathroom             0\n",
              "Point of Contact     0\n",
              "dtype: int64"
            ]
          },
          "execution_count": 8,
          "metadata": {},
          "output_type": "execute_result"
        }
      ],
      "source": [
        "data.isnull().sum()"
      ]
    },
    {
      "cell_type": "code",
      "execution_count": 9,
      "metadata": {},
      "outputs": [
        {
          "name": "stdout",
          "output_type": "stream",
          "text": [
            "There are 81 different Posted On\n",
            "There are 6 different BHK\n",
            "There are 243 different Rent\n",
            "There are 615 different Size\n",
            "There are 480 different Floor\n",
            "There are 3 different Area Type\n",
            "There are 2235 different Area Locality\n",
            "There are 6 different City\n",
            "There are 3 different Furnishing Status\n",
            "There are 3 different Tenant Preferred\n",
            "There are 8 different Bathroom\n",
            "There are 3 different Point of Contact\n"
          ]
        }
      ],
      "source": [
        "# check for column value counts \n",
        "\n",
        "for col_name in data.columns:\n",
        "    print(f'There are {data[col_name].nunique()} different {col_name}')"
      ]
    },
    {
      "cell_type": "code",
      "execution_count": 10,
      "metadata": {},
      "outputs": [],
      "source": [
        "# extract two columns apartment_floor and no_of_floors from the floor column\n",
        "pattern = r'(.*) out of (.*)'\n",
        "\n",
        "data[['apartment_floor','no_of_floors']] = data['Floor'].str.extract(pattern)"
      ]
    },
    {
      "cell_type": "code",
      "execution_count": 12,
      "metadata": {},
      "outputs": [
        {
          "data": {
            "text/plain": [
              "array(['Ground', '1', '2', '4', '3', '5', '7', '8', 'Upper Basement',\n",
              "       '11', 'Lower Basement', '6', '14', '43', '13', '18', '17', '9',\n",
              "       '19', '60', '34', '12', '26', '25', '53', '16', '10', '39', '32',\n",
              "       '47', '28', '20', '15', '65', '40', '37', '22', '21', '30', '35',\n",
              "       '33', '44', '41', '46', '27', '45', '48', '50', '24', '23', '29',\n",
              "       '49', '36', '76', nan], dtype=object)"
            ]
          },
          "execution_count": 12,
          "metadata": {},
          "output_type": "execute_result"
        }
      ],
      "source": [
        "data['apartment_floor'].unique()"
      ]
    },
    {
      "cell_type": "code",
      "execution_count": 13,
      "metadata": {},
      "outputs": [
        {
          "data": {
            "text/plain": [
              "array(['2', '3', '1', '4', '5', '14', '8', '6', '19', '10', '7', '13',\n",
              "       '78', '18', '12', '24', '31', '21', '23', '20', '9', '22', '58',\n",
              "       '16', '66', '48', '40', '44', '42', '41', '60', '32', '30', '29',\n",
              "       '89', '15', '11', '28', '17', '45', '35', '75', '38', '51', '43',\n",
              "       '25', '27', '26', '76', '36', '37', '55', '68', '77', '50', '59',\n",
              "       '62', '39', '52', '54', '33', '46', '85', '71', '81', '34', nan],\n",
              "      dtype=object)"
            ]
          },
          "execution_count": 13,
          "metadata": {},
          "output_type": "execute_result"
        }
      ],
      "source": [
        "data['no_of_floors'].unique()"
      ]
    },
    {
      "cell_type": "code",
      "execution_count": 19,
      "metadata": {},
      "outputs": [],
      "source": [
        "data['is_upper_basement'] = [1 if x == 'Upper Basement' else 0 for x in data['apartment_floor']]\n",
        "data['is_ground'] = [1 if x == 'Ground' else 0 for x in data['apartment_floor']]\n",
        "data['is_lower_basement'] = [1 if x == 'Lower Basement' else 0 for x in data['apartment_floor']]\n",
        "\n",
        "data['apartment_floor'] = [0 if x in ['Lower Basement','Upper Basement', 'Ground'] else x for x in data['apartment_floor']]"
      ]
    },
    {
      "cell_type": "code",
      "execution_count": 20,
      "metadata": {},
      "outputs": [
        {
          "data": {
            "text/html": [
              "<div>\n",
              "<style scoped>\n",
              "    .dataframe tbody tr th:only-of-type {\n",
              "        vertical-align: middle;\n",
              "    }\n",
              "\n",
              "    .dataframe tbody tr th {\n",
              "        vertical-align: top;\n",
              "    }\n",
              "\n",
              "    .dataframe thead th {\n",
              "        text-align: right;\n",
              "    }\n",
              "</style>\n",
              "<table border=\"1\" class=\"dataframe\">\n",
              "  <thead>\n",
              "    <tr style=\"text-align: right;\">\n",
              "      <th></th>\n",
              "      <th>Posted On</th>\n",
              "      <th>BHK</th>\n",
              "      <th>Rent</th>\n",
              "      <th>Size</th>\n",
              "      <th>Floor</th>\n",
              "      <th>Area Type</th>\n",
              "      <th>Area Locality</th>\n",
              "      <th>City</th>\n",
              "      <th>Furnishing Status</th>\n",
              "      <th>Tenant Preferred</th>\n",
              "      <th>Bathroom</th>\n",
              "      <th>Point of Contact</th>\n",
              "      <th>apartment_floor</th>\n",
              "      <th>no_of_floors</th>\n",
              "      <th>is_upper_basement</th>\n",
              "      <th>is_ground</th>\n",
              "      <th>is_lower_basement</th>\n",
              "    </tr>\n",
              "  </thead>\n",
              "  <tbody>\n",
              "    <tr>\n",
              "      <th>0</th>\n",
              "      <td>2022-05-18</td>\n",
              "      <td>2</td>\n",
              "      <td>10000</td>\n",
              "      <td>1100</td>\n",
              "      <td>Ground out of 2</td>\n",
              "      <td>Super Area</td>\n",
              "      <td>Bandel</td>\n",
              "      <td>Kolkata</td>\n",
              "      <td>Unfurnished</td>\n",
              "      <td>Bachelors/Family</td>\n",
              "      <td>2</td>\n",
              "      <td>Contact Owner</td>\n",
              "      <td>0</td>\n",
              "      <td>2</td>\n",
              "      <td>0</td>\n",
              "      <td>1</td>\n",
              "      <td>0</td>\n",
              "    </tr>\n",
              "    <tr>\n",
              "      <th>1</th>\n",
              "      <td>2022-05-13</td>\n",
              "      <td>2</td>\n",
              "      <td>20000</td>\n",
              "      <td>800</td>\n",
              "      <td>1 out of 3</td>\n",
              "      <td>Super Area</td>\n",
              "      <td>Phool Bagan, Kankurgachi</td>\n",
              "      <td>Kolkata</td>\n",
              "      <td>Semi-Furnished</td>\n",
              "      <td>Bachelors/Family</td>\n",
              "      <td>1</td>\n",
              "      <td>Contact Owner</td>\n",
              "      <td>1</td>\n",
              "      <td>3</td>\n",
              "      <td>0</td>\n",
              "      <td>0</td>\n",
              "      <td>0</td>\n",
              "    </tr>\n",
              "    <tr>\n",
              "      <th>2</th>\n",
              "      <td>2022-05-16</td>\n",
              "      <td>2</td>\n",
              "      <td>17000</td>\n",
              "      <td>1000</td>\n",
              "      <td>1 out of 3</td>\n",
              "      <td>Super Area</td>\n",
              "      <td>Salt Lake City Sector 2</td>\n",
              "      <td>Kolkata</td>\n",
              "      <td>Semi-Furnished</td>\n",
              "      <td>Bachelors/Family</td>\n",
              "      <td>1</td>\n",
              "      <td>Contact Owner</td>\n",
              "      <td>1</td>\n",
              "      <td>3</td>\n",
              "      <td>0</td>\n",
              "      <td>0</td>\n",
              "      <td>0</td>\n",
              "    </tr>\n",
              "    <tr>\n",
              "      <th>3</th>\n",
              "      <td>2022-07-04</td>\n",
              "      <td>2</td>\n",
              "      <td>10000</td>\n",
              "      <td>800</td>\n",
              "      <td>1 out of 2</td>\n",
              "      <td>Super Area</td>\n",
              "      <td>Dumdum Park</td>\n",
              "      <td>Kolkata</td>\n",
              "      <td>Unfurnished</td>\n",
              "      <td>Bachelors/Family</td>\n",
              "      <td>1</td>\n",
              "      <td>Contact Owner</td>\n",
              "      <td>1</td>\n",
              "      <td>2</td>\n",
              "      <td>0</td>\n",
              "      <td>0</td>\n",
              "      <td>0</td>\n",
              "    </tr>\n",
              "  </tbody>\n",
              "</table>\n",
              "</div>"
            ],
            "text/plain": [
              "    Posted On  BHK   Rent  Size            Floor   Area Type  \\\n",
              "0  2022-05-18    2  10000  1100  Ground out of 2  Super Area   \n",
              "1  2022-05-13    2  20000   800       1 out of 3  Super Area   \n",
              "2  2022-05-16    2  17000  1000       1 out of 3  Super Area   \n",
              "3  2022-07-04    2  10000   800       1 out of 2  Super Area   \n",
              "\n",
              "              Area Locality     City Furnishing Status  Tenant Preferred  \\\n",
              "0                    Bandel  Kolkata       Unfurnished  Bachelors/Family   \n",
              "1  Phool Bagan, Kankurgachi  Kolkata    Semi-Furnished  Bachelors/Family   \n",
              "2   Salt Lake City Sector 2  Kolkata    Semi-Furnished  Bachelors/Family   \n",
              "3               Dumdum Park  Kolkata       Unfurnished  Bachelors/Family   \n",
              "\n",
              "   Bathroom Point of Contact apartment_floor no_of_floors  is_upper_basement  \\\n",
              "0         2    Contact Owner               0            2                  0   \n",
              "1         1    Contact Owner               1            3                  0   \n",
              "2         1    Contact Owner               1            3                  0   \n",
              "3         1    Contact Owner               1            2                  0   \n",
              "\n",
              "   is_ground  is_lower_basement  \n",
              "0          1                  0  \n",
              "1          0                  0  \n",
              "2          0                  0  \n",
              "3          0                  0  "
            ]
          },
          "execution_count": 20,
          "metadata": {},
          "output_type": "execute_result"
        }
      ],
      "source": [
        "data.head(4)"
      ]
    },
    {
      "cell_type": "code",
      "execution_count": 22,
      "metadata": {},
      "outputs": [],
      "source": [
        "data.drop(columns = ['Posted On','Area Locality','Floor'], inplace = True)"
      ]
    },
    {
      "cell_type": "code",
      "execution_count": 23,
      "metadata": {},
      "outputs": [
        {
          "data": {
            "text/plain": [
              "BHK                  0\n",
              "Rent                 0\n",
              "Size                 0\n",
              "Area Type            0\n",
              "City                 0\n",
              "Furnishing Status    0\n",
              "Tenant Preferred     0\n",
              "Bathroom             0\n",
              "Point of Contact     0\n",
              "apartment_floor      4\n",
              "no_of_floors         4\n",
              "is_upper_basement    0\n",
              "is_ground            0\n",
              "is_lower_basement    0\n",
              "dtype: int64"
            ]
          },
          "execution_count": 23,
          "metadata": {},
          "output_type": "execute_result"
        }
      ],
      "source": [
        "data.isnull().sum()\n"
      ]
    },
    {
      "cell_type": "code",
      "execution_count": 24,
      "metadata": {},
      "outputs": [],
      "source": [
        "data.dropna(inplace = True)\n",
        "data.reset_index(drop = True, inplace = True)"
      ]
    },
    {
      "cell_type": "code",
      "execution_count": 28,
      "metadata": {},
      "outputs": [
        {
          "data": {
            "text/plain": [
              "['BHK',\n",
              " 'Rent',\n",
              " 'Size',\n",
              " 'Bathroom',\n",
              " 'apartment_floor',\n",
              " 'no_of_floors',\n",
              " 'is_upper_basement',\n",
              " 'is_ground',\n",
              " 'is_lower_basement']"
            ]
          },
          "execution_count": 28,
          "metadata": {},
          "output_type": "execute_result"
        }
      ],
      "source": [
        "cat_cols = ['Area Type', 'City', 'Furnishing Status', 'Tenant Preferred', 'Point of Contact']\n",
        "num_cols = [x for x in data.columns if x not in cat_cols]\n",
        "num_cols"
      ]
    },
    {
      "cell_type": "code",
      "execution_count": 30,
      "metadata": {},
      "outputs": [],
      "source": [
        "num_df = data[num_cols].drop(columns = ['Rent'])\n",
        "num_cols.remove('Rent')\n",
        "scaler = StandardScaler()\n",
        "num_df = scaler.fit_transform(num_df)\n",
        "num_df = pd.DataFrame(data = num_df, columns= num_cols)"
      ]
    },
    {
      "cell_type": "code",
      "execution_count": 31,
      "metadata": {},
      "outputs": [],
      "source": [
        "encoder = LabelEncoder()\n",
        "cat_df = data[cat_cols]\n",
        "\n",
        "for col in cat_cols:\n",
        "    cat_df[col] = encoder.fit_transform(cat_df[col])"
      ]
    },
    {
      "cell_type": "code",
      "execution_count": 34,
      "metadata": {},
      "outputs": [],
      "source": [
        "X = pd.concat([cat_df, num_df], axis = 1)\n",
        "y = data['Rent'].values"
      ]
    },
    {
      "cell_type": "code",
      "execution_count": 35,
      "metadata": {},
      "outputs": [
        {
          "data": {
            "text/html": [
              "<div>\n",
              "<style scoped>\n",
              "    .dataframe tbody tr th:only-of-type {\n",
              "        vertical-align: middle;\n",
              "    }\n",
              "\n",
              "    .dataframe tbody tr th {\n",
              "        vertical-align: top;\n",
              "    }\n",
              "\n",
              "    .dataframe thead th {\n",
              "        text-align: right;\n",
              "    }\n",
              "</style>\n",
              "<table border=\"1\" class=\"dataframe\">\n",
              "  <thead>\n",
              "    <tr style=\"text-align: right;\">\n",
              "      <th></th>\n",
              "      <th>Area Type</th>\n",
              "      <th>City</th>\n",
              "      <th>Furnishing Status</th>\n",
              "      <th>Tenant Preferred</th>\n",
              "      <th>Point of Contact</th>\n",
              "      <th>BHK</th>\n",
              "      <th>Size</th>\n",
              "      <th>Bathroom</th>\n",
              "      <th>apartment_floor</th>\n",
              "      <th>no_of_floors</th>\n",
              "      <th>is_upper_basement</th>\n",
              "      <th>is_ground</th>\n",
              "      <th>is_lower_basement</th>\n",
              "    </tr>\n",
              "  </thead>\n",
              "  <tbody>\n",
              "    <tr>\n",
              "      <th>0</th>\n",
              "      <td>2</td>\n",
              "      <td>4</td>\n",
              "      <td>2</td>\n",
              "      <td>1</td>\n",
              "      <td>2</td>\n",
              "      <td>-0.10</td>\n",
              "      <td>0.21</td>\n",
              "      <td>0.04</td>\n",
              "      <td>-0.60</td>\n",
              "      <td>-0.53</td>\n",
              "      <td>-0.07</td>\n",
              "      <td>2.03</td>\n",
              "      <td>-0.05</td>\n",
              "    </tr>\n",
              "    <tr>\n",
              "      <th>1</th>\n",
              "      <td>2</td>\n",
              "      <td>4</td>\n",
              "      <td>1</td>\n",
              "      <td>1</td>\n",
              "      <td>2</td>\n",
              "      <td>-0.10</td>\n",
              "      <td>-0.26</td>\n",
              "      <td>-1.09</td>\n",
              "      <td>-0.42</td>\n",
              "      <td>-0.42</td>\n",
              "      <td>-0.07</td>\n",
              "      <td>-0.49</td>\n",
              "      <td>-0.05</td>\n",
              "    </tr>\n",
              "    <tr>\n",
              "      <th>2</th>\n",
              "      <td>2</td>\n",
              "      <td>4</td>\n",
              "      <td>1</td>\n",
              "      <td>1</td>\n",
              "      <td>2</td>\n",
              "      <td>-0.10</td>\n",
              "      <td>0.05</td>\n",
              "      <td>-1.09</td>\n",
              "      <td>-0.42</td>\n",
              "      <td>-0.42</td>\n",
              "      <td>-0.07</td>\n",
              "      <td>-0.49</td>\n",
              "      <td>-0.05</td>\n",
              "    </tr>\n",
              "    <tr>\n",
              "      <th>3</th>\n",
              "      <td>2</td>\n",
              "      <td>4</td>\n",
              "      <td>2</td>\n",
              "      <td>1</td>\n",
              "      <td>2</td>\n",
              "      <td>-0.10</td>\n",
              "      <td>-0.26</td>\n",
              "      <td>-1.09</td>\n",
              "      <td>-0.42</td>\n",
              "      <td>-0.53</td>\n",
              "      <td>-0.07</td>\n",
              "      <td>-0.49</td>\n",
              "      <td>-0.05</td>\n",
              "    </tr>\n",
              "    <tr>\n",
              "      <th>4</th>\n",
              "      <td>1</td>\n",
              "      <td>4</td>\n",
              "      <td>2</td>\n",
              "      <td>0</td>\n",
              "      <td>2</td>\n",
              "      <td>-0.10</td>\n",
              "      <td>-0.19</td>\n",
              "      <td>-1.09</td>\n",
              "      <td>-0.42</td>\n",
              "      <td>-0.53</td>\n",
              "      <td>-0.07</td>\n",
              "      <td>-0.49</td>\n",
              "      <td>-0.05</td>\n",
              "    </tr>\n",
              "  </tbody>\n",
              "</table>\n",
              "</div>"
            ],
            "text/plain": [
              "   Area Type  City  Furnishing Status  Tenant Preferred  Point of Contact  \\\n",
              "0          2     4                  2                 1                 2   \n",
              "1          2     4                  1                 1                 2   \n",
              "2          2     4                  1                 1                 2   \n",
              "3          2     4                  2                 1                 2   \n",
              "4          1     4                  2                 0                 2   \n",
              "\n",
              "    BHK  Size  Bathroom  apartment_floor  no_of_floors  is_upper_basement  \\\n",
              "0 -0.10  0.21      0.04            -0.60         -0.53              -0.07   \n",
              "1 -0.10 -0.26     -1.09            -0.42         -0.42              -0.07   \n",
              "2 -0.10  0.05     -1.09            -0.42         -0.42              -0.07   \n",
              "3 -0.10 -0.26     -1.09            -0.42         -0.53              -0.07   \n",
              "4 -0.10 -0.19     -1.09            -0.42         -0.53              -0.07   \n",
              "\n",
              "   is_ground  is_lower_basement  \n",
              "0       2.03              -0.05  \n",
              "1      -0.49              -0.05  \n",
              "2      -0.49              -0.05  \n",
              "3      -0.49              -0.05  \n",
              "4      -0.49              -0.05  "
            ]
          },
          "execution_count": 35,
          "metadata": {},
          "output_type": "execute_result"
        }
      ],
      "source": [
        "X.head()"
      ]
    },
    {
      "cell_type": "markdown",
      "metadata": {
        "id": "ChI1UJOU7SsO"
      },
      "source": [
        "# DATA VISUALIZATION"
      ]
    },
    {
      "cell_type": "code",
      "execution_count": null,
      "metadata": {
        "id": "-eV1nb9v7Wjr"
      },
      "outputs": [],
      "source": []
    },
    {
      "cell_type": "markdown",
      "metadata": {
        "id": "teXGjenx7XDw"
      },
      "source": [
        "# BASE MODEL TRAINING"
      ]
    },
    {
      "cell_type": "code",
      "execution_count": 36,
      "metadata": {
        "id": "y25Yp-RL7aRN"
      },
      "outputs": [
        {
          "name": "stderr",
          "output_type": "stream",
          "text": [
            " 74%|███████▍  | 31/42 [00:06<00:01,  6.82it/s]"
          ]
        },
        {
          "name": "stdout",
          "output_type": "stream",
          "text": [
            "QuantileRegressor model failed to execute\n",
            "Solver interior-point is not anymore available in SciPy >= 1.11.0.\n"
          ]
        },
        {
          "name": "stderr",
          "output_type": "stream",
          "text": [
            "100%|██████████| 42/42 [00:08<00:00,  5.10it/s]"
          ]
        },
        {
          "name": "stdout",
          "output_type": "stream",
          "text": [
            "[LightGBM] [Info] Auto-choosing row-wise multi-threading, the overhead of testing was 0.000461 seconds.\n",
            "You can set `force_row_wise=true` to remove the overhead.\n",
            "And if memory is not enough, you can set `force_col_wise=true`.\n",
            "[LightGBM] [Info] Total Bins 380\n",
            "[LightGBM] [Info] Number of data points in the train set: 3793, number of used features: 11\n",
            "[LightGBM] [Info] Start training from score 35384.621144\n"
          ]
        },
        {
          "name": "stderr",
          "output_type": "stream",
          "text": [
            "\n"
          ]
        }
      ],
      "source": [
        "X_train, X_test, y_train, y_test = train_test_split(X, y, test_size=0.2, random_state =23)\n",
        "reg = LazyRegressor(verbose=0,ignore_warnings=False, custom_metric=None )\n",
        "models,predictions = reg.fit(X_train, X_test, y_train, y_test)"
      ]
    },
    {
      "cell_type": "code",
      "execution_count": 37,
      "metadata": {},
      "outputs": [
        {
          "data": {
            "text/html": [
              "<div>\n",
              "<style scoped>\n",
              "    .dataframe tbody tr th:only-of-type {\n",
              "        vertical-align: middle;\n",
              "    }\n",
              "\n",
              "    .dataframe tbody tr th {\n",
              "        vertical-align: top;\n",
              "    }\n",
              "\n",
              "    .dataframe thead th {\n",
              "        text-align: right;\n",
              "    }\n",
              "</style>\n",
              "<table border=\"1\" class=\"dataframe\">\n",
              "  <thead>\n",
              "    <tr style=\"text-align: right;\">\n",
              "      <th></th>\n",
              "      <th>Adjusted R-Squared</th>\n",
              "      <th>R-Squared</th>\n",
              "      <th>RMSE</th>\n",
              "      <th>Time Taken</th>\n",
              "    </tr>\n",
              "    <tr>\n",
              "      <th>Model</th>\n",
              "      <th></th>\n",
              "      <th></th>\n",
              "      <th></th>\n",
              "      <th></th>\n",
              "    </tr>\n",
              "  </thead>\n",
              "  <tbody>\n",
              "    <tr>\n",
              "      <th>RandomForestRegressor</th>\n",
              "      <td>0.65</td>\n",
              "      <td>0.66</td>\n",
              "      <td>31167.21</td>\n",
              "      <td>0.81</td>\n",
              "    </tr>\n",
              "    <tr>\n",
              "      <th>BaggingRegressor</th>\n",
              "      <td>0.63</td>\n",
              "      <td>0.63</td>\n",
              "      <td>32308.18</td>\n",
              "      <td>0.10</td>\n",
              "    </tr>\n",
              "    <tr>\n",
              "      <th>LGBMRegressor</th>\n",
              "      <td>0.62</td>\n",
              "      <td>0.63</td>\n",
              "      <td>32444.61</td>\n",
              "      <td>0.06</td>\n",
              "    </tr>\n",
              "    <tr>\n",
              "      <th>HistGradientBoostingRegressor</th>\n",
              "      <td>0.62</td>\n",
              "      <td>0.63</td>\n",
              "      <td>32502.81</td>\n",
              "      <td>0.24</td>\n",
              "    </tr>\n",
              "    <tr>\n",
              "      <th>XGBRegressor</th>\n",
              "      <td>0.59</td>\n",
              "      <td>0.60</td>\n",
              "      <td>33801.14</td>\n",
              "      <td>0.19</td>\n",
              "    </tr>\n",
              "    <tr>\n",
              "      <th>ExtraTreesRegressor</th>\n",
              "      <td>0.58</td>\n",
              "      <td>0.59</td>\n",
              "      <td>34196.19</td>\n",
              "      <td>0.66</td>\n",
              "    </tr>\n",
              "    <tr>\n",
              "      <th>GradientBoostingRegressor</th>\n",
              "      <td>0.55</td>\n",
              "      <td>0.55</td>\n",
              "      <td>35512.27</td>\n",
              "      <td>0.30</td>\n",
              "    </tr>\n",
              "    <tr>\n",
              "      <th>GammaRegressor</th>\n",
              "      <td>0.52</td>\n",
              "      <td>0.52</td>\n",
              "      <td>36713.17</td>\n",
              "      <td>0.22</td>\n",
              "    </tr>\n",
              "    <tr>\n",
              "      <th>PoissonRegressor</th>\n",
              "      <td>0.49</td>\n",
              "      <td>0.49</td>\n",
              "      <td>37856.68</td>\n",
              "      <td>0.07</td>\n",
              "    </tr>\n",
              "    <tr>\n",
              "      <th>ElasticNet</th>\n",
              "      <td>0.45</td>\n",
              "      <td>0.46</td>\n",
              "      <td>39273.49</td>\n",
              "      <td>0.02</td>\n",
              "    </tr>\n",
              "    <tr>\n",
              "      <th>SGDRegressor</th>\n",
              "      <td>0.44</td>\n",
              "      <td>0.45</td>\n",
              "      <td>39477.18</td>\n",
              "      <td>0.02</td>\n",
              "    </tr>\n",
              "    <tr>\n",
              "      <th>TweedieRegressor</th>\n",
              "      <td>0.44</td>\n",
              "      <td>0.45</td>\n",
              "      <td>39482.17</td>\n",
              "      <td>0.22</td>\n",
              "    </tr>\n",
              "    <tr>\n",
              "      <th>LarsCV</th>\n",
              "      <td>0.43</td>\n",
              "      <td>0.44</td>\n",
              "      <td>39779.84</td>\n",
              "      <td>0.03</td>\n",
              "    </tr>\n",
              "    <tr>\n",
              "      <th>LassoLarsCV</th>\n",
              "      <td>0.43</td>\n",
              "      <td>0.44</td>\n",
              "      <td>39779.84</td>\n",
              "      <td>0.02</td>\n",
              "    </tr>\n",
              "    <tr>\n",
              "      <th>LassoCV</th>\n",
              "      <td>0.43</td>\n",
              "      <td>0.44</td>\n",
              "      <td>39787.58</td>\n",
              "      <td>0.12</td>\n",
              "    </tr>\n",
              "    <tr>\n",
              "      <th>OrthogonalMatchingPursuitCV</th>\n",
              "      <td>0.43</td>\n",
              "      <td>0.44</td>\n",
              "      <td>39914.47</td>\n",
              "      <td>0.01</td>\n",
              "    </tr>\n",
              "    <tr>\n",
              "      <th>BayesianRidge</th>\n",
              "      <td>0.43</td>\n",
              "      <td>0.44</td>\n",
              "      <td>39946.72</td>\n",
              "      <td>0.02</td>\n",
              "    </tr>\n",
              "    <tr>\n",
              "      <th>LassoLarsIC</th>\n",
              "      <td>0.43</td>\n",
              "      <td>0.44</td>\n",
              "      <td>39958.95</td>\n",
              "      <td>0.01</td>\n",
              "    </tr>\n",
              "    <tr>\n",
              "      <th>DecisionTreeRegressor</th>\n",
              "      <td>0.43</td>\n",
              "      <td>0.44</td>\n",
              "      <td>39992.95</td>\n",
              "      <td>0.03</td>\n",
              "    </tr>\n",
              "    <tr>\n",
              "      <th>RidgeCV</th>\n",
              "      <td>0.43</td>\n",
              "      <td>0.43</td>\n",
              "      <td>40060.15</td>\n",
              "      <td>0.02</td>\n",
              "    </tr>\n",
              "    <tr>\n",
              "      <th>Ridge</th>\n",
              "      <td>0.42</td>\n",
              "      <td>0.43</td>\n",
              "      <td>40076.95</td>\n",
              "      <td>0.01</td>\n",
              "    </tr>\n",
              "    <tr>\n",
              "      <th>LassoLars</th>\n",
              "      <td>0.42</td>\n",
              "      <td>0.43</td>\n",
              "      <td>40078.14</td>\n",
              "      <td>0.01</td>\n",
              "    </tr>\n",
              "    <tr>\n",
              "      <th>Lasso</th>\n",
              "      <td>0.42</td>\n",
              "      <td>0.43</td>\n",
              "      <td>40078.21</td>\n",
              "      <td>0.02</td>\n",
              "    </tr>\n",
              "    <tr>\n",
              "      <th>Lars</th>\n",
              "      <td>0.42</td>\n",
              "      <td>0.43</td>\n",
              "      <td>40078.84</td>\n",
              "      <td>0.02</td>\n",
              "    </tr>\n",
              "    <tr>\n",
              "      <th>TransformedTargetRegressor</th>\n",
              "      <td>0.42</td>\n",
              "      <td>0.43</td>\n",
              "      <td>40078.84</td>\n",
              "      <td>0.01</td>\n",
              "    </tr>\n",
              "    <tr>\n",
              "      <th>LinearRegression</th>\n",
              "      <td>0.42</td>\n",
              "      <td>0.43</td>\n",
              "      <td>40078.84</td>\n",
              "      <td>0.01</td>\n",
              "    </tr>\n",
              "    <tr>\n",
              "      <th>AdaBoostRegressor</th>\n",
              "      <td>0.40</td>\n",
              "      <td>0.41</td>\n",
              "      <td>40908.74</td>\n",
              "      <td>0.17</td>\n",
              "    </tr>\n",
              "    <tr>\n",
              "      <th>KNeighborsRegressor</th>\n",
              "      <td>0.39</td>\n",
              "      <td>0.39</td>\n",
              "      <td>41400.89</td>\n",
              "      <td>0.07</td>\n",
              "    </tr>\n",
              "    <tr>\n",
              "      <th>OrthogonalMatchingPursuit</th>\n",
              "      <td>0.34</td>\n",
              "      <td>0.35</td>\n",
              "      <td>42821.61</td>\n",
              "      <td>0.01</td>\n",
              "    </tr>\n",
              "    <tr>\n",
              "      <th>HuberRegressor</th>\n",
              "      <td>0.33</td>\n",
              "      <td>0.34</td>\n",
              "      <td>43153.84</td>\n",
              "      <td>0.05</td>\n",
              "    </tr>\n",
              "    <tr>\n",
              "      <th>PassiveAggressiveRegressor</th>\n",
              "      <td>0.31</td>\n",
              "      <td>0.32</td>\n",
              "      <td>43826.61</td>\n",
              "      <td>0.02</td>\n",
              "    </tr>\n",
              "    <tr>\n",
              "      <th>ExtraTreeRegressor</th>\n",
              "      <td>0.22</td>\n",
              "      <td>0.23</td>\n",
              "      <td>46682.13</td>\n",
              "      <td>0.03</td>\n",
              "    </tr>\n",
              "    <tr>\n",
              "      <th>RANSACRegressor</th>\n",
              "      <td>0.08</td>\n",
              "      <td>0.09</td>\n",
              "      <td>50616.64</td>\n",
              "      <td>0.08</td>\n",
              "    </tr>\n",
              "    <tr>\n",
              "      <th>ElasticNetCV</th>\n",
              "      <td>0.08</td>\n",
              "      <td>0.09</td>\n",
              "      <td>50769.80</td>\n",
              "      <td>0.15</td>\n",
              "    </tr>\n",
              "    <tr>\n",
              "      <th>KernelRidge</th>\n",
              "      <td>0.02</td>\n",
              "      <td>0.03</td>\n",
              "      <td>52424.77</td>\n",
              "      <td>0.51</td>\n",
              "    </tr>\n",
              "    <tr>\n",
              "      <th>DummyRegressor</th>\n",
              "      <td>-0.02</td>\n",
              "      <td>-0.00</td>\n",
              "      <td>53239.67</td>\n",
              "      <td>0.01</td>\n",
              "    </tr>\n",
              "    <tr>\n",
              "      <th>NuSVR</th>\n",
              "      <td>-0.06</td>\n",
              "      <td>-0.05</td>\n",
              "      <td>54473.93</td>\n",
              "      <td>0.40</td>\n",
              "    </tr>\n",
              "    <tr>\n",
              "      <th>MLPRegressor</th>\n",
              "      <td>-0.08</td>\n",
              "      <td>-0.06</td>\n",
              "      <td>54860.80</td>\n",
              "      <td>1.34</td>\n",
              "    </tr>\n",
              "    <tr>\n",
              "      <th>SVR</th>\n",
              "      <td>-0.12</td>\n",
              "      <td>-0.10</td>\n",
              "      <td>55904.32</td>\n",
              "      <td>0.54</td>\n",
              "    </tr>\n",
              "    <tr>\n",
              "      <th>LinearSVR</th>\n",
              "      <td>-0.33</td>\n",
              "      <td>-0.31</td>\n",
              "      <td>60871.58</td>\n",
              "      <td>0.01</td>\n",
              "    </tr>\n",
              "    <tr>\n",
              "      <th>GaussianProcessRegressor</th>\n",
              "      <td>-512.06</td>\n",
              "      <td>-505.02</td>\n",
              "      <td>1196876.52</td>\n",
              "      <td>1.59</td>\n",
              "    </tr>\n",
              "  </tbody>\n",
              "</table>\n",
              "</div>"
            ],
            "text/plain": [
              "                               Adjusted R-Squared  R-Squared       RMSE  \\\n",
              "Model                                                                     \n",
              "RandomForestRegressor                        0.65       0.66   31167.21   \n",
              "BaggingRegressor                             0.63       0.63   32308.18   \n",
              "LGBMRegressor                                0.62       0.63   32444.61   \n",
              "HistGradientBoostingRegressor                0.62       0.63   32502.81   \n",
              "XGBRegressor                                 0.59       0.60   33801.14   \n",
              "ExtraTreesRegressor                          0.58       0.59   34196.19   \n",
              "GradientBoostingRegressor                    0.55       0.55   35512.27   \n",
              "GammaRegressor                               0.52       0.52   36713.17   \n",
              "PoissonRegressor                             0.49       0.49   37856.68   \n",
              "ElasticNet                                   0.45       0.46   39273.49   \n",
              "SGDRegressor                                 0.44       0.45   39477.18   \n",
              "TweedieRegressor                             0.44       0.45   39482.17   \n",
              "LarsCV                                       0.43       0.44   39779.84   \n",
              "LassoLarsCV                                  0.43       0.44   39779.84   \n",
              "LassoCV                                      0.43       0.44   39787.58   \n",
              "OrthogonalMatchingPursuitCV                  0.43       0.44   39914.47   \n",
              "BayesianRidge                                0.43       0.44   39946.72   \n",
              "LassoLarsIC                                  0.43       0.44   39958.95   \n",
              "DecisionTreeRegressor                        0.43       0.44   39992.95   \n",
              "RidgeCV                                      0.43       0.43   40060.15   \n",
              "Ridge                                        0.42       0.43   40076.95   \n",
              "LassoLars                                    0.42       0.43   40078.14   \n",
              "Lasso                                        0.42       0.43   40078.21   \n",
              "Lars                                         0.42       0.43   40078.84   \n",
              "TransformedTargetRegressor                   0.42       0.43   40078.84   \n",
              "LinearRegression                             0.42       0.43   40078.84   \n",
              "AdaBoostRegressor                            0.40       0.41   40908.74   \n",
              "KNeighborsRegressor                          0.39       0.39   41400.89   \n",
              "OrthogonalMatchingPursuit                    0.34       0.35   42821.61   \n",
              "HuberRegressor                               0.33       0.34   43153.84   \n",
              "PassiveAggressiveRegressor                   0.31       0.32   43826.61   \n",
              "ExtraTreeRegressor                           0.22       0.23   46682.13   \n",
              "RANSACRegressor                              0.08       0.09   50616.64   \n",
              "ElasticNetCV                                 0.08       0.09   50769.80   \n",
              "KernelRidge                                  0.02       0.03   52424.77   \n",
              "DummyRegressor                              -0.02      -0.00   53239.67   \n",
              "NuSVR                                       -0.06      -0.05   54473.93   \n",
              "MLPRegressor                                -0.08      -0.06   54860.80   \n",
              "SVR                                         -0.12      -0.10   55904.32   \n",
              "LinearSVR                                   -0.33      -0.31   60871.58   \n",
              "GaussianProcessRegressor                  -512.06    -505.02 1196876.52   \n",
              "\n",
              "                               Time Taken  \n",
              "Model                                      \n",
              "RandomForestRegressor                0.81  \n",
              "BaggingRegressor                     0.10  \n",
              "LGBMRegressor                        0.06  \n",
              "HistGradientBoostingRegressor        0.24  \n",
              "XGBRegressor                         0.19  \n",
              "ExtraTreesRegressor                  0.66  \n",
              "GradientBoostingRegressor            0.30  \n",
              "GammaRegressor                       0.22  \n",
              "PoissonRegressor                     0.07  \n",
              "ElasticNet                           0.02  \n",
              "SGDRegressor                         0.02  \n",
              "TweedieRegressor                     0.22  \n",
              "LarsCV                               0.03  \n",
              "LassoLarsCV                          0.02  \n",
              "LassoCV                              0.12  \n",
              "OrthogonalMatchingPursuitCV          0.01  \n",
              "BayesianRidge                        0.02  \n",
              "LassoLarsIC                          0.01  \n",
              "DecisionTreeRegressor                0.03  \n",
              "RidgeCV                              0.02  \n",
              "Ridge                                0.01  \n",
              "LassoLars                            0.01  \n",
              "Lasso                                0.02  \n",
              "Lars                                 0.02  \n",
              "TransformedTargetRegressor           0.01  \n",
              "LinearRegression                     0.01  \n",
              "AdaBoostRegressor                    0.17  \n",
              "KNeighborsRegressor                  0.07  \n",
              "OrthogonalMatchingPursuit            0.01  \n",
              "HuberRegressor                       0.05  \n",
              "PassiveAggressiveRegressor           0.02  \n",
              "ExtraTreeRegressor                   0.03  \n",
              "RANSACRegressor                      0.08  \n",
              "ElasticNetCV                         0.15  \n",
              "KernelRidge                          0.51  \n",
              "DummyRegressor                       0.01  \n",
              "NuSVR                                0.40  \n",
              "MLPRegressor                         1.34  \n",
              "SVR                                  0.54  \n",
              "LinearSVR                            0.01  \n",
              "GaussianProcessRegressor             1.59  "
            ]
          },
          "execution_count": 37,
          "metadata": {},
          "output_type": "execute_result"
        }
      ],
      "source": [
        "predictions"
      ]
    },
    {
      "cell_type": "markdown",
      "metadata": {
        "id": "Vz6Jrc-07a27"
      },
      "source": [
        "# HYPER-PARAMETER OPTIMIZATION"
      ]
    },
    {
      "cell_type": "code",
      "execution_count": null,
      "metadata": {
        "id": "fmrGvi1I7e67"
      },
      "outputs": [],
      "source": []
    },
    {
      "cell_type": "markdown",
      "metadata": {
        "id": "5saqrQjC7fc8"
      },
      "source": [
        "# MODEL RE-TRAINING"
      ]
    },
    {
      "cell_type": "code",
      "execution_count": null,
      "metadata": {
        "id": "x_8eXC2V7kFC"
      },
      "outputs": [],
      "source": []
    }
  ],
  "metadata": {
    "colab": {
      "provenance": []
    },
    "kernelspec": {
      "display_name": "Python 3",
      "name": "python3"
    },
    "language_info": {
      "name": "python"
    }
  },
  "nbformat": 4,
  "nbformat_minor": 0
}
