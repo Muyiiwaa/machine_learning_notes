{
 "cells": [
  {
   "cell_type": "markdown",
   "id": "9e5dd20f",
   "metadata": {},
   "source": [
    "### BAYESIAN OPTIMIZATION WITH OPTUNA"
   ]
  },
  {
   "cell_type": "code",
   "execution_count": 12,
   "id": "505439e3",
   "metadata": {},
   "outputs": [],
   "source": [
    "import optuna\n",
    "from sklearn.tree import DecisionTreeClassifier\n",
    "from sklearn.model_selection import cross_val_score,train_test_split\n",
    "from sklearn.preprocessing import LabelEncoder, StandardScaler\n",
    "from sklearn.metrics import f1_score\n",
    "import os\n",
    "import pandas as pd\n",
    "import kagglehub"
   ]
  },
  {
   "cell_type": "code",
   "execution_count": 6,
   "id": "09bbdf05",
   "metadata": {},
   "outputs": [
    {
     "name": "stdout",
     "output_type": "stream",
     "text": [
      "Path to dataset files: /home/codespace/.cache/kagglehub/datasets/fedesoriano/heart-failure-prediction/versions/1\n"
     ]
    },
    {
     "data": {
      "text/html": [
       "<div>\n",
       "<style scoped>\n",
       "    .dataframe tbody tr th:only-of-type {\n",
       "        vertical-align: middle;\n",
       "    }\n",
       "\n",
       "    .dataframe tbody tr th {\n",
       "        vertical-align: top;\n",
       "    }\n",
       "\n",
       "    .dataframe thead th {\n",
       "        text-align: right;\n",
       "    }\n",
       "</style>\n",
       "<table border=\"1\" class=\"dataframe\">\n",
       "  <thead>\n",
       "    <tr style=\"text-align: right;\">\n",
       "      <th></th>\n",
       "      <th>Age</th>\n",
       "      <th>Sex</th>\n",
       "      <th>ChestPainType</th>\n",
       "      <th>RestingBP</th>\n",
       "      <th>Cholesterol</th>\n",
       "      <th>FastingBS</th>\n",
       "      <th>RestingECG</th>\n",
       "      <th>MaxHR</th>\n",
       "      <th>ExerciseAngina</th>\n",
       "      <th>Oldpeak</th>\n",
       "      <th>ST_Slope</th>\n",
       "      <th>HeartDisease</th>\n",
       "    </tr>\n",
       "  </thead>\n",
       "  <tbody>\n",
       "    <tr>\n",
       "      <th>0</th>\n",
       "      <td>40</td>\n",
       "      <td>M</td>\n",
       "      <td>ATA</td>\n",
       "      <td>140</td>\n",
       "      <td>289</td>\n",
       "      <td>0</td>\n",
       "      <td>Normal</td>\n",
       "      <td>172</td>\n",
       "      <td>N</td>\n",
       "      <td>0.0</td>\n",
       "      <td>Up</td>\n",
       "      <td>0</td>\n",
       "    </tr>\n",
       "    <tr>\n",
       "      <th>1</th>\n",
       "      <td>49</td>\n",
       "      <td>F</td>\n",
       "      <td>NAP</td>\n",
       "      <td>160</td>\n",
       "      <td>180</td>\n",
       "      <td>0</td>\n",
       "      <td>Normal</td>\n",
       "      <td>156</td>\n",
       "      <td>N</td>\n",
       "      <td>1.0</td>\n",
       "      <td>Flat</td>\n",
       "      <td>1</td>\n",
       "    </tr>\n",
       "    <tr>\n",
       "      <th>2</th>\n",
       "      <td>37</td>\n",
       "      <td>M</td>\n",
       "      <td>ATA</td>\n",
       "      <td>130</td>\n",
       "      <td>283</td>\n",
       "      <td>0</td>\n",
       "      <td>ST</td>\n",
       "      <td>98</td>\n",
       "      <td>N</td>\n",
       "      <td>0.0</td>\n",
       "      <td>Up</td>\n",
       "      <td>0</td>\n",
       "    </tr>\n",
       "    <tr>\n",
       "      <th>3</th>\n",
       "      <td>48</td>\n",
       "      <td>F</td>\n",
       "      <td>ASY</td>\n",
       "      <td>138</td>\n",
       "      <td>214</td>\n",
       "      <td>0</td>\n",
       "      <td>Normal</td>\n",
       "      <td>108</td>\n",
       "      <td>Y</td>\n",
       "      <td>1.5</td>\n",
       "      <td>Flat</td>\n",
       "      <td>1</td>\n",
       "    </tr>\n",
       "    <tr>\n",
       "      <th>4</th>\n",
       "      <td>54</td>\n",
       "      <td>M</td>\n",
       "      <td>NAP</td>\n",
       "      <td>150</td>\n",
       "      <td>195</td>\n",
       "      <td>0</td>\n",
       "      <td>Normal</td>\n",
       "      <td>122</td>\n",
       "      <td>N</td>\n",
       "      <td>0.0</td>\n",
       "      <td>Up</td>\n",
       "      <td>0</td>\n",
       "    </tr>\n",
       "  </tbody>\n",
       "</table>\n",
       "</div>"
      ],
      "text/plain": [
       "   Age Sex ChestPainType  ...  Oldpeak  ST_Slope  HeartDisease\n",
       "0   40   M           ATA  ...      0.0        Up             0\n",
       "1   49   F           NAP  ...      1.0      Flat             1\n",
       "2   37   M           ATA  ...      0.0        Up             0\n",
       "3   48   F           ASY  ...      1.5      Flat             1\n",
       "4   54   M           NAP  ...      0.0        Up             0\n",
       "\n",
       "[5 rows x 12 columns]"
      ]
     },
     "execution_count": 6,
     "metadata": {},
     "output_type": "execute_result"
    }
   ],
   "source": [
    "# Download latest version\n",
    "path = kagglehub.dataset_download(\"fedesoriano/heart-failure-prediction\")\n",
    "print(\"Path to dataset files:\", path)\n",
    "\n",
    "file_name = os.listdir(path)[0]\n",
    "data_url = os.path.join(path, file_name)\n",
    "data = pd.read_csv(data_url)\n",
    "data.head()"
   ]
  },
  {
   "cell_type": "code",
   "execution_count": 9,
   "id": "415dde12",
   "metadata": {},
   "outputs": [
    {
     "data": {
      "text/html": [
       "<div>\n",
       "<style scoped>\n",
       "    .dataframe tbody tr th:only-of-type {\n",
       "        vertical-align: middle;\n",
       "    }\n",
       "\n",
       "    .dataframe tbody tr th {\n",
       "        vertical-align: top;\n",
       "    }\n",
       "\n",
       "    .dataframe thead th {\n",
       "        text-align: right;\n",
       "    }\n",
       "</style>\n",
       "<table border=\"1\" class=\"dataframe\">\n",
       "  <thead>\n",
       "    <tr style=\"text-align: right;\">\n",
       "      <th></th>\n",
       "      <th>Age</th>\n",
       "      <th>Sex</th>\n",
       "      <th>ChestPainType</th>\n",
       "      <th>RestingBP</th>\n",
       "      <th>Cholesterol</th>\n",
       "      <th>FastingBS</th>\n",
       "      <th>RestingECG</th>\n",
       "      <th>MaxHR</th>\n",
       "      <th>ExerciseAngina</th>\n",
       "      <th>Oldpeak</th>\n",
       "      <th>ST_Slope</th>\n",
       "      <th>HeartDisease</th>\n",
       "    </tr>\n",
       "  </thead>\n",
       "  <tbody>\n",
       "    <tr>\n",
       "      <th>0</th>\n",
       "      <td>40</td>\n",
       "      <td>1</td>\n",
       "      <td>1</td>\n",
       "      <td>140</td>\n",
       "      <td>289</td>\n",
       "      <td>0</td>\n",
       "      <td>1</td>\n",
       "      <td>172</td>\n",
       "      <td>0</td>\n",
       "      <td>0.0</td>\n",
       "      <td>2</td>\n",
       "      <td>0</td>\n",
       "    </tr>\n",
       "    <tr>\n",
       "      <th>1</th>\n",
       "      <td>49</td>\n",
       "      <td>0</td>\n",
       "      <td>2</td>\n",
       "      <td>160</td>\n",
       "      <td>180</td>\n",
       "      <td>0</td>\n",
       "      <td>1</td>\n",
       "      <td>156</td>\n",
       "      <td>0</td>\n",
       "      <td>1.0</td>\n",
       "      <td>1</td>\n",
       "      <td>1</td>\n",
       "    </tr>\n",
       "    <tr>\n",
       "      <th>2</th>\n",
       "      <td>37</td>\n",
       "      <td>1</td>\n",
       "      <td>1</td>\n",
       "      <td>130</td>\n",
       "      <td>283</td>\n",
       "      <td>0</td>\n",
       "      <td>2</td>\n",
       "      <td>98</td>\n",
       "      <td>0</td>\n",
       "      <td>0.0</td>\n",
       "      <td>2</td>\n",
       "      <td>0</td>\n",
       "    </tr>\n",
       "    <tr>\n",
       "      <th>3</th>\n",
       "      <td>48</td>\n",
       "      <td>0</td>\n",
       "      <td>0</td>\n",
       "      <td>138</td>\n",
       "      <td>214</td>\n",
       "      <td>0</td>\n",
       "      <td>1</td>\n",
       "      <td>108</td>\n",
       "      <td>1</td>\n",
       "      <td>1.5</td>\n",
       "      <td>1</td>\n",
       "      <td>1</td>\n",
       "    </tr>\n",
       "    <tr>\n",
       "      <th>4</th>\n",
       "      <td>54</td>\n",
       "      <td>1</td>\n",
       "      <td>2</td>\n",
       "      <td>150</td>\n",
       "      <td>195</td>\n",
       "      <td>0</td>\n",
       "      <td>1</td>\n",
       "      <td>122</td>\n",
       "      <td>0</td>\n",
       "      <td>0.0</td>\n",
       "      <td>2</td>\n",
       "      <td>0</td>\n",
       "    </tr>\n",
       "  </tbody>\n",
       "</table>\n",
       "</div>"
      ],
      "text/plain": [
       "   Age  Sex  ChestPainType  ...  Oldpeak  ST_Slope  HeartDisease\n",
       "0   40    1              1  ...      0.0         2             0\n",
       "1   49    0              2  ...      1.0         1             1\n",
       "2   37    1              1  ...      0.0         2             0\n",
       "3   48    0              0  ...      1.5         1             1\n",
       "4   54    1              2  ...      0.0         2             0\n",
       "\n",
       "[5 rows x 12 columns]"
      ]
     },
     "execution_count": 9,
     "metadata": {},
     "output_type": "execute_result"
    }
   ],
   "source": [
    "# encode the categorical variables\n",
    "\n",
    "cat_cols = data.select_dtypes(include='object').columns\n",
    "for column in cat_cols:\n",
    "    encoder = LabelEncoder()\n",
    "    data[column] = encoder.fit_transform(data[column])\n",
    "\n",
    "data.head()"
   ]
  },
  {
   "cell_type": "code",
   "execution_count": 11,
   "id": "fa7b3192",
   "metadata": {},
   "outputs": [
    {
     "data": {
      "text/plain": [
       "array([[-1.4331398 ,  0.51595242,  0.22903206, ..., -0.8235563 ,\n",
       "        -0.83243239,  1.05211381],\n",
       "       [-0.47848359, -1.93816322,  1.27505906, ..., -0.8235563 ,\n",
       "         0.10566353, -0.59607813],\n",
       "       [-1.75135854,  0.51595242,  0.22903206, ..., -0.8235563 ,\n",
       "        -0.83243239,  1.05211381],\n",
       "       ...,\n",
       "       [ 0.37009972,  0.51595242, -0.81699495, ...,  1.21424608,\n",
       "         0.29328271, -0.59607813],\n",
       "       [ 0.37009972, -1.93816322,  0.22903206, ..., -0.8235563 ,\n",
       "        -0.83243239, -0.59607813],\n",
       "       [-1.64528563,  0.51595242,  1.27505906, ..., -0.8235563 ,\n",
       "        -0.83243239,  1.05211381]], shape=(918, 11))"
      ]
     },
     "execution_count": 11,
     "metadata": {},
     "output_type": "execute_result"
    }
   ],
   "source": [
    "# split and scale the dataset\n",
    "\n",
    "X = data.drop(columns=['HeartDisease'])\n",
    "y = data['HeartDisease']\n",
    "\n",
    "\n",
    "scaler = StandardScaler()\n",
    "\n",
    "X = scaler.fit_transform(X)\n",
    "X"
   ]
  },
  {
   "cell_type": "code",
   "execution_count": 13,
   "id": "7d82f918",
   "metadata": {},
   "outputs": [
    {
     "name": "stdout",
     "output_type": "stream",
     "text": [
      "test score: 0.7461139896373057\n"
     ]
    }
   ],
   "source": [
    "# train the base model.\n",
    "X_train, X_test, y_train, y_test = train_test_split(X, y, train_size=0.8, random_state=23,\n",
    "                                                    stratify=y)\n",
    "\n",
    "model = DecisionTreeClassifier(random_state=23)\n",
    "model.fit(X_train, y_train)\n",
    "test_preds = model.predict(X_test)\n",
    "print(f'test score: {f1_score(y_test, test_preds)}')"
   ]
  },
  {
   "cell_type": "markdown",
   "id": "bee760cd",
   "metadata": {},
   "source": [
    "#### TUNING WITH OPTUNA"
   ]
  },
  {
   "cell_type": "code",
   "execution_count": 17,
   "id": "15aad08c",
   "metadata": {},
   "outputs": [
    {
     "name": "stderr",
     "output_type": "stream",
     "text": [
      "[I 2025-08-08 13:27:57,594] A new study created in memory with name: no-name-3881d097-8fa6-4ce8-8489-2b8af2e1673b\n",
      "[I 2025-08-08 13:27:57,623] Trial 0 finished with value: 0.7849665158193939 and parameters: {'max_features': 0.5621085186926125, 'max_depth': 19, 'criterion': 'entropy'}. Best is trial 0 with value: 0.7849665158193939.\n",
      "[I 2025-08-08 13:27:57,645] Trial 1 finished with value: 0.8136358757398648 and parameters: {'max_features': 0.6803554596662268, 'max_depth': 5, 'criterion': 'gini'}. Best is trial 1 with value: 0.8136358757398648.\n",
      "[I 2025-08-08 13:27:57,668] Trial 2 finished with value: 0.7650332751317521 and parameters: {'max_features': 0.20172541684062034, 'max_depth': 18, 'criterion': 'entropy'}. Best is trial 1 with value: 0.8136358757398648.\n",
      "[I 2025-08-08 13:27:57,696] Trial 3 finished with value: 0.7546352388500593 and parameters: {'max_features': 0.8848988412103815, 'max_depth': 18, 'criterion': 'gini'}. Best is trial 1 with value: 0.8136358757398648.\n",
      "[I 2025-08-08 13:27:57,724] Trial 4 finished with value: 0.7752538890978453 and parameters: {'max_features': 0.7757264373724031, 'max_depth': 13, 'criterion': 'log_loss'}. Best is trial 1 with value: 0.8136358757398648.\n",
      "[I 2025-08-08 13:27:57,747] Trial 5 finished with value: 0.768840358934151 and parameters: {'max_features': 0.29905053040763285, 'max_depth': 10, 'criterion': 'gini'}. Best is trial 1 with value: 0.8136358757398648.\n",
      "[I 2025-08-08 13:27:57,778] Trial 6 finished with value: 0.7811030447900844 and parameters: {'max_features': 0.780126039025929, 'max_depth': 15, 'criterion': 'gini'}. Best is trial 1 with value: 0.8136358757398648.\n",
      "[I 2025-08-08 13:27:57,800] Trial 7 finished with value: 0.767770665612453 and parameters: {'max_features': 0.25427386420902404, 'max_depth': 17, 'criterion': 'log_loss'}. Best is trial 1 with value: 0.8136358757398648.\n",
      "[I 2025-08-08 13:27:57,827] Trial 8 finished with value: 0.7738932900395024 and parameters: {'max_features': 0.6119400752896398, 'max_depth': 16, 'criterion': 'entropy'}. Best is trial 1 with value: 0.8136358757398648.\n",
      "[I 2025-08-08 13:27:57,861] Trial 9 finished with value: 0.7677826253713074 and parameters: {'max_features': 0.36840847185260917, 'max_depth': 11, 'criterion': 'log_loss'}. Best is trial 1 with value: 0.8136358757398648.\n",
      "[I 2025-08-08 13:27:57,893] Trial 10 finished with value: 0.7728952065278346 and parameters: {'max_features': 0.8311215349651664, 'max_depth': 11, 'criterion': 'gini'}. Best is trial 1 with value: 0.8136358757398648.\n",
      "[I 2025-08-08 13:27:57,916] Trial 11 finished with value: 0.7827162434030925 and parameters: {'max_features': 0.2553388404834513, 'max_depth': 10, 'criterion': 'entropy'}. Best is trial 1 with value: 0.8136358757398648.\n",
      "[I 2025-08-08 13:27:57,940] Trial 12 finished with value: 0.8208847273419455 and parameters: {'max_features': 0.8425620639927509, 'max_depth': 4, 'criterion': 'entropy'}. Best is trial 12 with value: 0.8208847273419455.\n",
      "[I 2025-08-08 13:27:57,964] Trial 13 finished with value: 0.8143512296125603 and parameters: {'max_features': 0.8661114320008849, 'max_depth': 6, 'criterion': 'gini'}. Best is trial 12 with value: 0.8208847273419455.\n",
      "[I 2025-08-08 13:27:57,990] Trial 14 finished with value: 0.780031224801536 and parameters: {'max_features': 0.33907691188624023, 'max_depth': 15, 'criterion': 'entropy'}. Best is trial 12 with value: 0.8208847273419455.\n",
      "[I 2025-08-08 13:27:58,011] Trial 15 finished with value: 0.8264296199654687 and parameters: {'max_features': 0.6359935793868648, 'max_depth': 3, 'criterion': 'log_loss'}. Best is trial 15 with value: 0.8264296199654687.\n",
      "[I 2025-08-08 13:27:58,037] Trial 16 finished with value: 0.7704267590168279 and parameters: {'max_features': 0.7590201451454943, 'max_depth': 9, 'criterion': 'log_loss'}. Best is trial 15 with value: 0.8264296199654687.\n",
      "[I 2025-08-08 13:27:58,061] Trial 17 finished with value: 0.7754480595674142 and parameters: {'max_features': 0.5551129379526181, 'max_depth': 11, 'criterion': 'gini'}. Best is trial 15 with value: 0.8264296199654687.\n",
      "[I 2025-08-08 13:27:58,091] Trial 18 finished with value: 0.77414772133981 and parameters: {'max_features': 0.730438560889419, 'max_depth': 10, 'criterion': 'gini'}. Best is trial 15 with value: 0.8264296199654687.\n",
      "[I 2025-08-08 13:27:58,111] Trial 19 finished with value: 0.7809303539472959 and parameters: {'max_features': 0.20449980967334058, 'max_depth': 2, 'criterion': 'gini'}. Best is trial 15 with value: 0.8264296199654687.\n",
      "[I 2025-08-08 13:27:58,138] Trial 20 finished with value: 0.760309332320251 and parameters: {'max_features': 0.6504221471187936, 'max_depth': 12, 'criterion': 'gini'}. Best is trial 15 with value: 0.8264296199654687.\n",
      "[I 2025-08-08 13:27:58,162] Trial 21 finished with value: 0.7647273040781732 and parameters: {'max_features': 0.29022548400376547, 'max_depth': 12, 'criterion': 'log_loss'}. Best is trial 15 with value: 0.8264296199654687.\n",
      "[I 2025-08-08 13:27:58,187] Trial 22 finished with value: 0.7849665158193939 and parameters: {'max_features': 0.6238956363394424, 'max_depth': 20, 'criterion': 'entropy'}. Best is trial 15 with value: 0.8264296199654687.\n",
      "[I 2025-08-08 13:27:58,210] Trial 23 finished with value: 0.7666822969398217 and parameters: {'max_features': 0.2598470338975843, 'max_depth': 20, 'criterion': 'entropy'}. Best is trial 15 with value: 0.8264296199654687.\n",
      "[I 2025-08-08 13:27:58,235] Trial 24 finished with value: 0.79861377605407 and parameters: {'max_features': 0.6475729150999845, 'max_depth': 9, 'criterion': 'entropy'}. Best is trial 15 with value: 0.8264296199654687.\n",
      "[I 2025-08-08 13:27:58,260] Trial 25 finished with value: 0.7626029512503258 and parameters: {'max_features': 0.478561242591623, 'max_depth': 18, 'criterion': 'entropy'}. Best is trial 15 with value: 0.8264296199654687.\n",
      "[I 2025-08-08 13:27:58,284] Trial 26 finished with value: 0.7855767258867452 and parameters: {'max_features': 0.538724379929872, 'max_depth': 9, 'criterion': 'gini'}. Best is trial 15 with value: 0.8264296199654687.\n",
      "[I 2025-08-08 13:27:58,306] Trial 27 finished with value: 0.7892319400945459 and parameters: {'max_features': 0.21636595141131598, 'max_depth': 5, 'criterion': 'entropy'}. Best is trial 15 with value: 0.8264296199654687.\n",
      "[I 2025-08-08 13:27:58,332] Trial 28 finished with value: 0.7975238694612913 and parameters: {'max_features': 0.28564306081387925, 'max_depth': 20, 'criterion': 'gini'}. Best is trial 15 with value: 0.8264296199654687.\n",
      "[I 2025-08-08 13:27:58,355] Trial 29 finished with value: 0.8029401675402049 and parameters: {'max_features': 0.4087630328753314, 'max_depth': 5, 'criterion': 'entropy'}. Best is trial 15 with value: 0.8264296199654687.\n",
      "[I 2025-08-08 13:27:58,383] Trial 30 finished with value: 0.760309332320251 and parameters: {'max_features': 0.7166280170110539, 'max_depth': 12, 'criterion': 'gini'}. Best is trial 15 with value: 0.8264296199654687.\n",
      "[I 2025-08-08 13:27:58,404] Trial 31 finished with value: 0.7933226308389708 and parameters: {'max_features': 0.28156247517473604, 'max_depth': 4, 'criterion': 'gini'}. Best is trial 15 with value: 0.8264296199654687.\n",
      "[I 2025-08-08 13:27:58,434] Trial 32 finished with value: 0.7612429852494758 and parameters: {'max_features': 0.5146478879095183, 'max_depth': 15, 'criterion': 'entropy'}. Best is trial 15 with value: 0.8264296199654687.\n",
      "[I 2025-08-08 13:27:58,461] Trial 33 finished with value: 0.7940523727285934 and parameters: {'max_features': 0.791232238595917, 'max_depth': 9, 'criterion': 'gini'}. Best is trial 15 with value: 0.8264296199654687.\n",
      "[I 2025-08-08 13:27:58,482] Trial 34 finished with value: 0.8130819638891221 and parameters: {'max_features': 0.2350833207643682, 'max_depth': 7, 'criterion': 'gini'}. Best is trial 15 with value: 0.8264296199654687.\n",
      "[I 2025-08-08 13:27:58,509] Trial 35 finished with value: 0.7752538890978453 and parameters: {'max_features': 0.7304004630412504, 'max_depth': 13, 'criterion': 'entropy'}. Best is trial 15 with value: 0.8264296199654687.\n",
      "[I 2025-08-08 13:27:58,537] Trial 36 finished with value: 0.79861377605407 and parameters: {'max_features': 0.6483944582939147, 'max_depth': 9, 'criterion': 'entropy'}. Best is trial 15 with value: 0.8264296199654687.\n",
      "[I 2025-08-08 13:27:58,558] Trial 37 finished with value: 0.7971372105035571 and parameters: {'max_features': 0.2834234138951542, 'max_depth': 8, 'criterion': 'entropy'}. Best is trial 15 with value: 0.8264296199654687.\n",
      "[I 2025-08-08 13:27:58,580] Trial 38 finished with value: 0.7852393397029513 and parameters: {'max_features': 0.2201417978273986, 'max_depth': 11, 'criterion': 'log_loss'}. Best is trial 15 with value: 0.8264296199654687.\n",
      "[I 2025-08-08 13:27:58,605] Trial 39 finished with value: 0.7701748674943718 and parameters: {'max_features': 0.5364807089405713, 'max_depth': 20, 'criterion': 'gini'}. Best is trial 15 with value: 0.8264296199654687.\n",
      "[I 2025-08-08 13:27:58,630] Trial 40 finished with value: 0.7634914963241309 and parameters: {'max_features': 0.24747351338084247, 'max_depth': 15, 'criterion': 'log_loss'}. Best is trial 15 with value: 0.8264296199654687.\n",
      "[I 2025-08-08 13:27:58,656] Trial 41 finished with value: 0.8081800221817919 and parameters: {'max_features': 0.4397256249868581, 'max_depth': 7, 'criterion': 'gini'}. Best is trial 15 with value: 0.8264296199654687.\n",
      "[I 2025-08-08 13:27:58,684] Trial 42 finished with value: 0.7927260965338521 and parameters: {'max_features': 0.6387149731721894, 'max_depth': 5, 'criterion': 'log_loss'}. Best is trial 15 with value: 0.8264296199654687.\n",
      "[I 2025-08-08 13:27:58,713] Trial 43 finished with value: 0.7612429852494758 and parameters: {'max_features': 0.47635430241040627, 'max_depth': 15, 'criterion': 'entropy'}. Best is trial 15 with value: 0.8264296199654687.\n",
      "[I 2025-08-08 13:27:58,744] Trial 44 finished with value: 0.7842738032346871 and parameters: {'max_features': 0.582717137345293, 'max_depth': 17, 'criterion': 'gini'}. Best is trial 15 with value: 0.8264296199654687.\n",
      "[I 2025-08-08 13:27:58,772] Trial 45 finished with value: 0.7704267590168279 and parameters: {'max_features': 0.8111180316876074, 'max_depth': 9, 'criterion': 'log_loss'}. Best is trial 15 with value: 0.8264296199654687.\n",
      "[I 2025-08-08 13:27:58,801] Trial 46 finished with value: 0.8166804424800755 and parameters: {'max_features': 0.8837821795322063, 'max_depth': 7, 'criterion': 'gini'}. Best is trial 15 with value: 0.8264296199654687.\n",
      "[I 2025-08-08 13:27:58,822] Trial 47 finished with value: 0.8006254425377476 and parameters: {'max_features': 0.8235775834814492, 'max_depth': 2, 'criterion': 'log_loss'}. Best is trial 15 with value: 0.8264296199654687.\n",
      "[I 2025-08-08 13:27:58,849] Trial 48 finished with value: 0.7834967698478307 and parameters: {'max_features': 0.7408230940607821, 'max_depth': 17, 'criterion': 'entropy'}. Best is trial 15 with value: 0.8264296199654687.\n",
      "[I 2025-08-08 13:27:58,876] Trial 49 finished with value: 0.7811421246996941 and parameters: {'max_features': 0.8205245061858621, 'max_depth': 10, 'criterion': 'log_loss'}. Best is trial 15 with value: 0.8264296199654687.\n",
      "[I 2025-08-08 13:27:58,898] Trial 50 finished with value: 0.8351775171055792 and parameters: {'max_features': 0.6214936711943586, 'max_depth': 3, 'criterion': 'gini'}. Best is trial 50 with value: 0.8351775171055792.\n",
      "[I 2025-08-08 13:27:58,921] Trial 51 finished with value: 0.812363919257977 and parameters: {'max_features': 0.6802253336611624, 'max_depth': 3, 'criterion': 'entropy'}. Best is trial 50 with value: 0.8351775171055792.\n",
      "[I 2025-08-08 13:27:58,941] Trial 52 finished with value: 0.7730686654785274 and parameters: {'max_features': 0.2805703871125815, 'max_depth': 3, 'criterion': 'gini'}. Best is trial 50 with value: 0.8351775171055792.\n",
      "[I 2025-08-08 13:27:58,966] Trial 53 finished with value: 0.7908546222856778 and parameters: {'max_features': 0.5757388557937503, 'max_depth': 9, 'criterion': 'log_loss'}. Best is trial 50 with value: 0.8351775171055792.\n",
      "[I 2025-08-08 13:27:58,987] Trial 54 finished with value: 0.7863849591785336 and parameters: {'max_features': 0.534105723279167, 'max_depth': 3, 'criterion': 'entropy'}. Best is trial 50 with value: 0.8351775171055792.\n",
      "[I 2025-08-08 13:27:59,014] Trial 55 finished with value: 0.7940523727285934 and parameters: {'max_features': 0.7875376080750822, 'max_depth': 9, 'criterion': 'gini'}. Best is trial 50 with value: 0.8351775171055792.\n",
      "[I 2025-08-08 13:27:59,036] Trial 56 finished with value: 0.7778033682559473 and parameters: {'max_features': 0.34977181903272697, 'max_depth': 10, 'criterion': 'log_loss'}. Best is trial 50 with value: 0.8351775171055792.\n",
      "[I 2025-08-08 13:27:59,056] Trial 57 finished with value: 0.7373658155430279 and parameters: {'max_features': 0.43616375479211933, 'max_depth': 2, 'criterion': 'gini'}. Best is trial 50 with value: 0.8351775171055792.\n",
      "[I 2025-08-08 13:27:59,077] Trial 58 finished with value: 0.8455312269254053 and parameters: {'max_features': 0.6292840455296023, 'max_depth': 2, 'criterion': 'entropy'}. Best is trial 58 with value: 0.8455312269254053.\n",
      "[I 2025-08-08 13:27:59,104] Trial 59 finished with value: 0.7847216152322536 and parameters: {'max_features': 0.7677097015253886, 'max_depth': 15, 'criterion': 'entropy'}. Best is trial 58 with value: 0.8455312269254053.\n",
      "[I 2025-08-08 13:27:59,131] Trial 60 finished with value: 0.7861655187010274 and parameters: {'max_features': 0.7929795551193628, 'max_depth': 8, 'criterion': 'gini'}. Best is trial 58 with value: 0.8455312269254053.\n",
      "[I 2025-08-08 13:27:59,159] Trial 61 finished with value: 0.7852478232571379 and parameters: {'max_features': 0.49780265526131984, 'max_depth': 13, 'criterion': 'entropy'}. Best is trial 58 with value: 0.8455312269254053.\n",
      "[I 2025-08-08 13:27:59,182] Trial 62 finished with value: 0.782708861458827 and parameters: {'max_features': 0.39016779912978683, 'max_depth': 8, 'criterion': 'entropy'}. Best is trial 58 with value: 0.8455312269254053.\n",
      "[I 2025-08-08 13:27:59,208] Trial 63 finished with value: 0.7739391943183651 and parameters: {'max_features': 0.5346482720481256, 'max_depth': 14, 'criterion': 'entropy'}. Best is trial 58 with value: 0.8455312269254053.\n",
      "[I 2025-08-08 13:27:59,232] Trial 64 finished with value: 0.7765269903285628 and parameters: {'max_features': 0.4918189868224119, 'max_depth': 10, 'criterion': 'gini'}. Best is trial 58 with value: 0.8455312269254053.\n",
      "[I 2025-08-08 13:27:59,259] Trial 65 finished with value: 0.760309332320251 and parameters: {'max_features': 0.644858029227916, 'max_depth': 12, 'criterion': 'gini'}. Best is trial 58 with value: 0.8455312269254053.\n",
      "[I 2025-08-08 13:27:59,288] Trial 66 finished with value: 0.7849805338333257 and parameters: {'max_features': 0.7360766516197423, 'max_depth': 16, 'criterion': 'log_loss'}. Best is trial 58 with value: 0.8455312269254053.\n",
      "[I 2025-08-08 13:27:59,313] Trial 67 finished with value: 0.8043589330032402 and parameters: {'max_features': 0.5993334757995747, 'max_depth': 8, 'criterion': 'entropy'}. Best is trial 58 with value: 0.8455312269254053.\n",
      "[I 2025-08-08 13:27:59,341] Trial 68 finished with value: 0.7657925669538325 and parameters: {'max_features': 0.8966209865368737, 'max_depth': 13, 'criterion': 'entropy'}. Best is trial 58 with value: 0.8455312269254053.\n",
      "[I 2025-08-08 13:27:59,366] Trial 69 finished with value: 0.7626029512503258 and parameters: {'max_features': 0.47666535605864935, 'max_depth': 18, 'criterion': 'log_loss'}. Best is trial 58 with value: 0.8455312269254053.\n",
      "[I 2025-08-08 13:27:59,394] Trial 70 finished with value: 0.7546352388500593 and parameters: {'max_features': 0.8261359062941942, 'max_depth': 20, 'criterion': 'gini'}. Best is trial 58 with value: 0.8455312269254053.\n",
      "[I 2025-08-08 13:27:59,419] Trial 71 finished with value: 0.7861655187010274 and parameters: {'max_features': 0.7631272970306255, 'max_depth': 8, 'criterion': 'gini'}. Best is trial 58 with value: 0.8455312269254053.\n",
      "[I 2025-08-08 13:27:59,440] Trial 72 finished with value: 0.7813014414268508 and parameters: {'max_features': 0.23617028551427738, 'max_depth': 9, 'criterion': 'gini'}. Best is trial 58 with value: 0.8455312269254053.\n",
      "[I 2025-08-08 13:27:59,464] Trial 73 finished with value: 0.7456337653378259 and parameters: {'max_features': 0.2105956262203469, 'max_depth': 13, 'criterion': 'entropy'}. Best is trial 58 with value: 0.8455312269254053.\n",
      "[I 2025-08-08 13:27:59,489] Trial 74 finished with value: 0.7636790526266373 and parameters: {'max_features': 0.7121996884727522, 'max_depth': 20, 'criterion': 'gini'}. Best is trial 58 with value: 0.8455312269254053.\n",
      "[I 2025-08-08 13:27:59,511] Trial 75 finished with value: 0.768840358934151 and parameters: {'max_features': 0.31849192104367974, 'max_depth': 10, 'criterion': 'gini'}. Best is trial 58 with value: 0.8455312269254053.\n",
      "[I 2025-08-08 13:27:59,617] Trial 76 finished with value: 0.7707821723981337 and parameters: {'max_features': 0.4813704884942549, 'max_depth': 12, 'criterion': 'gini'}. Best is trial 58 with value: 0.8455312269254053.\n",
      "[I 2025-08-08 13:27:59,640] Trial 77 finished with value: 0.7814558789948155 and parameters: {'max_features': 0.40456056230675913, 'max_depth': 9, 'criterion': 'entropy'}. Best is trial 58 with value: 0.8455312269254053.\n",
      "[I 2025-08-08 13:27:59,666] Trial 78 finished with value: 0.7728546170223812 and parameters: {'max_features': 0.6938932017559805, 'max_depth': 16, 'criterion': 'log_loss'}. Best is trial 58 with value: 0.8455312269254053.\n",
      "[I 2025-08-08 13:27:59,688] Trial 79 finished with value: 0.7589988798925769 and parameters: {'max_features': 0.2579822816471263, 'max_depth': 18, 'criterion': 'gini'}. Best is trial 58 with value: 0.8455312269254053.\n",
      "[I 2025-08-08 13:27:59,709] Trial 80 finished with value: 0.8029401675402049 and parameters: {'max_features': 0.3772415218469247, 'max_depth': 5, 'criterion': 'entropy'}. Best is trial 58 with value: 0.8455312269254053.\n",
      "[I 2025-08-08 13:27:59,731] Trial 81 finished with value: 0.7745029876353093 and parameters: {'max_features': 0.3597628315384541, 'max_depth': 16, 'criterion': 'entropy'}. Best is trial 58 with value: 0.8455312269254053.\n",
      "[I 2025-08-08 13:27:59,757] Trial 82 finished with value: 0.7850378098251061 and parameters: {'max_features': 0.6389882574175019, 'max_depth': 11, 'criterion': 'log_loss'}. Best is trial 58 with value: 0.8455312269254053.\n",
      "[I 2025-08-08 13:27:59,776] Trial 83 finished with value: 0.8238561742129595 and parameters: {'max_features': 0.22104335870707612, 'max_depth': 3, 'criterion': 'entropy'}. Best is trial 58 with value: 0.8455312269254053.\n",
      "[I 2025-08-08 13:27:59,799] Trial 84 finished with value: 0.7995500165673972 and parameters: {'max_features': 0.812053911319925, 'max_depth': 5, 'criterion': 'gini'}. Best is trial 58 with value: 0.8455312269254053.\n",
      "[I 2025-08-08 13:27:59,822] Trial 85 finished with value: 0.8120104158563677 and parameters: {'max_features': 0.6513050657020921, 'max_depth': 4, 'criterion': 'gini'}. Best is trial 58 with value: 0.8455312269254053.\n",
      "[I 2025-08-08 13:27:59,843] Trial 86 finished with value: 0.8238561742129595 and parameters: {'max_features': 0.2547687026984708, 'max_depth': 3, 'criterion': 'entropy'}. Best is trial 58 with value: 0.8455312269254053.\n",
      "[I 2025-08-08 13:27:59,868] Trial 87 finished with value: 0.7701748674943718 and parameters: {'max_features': 0.5199320455430466, 'max_depth': 18, 'criterion': 'gini'}. Best is trial 58 with value: 0.8455312269254053.\n",
      "[I 2025-08-08 13:27:59,891] Trial 88 finished with value: 0.8296267481539905 and parameters: {'max_features': 0.4777594409777501, 'max_depth': 5, 'criterion': 'gini'}. Best is trial 58 with value: 0.8455312269254053.\n",
      "[I 2025-08-08 13:27:59,913] Trial 89 finished with value: 0.8268973597788805 and parameters: {'max_features': 0.41089545482441603, 'max_depth': 6, 'criterion': 'log_loss'}. Best is trial 58 with value: 0.8455312269254053.\n",
      "[I 2025-08-08 13:27:59,936] Trial 90 finished with value: 0.7778033682559473 and parameters: {'max_features': 0.33510224052119536, 'max_depth': 10, 'criterion': 'log_loss'}. Best is trial 58 with value: 0.8455312269254053.\n",
      "[I 2025-08-08 13:27:59,961] Trial 91 finished with value: 0.7892855881870163 and parameters: {'max_features': 0.5484061993556515, 'max_depth': 15, 'criterion': 'log_loss'}. Best is trial 58 with value: 0.8455312269254053.\n",
      "[I 2025-08-08 13:27:59,981] Trial 92 finished with value: 0.8189754020892852 and parameters: {'max_features': 0.41576275345659586, 'max_depth': 3, 'criterion': 'log_loss'}. Best is trial 58 with value: 0.8455312269254053.\n",
      "[I 2025-08-08 13:28:00,009] Trial 93 finished with value: 0.7752538890978453 and parameters: {'max_features': 0.7387325577004233, 'max_depth': 13, 'criterion': 'entropy'}. Best is trial 58 with value: 0.8455312269254053.\n",
      "[I 2025-08-08 13:28:00,032] Trial 94 finished with value: 0.7850455030482524 and parameters: {'max_features': 0.3337785384428917, 'max_depth': 15, 'criterion': 'gini'}. Best is trial 58 with value: 0.8455312269254053.\n",
      "[I 2025-08-08 13:28:00,061] Trial 95 finished with value: 0.7931245110586912 and parameters: {'max_features': 0.7556463924949239, 'max_depth': 7, 'criterion': 'entropy'}. Best is trial 58 with value: 0.8455312269254053.\n",
      "[I 2025-08-08 13:28:00,086] Trial 96 finished with value: 0.7849665158193939 and parameters: {'max_features': 0.5674639720043657, 'max_depth': 19, 'criterion': 'entropy'}. Best is trial 58 with value: 0.8455312269254053.\n",
      "[I 2025-08-08 13:28:00,106] Trial 97 finished with value: 0.7747709541024443 and parameters: {'max_features': 0.20961849791676174, 'max_depth': 5, 'criterion': 'gini'}. Best is trial 58 with value: 0.8455312269254053.\n",
      "[I 2025-08-08 13:28:00,130] Trial 98 finished with value: 0.817597023794848 and parameters: {'max_features': 0.5054433886667469, 'max_depth': 6, 'criterion': 'gini'}. Best is trial 58 with value: 0.8455312269254053.\n",
      "[I 2025-08-08 13:28:00,152] Trial 99 finished with value: 0.7661368345940183 and parameters: {'max_features': 0.20597821207882488, 'max_depth': 19, 'criterion': 'gini'}. Best is trial 58 with value: 0.8455312269254053.\n"
     ]
    }
   ],
   "source": [
    "# create objective function\n",
    "\n",
    "def objective(trial):\n",
    "\n",
    "    # define the params\n",
    "    max_features = trial.suggest_float('max_features', 0.2, 0.9)\n",
    "    max_depth = trial.suggest_int('max_depth', 2, 20)\n",
    "    criterion = trial.suggest_categorical('criterion', ['entropy','gini','log_loss'])\n",
    "\n",
    "    # init the model\n",
    "    classifier = DecisionTreeClassifier(max_depth=max_depth,\n",
    "                                        criterion=criterion, random_state=23,max_features=max_features)\n",
    "    score = cross_val_score(estimator=classifier, X=X, y=y,\n",
    "                            scoring='f1', cv=5).mean()\n",
    "    \n",
    "    return score\n",
    "\n",
    "\n",
    "# Create a study object and optimize the objective function.\n",
    "study = optuna.create_study(direction='maximize', sampler=optuna.samplers.RandomSampler(seed=23))\n",
    "\n",
    "# optimize the study\n",
    "study.optimize(objective, n_trials=100)"
   ]
  },
  {
   "cell_type": "markdown",
   "id": "3bee35a0",
   "metadata": {},
   "source": [
    "### Visualize the Performance"
   ]
  },
  {
   "cell_type": "code",
   "execution_count": 18,
   "id": "9ba75762",
   "metadata": {},
   "outputs": [],
   "source": [
    "import plotly.express as px"
   ]
  },
  {
   "cell_type": "code",
   "execution_count": 19,
   "id": "f49c84f6",
   "metadata": {},
   "outputs": [
    {
     "data": {
      "application/vnd.plotly.v1+json": {
       "config": {
        "plotlyServerURL": "https://plot.ly"
       },
       "data": [
        {
         "cliponaxis": false,
         "hovertemplate": [
          "criterion (CategoricalDistribution): 0.018224679542410954<extra></extra>",
          "max_features (FloatDistribution): 0.10465341285959644<extra></extra>",
          "max_depth (IntDistribution): 0.8771219075979926<extra></extra>"
         ],
         "name": "Objective Value",
         "orientation": "h",
         "text": [
          "0.02",
          "0.10",
          "0.88"
         ],
         "textposition": "outside",
         "type": "bar",
         "x": [
          0.018224679542410954,
          0.10465341285959644,
          0.8771219075979926
         ],
         "y": [
          "criterion",
          "max_features",
          "max_depth"
         ]
        }
       ],
       "layout": {
        "template": {
         "data": {
          "bar": [
           {
            "error_x": {
             "color": "#2a3f5f"
            },
            "error_y": {
             "color": "#2a3f5f"
            },
            "marker": {
             "line": {
              "color": "#E5ECF6",
              "width": 0.5
             },
             "pattern": {
              "fillmode": "overlay",
              "size": 10,
              "solidity": 0.2
             }
            },
            "type": "bar"
           }
          ],
          "barpolar": [
           {
            "marker": {
             "line": {
              "color": "#E5ECF6",
              "width": 0.5
             },
             "pattern": {
              "fillmode": "overlay",
              "size": 10,
              "solidity": 0.2
             }
            },
            "type": "barpolar"
           }
          ],
          "carpet": [
           {
            "aaxis": {
             "endlinecolor": "#2a3f5f",
             "gridcolor": "white",
             "linecolor": "white",
             "minorgridcolor": "white",
             "startlinecolor": "#2a3f5f"
            },
            "baxis": {
             "endlinecolor": "#2a3f5f",
             "gridcolor": "white",
             "linecolor": "white",
             "minorgridcolor": "white",
             "startlinecolor": "#2a3f5f"
            },
            "type": "carpet"
           }
          ],
          "choropleth": [
           {
            "colorbar": {
             "outlinewidth": 0,
             "ticks": ""
            },
            "type": "choropleth"
           }
          ],
          "contour": [
           {
            "colorbar": {
             "outlinewidth": 0,
             "ticks": ""
            },
            "colorscale": [
             [
              0,
              "#0d0887"
             ],
             [
              0.1111111111111111,
              "#46039f"
             ],
             [
              0.2222222222222222,
              "#7201a8"
             ],
             [
              0.3333333333333333,
              "#9c179e"
             ],
             [
              0.4444444444444444,
              "#bd3786"
             ],
             [
              0.5555555555555556,
              "#d8576b"
             ],
             [
              0.6666666666666666,
              "#ed7953"
             ],
             [
              0.7777777777777778,
              "#fb9f3a"
             ],
             [
              0.8888888888888888,
              "#fdca26"
             ],
             [
              1,
              "#f0f921"
             ]
            ],
            "type": "contour"
           }
          ],
          "contourcarpet": [
           {
            "colorbar": {
             "outlinewidth": 0,
             "ticks": ""
            },
            "type": "contourcarpet"
           }
          ],
          "heatmap": [
           {
            "colorbar": {
             "outlinewidth": 0,
             "ticks": ""
            },
            "colorscale": [
             [
              0,
              "#0d0887"
             ],
             [
              0.1111111111111111,
              "#46039f"
             ],
             [
              0.2222222222222222,
              "#7201a8"
             ],
             [
              0.3333333333333333,
              "#9c179e"
             ],
             [
              0.4444444444444444,
              "#bd3786"
             ],
             [
              0.5555555555555556,
              "#d8576b"
             ],
             [
              0.6666666666666666,
              "#ed7953"
             ],
             [
              0.7777777777777778,
              "#fb9f3a"
             ],
             [
              0.8888888888888888,
              "#fdca26"
             ],
             [
              1,
              "#f0f921"
             ]
            ],
            "type": "heatmap"
           }
          ],
          "histogram": [
           {
            "marker": {
             "pattern": {
              "fillmode": "overlay",
              "size": 10,
              "solidity": 0.2
             }
            },
            "type": "histogram"
           }
          ],
          "histogram2d": [
           {
            "colorbar": {
             "outlinewidth": 0,
             "ticks": ""
            },
            "colorscale": [
             [
              0,
              "#0d0887"
             ],
             [
              0.1111111111111111,
              "#46039f"
             ],
             [
              0.2222222222222222,
              "#7201a8"
             ],
             [
              0.3333333333333333,
              "#9c179e"
             ],
             [
              0.4444444444444444,
              "#bd3786"
             ],
             [
              0.5555555555555556,
              "#d8576b"
             ],
             [
              0.6666666666666666,
              "#ed7953"
             ],
             [
              0.7777777777777778,
              "#fb9f3a"
             ],
             [
              0.8888888888888888,
              "#fdca26"
             ],
             [
              1,
              "#f0f921"
             ]
            ],
            "type": "histogram2d"
           }
          ],
          "histogram2dcontour": [
           {
            "colorbar": {
             "outlinewidth": 0,
             "ticks": ""
            },
            "colorscale": [
             [
              0,
              "#0d0887"
             ],
             [
              0.1111111111111111,
              "#46039f"
             ],
             [
              0.2222222222222222,
              "#7201a8"
             ],
             [
              0.3333333333333333,
              "#9c179e"
             ],
             [
              0.4444444444444444,
              "#bd3786"
             ],
             [
              0.5555555555555556,
              "#d8576b"
             ],
             [
              0.6666666666666666,
              "#ed7953"
             ],
             [
              0.7777777777777778,
              "#fb9f3a"
             ],
             [
              0.8888888888888888,
              "#fdca26"
             ],
             [
              1,
              "#f0f921"
             ]
            ],
            "type": "histogram2dcontour"
           }
          ],
          "mesh3d": [
           {
            "colorbar": {
             "outlinewidth": 0,
             "ticks": ""
            },
            "type": "mesh3d"
           }
          ],
          "parcoords": [
           {
            "line": {
             "colorbar": {
              "outlinewidth": 0,
              "ticks": ""
             }
            },
            "type": "parcoords"
           }
          ],
          "pie": [
           {
            "automargin": true,
            "type": "pie"
           }
          ],
          "scatter": [
           {
            "fillpattern": {
             "fillmode": "overlay",
             "size": 10,
             "solidity": 0.2
            },
            "type": "scatter"
           }
          ],
          "scatter3d": [
           {
            "line": {
             "colorbar": {
              "outlinewidth": 0,
              "ticks": ""
             }
            },
            "marker": {
             "colorbar": {
              "outlinewidth": 0,
              "ticks": ""
             }
            },
            "type": "scatter3d"
           }
          ],
          "scattercarpet": [
           {
            "marker": {
             "colorbar": {
              "outlinewidth": 0,
              "ticks": ""
             }
            },
            "type": "scattercarpet"
           }
          ],
          "scattergeo": [
           {
            "marker": {
             "colorbar": {
              "outlinewidth": 0,
              "ticks": ""
             }
            },
            "type": "scattergeo"
           }
          ],
          "scattergl": [
           {
            "marker": {
             "colorbar": {
              "outlinewidth": 0,
              "ticks": ""
             }
            },
            "type": "scattergl"
           }
          ],
          "scattermap": [
           {
            "marker": {
             "colorbar": {
              "outlinewidth": 0,
              "ticks": ""
             }
            },
            "type": "scattermap"
           }
          ],
          "scattermapbox": [
           {
            "marker": {
             "colorbar": {
              "outlinewidth": 0,
              "ticks": ""
             }
            },
            "type": "scattermapbox"
           }
          ],
          "scatterpolar": [
           {
            "marker": {
             "colorbar": {
              "outlinewidth": 0,
              "ticks": ""
             }
            },
            "type": "scatterpolar"
           }
          ],
          "scatterpolargl": [
           {
            "marker": {
             "colorbar": {
              "outlinewidth": 0,
              "ticks": ""
             }
            },
            "type": "scatterpolargl"
           }
          ],
          "scatterternary": [
           {
            "marker": {
             "colorbar": {
              "outlinewidth": 0,
              "ticks": ""
             }
            },
            "type": "scatterternary"
           }
          ],
          "surface": [
           {
            "colorbar": {
             "outlinewidth": 0,
             "ticks": ""
            },
            "colorscale": [
             [
              0,
              "#0d0887"
             ],
             [
              0.1111111111111111,
              "#46039f"
             ],
             [
              0.2222222222222222,
              "#7201a8"
             ],
             [
              0.3333333333333333,
              "#9c179e"
             ],
             [
              0.4444444444444444,
              "#bd3786"
             ],
             [
              0.5555555555555556,
              "#d8576b"
             ],
             [
              0.6666666666666666,
              "#ed7953"
             ],
             [
              0.7777777777777778,
              "#fb9f3a"
             ],
             [
              0.8888888888888888,
              "#fdca26"
             ],
             [
              1,
              "#f0f921"
             ]
            ],
            "type": "surface"
           }
          ],
          "table": [
           {
            "cells": {
             "fill": {
              "color": "#EBF0F8"
             },
             "line": {
              "color": "white"
             }
            },
            "header": {
             "fill": {
              "color": "#C8D4E3"
             },
             "line": {
              "color": "white"
             }
            },
            "type": "table"
           }
          ]
         },
         "layout": {
          "annotationdefaults": {
           "arrowcolor": "#2a3f5f",
           "arrowhead": 0,
           "arrowwidth": 1
          },
          "autotypenumbers": "strict",
          "coloraxis": {
           "colorbar": {
            "outlinewidth": 0,
            "ticks": ""
           }
          },
          "colorscale": {
           "diverging": [
            [
             0,
             "#8e0152"
            ],
            [
             0.1,
             "#c51b7d"
            ],
            [
             0.2,
             "#de77ae"
            ],
            [
             0.3,
             "#f1b6da"
            ],
            [
             0.4,
             "#fde0ef"
            ],
            [
             0.5,
             "#f7f7f7"
            ],
            [
             0.6,
             "#e6f5d0"
            ],
            [
             0.7,
             "#b8e186"
            ],
            [
             0.8,
             "#7fbc41"
            ],
            [
             0.9,
             "#4d9221"
            ],
            [
             1,
             "#276419"
            ]
           ],
           "sequential": [
            [
             0,
             "#0d0887"
            ],
            [
             0.1111111111111111,
             "#46039f"
            ],
            [
             0.2222222222222222,
             "#7201a8"
            ],
            [
             0.3333333333333333,
             "#9c179e"
            ],
            [
             0.4444444444444444,
             "#bd3786"
            ],
            [
             0.5555555555555556,
             "#d8576b"
            ],
            [
             0.6666666666666666,
             "#ed7953"
            ],
            [
             0.7777777777777778,
             "#fb9f3a"
            ],
            [
             0.8888888888888888,
             "#fdca26"
            ],
            [
             1,
             "#f0f921"
            ]
           ],
           "sequentialminus": [
            [
             0,
             "#0d0887"
            ],
            [
             0.1111111111111111,
             "#46039f"
            ],
            [
             0.2222222222222222,
             "#7201a8"
            ],
            [
             0.3333333333333333,
             "#9c179e"
            ],
            [
             0.4444444444444444,
             "#bd3786"
            ],
            [
             0.5555555555555556,
             "#d8576b"
            ],
            [
             0.6666666666666666,
             "#ed7953"
            ],
            [
             0.7777777777777778,
             "#fb9f3a"
            ],
            [
             0.8888888888888888,
             "#fdca26"
            ],
            [
             1,
             "#f0f921"
            ]
           ]
          },
          "colorway": [
           "#636efa",
           "#EF553B",
           "#00cc96",
           "#ab63fa",
           "#FFA15A",
           "#19d3f3",
           "#FF6692",
           "#B6E880",
           "#FF97FF",
           "#FECB52"
          ],
          "font": {
           "color": "#2a3f5f"
          },
          "geo": {
           "bgcolor": "white",
           "lakecolor": "white",
           "landcolor": "#E5ECF6",
           "showlakes": true,
           "showland": true,
           "subunitcolor": "white"
          },
          "hoverlabel": {
           "align": "left"
          },
          "hovermode": "closest",
          "mapbox": {
           "style": "light"
          },
          "paper_bgcolor": "white",
          "plot_bgcolor": "#E5ECF6",
          "polar": {
           "angularaxis": {
            "gridcolor": "white",
            "linecolor": "white",
            "ticks": ""
           },
           "bgcolor": "#E5ECF6",
           "radialaxis": {
            "gridcolor": "white",
            "linecolor": "white",
            "ticks": ""
           }
          },
          "scene": {
           "xaxis": {
            "backgroundcolor": "#E5ECF6",
            "gridcolor": "white",
            "gridwidth": 2,
            "linecolor": "white",
            "showbackground": true,
            "ticks": "",
            "zerolinecolor": "white"
           },
           "yaxis": {
            "backgroundcolor": "#E5ECF6",
            "gridcolor": "white",
            "gridwidth": 2,
            "linecolor": "white",
            "showbackground": true,
            "ticks": "",
            "zerolinecolor": "white"
           },
           "zaxis": {
            "backgroundcolor": "#E5ECF6",
            "gridcolor": "white",
            "gridwidth": 2,
            "linecolor": "white",
            "showbackground": true,
            "ticks": "",
            "zerolinecolor": "white"
           }
          },
          "shapedefaults": {
           "line": {
            "color": "#2a3f5f"
           }
          },
          "ternary": {
           "aaxis": {
            "gridcolor": "white",
            "linecolor": "white",
            "ticks": ""
           },
           "baxis": {
            "gridcolor": "white",
            "linecolor": "white",
            "ticks": ""
           },
           "bgcolor": "#E5ECF6",
           "caxis": {
            "gridcolor": "white",
            "linecolor": "white",
            "ticks": ""
           }
          },
          "title": {
           "x": 0.05
          },
          "xaxis": {
           "automargin": true,
           "gridcolor": "white",
           "linecolor": "white",
           "ticks": "",
           "title": {
            "standoff": 15
           },
           "zerolinecolor": "white",
           "zerolinewidth": 2
          },
          "yaxis": {
           "automargin": true,
           "gridcolor": "white",
           "linecolor": "white",
           "ticks": "",
           "title": {
            "standoff": 15
           },
           "zerolinecolor": "white",
           "zerolinewidth": 2
          }
         }
        },
        "title": {
         "text": "Hyperparameter Importances"
        },
        "xaxis": {
         "title": {
          "text": "Hyperparameter Importance"
         }
        },
        "yaxis": {
         "title": {
          "text": "Hyperparameter"
         }
        }
       }
      }
     },
     "metadata": {},
     "output_type": "display_data"
    }
   ],
   "source": [
    "optuna.visualization.plot_param_importances(study)"
   ]
  },
  {
   "cell_type": "code",
   "execution_count": 20,
   "id": "1994530b",
   "metadata": {},
   "outputs": [
    {
     "data": {
      "application/vnd.plotly.v1+json": {
       "config": {
        "plotlyServerURL": "https://plot.ly"
       },
       "data": [
        {
         "mode": "markers",
         "name": "Objective Value",
         "type": "scatter",
         "x": [
          0,
          1,
          2,
          3,
          4,
          5,
          6,
          7,
          8,
          9,
          10,
          11,
          12,
          13,
          14,
          15,
          16,
          17,
          18,
          19,
          20,
          21,
          22,
          23,
          24,
          25,
          26,
          27,
          28,
          29,
          30,
          31,
          32,
          33,
          34,
          35,
          36,
          37,
          38,
          39,
          40,
          41,
          42,
          43,
          44,
          45,
          46,
          47,
          48,
          49,
          50,
          51,
          52,
          53,
          54,
          55,
          56,
          57,
          58,
          59,
          60,
          61,
          62,
          63,
          64,
          65,
          66,
          67,
          68,
          69,
          70,
          71,
          72,
          73,
          74,
          75,
          76,
          77,
          78,
          79,
          80,
          81,
          82,
          83,
          84,
          85,
          86,
          87,
          88,
          89,
          90,
          91,
          92,
          93,
          94,
          95,
          96,
          97,
          98,
          99
         ],
         "y": [
          0.7849665158193939,
          0.8136358757398648,
          0.7650332751317521,
          0.7546352388500593,
          0.7752538890978453,
          0.768840358934151,
          0.7811030447900844,
          0.767770665612453,
          0.7738932900395024,
          0.7677826253713074,
          0.7728952065278346,
          0.7827162434030925,
          0.8208847273419455,
          0.8143512296125603,
          0.780031224801536,
          0.8264296199654687,
          0.7704267590168279,
          0.7754480595674142,
          0.77414772133981,
          0.7809303539472959,
          0.760309332320251,
          0.7647273040781732,
          0.7849665158193939,
          0.7666822969398217,
          0.79861377605407,
          0.7626029512503258,
          0.7855767258867452,
          0.7892319400945459,
          0.7975238694612913,
          0.8029401675402049,
          0.760309332320251,
          0.7933226308389708,
          0.7612429852494758,
          0.7940523727285934,
          0.8130819638891221,
          0.7752538890978453,
          0.79861377605407,
          0.7971372105035571,
          0.7852393397029513,
          0.7701748674943718,
          0.7634914963241309,
          0.8081800221817919,
          0.7927260965338521,
          0.7612429852494758,
          0.7842738032346871,
          0.7704267590168279,
          0.8166804424800755,
          0.8006254425377476,
          0.7834967698478307,
          0.7811421246996941,
          0.8351775171055792,
          0.812363919257977,
          0.7730686654785274,
          0.7908546222856778,
          0.7863849591785336,
          0.7940523727285934,
          0.7778033682559473,
          0.7373658155430279,
          0.8455312269254053,
          0.7847216152322536,
          0.7861655187010274,
          0.7852478232571379,
          0.782708861458827,
          0.7739391943183651,
          0.7765269903285628,
          0.760309332320251,
          0.7849805338333257,
          0.8043589330032402,
          0.7657925669538325,
          0.7626029512503258,
          0.7546352388500593,
          0.7861655187010274,
          0.7813014414268508,
          0.7456337653378259,
          0.7636790526266373,
          0.768840358934151,
          0.7707821723981337,
          0.7814558789948155,
          0.7728546170223812,
          0.7589988798925769,
          0.8029401675402049,
          0.7745029876353093,
          0.7850378098251061,
          0.8238561742129595,
          0.7995500165673972,
          0.8120104158563677,
          0.8238561742129595,
          0.7701748674943718,
          0.8296267481539905,
          0.8268973597788805,
          0.7778033682559473,
          0.7892855881870163,
          0.8189754020892852,
          0.7752538890978453,
          0.7850455030482524,
          0.7931245110586912,
          0.7849665158193939,
          0.7747709541024443,
          0.817597023794848,
          0.7661368345940183
         ]
        },
        {
         "mode": "lines",
         "name": "Best Value",
         "type": "scatter",
         "x": [
          0,
          1,
          2,
          3,
          4,
          5,
          6,
          7,
          8,
          9,
          10,
          11,
          12,
          13,
          14,
          15,
          16,
          17,
          18,
          19,
          20,
          21,
          22,
          23,
          24,
          25,
          26,
          27,
          28,
          29,
          30,
          31,
          32,
          33,
          34,
          35,
          36,
          37,
          38,
          39,
          40,
          41,
          42,
          43,
          44,
          45,
          46,
          47,
          48,
          49,
          50,
          51,
          52,
          53,
          54,
          55,
          56,
          57,
          58,
          59,
          60,
          61,
          62,
          63,
          64,
          65,
          66,
          67,
          68,
          69,
          70,
          71,
          72,
          73,
          74,
          75,
          76,
          77,
          78,
          79,
          80,
          81,
          82,
          83,
          84,
          85,
          86,
          87,
          88,
          89,
          90,
          91,
          92,
          93,
          94,
          95,
          96,
          97,
          98,
          99
         ],
         "y": [
          0.7849665158193939,
          0.8136358757398648,
          0.8136358757398648,
          0.8136358757398648,
          0.8136358757398648,
          0.8136358757398648,
          0.8136358757398648,
          0.8136358757398648,
          0.8136358757398648,
          0.8136358757398648,
          0.8136358757398648,
          0.8136358757398648,
          0.8208847273419455,
          0.8208847273419455,
          0.8208847273419455,
          0.8264296199654687,
          0.8264296199654687,
          0.8264296199654687,
          0.8264296199654687,
          0.8264296199654687,
          0.8264296199654687,
          0.8264296199654687,
          0.8264296199654687,
          0.8264296199654687,
          0.8264296199654687,
          0.8264296199654687,
          0.8264296199654687,
          0.8264296199654687,
          0.8264296199654687,
          0.8264296199654687,
          0.8264296199654687,
          0.8264296199654687,
          0.8264296199654687,
          0.8264296199654687,
          0.8264296199654687,
          0.8264296199654687,
          0.8264296199654687,
          0.8264296199654687,
          0.8264296199654687,
          0.8264296199654687,
          0.8264296199654687,
          0.8264296199654687,
          0.8264296199654687,
          0.8264296199654687,
          0.8264296199654687,
          0.8264296199654687,
          0.8264296199654687,
          0.8264296199654687,
          0.8264296199654687,
          0.8264296199654687,
          0.8351775171055792,
          0.8351775171055792,
          0.8351775171055792,
          0.8351775171055792,
          0.8351775171055792,
          0.8351775171055792,
          0.8351775171055792,
          0.8351775171055792,
          0.8455312269254053,
          0.8455312269254053,
          0.8455312269254053,
          0.8455312269254053,
          0.8455312269254053,
          0.8455312269254053,
          0.8455312269254053,
          0.8455312269254053,
          0.8455312269254053,
          0.8455312269254053,
          0.8455312269254053,
          0.8455312269254053,
          0.8455312269254053,
          0.8455312269254053,
          0.8455312269254053,
          0.8455312269254053,
          0.8455312269254053,
          0.8455312269254053,
          0.8455312269254053,
          0.8455312269254053,
          0.8455312269254053,
          0.8455312269254053,
          0.8455312269254053,
          0.8455312269254053,
          0.8455312269254053,
          0.8455312269254053,
          0.8455312269254053,
          0.8455312269254053,
          0.8455312269254053,
          0.8455312269254053,
          0.8455312269254053,
          0.8455312269254053,
          0.8455312269254053,
          0.8455312269254053,
          0.8455312269254053,
          0.8455312269254053,
          0.8455312269254053,
          0.8455312269254053,
          0.8455312269254053,
          0.8455312269254053,
          0.8455312269254053,
          0.8455312269254053
         ]
        },
        {
         "marker": {
          "color": "#cccccc"
         },
         "mode": "markers",
         "name": "Infeasible Trial",
         "showlegend": false,
         "type": "scatter",
         "x": [],
         "y": []
        }
       ],
       "layout": {
        "template": {
         "data": {
          "bar": [
           {
            "error_x": {
             "color": "#2a3f5f"
            },
            "error_y": {
             "color": "#2a3f5f"
            },
            "marker": {
             "line": {
              "color": "#E5ECF6",
              "width": 0.5
             },
             "pattern": {
              "fillmode": "overlay",
              "size": 10,
              "solidity": 0.2
             }
            },
            "type": "bar"
           }
          ],
          "barpolar": [
           {
            "marker": {
             "line": {
              "color": "#E5ECF6",
              "width": 0.5
             },
             "pattern": {
              "fillmode": "overlay",
              "size": 10,
              "solidity": 0.2
             }
            },
            "type": "barpolar"
           }
          ],
          "carpet": [
           {
            "aaxis": {
             "endlinecolor": "#2a3f5f",
             "gridcolor": "white",
             "linecolor": "white",
             "minorgridcolor": "white",
             "startlinecolor": "#2a3f5f"
            },
            "baxis": {
             "endlinecolor": "#2a3f5f",
             "gridcolor": "white",
             "linecolor": "white",
             "minorgridcolor": "white",
             "startlinecolor": "#2a3f5f"
            },
            "type": "carpet"
           }
          ],
          "choropleth": [
           {
            "colorbar": {
             "outlinewidth": 0,
             "ticks": ""
            },
            "type": "choropleth"
           }
          ],
          "contour": [
           {
            "colorbar": {
             "outlinewidth": 0,
             "ticks": ""
            },
            "colorscale": [
             [
              0,
              "#0d0887"
             ],
             [
              0.1111111111111111,
              "#46039f"
             ],
             [
              0.2222222222222222,
              "#7201a8"
             ],
             [
              0.3333333333333333,
              "#9c179e"
             ],
             [
              0.4444444444444444,
              "#bd3786"
             ],
             [
              0.5555555555555556,
              "#d8576b"
             ],
             [
              0.6666666666666666,
              "#ed7953"
             ],
             [
              0.7777777777777778,
              "#fb9f3a"
             ],
             [
              0.8888888888888888,
              "#fdca26"
             ],
             [
              1,
              "#f0f921"
             ]
            ],
            "type": "contour"
           }
          ],
          "contourcarpet": [
           {
            "colorbar": {
             "outlinewidth": 0,
             "ticks": ""
            },
            "type": "contourcarpet"
           }
          ],
          "heatmap": [
           {
            "colorbar": {
             "outlinewidth": 0,
             "ticks": ""
            },
            "colorscale": [
             [
              0,
              "#0d0887"
             ],
             [
              0.1111111111111111,
              "#46039f"
             ],
             [
              0.2222222222222222,
              "#7201a8"
             ],
             [
              0.3333333333333333,
              "#9c179e"
             ],
             [
              0.4444444444444444,
              "#bd3786"
             ],
             [
              0.5555555555555556,
              "#d8576b"
             ],
             [
              0.6666666666666666,
              "#ed7953"
             ],
             [
              0.7777777777777778,
              "#fb9f3a"
             ],
             [
              0.8888888888888888,
              "#fdca26"
             ],
             [
              1,
              "#f0f921"
             ]
            ],
            "type": "heatmap"
           }
          ],
          "histogram": [
           {
            "marker": {
             "pattern": {
              "fillmode": "overlay",
              "size": 10,
              "solidity": 0.2
             }
            },
            "type": "histogram"
           }
          ],
          "histogram2d": [
           {
            "colorbar": {
             "outlinewidth": 0,
             "ticks": ""
            },
            "colorscale": [
             [
              0,
              "#0d0887"
             ],
             [
              0.1111111111111111,
              "#46039f"
             ],
             [
              0.2222222222222222,
              "#7201a8"
             ],
             [
              0.3333333333333333,
              "#9c179e"
             ],
             [
              0.4444444444444444,
              "#bd3786"
             ],
             [
              0.5555555555555556,
              "#d8576b"
             ],
             [
              0.6666666666666666,
              "#ed7953"
             ],
             [
              0.7777777777777778,
              "#fb9f3a"
             ],
             [
              0.8888888888888888,
              "#fdca26"
             ],
             [
              1,
              "#f0f921"
             ]
            ],
            "type": "histogram2d"
           }
          ],
          "histogram2dcontour": [
           {
            "colorbar": {
             "outlinewidth": 0,
             "ticks": ""
            },
            "colorscale": [
             [
              0,
              "#0d0887"
             ],
             [
              0.1111111111111111,
              "#46039f"
             ],
             [
              0.2222222222222222,
              "#7201a8"
             ],
             [
              0.3333333333333333,
              "#9c179e"
             ],
             [
              0.4444444444444444,
              "#bd3786"
             ],
             [
              0.5555555555555556,
              "#d8576b"
             ],
             [
              0.6666666666666666,
              "#ed7953"
             ],
             [
              0.7777777777777778,
              "#fb9f3a"
             ],
             [
              0.8888888888888888,
              "#fdca26"
             ],
             [
              1,
              "#f0f921"
             ]
            ],
            "type": "histogram2dcontour"
           }
          ],
          "mesh3d": [
           {
            "colorbar": {
             "outlinewidth": 0,
             "ticks": ""
            },
            "type": "mesh3d"
           }
          ],
          "parcoords": [
           {
            "line": {
             "colorbar": {
              "outlinewidth": 0,
              "ticks": ""
             }
            },
            "type": "parcoords"
           }
          ],
          "pie": [
           {
            "automargin": true,
            "type": "pie"
           }
          ],
          "scatter": [
           {
            "fillpattern": {
             "fillmode": "overlay",
             "size": 10,
             "solidity": 0.2
            },
            "type": "scatter"
           }
          ],
          "scatter3d": [
           {
            "line": {
             "colorbar": {
              "outlinewidth": 0,
              "ticks": ""
             }
            },
            "marker": {
             "colorbar": {
              "outlinewidth": 0,
              "ticks": ""
             }
            },
            "type": "scatter3d"
           }
          ],
          "scattercarpet": [
           {
            "marker": {
             "colorbar": {
              "outlinewidth": 0,
              "ticks": ""
             }
            },
            "type": "scattercarpet"
           }
          ],
          "scattergeo": [
           {
            "marker": {
             "colorbar": {
              "outlinewidth": 0,
              "ticks": ""
             }
            },
            "type": "scattergeo"
           }
          ],
          "scattergl": [
           {
            "marker": {
             "colorbar": {
              "outlinewidth": 0,
              "ticks": ""
             }
            },
            "type": "scattergl"
           }
          ],
          "scattermap": [
           {
            "marker": {
             "colorbar": {
              "outlinewidth": 0,
              "ticks": ""
             }
            },
            "type": "scattermap"
           }
          ],
          "scattermapbox": [
           {
            "marker": {
             "colorbar": {
              "outlinewidth": 0,
              "ticks": ""
             }
            },
            "type": "scattermapbox"
           }
          ],
          "scatterpolar": [
           {
            "marker": {
             "colorbar": {
              "outlinewidth": 0,
              "ticks": ""
             }
            },
            "type": "scatterpolar"
           }
          ],
          "scatterpolargl": [
           {
            "marker": {
             "colorbar": {
              "outlinewidth": 0,
              "ticks": ""
             }
            },
            "type": "scatterpolargl"
           }
          ],
          "scatterternary": [
           {
            "marker": {
             "colorbar": {
              "outlinewidth": 0,
              "ticks": ""
             }
            },
            "type": "scatterternary"
           }
          ],
          "surface": [
           {
            "colorbar": {
             "outlinewidth": 0,
             "ticks": ""
            },
            "colorscale": [
             [
              0,
              "#0d0887"
             ],
             [
              0.1111111111111111,
              "#46039f"
             ],
             [
              0.2222222222222222,
              "#7201a8"
             ],
             [
              0.3333333333333333,
              "#9c179e"
             ],
             [
              0.4444444444444444,
              "#bd3786"
             ],
             [
              0.5555555555555556,
              "#d8576b"
             ],
             [
              0.6666666666666666,
              "#ed7953"
             ],
             [
              0.7777777777777778,
              "#fb9f3a"
             ],
             [
              0.8888888888888888,
              "#fdca26"
             ],
             [
              1,
              "#f0f921"
             ]
            ],
            "type": "surface"
           }
          ],
          "table": [
           {
            "cells": {
             "fill": {
              "color": "#EBF0F8"
             },
             "line": {
              "color": "white"
             }
            },
            "header": {
             "fill": {
              "color": "#C8D4E3"
             },
             "line": {
              "color": "white"
             }
            },
            "type": "table"
           }
          ]
         },
         "layout": {
          "annotationdefaults": {
           "arrowcolor": "#2a3f5f",
           "arrowhead": 0,
           "arrowwidth": 1
          },
          "autotypenumbers": "strict",
          "coloraxis": {
           "colorbar": {
            "outlinewidth": 0,
            "ticks": ""
           }
          },
          "colorscale": {
           "diverging": [
            [
             0,
             "#8e0152"
            ],
            [
             0.1,
             "#c51b7d"
            ],
            [
             0.2,
             "#de77ae"
            ],
            [
             0.3,
             "#f1b6da"
            ],
            [
             0.4,
             "#fde0ef"
            ],
            [
             0.5,
             "#f7f7f7"
            ],
            [
             0.6,
             "#e6f5d0"
            ],
            [
             0.7,
             "#b8e186"
            ],
            [
             0.8,
             "#7fbc41"
            ],
            [
             0.9,
             "#4d9221"
            ],
            [
             1,
             "#276419"
            ]
           ],
           "sequential": [
            [
             0,
             "#0d0887"
            ],
            [
             0.1111111111111111,
             "#46039f"
            ],
            [
             0.2222222222222222,
             "#7201a8"
            ],
            [
             0.3333333333333333,
             "#9c179e"
            ],
            [
             0.4444444444444444,
             "#bd3786"
            ],
            [
             0.5555555555555556,
             "#d8576b"
            ],
            [
             0.6666666666666666,
             "#ed7953"
            ],
            [
             0.7777777777777778,
             "#fb9f3a"
            ],
            [
             0.8888888888888888,
             "#fdca26"
            ],
            [
             1,
             "#f0f921"
            ]
           ],
           "sequentialminus": [
            [
             0,
             "#0d0887"
            ],
            [
             0.1111111111111111,
             "#46039f"
            ],
            [
             0.2222222222222222,
             "#7201a8"
            ],
            [
             0.3333333333333333,
             "#9c179e"
            ],
            [
             0.4444444444444444,
             "#bd3786"
            ],
            [
             0.5555555555555556,
             "#d8576b"
            ],
            [
             0.6666666666666666,
             "#ed7953"
            ],
            [
             0.7777777777777778,
             "#fb9f3a"
            ],
            [
             0.8888888888888888,
             "#fdca26"
            ],
            [
             1,
             "#f0f921"
            ]
           ]
          },
          "colorway": [
           "#636efa",
           "#EF553B",
           "#00cc96",
           "#ab63fa",
           "#FFA15A",
           "#19d3f3",
           "#FF6692",
           "#B6E880",
           "#FF97FF",
           "#FECB52"
          ],
          "font": {
           "color": "#2a3f5f"
          },
          "geo": {
           "bgcolor": "white",
           "lakecolor": "white",
           "landcolor": "#E5ECF6",
           "showlakes": true,
           "showland": true,
           "subunitcolor": "white"
          },
          "hoverlabel": {
           "align": "left"
          },
          "hovermode": "closest",
          "mapbox": {
           "style": "light"
          },
          "paper_bgcolor": "white",
          "plot_bgcolor": "#E5ECF6",
          "polar": {
           "angularaxis": {
            "gridcolor": "white",
            "linecolor": "white",
            "ticks": ""
           },
           "bgcolor": "#E5ECF6",
           "radialaxis": {
            "gridcolor": "white",
            "linecolor": "white",
            "ticks": ""
           }
          },
          "scene": {
           "xaxis": {
            "backgroundcolor": "#E5ECF6",
            "gridcolor": "white",
            "gridwidth": 2,
            "linecolor": "white",
            "showbackground": true,
            "ticks": "",
            "zerolinecolor": "white"
           },
           "yaxis": {
            "backgroundcolor": "#E5ECF6",
            "gridcolor": "white",
            "gridwidth": 2,
            "linecolor": "white",
            "showbackground": true,
            "ticks": "",
            "zerolinecolor": "white"
           },
           "zaxis": {
            "backgroundcolor": "#E5ECF6",
            "gridcolor": "white",
            "gridwidth": 2,
            "linecolor": "white",
            "showbackground": true,
            "ticks": "",
            "zerolinecolor": "white"
           }
          },
          "shapedefaults": {
           "line": {
            "color": "#2a3f5f"
           }
          },
          "ternary": {
           "aaxis": {
            "gridcolor": "white",
            "linecolor": "white",
            "ticks": ""
           },
           "baxis": {
            "gridcolor": "white",
            "linecolor": "white",
            "ticks": ""
           },
           "bgcolor": "#E5ECF6",
           "caxis": {
            "gridcolor": "white",
            "linecolor": "white",
            "ticks": ""
           }
          },
          "title": {
           "x": 0.05
          },
          "xaxis": {
           "automargin": true,
           "gridcolor": "white",
           "linecolor": "white",
           "ticks": "",
           "title": {
            "standoff": 15
           },
           "zerolinecolor": "white",
           "zerolinewidth": 2
          },
          "yaxis": {
           "automargin": true,
           "gridcolor": "white",
           "linecolor": "white",
           "ticks": "",
           "title": {
            "standoff": 15
           },
           "zerolinecolor": "white",
           "zerolinewidth": 2
          }
         }
        },
        "title": {
         "text": "Optimization History Plot"
        },
        "xaxis": {
         "title": {
          "text": "Trial"
         }
        },
        "yaxis": {
         "title": {
          "text": "Objective Value"
         }
        }
       }
      }
     },
     "metadata": {},
     "output_type": "display_data"
    }
   ],
   "source": [
    "optuna.visualization.plot_optimization_history(study)"
   ]
  },
  {
   "cell_type": "code",
   "execution_count": 21,
   "id": "199d388e",
   "metadata": {},
   "outputs": [
    {
     "data": {
      "application/vnd.plotly.v1+json": {
       "config": {
        "plotlyServerURL": "https://plot.ly"
       },
       "data": [
        {
         "dimensions": [
          {
           "label": "Objective Value",
           "range": [
            0.7373658155430279,
            0.8455312269254053
           ],
           "values": [
            0.7849665158193939,
            0.8136358757398648,
            0.7650332751317521,
            0.7546352388500593,
            0.7752538890978453,
            0.768840358934151,
            0.7811030447900844,
            0.767770665612453,
            0.7738932900395024,
            0.7677826253713074,
            0.7728952065278346,
            0.7827162434030925,
            0.8208847273419455,
            0.8143512296125603,
            0.780031224801536,
            0.8264296199654687,
            0.7704267590168279,
            0.7754480595674142,
            0.77414772133981,
            0.7809303539472959,
            0.760309332320251,
            0.7647273040781732,
            0.7849665158193939,
            0.7666822969398217,
            0.79861377605407,
            0.7626029512503258,
            0.7855767258867452,
            0.7892319400945459,
            0.7975238694612913,
            0.8029401675402049,
            0.760309332320251,
            0.7933226308389708,
            0.7612429852494758,
            0.7940523727285934,
            0.8130819638891221,
            0.7752538890978453,
            0.79861377605407,
            0.7971372105035571,
            0.7852393397029513,
            0.7701748674943718,
            0.7634914963241309,
            0.8081800221817919,
            0.7927260965338521,
            0.7612429852494758,
            0.7842738032346871,
            0.7704267590168279,
            0.8166804424800755,
            0.8006254425377476,
            0.7834967698478307,
            0.7811421246996941,
            0.8351775171055792,
            0.812363919257977,
            0.7730686654785274,
            0.7908546222856778,
            0.7863849591785336,
            0.7940523727285934,
            0.7778033682559473,
            0.7373658155430279,
            0.8455312269254053,
            0.7847216152322536,
            0.7861655187010274,
            0.7852478232571379,
            0.782708861458827,
            0.7739391943183651,
            0.7765269903285628,
            0.760309332320251,
            0.7849805338333257,
            0.8043589330032402,
            0.7657925669538325,
            0.7626029512503258,
            0.7546352388500593,
            0.7861655187010274,
            0.7813014414268508,
            0.7456337653378259,
            0.7636790526266373,
            0.768840358934151,
            0.7707821723981337,
            0.7814558789948155,
            0.7728546170223812,
            0.7589988798925769,
            0.8029401675402049,
            0.7745029876353093,
            0.7850378098251061,
            0.8238561742129595,
            0.7995500165673972,
            0.8120104158563677,
            0.8238561742129595,
            0.7701748674943718,
            0.8296267481539905,
            0.8268973597788805,
            0.7778033682559473,
            0.7892855881870163,
            0.8189754020892852,
            0.7752538890978453,
            0.7850455030482524,
            0.7931245110586912,
            0.7849665158193939,
            0.7747709541024443,
            0.817597023794848,
            0.7661368345940183
           ]
          },
          {
           "label": "criterion",
           "range": [
            0,
            2
           ],
           "ticktext": [
            "entropy",
            "gini",
            "log_loss"
           ],
           "tickvals": [
            0,
            1,
            2
           ],
           "values": [
            0,
            1,
            0,
            1,
            2,
            1,
            1,
            2,
            0,
            2,
            1,
            0,
            0,
            1,
            0,
            2,
            2,
            1,
            1,
            1,
            1,
            2,
            0,
            0,
            0,
            0,
            1,
            0,
            1,
            0,
            1,
            1,
            0,
            1,
            1,
            0,
            0,
            0,
            2,
            1,
            2,
            1,
            2,
            0,
            1,
            2,
            1,
            2,
            0,
            2,
            1,
            0,
            1,
            2,
            0,
            1,
            2,
            1,
            0,
            0,
            1,
            0,
            0,
            0,
            1,
            1,
            2,
            0,
            0,
            2,
            1,
            1,
            1,
            0,
            1,
            1,
            1,
            0,
            2,
            1,
            0,
            0,
            2,
            0,
            1,
            1,
            0,
            1,
            1,
            2,
            2,
            2,
            2,
            0,
            1,
            0,
            0,
            1,
            1,
            1
           ]
          },
          {
           "label": "max_depth",
           "range": [
            2,
            20
           ],
           "values": [
            19,
            5,
            18,
            18,
            13,
            10,
            15,
            17,
            16,
            11,
            11,
            10,
            4,
            6,
            15,
            3,
            9,
            11,
            10,
            2,
            12,
            12,
            20,
            20,
            9,
            18,
            9,
            5,
            20,
            5,
            12,
            4,
            15,
            9,
            7,
            13,
            9,
            8,
            11,
            20,
            15,
            7,
            5,
            15,
            17,
            9,
            7,
            2,
            17,
            10,
            3,
            3,
            3,
            9,
            3,
            9,
            10,
            2,
            2,
            15,
            8,
            13,
            8,
            14,
            10,
            12,
            16,
            8,
            13,
            18,
            20,
            8,
            9,
            13,
            20,
            10,
            12,
            9,
            16,
            18,
            5,
            16,
            11,
            3,
            5,
            4,
            3,
            18,
            5,
            6,
            10,
            15,
            3,
            13,
            15,
            7,
            19,
            5,
            6,
            19
           ]
          },
          {
           "label": "max_features",
           "range": [
            0.20172541684062034,
            0.8966209865368737
           ],
           "values": [
            0.5621085186926125,
            0.6803554596662268,
            0.20172541684062034,
            0.8848988412103815,
            0.7757264373724031,
            0.29905053040763285,
            0.780126039025929,
            0.25427386420902404,
            0.6119400752896398,
            0.36840847185260917,
            0.8311215349651664,
            0.2553388404834513,
            0.8425620639927509,
            0.8661114320008849,
            0.33907691188624023,
            0.6359935793868648,
            0.7590201451454943,
            0.5551129379526181,
            0.730438560889419,
            0.20449980967334058,
            0.6504221471187936,
            0.29022548400376547,
            0.6238956363394424,
            0.2598470338975843,
            0.6475729150999845,
            0.478561242591623,
            0.538724379929872,
            0.21636595141131598,
            0.28564306081387925,
            0.4087630328753314,
            0.7166280170110539,
            0.28156247517473604,
            0.5146478879095183,
            0.791232238595917,
            0.2350833207643682,
            0.7304004630412504,
            0.6483944582939147,
            0.2834234138951542,
            0.2201417978273986,
            0.5364807089405713,
            0.24747351338084247,
            0.4397256249868581,
            0.6387149731721894,
            0.47635430241040627,
            0.582717137345293,
            0.8111180316876074,
            0.8837821795322063,
            0.8235775834814492,
            0.7408230940607821,
            0.8205245061858621,
            0.6214936711943586,
            0.6802253336611624,
            0.2805703871125815,
            0.5757388557937503,
            0.534105723279167,
            0.7875376080750822,
            0.34977181903272697,
            0.43616375479211933,
            0.6292840455296023,
            0.7677097015253886,
            0.7929795551193628,
            0.49780265526131984,
            0.39016779912978683,
            0.5346482720481256,
            0.4918189868224119,
            0.644858029227916,
            0.7360766516197423,
            0.5993334757995747,
            0.8966209865368737,
            0.47666535605864935,
            0.8261359062941942,
            0.7631272970306255,
            0.23617028551427738,
            0.2105956262203469,
            0.7121996884727522,
            0.31849192104367974,
            0.4813704884942549,
            0.40456056230675913,
            0.6938932017559805,
            0.2579822816471263,
            0.3772415218469247,
            0.3597628315384541,
            0.6389882574175019,
            0.22104335870707612,
            0.812053911319925,
            0.6513050657020921,
            0.2547687026984708,
            0.5199320455430466,
            0.4777594409777501,
            0.41089545482441603,
            0.33510224052119536,
            0.5484061993556515,
            0.41576275345659586,
            0.7387325577004233,
            0.3337785384428917,
            0.7556463924949239,
            0.5674639720043657,
            0.20961849791676174,
            0.5054433886667469,
            0.20597821207882488
           ]
          }
         ],
         "labelangle": 30,
         "labelside": "bottom",
         "line": {
          "color": [
           0.7849665158193939,
           0.8136358757398648,
           0.7650332751317521,
           0.7546352388500593,
           0.7752538890978453,
           0.768840358934151,
           0.7811030447900844,
           0.767770665612453,
           0.7738932900395024,
           0.7677826253713074,
           0.7728952065278346,
           0.7827162434030925,
           0.8208847273419455,
           0.8143512296125603,
           0.780031224801536,
           0.8264296199654687,
           0.7704267590168279,
           0.7754480595674142,
           0.77414772133981,
           0.7809303539472959,
           0.760309332320251,
           0.7647273040781732,
           0.7849665158193939,
           0.7666822969398217,
           0.79861377605407,
           0.7626029512503258,
           0.7855767258867452,
           0.7892319400945459,
           0.7975238694612913,
           0.8029401675402049,
           0.760309332320251,
           0.7933226308389708,
           0.7612429852494758,
           0.7940523727285934,
           0.8130819638891221,
           0.7752538890978453,
           0.79861377605407,
           0.7971372105035571,
           0.7852393397029513,
           0.7701748674943718,
           0.7634914963241309,
           0.8081800221817919,
           0.7927260965338521,
           0.7612429852494758,
           0.7842738032346871,
           0.7704267590168279,
           0.8166804424800755,
           0.8006254425377476,
           0.7834967698478307,
           0.7811421246996941,
           0.8351775171055792,
           0.812363919257977,
           0.7730686654785274,
           0.7908546222856778,
           0.7863849591785336,
           0.7940523727285934,
           0.7778033682559473,
           0.7373658155430279,
           0.8455312269254053,
           0.7847216152322536,
           0.7861655187010274,
           0.7852478232571379,
           0.782708861458827,
           0.7739391943183651,
           0.7765269903285628,
           0.760309332320251,
           0.7849805338333257,
           0.8043589330032402,
           0.7657925669538325,
           0.7626029512503258,
           0.7546352388500593,
           0.7861655187010274,
           0.7813014414268508,
           0.7456337653378259,
           0.7636790526266373,
           0.768840358934151,
           0.7707821723981337,
           0.7814558789948155,
           0.7728546170223812,
           0.7589988798925769,
           0.8029401675402049,
           0.7745029876353093,
           0.7850378098251061,
           0.8238561742129595,
           0.7995500165673972,
           0.8120104158563677,
           0.8238561742129595,
           0.7701748674943718,
           0.8296267481539905,
           0.8268973597788805,
           0.7778033682559473,
           0.7892855881870163,
           0.8189754020892852,
           0.7752538890978453,
           0.7850455030482524,
           0.7931245110586912,
           0.7849665158193939,
           0.7747709541024443,
           0.817597023794848,
           0.7661368345940183
          ],
          "colorbar": {
           "title": {
            "text": "Objective Value"
           }
          },
          "colorscale": [
           [
            0,
            "rgb(247,251,255)"
           ],
           [
            0.125,
            "rgb(222,235,247)"
           ],
           [
            0.25,
            "rgb(198,219,239)"
           ],
           [
            0.375,
            "rgb(158,202,225)"
           ],
           [
            0.5,
            "rgb(107,174,214)"
           ],
           [
            0.625,
            "rgb(66,146,198)"
           ],
           [
            0.75,
            "rgb(33,113,181)"
           ],
           [
            0.875,
            "rgb(8,81,156)"
           ],
           [
            1,
            "rgb(8,48,107)"
           ]
          ],
          "reversescale": false,
          "showscale": true
         },
         "type": "parcoords"
        }
       ],
       "layout": {
        "template": {
         "data": {
          "bar": [
           {
            "error_x": {
             "color": "#2a3f5f"
            },
            "error_y": {
             "color": "#2a3f5f"
            },
            "marker": {
             "line": {
              "color": "#E5ECF6",
              "width": 0.5
             },
             "pattern": {
              "fillmode": "overlay",
              "size": 10,
              "solidity": 0.2
             }
            },
            "type": "bar"
           }
          ],
          "barpolar": [
           {
            "marker": {
             "line": {
              "color": "#E5ECF6",
              "width": 0.5
             },
             "pattern": {
              "fillmode": "overlay",
              "size": 10,
              "solidity": 0.2
             }
            },
            "type": "barpolar"
           }
          ],
          "carpet": [
           {
            "aaxis": {
             "endlinecolor": "#2a3f5f",
             "gridcolor": "white",
             "linecolor": "white",
             "minorgridcolor": "white",
             "startlinecolor": "#2a3f5f"
            },
            "baxis": {
             "endlinecolor": "#2a3f5f",
             "gridcolor": "white",
             "linecolor": "white",
             "minorgridcolor": "white",
             "startlinecolor": "#2a3f5f"
            },
            "type": "carpet"
           }
          ],
          "choropleth": [
           {
            "colorbar": {
             "outlinewidth": 0,
             "ticks": ""
            },
            "type": "choropleth"
           }
          ],
          "contour": [
           {
            "colorbar": {
             "outlinewidth": 0,
             "ticks": ""
            },
            "colorscale": [
             [
              0,
              "#0d0887"
             ],
             [
              0.1111111111111111,
              "#46039f"
             ],
             [
              0.2222222222222222,
              "#7201a8"
             ],
             [
              0.3333333333333333,
              "#9c179e"
             ],
             [
              0.4444444444444444,
              "#bd3786"
             ],
             [
              0.5555555555555556,
              "#d8576b"
             ],
             [
              0.6666666666666666,
              "#ed7953"
             ],
             [
              0.7777777777777778,
              "#fb9f3a"
             ],
             [
              0.8888888888888888,
              "#fdca26"
             ],
             [
              1,
              "#f0f921"
             ]
            ],
            "type": "contour"
           }
          ],
          "contourcarpet": [
           {
            "colorbar": {
             "outlinewidth": 0,
             "ticks": ""
            },
            "type": "contourcarpet"
           }
          ],
          "heatmap": [
           {
            "colorbar": {
             "outlinewidth": 0,
             "ticks": ""
            },
            "colorscale": [
             [
              0,
              "#0d0887"
             ],
             [
              0.1111111111111111,
              "#46039f"
             ],
             [
              0.2222222222222222,
              "#7201a8"
             ],
             [
              0.3333333333333333,
              "#9c179e"
             ],
             [
              0.4444444444444444,
              "#bd3786"
             ],
             [
              0.5555555555555556,
              "#d8576b"
             ],
             [
              0.6666666666666666,
              "#ed7953"
             ],
             [
              0.7777777777777778,
              "#fb9f3a"
             ],
             [
              0.8888888888888888,
              "#fdca26"
             ],
             [
              1,
              "#f0f921"
             ]
            ],
            "type": "heatmap"
           }
          ],
          "histogram": [
           {
            "marker": {
             "pattern": {
              "fillmode": "overlay",
              "size": 10,
              "solidity": 0.2
             }
            },
            "type": "histogram"
           }
          ],
          "histogram2d": [
           {
            "colorbar": {
             "outlinewidth": 0,
             "ticks": ""
            },
            "colorscale": [
             [
              0,
              "#0d0887"
             ],
             [
              0.1111111111111111,
              "#46039f"
             ],
             [
              0.2222222222222222,
              "#7201a8"
             ],
             [
              0.3333333333333333,
              "#9c179e"
             ],
             [
              0.4444444444444444,
              "#bd3786"
             ],
             [
              0.5555555555555556,
              "#d8576b"
             ],
             [
              0.6666666666666666,
              "#ed7953"
             ],
             [
              0.7777777777777778,
              "#fb9f3a"
             ],
             [
              0.8888888888888888,
              "#fdca26"
             ],
             [
              1,
              "#f0f921"
             ]
            ],
            "type": "histogram2d"
           }
          ],
          "histogram2dcontour": [
           {
            "colorbar": {
             "outlinewidth": 0,
             "ticks": ""
            },
            "colorscale": [
             [
              0,
              "#0d0887"
             ],
             [
              0.1111111111111111,
              "#46039f"
             ],
             [
              0.2222222222222222,
              "#7201a8"
             ],
             [
              0.3333333333333333,
              "#9c179e"
             ],
             [
              0.4444444444444444,
              "#bd3786"
             ],
             [
              0.5555555555555556,
              "#d8576b"
             ],
             [
              0.6666666666666666,
              "#ed7953"
             ],
             [
              0.7777777777777778,
              "#fb9f3a"
             ],
             [
              0.8888888888888888,
              "#fdca26"
             ],
             [
              1,
              "#f0f921"
             ]
            ],
            "type": "histogram2dcontour"
           }
          ],
          "mesh3d": [
           {
            "colorbar": {
             "outlinewidth": 0,
             "ticks": ""
            },
            "type": "mesh3d"
           }
          ],
          "parcoords": [
           {
            "line": {
             "colorbar": {
              "outlinewidth": 0,
              "ticks": ""
             }
            },
            "type": "parcoords"
           }
          ],
          "pie": [
           {
            "automargin": true,
            "type": "pie"
           }
          ],
          "scatter": [
           {
            "fillpattern": {
             "fillmode": "overlay",
             "size": 10,
             "solidity": 0.2
            },
            "type": "scatter"
           }
          ],
          "scatter3d": [
           {
            "line": {
             "colorbar": {
              "outlinewidth": 0,
              "ticks": ""
             }
            },
            "marker": {
             "colorbar": {
              "outlinewidth": 0,
              "ticks": ""
             }
            },
            "type": "scatter3d"
           }
          ],
          "scattercarpet": [
           {
            "marker": {
             "colorbar": {
              "outlinewidth": 0,
              "ticks": ""
             }
            },
            "type": "scattercarpet"
           }
          ],
          "scattergeo": [
           {
            "marker": {
             "colorbar": {
              "outlinewidth": 0,
              "ticks": ""
             }
            },
            "type": "scattergeo"
           }
          ],
          "scattergl": [
           {
            "marker": {
             "colorbar": {
              "outlinewidth": 0,
              "ticks": ""
             }
            },
            "type": "scattergl"
           }
          ],
          "scattermap": [
           {
            "marker": {
             "colorbar": {
              "outlinewidth": 0,
              "ticks": ""
             }
            },
            "type": "scattermap"
           }
          ],
          "scattermapbox": [
           {
            "marker": {
             "colorbar": {
              "outlinewidth": 0,
              "ticks": ""
             }
            },
            "type": "scattermapbox"
           }
          ],
          "scatterpolar": [
           {
            "marker": {
             "colorbar": {
              "outlinewidth": 0,
              "ticks": ""
             }
            },
            "type": "scatterpolar"
           }
          ],
          "scatterpolargl": [
           {
            "marker": {
             "colorbar": {
              "outlinewidth": 0,
              "ticks": ""
             }
            },
            "type": "scatterpolargl"
           }
          ],
          "scatterternary": [
           {
            "marker": {
             "colorbar": {
              "outlinewidth": 0,
              "ticks": ""
             }
            },
            "type": "scatterternary"
           }
          ],
          "surface": [
           {
            "colorbar": {
             "outlinewidth": 0,
             "ticks": ""
            },
            "colorscale": [
             [
              0,
              "#0d0887"
             ],
             [
              0.1111111111111111,
              "#46039f"
             ],
             [
              0.2222222222222222,
              "#7201a8"
             ],
             [
              0.3333333333333333,
              "#9c179e"
             ],
             [
              0.4444444444444444,
              "#bd3786"
             ],
             [
              0.5555555555555556,
              "#d8576b"
             ],
             [
              0.6666666666666666,
              "#ed7953"
             ],
             [
              0.7777777777777778,
              "#fb9f3a"
             ],
             [
              0.8888888888888888,
              "#fdca26"
             ],
             [
              1,
              "#f0f921"
             ]
            ],
            "type": "surface"
           }
          ],
          "table": [
           {
            "cells": {
             "fill": {
              "color": "#EBF0F8"
             },
             "line": {
              "color": "white"
             }
            },
            "header": {
             "fill": {
              "color": "#C8D4E3"
             },
             "line": {
              "color": "white"
             }
            },
            "type": "table"
           }
          ]
         },
         "layout": {
          "annotationdefaults": {
           "arrowcolor": "#2a3f5f",
           "arrowhead": 0,
           "arrowwidth": 1
          },
          "autotypenumbers": "strict",
          "coloraxis": {
           "colorbar": {
            "outlinewidth": 0,
            "ticks": ""
           }
          },
          "colorscale": {
           "diverging": [
            [
             0,
             "#8e0152"
            ],
            [
             0.1,
             "#c51b7d"
            ],
            [
             0.2,
             "#de77ae"
            ],
            [
             0.3,
             "#f1b6da"
            ],
            [
             0.4,
             "#fde0ef"
            ],
            [
             0.5,
             "#f7f7f7"
            ],
            [
             0.6,
             "#e6f5d0"
            ],
            [
             0.7,
             "#b8e186"
            ],
            [
             0.8,
             "#7fbc41"
            ],
            [
             0.9,
             "#4d9221"
            ],
            [
             1,
             "#276419"
            ]
           ],
           "sequential": [
            [
             0,
             "#0d0887"
            ],
            [
             0.1111111111111111,
             "#46039f"
            ],
            [
             0.2222222222222222,
             "#7201a8"
            ],
            [
             0.3333333333333333,
             "#9c179e"
            ],
            [
             0.4444444444444444,
             "#bd3786"
            ],
            [
             0.5555555555555556,
             "#d8576b"
            ],
            [
             0.6666666666666666,
             "#ed7953"
            ],
            [
             0.7777777777777778,
             "#fb9f3a"
            ],
            [
             0.8888888888888888,
             "#fdca26"
            ],
            [
             1,
             "#f0f921"
            ]
           ],
           "sequentialminus": [
            [
             0,
             "#0d0887"
            ],
            [
             0.1111111111111111,
             "#46039f"
            ],
            [
             0.2222222222222222,
             "#7201a8"
            ],
            [
             0.3333333333333333,
             "#9c179e"
            ],
            [
             0.4444444444444444,
             "#bd3786"
            ],
            [
             0.5555555555555556,
             "#d8576b"
            ],
            [
             0.6666666666666666,
             "#ed7953"
            ],
            [
             0.7777777777777778,
             "#fb9f3a"
            ],
            [
             0.8888888888888888,
             "#fdca26"
            ],
            [
             1,
             "#f0f921"
            ]
           ]
          },
          "colorway": [
           "#636efa",
           "#EF553B",
           "#00cc96",
           "#ab63fa",
           "#FFA15A",
           "#19d3f3",
           "#FF6692",
           "#B6E880",
           "#FF97FF",
           "#FECB52"
          ],
          "font": {
           "color": "#2a3f5f"
          },
          "geo": {
           "bgcolor": "white",
           "lakecolor": "white",
           "landcolor": "#E5ECF6",
           "showlakes": true,
           "showland": true,
           "subunitcolor": "white"
          },
          "hoverlabel": {
           "align": "left"
          },
          "hovermode": "closest",
          "mapbox": {
           "style": "light"
          },
          "paper_bgcolor": "white",
          "plot_bgcolor": "#E5ECF6",
          "polar": {
           "angularaxis": {
            "gridcolor": "white",
            "linecolor": "white",
            "ticks": ""
           },
           "bgcolor": "#E5ECF6",
           "radialaxis": {
            "gridcolor": "white",
            "linecolor": "white",
            "ticks": ""
           }
          },
          "scene": {
           "xaxis": {
            "backgroundcolor": "#E5ECF6",
            "gridcolor": "white",
            "gridwidth": 2,
            "linecolor": "white",
            "showbackground": true,
            "ticks": "",
            "zerolinecolor": "white"
           },
           "yaxis": {
            "backgroundcolor": "#E5ECF6",
            "gridcolor": "white",
            "gridwidth": 2,
            "linecolor": "white",
            "showbackground": true,
            "ticks": "",
            "zerolinecolor": "white"
           },
           "zaxis": {
            "backgroundcolor": "#E5ECF6",
            "gridcolor": "white",
            "gridwidth": 2,
            "linecolor": "white",
            "showbackground": true,
            "ticks": "",
            "zerolinecolor": "white"
           }
          },
          "shapedefaults": {
           "line": {
            "color": "#2a3f5f"
           }
          },
          "ternary": {
           "aaxis": {
            "gridcolor": "white",
            "linecolor": "white",
            "ticks": ""
           },
           "baxis": {
            "gridcolor": "white",
            "linecolor": "white",
            "ticks": ""
           },
           "bgcolor": "#E5ECF6",
           "caxis": {
            "gridcolor": "white",
            "linecolor": "white",
            "ticks": ""
           }
          },
          "title": {
           "x": 0.05
          },
          "xaxis": {
           "automargin": true,
           "gridcolor": "white",
           "linecolor": "white",
           "ticks": "",
           "title": {
            "standoff": 15
           },
           "zerolinecolor": "white",
           "zerolinewidth": 2
          },
          "yaxis": {
           "automargin": true,
           "gridcolor": "white",
           "linecolor": "white",
           "ticks": "",
           "title": {
            "standoff": 15
           },
           "zerolinecolor": "white",
           "zerolinewidth": 2
          }
         }
        },
        "title": {
         "text": "Parallel Coordinate Plot"
        }
       }
      }
     },
     "metadata": {},
     "output_type": "display_data"
    }
   ],
   "source": [
    "optuna.visualization.plot_parallel_coordinate(study)"
   ]
  },
  {
   "cell_type": "code",
   "execution_count": 22,
   "id": "95cb519c",
   "metadata": {},
   "outputs": [
    {
     "data": {
      "text/plain": [
       "{'max_features': 0.6292840455296023, 'max_depth': 2, 'criterion': 'entropy'}"
      ]
     },
     "execution_count": 22,
     "metadata": {},
     "output_type": "execute_result"
    }
   ],
   "source": [
    "study.best_params"
   ]
  },
  {
   "cell_type": "code",
   "execution_count": null,
   "id": "87112cf3",
   "metadata": {},
   "outputs": [],
   "source": []
  }
 ],
 "metadata": {
  "kernelspec": {
   "display_name": "Python 3",
   "language": "python",
   "name": "python3"
  },
  "language_info": {
   "codemirror_mode": {
    "name": "ipython",
    "version": 3
   },
   "file_extension": ".py",
   "mimetype": "text/x-python",
   "name": "python",
   "nbconvert_exporter": "python",
   "pygments_lexer": "ipython3",
   "version": "3.12.1"
  }
 },
 "nbformat": 4,
 "nbformat_minor": 5
}
