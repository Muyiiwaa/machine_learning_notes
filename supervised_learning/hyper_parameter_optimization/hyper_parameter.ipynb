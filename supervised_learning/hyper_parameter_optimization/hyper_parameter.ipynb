{
 "cells": [
  {
   "cell_type": "markdown",
   "metadata": {},
   "source": [
    "### HYPERPARAMETER OPTIMIZATION\n",
    " 1. GridSearch\n",
    "    xtreristics:\n",
    "        - searches through the entire parameter distribution.\n",
    "        - can be slow and very computationally expensive.\n",
    "        - It is the most powerful in terms of finding the optimal hyper-params\n",
    " 2. Randomized Search\n",
    "    xteristics:\n",
    "        - searches through a randomly sampled subset of the hyper-params where sample is size = number of iterations.\n",
    "        - can be significantly faster than grid search based on the value of n_iter.\n",
    "        - It is the poorest in terms of finding the optimal hyper-params\n",
    " 3. Bayesian Optimization.\n",
    "    xteristics:\n",
    "        - uses conditional probability (bayes theorem) to conduct the search of the optimal params\n",
    "        - it is significantly faster and less computationally expensive than gridsearch\n",
    "        - it is more powerful than randomized search in terms of finding the optimal hyper params\n",
    "    - Optuna\n",
    "    - HyperOpt"
   ]
  },
  {
   "cell_type": "markdown",
   "metadata": {},
   "source": [
    "### GRID SERACH"
   ]
  },
  {
   "cell_type": "code",
   "execution_count": 1,
   "metadata": {},
   "outputs": [],
   "source": [
    "import pandas as pd\n",
    "import numpy as np\n",
    "from sklearn.datasets import load_diabetes\n",
    "from sklearn.model_selection import GridSearchCV, RandomizedSearchCV, KFold, train_test_split\n",
    "from sklearn.ensemble import RandomForestRegressor"
   ]
  },
  {
   "cell_type": "code",
   "execution_count": 2,
   "metadata": {},
   "outputs": [],
   "source": [
    "X = load_diabetes(as_frame=True)['data']\n",
    "y = load_diabetes()['target']"
   ]
  },
  {
   "cell_type": "code",
   "execution_count": 12,
   "metadata": {},
   "outputs": [
    {
     "name": "stdout",
     "output_type": "stream",
     "text": [
      "Fitting 5 folds for each of 240 candidates, totalling 1200 fits\n",
      "[CV 1/5] END criterion=squared_error, max_depth=2, n_estimators=10;, score=(train=-53.770, test=-60.053) total time=   0.0s\n",
      "[CV 2/5] END criterion=squared_error, max_depth=2, n_estimators=10;, score=(train=-55.515, test=-53.994) total time=   0.0s\n",
      "[CV 3/5] END criterion=squared_error, max_depth=2, n_estimators=10;, score=(train=-53.936, test=-59.190) total time=   0.0s\n",
      "[CV 4/5] END criterion=squared_error, max_depth=2, n_estimators=10;, score=(train=-54.312, test=-57.260) total time=   0.1s\n",
      "[CV 5/5] END criterion=squared_error, max_depth=2, n_estimators=10;, score=(train=-54.204, test=-58.787) total time=   0.0s\n",
      "[CV 1/5] END criterion=squared_error, max_depth=2, n_estimators=20;, score=(train=-53.892, test=-59.471) total time=   0.3s\n",
      "[CV 2/5] END criterion=squared_error, max_depth=2, n_estimators=20;, score=(train=-55.192, test=-53.670) total time=   0.0s\n",
      "[CV 3/5] END criterion=squared_error, max_depth=2, n_estimators=20;, score=(train=-53.612, test=-59.777) total time=   0.0s\n",
      "[CV 4/5] END criterion=squared_error, max_depth=2, n_estimators=20;, score=(train=-54.266, test=-57.065) total time=   0.1s\n",
      "[CV 5/5] END criterion=squared_error, max_depth=2, n_estimators=20;, score=(train=-54.025, test=-59.211) total time=   0.1s\n",
      "[CV 1/5] END criterion=squared_error, max_depth=2, n_estimators=30;, score=(train=-53.827, test=-58.724) total time=   0.1s\n",
      "[CV 2/5] END criterion=squared_error, max_depth=2, n_estimators=30;, score=(train=-55.188, test=-54.308) total time=   0.2s\n",
      "[CV 3/5] END criterion=squared_error, max_depth=2, n_estimators=30;, score=(train=-53.553, test=-60.167) total time=   0.2s\n",
      "[CV 4/5] END criterion=squared_error, max_depth=2, n_estimators=30;, score=(train=-54.236, test=-56.925) total time=   0.2s\n",
      "[CV 5/5] END criterion=squared_error, max_depth=2, n_estimators=30;, score=(train=-53.939, test=-59.525) total time=   0.0s\n",
      "[CV 1/5] END criterion=squared_error, max_depth=2, n_estimators=40;, score=(train=-53.770, test=-58.543) total time=   0.0s\n",
      "[CV 2/5] END criterion=squared_error, max_depth=2, n_estimators=40;, score=(train=-55.189, test=-53.726) total time=   0.0s\n",
      "[CV 3/5] END criterion=squared_error, max_depth=2, n_estimators=40;, score=(train=-53.528, test=-60.122) total time=   0.0s\n",
      "[CV 4/5] END criterion=squared_error, max_depth=2, n_estimators=40;, score=(train=-54.263, test=-57.010) total time=   0.0s\n",
      "[CV 5/5] END criterion=squared_error, max_depth=2, n_estimators=40;, score=(train=-53.896, test=-59.568) total time=   0.0s\n",
      "[CV 1/5] END criterion=squared_error, max_depth=2, n_estimators=50;, score=(train=-53.588, test=-58.946) total time=   0.3s\n",
      "[CV 2/5] END criterion=squared_error, max_depth=2, n_estimators=50;, score=(train=-55.022, test=-53.721) total time=   0.1s\n",
      "[CV 3/5] END criterion=squared_error, max_depth=2, n_estimators=50;, score=(train=-53.535, test=-59.998) total time=   0.0s\n",
      "[CV 4/5] END criterion=squared_error, max_depth=2, n_estimators=50;, score=(train=-54.218, test=-56.927) total time=   0.0s\n",
      "[CV 5/5] END criterion=squared_error, max_depth=2, n_estimators=50;, score=(train=-54.079, test=-59.789) total time=   0.0s\n",
      "[CV 1/5] END criterion=squared_error, max_depth=2, n_estimators=60;, score=(train=-53.420, test=-59.322) total time=   0.1s\n",
      "[CV 2/5] END criterion=squared_error, max_depth=2, n_estimators=60;, score=(train=-55.045, test=-53.673) total time=   0.0s\n",
      "[CV 3/5] END criterion=squared_error, max_depth=2, n_estimators=60;, score=(train=-53.468, test=-59.714) total time=   0.0s\n",
      "[CV 4/5] END criterion=squared_error, max_depth=2, n_estimators=60;, score=(train=-54.211, test=-57.251) total time=   0.1s\n",
      "[CV 5/5] END criterion=squared_error, max_depth=2, n_estimators=60;, score=(train=-54.072, test=-59.625) total time=   0.1s\n",
      "[CV 1/5] END criterion=squared_error, max_depth=2, n_estimators=70;, score=(train=-53.388, test=-59.259) total time=   0.0s\n",
      "[CV 2/5] END criterion=squared_error, max_depth=2, n_estimators=70;, score=(train=-55.085, test=-54.124) total time=   0.0s\n",
      "[CV 3/5] END criterion=squared_error, max_depth=2, n_estimators=70;, score=(train=-53.550, test=-59.688) total time=   0.0s\n",
      "[CV 4/5] END criterion=squared_error, max_depth=2, n_estimators=70;, score=(train=-54.196, test=-56.962) total time=   0.0s\n",
      "[CV 5/5] END criterion=squared_error, max_depth=2, n_estimators=70;, score=(train=-53.968, test=-59.635) total time=   0.0s\n",
      "[CV 1/5] END criterion=squared_error, max_depth=2, n_estimators=80;, score=(train=-53.403, test=-59.220) total time=   0.1s\n",
      "[CV 2/5] END criterion=squared_error, max_depth=2, n_estimators=80;, score=(train=-55.104, test=-54.426) total time=   0.2s\n",
      "[CV 3/5] END criterion=squared_error, max_depth=2, n_estimators=80;, score=(train=-53.527, test=-59.970) total time=   0.1s\n",
      "[CV 4/5] END criterion=squared_error, max_depth=2, n_estimators=80;, score=(train=-54.162, test=-56.951) total time=   0.1s\n",
      "[CV 5/5] END criterion=squared_error, max_depth=2, n_estimators=80;, score=(train=-54.074, test=-59.931) total time=   0.1s\n",
      "[CV 1/5] END criterion=squared_error, max_depth=2, n_estimators=90;, score=(train=-53.408, test=-59.432) total time=   0.1s\n",
      "[CV 2/5] END criterion=squared_error, max_depth=2, n_estimators=90;, score=(train=-55.114, test=-54.538) total time=   0.1s\n",
      "[CV 3/5] END criterion=squared_error, max_depth=2, n_estimators=90;, score=(train=-53.580, test=-59.929) total time=   0.1s\n",
      "[CV 4/5] END criterion=squared_error, max_depth=2, n_estimators=90;, score=(train=-54.155, test=-57.212) total time=   0.2s\n",
      "[CV 5/5] END criterion=squared_error, max_depth=2, n_estimators=90;, score=(train=-54.105, test=-59.983) total time=   0.1s\n",
      "[CV 1/5] END criterion=squared_error, max_depth=2, n_estimators=100;, score=(train=-53.409, test=-59.521) total time=   0.2s\n",
      "[CV 2/5] END criterion=squared_error, max_depth=2, n_estimators=100;, score=(train=-55.106, test=-54.584) total time=   0.2s\n",
      "[CV 3/5] END criterion=squared_error, max_depth=2, n_estimators=100;, score=(train=-53.599, test=-59.712) total time=   0.1s\n",
      "[CV 4/5] END criterion=squared_error, max_depth=2, n_estimators=100;, score=(train=-54.137, test=-57.253) total time=   0.2s\n",
      "[CV 5/5] END criterion=squared_error, max_depth=2, n_estimators=100;, score=(train=-54.126, test=-60.162) total time=   0.1s\n",
      "[CV 1/5] END criterion=squared_error, max_depth=3, n_estimators=10;, score=(train=-49.447, test=-58.421) total time=   0.0s\n",
      "[CV 2/5] END criterion=squared_error, max_depth=3, n_estimators=10;, score=(train=-51.132, test=-53.098) total time=   0.0s\n",
      "[CV 3/5] END criterion=squared_error, max_depth=3, n_estimators=10;, score=(train=-48.965, test=-58.773) total time=   0.0s\n",
      "[CV 4/5] END criterion=squared_error, max_depth=3, n_estimators=10;, score=(train=-50.324, test=-56.872) total time=   0.0s\n",
      "[CV 5/5] END criterion=squared_error, max_depth=3, n_estimators=10;, score=(train=-50.081, test=-57.971) total time=   0.0s\n",
      "[CV 1/5] END criterion=squared_error, max_depth=3, n_estimators=20;, score=(train=-49.350, test=-57.845) total time=   0.0s\n",
      "[CV 2/5] END criterion=squared_error, max_depth=3, n_estimators=20;, score=(train=-51.023, test=-52.452) total time=   0.0s\n",
      "[CV 3/5] END criterion=squared_error, max_depth=3, n_estimators=20;, score=(train=-48.738, test=-59.916) total time=   0.0s\n",
      "[CV 4/5] END criterion=squared_error, max_depth=3, n_estimators=20;, score=(train=-50.425, test=-55.774) total time=   0.0s\n",
      "[CV 5/5] END criterion=squared_error, max_depth=3, n_estimators=20;, score=(train=-49.919, test=-59.188) total time=   0.0s\n",
      "[CV 1/5] END criterion=squared_error, max_depth=3, n_estimators=30;, score=(train=-49.482, test=-57.393) total time=   0.0s\n",
      "[CV 2/5] END criterion=squared_error, max_depth=3, n_estimators=30;, score=(train=-50.750, test=-53.070) total time=   0.0s\n",
      "[CV 3/5] END criterion=squared_error, max_depth=3, n_estimators=30;, score=(train=-48.805, test=-60.548) total time=   0.0s\n",
      "[CV 4/5] END criterion=squared_error, max_depth=3, n_estimators=30;, score=(train=-50.275, test=-55.443) total time=   0.0s\n",
      "[CV 5/5] END criterion=squared_error, max_depth=3, n_estimators=30;, score=(train=-49.763, test=-59.050) total time=   0.0s\n",
      "[CV 1/5] END criterion=squared_error, max_depth=3, n_estimators=40;, score=(train=-49.394, test=-56.862) total time=   0.0s\n",
      "[CV 2/5] END criterion=squared_error, max_depth=3, n_estimators=40;, score=(train=-50.688, test=-52.645) total time=   0.1s\n",
      "[CV 3/5] END criterion=squared_error, max_depth=3, n_estimators=40;, score=(train=-48.868, test=-60.237) total time=   0.1s\n",
      "[CV 4/5] END criterion=squared_error, max_depth=3, n_estimators=40;, score=(train=-50.190, test=-55.626) total time=   0.0s\n",
      "[CV 5/5] END criterion=squared_error, max_depth=3, n_estimators=40;, score=(train=-49.605, test=-59.085) total time=   0.0s\n",
      "[CV 1/5] END criterion=squared_error, max_depth=3, n_estimators=50;, score=(train=-49.229, test=-57.404) total time=   0.0s\n",
      "[CV 2/5] END criterion=squared_error, max_depth=3, n_estimators=50;, score=(train=-50.654, test=-52.667) total time=   0.0s\n",
      "[CV 3/5] END criterion=squared_error, max_depth=3, n_estimators=50;, score=(train=-48.797, test=-60.046) total time=   0.0s\n",
      "[CV 4/5] END criterion=squared_error, max_depth=3, n_estimators=50;, score=(train=-50.256, test=-55.598) total time=   0.0s\n",
      "[CV 5/5] END criterion=squared_error, max_depth=3, n_estimators=50;, score=(train=-49.694, test=-59.141) total time=   0.0s\n",
      "[CV 1/5] END criterion=squared_error, max_depth=3, n_estimators=60;, score=(train=-49.126, test=-57.623) total time=   0.1s\n",
      "[CV 2/5] END criterion=squared_error, max_depth=3, n_estimators=60;, score=(train=-50.569, test=-52.570) total time=   0.1s\n",
      "[CV 3/5] END criterion=squared_error, max_depth=3, n_estimators=60;, score=(train=-48.759, test=-59.995) total time=   0.1s\n",
      "[CV 4/5] END criterion=squared_error, max_depth=3, n_estimators=60;, score=(train=-50.091, test=-55.883) total time=   0.0s\n",
      "[CV 5/5] END criterion=squared_error, max_depth=3, n_estimators=60;, score=(train=-49.675, test=-58.679) total time=   0.1s\n",
      "[CV 1/5] END criterion=squared_error, max_depth=3, n_estimators=70;, score=(train=-49.110, test=-57.625) total time=   0.1s\n",
      "[CV 2/5] END criterion=squared_error, max_depth=3, n_estimators=70;, score=(train=-50.506, test=-52.974) total time=   0.1s\n",
      "[CV 3/5] END criterion=squared_error, max_depth=3, n_estimators=70;, score=(train=-48.827, test=-60.127) total time=   0.2s\n",
      "[CV 4/5] END criterion=squared_error, max_depth=3, n_estimators=70;, score=(train=-50.047, test=-55.690) total time=   0.1s\n",
      "[CV 5/5] END criterion=squared_error, max_depth=3, n_estimators=70;, score=(train=-49.557, test=-58.653) total time=   0.2s\n",
      "[CV 1/5] END criterion=squared_error, max_depth=3, n_estimators=80;, score=(train=-49.125, test=-57.685) total time=   0.2s\n",
      "[CV 2/5] END criterion=squared_error, max_depth=3, n_estimators=80;, score=(train=-50.527, test=-53.128) total time=   0.1s\n",
      "[CV 3/5] END criterion=squared_error, max_depth=3, n_estimators=80;, score=(train=-48.807, test=-60.158) total time=   0.1s\n",
      "[CV 4/5] END criterion=squared_error, max_depth=3, n_estimators=80;, score=(train=-50.050, test=-55.691) total time=   0.1s\n",
      "[CV 5/5] END criterion=squared_error, max_depth=3, n_estimators=80;, score=(train=-49.602, test=-59.023) total time=   0.1s\n",
      "[CV 1/5] END criterion=squared_error, max_depth=3, n_estimators=90;, score=(train=-49.175, test=-57.991) total time=   0.3s\n",
      "[CV 2/5] END criterion=squared_error, max_depth=3, n_estimators=90;, score=(train=-50.518, test=-53.030) total time=   0.1s\n",
      "[CV 3/5] END criterion=squared_error, max_depth=3, n_estimators=90;, score=(train=-48.813, test=-60.030) total time=   0.1s\n",
      "[CV 4/5] END criterion=squared_error, max_depth=3, n_estimators=90;, score=(train=-50.087, test=-55.848) total time=   0.1s\n",
      "[CV 5/5] END criterion=squared_error, max_depth=3, n_estimators=90;, score=(train=-49.596, test=-59.156) total time=   0.1s\n",
      "[CV 1/5] END criterion=squared_error, max_depth=3, n_estimators=100;, score=(train=-49.237, test=-58.202) total time=   0.1s\n",
      "[CV 2/5] END criterion=squared_error, max_depth=3, n_estimators=100;, score=(train=-50.475, test=-53.133) total time=   0.1s\n",
      "[CV 3/5] END criterion=squared_error, max_depth=3, n_estimators=100;, score=(train=-48.879, test=-59.936) total time=   0.2s\n",
      "[CV 4/5] END criterion=squared_error, max_depth=3, n_estimators=100;, score=(train=-50.102, test=-55.950) total time=   0.1s\n",
      "[CV 5/5] END criterion=squared_error, max_depth=3, n_estimators=100;, score=(train=-49.588, test=-59.270) total time=   0.2s\n",
      "[CV 1/5] END criterion=squared_error, max_depth=4, n_estimators=10;, score=(train=-45.631, test=-58.894) total time=   0.0s\n",
      "[CV 2/5] END criterion=squared_error, max_depth=4, n_estimators=10;, score=(train=-47.166, test=-53.453) total time=   0.0s\n",
      "[CV 3/5] END criterion=squared_error, max_depth=4, n_estimators=10;, score=(train=-44.270, test=-61.473) total time=   0.0s\n",
      "[CV 4/5] END criterion=squared_error, max_depth=4, n_estimators=10;, score=(train=-45.752, test=-57.429) total time=   0.0s\n",
      "[CV 5/5] END criterion=squared_error, max_depth=4, n_estimators=10;, score=(train=-45.257, test=-57.827) total time=   0.0s\n",
      "[CV 1/5] END criterion=squared_error, max_depth=4, n_estimators=20;, score=(train=-44.894, test=-58.281) total time=   0.0s\n",
      "[CV 2/5] END criterion=squared_error, max_depth=4, n_estimators=20;, score=(train=-46.557, test=-52.373) total time=   0.0s\n",
      "[CV 3/5] END criterion=squared_error, max_depth=4, n_estimators=20;, score=(train=-43.998, test=-61.926) total time=   0.0s\n",
      "[CV 4/5] END criterion=squared_error, max_depth=4, n_estimators=20;, score=(train=-45.888, test=-56.496) total time=   0.0s\n",
      "[CV 5/5] END criterion=squared_error, max_depth=4, n_estimators=20;, score=(train=-44.464, test=-59.428) total time=   0.0s\n",
      "[CV 1/5] END criterion=squared_error, max_depth=4, n_estimators=30;, score=(train=-44.980, test=-57.340) total time=   0.0s\n",
      "[CV 2/5] END criterion=squared_error, max_depth=4, n_estimators=30;, score=(train=-46.109, test=-52.541) total time=   0.0s\n",
      "[CV 3/5] END criterion=squared_error, max_depth=4, n_estimators=30;, score=(train=-43.806, test=-61.990) total time=   0.0s\n",
      "[CV 4/5] END criterion=squared_error, max_depth=4, n_estimators=30;, score=(train=-45.478, test=-56.349) total time=   0.0s\n",
      "[CV 5/5] END criterion=squared_error, max_depth=4, n_estimators=30;, score=(train=-43.953, test=-59.148) total time=   0.0s\n",
      "[CV 1/5] END criterion=squared_error, max_depth=4, n_estimators=40;, score=(train=-44.849, test=-57.029) total time=   0.0s\n",
      "[CV 2/5] END criterion=squared_error, max_depth=4, n_estimators=40;, score=(train=-46.131, test=-52.031) total time=   0.0s\n",
      "[CV 3/5] END criterion=squared_error, max_depth=4, n_estimators=40;, score=(train=-43.979, test=-61.192) total time=   0.0s\n",
      "[CV 4/5] END criterion=squared_error, max_depth=4, n_estimators=40;, score=(train=-45.407, test=-56.461) total time=   0.0s\n",
      "[CV 5/5] END criterion=squared_error, max_depth=4, n_estimators=40;, score=(train=-44.002, test=-59.639) total time=   0.0s\n",
      "[CV 1/5] END criterion=squared_error, max_depth=4, n_estimators=50;, score=(train=-44.570, test=-57.449) total time=   0.0s\n",
      "[CV 2/5] END criterion=squared_error, max_depth=4, n_estimators=50;, score=(train=-46.098, test=-51.946) total time=   0.0s\n",
      "[CV 3/5] END criterion=squared_error, max_depth=4, n_estimators=50;, score=(train=-43.879, test=-61.095) total time=   0.1s\n",
      "[CV 4/5] END criterion=squared_error, max_depth=4, n_estimators=50;, score=(train=-45.444, test=-55.963) total time=   0.1s\n",
      "[CV 5/5] END criterion=squared_error, max_depth=4, n_estimators=50;, score=(train=-43.998, test=-59.847) total time=   0.0s\n",
      "[CV 1/5] END criterion=squared_error, max_depth=4, n_estimators=60;, score=(train=-44.550, test=-57.455) total time=   0.0s\n",
      "[CV 2/5] END criterion=squared_error, max_depth=4, n_estimators=60;, score=(train=-46.038, test=-51.690) total time=   0.1s\n",
      "[CV 3/5] END criterion=squared_error, max_depth=4, n_estimators=60;, score=(train=-43.942, test=-61.071) total time=   0.0s\n",
      "[CV 4/5] END criterion=squared_error, max_depth=4, n_estimators=60;, score=(train=-45.425, test=-56.217) total time=   0.1s\n",
      "[CV 5/5] END criterion=squared_error, max_depth=4, n_estimators=60;, score=(train=-44.095, test=-59.334) total time=   0.1s\n",
      "[CV 1/5] END criterion=squared_error, max_depth=4, n_estimators=70;, score=(train=-44.449, test=-57.643) total time=   0.1s\n",
      "[CV 2/5] END criterion=squared_error, max_depth=4, n_estimators=70;, score=(train=-46.080, test=-52.144) total time=   0.1s\n",
      "[CV 3/5] END criterion=squared_error, max_depth=4, n_estimators=70;, score=(train=-43.996, test=-60.930) total time=   0.1s\n",
      "[CV 4/5] END criterion=squared_error, max_depth=4, n_estimators=70;, score=(train=-45.265, test=-56.095) total time=   0.1s\n",
      "[CV 5/5] END criterion=squared_error, max_depth=4, n_estimators=70;, score=(train=-44.114, test=-59.210) total time=   0.2s\n",
      "[CV 1/5] END criterion=squared_error, max_depth=4, n_estimators=80;, score=(train=-44.427, test=-57.697) total time=   0.1s\n",
      "[CV 2/5] END criterion=squared_error, max_depth=4, n_estimators=80;, score=(train=-46.056, test=-52.484) total time=   0.2s\n",
      "[CV 3/5] END criterion=squared_error, max_depth=4, n_estimators=80;, score=(train=-44.013, test=-60.891) total time=   0.1s\n",
      "[CV 4/5] END criterion=squared_error, max_depth=4, n_estimators=80;, score=(train=-45.260, test=-56.044) total time=   0.1s\n",
      "[CV 5/5] END criterion=squared_error, max_depth=4, n_estimators=80;, score=(train=-44.116, test=-59.470) total time=   0.2s\n",
      "[CV 1/5] END criterion=squared_error, max_depth=4, n_estimators=90;, score=(train=-44.431, test=-57.794) total time=   0.2s\n",
      "[CV 2/5] END criterion=squared_error, max_depth=4, n_estimators=90;, score=(train=-46.118, test=-52.510) total time=   0.2s\n",
      "[CV 3/5] END criterion=squared_error, max_depth=4, n_estimators=90;, score=(train=-43.963, test=-60.846) total time=   0.2s\n",
      "[CV 4/5] END criterion=squared_error, max_depth=4, n_estimators=90;, score=(train=-45.263, test=-55.982) total time=   0.2s\n",
      "[CV 5/5] END criterion=squared_error, max_depth=4, n_estimators=90;, score=(train=-44.114, test=-59.586) total time=   0.1s\n",
      "[CV 1/5] END criterion=squared_error, max_depth=4, n_estimators=100;, score=(train=-44.519, test=-58.070) total time=   0.2s\n",
      "[CV 2/5] END criterion=squared_error, max_depth=4, n_estimators=100;, score=(train=-46.104, test=-52.769) total time=   0.2s\n",
      "[CV 3/5] END criterion=squared_error, max_depth=4, n_estimators=100;, score=(train=-43.952, test=-60.768) total time=   0.3s\n",
      "[CV 4/5] END criterion=squared_error, max_depth=4, n_estimators=100;, score=(train=-45.312, test=-56.117) total time=   0.2s\n",
      "[CV 5/5] END criterion=squared_error, max_depth=4, n_estimators=100;, score=(train=-44.198, test=-59.565) total time=   0.2s\n",
      "[CV 1/5] END criterion=squared_error, max_depth=5, n_estimators=10;, score=(train=-39.673, test=-60.825) total time=   0.0s\n",
      "[CV 2/5] END criterion=squared_error, max_depth=5, n_estimators=10;, score=(train=-42.034, test=-55.038) total time=   0.0s\n",
      "[CV 3/5] END criterion=squared_error, max_depth=5, n_estimators=10;, score=(train=-39.726, test=-63.741) total time=   0.0s\n",
      "[CV 4/5] END criterion=squared_error, max_depth=5, n_estimators=10;, score=(train=-41.995, test=-58.376) total time=   0.0s\n",
      "[CV 5/5] END criterion=squared_error, max_depth=5, n_estimators=10;, score=(train=-40.412, test=-58.739) total time=   0.0s\n",
      "[CV 1/5] END criterion=squared_error, max_depth=5, n_estimators=20;, score=(train=-39.416, test=-59.287) total time=   0.0s\n",
      "[CV 2/5] END criterion=squared_error, max_depth=5, n_estimators=20;, score=(train=-41.970, test=-52.983) total time=   0.0s\n",
      "[CV 3/5] END criterion=squared_error, max_depth=5, n_estimators=20;, score=(train=-39.298, test=-62.723) total time=   0.0s\n",
      "[CV 4/5] END criterion=squared_error, max_depth=5, n_estimators=20;, score=(train=-41.350, test=-57.406) total time=   0.0s\n",
      "[CV 5/5] END criterion=squared_error, max_depth=5, n_estimators=20;, score=(train=-39.260, test=-60.280) total time=   0.0s\n",
      "[CV 1/5] END criterion=squared_error, max_depth=5, n_estimators=30;, score=(train=-39.824, test=-58.236) total time=   0.0s\n",
      "[CV 2/5] END criterion=squared_error, max_depth=5, n_estimators=30;, score=(train=-41.214, test=-53.056) total time=   0.0s\n",
      "[CV 3/5] END criterion=squared_error, max_depth=5, n_estimators=30;, score=(train=-39.023, test=-62.425) total time=   0.0s\n",
      "[CV 4/5] END criterion=squared_error, max_depth=5, n_estimators=30;, score=(train=-40.694, test=-57.147) total time=   0.0s\n",
      "[CV 5/5] END criterion=squared_error, max_depth=5, n_estimators=30;, score=(train=-38.583, test=-60.028) total time=   0.0s\n",
      "[CV 1/5] END criterion=squared_error, max_depth=5, n_estimators=40;, score=(train=-39.690, test=-57.609) total time=   0.0s\n",
      "[CV 2/5] END criterion=squared_error, max_depth=5, n_estimators=40;, score=(train=-40.960, test=-52.255) total time=   0.0s\n",
      "[CV 3/5] END criterion=squared_error, max_depth=5, n_estimators=40;, score=(train=-39.155, test=-61.672) total time=   0.0s\n",
      "[CV 4/5] END criterion=squared_error, max_depth=5, n_estimators=40;, score=(train=-40.526, test=-56.616) total time=   0.0s\n",
      "[CV 5/5] END criterion=squared_error, max_depth=5, n_estimators=40;, score=(train=-38.613, test=-60.108) total time=   0.0s\n",
      "[CV 1/5] END criterion=squared_error, max_depth=5, n_estimators=50;, score=(train=-39.541, test=-57.762) total time=   0.0s\n",
      "[CV 2/5] END criterion=squared_error, max_depth=5, n_estimators=50;, score=(train=-40.953, test=-52.418) total time=   0.1s\n",
      "[CV 3/5] END criterion=squared_error, max_depth=5, n_estimators=50;, score=(train=-39.069, test=-61.270) total time=   0.0s\n",
      "[CV 4/5] END criterion=squared_error, max_depth=5, n_estimators=50;, score=(train=-40.534, test=-56.067) total time=   0.1s\n",
      "[CV 5/5] END criterion=squared_error, max_depth=5, n_estimators=50;, score=(train=-38.503, test=-60.142) total time=   0.0s\n",
      "[CV 1/5] END criterion=squared_error, max_depth=5, n_estimators=60;, score=(train=-39.480, test=-57.611) total time=   0.1s\n",
      "[CV 2/5] END criterion=squared_error, max_depth=5, n_estimators=60;, score=(train=-40.908, test=-52.187) total time=   0.1s\n",
      "[CV 3/5] END criterion=squared_error, max_depth=5, n_estimators=60;, score=(train=-39.100, test=-61.464) total time=   0.1s\n",
      "[CV 4/5] END criterion=squared_error, max_depth=5, n_estimators=60;, score=(train=-40.512, test=-56.310) total time=   0.0s\n",
      "[CV 5/5] END criterion=squared_error, max_depth=5, n_estimators=60;, score=(train=-38.525, test=-59.579) total time=   0.1s\n",
      "[CV 1/5] END criterion=squared_error, max_depth=5, n_estimators=70;, score=(train=-39.397, test=-57.747) total time=   0.1s\n",
      "[CV 2/5] END criterion=squared_error, max_depth=5, n_estimators=70;, score=(train=-41.051, test=-52.506) total time=   0.1s\n",
      "[CV 3/5] END criterion=squared_error, max_depth=5, n_estimators=70;, score=(train=-39.158, test=-61.583) total time=   0.2s\n",
      "[CV 4/5] END criterion=squared_error, max_depth=5, n_estimators=70;, score=(train=-40.416, test=-56.052) total time=   0.1s\n",
      "[CV 5/5] END criterion=squared_error, max_depth=5, n_estimators=70;, score=(train=-38.626, test=-59.402) total time=   0.1s\n",
      "[CV 1/5] END criterion=squared_error, max_depth=5, n_estimators=80;, score=(train=-39.393, test=-57.831) total time=   0.1s\n",
      "[CV 2/5] END criterion=squared_error, max_depth=5, n_estimators=80;, score=(train=-41.067, test=-52.525) total time=   0.1s\n",
      "[CV 3/5] END criterion=squared_error, max_depth=5, n_estimators=80;, score=(train=-39.186, test=-61.537) total time=   0.1s\n",
      "[CV 4/5] END criterion=squared_error, max_depth=5, n_estimators=80;, score=(train=-40.385, test=-56.028) total time=   0.1s\n",
      "[CV 5/5] END criterion=squared_error, max_depth=5, n_estimators=80;, score=(train=-38.654, test=-59.591) total time=   0.1s\n",
      "[CV 1/5] END criterion=squared_error, max_depth=5, n_estimators=90;, score=(train=-39.378, test=-57.907) total time=   0.2s\n",
      "[CV 2/5] END criterion=squared_error, max_depth=5, n_estimators=90;, score=(train=-41.179, test=-52.341) total time=   0.2s\n",
      "[CV 3/5] END criterion=squared_error, max_depth=5, n_estimators=90;, score=(train=-39.093, test=-61.357) total time=   0.2s\n",
      "[CV 4/5] END criterion=squared_error, max_depth=5, n_estimators=90;, score=(train=-40.303, test=-56.139) total time=   0.2s\n",
      "[CV 5/5] END criterion=squared_error, max_depth=5, n_estimators=90;, score=(train=-38.579, test=-59.637) total time=   0.2s\n",
      "[CV 1/5] END criterion=squared_error, max_depth=5, n_estimators=100;, score=(train=-39.540, test=-58.155) total time=   0.2s\n",
      "[CV 2/5] END criterion=squared_error, max_depth=5, n_estimators=100;, score=(train=-41.213, test=-52.645) total time=   0.2s\n",
      "[CV 3/5] END criterion=squared_error, max_depth=5, n_estimators=100;, score=(train=-39.034, test=-61.207) total time=   0.3s\n",
      "[CV 4/5] END criterion=squared_error, max_depth=5, n_estimators=100;, score=(train=-40.379, test=-56.245) total time=   0.2s\n",
      "[CV 5/5] END criterion=squared_error, max_depth=5, n_estimators=100;, score=(train=-38.747, test=-59.574) total time=   0.3s\n",
      "[CV 1/5] END criterion=squared_error, max_depth=6, n_estimators=10;, score=(train=-35.352, test=-61.954) total time=   0.0s\n",
      "[CV 2/5] END criterion=squared_error, max_depth=6, n_estimators=10;, score=(train=-36.711, test=-57.200) total time=   0.0s\n",
      "[CV 3/5] END criterion=squared_error, max_depth=6, n_estimators=10;, score=(train=-35.623, test=-63.947) total time=   0.0s\n",
      "[CV 4/5] END criterion=squared_error, max_depth=6, n_estimators=10;, score=(train=-37.606, test=-59.586) total time=   0.0s\n",
      "[CV 5/5] END criterion=squared_error, max_depth=6, n_estimators=10;, score=(train=-35.266, test=-57.452) total time=   0.0s\n",
      "[CV 1/5] END criterion=squared_error, max_depth=6, n_estimators=20;, score=(train=-34.745, test=-60.099) total time=   0.0s\n",
      "[CV 2/5] END criterion=squared_error, max_depth=6, n_estimators=20;, score=(train=-37.156, test=-53.345) total time=   0.0s\n",
      "[CV 3/5] END criterion=squared_error, max_depth=6, n_estimators=20;, score=(train=-34.869, test=-63.805) total time=   0.0s\n",
      "[CV 4/5] END criterion=squared_error, max_depth=6, n_estimators=20;, score=(train=-36.575, test=-58.386) total time=   0.0s\n",
      "[CV 5/5] END criterion=squared_error, max_depth=6, n_estimators=20;, score=(train=-34.283, test=-59.363) total time=   0.0s\n",
      "[CV 1/5] END criterion=squared_error, max_depth=6, n_estimators=30;, score=(train=-35.177, test=-59.084) total time=   0.0s\n",
      "[CV 2/5] END criterion=squared_error, max_depth=6, n_estimators=30;, score=(train=-36.271, test=-52.761) total time=   0.0s\n",
      "[CV 3/5] END criterion=squared_error, max_depth=6, n_estimators=30;, score=(train=-34.684, test=-62.765) total time=   0.0s\n",
      "[CV 4/5] END criterion=squared_error, max_depth=6, n_estimators=30;, score=(train=-35.608, test=-57.320) total time=   0.0s\n",
      "[CV 5/5] END criterion=squared_error, max_depth=6, n_estimators=30;, score=(train=-33.492, test=-59.190) total time=   0.0s\n",
      "[CV 1/5] END criterion=squared_error, max_depth=6, n_estimators=40;, score=(train=-34.810, test=-58.656) total time=   0.0s\n",
      "[CV 2/5] END criterion=squared_error, max_depth=6, n_estimators=40;, score=(train=-36.033, test=-51.700) total time=   0.0s\n",
      "[CV 3/5] END criterion=squared_error, max_depth=6, n_estimators=40;, score=(train=-34.749, test=-62.188) total time=   0.0s\n",
      "[CV 4/5] END criterion=squared_error, max_depth=6, n_estimators=40;, score=(train=-35.403, test=-57.030) total time=   0.1s\n",
      "[CV 5/5] END criterion=squared_error, max_depth=6, n_estimators=40;, score=(train=-33.514, test=-59.598) total time=   0.0s\n",
      "[CV 1/5] END criterion=squared_error, max_depth=6, n_estimators=50;, score=(train=-34.683, test=-58.716) total time=   0.2s\n",
      "[CV 2/5] END criterion=squared_error, max_depth=6, n_estimators=50;, score=(train=-36.112, test=-52.158) total time=   0.1s\n",
      "[CV 3/5] END criterion=squared_error, max_depth=6, n_estimators=50;, score=(train=-34.475, test=-61.659) total time=   0.1s\n",
      "[CV 4/5] END criterion=squared_error, max_depth=6, n_estimators=50;, score=(train=-35.422, test=-56.508) total time=   0.1s\n",
      "[CV 5/5] END criterion=squared_error, max_depth=6, n_estimators=50;, score=(train=-33.379, test=-59.728) total time=   0.1s\n",
      "[CV 1/5] END criterion=squared_error, max_depth=6, n_estimators=60;, score=(train=-34.553, test=-58.606) total time=   0.1s\n",
      "[CV 2/5] END criterion=squared_error, max_depth=6, n_estimators=60;, score=(train=-36.124, test=-51.843) total time=   0.1s\n",
      "[CV 3/5] END criterion=squared_error, max_depth=6, n_estimators=60;, score=(train=-34.372, test=-61.756) total time=   0.1s\n",
      "[CV 4/5] END criterion=squared_error, max_depth=6, n_estimators=60;, score=(train=-35.362, test=-56.615) total time=   0.1s\n",
      "[CV 5/5] END criterion=squared_error, max_depth=6, n_estimators=60;, score=(train=-33.225, test=-59.311) total time=   0.1s\n",
      "[CV 1/5] END criterion=squared_error, max_depth=6, n_estimators=70;, score=(train=-34.450, test=-58.708) total time=   0.1s\n",
      "[CV 2/5] END criterion=squared_error, max_depth=6, n_estimators=70;, score=(train=-36.270, test=-52.075) total time=   0.2s\n",
      "[CV 3/5] END criterion=squared_error, max_depth=6, n_estimators=70;, score=(train=-34.386, test=-61.772) total time=   0.1s\n",
      "[CV 4/5] END criterion=squared_error, max_depth=6, n_estimators=70;, score=(train=-35.396, test=-56.292) total time=   0.1s\n",
      "[CV 5/5] END criterion=squared_error, max_depth=6, n_estimators=70;, score=(train=-33.382, test=-59.139) total time=   0.1s\n",
      "[CV 1/5] END criterion=squared_error, max_depth=6, n_estimators=80;, score=(train=-34.516, test=-58.709) total time=   0.1s\n",
      "[CV 2/5] END criterion=squared_error, max_depth=6, n_estimators=80;, score=(train=-36.312, test=-52.210) total time=   0.1s\n",
      "[CV 3/5] END criterion=squared_error, max_depth=6, n_estimators=80;, score=(train=-34.376, test=-61.707) total time=   0.1s\n",
      "[CV 4/5] END criterion=squared_error, max_depth=6, n_estimators=80;, score=(train=-35.285, test=-56.487) total time=   0.1s\n",
      "[CV 5/5] END criterion=squared_error, max_depth=6, n_estimators=80;, score=(train=-33.471, test=-59.442) total time=   0.2s\n",
      "[CV 1/5] END criterion=squared_error, max_depth=6, n_estimators=90;, score=(train=-34.561, test=-58.598) total time=   0.2s\n",
      "[CV 2/5] END criterion=squared_error, max_depth=6, n_estimators=90;, score=(train=-36.385, test=-52.261) total time=   0.2s\n",
      "[CV 3/5] END criterion=squared_error, max_depth=6, n_estimators=90;, score=(train=-34.243, test=-61.507) total time=   0.2s\n",
      "[CV 4/5] END criterion=squared_error, max_depth=6, n_estimators=90;, score=(train=-35.170, test=-56.702) total time=   0.2s\n",
      "[CV 5/5] END criterion=squared_error, max_depth=6, n_estimators=90;, score=(train=-33.389, test=-59.534) total time=   0.2s\n",
      "[CV 1/5] END criterion=squared_error, max_depth=6, n_estimators=100;, score=(train=-34.741, test=-58.723) total time=   0.2s\n",
      "[CV 2/5] END criterion=squared_error, max_depth=6, n_estimators=100;, score=(train=-36.374, test=-52.465) total time=   0.7s\n",
      "[CV 3/5] END criterion=squared_error, max_depth=6, n_estimators=100;, score=(train=-34.236, test=-61.505) total time=   0.5s\n",
      "[CV 4/5] END criterion=squared_error, max_depth=6, n_estimators=100;, score=(train=-35.228, test=-56.840) total time=   0.2s\n",
      "[CV 5/5] END criterion=squared_error, max_depth=6, n_estimators=100;, score=(train=-33.520, test=-59.585) total time=   0.8s\n",
      "[CV 1/5] END criterion=squared_error, max_depth=7, n_estimators=10;, score=(train=-31.797, test=-61.987) total time=   0.0s\n",
      "[CV 2/5] END criterion=squared_error, max_depth=7, n_estimators=10;, score=(train=-32.645, test=-54.615) total time=   0.0s\n",
      "[CV 3/5] END criterion=squared_error, max_depth=7, n_estimators=10;, score=(train=-31.447, test=-63.436) total time=   0.0s\n",
      "[CV 4/5] END criterion=squared_error, max_depth=7, n_estimators=10;, score=(train=-33.093, test=-59.545) total time=   0.0s\n",
      "[CV 5/5] END criterion=squared_error, max_depth=7, n_estimators=10;, score=(train=-31.752, test=-59.575) total time=   0.0s\n",
      "[CV 1/5] END criterion=squared_error, max_depth=7, n_estimators=20;, score=(train=-30.887, test=-59.484) total time=   0.0s\n",
      "[CV 2/5] END criterion=squared_error, max_depth=7, n_estimators=20;, score=(train=-32.754, test=-52.396) total time=   0.0s\n",
      "[CV 3/5] END criterion=squared_error, max_depth=7, n_estimators=20;, score=(train=-30.563, test=-63.321) total time=   0.0s\n",
      "[CV 4/5] END criterion=squared_error, max_depth=7, n_estimators=20;, score=(train=-31.969, test=-57.567) total time=   0.0s\n",
      "[CV 5/5] END criterion=squared_error, max_depth=7, n_estimators=20;, score=(train=-30.571, test=-60.913) total time=   0.0s\n",
      "[CV 1/5] END criterion=squared_error, max_depth=7, n_estimators=30;, score=(train=-31.056, test=-58.644) total time=   0.1s\n",
      "[CV 2/5] END criterion=squared_error, max_depth=7, n_estimators=30;, score=(train=-31.659, test=-52.932) total time=   0.0s\n",
      "[CV 3/5] END criterion=squared_error, max_depth=7, n_estimators=30;, score=(train=-30.396, test=-62.503) total time=   0.1s\n",
      "[CV 4/5] END criterion=squared_error, max_depth=7, n_estimators=30;, score=(train=-30.995, test=-56.500) total time=   0.0s\n",
      "[CV 5/5] END criterion=squared_error, max_depth=7, n_estimators=30;, score=(train=-29.509, test=-60.564) total time=   0.0s\n",
      "[CV 1/5] END criterion=squared_error, max_depth=7, n_estimators=40;, score=(train=-30.607, test=-58.741) total time=   0.0s\n",
      "[CV 2/5] END criterion=squared_error, max_depth=7, n_estimators=40;, score=(train=-31.631, test=-51.748) total time=   0.3s\n",
      "[CV 3/5] END criterion=squared_error, max_depth=7, n_estimators=40;, score=(train=-30.415, test=-61.933) total time=   0.0s\n",
      "[CV 4/5] END criterion=squared_error, max_depth=7, n_estimators=40;, score=(train=-30.788, test=-56.319) total time=   0.1s\n",
      "[CV 5/5] END criterion=squared_error, max_depth=7, n_estimators=40;, score=(train=-29.421, test=-60.666) total time=   0.1s\n",
      "[CV 1/5] END criterion=squared_error, max_depth=7, n_estimators=50;, score=(train=-30.418, test=-58.971) total time=   0.1s\n",
      "[CV 2/5] END criterion=squared_error, max_depth=7, n_estimators=50;, score=(train=-31.698, test=-52.246) total time=   0.1s\n",
      "[CV 3/5] END criterion=squared_error, max_depth=7, n_estimators=50;, score=(train=-30.229, test=-61.709) total time=   0.1s\n",
      "[CV 4/5] END criterion=squared_error, max_depth=7, n_estimators=50;, score=(train=-30.835, test=-55.837) total time=   0.1s\n",
      "[CV 5/5] END criterion=squared_error, max_depth=7, n_estimators=50;, score=(train=-29.153, test=-61.009) total time=   0.1s\n",
      "[CV 1/5] END criterion=squared_error, max_depth=7, n_estimators=60;, score=(train=-30.237, test=-58.809) total time=   0.2s\n",
      "[CV 2/5] END criterion=squared_error, max_depth=7, n_estimators=60;, score=(train=-31.692, test=-52.136) total time=   0.1s\n",
      "[CV 3/5] END criterion=squared_error, max_depth=7, n_estimators=60;, score=(train=-30.023, test=-61.838) total time=   0.2s\n",
      "[CV 4/5] END criterion=squared_error, max_depth=7, n_estimators=60;, score=(train=-30.799, test=-56.329) total time=   0.1s\n",
      "[CV 5/5] END criterion=squared_error, max_depth=7, n_estimators=60;, score=(train=-28.941, test=-60.614) total time=   0.1s\n",
      "[CV 1/5] END criterion=squared_error, max_depth=7, n_estimators=70;, score=(train=-30.067, test=-58.742) total time=   0.3s\n",
      "[CV 2/5] END criterion=squared_error, max_depth=7, n_estimators=70;, score=(train=-31.886, test=-52.253) total time=   0.2s\n",
      "[CV 3/5] END criterion=squared_error, max_depth=7, n_estimators=70;, score=(train=-29.979, test=-61.656) total time=   0.2s\n",
      "[CV 4/5] END criterion=squared_error, max_depth=7, n_estimators=70;, score=(train=-30.902, test=-55.988) total time=   0.1s\n",
      "[CV 5/5] END criterion=squared_error, max_depth=7, n_estimators=70;, score=(train=-29.092, test=-60.550) total time=   0.1s\n",
      "[CV 1/5] END criterion=squared_error, max_depth=7, n_estimators=80;, score=(train=-30.216, test=-58.769) total time=   0.2s\n",
      "[CV 2/5] END criterion=squared_error, max_depth=7, n_estimators=80;, score=(train=-32.019, test=-52.452) total time=   0.2s\n",
      "[CV 3/5] END criterion=squared_error, max_depth=7, n_estimators=80;, score=(train=-29.945, test=-61.810) total time=   0.2s\n",
      "[CV 4/5] END criterion=squared_error, max_depth=7, n_estimators=80;, score=(train=-30.840, test=-56.148) total time=   0.3s\n",
      "[CV 5/5] END criterion=squared_error, max_depth=7, n_estimators=80;, score=(train=-29.128, test=-60.816) total time=   0.9s\n",
      "[CV 1/5] END criterion=squared_error, max_depth=7, n_estimators=90;, score=(train=-30.370, test=-58.607) total time=   0.6s\n",
      "[CV 2/5] END criterion=squared_error, max_depth=7, n_estimators=90;, score=(train=-31.994, test=-52.249) total time=   0.3s\n",
      "[CV 3/5] END criterion=squared_error, max_depth=7, n_estimators=90;, score=(train=-29.847, test=-61.582) total time=   0.2s\n",
      "[CV 4/5] END criterion=squared_error, max_depth=7, n_estimators=90;, score=(train=-30.732, test=-56.447) total time=   0.2s\n",
      "[CV 5/5] END criterion=squared_error, max_depth=7, n_estimators=90;, score=(train=-29.027, test=-60.720) total time=   0.2s\n",
      "[CV 1/5] END criterion=squared_error, max_depth=7, n_estimators=100;, score=(train=-30.567, test=-58.843) total time=   0.3s\n",
      "[CV 2/5] END criterion=squared_error, max_depth=7, n_estimators=100;, score=(train=-32.010, test=-52.450) total time=   0.2s\n",
      "[CV 3/5] END criterion=squared_error, max_depth=7, n_estimators=100;, score=(train=-29.870, test=-61.434) total time=   0.3s\n",
      "[CV 4/5] END criterion=squared_error, max_depth=7, n_estimators=100;, score=(train=-30.725, test=-56.523) total time=   0.3s\n",
      "[CV 5/5] END criterion=squared_error, max_depth=7, n_estimators=100;, score=(train=-29.181, test=-60.554) total time=   0.3s\n",
      "[CV 1/5] END criterion=squared_error, max_depth=8, n_estimators=10;, score=(train=-29.064, test=-60.736) total time=   0.0s\n",
      "[CV 2/5] END criterion=squared_error, max_depth=8, n_estimators=10;, score=(train=-30.091, test=-56.620) total time=   0.0s\n",
      "[CV 3/5] END criterion=squared_error, max_depth=8, n_estimators=10;, score=(train=-28.425, test=-65.129) total time=   0.0s\n",
      "[CV 4/5] END criterion=squared_error, max_depth=8, n_estimators=10;, score=(train=-30.180, test=-60.127) total time=   0.0s\n",
      "[CV 5/5] END criterion=squared_error, max_depth=8, n_estimators=10;, score=(train=-28.201, test=-61.046) total time=   0.0s\n",
      "[CV 1/5] END criterion=squared_error, max_depth=8, n_estimators=20;, score=(train=-27.950, test=-58.122) total time=   0.0s\n",
      "[CV 2/5] END criterion=squared_error, max_depth=8, n_estimators=20;, score=(train=-29.604, test=-52.855) total time=   0.0s\n",
      "[CV 3/5] END criterion=squared_error, max_depth=8, n_estimators=20;, score=(train=-27.367, test=-64.568) total time=   0.0s\n",
      "[CV 4/5] END criterion=squared_error, max_depth=8, n_estimators=20;, score=(train=-29.236, test=-57.361) total time=   0.0s\n",
      "[CV 5/5] END criterion=squared_error, max_depth=8, n_estimators=20;, score=(train=-27.508, test=-61.510) total time=   0.0s\n",
      "[CV 1/5] END criterion=squared_error, max_depth=8, n_estimators=30;, score=(train=-27.910, test=-57.694) total time=   0.0s\n",
      "[CV 2/5] END criterion=squared_error, max_depth=8, n_estimators=30;, score=(train=-28.626, test=-53.192) total time=   0.0s\n",
      "[CV 3/5] END criterion=squared_error, max_depth=8, n_estimators=30;, score=(train=-27.321, test=-63.061) total time=   0.1s\n",
      "[CV 4/5] END criterion=squared_error, max_depth=8, n_estimators=30;, score=(train=-28.157, test=-57.304) total time=   0.2s\n",
      "[CV 5/5] END criterion=squared_error, max_depth=8, n_estimators=30;, score=(train=-26.538, test=-60.817) total time=   0.5s\n",
      "[CV 1/5] END criterion=squared_error, max_depth=8, n_estimators=40;, score=(train=-27.407, test=-57.981) total time=   0.5s\n",
      "[CV 2/5] END criterion=squared_error, max_depth=8, n_estimators=40;, score=(train=-28.591, test=-52.021) total time=   0.3s\n",
      "[CV 3/5] END criterion=squared_error, max_depth=8, n_estimators=40;, score=(train=-27.244, test=-62.690) total time=   0.1s\n",
      "[CV 4/5] END criterion=squared_error, max_depth=8, n_estimators=40;, score=(train=-27.853, test=-56.888) total time=   0.1s\n",
      "[CV 5/5] END criterion=squared_error, max_depth=8, n_estimators=40;, score=(train=-26.348, test=-61.076) total time=   0.1s\n",
      "[CV 1/5] END criterion=squared_error, max_depth=8, n_estimators=50;, score=(train=-27.189, test=-57.857) total time=   0.1s\n",
      "[CV 2/5] END criterion=squared_error, max_depth=8, n_estimators=50;, score=(train=-28.601, test=-52.564) total time=   0.1s\n",
      "[CV 3/5] END criterion=squared_error, max_depth=8, n_estimators=50;, score=(train=-27.015, test=-62.406) total time=   0.6s\n",
      "[CV 4/5] END criterion=squared_error, max_depth=8, n_estimators=50;, score=(train=-27.914, test=-56.455) total time=   0.4s\n",
      "[CV 5/5] END criterion=squared_error, max_depth=8, n_estimators=50;, score=(train=-25.986, test=-61.152) total time=   0.3s\n",
      "[CV 1/5] END criterion=squared_error, max_depth=8, n_estimators=60;, score=(train=-26.859, test=-57.911) total time=   0.2s\n",
      "[CV 2/5] END criterion=squared_error, max_depth=8, n_estimators=60;, score=(train=-28.490, test=-52.435) total time=   0.2s\n",
      "[CV 3/5] END criterion=squared_error, max_depth=8, n_estimators=60;, score=(train=-26.642, test=-62.833) total time=   0.2s\n",
      "[CV 4/5] END criterion=squared_error, max_depth=8, n_estimators=60;, score=(train=-27.817, test=-56.580) total time=   0.2s\n",
      "[CV 5/5] END criterion=squared_error, max_depth=8, n_estimators=60;, score=(train=-25.757, test=-60.716) total time=   0.2s\n",
      "[CV 1/5] END criterion=squared_error, max_depth=8, n_estimators=70;, score=(train=-26.709, test=-58.074) total time=   0.4s\n",
      "[CV 2/5] END criterion=squared_error, max_depth=8, n_estimators=70;, score=(train=-28.603, test=-52.566) total time=   0.6s\n",
      "[CV 3/5] END criterion=squared_error, max_depth=8, n_estimators=70;, score=(train=-26.562, test=-62.710) total time=   1.1s\n",
      "[CV 4/5] END criterion=squared_error, max_depth=8, n_estimators=70;, score=(train=-27.866, test=-56.378) total time=   0.5s\n",
      "[CV 5/5] END criterion=squared_error, max_depth=8, n_estimators=70;, score=(train=-25.917, test=-60.447) total time=   0.3s\n",
      "[CV 1/5] END criterion=squared_error, max_depth=8, n_estimators=80;, score=(train=-26.951, test=-58.313) total time=   1.1s\n",
      "[CV 2/5] END criterion=squared_error, max_depth=8, n_estimators=80;, score=(train=-28.651, test=-52.582) total time=   0.3s\n",
      "[CV 3/5] END criterion=squared_error, max_depth=8, n_estimators=80;, score=(train=-26.474, test=-62.631) total time=   0.3s\n",
      "[CV 4/5] END criterion=squared_error, max_depth=8, n_estimators=80;, score=(train=-27.736, test=-56.554) total time=   0.3s\n",
      "[CV 5/5] END criterion=squared_error, max_depth=8, n_estimators=80;, score=(train=-25.910, test=-60.836) total time=   0.3s\n",
      "[CV 1/5] END criterion=squared_error, max_depth=8, n_estimators=90;, score=(train=-27.107, test=-58.233) total time=   0.3s\n",
      "[CV 2/5] END criterion=squared_error, max_depth=8, n_estimators=90;, score=(train=-28.592, test=-52.343) total time=   0.3s\n",
      "[CV 3/5] END criterion=squared_error, max_depth=8, n_estimators=90;, score=(train=-26.412, test=-62.357) total time=   0.4s\n",
      "[CV 4/5] END criterion=squared_error, max_depth=8, n_estimators=90;, score=(train=-27.657, test=-56.554) total time=   0.4s\n",
      "[CV 5/5] END criterion=squared_error, max_depth=8, n_estimators=90;, score=(train=-25.843, test=-60.677) total time=   1.0s\n",
      "[CV 1/5] END criterion=squared_error, max_depth=8, n_estimators=100;, score=(train=-27.292, test=-58.455) total time=   1.5s\n",
      "[CV 2/5] END criterion=squared_error, max_depth=8, n_estimators=100;, score=(train=-28.587, test=-52.543) total time=   0.3s\n",
      "[CV 3/5] END criterion=squared_error, max_depth=8, n_estimators=100;, score=(train=-26.488, test=-62.264) total time=   0.9s\n",
      "[CV 4/5] END criterion=squared_error, max_depth=8, n_estimators=100;, score=(train=-27.651, test=-56.569) total time=   0.3s\n",
      "[CV 5/5] END criterion=squared_error, max_depth=8, n_estimators=100;, score=(train=-25.847, test=-60.592) total time=   0.3s\n",
      "[CV 1/5] END criterion=squared_error, max_depth=9, n_estimators=10;, score=(train=-27.031, test=-62.391) total time=   0.0s\n",
      "[CV 2/5] END criterion=squared_error, max_depth=9, n_estimators=10;, score=(train=-27.292, test=-55.433) total time=   0.0s\n",
      "[CV 3/5] END criterion=squared_error, max_depth=9, n_estimators=10;, score=(train=-26.779, test=-65.833) total time=   0.0s\n",
      "[CV 4/5] END criterion=squared_error, max_depth=9, n_estimators=10;, score=(train=-28.174, test=-60.000) total time=   0.0s\n",
      "[CV 5/5] END criterion=squared_error, max_depth=9, n_estimators=10;, score=(train=-26.263, test=-59.558) total time=   0.0s\n",
      "[CV 1/5] END criterion=squared_error, max_depth=9, n_estimators=20;, score=(train=-25.764, test=-59.761) total time=   0.0s\n",
      "[CV 2/5] END criterion=squared_error, max_depth=9, n_estimators=20;, score=(train=-26.842, test=-52.071) total time=   0.0s\n",
      "[CV 3/5] END criterion=squared_error, max_depth=9, n_estimators=20;, score=(train=-25.265, test=-64.306) total time=   0.0s\n",
      "[CV 4/5] END criterion=squared_error, max_depth=9, n_estimators=20;, score=(train=-26.864, test=-57.745) total time=   0.0s\n",
      "[CV 5/5] END criterion=squared_error, max_depth=9, n_estimators=20;, score=(train=-25.535, test=-60.945) total time=   0.0s\n",
      "[CV 1/5] END criterion=squared_error, max_depth=9, n_estimators=30;, score=(train=-25.701, test=-59.239) total time=   0.0s\n",
      "[CV 2/5] END criterion=squared_error, max_depth=9, n_estimators=30;, score=(train=-25.922, test=-52.133) total time=   0.0s\n",
      "[CV 3/5] END criterion=squared_error, max_depth=9, n_estimators=30;, score=(train=-25.198, test=-63.935) total time=   0.1s\n",
      "[CV 4/5] END criterion=squared_error, max_depth=9, n_estimators=30;, score=(train=-25.977, test=-57.142) total time=   0.1s\n",
      "[CV 5/5] END criterion=squared_error, max_depth=9, n_estimators=30;, score=(train=-24.406, test=-60.688) total time=   0.0s\n",
      "[CV 1/5] END criterion=squared_error, max_depth=9, n_estimators=40;, score=(train=-25.164, test=-59.217) total time=   0.1s\n",
      "[CV 2/5] END criterion=squared_error, max_depth=9, n_estimators=40;, score=(train=-25.913, test=-51.189) total time=   0.1s\n",
      "[CV 3/5] END criterion=squared_error, max_depth=9, n_estimators=40;, score=(train=-24.949, test=-63.504) total time=   0.1s\n",
      "[CV 4/5] END criterion=squared_error, max_depth=9, n_estimators=40;, score=(train=-25.732, test=-56.822) total time=   0.1s\n",
      "[CV 5/5] END criterion=squared_error, max_depth=9, n_estimators=40;, score=(train=-24.139, test=-60.921) total time=   0.1s\n",
      "[CV 1/5] END criterion=squared_error, max_depth=9, n_estimators=50;, score=(train=-24.911, test=-59.092) total time=   0.2s\n",
      "[CV 2/5] END criterion=squared_error, max_depth=9, n_estimators=50;, score=(train=-25.908, test=-52.068) total time=   0.1s\n",
      "[CV 3/5] END criterion=squared_error, max_depth=9, n_estimators=50;, score=(train=-24.782, test=-62.902) total time=   0.1s\n",
      "[CV 4/5] END criterion=squared_error, max_depth=9, n_estimators=50;, score=(train=-25.674, test=-56.069) total time=   0.2s\n",
      "[CV 5/5] END criterion=squared_error, max_depth=9, n_estimators=50;, score=(train=-23.936, test=-61.359) total time=   0.2s\n",
      "[CV 1/5] END criterion=squared_error, max_depth=9, n_estimators=60;, score=(train=-24.523, test=-58.697) total time=   0.3s\n",
      "[CV 2/5] END criterion=squared_error, max_depth=9, n_estimators=60;, score=(train=-25.848, test=-51.917) total time=   0.2s\n",
      "[CV 3/5] END criterion=squared_error, max_depth=9, n_estimators=60;, score=(train=-24.313, test=-63.366) total time=   0.2s\n",
      "[CV 4/5] END criterion=squared_error, max_depth=9, n_estimators=60;, score=(train=-25.570, test=-56.437) total time=   0.2s\n",
      "[CV 5/5] END criterion=squared_error, max_depth=9, n_estimators=60;, score=(train=-23.724, test=-60.912) total time=   0.1s\n",
      "[CV 1/5] END criterion=squared_error, max_depth=9, n_estimators=70;, score=(train=-24.367, test=-58.930) total time=   0.2s\n",
      "[CV 2/5] END criterion=squared_error, max_depth=9, n_estimators=70;, score=(train=-25.933, test=-52.164) total time=   0.3s\n",
      "[CV 3/5] END criterion=squared_error, max_depth=9, n_estimators=70;, score=(train=-24.205, test=-63.266) total time=   0.2s\n",
      "[CV 4/5] END criterion=squared_error, max_depth=9, n_estimators=70;, score=(train=-25.638, test=-56.245) total time=   0.2s\n",
      "[CV 5/5] END criterion=squared_error, max_depth=9, n_estimators=70;, score=(train=-23.768, test=-60.666) total time=   0.2s\n",
      "[CV 1/5] END criterion=squared_error, max_depth=9, n_estimators=80;, score=(train=-24.573, test=-59.000) total time=   0.3s\n",
      "[CV 2/5] END criterion=squared_error, max_depth=9, n_estimators=80;, score=(train=-25.962, test=-52.217) total time=   0.7s\n",
      "[CV 3/5] END criterion=squared_error, max_depth=9, n_estimators=80;, score=(train=-24.144, test=-63.052) total time=   0.3s\n",
      "[CV 4/5] END criterion=squared_error, max_depth=9, n_estimators=80;, score=(train=-25.531, test=-56.286) total time=   0.2s\n",
      "[CV 5/5] END criterion=squared_error, max_depth=9, n_estimators=80;, score=(train=-23.672, test=-60.815) total time=   0.2s\n",
      "[CV 1/5] END criterion=squared_error, max_depth=9, n_estimators=90;, score=(train=-24.721, test=-58.716) total time=   0.2s\n",
      "[CV 2/5] END criterion=squared_error, max_depth=9, n_estimators=90;, score=(train=-25.972, test=-51.890) total time=   0.2s\n",
      "[CV 3/5] END criterion=squared_error, max_depth=9, n_estimators=90;, score=(train=-24.116, test=-62.709) total time=   0.2s\n",
      "[CV 4/5] END criterion=squared_error, max_depth=9, n_estimators=90;, score=(train=-25.475, test=-56.483) total time=   0.3s\n",
      "[CV 5/5] END criterion=squared_error, max_depth=9, n_estimators=90;, score=(train=-23.652, test=-60.805) total time=   0.3s\n",
      "[CV 1/5] END criterion=squared_error, max_depth=9, n_estimators=100;, score=(train=-24.897, test=-58.977) total time=   0.2s\n",
      "[CV 2/5] END criterion=squared_error, max_depth=9, n_estimators=100;, score=(train=-25.955, test=-52.119) total time=   0.3s\n",
      "[CV 3/5] END criterion=squared_error, max_depth=9, n_estimators=100;, score=(train=-24.219, test=-62.548) total time=   0.3s\n",
      "[CV 4/5] END criterion=squared_error, max_depth=9, n_estimators=100;, score=(train=-25.415, test=-56.396) total time=   0.3s\n",
      "[CV 5/5] END criterion=squared_error, max_depth=9, n_estimators=100;, score=(train=-23.708, test=-60.790) total time=   0.5s\n",
      "[CV 1/5] END criterion=poisson, max_depth=2, n_estimators=10;, score=(train=-54.987, test=-59.869) total time=   0.0s\n",
      "[CV 2/5] END criterion=poisson, max_depth=2, n_estimators=10;, score=(train=-55.456, test=-54.855) total time=   0.0s\n",
      "[CV 3/5] END criterion=poisson, max_depth=2, n_estimators=10;, score=(train=-53.947, test=-59.478) total time=   0.0s\n",
      "[CV 4/5] END criterion=poisson, max_depth=2, n_estimators=10;, score=(train=-54.809, test=-58.117) total time=   0.0s\n",
      "[CV 5/5] END criterion=poisson, max_depth=2, n_estimators=10;, score=(train=-54.615, test=-59.534) total time=   0.0s\n",
      "[CV 1/5] END criterion=poisson, max_depth=2, n_estimators=20;, score=(train=-54.393, test=-59.671) total time=   0.0s\n",
      "[CV 2/5] END criterion=poisson, max_depth=2, n_estimators=20;, score=(train=-55.666, test=-55.170) total time=   0.0s\n",
      "[CV 3/5] END criterion=poisson, max_depth=2, n_estimators=20;, score=(train=-53.821, test=-60.159) total time=   0.0s\n",
      "[CV 4/5] END criterion=poisson, max_depth=2, n_estimators=20;, score=(train=-54.684, test=-57.538) total time=   0.0s\n",
      "[CV 5/5] END criterion=poisson, max_depth=2, n_estimators=20;, score=(train=-54.796, test=-60.224) total time=   0.0s\n",
      "[CV 1/5] END criterion=poisson, max_depth=2, n_estimators=30;, score=(train=-54.335, test=-59.356) total time=   0.0s\n",
      "[CV 2/5] END criterion=poisson, max_depth=2, n_estimators=30;, score=(train=-55.710, test=-55.994) total time=   0.0s\n",
      "[CV 3/5] END criterion=poisson, max_depth=2, n_estimators=30;, score=(train=-53.793, test=-60.805) total time=   0.0s\n",
      "[CV 4/5] END criterion=poisson, max_depth=2, n_estimators=30;, score=(train=-54.627, test=-57.677) total time=   0.0s\n",
      "[CV 5/5] END criterion=poisson, max_depth=2, n_estimators=30;, score=(train=-54.758, test=-60.187) total time=   0.0s\n",
      "[CV 1/5] END criterion=poisson, max_depth=2, n_estimators=40;, score=(train=-54.257, test=-59.198) total time=   0.0s\n",
      "[CV 2/5] END criterion=poisson, max_depth=2, n_estimators=40;, score=(train=-55.712, test=-55.368) total time=   0.0s\n",
      "[CV 3/5] END criterion=poisson, max_depth=2, n_estimators=40;, score=(train=-53.827, test=-60.822) total time=   0.0s\n",
      "[CV 4/5] END criterion=poisson, max_depth=2, n_estimators=40;, score=(train=-54.715, test=-57.587) total time=   0.0s\n",
      "[CV 5/5] END criterion=poisson, max_depth=2, n_estimators=40;, score=(train=-54.543, test=-60.033) total time=   0.0s\n",
      "[CV 1/5] END criterion=poisson, max_depth=2, n_estimators=50;, score=(train=-54.029, test=-59.450) total time=   0.0s\n",
      "[CV 2/5] END criterion=poisson, max_depth=2, n_estimators=50;, score=(train=-55.633, test=-55.330) total time=   0.0s\n",
      "[CV 3/5] END criterion=poisson, max_depth=2, n_estimators=50;, score=(train=-53.789, test=-60.591) total time=   0.0s\n",
      "[CV 4/5] END criterion=poisson, max_depth=2, n_estimators=50;, score=(train=-54.674, test=-57.327) total time=   0.0s\n",
      "[CV 5/5] END criterion=poisson, max_depth=2, n_estimators=50;, score=(train=-54.671, test=-60.331) total time=   0.0s\n",
      "[CV 1/5] END criterion=poisson, max_depth=2, n_estimators=60;, score=(train=-53.918, test=-59.451) total time=   0.0s\n",
      "[CV 2/5] END criterion=poisson, max_depth=2, n_estimators=60;, score=(train=-55.634, test=-55.116) total time=   0.1s\n",
      "[CV 3/5] END criterion=poisson, max_depth=2, n_estimators=60;, score=(train=-53.761, test=-60.254) total time=   0.1s\n",
      "[CV 4/5] END criterion=poisson, max_depth=2, n_estimators=60;, score=(train=-54.687, test=-57.620) total time=   0.0s\n",
      "[CV 5/5] END criterion=poisson, max_depth=2, n_estimators=60;, score=(train=-54.581, test=-60.099) total time=   0.0s\n",
      "[CV 1/5] END criterion=poisson, max_depth=2, n_estimators=70;, score=(train=-53.865, test=-59.544) total time=   0.1s\n",
      "[CV 2/5] END criterion=poisson, max_depth=2, n_estimators=70;, score=(train=-55.614, test=-55.372) total time=   0.0s\n",
      "[CV 3/5] END criterion=poisson, max_depth=2, n_estimators=70;, score=(train=-53.818, test=-60.180) total time=   0.0s\n",
      "[CV 4/5] END criterion=poisson, max_depth=2, n_estimators=70;, score=(train=-54.551, test=-57.465) total time=   0.3s\n",
      "[CV 5/5] END criterion=poisson, max_depth=2, n_estimators=70;, score=(train=-54.374, test=-59.983) total time=   0.1s\n",
      "[CV 1/5] END criterion=poisson, max_depth=2, n_estimators=80;, score=(train=-53.840, test=-59.564) total time=   0.3s\n",
      "[CV 2/5] END criterion=poisson, max_depth=2, n_estimators=80;, score=(train=-55.510, test=-55.384) total time=   0.5s\n",
      "[CV 3/5] END criterion=poisson, max_depth=2, n_estimators=80;, score=(train=-53.813, test=-60.402) total time=   0.1s\n",
      "[CV 4/5] END criterion=poisson, max_depth=2, n_estimators=80;, score=(train=-54.515, test=-57.478) total time=   0.1s\n",
      "[CV 5/5] END criterion=poisson, max_depth=2, n_estimators=80;, score=(train=-54.456, test=-60.283) total time=   0.1s\n",
      "[CV 1/5] END criterion=poisson, max_depth=2, n_estimators=90;, score=(train=-53.796, test=-59.562) total time=   0.1s\n",
      "[CV 2/5] END criterion=poisson, max_depth=2, n_estimators=90;, score=(train=-55.528, test=-55.454) total time=   0.4s\n",
      "[CV 3/5] END criterion=poisson, max_depth=2, n_estimators=90;, score=(train=-53.844, test=-60.350) total time=   0.2s\n",
      "[CV 4/5] END criterion=poisson, max_depth=2, n_estimators=90;, score=(train=-54.543, test=-57.579) total time=   0.1s\n",
      "[CV 5/5] END criterion=poisson, max_depth=2, n_estimators=90;, score=(train=-54.441, test=-60.282) total time=   0.1s\n",
      "[CV 1/5] END criterion=poisson, max_depth=2, n_estimators=100;, score=(train=-53.747, test=-59.599) total time=   0.1s\n",
      "[CV 2/5] END criterion=poisson, max_depth=2, n_estimators=100;, score=(train=-55.473, test=-55.327) total time=   0.1s\n",
      "[CV 3/5] END criterion=poisson, max_depth=2, n_estimators=100;, score=(train=-53.894, test=-60.285) total time=   0.1s\n",
      "[CV 4/5] END criterion=poisson, max_depth=2, n_estimators=100;, score=(train=-54.537, test=-57.779) total time=   0.1s\n",
      "[CV 5/5] END criterion=poisson, max_depth=2, n_estimators=100;, score=(train=-54.500, test=-60.495) total time=   0.1s\n",
      "[CV 1/5] END criterion=poisson, max_depth=3, n_estimators=10;, score=(train=-50.532, test=-61.908) total time=   0.0s\n",
      "[CV 2/5] END criterion=poisson, max_depth=3, n_estimators=10;, score=(train=-51.429, test=-53.795) total time=   0.0s\n",
      "[CV 3/5] END criterion=poisson, max_depth=3, n_estimators=10;, score=(train=-49.501, test=-59.824) total time=   0.0s\n",
      "[CV 4/5] END criterion=poisson, max_depth=3, n_estimators=10;, score=(train=-50.214, test=-56.542) total time=   0.0s\n",
      "[CV 5/5] END criterion=poisson, max_depth=3, n_estimators=10;, score=(train=-50.974, test=-58.454) total time=   0.0s\n",
      "[CV 1/5] END criterion=poisson, max_depth=3, n_estimators=20;, score=(train=-49.825, test=-60.444) total time=   0.0s\n",
      "[CV 2/5] END criterion=poisson, max_depth=3, n_estimators=20;, score=(train=-51.527, test=-53.663) total time=   0.0s\n",
      "[CV 3/5] END criterion=poisson, max_depth=3, n_estimators=20;, score=(train=-49.070, test=-60.099) total time=   0.1s\n",
      "[CV 4/5] END criterion=poisson, max_depth=3, n_estimators=20;, score=(train=-50.564, test=-56.043) total time=   0.0s\n",
      "[CV 5/5] END criterion=poisson, max_depth=3, n_estimators=20;, score=(train=-50.344, test=-59.237) total time=   0.0s\n",
      "[CV 1/5] END criterion=poisson, max_depth=3, n_estimators=30;, score=(train=-49.817, test=-59.647) total time=   0.0s\n",
      "[CV 2/5] END criterion=poisson, max_depth=3, n_estimators=30;, score=(train=-51.183, test=-54.166) total time=   0.0s\n",
      "[CV 3/5] END criterion=poisson, max_depth=3, n_estimators=30;, score=(train=-49.120, test=-60.643) total time=   0.0s\n",
      "[CV 4/5] END criterion=poisson, max_depth=3, n_estimators=30;, score=(train=-50.500, test=-56.265) total time=   0.0s\n",
      "[CV 5/5] END criterion=poisson, max_depth=3, n_estimators=30;, score=(train=-50.219, test=-59.017) total time=   0.0s\n",
      "[CV 1/5] END criterion=poisson, max_depth=3, n_estimators=40;, score=(train=-49.680, test=-59.403) total time=   0.0s\n",
      "[CV 2/5] END criterion=poisson, max_depth=3, n_estimators=40;, score=(train=-51.075, test=-54.021) total time=   0.0s\n",
      "[CV 3/5] END criterion=poisson, max_depth=3, n_estimators=40;, score=(train=-49.168, test=-60.490) total time=   0.0s\n",
      "[CV 4/5] END criterion=poisson, max_depth=3, n_estimators=40;, score=(train=-50.425, test=-56.072) total time=   0.0s\n",
      "[CV 5/5] END criterion=poisson, max_depth=3, n_estimators=40;, score=(train=-50.032, test=-59.000) total time=   0.0s\n",
      "[CV 1/5] END criterion=poisson, max_depth=3, n_estimators=50;, score=(train=-49.436, test=-59.632) total time=   0.0s\n",
      "[CV 2/5] END criterion=poisson, max_depth=3, n_estimators=50;, score=(train=-51.045, test=-54.354) total time=   0.0s\n",
      "[CV 3/5] END criterion=poisson, max_depth=3, n_estimators=50;, score=(train=-49.113, test=-60.579) total time=   0.0s\n",
      "[CV 4/5] END criterion=poisson, max_depth=3, n_estimators=50;, score=(train=-50.497, test=-55.846) total time=   0.0s\n",
      "[CV 5/5] END criterion=poisson, max_depth=3, n_estimators=50;, score=(train=-50.104, test=-59.315) total time=   0.0s\n",
      "[CV 1/5] END criterion=poisson, max_depth=3, n_estimators=60;, score=(train=-49.389, test=-59.807) total time=   0.1s\n",
      "[CV 2/5] END criterion=poisson, max_depth=3, n_estimators=60;, score=(train=-51.016, test=-54.132) total time=   0.0s\n",
      "[CV 3/5] END criterion=poisson, max_depth=3, n_estimators=60;, score=(train=-49.003, test=-60.751) total time=   0.2s\n",
      "[CV 4/5] END criterion=poisson, max_depth=3, n_estimators=60;, score=(train=-50.427, test=-56.030) total time=   0.2s\n",
      "[CV 5/5] END criterion=poisson, max_depth=3, n_estimators=60;, score=(train=-50.023, test=-58.888) total time=   0.2s\n",
      "[CV 1/5] END criterion=poisson, max_depth=3, n_estimators=70;, score=(train=-49.401, test=-59.682) total time=   0.1s\n",
      "[CV 2/5] END criterion=poisson, max_depth=3, n_estimators=70;, score=(train=-50.969, test=-54.342) total time=   0.1s\n",
      "[CV 3/5] END criterion=poisson, max_depth=3, n_estimators=70;, score=(train=-49.013, test=-60.736) total time=   0.2s\n",
      "[CV 4/5] END criterion=poisson, max_depth=3, n_estimators=70;, score=(train=-50.370, test=-55.993) total time=   0.1s\n",
      "[CV 5/5] END criterion=poisson, max_depth=3, n_estimators=70;, score=(train=-49.810, test=-58.706) total time=   0.1s\n",
      "[CV 1/5] END criterion=poisson, max_depth=3, n_estimators=80;, score=(train=-49.358, test=-59.629) total time=   0.1s\n",
      "[CV 2/5] END criterion=poisson, max_depth=3, n_estimators=80;, score=(train=-50.950, test=-54.260) total time=   0.1s\n",
      "[CV 3/5] END criterion=poisson, max_depth=3, n_estimators=80;, score=(train=-49.098, test=-60.759) total time=   0.1s\n",
      "[CV 4/5] END criterion=poisson, max_depth=3, n_estimators=80;, score=(train=-50.345, test=-56.056) total time=   0.1s\n",
      "[CV 5/5] END criterion=poisson, max_depth=3, n_estimators=80;, score=(train=-49.882, test=-59.037) total time=   0.2s\n",
      "[CV 1/5] END criterion=poisson, max_depth=3, n_estimators=90;, score=(train=-49.393, test=-59.808) total time=   0.1s\n",
      "[CV 2/5] END criterion=poisson, max_depth=3, n_estimators=90;, score=(train=-50.925, test=-54.119) total time=   0.1s\n",
      "[CV 3/5] END criterion=poisson, max_depth=3, n_estimators=90;, score=(train=-49.091, test=-60.579) total time=   0.1s\n",
      "[CV 4/5] END criterion=poisson, max_depth=3, n_estimators=90;, score=(train=-50.367, test=-56.215) total time=   0.1s\n",
      "[CV 5/5] END criterion=poisson, max_depth=3, n_estimators=90;, score=(train=-49.862, test=-59.087) total time=   0.1s\n",
      "[CV 1/5] END criterion=poisson, max_depth=3, n_estimators=100;, score=(train=-49.356, test=-59.963) total time=   0.1s\n",
      "[CV 2/5] END criterion=poisson, max_depth=3, n_estimators=100;, score=(train=-50.892, test=-54.156) total time=   0.1s\n",
      "[CV 3/5] END criterion=poisson, max_depth=3, n_estimators=100;, score=(train=-49.113, test=-60.651) total time=   0.1s\n",
      "[CV 4/5] END criterion=poisson, max_depth=3, n_estimators=100;, score=(train=-50.365, test=-56.451) total time=   0.2s\n",
      "[CV 5/5] END criterion=poisson, max_depth=3, n_estimators=100;, score=(train=-49.878, test=-59.294) total time=   0.1s\n",
      "[CV 1/5] END criterion=poisson, max_depth=4, n_estimators=10;, score=(train=-45.015, test=-62.185) total time=   0.0s\n",
      "[CV 2/5] END criterion=poisson, max_depth=4, n_estimators=10;, score=(train=-46.774, test=-53.358) total time=   0.0s\n",
      "[CV 3/5] END criterion=poisson, max_depth=4, n_estimators=10;, score=(train=-44.957, test=-60.810) total time=   0.0s\n",
      "[CV 4/5] END criterion=poisson, max_depth=4, n_estimators=10;, score=(train=-45.876, test=-56.030) total time=   0.0s\n",
      "[CV 5/5] END criterion=poisson, max_depth=4, n_estimators=10;, score=(train=-46.368, test=-57.323) total time=   0.0s\n",
      "[CV 1/5] END criterion=poisson, max_depth=4, n_estimators=20;, score=(train=-44.647, test=-61.461) total time=   0.0s\n",
      "[CV 2/5] END criterion=poisson, max_depth=4, n_estimators=20;, score=(train=-46.888, test=-52.812) total time=   0.0s\n",
      "[CV 3/5] END criterion=poisson, max_depth=4, n_estimators=20;, score=(train=-44.459, test=-62.148) total time=   0.0s\n",
      "[CV 4/5] END criterion=poisson, max_depth=4, n_estimators=20;, score=(train=-45.959, test=-55.952) total time=   0.0s\n",
      "[CV 5/5] END criterion=poisson, max_depth=4, n_estimators=20;, score=(train=-45.262, test=-58.729) total time=   0.0s\n",
      "[CV 1/5] END criterion=poisson, max_depth=4, n_estimators=30;, score=(train=-44.655, test=-60.361) total time=   0.0s\n",
      "[CV 2/5] END criterion=poisson, max_depth=4, n_estimators=30;, score=(train=-46.407, test=-52.562) total time=   0.0s\n",
      "[CV 3/5] END criterion=poisson, max_depth=4, n_estimators=30;, score=(train=-44.435, test=-62.161) total time=   0.0s\n",
      "[CV 4/5] END criterion=poisson, max_depth=4, n_estimators=30;, score=(train=-45.644, test=-56.365) total time=   0.0s\n",
      "[CV 5/5] END criterion=poisson, max_depth=4, n_estimators=30;, score=(train=-44.633, test=-58.256) total time=   0.0s\n",
      "[CV 1/5] END criterion=poisson, max_depth=4, n_estimators=40;, score=(train=-44.551, test=-60.372) total time=   0.0s\n",
      "[CV 2/5] END criterion=poisson, max_depth=4, n_estimators=40;, score=(train=-46.484, test=-52.546) total time=   0.0s\n",
      "[CV 3/5] END criterion=poisson, max_depth=4, n_estimators=40;, score=(train=-44.307, test=-61.965) total time=   0.0s\n",
      "[CV 4/5] END criterion=poisson, max_depth=4, n_estimators=40;, score=(train=-45.451, test=-56.038) total time=   0.0s\n",
      "[CV 5/5] END criterion=poisson, max_depth=4, n_estimators=40;, score=(train=-44.486, test=-58.818) total time=   0.0s\n",
      "[CV 1/5] END criterion=poisson, max_depth=4, n_estimators=50;, score=(train=-44.309, test=-60.358) total time=   0.0s\n",
      "[CV 2/5] END criterion=poisson, max_depth=4, n_estimators=50;, score=(train=-46.406, test=-52.412) total time=   0.1s\n",
      "[CV 3/5] END criterion=poisson, max_depth=4, n_estimators=50;, score=(train=-44.204, test=-61.764) total time=   0.1s\n",
      "[CV 4/5] END criterion=poisson, max_depth=4, n_estimators=50;, score=(train=-45.579, test=-55.702) total time=   0.1s\n",
      "[CV 5/5] END criterion=poisson, max_depth=4, n_estimators=50;, score=(train=-44.598, test=-59.271) total time=   0.2s\n",
      "[CV 1/5] END criterion=poisson, max_depth=4, n_estimators=60;, score=(train=-44.290, test=-60.307) total time=   0.1s\n",
      "[CV 2/5] END criterion=poisson, max_depth=4, n_estimators=60;, score=(train=-46.366, test=-52.271) total time=   0.2s\n",
      "[CV 3/5] END criterion=poisson, max_depth=4, n_estimators=60;, score=(train=-44.051, test=-61.819) total time=   0.1s\n",
      "[CV 4/5] END criterion=poisson, max_depth=4, n_estimators=60;, score=(train=-45.540, test=-55.982) total time=   0.1s\n",
      "[CV 5/5] END criterion=poisson, max_depth=4, n_estimators=60;, score=(train=-44.547, test=-58.849) total time=   0.1s\n",
      "[CV 1/5] END criterion=poisson, max_depth=4, n_estimators=70;, score=(train=-44.285, test=-60.079) total time=   0.1s\n",
      "[CV 2/5] END criterion=poisson, max_depth=4, n_estimators=70;, score=(train=-46.387, test=-52.575) total time=   0.2s\n",
      "[CV 3/5] END criterion=poisson, max_depth=4, n_estimators=70;, score=(train=-44.114, test=-61.718) total time=   0.3s\n",
      "[CV 4/5] END criterion=poisson, max_depth=4, n_estimators=70;, score=(train=-45.438, test=-56.233) total time=   0.2s\n",
      "[CV 5/5] END criterion=poisson, max_depth=4, n_estimators=70;, score=(train=-44.418, test=-58.562) total time=   0.1s\n",
      "[CV 1/5] END criterion=poisson, max_depth=4, n_estimators=80;, score=(train=-44.254, test=-59.897) total time=   0.1s\n",
      "[CV 2/5] END criterion=poisson, max_depth=4, n_estimators=80;, score=(train=-46.320, test=-52.814) total time=   0.1s\n",
      "[CV 3/5] END criterion=poisson, max_depth=4, n_estimators=80;, score=(train=-44.185, test=-61.750) total time=   0.1s\n",
      "[CV 4/5] END criterion=poisson, max_depth=4, n_estimators=80;, score=(train=-45.470, test=-56.069) total time=   0.1s\n",
      "[CV 5/5] END criterion=poisson, max_depth=4, n_estimators=80;, score=(train=-44.497, test=-58.931) total time=   0.1s\n",
      "[CV 1/5] END criterion=poisson, max_depth=4, n_estimators=90;, score=(train=-44.273, test=-59.929) total time=   0.1s\n",
      "[CV 2/5] END criterion=poisson, max_depth=4, n_estimators=90;, score=(train=-46.364, test=-52.903) total time=   0.2s\n",
      "[CV 3/5] END criterion=poisson, max_depth=4, n_estimators=90;, score=(train=-44.177, test=-61.362) total time=   0.2s\n",
      "[CV 4/5] END criterion=poisson, max_depth=4, n_estimators=90;, score=(train=-45.470, test=-56.139) total time=   0.3s\n",
      "[CV 5/5] END criterion=poisson, max_depth=4, n_estimators=90;, score=(train=-44.435, test=-59.053) total time=   0.2s\n",
      "[CV 1/5] END criterion=poisson, max_depth=4, n_estimators=100;, score=(train=-44.261, test=-60.111) total time=   0.5s\n",
      "[CV 2/5] END criterion=poisson, max_depth=4, n_estimators=100;, score=(train=-46.321, test=-53.023) total time=   0.5s\n",
      "[CV 3/5] END criterion=poisson, max_depth=4, n_estimators=100;, score=(train=-44.141, test=-61.439) total time=   0.3s\n",
      "[CV 4/5] END criterion=poisson, max_depth=4, n_estimators=100;, score=(train=-45.439, test=-56.340) total time=   0.4s\n",
      "[CV 5/5] END criterion=poisson, max_depth=4, n_estimators=100;, score=(train=-44.427, test=-59.240) total time=   0.3s\n",
      "[CV 1/5] END criterion=poisson, max_depth=5, n_estimators=10;, score=(train=-39.687, test=-63.909) total time=   0.0s\n",
      "[CV 2/5] END criterion=poisson, max_depth=5, n_estimators=10;, score=(train=-41.585, test=-54.851) total time=   0.0s\n",
      "[CV 3/5] END criterion=poisson, max_depth=5, n_estimators=10;, score=(train=-40.413, test=-61.567) total time=   0.0s\n",
      "[CV 4/5] END criterion=poisson, max_depth=5, n_estimators=10;, score=(train=-42.043, test=-57.719) total time=   0.0s\n",
      "[CV 5/5] END criterion=poisson, max_depth=5, n_estimators=10;, score=(train=-40.723, test=-57.881) total time=   0.0s\n",
      "[CV 1/5] END criterion=poisson, max_depth=5, n_estimators=20;, score=(train=-39.170, test=-62.256) total time=   0.0s\n",
      "[CV 2/5] END criterion=poisson, max_depth=5, n_estimators=20;, score=(train=-41.601, test=-52.738) total time=   0.0s\n",
      "[CV 3/5] END criterion=poisson, max_depth=5, n_estimators=20;, score=(train=-39.708, test=-62.475) total time=   0.0s\n",
      "[CV 4/5] END criterion=poisson, max_depth=5, n_estimators=20;, score=(train=-41.575, test=-57.119) total time=   0.0s\n",
      "[CV 5/5] END criterion=poisson, max_depth=5, n_estimators=20;, score=(train=-39.612, test=-59.085) total time=   0.1s\n",
      "[CV 1/5] END criterion=poisson, max_depth=5, n_estimators=30;, score=(train=-39.255, test=-61.350) total time=   0.1s\n",
      "[CV 2/5] END criterion=poisson, max_depth=5, n_estimators=30;, score=(train=-41.299, test=-52.678) total time=   0.0s\n",
      "[CV 3/5] END criterion=poisson, max_depth=5, n_estimators=30;, score=(train=-39.587, test=-62.040) total time=   0.0s\n",
      "[CV 4/5] END criterion=poisson, max_depth=5, n_estimators=30;, score=(train=-40.908, test=-57.530) total time=   0.0s\n",
      "[CV 5/5] END criterion=poisson, max_depth=5, n_estimators=30;, score=(train=-38.811, test=-59.143) total time=   0.1s\n",
      "[CV 1/5] END criterion=poisson, max_depth=5, n_estimators=40;, score=(train=-38.901, test=-61.554) total time=   0.0s\n",
      "[CV 2/5] END criterion=poisson, max_depth=5, n_estimators=40;, score=(train=-41.326, test=-52.540) total time=   0.0s\n",
      "[CV 3/5] END criterion=poisson, max_depth=5, n_estimators=40;, score=(train=-39.596, test=-61.786) total time=   0.0s\n",
      "[CV 4/5] END criterion=poisson, max_depth=5, n_estimators=40;, score=(train=-40.530, test=-56.751) total time=   0.0s\n",
      "[CV 5/5] END criterion=poisson, max_depth=5, n_estimators=40;, score=(train=-38.615, test=-59.360) total time=   0.1s\n",
      "[CV 1/5] END criterion=poisson, max_depth=5, n_estimators=50;, score=(train=-38.690, test=-61.201) total time=   0.1s\n",
      "[CV 2/5] END criterion=poisson, max_depth=5, n_estimators=50;, score=(train=-41.038, test=-52.710) total time=   0.1s\n",
      "[CV 3/5] END criterion=poisson, max_depth=5, n_estimators=50;, score=(train=-39.300, test=-61.820) total time=   0.3s\n",
      "[CV 4/5] END criterion=poisson, max_depth=5, n_estimators=50;, score=(train=-40.611, test=-56.257) total time=   0.2s\n",
      "[CV 5/5] END criterion=poisson, max_depth=5, n_estimators=50;, score=(train=-38.690, test=-59.728) total time=   0.2s\n",
      "[CV 1/5] END criterion=poisson, max_depth=5, n_estimators=60;, score=(train=-38.667, test=-60.942) total time=   0.2s\n",
      "[CV 2/5] END criterion=poisson, max_depth=5, n_estimators=60;, score=(train=-41.008, test=-52.541) total time=   0.4s\n",
      "[CV 3/5] END criterion=poisson, max_depth=5, n_estimators=60;, score=(train=-39.085, test=-62.216) total time=   0.4s\n",
      "[CV 4/5] END criterion=poisson, max_depth=5, n_estimators=60;, score=(train=-40.362, test=-56.553) total time=   0.1s\n",
      "[CV 5/5] END criterion=poisson, max_depth=5, n_estimators=60;, score=(train=-38.747, test=-59.227) total time=   0.1s\n",
      "[CV 1/5] END criterion=poisson, max_depth=5, n_estimators=70;, score=(train=-38.724, test=-60.601) total time=   0.2s\n",
      "[CV 2/5] END criterion=poisson, max_depth=5, n_estimators=70;, score=(train=-41.140, test=-52.764) total time=   0.3s\n",
      "[CV 3/5] END criterion=poisson, max_depth=5, n_estimators=70;, score=(train=-39.195, test=-62.067) total time=   0.2s\n",
      "[CV 4/5] END criterion=poisson, max_depth=5, n_estimators=70;, score=(train=-40.355, test=-56.577) total time=   0.2s\n",
      "[CV 5/5] END criterion=poisson, max_depth=5, n_estimators=70;, score=(train=-38.805, test=-59.031) total time=   0.1s\n",
      "[CV 1/5] END criterion=poisson, max_depth=5, n_estimators=80;, score=(train=-38.822, test=-60.585) total time=   0.1s\n",
      "[CV 2/5] END criterion=poisson, max_depth=5, n_estimators=80;, score=(train=-41.127, test=-52.879) total time=   0.1s\n",
      "[CV 3/5] END criterion=poisson, max_depth=5, n_estimators=80;, score=(train=-39.234, test=-61.984) total time=   0.2s\n",
      "[CV 4/5] END criterion=poisson, max_depth=5, n_estimators=80;, score=(train=-40.397, test=-56.544) total time=   0.4s\n",
      "[CV 5/5] END criterion=poisson, max_depth=5, n_estimators=80;, score=(train=-38.917, test=-59.203) total time=   0.3s\n",
      "[CV 1/5] END criterion=poisson, max_depth=5, n_estimators=90;, score=(train=-38.802, test=-60.803) total time=   0.4s\n",
      "[CV 2/5] END criterion=poisson, max_depth=5, n_estimators=90;, score=(train=-41.213, test=-52.766) total time=   0.2s\n",
      "[CV 3/5] END criterion=poisson, max_depth=5, n_estimators=90;, score=(train=-39.184, test=-61.416) total time=   0.2s\n",
      "[CV 4/5] END criterion=poisson, max_depth=5, n_estimators=90;, score=(train=-40.314, test=-56.782) total time=   0.5s\n",
      "[CV 5/5] END criterion=poisson, max_depth=5, n_estimators=90;, score=(train=-38.818, test=-59.302) total time=   0.3s\n",
      "[CV 1/5] END criterion=poisson, max_depth=5, n_estimators=100;, score=(train=-38.844, test=-60.836) total time=   0.3s\n",
      "[CV 2/5] END criterion=poisson, max_depth=5, n_estimators=100;, score=(train=-41.215, test=-52.872) total time=   0.2s\n",
      "[CV 3/5] END criterion=poisson, max_depth=5, n_estimators=100;, score=(train=-39.128, test=-61.623) total time=   0.3s\n",
      "[CV 4/5] END criterion=poisson, max_depth=5, n_estimators=100;, score=(train=-40.310, test=-56.824) total time=   0.2s\n",
      "[CV 5/5] END criterion=poisson, max_depth=5, n_estimators=100;, score=(train=-38.796, test=-59.361) total time=   0.2s\n",
      "[CV 1/5] END criterion=poisson, max_depth=6, n_estimators=10;, score=(train=-35.170, test=-63.276) total time=   0.0s\n",
      "[CV 2/5] END criterion=poisson, max_depth=6, n_estimators=10;, score=(train=-36.680, test=-54.578) total time=   0.0s\n",
      "[CV 3/5] END criterion=poisson, max_depth=6, n_estimators=10;, score=(train=-35.967, test=-61.383) total time=   0.0s\n",
      "[CV 4/5] END criterion=poisson, max_depth=6, n_estimators=10;, score=(train=-37.021, test=-58.027) total time=   0.0s\n",
      "[CV 5/5] END criterion=poisson, max_depth=6, n_estimators=10;, score=(train=-36.147, test=-58.766) total time=   0.0s\n",
      "[CV 1/5] END criterion=poisson, max_depth=6, n_estimators=20;, score=(train=-34.256, test=-62.396) total time=   0.0s\n",
      "[CV 2/5] END criterion=poisson, max_depth=6, n_estimators=20;, score=(train=-36.541, test=-51.369) total time=   0.0s\n",
      "[CV 3/5] END criterion=poisson, max_depth=6, n_estimators=20;, score=(train=-34.714, test=-62.471) total time=   0.0s\n",
      "[CV 4/5] END criterion=poisson, max_depth=6, n_estimators=20;, score=(train=-36.487, test=-57.177) total time=   0.0s\n",
      "[CV 5/5] END criterion=poisson, max_depth=6, n_estimators=20;, score=(train=-34.621, test=-59.563) total time=   0.0s\n",
      "[CV 1/5] END criterion=poisson, max_depth=6, n_estimators=30;, score=(train=-34.174, test=-61.997) total time=   0.0s\n",
      "[CV 2/5] END criterion=poisson, max_depth=6, n_estimators=30;, score=(train=-36.390, test=-51.363) total time=   0.0s\n",
      "[CV 3/5] END criterion=poisson, max_depth=6, n_estimators=30;, score=(train=-34.500, test=-62.601) total time=   0.0s\n",
      "[CV 4/5] END criterion=poisson, max_depth=6, n_estimators=30;, score=(train=-35.753, test=-58.079) total time=   0.0s\n",
      "[CV 5/5] END criterion=poisson, max_depth=6, n_estimators=30;, score=(train=-33.724, test=-59.602) total time=   0.0s\n",
      "[CV 1/5] END criterion=poisson, max_depth=6, n_estimators=40;, score=(train=-33.672, test=-62.018) total time=   0.1s\n",
      "[CV 2/5] END criterion=poisson, max_depth=6, n_estimators=40;, score=(train=-36.474, test=-51.314) total time=   0.1s\n",
      "[CV 3/5] END criterion=poisson, max_depth=6, n_estimators=40;, score=(train=-34.702, test=-61.975) total time=   0.1s\n",
      "[CV 4/5] END criterion=poisson, max_depth=6, n_estimators=40;, score=(train=-35.490, test=-57.338) total time=   0.2s\n",
      "[CV 5/5] END criterion=poisson, max_depth=6, n_estimators=40;, score=(train=-33.534, test=-59.720) total time=   0.0s\n",
      "[CV 1/5] END criterion=poisson, max_depth=6, n_estimators=50;, score=(train=-33.592, test=-61.415) total time=   0.1s\n",
      "[CV 2/5] END criterion=poisson, max_depth=6, n_estimators=50;, score=(train=-36.128, test=-51.785) total time=   0.0s\n",
      "[CV 3/5] END criterion=poisson, max_depth=6, n_estimators=50;, score=(train=-34.428, test=-61.673) total time=   0.2s\n",
      "[CV 4/5] END criterion=poisson, max_depth=6, n_estimators=50;, score=(train=-35.453, test=-57.023) total time=   0.1s\n",
      "[CV 5/5] END criterion=poisson, max_depth=6, n_estimators=50;, score=(train=-33.512, test=-60.122) total time=   0.3s\n",
      "[CV 1/5] END criterion=poisson, max_depth=6, n_estimators=60;, score=(train=-33.597, test=-60.958) total time=   0.1s\n",
      "[CV 2/5] END criterion=poisson, max_depth=6, n_estimators=60;, score=(train=-36.102, test=-51.775) total time=   0.1s\n",
      "[CV 3/5] END criterion=poisson, max_depth=6, n_estimators=60;, score=(train=-34.195, test=-62.208) total time=   0.1s\n",
      "[CV 4/5] END criterion=poisson, max_depth=6, n_estimators=60;, score=(train=-35.218, test=-57.305) total time=   0.1s\n",
      "[CV 5/5] END criterion=poisson, max_depth=6, n_estimators=60;, score=(train=-33.429, test=-59.736) total time=   0.1s\n",
      "[CV 1/5] END criterion=poisson, max_depth=6, n_estimators=70;, score=(train=-33.628, test=-60.481) total time=   0.1s\n",
      "[CV 2/5] END criterion=poisson, max_depth=6, n_estimators=70;, score=(train=-36.321, test=-52.082) total time=   0.2s\n",
      "[CV 3/5] END criterion=poisson, max_depth=6, n_estimators=70;, score=(train=-34.348, test=-62.149) total time=   0.1s\n",
      "[CV 4/5] END criterion=poisson, max_depth=6, n_estimators=70;, score=(train=-35.235, test=-57.115) total time=   0.1s\n",
      "[CV 5/5] END criterion=poisson, max_depth=6, n_estimators=70;, score=(train=-33.538, test=-59.652) total time=   0.1s\n",
      "[CV 1/5] END criterion=poisson, max_depth=6, n_estimators=80;, score=(train=-33.744, test=-60.759) total time=   0.2s\n",
      "[CV 2/5] END criterion=poisson, max_depth=6, n_estimators=80;, score=(train=-36.306, test=-52.296) total time=   0.2s\n",
      "[CV 3/5] END criterion=poisson, max_depth=6, n_estimators=80;, score=(train=-34.352, test=-61.914) total time=   0.3s\n",
      "[CV 4/5] END criterion=poisson, max_depth=6, n_estimators=80;, score=(train=-35.198, test=-56.773) total time=   0.2s\n",
      "[CV 5/5] END criterion=poisson, max_depth=6, n_estimators=80;, score=(train=-33.675, test=-59.573) total time=   0.2s\n",
      "[CV 1/5] END criterion=poisson, max_depth=6, n_estimators=90;, score=(train=-33.669, test=-60.797) total time=   0.3s\n",
      "[CV 2/5] END criterion=poisson, max_depth=6, n_estimators=90;, score=(train=-36.340, test=-52.234) total time=   0.2s\n",
      "[CV 3/5] END criterion=poisson, max_depth=6, n_estimators=90;, score=(train=-34.305, test=-61.286) total time=   0.2s\n",
      "[CV 4/5] END criterion=poisson, max_depth=6, n_estimators=90;, score=(train=-35.163, test=-56.994) total time=   0.2s\n",
      "[CV 5/5] END criterion=poisson, max_depth=6, n_estimators=90;, score=(train=-33.611, test=-59.661) total time=   0.4s\n",
      "[CV 1/5] END criterion=poisson, max_depth=6, n_estimators=100;, score=(train=-33.782, test=-60.697) total time=   0.5s\n",
      "[CV 2/5] END criterion=poisson, max_depth=6, n_estimators=100;, score=(train=-36.321, test=-52.223) total time=   0.8s\n",
      "[CV 3/5] END criterion=poisson, max_depth=6, n_estimators=100;, score=(train=-34.211, test=-61.441) total time=   0.4s\n",
      "[CV 4/5] END criterion=poisson, max_depth=6, n_estimators=100;, score=(train=-35.175, test=-57.029) total time=   0.7s\n",
      "[CV 5/5] END criterion=poisson, max_depth=6, n_estimators=100;, score=(train=-33.536, test=-59.625) total time=   0.7s\n",
      "[CV 1/5] END criterion=poisson, max_depth=7, n_estimators=10;, score=(train=-30.333, test=-64.038) total time=   0.0s\n",
      "[CV 2/5] END criterion=poisson, max_depth=7, n_estimators=10;, score=(train=-32.373, test=-53.623) total time=   0.0s\n",
      "[CV 3/5] END criterion=poisson, max_depth=7, n_estimators=10;, score=(train=-32.053, test=-62.116) total time=   0.0s\n",
      "[CV 4/5] END criterion=poisson, max_depth=7, n_estimators=10;, score=(train=-33.089, test=-57.226) total time=   0.0s\n",
      "[CV 5/5] END criterion=poisson, max_depth=7, n_estimators=10;, score=(train=-32.328, test=-58.703) total time=   0.0s\n",
      "[CV 1/5] END criterion=poisson, max_depth=7, n_estimators=20;, score=(train=-29.840, test=-62.333) total time=   0.0s\n",
      "[CV 2/5] END criterion=poisson, max_depth=7, n_estimators=20;, score=(train=-32.236, test=-51.136) total time=   0.0s\n",
      "[CV 3/5] END criterion=poisson, max_depth=7, n_estimators=20;, score=(train=-30.502, test=-63.500) total time=   0.0s\n",
      "[CV 4/5] END criterion=poisson, max_depth=7, n_estimators=20;, score=(train=-32.306, test=-57.886) total time=   0.0s\n",
      "[CV 5/5] END criterion=poisson, max_depth=7, n_estimators=20;, score=(train=-30.542, test=-59.216) total time=   0.0s\n",
      "[CV 1/5] END criterion=poisson, max_depth=7, n_estimators=30;, score=(train=-29.684, test=-62.344) total time=   0.0s\n",
      "[CV 2/5] END criterion=poisson, max_depth=7, n_estimators=30;, score=(train=-31.796, test=-51.253) total time=   0.1s\n",
      "[CV 3/5] END criterion=poisson, max_depth=7, n_estimators=30;, score=(train=-30.313, test=-63.259) total time=   0.1s\n",
      "[CV 4/5] END criterion=poisson, max_depth=7, n_estimators=30;, score=(train=-31.310, test=-58.103) total time=   0.0s\n",
      "[CV 5/5] END criterion=poisson, max_depth=7, n_estimators=30;, score=(train=-29.375, test=-59.474) total time=   0.0s\n",
      "[CV 1/5] END criterion=poisson, max_depth=7, n_estimators=40;, score=(train=-29.288, test=-62.568) total time=   0.2s\n",
      "[CV 2/5] END criterion=poisson, max_depth=7, n_estimators=40;, score=(train=-31.951, test=-51.039) total time=   0.3s\n",
      "[CV 3/5] END criterion=poisson, max_depth=7, n_estimators=40;, score=(train=-30.372, test=-62.622) total time=   0.2s\n",
      "[CV 4/5] END criterion=poisson, max_depth=7, n_estimators=40;, score=(train=-30.929, test=-57.177) total time=   0.2s\n",
      "[CV 5/5] END criterion=poisson, max_depth=7, n_estimators=40;, score=(train=-29.147, test=-59.623) total time=   0.1s\n",
      "[CV 1/5] END criterion=poisson, max_depth=7, n_estimators=50;, score=(train=-29.157, test=-61.931) total time=   0.2s\n",
      "[CV 2/5] END criterion=poisson, max_depth=7, n_estimators=50;, score=(train=-31.770, test=-51.527) total time=   0.2s\n",
      "[CV 3/5] END criterion=poisson, max_depth=7, n_estimators=50;, score=(train=-30.138, test=-62.482) total time=   0.2s\n",
      "[CV 4/5] END criterion=poisson, max_depth=7, n_estimators=50;, score=(train=-30.880, test=-56.956) total time=   0.2s\n",
      "[CV 5/5] END criterion=poisson, max_depth=7, n_estimators=50;, score=(train=-29.006, test=-60.020) total time=   0.4s\n",
      "[CV 1/5] END criterion=poisson, max_depth=7, n_estimators=60;, score=(train=-29.088, test=-61.491) total time=   0.2s\n",
      "[CV 2/5] END criterion=poisson, max_depth=7, n_estimators=60;, score=(train=-31.771, test=-51.559) total time=   0.4s\n",
      "[CV 3/5] END criterion=poisson, max_depth=7, n_estimators=60;, score=(train=-29.875, test=-62.840) total time=   0.3s\n",
      "[CV 4/5] END criterion=poisson, max_depth=7, n_estimators=60;, score=(train=-30.567, test=-57.674) total time=   0.3s\n",
      "[CV 5/5] END criterion=poisson, max_depth=7, n_estimators=60;, score=(train=-28.976, test=-60.004) total time=   0.4s\n",
      "[CV 1/5] END criterion=poisson, max_depth=7, n_estimators=70;, score=(train=-29.068, test=-60.945) total time=   0.4s\n",
      "[CV 2/5] END criterion=poisson, max_depth=7, n_estimators=70;, score=(train=-32.075, test=-51.689) total time=   0.2s\n",
      "[CV 3/5] END criterion=poisson, max_depth=7, n_estimators=70;, score=(train=-30.035, test=-62.363) total time=   0.2s\n",
      "[CV 4/5] END criterion=poisson, max_depth=7, n_estimators=70;, score=(train=-30.632, test=-57.408) total time=   0.2s\n",
      "[CV 5/5] END criterion=poisson, max_depth=7, n_estimators=70;, score=(train=-29.085, test=-59.853) total time=   0.2s\n",
      "[CV 1/5] END criterion=poisson, max_depth=7, n_estimators=80;, score=(train=-29.275, test=-61.094) total time=   0.2s\n",
      "[CV 2/5] END criterion=poisson, max_depth=7, n_estimators=80;, score=(train=-32.087, test=-51.869) total time=   0.2s\n",
      "[CV 3/5] END criterion=poisson, max_depth=7, n_estimators=80;, score=(train=-29.971, test=-62.460) total time=   0.2s\n",
      "[CV 4/5] END criterion=poisson, max_depth=7, n_estimators=80;, score=(train=-30.577, test=-57.060) total time=   0.2s\n",
      "[CV 5/5] END criterion=poisson, max_depth=7, n_estimators=80;, score=(train=-29.263, test=-59.753) total time=   0.2s\n",
      "[CV 1/5] END criterion=poisson, max_depth=7, n_estimators=90;, score=(train=-29.306, test=-60.733) total time=   0.3s\n",
      "[CV 2/5] END criterion=poisson, max_depth=7, n_estimators=90;, score=(train=-32.124, test=-51.738) total time=   0.3s\n",
      "[CV 3/5] END criterion=poisson, max_depth=7, n_estimators=90;, score=(train=-29.957, test=-61.824) total time=   0.2s\n",
      "[CV 4/5] END criterion=poisson, max_depth=7, n_estimators=90;, score=(train=-30.568, test=-57.205) total time=   0.3s\n",
      "[CV 5/5] END criterion=poisson, max_depth=7, n_estimators=90;, score=(train=-29.196, test=-59.886) total time=   0.2s\n",
      "[CV 1/5] END criterion=poisson, max_depth=7, n_estimators=100;, score=(train=-29.515, test=-60.624) total time=   0.2s\n",
      "[CV 2/5] END criterion=poisson, max_depth=7, n_estimators=100;, score=(train=-32.116, test=-51.804) total time=   0.7s\n",
      "[CV 3/5] END criterion=poisson, max_depth=7, n_estimators=100;, score=(train=-29.892, test=-62.009) total time=   0.6s\n",
      "[CV 4/5] END criterion=poisson, max_depth=7, n_estimators=100;, score=(train=-30.556, test=-57.160) total time=   0.6s\n",
      "[CV 5/5] END criterion=poisson, max_depth=7, n_estimators=100;, score=(train=-29.102, test=-59.850) total time=   0.5s\n",
      "[CV 1/5] END criterion=poisson, max_depth=8, n_estimators=10;, score=(train=-27.786, test=-65.292) total time=   0.0s\n",
      "[CV 2/5] END criterion=poisson, max_depth=8, n_estimators=10;, score=(train=-29.201, test=-55.234) total time=   0.1s\n",
      "[CV 3/5] END criterion=poisson, max_depth=8, n_estimators=10;, score=(train=-28.916, test=-62.024) total time=   0.0s\n",
      "[CV 4/5] END criterion=poisson, max_depth=8, n_estimators=10;, score=(train=-29.798, test=-58.613) total time=   0.0s\n",
      "[CV 5/5] END criterion=poisson, max_depth=8, n_estimators=10;, score=(train=-29.377, test=-59.487) total time=   0.0s\n",
      "[CV 1/5] END criterion=poisson, max_depth=8, n_estimators=20;, score=(train=-27.169, test=-63.264) total time=   0.0s\n",
      "[CV 2/5] END criterion=poisson, max_depth=8, n_estimators=20;, score=(train=-28.614, test=-51.715) total time=   0.0s\n",
      "[CV 3/5] END criterion=poisson, max_depth=8, n_estimators=20;, score=(train=-27.279, test=-63.369) total time=   0.0s\n",
      "[CV 4/5] END criterion=poisson, max_depth=8, n_estimators=20;, score=(train=-28.742, test=-57.225) total time=   0.0s\n",
      "[CV 5/5] END criterion=poisson, max_depth=8, n_estimators=20;, score=(train=-27.737, test=-60.143) total time=   0.0s\n",
      "[CV 1/5] END criterion=poisson, max_depth=8, n_estimators=30;, score=(train=-26.685, test=-63.122) total time=   0.1s\n",
      "[CV 2/5] END criterion=poisson, max_depth=8, n_estimators=30;, score=(train=-28.313, test=-51.837) total time=   0.0s\n",
      "[CV 3/5] END criterion=poisson, max_depth=8, n_estimators=30;, score=(train=-27.008, test=-62.884) total time=   0.0s\n",
      "[CV 4/5] END criterion=poisson, max_depth=8, n_estimators=30;, score=(train=-27.803, test=-57.566) total time=   0.1s\n",
      "[CV 5/5] END criterion=poisson, max_depth=8, n_estimators=30;, score=(train=-26.557, test=-60.036) total time=   0.2s\n",
      "[CV 1/5] END criterion=poisson, max_depth=8, n_estimators=40;, score=(train=-26.104, test=-62.801) total time=   0.2s\n",
      "[CV 2/5] END criterion=poisson, max_depth=8, n_estimators=40;, score=(train=-28.418, test=-51.646) total time=   0.4s\n",
      "[CV 3/5] END criterion=poisson, max_depth=8, n_estimators=40;, score=(train=-27.058, test=-62.701) total time=   0.2s\n",
      "[CV 4/5] END criterion=poisson, max_depth=8, n_estimators=40;, score=(train=-27.529, test=-56.697) total time=   0.2s\n",
      "[CV 5/5] END criterion=poisson, max_depth=8, n_estimators=40;, score=(train=-26.220, test=-59.773) total time=   0.2s\n",
      "[CV 1/5] END criterion=poisson, max_depth=8, n_estimators=50;, score=(train=-26.024, test=-62.284) total time=   0.2s\n",
      "[CV 2/5] END criterion=poisson, max_depth=8, n_estimators=50;, score=(train=-28.206, test=-51.687) total time=   0.1s\n",
      "[CV 3/5] END criterion=poisson, max_depth=8, n_estimators=50;, score=(train=-26.895, test=-62.637) total time=   0.1s\n",
      "[CV 4/5] END criterion=poisson, max_depth=8, n_estimators=50;, score=(train=-27.587, test=-56.305) total time=   0.1s\n",
      "[CV 5/5] END criterion=poisson, max_depth=8, n_estimators=50;, score=(train=-26.087, test=-60.512) total time=   0.2s\n",
      "[CV 1/5] END criterion=poisson, max_depth=8, n_estimators=60;, score=(train=-26.055, test=-61.729) total time=   0.2s\n",
      "[CV 2/5] END criterion=poisson, max_depth=8, n_estimators=60;, score=(train=-28.301, test=-51.820) total time=   0.2s\n",
      "[CV 3/5] END criterion=poisson, max_depth=8, n_estimators=60;, score=(train=-26.612, test=-63.023) total time=   0.7s\n",
      "[CV 4/5] END criterion=poisson, max_depth=8, n_estimators=60;, score=(train=-27.253, test=-57.398) total time=   0.4s\n",
      "[CV 5/5] END criterion=poisson, max_depth=8, n_estimators=60;, score=(train=-26.075, test=-60.205) total time=   0.2s\n",
      "[CV 1/5] END criterion=poisson, max_depth=8, n_estimators=70;, score=(train=-26.030, test=-61.405) total time=   0.3s\n",
      "[CV 2/5] END criterion=poisson, max_depth=8, n_estimators=70;, score=(train=-28.501, test=-51.911) total time=   0.2s\n",
      "[CV 3/5] END criterion=poisson, max_depth=8, n_estimators=70;, score=(train=-26.817, test=-62.371) total time=   0.2s\n",
      "[CV 4/5] END criterion=poisson, max_depth=8, n_estimators=70;, score=(train=-27.334, test=-57.315) total time=   0.2s\n",
      "[CV 5/5] END criterion=poisson, max_depth=8, n_estimators=70;, score=(train=-26.151, test=-60.025) total time=   0.2s\n",
      "[CV 1/5] END criterion=poisson, max_depth=8, n_estimators=80;, score=(train=-26.062, test=-61.594) total time=   0.2s\n",
      "[CV 2/5] END criterion=poisson, max_depth=8, n_estimators=80;, score=(train=-28.537, test=-52.161) total time=   0.2s\n",
      "[CV 3/5] END criterion=poisson, max_depth=8, n_estimators=80;, score=(train=-26.764, test=-62.477) total time=   0.2s\n",
      "[CV 4/5] END criterion=poisson, max_depth=8, n_estimators=80;, score=(train=-27.239, test=-56.968) total time=   0.2s\n",
      "[CV 5/5] END criterion=poisson, max_depth=8, n_estimators=80;, score=(train=-26.192, test=-59.820) total time=   0.2s\n",
      "[CV 1/5] END criterion=poisson, max_depth=8, n_estimators=90;, score=(train=-26.102, test=-61.281) total time=   0.3s\n",
      "[CV 2/5] END criterion=poisson, max_depth=8, n_estimators=90;, score=(train=-28.571, test=-51.956) total time=   0.2s\n",
      "[CV 3/5] END criterion=poisson, max_depth=8, n_estimators=90;, score=(train=-26.778, test=-61.909) total time=   0.2s\n",
      "[CV 4/5] END criterion=poisson, max_depth=8, n_estimators=90;, score=(train=-27.216, test=-57.118) total time=   0.3s\n",
      "[CV 5/5] END criterion=poisson, max_depth=8, n_estimators=90;, score=(train=-26.148, test=-60.079) total time=   0.2s\n",
      "[CV 1/5] END criterion=poisson, max_depth=8, n_estimators=100;, score=(train=-26.301, test=-61.227) total time=   0.4s\n",
      "[CV 2/5] END criterion=poisson, max_depth=8, n_estimators=100;, score=(train=-28.597, test=-52.019) total time=   0.5s\n",
      "[CV 3/5] END criterion=poisson, max_depth=8, n_estimators=100;, score=(train=-26.701, test=-62.007) total time=   0.5s\n",
      "[CV 4/5] END criterion=poisson, max_depth=8, n_estimators=100;, score=(train=-27.161, test=-57.077) total time=   0.6s\n",
      "[CV 5/5] END criterion=poisson, max_depth=8, n_estimators=100;, score=(train=-26.026, test=-60.096) total time=   0.5s\n",
      "[CV 1/5] END criterion=poisson, max_depth=9, n_estimators=10;, score=(train=-25.706, test=-65.136) total time=   0.0s\n",
      "[CV 2/5] END criterion=poisson, max_depth=9, n_estimators=10;, score=(train=-27.164, test=-55.538) total time=   0.0s\n",
      "[CV 3/5] END criterion=poisson, max_depth=9, n_estimators=10;, score=(train=-26.369, test=-62.952) total time=   0.0s\n",
      "[CV 4/5] END criterion=poisson, max_depth=9, n_estimators=10;, score=(train=-27.931, test=-60.045) total time=   0.1s\n",
      "[CV 5/5] END criterion=poisson, max_depth=9, n_estimators=10;, score=(train=-27.062, test=-60.470) total time=   0.0s\n",
      "[CV 1/5] END criterion=poisson, max_depth=9, n_estimators=20;, score=(train=-25.018, test=-62.554) total time=   0.0s\n",
      "[CV 2/5] END criterion=poisson, max_depth=9, n_estimators=20;, score=(train=-26.487, test=-51.451) total time=   0.0s\n",
      "[CV 3/5] END criterion=poisson, max_depth=9, n_estimators=20;, score=(train=-24.833, test=-64.254) total time=   0.0s\n",
      "[CV 4/5] END criterion=poisson, max_depth=9, n_estimators=20;, score=(train=-26.790, test=-58.710) total time=   0.0s\n",
      "[CV 5/5] END criterion=poisson, max_depth=9, n_estimators=20;, score=(train=-25.595, test=-60.652) total time=   0.0s\n",
      "[CV 1/5] END criterion=poisson, max_depth=9, n_estimators=30;, score=(train=-24.521, test=-62.561) total time=   0.0s\n",
      "[CV 2/5] END criterion=poisson, max_depth=9, n_estimators=30;, score=(train=-26.070, test=-51.686) total time=   0.1s\n",
      "[CV 3/5] END criterion=poisson, max_depth=9, n_estimators=30;, score=(train=-24.555, test=-63.703) total time=   0.1s\n",
      "[CV 4/5] END criterion=poisson, max_depth=9, n_estimators=30;, score=(train=-26.019, test=-58.768) total time=   0.0s\n",
      "[CV 5/5] END criterion=poisson, max_depth=9, n_estimators=30;, score=(train=-24.618, test=-60.091) total time=   0.0s\n",
      "[CV 1/5] END criterion=poisson, max_depth=9, n_estimators=40;, score=(train=-24.115, test=-62.529) total time=   0.0s\n",
      "[CV 2/5] END criterion=poisson, max_depth=9, n_estimators=40;, score=(train=-26.113, test=-51.433) total time=   0.1s\n",
      "[CV 3/5] END criterion=poisson, max_depth=9, n_estimators=40;, score=(train=-24.607, test=-62.861) total time=   0.0s\n",
      "[CV 4/5] END criterion=poisson, max_depth=9, n_estimators=40;, score=(train=-25.658, test=-57.743) total time=   0.0s\n",
      "[CV 5/5] END criterion=poisson, max_depth=9, n_estimators=40;, score=(train=-24.210, test=-59.629) total time=   0.0s\n",
      "[CV 1/5] END criterion=poisson, max_depth=9, n_estimators=50;, score=(train=-23.994, test=-61.881) total time=   0.1s\n",
      "[CV 2/5] END criterion=poisson, max_depth=9, n_estimators=50;, score=(train=-25.917, test=-51.984) total time=   0.1s\n",
      "[CV 3/5] END criterion=poisson, max_depth=9, n_estimators=50;, score=(train=-24.409, test=-62.589) total time=   0.2s\n",
      "[CV 4/5] END criterion=poisson, max_depth=9, n_estimators=50;, score=(train=-25.522, test=-56.883) total time=   0.1s\n",
      "[CV 5/5] END criterion=poisson, max_depth=9, n_estimators=50;, score=(train=-24.043, test=-60.517) total time=   0.1s\n",
      "[CV 1/5] END criterion=poisson, max_depth=9, n_estimators=60;, score=(train=-23.987, test=-61.301) total time=   0.2s\n",
      "[CV 2/5] END criterion=poisson, max_depth=9, n_estimators=60;, score=(train=-26.056, test=-51.884) total time=   0.1s\n",
      "[CV 3/5] END criterion=poisson, max_depth=9, n_estimators=60;, score=(train=-24.086, test=-62.776) total time=   0.2s\n",
      "[CV 4/5] END criterion=poisson, max_depth=9, n_estimators=60;, score=(train=-25.201, test=-57.696) total time=   0.3s\n",
      "[CV 5/5] END criterion=poisson, max_depth=9, n_estimators=60;, score=(train=-23.929, test=-60.224) total time=   0.4s\n",
      "[CV 1/5] END criterion=poisson, max_depth=9, n_estimators=70;, score=(train=-23.929, test=-60.508) total time=   0.4s\n",
      "[CV 2/5] END criterion=poisson, max_depth=9, n_estimators=70;, score=(train=-26.148, test=-51.991) total time=   0.7s\n",
      "[CV 3/5] END criterion=poisson, max_depth=9, n_estimators=70;, score=(train=-24.232, test=-62.399) total time=   0.7s\n",
      "[CV 4/5] END criterion=poisson, max_depth=9, n_estimators=70;, score=(train=-25.250, test=-57.820) total time=   0.6s\n",
      "[CV 5/5] END criterion=poisson, max_depth=9, n_estimators=70;, score=(train=-24.001, test=-60.124) total time=   0.3s\n",
      "[CV 1/5] END criterion=poisson, max_depth=9, n_estimators=80;, score=(train=-23.998, test=-60.832) total time=   0.2s\n",
      "[CV 2/5] END criterion=poisson, max_depth=9, n_estimators=80;, score=(train=-26.144, test=-51.949) total time=   0.2s\n",
      "[CV 3/5] END criterion=poisson, max_depth=9, n_estimators=80;, score=(train=-24.164, test=-62.390) total time=   0.3s\n",
      "[CV 4/5] END criterion=poisson, max_depth=9, n_estimators=80;, score=(train=-25.157, test=-57.583) total time=   0.5s\n",
      "[CV 5/5] END criterion=poisson, max_depth=9, n_estimators=80;, score=(train=-24.024, test=-60.004) total time=   0.2s\n",
      "[CV 1/5] END criterion=poisson, max_depth=9, n_estimators=90;, score=(train=-24.117, test=-60.526) total time=   0.4s\n",
      "[CV 2/5] END criterion=poisson, max_depth=9, n_estimators=90;, score=(train=-26.193, test=-51.621) total time=   0.5s\n",
      "[CV 3/5] END criterion=poisson, max_depth=9, n_estimators=90;, score=(train=-24.184, test=-61.763) total time=   0.6s\n",
      "[CV 4/5] END criterion=poisson, max_depth=9, n_estimators=90;, score=(train=-25.083, test=-57.734) total time=   0.6s\n",
      "[CV 5/5] END criterion=poisson, max_depth=9, n_estimators=90;, score=(train=-23.928, test=-60.141) total time=   0.7s\n",
      "[CV 1/5] END criterion=poisson, max_depth=9, n_estimators=100;, score=(train=-24.308, test=-60.643) total time=   0.4s\n",
      "[CV 2/5] END criterion=poisson, max_depth=9, n_estimators=100;, score=(train=-26.165, test=-51.562) total time=   0.6s\n",
      "[CV 3/5] END criterion=poisson, max_depth=9, n_estimators=100;, score=(train=-24.193, test=-61.863) total time=   0.4s\n",
      "[CV 4/5] END criterion=poisson, max_depth=9, n_estimators=100;, score=(train=-25.055, test=-57.655) total time=   0.6s\n",
      "[CV 5/5] END criterion=poisson, max_depth=9, n_estimators=100;, score=(train=-23.875, test=-60.200) total time=   0.9s\n",
      "[CV 1/5] END criterion=absolute_error, max_depth=2, n_estimators=10;, score=(train=-54.467, test=-60.881) total time=   0.0s\n",
      "[CV 2/5] END criterion=absolute_error, max_depth=2, n_estimators=10;, score=(train=-55.219, test=-54.768) total time=   0.1s\n",
      "[CV 3/5] END criterion=absolute_error, max_depth=2, n_estimators=10;, score=(train=-53.700, test=-59.736) total time=   0.0s\n",
      "[CV 4/5] END criterion=absolute_error, max_depth=2, n_estimators=10;, score=(train=-54.844, test=-56.943) total time=   0.1s\n",
      "[CV 5/5] END criterion=absolute_error, max_depth=2, n_estimators=10;, score=(train=-54.561, test=-58.776) total time=   0.0s\n",
      "[CV 1/5] END criterion=absolute_error, max_depth=2, n_estimators=20;, score=(train=-54.975, test=-61.232) total time=   0.0s\n",
      "[CV 2/5] END criterion=absolute_error, max_depth=2, n_estimators=20;, score=(train=-55.101, test=-53.422) total time=   0.0s\n",
      "[CV 3/5] END criterion=absolute_error, max_depth=2, n_estimators=20;, score=(train=-53.570, test=-60.316) total time=   0.1s\n",
      "[CV 4/5] END criterion=absolute_error, max_depth=2, n_estimators=20;, score=(train=-54.254, test=-56.520) total time=   0.1s\n",
      "[CV 5/5] END criterion=absolute_error, max_depth=2, n_estimators=20;, score=(train=-53.996, test=-59.088) total time=   0.2s\n",
      "[CV 1/5] END criterion=absolute_error, max_depth=2, n_estimators=30;, score=(train=-54.613, test=-60.544) total time=   0.1s\n",
      "[CV 2/5] END criterion=absolute_error, max_depth=2, n_estimators=30;, score=(train=-55.285, test=-53.614) total time=   0.4s\n",
      "[CV 3/5] END criterion=absolute_error, max_depth=2, n_estimators=30;, score=(train=-53.498, test=-60.705) total time=   0.3s\n",
      "[CV 4/5] END criterion=absolute_error, max_depth=2, n_estimators=30;, score=(train=-53.960, test=-56.847) total time=   0.1s\n",
      "[CV 5/5] END criterion=absolute_error, max_depth=2, n_estimators=30;, score=(train=-53.949, test=-59.103) total time=   0.1s\n",
      "[CV 1/5] END criterion=absolute_error, max_depth=2, n_estimators=40;, score=(train=-54.075, test=-60.728) total time=   0.2s\n",
      "[CV 2/5] END criterion=absolute_error, max_depth=2, n_estimators=40;, score=(train=-55.414, test=-53.609) total time=   0.1s\n",
      "[CV 3/5] END criterion=absolute_error, max_depth=2, n_estimators=40;, score=(train=-53.622, test=-60.590) total time=   0.2s\n",
      "[CV 4/5] END criterion=absolute_error, max_depth=2, n_estimators=40;, score=(train=-53.941, test=-56.815) total time=   0.1s\n",
      "[CV 5/5] END criterion=absolute_error, max_depth=2, n_estimators=40;, score=(train=-53.749, test=-59.302) total time=   0.2s\n",
      "[CV 1/5] END criterion=absolute_error, max_depth=2, n_estimators=50;, score=(train=-54.046, test=-60.839) total time=   0.3s\n",
      "[CV 2/5] END criterion=absolute_error, max_depth=2, n_estimators=50;, score=(train=-54.968, test=-53.681) total time=   0.4s\n",
      "[CV 3/5] END criterion=absolute_error, max_depth=2, n_estimators=50;, score=(train=-53.477, test=-60.265) total time=   0.3s\n",
      "[CV 4/5] END criterion=absolute_error, max_depth=2, n_estimators=50;, score=(train=-53.977, test=-56.669) total time=   0.3s\n",
      "[CV 5/5] END criterion=absolute_error, max_depth=2, n_estimators=50;, score=(train=-53.724, test=-59.178) total time=   0.2s\n",
      "[CV 1/5] END criterion=absolute_error, max_depth=2, n_estimators=60;, score=(train=-54.171, test=-61.074) total time=   0.2s\n",
      "[CV 2/5] END criterion=absolute_error, max_depth=2, n_estimators=60;, score=(train=-54.848, test=-53.840) total time=   0.2s\n",
      "[CV 3/5] END criterion=absolute_error, max_depth=2, n_estimators=60;, score=(train=-53.586, test=-60.249) total time=   0.2s\n",
      "[CV 4/5] END criterion=absolute_error, max_depth=2, n_estimators=60;, score=(train=-53.891, test=-57.076) total time=   0.6s\n",
      "[CV 5/5] END criterion=absolute_error, max_depth=2, n_estimators=60;, score=(train=-53.657, test=-58.955) total time=   0.7s\n",
      "[CV 1/5] END criterion=absolute_error, max_depth=2, n_estimators=70;, score=(train=-54.120, test=-61.012) total time=   0.8s\n",
      "[CV 2/5] END criterion=absolute_error, max_depth=2, n_estimators=70;, score=(train=-54.954, test=-54.051) total time=   0.8s\n",
      "[CV 3/5] END criterion=absolute_error, max_depth=2, n_estimators=70;, score=(train=-53.552, test=-60.478) total time=   0.4s\n",
      "[CV 4/5] END criterion=absolute_error, max_depth=2, n_estimators=70;, score=(train=-53.839, test=-57.208) total time=   0.4s\n",
      "[CV 5/5] END criterion=absolute_error, max_depth=2, n_estimators=70;, score=(train=-53.547, test=-58.897) total time=   0.2s\n",
      "[CV 1/5] END criterion=absolute_error, max_depth=2, n_estimators=80;, score=(train=-54.134, test=-61.013) total time=   0.2s\n",
      "[CV 2/5] END criterion=absolute_error, max_depth=2, n_estimators=80;, score=(train=-54.978, test=-54.517) total time=   0.3s\n",
      "[CV 3/5] END criterion=absolute_error, max_depth=2, n_estimators=80;, score=(train=-53.545, test=-60.706) total time=   0.4s\n",
      "[CV 4/5] END criterion=absolute_error, max_depth=2, n_estimators=80;, score=(train=-53.849, test=-57.161) total time=   0.3s\n",
      "[CV 5/5] END criterion=absolute_error, max_depth=2, n_estimators=80;, score=(train=-53.658, test=-59.173) total time=   0.3s\n",
      "[CV 1/5] END criterion=absolute_error, max_depth=2, n_estimators=90;, score=(train=-54.206, test=-60.985) total time=   0.3s\n",
      "[CV 2/5] END criterion=absolute_error, max_depth=2, n_estimators=90;, score=(train=-55.048, test=-54.744) total time=   0.4s\n",
      "[CV 3/5] END criterion=absolute_error, max_depth=2, n_estimators=90;, score=(train=-53.603, test=-60.815) total time=   0.3s\n",
      "[CV 4/5] END criterion=absolute_error, max_depth=2, n_estimators=90;, score=(train=-53.896, test=-57.115) total time=   0.3s\n",
      "[CV 5/5] END criterion=absolute_error, max_depth=2, n_estimators=90;, score=(train=-53.625, test=-59.241) total time=   0.3s\n",
      "[CV 1/5] END criterion=absolute_error, max_depth=2, n_estimators=100;, score=(train=-54.214, test=-60.991) total time=   0.4s\n",
      "[CV 2/5] END criterion=absolute_error, max_depth=2, n_estimators=100;, score=(train=-55.047, test=-54.804) total time=   0.6s\n",
      "[CV 3/5] END criterion=absolute_error, max_depth=2, n_estimators=100;, score=(train=-53.725, test=-60.838) total time=   1.0s\n",
      "[CV 4/5] END criterion=absolute_error, max_depth=2, n_estimators=100;, score=(train=-53.915, test=-57.157) total time=   0.9s\n",
      "[CV 5/5] END criterion=absolute_error, max_depth=2, n_estimators=100;, score=(train=-53.691, test=-59.419) total time=   0.9s\n",
      "[CV 1/5] END criterion=absolute_error, max_depth=3, n_estimators=10;, score=(train=-51.156, test=-59.119) total time=   0.0s\n",
      "[CV 2/5] END criterion=absolute_error, max_depth=3, n_estimators=10;, score=(train=-50.649, test=-55.862) total time=   0.0s\n",
      "[CV 3/5] END criterion=absolute_error, max_depth=3, n_estimators=10;, score=(train=-49.439, test=-58.942) total time=   0.2s\n",
      "[CV 4/5] END criterion=absolute_error, max_depth=3, n_estimators=10;, score=(train=-50.586, test=-55.633) total time=   0.1s\n",
      "[CV 5/5] END criterion=absolute_error, max_depth=3, n_estimators=10;, score=(train=-50.269, test=-60.991) total time=   0.1s\n",
      "[CV 1/5] END criterion=absolute_error, max_depth=3, n_estimators=20;, score=(train=-50.844, test=-58.987) total time=   0.2s\n",
      "[CV 2/5] END criterion=absolute_error, max_depth=3, n_estimators=20;, score=(train=-50.769, test=-53.508) total time=   0.2s\n",
      "[CV 3/5] END criterion=absolute_error, max_depth=3, n_estimators=20;, score=(train=-48.833, test=-60.419) total time=   0.1s\n",
      "[CV 4/5] END criterion=absolute_error, max_depth=3, n_estimators=20;, score=(train=-50.610, test=-54.785) total time=   0.0s\n",
      "[CV 5/5] END criterion=absolute_error, max_depth=3, n_estimators=20;, score=(train=-49.887, test=-60.441) total time=   0.0s\n",
      "[CV 1/5] END criterion=absolute_error, max_depth=3, n_estimators=30;, score=(train=-50.698, test=-59.343) total time=   0.1s\n",
      "[CV 2/5] END criterion=absolute_error, max_depth=3, n_estimators=30;, score=(train=-50.741, test=-53.886) total time=   0.1s\n",
      "[CV 3/5] END criterion=absolute_error, max_depth=3, n_estimators=30;, score=(train=-49.048, test=-60.523) total time=   0.1s\n",
      "[CV 4/5] END criterion=absolute_error, max_depth=3, n_estimators=30;, score=(train=-50.173, test=-54.837) total time=   0.1s\n",
      "[CV 5/5] END criterion=absolute_error, max_depth=3, n_estimators=30;, score=(train=-49.807, test=-60.022) total time=   0.1s\n",
      "[CV 1/5] END criterion=absolute_error, max_depth=3, n_estimators=40;, score=(train=-50.053, test=-59.294) total time=   0.1s\n",
      "[CV 2/5] END criterion=absolute_error, max_depth=3, n_estimators=40;, score=(train=-50.863, test=-53.708) total time=   0.1s\n",
      "[CV 3/5] END criterion=absolute_error, max_depth=3, n_estimators=40;, score=(train=-49.222, test=-60.214) total time=   0.1s\n",
      "[CV 4/5] END criterion=absolute_error, max_depth=3, n_estimators=40;, score=(train=-50.191, test=-54.939) total time=   0.1s\n",
      "[CV 5/5] END criterion=absolute_error, max_depth=3, n_estimators=40;, score=(train=-49.736, test=-60.091) total time=   0.1s\n",
      "[CV 1/5] END criterion=absolute_error, max_depth=3, n_estimators=50;, score=(train=-49.821, test=-59.583) total time=   0.2s\n",
      "[CV 2/5] END criterion=absolute_error, max_depth=3, n_estimators=50;, score=(train=-50.600, test=-53.426) total time=   0.2s\n",
      "[CV 3/5] END criterion=absolute_error, max_depth=3, n_estimators=50;, score=(train=-49.115, test=-60.298) total time=   0.2s\n",
      "[CV 4/5] END criterion=absolute_error, max_depth=3, n_estimators=50;, score=(train=-50.232, test=-54.893) total time=   0.2s\n",
      "[CV 5/5] END criterion=absolute_error, max_depth=3, n_estimators=50;, score=(train=-49.726, test=-59.522) total time=   0.2s\n",
      "[CV 1/5] END criterion=absolute_error, max_depth=3, n_estimators=60;, score=(train=-49.909, test=-59.813) total time=   0.2s\n",
      "[CV 2/5] END criterion=absolute_error, max_depth=3, n_estimators=60;, score=(train=-50.575, test=-53.377) total time=   0.4s\n",
      "[CV 3/5] END criterion=absolute_error, max_depth=3, n_estimators=60;, score=(train=-49.059, test=-60.408) total time=   0.2s\n",
      "[CV 4/5] END criterion=absolute_error, max_depth=3, n_estimators=60;, score=(train=-50.086, test=-55.365) total time=   0.2s\n",
      "[CV 5/5] END criterion=absolute_error, max_depth=3, n_estimators=60;, score=(train=-49.771, test=-59.044) total time=   0.2s\n",
      "[CV 1/5] END criterion=absolute_error, max_depth=3, n_estimators=70;, score=(train=-49.992, test=-59.707) total time=   0.3s\n",
      "[CV 2/5] END criterion=absolute_error, max_depth=3, n_estimators=70;, score=(train=-50.624, test=-53.353) total time=   0.3s\n",
      "[CV 3/5] END criterion=absolute_error, max_depth=3, n_estimators=70;, score=(train=-49.152, test=-60.426) total time=   0.3s\n",
      "[CV 4/5] END criterion=absolute_error, max_depth=3, n_estimators=70;, score=(train=-50.129, test=-55.435) total time=   0.3s\n",
      "[CV 5/5] END criterion=absolute_error, max_depth=3, n_estimators=70;, score=(train=-49.661, test=-59.049) total time=   0.3s\n",
      "[CV 1/5] END criterion=absolute_error, max_depth=3, n_estimators=80;, score=(train=-49.960, test=-59.736) total time=   0.3s\n",
      "[CV 2/5] END criterion=absolute_error, max_depth=3, n_estimators=80;, score=(train=-50.637, test=-53.663) total time=   0.3s\n",
      "[CV 3/5] END criterion=absolute_error, max_depth=3, n_estimators=80;, score=(train=-49.177, test=-60.651) total time=   0.4s\n",
      "[CV 4/5] END criterion=absolute_error, max_depth=3, n_estimators=80;, score=(train=-50.134, test=-55.511) total time=   0.3s\n",
      "[CV 5/5] END criterion=absolute_error, max_depth=3, n_estimators=80;, score=(train=-49.722, test=-59.203) total time=   0.3s\n",
      "[CV 1/5] END criterion=absolute_error, max_depth=3, n_estimators=90;, score=(train=-50.033, test=-59.797) total time=   0.4s\n",
      "[CV 2/5] END criterion=absolute_error, max_depth=3, n_estimators=90;, score=(train=-50.736, test=-53.626) total time=   0.4s\n",
      "[CV 3/5] END criterion=absolute_error, max_depth=3, n_estimators=90;, score=(train=-49.120, test=-60.609) total time=   0.4s\n",
      "[CV 4/5] END criterion=absolute_error, max_depth=3, n_estimators=90;, score=(train=-50.126, test=-55.690) total time=   0.8s\n",
      "[CV 5/5] END criterion=absolute_error, max_depth=3, n_estimators=90;, score=(train=-49.663, test=-59.239) total time=   0.8s\n",
      "[CV 1/5] END criterion=absolute_error, max_depth=3, n_estimators=100;, score=(train=-50.010, test=-59.952) total time=   0.6s\n",
      "[CV 2/5] END criterion=absolute_error, max_depth=3, n_estimators=100;, score=(train=-50.768, test=-53.573) total time=   0.6s\n",
      "[CV 3/5] END criterion=absolute_error, max_depth=3, n_estimators=100;, score=(train=-49.178, test=-60.600) total time=   0.8s\n",
      "[CV 4/5] END criterion=absolute_error, max_depth=3, n_estimators=100;, score=(train=-50.058, test=-55.833) total time=   1.1s\n",
      "[CV 5/5] END criterion=absolute_error, max_depth=3, n_estimators=100;, score=(train=-49.744, test=-59.311) total time=   0.5s\n",
      "[CV 1/5] END criterion=absolute_error, max_depth=4, n_estimators=10;, score=(train=-48.017, test=-59.613) total time=   0.0s\n",
      "[CV 2/5] END criterion=absolute_error, max_depth=4, n_estimators=10;, score=(train=-46.541, test=-53.881) total time=   0.0s\n",
      "[CV 3/5] END criterion=absolute_error, max_depth=4, n_estimators=10;, score=(train=-45.456, test=-60.146) total time=   0.0s\n",
      "[CV 4/5] END criterion=absolute_error, max_depth=4, n_estimators=10;, score=(train=-46.777, test=-57.741) total time=   0.0s\n",
      "[CV 5/5] END criterion=absolute_error, max_depth=4, n_estimators=10;, score=(train=-46.181, test=-61.141) total time=   0.0s\n",
      "[CV 1/5] END criterion=absolute_error, max_depth=4, n_estimators=20;, score=(train=-47.040, test=-58.835) total time=   0.0s\n",
      "[CV 2/5] END criterion=absolute_error, max_depth=4, n_estimators=20;, score=(train=-46.710, test=-52.028) total time=   0.0s\n",
      "[CV 3/5] END criterion=absolute_error, max_depth=4, n_estimators=20;, score=(train=-44.555, test=-61.014) total time=   0.2s\n",
      "[CV 4/5] END criterion=absolute_error, max_depth=4, n_estimators=20;, score=(train=-46.609, test=-55.138) total time=   0.1s\n",
      "[CV 5/5] END criterion=absolute_error, max_depth=4, n_estimators=20;, score=(train=-45.502, test=-59.986) total time=   0.0s\n",
      "[CV 1/5] END criterion=absolute_error, max_depth=4, n_estimators=30;, score=(train=-46.287, test=-59.107) total time=   0.2s\n",
      "[CV 2/5] END criterion=absolute_error, max_depth=4, n_estimators=30;, score=(train=-46.526, test=-52.087) total time=   0.4s\n",
      "[CV 3/5] END criterion=absolute_error, max_depth=4, n_estimators=30;, score=(train=-44.644, test=-60.079) total time=   0.2s\n",
      "[CV 4/5] END criterion=absolute_error, max_depth=4, n_estimators=30;, score=(train=-46.308, test=-55.135) total time=   0.4s\n",
      "[CV 5/5] END criterion=absolute_error, max_depth=4, n_estimators=30;, score=(train=-45.218, test=-60.548) total time=   0.3s\n",
      "[CV 1/5] END criterion=absolute_error, max_depth=4, n_estimators=40;, score=(train=-45.848, test=-59.135) total time=   0.2s\n",
      "[CV 2/5] END criterion=absolute_error, max_depth=4, n_estimators=40;, score=(train=-46.487, test=-51.866) total time=   0.2s\n",
      "[CV 3/5] END criterion=absolute_error, max_depth=4, n_estimators=40;, score=(train=-44.606, test=-59.788) total time=   0.2s\n",
      "[CV 4/5] END criterion=absolute_error, max_depth=4, n_estimators=40;, score=(train=-46.287, test=-55.521) total time=   0.2s\n",
      "[CV 5/5] END criterion=absolute_error, max_depth=4, n_estimators=40;, score=(train=-45.254, test=-60.581) total time=   0.4s\n",
      "[CV 1/5] END criterion=absolute_error, max_depth=4, n_estimators=50;, score=(train=-45.410, test=-59.322) total time=   0.5s\n",
      "[CV 2/5] END criterion=absolute_error, max_depth=4, n_estimators=50;, score=(train=-46.175, test=-51.812) total time=   0.7s\n",
      "[CV 3/5] END criterion=absolute_error, max_depth=4, n_estimators=50;, score=(train=-44.410, test=-59.839) total time=   0.4s\n",
      "[CV 4/5] END criterion=absolute_error, max_depth=4, n_estimators=50;, score=(train=-46.299, test=-55.159) total time=   0.6s\n",
      "[CV 5/5] END criterion=absolute_error, max_depth=4, n_estimators=50;, score=(train=-45.108, test=-60.130) total time=   0.3s\n",
      "[CV 1/5] END criterion=absolute_error, max_depth=4, n_estimators=60;, score=(train=-45.452, test=-59.547) total time=   0.3s\n",
      "[CV 2/5] END criterion=absolute_error, max_depth=4, n_estimators=60;, score=(train=-46.151, test=-51.961) total time=   0.3s\n",
      "[CV 3/5] END criterion=absolute_error, max_depth=4, n_estimators=60;, score=(train=-44.436, test=-60.114) total time=   0.3s\n",
      "[CV 4/5] END criterion=absolute_error, max_depth=4, n_estimators=60;, score=(train=-46.220, test=-55.684) total time=   0.5s\n",
      "[CV 5/5] END criterion=absolute_error, max_depth=4, n_estimators=60;, score=(train=-45.246, test=-59.794) total time=   0.4s\n",
      "[CV 1/5] END criterion=absolute_error, max_depth=4, n_estimators=70;, score=(train=-45.531, test=-59.338) total time=   0.4s\n",
      "[CV 2/5] END criterion=absolute_error, max_depth=4, n_estimators=70;, score=(train=-46.185, test=-52.029) total time=   0.4s\n",
      "[CV 3/5] END criterion=absolute_error, max_depth=4, n_estimators=70;, score=(train=-44.507, test=-60.337) total time=   0.4s\n",
      "[CV 4/5] END criterion=absolute_error, max_depth=4, n_estimators=70;, score=(train=-46.120, test=-55.779) total time=   0.5s\n",
      "[CV 5/5] END criterion=absolute_error, max_depth=4, n_estimators=70;, score=(train=-45.100, test=-59.588) total time=   0.8s\n",
      "[CV 1/5] END criterion=absolute_error, max_depth=4, n_estimators=80;, score=(train=-45.446, test=-59.326) total time=   0.5s\n",
      "[CV 2/5] END criterion=absolute_error, max_depth=4, n_estimators=80;, score=(train=-46.174, test=-52.366) total time=   1.0s\n",
      "[CV 3/5] END criterion=absolute_error, max_depth=4, n_estimators=80;, score=(train=-44.677, test=-60.484) total time=   0.6s\n",
      "[CV 4/5] END criterion=absolute_error, max_depth=4, n_estimators=80;, score=(train=-46.093, test=-55.770) total time=   0.7s\n",
      "[CV 5/5] END criterion=absolute_error, max_depth=4, n_estimators=80;, score=(train=-45.193, test=-59.953) total time=   0.5s\n",
      "[CV 1/5] END criterion=absolute_error, max_depth=4, n_estimators=90;, score=(train=-45.495, test=-59.345) total time=   0.9s\n",
      "[CV 2/5] END criterion=absolute_error, max_depth=4, n_estimators=90;, score=(train=-46.205, test=-52.375) total time=   0.9s\n",
      "[CV 3/5] END criterion=absolute_error, max_depth=4, n_estimators=90;, score=(train=-44.683, test=-60.628) total time=   0.9s\n",
      "[CV 4/5] END criterion=absolute_error, max_depth=4, n_estimators=90;, score=(train=-46.024, test=-55.987) total time=   1.2s\n",
      "[CV 5/5] END criterion=absolute_error, max_depth=4, n_estimators=90;, score=(train=-45.184, test=-59.943) total time=   0.8s\n",
      "[CV 1/5] END criterion=absolute_error, max_depth=4, n_estimators=100;, score=(train=-45.577, test=-59.316) total time=   0.6s\n",
      "[CV 2/5] END criterion=absolute_error, max_depth=4, n_estimators=100;, score=(train=-46.278, test=-52.644) total time=   0.7s\n",
      "[CV 3/5] END criterion=absolute_error, max_depth=4, n_estimators=100;, score=(train=-44.646, test=-60.695) total time=   0.9s\n",
      "[CV 4/5] END criterion=absolute_error, max_depth=4, n_estimators=100;, score=(train=-45.994, test=-56.249) total time=   1.0s\n",
      "[CV 5/5] END criterion=absolute_error, max_depth=4, n_estimators=100;, score=(train=-45.322, test=-59.854) total time=   1.2s\n",
      "[CV 1/5] END criterion=absolute_error, max_depth=5, n_estimators=10;, score=(train=-43.560, test=-59.744) total time=   0.0s\n",
      "[CV 2/5] END criterion=absolute_error, max_depth=5, n_estimators=10;, score=(train=-42.937, test=-54.845) total time=   0.0s\n",
      "[CV 3/5] END criterion=absolute_error, max_depth=5, n_estimators=10;, score=(train=-40.889, test=-60.373) total time=   0.0s\n",
      "[CV 4/5] END criterion=absolute_error, max_depth=5, n_estimators=10;, score=(train=-43.729, test=-57.212) total time=   0.0s\n",
      "[CV 5/5] END criterion=absolute_error, max_depth=5, n_estimators=10;, score=(train=-41.699, test=-60.537) total time=   0.0s\n",
      "[CV 1/5] END criterion=absolute_error, max_depth=5, n_estimators=20;, score=(train=-42.437, test=-59.408) total time=   0.1s\n",
      "[CV 2/5] END criterion=absolute_error, max_depth=5, n_estimators=20;, score=(train=-42.463, test=-52.250) total time=   0.0s\n",
      "[CV 3/5] END criterion=absolute_error, max_depth=5, n_estimators=20;, score=(train=-39.858, test=-61.053) total time=   0.1s\n",
      "[CV 4/5] END criterion=absolute_error, max_depth=5, n_estimators=20;, score=(train=-43.187, test=-54.724) total time=   0.1s\n",
      "[CV 5/5] END criterion=absolute_error, max_depth=5, n_estimators=20;, score=(train=-41.102, test=-59.484) total time=   0.1s\n",
      "[CV 1/5] END criterion=absolute_error, max_depth=5, n_estimators=30;, score=(train=-41.765, test=-59.655) total time=   0.2s\n",
      "[CV 2/5] END criterion=absolute_error, max_depth=5, n_estimators=30;, score=(train=-42.058, test=-51.756) total time=   0.2s\n",
      "[CV 3/5] END criterion=absolute_error, max_depth=5, n_estimators=30;, score=(train=-40.158, test=-60.637) total time=   1.1s\n",
      "[CV 4/5] END criterion=absolute_error, max_depth=5, n_estimators=30;, score=(train=-42.236, test=-54.683) total time=   1.0s\n",
      "[CV 5/5] END criterion=absolute_error, max_depth=5, n_estimators=30;, score=(train=-40.618, test=-59.321) total time=   0.8s\n",
      "[CV 1/5] END criterion=absolute_error, max_depth=5, n_estimators=40;, score=(train=-41.195, test=-59.717) total time=   0.7s\n",
      "[CV 2/5] END criterion=absolute_error, max_depth=5, n_estimators=40;, score=(train=-41.829, test=-51.750) total time=   0.2s\n",
      "[CV 3/5] END criterion=absolute_error, max_depth=5, n_estimators=40;, score=(train=-40.114, test=-60.361) total time=   0.5s\n",
      "[CV 4/5] END criterion=absolute_error, max_depth=5, n_estimators=40;, score=(train=-42.102, test=-55.210) total time=   0.2s\n",
      "[CV 5/5] END criterion=absolute_error, max_depth=5, n_estimators=40;, score=(train=-40.599, test=-59.706) total time=   0.3s\n",
      "[CV 1/5] END criterion=absolute_error, max_depth=5, n_estimators=50;, score=(train=-40.792, test=-60.215) total time=   0.3s\n",
      "[CV 2/5] END criterion=absolute_error, max_depth=5, n_estimators=50;, score=(train=-41.746, test=-51.843) total time=   0.6s\n",
      "[CV 3/5] END criterion=absolute_error, max_depth=5, n_estimators=50;, score=(train=-39.704, test=-60.400) total time=   0.7s\n",
      "[CV 4/5] END criterion=absolute_error, max_depth=5, n_estimators=50;, score=(train=-42.178, test=-54.996) total time=   1.2s\n",
      "[CV 5/5] END criterion=absolute_error, max_depth=5, n_estimators=50;, score=(train=-40.460, test=-59.414) total time=   0.7s\n",
      "[CV 1/5] END criterion=absolute_error, max_depth=5, n_estimators=60;, score=(train=-40.638, test=-60.278) total time=   0.9s\n",
      "[CV 2/5] END criterion=absolute_error, max_depth=5, n_estimators=60;, score=(train=-41.670, test=-52.179) total time=   0.6s\n",
      "[CV 3/5] END criterion=absolute_error, max_depth=5, n_estimators=60;, score=(train=-39.559, test=-60.727) total time=   0.4s\n",
      "[CV 4/5] END criterion=absolute_error, max_depth=5, n_estimators=60;, score=(train=-42.012, test=-55.607) total time=   0.5s\n",
      "[CV 5/5] END criterion=absolute_error, max_depth=5, n_estimators=60;, score=(train=-40.515, test=-58.830) total time=   0.5s\n",
      "[CV 1/5] END criterion=absolute_error, max_depth=5, n_estimators=70;, score=(train=-40.777, test=-60.126) total time=   0.5s\n",
      "[CV 2/5] END criterion=absolute_error, max_depth=5, n_estimators=70;, score=(train=-41.725, test=-52.210) total time=   0.5s\n",
      "[CV 3/5] END criterion=absolute_error, max_depth=5, n_estimators=70;, score=(train=-39.825, test=-60.826) total time=   0.7s\n",
      "[CV 4/5] END criterion=absolute_error, max_depth=5, n_estimators=70;, score=(train=-41.951, test=-55.609) total time=   0.5s\n",
      "[CV 5/5] END criterion=absolute_error, max_depth=5, n_estimators=70;, score=(train=-40.456, test=-58.768) total time=   0.6s\n",
      "[CV 1/5] END criterion=absolute_error, max_depth=5, n_estimators=80;, score=(train=-40.825, test=-59.864) total time=   0.5s\n",
      "[CV 2/5] END criterion=absolute_error, max_depth=5, n_estimators=80;, score=(train=-41.658, test=-52.466) total time=   0.5s\n",
      "[CV 3/5] END criterion=absolute_error, max_depth=5, n_estimators=80;, score=(train=-40.056, test=-60.981) total time=   0.5s\n",
      "[CV 4/5] END criterion=absolute_error, max_depth=5, n_estimators=80;, score=(train=-41.865, test=-55.376) total time=   0.6s\n",
      "[CV 5/5] END criterion=absolute_error, max_depth=5, n_estimators=80;, score=(train=-40.533, test=-59.200) total time=   0.5s\n",
      "[CV 1/5] END criterion=absolute_error, max_depth=5, n_estimators=90;, score=(train=-40.912, test=-60.067) total time=   0.6s\n",
      "[CV 2/5] END criterion=absolute_error, max_depth=5, n_estimators=90;, score=(train=-41.683, test=-52.600) total time=   0.6s\n",
      "[CV 3/5] END criterion=absolute_error, max_depth=5, n_estimators=90;, score=(train=-40.100, test=-61.156) total time=   0.6s\n",
      "[CV 4/5] END criterion=absolute_error, max_depth=5, n_estimators=90;, score=(train=-41.859, test=-55.591) total time=   0.6s\n",
      "[CV 5/5] END criterion=absolute_error, max_depth=5, n_estimators=90;, score=(train=-40.469, test=-59.210) total time=   0.6s\n",
      "[CV 1/5] END criterion=absolute_error, max_depth=5, n_estimators=100;, score=(train=-40.945, test=-59.809) total time=   0.7s\n",
      "[CV 2/5] END criterion=absolute_error, max_depth=5, n_estimators=100;, score=(train=-41.805, test=-52.640) total time=   0.7s\n",
      "[CV 3/5] END criterion=absolute_error, max_depth=5, n_estimators=100;, score=(train=-40.182, test=-61.070) total time=   0.7s\n",
      "[CV 4/5] END criterion=absolute_error, max_depth=5, n_estimators=100;, score=(train=-41.843, test=-55.630) total time=   0.6s\n",
      "[CV 5/5] END criterion=absolute_error, max_depth=5, n_estimators=100;, score=(train=-40.701, test=-59.144) total time=   0.6s\n",
      "[CV 1/5] END criterion=absolute_error, max_depth=6, n_estimators=10;, score=(train=-39.858, test=-59.719) total time=   0.0s\n",
      "[CV 2/5] END criterion=absolute_error, max_depth=6, n_estimators=10;, score=(train=-39.168, test=-51.941) total time=   0.0s\n",
      "[CV 3/5] END criterion=absolute_error, max_depth=6, n_estimators=10;, score=(train=-36.744, test=-60.105) total time=   0.0s\n",
      "[CV 4/5] END criterion=absolute_error, max_depth=6, n_estimators=10;, score=(train=-39.086, test=-56.507) total time=   0.0s\n",
      "[CV 5/5] END criterion=absolute_error, max_depth=6, n_estimators=10;, score=(train=-37.782, test=-60.210) total time=   0.0s\n",
      "[CV 1/5] END criterion=absolute_error, max_depth=6, n_estimators=20;, score=(train=-38.241, test=-58.680) total time=   0.1s\n",
      "[CV 2/5] END criterion=absolute_error, max_depth=6, n_estimators=20;, score=(train=-38.819, test=-51.559) total time=   0.1s\n",
      "[CV 3/5] END criterion=absolute_error, max_depth=6, n_estimators=20;, score=(train=-35.856, test=-60.197) total time=   0.1s\n",
      "[CV 4/5] END criterion=absolute_error, max_depth=6, n_estimators=20;, score=(train=-38.610, test=-54.061) total time=   0.1s\n",
      "[CV 5/5] END criterion=absolute_error, max_depth=6, n_estimators=20;, score=(train=-36.747, test=-60.705) total time=   0.1s\n",
      "[CV 1/5] END criterion=absolute_error, max_depth=6, n_estimators=30;, score=(train=-37.500, test=-59.123) total time=   0.2s\n",
      "[CV 2/5] END criterion=absolute_error, max_depth=6, n_estimators=30;, score=(train=-37.954, test=-51.272) total time=   0.2s\n",
      "[CV 3/5] END criterion=absolute_error, max_depth=6, n_estimators=30;, score=(train=-35.723, test=-61.335) total time=   0.2s\n",
      "[CV 4/5] END criterion=absolute_error, max_depth=6, n_estimators=30;, score=(train=-37.832, test=-54.774) total time=   0.2s\n",
      "[CV 5/5] END criterion=absolute_error, max_depth=6, n_estimators=30;, score=(train=-36.198, test=-60.421) total time=   0.2s\n",
      "[CV 1/5] END criterion=absolute_error, max_depth=6, n_estimators=40;, score=(train=-37.018, test=-59.603) total time=   0.3s\n",
      "[CV 2/5] END criterion=absolute_error, max_depth=6, n_estimators=40;, score=(train=-37.592, test=-51.186) total time=   0.3s\n",
      "[CV 3/5] END criterion=absolute_error, max_depth=6, n_estimators=40;, score=(train=-35.579, test=-61.073) total time=   0.2s\n",
      "[CV 4/5] END criterion=absolute_error, max_depth=6, n_estimators=40;, score=(train=-37.671, test=-55.222) total time=   0.2s\n",
      "[CV 5/5] END criterion=absolute_error, max_depth=6, n_estimators=40;, score=(train=-36.005, test=-60.862) total time=   0.2s\n",
      "[CV 1/5] END criterion=absolute_error, max_depth=6, n_estimators=50;, score=(train=-36.569, test=-60.040) total time=   0.3s\n",
      "[CV 2/5] END criterion=absolute_error, max_depth=6, n_estimators=50;, score=(train=-37.367, test=-51.692) total time=   0.4s\n",
      "[CV 3/5] END criterion=absolute_error, max_depth=6, n_estimators=50;, score=(train=-35.350, test=-60.766) total time=   0.3s\n",
      "[CV 4/5] END criterion=absolute_error, max_depth=6, n_estimators=50;, score=(train=-37.782, test=-55.154) total time=   0.3s\n",
      "[CV 5/5] END criterion=absolute_error, max_depth=6, n_estimators=50;, score=(train=-35.957, test=-60.833) total time=   0.4s\n",
      "[CV 1/5] END criterion=absolute_error, max_depth=6, n_estimators=60;, score=(train=-36.441, test=-60.260) total time=   0.4s\n",
      "[CV 2/5] END criterion=absolute_error, max_depth=6, n_estimators=60;, score=(train=-37.406, test=-51.802) total time=   0.5s\n",
      "[CV 3/5] END criterion=absolute_error, max_depth=6, n_estimators=60;, score=(train=-35.219, test=-60.575) total time=   0.9s\n",
      "[CV 4/5] END criterion=absolute_error, max_depth=6, n_estimators=60;, score=(train=-37.671, test=-55.629) total time=   0.5s\n",
      "[CV 5/5] END criterion=absolute_error, max_depth=6, n_estimators=60;, score=(train=-35.944, test=-60.248) total time=   0.5s\n",
      "[CV 1/5] END criterion=absolute_error, max_depth=6, n_estimators=70;, score=(train=-36.451, test=-60.057) total time=   0.6s\n",
      "[CV 2/5] END criterion=absolute_error, max_depth=6, n_estimators=70;, score=(train=-37.429, test=-51.849) total time=   1.0s\n",
      "[CV 3/5] END criterion=absolute_error, max_depth=6, n_estimators=70;, score=(train=-35.474, test=-60.552) total time=   0.7s\n",
      "[CV 4/5] END criterion=absolute_error, max_depth=6, n_estimators=70;, score=(train=-37.597, test=-55.682) total time=   0.7s\n",
      "[CV 5/5] END criterion=absolute_error, max_depth=6, n_estimators=70;, score=(train=-35.931, test=-59.840) total time=   1.5s\n",
      "[CV 1/5] END criterion=absolute_error, max_depth=6, n_estimators=80;, score=(train=-36.491, test=-59.882) total time=   0.7s\n",
      "[CV 2/5] END criterion=absolute_error, max_depth=6, n_estimators=80;, score=(train=-37.361, test=-52.133) total time=   0.6s\n",
      "[CV 3/5] END criterion=absolute_error, max_depth=6, n_estimators=80;, score=(train=-35.793, test=-60.738) total time=   0.7s\n",
      "[CV 4/5] END criterion=absolute_error, max_depth=6, n_estimators=80;, score=(train=-37.645, test=-55.483) total time=   0.6s\n",
      "[CV 5/5] END criterion=absolute_error, max_depth=6, n_estimators=80;, score=(train=-36.089, test=-59.912) total time=   0.7s\n",
      "[CV 1/5] END criterion=absolute_error, max_depth=6, n_estimators=90;, score=(train=-36.607, test=-59.985) total time=   0.7s\n",
      "[CV 2/5] END criterion=absolute_error, max_depth=6, n_estimators=90;, score=(train=-37.356, test=-52.442) total time=   0.6s\n",
      "[CV 3/5] END criterion=absolute_error, max_depth=6, n_estimators=90;, score=(train=-35.773, test=-60.848) total time=   0.6s\n",
      "[CV 4/5] END criterion=absolute_error, max_depth=6, n_estimators=90;, score=(train=-37.616, test=-55.788) total time=   0.7s\n",
      "[CV 5/5] END criterion=absolute_error, max_depth=6, n_estimators=90;, score=(train=-36.035, test=-59.801) total time=   0.6s\n",
      "[CV 1/5] END criterion=absolute_error, max_depth=6, n_estimators=100;, score=(train=-36.614, test=-59.977) total time=   0.7s\n",
      "[CV 2/5] END criterion=absolute_error, max_depth=6, n_estimators=100;, score=(train=-37.455, test=-52.345) total time=   0.8s\n",
      "[CV 3/5] END criterion=absolute_error, max_depth=6, n_estimators=100;, score=(train=-35.863, test=-60.752) total time=   0.8s\n",
      "[CV 4/5] END criterion=absolute_error, max_depth=6, n_estimators=100;, score=(train=-37.551, test=-55.979) total time=   0.8s\n",
      "[CV 5/5] END criterion=absolute_error, max_depth=6, n_estimators=100;, score=(train=-36.330, test=-59.699) total time=   0.7s\n",
      "[CV 1/5] END criterion=absolute_error, max_depth=7, n_estimators=10;, score=(train=-35.954, test=-60.357) total time=   0.0s\n",
      "[CV 2/5] END criterion=absolute_error, max_depth=7, n_estimators=10;, score=(train=-36.037, test=-53.919) total time=   0.0s\n",
      "[CV 3/5] END criterion=absolute_error, max_depth=7, n_estimators=10;, score=(train=-33.684, test=-61.360) total time=   0.0s\n",
      "[CV 4/5] END criterion=absolute_error, max_depth=7, n_estimators=10;, score=(train=-36.370, test=-56.956) total time=   0.0s\n",
      "[CV 5/5] END criterion=absolute_error, max_depth=7, n_estimators=10;, score=(train=-34.720, test=-59.899) total time=   0.0s\n",
      "[CV 1/5] END criterion=absolute_error, max_depth=7, n_estimators=20;, score=(train=-34.483, test=-59.412) total time=   0.2s\n",
      "[CV 2/5] END criterion=absolute_error, max_depth=7, n_estimators=20;, score=(train=-35.459, test=-52.282) total time=   0.1s\n",
      "[CV 3/5] END criterion=absolute_error, max_depth=7, n_estimators=20;, score=(train=-32.599, test=-61.175) total time=   0.1s\n",
      "[CV 4/5] END criterion=absolute_error, max_depth=7, n_estimators=20;, score=(train=-35.596, test=-54.105) total time=   0.1s\n",
      "[CV 5/5] END criterion=absolute_error, max_depth=7, n_estimators=20;, score=(train=-33.715, test=-60.960) total time=   0.1s\n",
      "[CV 1/5] END criterion=absolute_error, max_depth=7, n_estimators=30;, score=(train=-33.813, test=-59.831) total time=   0.2s\n",
      "[CV 2/5] END criterion=absolute_error, max_depth=7, n_estimators=30;, score=(train=-34.605, test=-51.626) total time=   0.2s\n",
      "[CV 3/5] END criterion=absolute_error, max_depth=7, n_estimators=30;, score=(train=-32.097, test=-61.092) total time=   0.2s\n",
      "[CV 4/5] END criterion=absolute_error, max_depth=7, n_estimators=30;, score=(train=-34.634, test=-55.135) total time=   0.2s\n",
      "[CV 5/5] END criterion=absolute_error, max_depth=7, n_estimators=30;, score=(train=-32.954, test=-61.267) total time=   0.2s\n",
      "[CV 1/5] END criterion=absolute_error, max_depth=7, n_estimators=40;, score=(train=-33.296, test=-60.112) total time=   0.3s\n",
      "[CV 2/5] END criterion=absolute_error, max_depth=7, n_estimators=40;, score=(train=-34.251, test=-51.125) total time=   0.3s\n",
      "[CV 3/5] END criterion=absolute_error, max_depth=7, n_estimators=40;, score=(train=-32.006, test=-60.737) total time=   0.3s\n",
      "[CV 4/5] END criterion=absolute_error, max_depth=7, n_estimators=40;, score=(train=-34.333, test=-55.485) total time=   0.3s\n",
      "[CV 5/5] END criterion=absolute_error, max_depth=7, n_estimators=40;, score=(train=-32.912, test=-61.442) total time=   0.3s\n",
      "[CV 1/5] END criterion=absolute_error, max_depth=7, n_estimators=50;, score=(train=-32.957, test=-60.592) total time=   0.3s\n",
      "[CV 2/5] END criterion=absolute_error, max_depth=7, n_estimators=50;, score=(train=-33.843, test=-51.612) total time=   0.4s\n",
      "[CV 3/5] END criterion=absolute_error, max_depth=7, n_estimators=50;, score=(train=-31.744, test=-60.708) total time=   0.3s\n",
      "[CV 4/5] END criterion=absolute_error, max_depth=7, n_estimators=50;, score=(train=-34.289, test=-55.638) total time=   0.3s\n",
      "[CV 5/5] END criterion=absolute_error, max_depth=7, n_estimators=50;, score=(train=-32.780, test=-60.982) total time=   0.4s\n",
      "[CV 1/5] END criterion=absolute_error, max_depth=7, n_estimators=60;, score=(train=-32.780, test=-60.786) total time=   0.5s\n",
      "[CV 2/5] END criterion=absolute_error, max_depth=7, n_estimators=60;, score=(train=-33.890, test=-51.757) total time=   0.5s\n",
      "[CV 3/5] END criterion=absolute_error, max_depth=7, n_estimators=60;, score=(train=-31.458, test=-60.819) total time=   0.5s\n",
      "[CV 4/5] END criterion=absolute_error, max_depth=7, n_estimators=60;, score=(train=-34.090, test=-55.962) total time=   0.4s\n",
      "[CV 5/5] END criterion=absolute_error, max_depth=7, n_estimators=60;, score=(train=-32.590, test=-60.189) total time=   0.5s\n",
      "[CV 1/5] END criterion=absolute_error, max_depth=7, n_estimators=70;, score=(train=-32.736, test=-60.646) total time=   0.5s\n",
      "[CV 2/5] END criterion=absolute_error, max_depth=7, n_estimators=70;, score=(train=-33.946, test=-51.494) total time=   0.5s\n",
      "[CV 3/5] END criterion=absolute_error, max_depth=7, n_estimators=70;, score=(train=-31.777, test=-60.921) total time=   0.5s\n",
      "[CV 4/5] END criterion=absolute_error, max_depth=7, n_estimators=70;, score=(train=-34.078, test=-55.884) total time=   0.6s\n",
      "[CV 5/5] END criterion=absolute_error, max_depth=7, n_estimators=70;, score=(train=-32.494, test=-59.734) total time=   0.5s\n",
      "[CV 1/5] END criterion=absolute_error, max_depth=7, n_estimators=80;, score=(train=-32.826, test=-60.629) total time=   0.6s\n",
      "[CV 2/5] END criterion=absolute_error, max_depth=7, n_estimators=80;, score=(train=-33.820, test=-51.824) total time=   0.6s\n",
      "[CV 3/5] END criterion=absolute_error, max_depth=7, n_estimators=80;, score=(train=-32.100, test=-61.065) total time=   0.6s\n",
      "[CV 4/5] END criterion=absolute_error, max_depth=7, n_estimators=80;, score=(train=-34.022, test=-55.562) total time=   0.6s\n",
      "[CV 5/5] END criterion=absolute_error, max_depth=7, n_estimators=80;, score=(train=-32.608, test=-60.155) total time=   0.7s\n",
      "[CV 1/5] END criterion=absolute_error, max_depth=7, n_estimators=90;, score=(train=-32.881, test=-60.681) total time=   0.7s\n",
      "[CV 2/5] END criterion=absolute_error, max_depth=7, n_estimators=90;, score=(train=-33.783, test=-52.246) total time=   0.7s\n",
      "[CV 3/5] END criterion=absolute_error, max_depth=7, n_estimators=90;, score=(train=-32.034, test=-61.151) total time=   0.7s\n",
      "[CV 4/5] END criterion=absolute_error, max_depth=7, n_estimators=90;, score=(train=-33.915, test=-55.765) total time=   0.7s\n",
      "[CV 5/5] END criterion=absolute_error, max_depth=7, n_estimators=90;, score=(train=-32.540, test=-60.216) total time=   0.7s\n",
      "[CV 1/5] END criterion=absolute_error, max_depth=7, n_estimators=100;, score=(train=-32.869, test=-60.397) total time=   0.8s\n",
      "[CV 2/5] END criterion=absolute_error, max_depth=7, n_estimators=100;, score=(train=-33.834, test=-52.421) total time=   0.9s\n",
      "[CV 3/5] END criterion=absolute_error, max_depth=7, n_estimators=100;, score=(train=-32.099, test=-61.053) total time=   0.9s\n",
      "[CV 4/5] END criterion=absolute_error, max_depth=7, n_estimators=100;, score=(train=-33.831, test=-56.115) total time=   0.9s\n",
      "[CV 5/5] END criterion=absolute_error, max_depth=7, n_estimators=100;, score=(train=-32.720, test=-60.055) total time=   1.0s\n",
      "[CV 1/5] END criterion=absolute_error, max_depth=8, n_estimators=10;, score=(train=-33.635, test=-60.626) total time=   0.0s\n",
      "[CV 2/5] END criterion=absolute_error, max_depth=8, n_estimators=10;, score=(train=-33.448, test=-52.787) total time=   0.0s\n",
      "[CV 3/5] END criterion=absolute_error, max_depth=8, n_estimators=10;, score=(train=-31.169, test=-61.227) total time=   0.0s\n",
      "[CV 4/5] END criterion=absolute_error, max_depth=8, n_estimators=10;, score=(train=-32.961, test=-56.447) total time=   0.0s\n",
      "[CV 5/5] END criterion=absolute_error, max_depth=8, n_estimators=10;, score=(train=-32.045, test=-63.137) total time=   0.0s\n",
      "[CV 1/5] END criterion=absolute_error, max_depth=8, n_estimators=20;, score=(train=-32.036, test=-59.567) total time=   0.2s\n",
      "[CV 2/5] END criterion=absolute_error, max_depth=8, n_estimators=20;, score=(train=-32.280, test=-51.755) total time=   0.1s\n",
      "[CV 3/5] END criterion=absolute_error, max_depth=8, n_estimators=20;, score=(train=-29.882, test=-61.400) total time=   0.2s\n",
      "[CV 4/5] END criterion=absolute_error, max_depth=8, n_estimators=20;, score=(train=-31.723, test=-55.288) total time=   0.7s\n",
      "[CV 5/5] END criterion=absolute_error, max_depth=8, n_estimators=20;, score=(train=-30.262, test=-62.251) total time=   0.4s\n",
      "[CV 1/5] END criterion=absolute_error, max_depth=8, n_estimators=30;, score=(train=-31.077, test=-60.160) total time=   0.3s\n",
      "[CV 2/5] END criterion=absolute_error, max_depth=8, n_estimators=30;, score=(train=-31.304, test=-51.582) total time=   0.3s\n",
      "[CV 3/5] END criterion=absolute_error, max_depth=8, n_estimators=30;, score=(train=-29.389, test=-62.028) total time=   0.3s\n",
      "[CV 4/5] END criterion=absolute_error, max_depth=8, n_estimators=30;, score=(train=-31.327, test=-55.634) total time=   0.2s\n",
      "[CV 5/5] END criterion=absolute_error, max_depth=8, n_estimators=30;, score=(train=-29.309, test=-62.100) total time=   0.3s\n",
      "[CV 1/5] END criterion=absolute_error, max_depth=8, n_estimators=40;, score=(train=-30.578, test=-60.441) total time=   0.9s\n",
      "[CV 2/5] END criterion=absolute_error, max_depth=8, n_estimators=40;, score=(train=-30.837, test=-51.372) total time=   0.4s\n",
      "[CV 3/5] END criterion=absolute_error, max_depth=8, n_estimators=40;, score=(train=-29.172, test=-61.408) total time=   0.6s\n",
      "[CV 4/5] END criterion=absolute_error, max_depth=8, n_estimators=40;, score=(train=-30.952, test=-56.347) total time=   0.4s\n",
      "[CV 5/5] END criterion=absolute_error, max_depth=8, n_estimators=40;, score=(train=-29.266, test=-61.681) total time=   0.5s\n",
      "[CV 1/5] END criterion=absolute_error, max_depth=8, n_estimators=50;, score=(train=-30.211, test=-60.639) total time=   0.5s\n",
      "[CV 2/5] END criterion=absolute_error, max_depth=8, n_estimators=50;, score=(train=-30.583, test=-51.574) total time=   0.6s\n",
      "[CV 3/5] END criterion=absolute_error, max_depth=8, n_estimators=50;, score=(train=-29.016, test=-61.098) total time=   0.7s\n",
      "[CV 4/5] END criterion=absolute_error, max_depth=8, n_estimators=50;, score=(train=-31.043, test=-55.916) total time=   1.0s\n",
      "[CV 5/5] END criterion=absolute_error, max_depth=8, n_estimators=50;, score=(train=-29.247, test=-61.006) total time=   0.6s\n",
      "[CV 1/5] END criterion=absolute_error, max_depth=8, n_estimators=60;, score=(train=-30.034, test=-60.635) total time=   0.6s\n",
      "[CV 2/5] END criterion=absolute_error, max_depth=8, n_estimators=60;, score=(train=-30.762, test=-51.557) total time=   0.5s\n",
      "[CV 3/5] END criterion=absolute_error, max_depth=8, n_estimators=60;, score=(train=-28.703, test=-60.801) total time=   0.5s\n",
      "[CV 4/5] END criterion=absolute_error, max_depth=8, n_estimators=60;, score=(train=-30.771, test=-56.304) total time=   0.6s\n",
      "[CV 5/5] END criterion=absolute_error, max_depth=8, n_estimators=60;, score=(train=-29.083, test=-60.311) total time=   0.7s\n",
      "[CV 1/5] END criterion=absolute_error, max_depth=8, n_estimators=70;, score=(train=-29.896, test=-60.554) total time=   0.7s\n",
      "[CV 2/5] END criterion=absolute_error, max_depth=8, n_estimators=70;, score=(train=-30.718, test=-51.564) total time=   0.8s\n",
      "[CV 3/5] END criterion=absolute_error, max_depth=8, n_estimators=70;, score=(train=-29.066, test=-60.961) total time=   1.5s\n",
      "[CV 4/5] END criterion=absolute_error, max_depth=8, n_estimators=70;, score=(train=-30.876, test=-56.241) total time=   1.7s\n",
      "[CV 5/5] END criterion=absolute_error, max_depth=8, n_estimators=70;, score=(train=-29.089, test=-60.076) total time=   1.1s\n",
      "[CV 1/5] END criterion=absolute_error, max_depth=8, n_estimators=80;, score=(train=-29.924, test=-60.370) total time=   0.9s\n",
      "[CV 2/5] END criterion=absolute_error, max_depth=8, n_estimators=80;, score=(train=-30.743, test=-51.705) total time=   1.5s\n",
      "[CV 3/5] END criterion=absolute_error, max_depth=8, n_estimators=80;, score=(train=-29.272, test=-60.926) total time=   1.4s\n",
      "[CV 4/5] END criterion=absolute_error, max_depth=8, n_estimators=80;, score=(train=-30.837, test=-56.132) total time=   2.0s\n",
      "[CV 5/5] END criterion=absolute_error, max_depth=8, n_estimators=80;, score=(train=-29.290, test=-60.129) total time=   0.8s\n",
      "[CV 1/5] END criterion=absolute_error, max_depth=8, n_estimators=90;, score=(train=-30.037, test=-60.430) total time=   0.8s\n",
      "[CV 2/5] END criterion=absolute_error, max_depth=8, n_estimators=90;, score=(train=-30.784, test=-51.950) total time=   0.9s\n",
      "[CV 3/5] END criterion=absolute_error, max_depth=8, n_estimators=90;, score=(train=-29.159, test=-60.965) total time=   1.1s\n",
      "[CV 4/5] END criterion=absolute_error, max_depth=8, n_estimators=90;, score=(train=-30.765, test=-56.233) total time=   1.5s\n",
      "[CV 5/5] END criterion=absolute_error, max_depth=8, n_estimators=90;, score=(train=-29.205, test=-60.037) total time=   0.9s\n",
      "[CV 1/5] END criterion=absolute_error, max_depth=8, n_estimators=100;, score=(train=-30.034, test=-60.162) total time=   1.1s\n",
      "[CV 2/5] END criterion=absolute_error, max_depth=8, n_estimators=100;, score=(train=-30.726, test=-51.830) total time=   1.1s\n",
      "[CV 3/5] END criterion=absolute_error, max_depth=8, n_estimators=100;, score=(train=-29.159, test=-60.958) total time=   1.1s\n",
      "[CV 4/5] END criterion=absolute_error, max_depth=8, n_estimators=100;, score=(train=-30.753, test=-56.615) total time=   1.1s\n",
      "[CV 5/5] END criterion=absolute_error, max_depth=8, n_estimators=100;, score=(train=-29.394, test=-59.920) total time=   0.9s\n",
      "[CV 1/5] END criterion=absolute_error, max_depth=9, n_estimators=10;, score=(train=-31.486, test=-58.415) total time=   0.0s\n",
      "[CV 2/5] END criterion=absolute_error, max_depth=9, n_estimators=10;, score=(train=-31.076, test=-53.794) total time=   0.0s\n",
      "[CV 3/5] END criterion=absolute_error, max_depth=9, n_estimators=10;, score=(train=-29.368, test=-62.487) total time=   0.0s\n",
      "[CV 4/5] END criterion=absolute_error, max_depth=9, n_estimators=10;, score=(train=-30.616, test=-54.449) total time=   0.0s\n",
      "[CV 5/5] END criterion=absolute_error, max_depth=9, n_estimators=10;, score=(train=-29.448, test=-63.521) total time=   0.0s\n",
      "[CV 1/5] END criterion=absolute_error, max_depth=9, n_estimators=20;, score=(train=-29.793, test=-58.891) total time=   0.2s\n",
      "[CV 2/5] END criterion=absolute_error, max_depth=9, n_estimators=20;, score=(train=-30.227, test=-52.617) total time=   0.1s\n",
      "[CV 3/5] END criterion=absolute_error, max_depth=9, n_estimators=20;, score=(train=-27.789, test=-61.914) total time=   0.2s\n",
      "[CV 4/5] END criterion=absolute_error, max_depth=9, n_estimators=20;, score=(train=-28.876, test=-53.232) total time=   0.2s\n",
      "[CV 5/5] END criterion=absolute_error, max_depth=9, n_estimators=20;, score=(train=-28.185, test=-62.022) total time=   0.1s\n",
      "[CV 1/5] END criterion=absolute_error, max_depth=9, n_estimators=30;, score=(train=-28.949, test=-59.544) total time=   0.4s\n",
      "[CV 2/5] END criterion=absolute_error, max_depth=9, n_estimators=30;, score=(train=-29.096, test=-52.157) total time=   0.3s\n",
      "[CV 3/5] END criterion=absolute_error, max_depth=9, n_estimators=30;, score=(train=-27.052, test=-61.196) total time=   0.3s\n",
      "[CV 4/5] END criterion=absolute_error, max_depth=9, n_estimators=30;, score=(train=-28.706, test=-53.647) total time=   0.4s\n",
      "[CV 5/5] END criterion=absolute_error, max_depth=9, n_estimators=30;, score=(train=-26.635, test=-62.250) total time=   0.3s\n",
      "[CV 1/5] END criterion=absolute_error, max_depth=9, n_estimators=40;, score=(train=-28.336, test=-60.111) total time=   0.5s\n",
      "[CV 2/5] END criterion=absolute_error, max_depth=9, n_estimators=40;, score=(train=-28.705, test=-51.972) total time=   0.4s\n",
      "[CV 3/5] END criterion=absolute_error, max_depth=9, n_estimators=40;, score=(train=-26.672, test=-60.762) total time=   0.4s\n",
      "[CV 4/5] END criterion=absolute_error, max_depth=9, n_estimators=40;, score=(train=-28.391, test=-55.046) total time=   0.5s\n",
      "[CV 5/5] END criterion=absolute_error, max_depth=9, n_estimators=40;, score=(train=-26.627, test=-62.024) total time=   0.9s\n",
      "[CV 1/5] END criterion=absolute_error, max_depth=9, n_estimators=50;, score=(train=-28.093, test=-60.464) total time=   0.6s\n",
      "[CV 2/5] END criterion=absolute_error, max_depth=9, n_estimators=50;, score=(train=-28.432, test=-52.201) total time=   0.7s\n",
      "[CV 3/5] END criterion=absolute_error, max_depth=9, n_estimators=50;, score=(train=-26.548, test=-60.652) total time=   0.5s\n",
      "[CV 4/5] END criterion=absolute_error, max_depth=9, n_estimators=50;, score=(train=-28.478, test=-55.004) total time=   0.8s\n",
      "[CV 5/5] END criterion=absolute_error, max_depth=9, n_estimators=50;, score=(train=-26.928, test=-61.595) total time=   0.7s\n",
      "[CV 1/5] END criterion=absolute_error, max_depth=9, n_estimators=60;, score=(train=-27.823, test=-60.721) total time=   0.6s\n",
      "[CV 2/5] END criterion=absolute_error, max_depth=9, n_estimators=60;, score=(train=-28.364, test=-52.277) total time=   0.6s\n",
      "[CV 3/5] END criterion=absolute_error, max_depth=9, n_estimators=60;, score=(train=-26.372, test=-60.353) total time=   1.6s\n",
      "[CV 4/5] END criterion=absolute_error, max_depth=9, n_estimators=60;, score=(train=-28.255, test=-55.364) total time=   1.3s\n",
      "[CV 5/5] END criterion=absolute_error, max_depth=9, n_estimators=60;, score=(train=-26.767, test=-60.916) total time=   0.6s\n",
      "[CV 1/5] END criterion=absolute_error, max_depth=9, n_estimators=70;, score=(train=-27.556, test=-60.540) total time=   0.7s\n",
      "[CV 2/5] END criterion=absolute_error, max_depth=9, n_estimators=70;, score=(train=-28.208, test=-52.003) total time=   0.7s\n",
      "[CV 3/5] END criterion=absolute_error, max_depth=9, n_estimators=70;, score=(train=-26.685, test=-60.239) total time=   0.7s\n",
      "[CV 4/5] END criterion=absolute_error, max_depth=9, n_estimators=70;, score=(train=-28.313, test=-55.381) total time=   0.8s\n",
      "[CV 5/5] END criterion=absolute_error, max_depth=9, n_estimators=70;, score=(train=-26.683, test=-60.791) total time=   0.8s\n",
      "[CV 1/5] END criterion=absolute_error, max_depth=9, n_estimators=80;, score=(train=-27.546, test=-60.571) total time=   0.9s\n",
      "[CV 2/5] END criterion=absolute_error, max_depth=9, n_estimators=80;, score=(train=-28.172, test=-52.237) total time=   0.9s\n",
      "[CV 3/5] END criterion=absolute_error, max_depth=9, n_estimators=80;, score=(train=-26.937, test=-60.442) total time=   0.9s\n",
      "[CV 4/5] END criterion=absolute_error, max_depth=9, n_estimators=80;, score=(train=-28.319, test=-55.196) total time=   0.8s\n",
      "[CV 5/5] END criterion=absolute_error, max_depth=9, n_estimators=80;, score=(train=-26.699, test=-60.957) total time=   0.9s\n",
      "[CV 1/5] END criterion=absolute_error, max_depth=9, n_estimators=90;, score=(train=-27.713, test=-60.616) total time=   1.2s\n",
      "[CV 2/5] END criterion=absolute_error, max_depth=9, n_estimators=90;, score=(train=-28.163, test=-52.390) total time=   1.4s\n",
      "[CV 3/5] END criterion=absolute_error, max_depth=9, n_estimators=90;, score=(train=-26.758, test=-60.626) total time=   2.6s\n",
      "[CV 4/5] END criterion=absolute_error, max_depth=9, n_estimators=90;, score=(train=-28.325, test=-55.331) total time=   1.2s\n",
      "[CV 5/5] END criterion=absolute_error, max_depth=9, n_estimators=90;, score=(train=-26.532, test=-60.911) total time=   0.9s\n",
      "[CV 1/5] END criterion=absolute_error, max_depth=9, n_estimators=100;, score=(train=-27.642, test=-60.158) total time=   1.0s\n",
      "[CV 2/5] END criterion=absolute_error, max_depth=9, n_estimators=100;, score=(train=-28.160, test=-52.325) total time=   1.2s\n",
      "[CV 3/5] END criterion=absolute_error, max_depth=9, n_estimators=100;, score=(train=-26.717, test=-60.539) total time=   1.1s\n",
      "[CV 4/5] END criterion=absolute_error, max_depth=9, n_estimators=100;, score=(train=-28.287, test=-55.860) total time=   1.1s\n",
      "[CV 5/5] END criterion=absolute_error, max_depth=9, n_estimators=100;, score=(train=-26.703, test=-60.767) total time=   1.0s\n"
     ]
    },
    {
     "data": {
      "text/html": [
       "<style>#sk-container-id-1 {\n",
       "  /* Definition of color scheme common for light and dark mode */\n",
       "  --sklearn-color-text: black;\n",
       "  --sklearn-color-line: gray;\n",
       "  /* Definition of color scheme for unfitted estimators */\n",
       "  --sklearn-color-unfitted-level-0: #fff5e6;\n",
       "  --sklearn-color-unfitted-level-1: #f6e4d2;\n",
       "  --sklearn-color-unfitted-level-2: #ffe0b3;\n",
       "  --sklearn-color-unfitted-level-3: chocolate;\n",
       "  /* Definition of color scheme for fitted estimators */\n",
       "  --sklearn-color-fitted-level-0: #f0f8ff;\n",
       "  --sklearn-color-fitted-level-1: #d4ebff;\n",
       "  --sklearn-color-fitted-level-2: #b3dbfd;\n",
       "  --sklearn-color-fitted-level-3: cornflowerblue;\n",
       "\n",
       "  /* Specific color for light theme */\n",
       "  --sklearn-color-text-on-default-background: var(--sg-text-color, var(--theme-code-foreground, var(--jp-content-font-color1, black)));\n",
       "  --sklearn-color-background: var(--sg-background-color, var(--theme-background, var(--jp-layout-color0, white)));\n",
       "  --sklearn-color-border-box: var(--sg-text-color, var(--theme-code-foreground, var(--jp-content-font-color1, black)));\n",
       "  --sklearn-color-icon: #696969;\n",
       "\n",
       "  @media (prefers-color-scheme: dark) {\n",
       "    /* Redefinition of color scheme for dark theme */\n",
       "    --sklearn-color-text-on-default-background: var(--sg-text-color, var(--theme-code-foreground, var(--jp-content-font-color1, white)));\n",
       "    --sklearn-color-background: var(--sg-background-color, var(--theme-background, var(--jp-layout-color0, #111)));\n",
       "    --sklearn-color-border-box: var(--sg-text-color, var(--theme-code-foreground, var(--jp-content-font-color1, white)));\n",
       "    --sklearn-color-icon: #878787;\n",
       "  }\n",
       "}\n",
       "\n",
       "#sk-container-id-1 {\n",
       "  color: var(--sklearn-color-text);\n",
       "}\n",
       "\n",
       "#sk-container-id-1 pre {\n",
       "  padding: 0;\n",
       "}\n",
       "\n",
       "#sk-container-id-1 input.sk-hidden--visually {\n",
       "  border: 0;\n",
       "  clip: rect(1px 1px 1px 1px);\n",
       "  clip: rect(1px, 1px, 1px, 1px);\n",
       "  height: 1px;\n",
       "  margin: -1px;\n",
       "  overflow: hidden;\n",
       "  padding: 0;\n",
       "  position: absolute;\n",
       "  width: 1px;\n",
       "}\n",
       "\n",
       "#sk-container-id-1 div.sk-dashed-wrapped {\n",
       "  border: 1px dashed var(--sklearn-color-line);\n",
       "  margin: 0 0.4em 0.5em 0.4em;\n",
       "  box-sizing: border-box;\n",
       "  padding-bottom: 0.4em;\n",
       "  background-color: var(--sklearn-color-background);\n",
       "}\n",
       "\n",
       "#sk-container-id-1 div.sk-container {\n",
       "  /* jupyter's `normalize.less` sets `[hidden] { display: none; }`\n",
       "     but bootstrap.min.css set `[hidden] { display: none !important; }`\n",
       "     so we also need the `!important` here to be able to override the\n",
       "     default hidden behavior on the sphinx rendered scikit-learn.org.\n",
       "     See: https://github.com/scikit-learn/scikit-learn/issues/21755 */\n",
       "  display: inline-block !important;\n",
       "  position: relative;\n",
       "}\n",
       "\n",
       "#sk-container-id-1 div.sk-text-repr-fallback {\n",
       "  display: none;\n",
       "}\n",
       "\n",
       "div.sk-parallel-item,\n",
       "div.sk-serial,\n",
       "div.sk-item {\n",
       "  /* draw centered vertical line to link estimators */\n",
       "  background-image: linear-gradient(var(--sklearn-color-text-on-default-background), var(--sklearn-color-text-on-default-background));\n",
       "  background-size: 2px 100%;\n",
       "  background-repeat: no-repeat;\n",
       "  background-position: center center;\n",
       "}\n",
       "\n",
       "/* Parallel-specific style estimator block */\n",
       "\n",
       "#sk-container-id-1 div.sk-parallel-item::after {\n",
       "  content: \"\";\n",
       "  width: 100%;\n",
       "  border-bottom: 2px solid var(--sklearn-color-text-on-default-background);\n",
       "  flex-grow: 1;\n",
       "}\n",
       "\n",
       "#sk-container-id-1 div.sk-parallel {\n",
       "  display: flex;\n",
       "  align-items: stretch;\n",
       "  justify-content: center;\n",
       "  background-color: var(--sklearn-color-background);\n",
       "  position: relative;\n",
       "}\n",
       "\n",
       "#sk-container-id-1 div.sk-parallel-item {\n",
       "  display: flex;\n",
       "  flex-direction: column;\n",
       "}\n",
       "\n",
       "#sk-container-id-1 div.sk-parallel-item:first-child::after {\n",
       "  align-self: flex-end;\n",
       "  width: 50%;\n",
       "}\n",
       "\n",
       "#sk-container-id-1 div.sk-parallel-item:last-child::after {\n",
       "  align-self: flex-start;\n",
       "  width: 50%;\n",
       "}\n",
       "\n",
       "#sk-container-id-1 div.sk-parallel-item:only-child::after {\n",
       "  width: 0;\n",
       "}\n",
       "\n",
       "/* Serial-specific style estimator block */\n",
       "\n",
       "#sk-container-id-1 div.sk-serial {\n",
       "  display: flex;\n",
       "  flex-direction: column;\n",
       "  align-items: center;\n",
       "  background-color: var(--sklearn-color-background);\n",
       "  padding-right: 1em;\n",
       "  padding-left: 1em;\n",
       "}\n",
       "\n",
       "\n",
       "/* Toggleable style: style used for estimator/Pipeline/ColumnTransformer box that is\n",
       "clickable and can be expanded/collapsed.\n",
       "- Pipeline and ColumnTransformer use this feature and define the default style\n",
       "- Estimators will overwrite some part of the style using the `sk-estimator` class\n",
       "*/\n",
       "\n",
       "/* Pipeline and ColumnTransformer style (default) */\n",
       "\n",
       "#sk-container-id-1 div.sk-toggleable {\n",
       "  /* Default theme specific background. It is overwritten whether we have a\n",
       "  specific estimator or a Pipeline/ColumnTransformer */\n",
       "  background-color: var(--sklearn-color-background);\n",
       "}\n",
       "\n",
       "/* Toggleable label */\n",
       "#sk-container-id-1 label.sk-toggleable__label {\n",
       "  cursor: pointer;\n",
       "  display: block;\n",
       "  width: 100%;\n",
       "  margin-bottom: 0;\n",
       "  padding: 0.5em;\n",
       "  box-sizing: border-box;\n",
       "  text-align: center;\n",
       "}\n",
       "\n",
       "#sk-container-id-1 label.sk-toggleable__label-arrow:before {\n",
       "  /* Arrow on the left of the label */\n",
       "  content: \"▸\";\n",
       "  float: left;\n",
       "  margin-right: 0.25em;\n",
       "  color: var(--sklearn-color-icon);\n",
       "}\n",
       "\n",
       "#sk-container-id-1 label.sk-toggleable__label-arrow:hover:before {\n",
       "  color: var(--sklearn-color-text);\n",
       "}\n",
       "\n",
       "/* Toggleable content - dropdown */\n",
       "\n",
       "#sk-container-id-1 div.sk-toggleable__content {\n",
       "  max-height: 0;\n",
       "  max-width: 0;\n",
       "  overflow: hidden;\n",
       "  text-align: left;\n",
       "  /* unfitted */\n",
       "  background-color: var(--sklearn-color-unfitted-level-0);\n",
       "}\n",
       "\n",
       "#sk-container-id-1 div.sk-toggleable__content.fitted {\n",
       "  /* fitted */\n",
       "  background-color: var(--sklearn-color-fitted-level-0);\n",
       "}\n",
       "\n",
       "#sk-container-id-1 div.sk-toggleable__content pre {\n",
       "  margin: 0.2em;\n",
       "  border-radius: 0.25em;\n",
       "  color: var(--sklearn-color-text);\n",
       "  /* unfitted */\n",
       "  background-color: var(--sklearn-color-unfitted-level-0);\n",
       "}\n",
       "\n",
       "#sk-container-id-1 div.sk-toggleable__content.fitted pre {\n",
       "  /* unfitted */\n",
       "  background-color: var(--sklearn-color-fitted-level-0);\n",
       "}\n",
       "\n",
       "#sk-container-id-1 input.sk-toggleable__control:checked~div.sk-toggleable__content {\n",
       "  /* Expand drop-down */\n",
       "  max-height: 200px;\n",
       "  max-width: 100%;\n",
       "  overflow: auto;\n",
       "}\n",
       "\n",
       "#sk-container-id-1 input.sk-toggleable__control:checked~label.sk-toggleable__label-arrow:before {\n",
       "  content: \"▾\";\n",
       "}\n",
       "\n",
       "/* Pipeline/ColumnTransformer-specific style */\n",
       "\n",
       "#sk-container-id-1 div.sk-label input.sk-toggleable__control:checked~label.sk-toggleable__label {\n",
       "  color: var(--sklearn-color-text);\n",
       "  background-color: var(--sklearn-color-unfitted-level-2);\n",
       "}\n",
       "\n",
       "#sk-container-id-1 div.sk-label.fitted input.sk-toggleable__control:checked~label.sk-toggleable__label {\n",
       "  background-color: var(--sklearn-color-fitted-level-2);\n",
       "}\n",
       "\n",
       "/* Estimator-specific style */\n",
       "\n",
       "/* Colorize estimator box */\n",
       "#sk-container-id-1 div.sk-estimator input.sk-toggleable__control:checked~label.sk-toggleable__label {\n",
       "  /* unfitted */\n",
       "  background-color: var(--sklearn-color-unfitted-level-2);\n",
       "}\n",
       "\n",
       "#sk-container-id-1 div.sk-estimator.fitted input.sk-toggleable__control:checked~label.sk-toggleable__label {\n",
       "  /* fitted */\n",
       "  background-color: var(--sklearn-color-fitted-level-2);\n",
       "}\n",
       "\n",
       "#sk-container-id-1 div.sk-label label.sk-toggleable__label,\n",
       "#sk-container-id-1 div.sk-label label {\n",
       "  /* The background is the default theme color */\n",
       "  color: var(--sklearn-color-text-on-default-background);\n",
       "}\n",
       "\n",
       "/* On hover, darken the color of the background */\n",
       "#sk-container-id-1 div.sk-label:hover label.sk-toggleable__label {\n",
       "  color: var(--sklearn-color-text);\n",
       "  background-color: var(--sklearn-color-unfitted-level-2);\n",
       "}\n",
       "\n",
       "/* Label box, darken color on hover, fitted */\n",
       "#sk-container-id-1 div.sk-label.fitted:hover label.sk-toggleable__label.fitted {\n",
       "  color: var(--sklearn-color-text);\n",
       "  background-color: var(--sklearn-color-fitted-level-2);\n",
       "}\n",
       "\n",
       "/* Estimator label */\n",
       "\n",
       "#sk-container-id-1 div.sk-label label {\n",
       "  font-family: monospace;\n",
       "  font-weight: bold;\n",
       "  display: inline-block;\n",
       "  line-height: 1.2em;\n",
       "}\n",
       "\n",
       "#sk-container-id-1 div.sk-label-container {\n",
       "  text-align: center;\n",
       "}\n",
       "\n",
       "/* Estimator-specific */\n",
       "#sk-container-id-1 div.sk-estimator {\n",
       "  font-family: monospace;\n",
       "  border: 1px dotted var(--sklearn-color-border-box);\n",
       "  border-radius: 0.25em;\n",
       "  box-sizing: border-box;\n",
       "  margin-bottom: 0.5em;\n",
       "  /* unfitted */\n",
       "  background-color: var(--sklearn-color-unfitted-level-0);\n",
       "}\n",
       "\n",
       "#sk-container-id-1 div.sk-estimator.fitted {\n",
       "  /* fitted */\n",
       "  background-color: var(--sklearn-color-fitted-level-0);\n",
       "}\n",
       "\n",
       "/* on hover */\n",
       "#sk-container-id-1 div.sk-estimator:hover {\n",
       "  /* unfitted */\n",
       "  background-color: var(--sklearn-color-unfitted-level-2);\n",
       "}\n",
       "\n",
       "#sk-container-id-1 div.sk-estimator.fitted:hover {\n",
       "  /* fitted */\n",
       "  background-color: var(--sklearn-color-fitted-level-2);\n",
       "}\n",
       "\n",
       "/* Specification for estimator info (e.g. \"i\" and \"?\") */\n",
       "\n",
       "/* Common style for \"i\" and \"?\" */\n",
       "\n",
       ".sk-estimator-doc-link,\n",
       "a:link.sk-estimator-doc-link,\n",
       "a:visited.sk-estimator-doc-link {\n",
       "  float: right;\n",
       "  font-size: smaller;\n",
       "  line-height: 1em;\n",
       "  font-family: monospace;\n",
       "  background-color: var(--sklearn-color-background);\n",
       "  border-radius: 1em;\n",
       "  height: 1em;\n",
       "  width: 1em;\n",
       "  text-decoration: none !important;\n",
       "  margin-left: 1ex;\n",
       "  /* unfitted */\n",
       "  border: var(--sklearn-color-unfitted-level-1) 1pt solid;\n",
       "  color: var(--sklearn-color-unfitted-level-1);\n",
       "}\n",
       "\n",
       ".sk-estimator-doc-link.fitted,\n",
       "a:link.sk-estimator-doc-link.fitted,\n",
       "a:visited.sk-estimator-doc-link.fitted {\n",
       "  /* fitted */\n",
       "  border: var(--sklearn-color-fitted-level-1) 1pt solid;\n",
       "  color: var(--sklearn-color-fitted-level-1);\n",
       "}\n",
       "\n",
       "/* On hover */\n",
       "div.sk-estimator:hover .sk-estimator-doc-link:hover,\n",
       ".sk-estimator-doc-link:hover,\n",
       "div.sk-label-container:hover .sk-estimator-doc-link:hover,\n",
       ".sk-estimator-doc-link:hover {\n",
       "  /* unfitted */\n",
       "  background-color: var(--sklearn-color-unfitted-level-3);\n",
       "  color: var(--sklearn-color-background);\n",
       "  text-decoration: none;\n",
       "}\n",
       "\n",
       "div.sk-estimator.fitted:hover .sk-estimator-doc-link.fitted:hover,\n",
       ".sk-estimator-doc-link.fitted:hover,\n",
       "div.sk-label-container:hover .sk-estimator-doc-link.fitted:hover,\n",
       ".sk-estimator-doc-link.fitted:hover {\n",
       "  /* fitted */\n",
       "  background-color: var(--sklearn-color-fitted-level-3);\n",
       "  color: var(--sklearn-color-background);\n",
       "  text-decoration: none;\n",
       "}\n",
       "\n",
       "/* Span, style for the box shown on hovering the info icon */\n",
       ".sk-estimator-doc-link span {\n",
       "  display: none;\n",
       "  z-index: 9999;\n",
       "  position: relative;\n",
       "  font-weight: normal;\n",
       "  right: .2ex;\n",
       "  padding: .5ex;\n",
       "  margin: .5ex;\n",
       "  width: min-content;\n",
       "  min-width: 20ex;\n",
       "  max-width: 50ex;\n",
       "  color: var(--sklearn-color-text);\n",
       "  box-shadow: 2pt 2pt 4pt #999;\n",
       "  /* unfitted */\n",
       "  background: var(--sklearn-color-unfitted-level-0);\n",
       "  border: .5pt solid var(--sklearn-color-unfitted-level-3);\n",
       "}\n",
       "\n",
       ".sk-estimator-doc-link.fitted span {\n",
       "  /* fitted */\n",
       "  background: var(--sklearn-color-fitted-level-0);\n",
       "  border: var(--sklearn-color-fitted-level-3);\n",
       "}\n",
       "\n",
       ".sk-estimator-doc-link:hover span {\n",
       "  display: block;\n",
       "}\n",
       "\n",
       "/* \"?\"-specific style due to the `<a>` HTML tag */\n",
       "\n",
       "#sk-container-id-1 a.estimator_doc_link {\n",
       "  float: right;\n",
       "  font-size: 1rem;\n",
       "  line-height: 1em;\n",
       "  font-family: monospace;\n",
       "  background-color: var(--sklearn-color-background);\n",
       "  border-radius: 1rem;\n",
       "  height: 1rem;\n",
       "  width: 1rem;\n",
       "  text-decoration: none;\n",
       "  /* unfitted */\n",
       "  color: var(--sklearn-color-unfitted-level-1);\n",
       "  border: var(--sklearn-color-unfitted-level-1) 1pt solid;\n",
       "}\n",
       "\n",
       "#sk-container-id-1 a.estimator_doc_link.fitted {\n",
       "  /* fitted */\n",
       "  border: var(--sklearn-color-fitted-level-1) 1pt solid;\n",
       "  color: var(--sklearn-color-fitted-level-1);\n",
       "}\n",
       "\n",
       "/* On hover */\n",
       "#sk-container-id-1 a.estimator_doc_link:hover {\n",
       "  /* unfitted */\n",
       "  background-color: var(--sklearn-color-unfitted-level-3);\n",
       "  color: var(--sklearn-color-background);\n",
       "  text-decoration: none;\n",
       "}\n",
       "\n",
       "#sk-container-id-1 a.estimator_doc_link.fitted:hover {\n",
       "  /* fitted */\n",
       "  background-color: var(--sklearn-color-fitted-level-3);\n",
       "}\n",
       "</style><div id=\"sk-container-id-1\" class=\"sk-top-container\"><div class=\"sk-text-repr-fallback\"><pre>GridSearchCV(cv=&lt;generator object _BaseKFold.split at 0x0000025CF11B88C0&gt;,\n",
       "             estimator=RandomForestRegressor(random_state=23), n_jobs=1,\n",
       "             param_grid={&#x27;criterion&#x27;: [&#x27;squared_error&#x27;, &#x27;poisson&#x27;,\n",
       "                                       &#x27;absolute_error&#x27;],\n",
       "                         &#x27;max_depth&#x27;: [2, 3, 4, 5, 6, 7, 8, 9],\n",
       "                         &#x27;n_estimators&#x27;: [10, 20, 30, 40, 50, 60, 70, 80, 90,\n",
       "                                          100]},\n",
       "             return_train_score=True, scoring=&#x27;neg_root_mean_squared_error&#x27;,\n",
       "             verbose=3)</pre><b>In a Jupyter environment, please rerun this cell to show the HTML representation or trust the notebook. <br />On GitHub, the HTML representation is unable to render, please try loading this page with nbviewer.org.</b></div><div class=\"sk-container\" hidden><div class=\"sk-item sk-dashed-wrapped\"><div class=\"sk-label-container\"><div class=\"sk-label fitted sk-toggleable\"><input class=\"sk-toggleable__control sk-hidden--visually\" id=\"sk-estimator-id-1\" type=\"checkbox\" ><label for=\"sk-estimator-id-1\" class=\"sk-toggleable__label fitted sk-toggleable__label-arrow fitted\">&nbsp;&nbsp;GridSearchCV<a class=\"sk-estimator-doc-link fitted\" rel=\"noreferrer\" target=\"_blank\" href=\"https://scikit-learn.org/1.4/modules/generated/sklearn.model_selection.GridSearchCV.html\">?<span>Documentation for GridSearchCV</span></a><span class=\"sk-estimator-doc-link fitted\">i<span>Fitted</span></span></label><div class=\"sk-toggleable__content fitted\"><pre>GridSearchCV(cv=&lt;generator object _BaseKFold.split at 0x0000025CF11B88C0&gt;,\n",
       "             estimator=RandomForestRegressor(random_state=23), n_jobs=1,\n",
       "             param_grid={&#x27;criterion&#x27;: [&#x27;squared_error&#x27;, &#x27;poisson&#x27;,\n",
       "                                       &#x27;absolute_error&#x27;],\n",
       "                         &#x27;max_depth&#x27;: [2, 3, 4, 5, 6, 7, 8, 9],\n",
       "                         &#x27;n_estimators&#x27;: [10, 20, 30, 40, 50, 60, 70, 80, 90,\n",
       "                                          100]},\n",
       "             return_train_score=True, scoring=&#x27;neg_root_mean_squared_error&#x27;,\n",
       "             verbose=3)</pre></div> </div></div><div class=\"sk-parallel\"><div class=\"sk-parallel-item\"><div class=\"sk-item\"><div class=\"sk-label-container\"><div class=\"sk-label fitted sk-toggleable\"><input class=\"sk-toggleable__control sk-hidden--visually\" id=\"sk-estimator-id-2\" type=\"checkbox\" ><label for=\"sk-estimator-id-2\" class=\"sk-toggleable__label fitted sk-toggleable__label-arrow fitted\">estimator: RandomForestRegressor</label><div class=\"sk-toggleable__content fitted\"><pre>RandomForestRegressor(random_state=23)</pre></div> </div></div><div class=\"sk-serial\"><div class=\"sk-item\"><div class=\"sk-estimator fitted sk-toggleable\"><input class=\"sk-toggleable__control sk-hidden--visually\" id=\"sk-estimator-id-3\" type=\"checkbox\" ><label for=\"sk-estimator-id-3\" class=\"sk-toggleable__label fitted sk-toggleable__label-arrow fitted\">&nbsp;RandomForestRegressor<a class=\"sk-estimator-doc-link fitted\" rel=\"noreferrer\" target=\"_blank\" href=\"https://scikit-learn.org/1.4/modules/generated/sklearn.ensemble.RandomForestRegressor.html\">?<span>Documentation for RandomForestRegressor</span></a></label><div class=\"sk-toggleable__content fitted\"><pre>RandomForestRegressor(random_state=23)</pre></div> </div></div></div></div></div></div></div></div></div>"
      ],
      "text/plain": [
       "GridSearchCV(cv=<generator object _BaseKFold.split at 0x0000025CF11B88C0>,\n",
       "             estimator=RandomForestRegressor(random_state=23), n_jobs=1,\n",
       "             param_grid={'criterion': ['squared_error', 'poisson',\n",
       "                                       'absolute_error'],\n",
       "                         'max_depth': [2, 3, 4, 5, 6, 7, 8, 9],\n",
       "                         'n_estimators': [10, 20, 30, 40, 50, 60, 70, 80, 90,\n",
       "                                          100]},\n",
       "             return_train_score=True, scoring='neg_root_mean_squared_error',\n",
       "             verbose=3)"
      ]
     },
     "execution_count": 12,
     "metadata": {},
     "output_type": "execute_result"
    }
   ],
   "source": [
    "# init the estimator \n",
    "rfr_estimator = RandomForestRegressor(random_state=23)\n",
    "\n",
    "# init the fold\n",
    "k_fold = KFold(n_splits=5, shuffle=True, random_state=23)\n",
    "\n",
    "params= {\n",
    "    'n_estimators' : [x for x in range(5, 101) if x % 10 == 0],\n",
    "    'max_depth' : [x for x in range(2, 10)],\n",
    "    'criterion': ['squared_error', 'poisson','absolute_error']}\n",
    "\n",
    "model = GridSearchCV(estimator=rfr_estimator, param_grid=params,\n",
    "                     scoring = 'neg_root_mean_squared_error', n_jobs= 1,\n",
    "                     verbose= 3, return_train_score= True, cv= k_fold.split(X))\n",
    "model.fit(X = X, y = y)"
   ]
  },
  {
   "cell_type": "code",
   "execution_count": 13,
   "metadata": {},
   "outputs": [
    {
     "data": {
      "text/html": [
       "<style>#sk-container-id-2 {\n",
       "  /* Definition of color scheme common for light and dark mode */\n",
       "  --sklearn-color-text: black;\n",
       "  --sklearn-color-line: gray;\n",
       "  /* Definition of color scheme for unfitted estimators */\n",
       "  --sklearn-color-unfitted-level-0: #fff5e6;\n",
       "  --sklearn-color-unfitted-level-1: #f6e4d2;\n",
       "  --sklearn-color-unfitted-level-2: #ffe0b3;\n",
       "  --sklearn-color-unfitted-level-3: chocolate;\n",
       "  /* Definition of color scheme for fitted estimators */\n",
       "  --sklearn-color-fitted-level-0: #f0f8ff;\n",
       "  --sklearn-color-fitted-level-1: #d4ebff;\n",
       "  --sklearn-color-fitted-level-2: #b3dbfd;\n",
       "  --sklearn-color-fitted-level-3: cornflowerblue;\n",
       "\n",
       "  /* Specific color for light theme */\n",
       "  --sklearn-color-text-on-default-background: var(--sg-text-color, var(--theme-code-foreground, var(--jp-content-font-color1, black)));\n",
       "  --sklearn-color-background: var(--sg-background-color, var(--theme-background, var(--jp-layout-color0, white)));\n",
       "  --sklearn-color-border-box: var(--sg-text-color, var(--theme-code-foreground, var(--jp-content-font-color1, black)));\n",
       "  --sklearn-color-icon: #696969;\n",
       "\n",
       "  @media (prefers-color-scheme: dark) {\n",
       "    /* Redefinition of color scheme for dark theme */\n",
       "    --sklearn-color-text-on-default-background: var(--sg-text-color, var(--theme-code-foreground, var(--jp-content-font-color1, white)));\n",
       "    --sklearn-color-background: var(--sg-background-color, var(--theme-background, var(--jp-layout-color0, #111)));\n",
       "    --sklearn-color-border-box: var(--sg-text-color, var(--theme-code-foreground, var(--jp-content-font-color1, white)));\n",
       "    --sklearn-color-icon: #878787;\n",
       "  }\n",
       "}\n",
       "\n",
       "#sk-container-id-2 {\n",
       "  color: var(--sklearn-color-text);\n",
       "}\n",
       "\n",
       "#sk-container-id-2 pre {\n",
       "  padding: 0;\n",
       "}\n",
       "\n",
       "#sk-container-id-2 input.sk-hidden--visually {\n",
       "  border: 0;\n",
       "  clip: rect(1px 1px 1px 1px);\n",
       "  clip: rect(1px, 1px, 1px, 1px);\n",
       "  height: 1px;\n",
       "  margin: -1px;\n",
       "  overflow: hidden;\n",
       "  padding: 0;\n",
       "  position: absolute;\n",
       "  width: 1px;\n",
       "}\n",
       "\n",
       "#sk-container-id-2 div.sk-dashed-wrapped {\n",
       "  border: 1px dashed var(--sklearn-color-line);\n",
       "  margin: 0 0.4em 0.5em 0.4em;\n",
       "  box-sizing: border-box;\n",
       "  padding-bottom: 0.4em;\n",
       "  background-color: var(--sklearn-color-background);\n",
       "}\n",
       "\n",
       "#sk-container-id-2 div.sk-container {\n",
       "  /* jupyter's `normalize.less` sets `[hidden] { display: none; }`\n",
       "     but bootstrap.min.css set `[hidden] { display: none !important; }`\n",
       "     so we also need the `!important` here to be able to override the\n",
       "     default hidden behavior on the sphinx rendered scikit-learn.org.\n",
       "     See: https://github.com/scikit-learn/scikit-learn/issues/21755 */\n",
       "  display: inline-block !important;\n",
       "  position: relative;\n",
       "}\n",
       "\n",
       "#sk-container-id-2 div.sk-text-repr-fallback {\n",
       "  display: none;\n",
       "}\n",
       "\n",
       "div.sk-parallel-item,\n",
       "div.sk-serial,\n",
       "div.sk-item {\n",
       "  /* draw centered vertical line to link estimators */\n",
       "  background-image: linear-gradient(var(--sklearn-color-text-on-default-background), var(--sklearn-color-text-on-default-background));\n",
       "  background-size: 2px 100%;\n",
       "  background-repeat: no-repeat;\n",
       "  background-position: center center;\n",
       "}\n",
       "\n",
       "/* Parallel-specific style estimator block */\n",
       "\n",
       "#sk-container-id-2 div.sk-parallel-item::after {\n",
       "  content: \"\";\n",
       "  width: 100%;\n",
       "  border-bottom: 2px solid var(--sklearn-color-text-on-default-background);\n",
       "  flex-grow: 1;\n",
       "}\n",
       "\n",
       "#sk-container-id-2 div.sk-parallel {\n",
       "  display: flex;\n",
       "  align-items: stretch;\n",
       "  justify-content: center;\n",
       "  background-color: var(--sklearn-color-background);\n",
       "  position: relative;\n",
       "}\n",
       "\n",
       "#sk-container-id-2 div.sk-parallel-item {\n",
       "  display: flex;\n",
       "  flex-direction: column;\n",
       "}\n",
       "\n",
       "#sk-container-id-2 div.sk-parallel-item:first-child::after {\n",
       "  align-self: flex-end;\n",
       "  width: 50%;\n",
       "}\n",
       "\n",
       "#sk-container-id-2 div.sk-parallel-item:last-child::after {\n",
       "  align-self: flex-start;\n",
       "  width: 50%;\n",
       "}\n",
       "\n",
       "#sk-container-id-2 div.sk-parallel-item:only-child::after {\n",
       "  width: 0;\n",
       "}\n",
       "\n",
       "/* Serial-specific style estimator block */\n",
       "\n",
       "#sk-container-id-2 div.sk-serial {\n",
       "  display: flex;\n",
       "  flex-direction: column;\n",
       "  align-items: center;\n",
       "  background-color: var(--sklearn-color-background);\n",
       "  padding-right: 1em;\n",
       "  padding-left: 1em;\n",
       "}\n",
       "\n",
       "\n",
       "/* Toggleable style: style used for estimator/Pipeline/ColumnTransformer box that is\n",
       "clickable and can be expanded/collapsed.\n",
       "- Pipeline and ColumnTransformer use this feature and define the default style\n",
       "- Estimators will overwrite some part of the style using the `sk-estimator` class\n",
       "*/\n",
       "\n",
       "/* Pipeline and ColumnTransformer style (default) */\n",
       "\n",
       "#sk-container-id-2 div.sk-toggleable {\n",
       "  /* Default theme specific background. It is overwritten whether we have a\n",
       "  specific estimator or a Pipeline/ColumnTransformer */\n",
       "  background-color: var(--sklearn-color-background);\n",
       "}\n",
       "\n",
       "/* Toggleable label */\n",
       "#sk-container-id-2 label.sk-toggleable__label {\n",
       "  cursor: pointer;\n",
       "  display: block;\n",
       "  width: 100%;\n",
       "  margin-bottom: 0;\n",
       "  padding: 0.5em;\n",
       "  box-sizing: border-box;\n",
       "  text-align: center;\n",
       "}\n",
       "\n",
       "#sk-container-id-2 label.sk-toggleable__label-arrow:before {\n",
       "  /* Arrow on the left of the label */\n",
       "  content: \"▸\";\n",
       "  float: left;\n",
       "  margin-right: 0.25em;\n",
       "  color: var(--sklearn-color-icon);\n",
       "}\n",
       "\n",
       "#sk-container-id-2 label.sk-toggleable__label-arrow:hover:before {\n",
       "  color: var(--sklearn-color-text);\n",
       "}\n",
       "\n",
       "/* Toggleable content - dropdown */\n",
       "\n",
       "#sk-container-id-2 div.sk-toggleable__content {\n",
       "  max-height: 0;\n",
       "  max-width: 0;\n",
       "  overflow: hidden;\n",
       "  text-align: left;\n",
       "  /* unfitted */\n",
       "  background-color: var(--sklearn-color-unfitted-level-0);\n",
       "}\n",
       "\n",
       "#sk-container-id-2 div.sk-toggleable__content.fitted {\n",
       "  /* fitted */\n",
       "  background-color: var(--sklearn-color-fitted-level-0);\n",
       "}\n",
       "\n",
       "#sk-container-id-2 div.sk-toggleable__content pre {\n",
       "  margin: 0.2em;\n",
       "  border-radius: 0.25em;\n",
       "  color: var(--sklearn-color-text);\n",
       "  /* unfitted */\n",
       "  background-color: var(--sklearn-color-unfitted-level-0);\n",
       "}\n",
       "\n",
       "#sk-container-id-2 div.sk-toggleable__content.fitted pre {\n",
       "  /* unfitted */\n",
       "  background-color: var(--sklearn-color-fitted-level-0);\n",
       "}\n",
       "\n",
       "#sk-container-id-2 input.sk-toggleable__control:checked~div.sk-toggleable__content {\n",
       "  /* Expand drop-down */\n",
       "  max-height: 200px;\n",
       "  max-width: 100%;\n",
       "  overflow: auto;\n",
       "}\n",
       "\n",
       "#sk-container-id-2 input.sk-toggleable__control:checked~label.sk-toggleable__label-arrow:before {\n",
       "  content: \"▾\";\n",
       "}\n",
       "\n",
       "/* Pipeline/ColumnTransformer-specific style */\n",
       "\n",
       "#sk-container-id-2 div.sk-label input.sk-toggleable__control:checked~label.sk-toggleable__label {\n",
       "  color: var(--sklearn-color-text);\n",
       "  background-color: var(--sklearn-color-unfitted-level-2);\n",
       "}\n",
       "\n",
       "#sk-container-id-2 div.sk-label.fitted input.sk-toggleable__control:checked~label.sk-toggleable__label {\n",
       "  background-color: var(--sklearn-color-fitted-level-2);\n",
       "}\n",
       "\n",
       "/* Estimator-specific style */\n",
       "\n",
       "/* Colorize estimator box */\n",
       "#sk-container-id-2 div.sk-estimator input.sk-toggleable__control:checked~label.sk-toggleable__label {\n",
       "  /* unfitted */\n",
       "  background-color: var(--sklearn-color-unfitted-level-2);\n",
       "}\n",
       "\n",
       "#sk-container-id-2 div.sk-estimator.fitted input.sk-toggleable__control:checked~label.sk-toggleable__label {\n",
       "  /* fitted */\n",
       "  background-color: var(--sklearn-color-fitted-level-2);\n",
       "}\n",
       "\n",
       "#sk-container-id-2 div.sk-label label.sk-toggleable__label,\n",
       "#sk-container-id-2 div.sk-label label {\n",
       "  /* The background is the default theme color */\n",
       "  color: var(--sklearn-color-text-on-default-background);\n",
       "}\n",
       "\n",
       "/* On hover, darken the color of the background */\n",
       "#sk-container-id-2 div.sk-label:hover label.sk-toggleable__label {\n",
       "  color: var(--sklearn-color-text);\n",
       "  background-color: var(--sklearn-color-unfitted-level-2);\n",
       "}\n",
       "\n",
       "/* Label box, darken color on hover, fitted */\n",
       "#sk-container-id-2 div.sk-label.fitted:hover label.sk-toggleable__label.fitted {\n",
       "  color: var(--sklearn-color-text);\n",
       "  background-color: var(--sklearn-color-fitted-level-2);\n",
       "}\n",
       "\n",
       "/* Estimator label */\n",
       "\n",
       "#sk-container-id-2 div.sk-label label {\n",
       "  font-family: monospace;\n",
       "  font-weight: bold;\n",
       "  display: inline-block;\n",
       "  line-height: 1.2em;\n",
       "}\n",
       "\n",
       "#sk-container-id-2 div.sk-label-container {\n",
       "  text-align: center;\n",
       "}\n",
       "\n",
       "/* Estimator-specific */\n",
       "#sk-container-id-2 div.sk-estimator {\n",
       "  font-family: monospace;\n",
       "  border: 1px dotted var(--sklearn-color-border-box);\n",
       "  border-radius: 0.25em;\n",
       "  box-sizing: border-box;\n",
       "  margin-bottom: 0.5em;\n",
       "  /* unfitted */\n",
       "  background-color: var(--sklearn-color-unfitted-level-0);\n",
       "}\n",
       "\n",
       "#sk-container-id-2 div.sk-estimator.fitted {\n",
       "  /* fitted */\n",
       "  background-color: var(--sklearn-color-fitted-level-0);\n",
       "}\n",
       "\n",
       "/* on hover */\n",
       "#sk-container-id-2 div.sk-estimator:hover {\n",
       "  /* unfitted */\n",
       "  background-color: var(--sklearn-color-unfitted-level-2);\n",
       "}\n",
       "\n",
       "#sk-container-id-2 div.sk-estimator.fitted:hover {\n",
       "  /* fitted */\n",
       "  background-color: var(--sklearn-color-fitted-level-2);\n",
       "}\n",
       "\n",
       "/* Specification for estimator info (e.g. \"i\" and \"?\") */\n",
       "\n",
       "/* Common style for \"i\" and \"?\" */\n",
       "\n",
       ".sk-estimator-doc-link,\n",
       "a:link.sk-estimator-doc-link,\n",
       "a:visited.sk-estimator-doc-link {\n",
       "  float: right;\n",
       "  font-size: smaller;\n",
       "  line-height: 1em;\n",
       "  font-family: monospace;\n",
       "  background-color: var(--sklearn-color-background);\n",
       "  border-radius: 1em;\n",
       "  height: 1em;\n",
       "  width: 1em;\n",
       "  text-decoration: none !important;\n",
       "  margin-left: 1ex;\n",
       "  /* unfitted */\n",
       "  border: var(--sklearn-color-unfitted-level-1) 1pt solid;\n",
       "  color: var(--sklearn-color-unfitted-level-1);\n",
       "}\n",
       "\n",
       ".sk-estimator-doc-link.fitted,\n",
       "a:link.sk-estimator-doc-link.fitted,\n",
       "a:visited.sk-estimator-doc-link.fitted {\n",
       "  /* fitted */\n",
       "  border: var(--sklearn-color-fitted-level-1) 1pt solid;\n",
       "  color: var(--sklearn-color-fitted-level-1);\n",
       "}\n",
       "\n",
       "/* On hover */\n",
       "div.sk-estimator:hover .sk-estimator-doc-link:hover,\n",
       ".sk-estimator-doc-link:hover,\n",
       "div.sk-label-container:hover .sk-estimator-doc-link:hover,\n",
       ".sk-estimator-doc-link:hover {\n",
       "  /* unfitted */\n",
       "  background-color: var(--sklearn-color-unfitted-level-3);\n",
       "  color: var(--sklearn-color-background);\n",
       "  text-decoration: none;\n",
       "}\n",
       "\n",
       "div.sk-estimator.fitted:hover .sk-estimator-doc-link.fitted:hover,\n",
       ".sk-estimator-doc-link.fitted:hover,\n",
       "div.sk-label-container:hover .sk-estimator-doc-link.fitted:hover,\n",
       ".sk-estimator-doc-link.fitted:hover {\n",
       "  /* fitted */\n",
       "  background-color: var(--sklearn-color-fitted-level-3);\n",
       "  color: var(--sklearn-color-background);\n",
       "  text-decoration: none;\n",
       "}\n",
       "\n",
       "/* Span, style for the box shown on hovering the info icon */\n",
       ".sk-estimator-doc-link span {\n",
       "  display: none;\n",
       "  z-index: 9999;\n",
       "  position: relative;\n",
       "  font-weight: normal;\n",
       "  right: .2ex;\n",
       "  padding: .5ex;\n",
       "  margin: .5ex;\n",
       "  width: min-content;\n",
       "  min-width: 20ex;\n",
       "  max-width: 50ex;\n",
       "  color: var(--sklearn-color-text);\n",
       "  box-shadow: 2pt 2pt 4pt #999;\n",
       "  /* unfitted */\n",
       "  background: var(--sklearn-color-unfitted-level-0);\n",
       "  border: .5pt solid var(--sklearn-color-unfitted-level-3);\n",
       "}\n",
       "\n",
       ".sk-estimator-doc-link.fitted span {\n",
       "  /* fitted */\n",
       "  background: var(--sklearn-color-fitted-level-0);\n",
       "  border: var(--sklearn-color-fitted-level-3);\n",
       "}\n",
       "\n",
       ".sk-estimator-doc-link:hover span {\n",
       "  display: block;\n",
       "}\n",
       "\n",
       "/* \"?\"-specific style due to the `<a>` HTML tag */\n",
       "\n",
       "#sk-container-id-2 a.estimator_doc_link {\n",
       "  float: right;\n",
       "  font-size: 1rem;\n",
       "  line-height: 1em;\n",
       "  font-family: monospace;\n",
       "  background-color: var(--sklearn-color-background);\n",
       "  border-radius: 1rem;\n",
       "  height: 1rem;\n",
       "  width: 1rem;\n",
       "  text-decoration: none;\n",
       "  /* unfitted */\n",
       "  color: var(--sklearn-color-unfitted-level-1);\n",
       "  border: var(--sklearn-color-unfitted-level-1) 1pt solid;\n",
       "}\n",
       "\n",
       "#sk-container-id-2 a.estimator_doc_link.fitted {\n",
       "  /* fitted */\n",
       "  border: var(--sklearn-color-fitted-level-1) 1pt solid;\n",
       "  color: var(--sklearn-color-fitted-level-1);\n",
       "}\n",
       "\n",
       "/* On hover */\n",
       "#sk-container-id-2 a.estimator_doc_link:hover {\n",
       "  /* unfitted */\n",
       "  background-color: var(--sklearn-color-unfitted-level-3);\n",
       "  color: var(--sklearn-color-background);\n",
       "  text-decoration: none;\n",
       "}\n",
       "\n",
       "#sk-container-id-2 a.estimator_doc_link.fitted:hover {\n",
       "  /* fitted */\n",
       "  background-color: var(--sklearn-color-fitted-level-3);\n",
       "}\n",
       "</style><div id=\"sk-container-id-2\" class=\"sk-top-container\"><div class=\"sk-text-repr-fallback\"><pre>RandomForestRegressor(max_depth=3, n_estimators=40, random_state=23)</pre><b>In a Jupyter environment, please rerun this cell to show the HTML representation or trust the notebook. <br />On GitHub, the HTML representation is unable to render, please try loading this page with nbviewer.org.</b></div><div class=\"sk-container\" hidden><div class=\"sk-item\"><div class=\"sk-estimator fitted sk-toggleable\"><input class=\"sk-toggleable__control sk-hidden--visually\" id=\"sk-estimator-id-4\" type=\"checkbox\" checked><label for=\"sk-estimator-id-4\" class=\"sk-toggleable__label fitted sk-toggleable__label-arrow fitted\">&nbsp;&nbsp;RandomForestRegressor<a class=\"sk-estimator-doc-link fitted\" rel=\"noreferrer\" target=\"_blank\" href=\"https://scikit-learn.org/1.4/modules/generated/sklearn.ensemble.RandomForestRegressor.html\">?<span>Documentation for RandomForestRegressor</span></a><span class=\"sk-estimator-doc-link fitted\">i<span>Fitted</span></span></label><div class=\"sk-toggleable__content fitted\"><pre>RandomForestRegressor(max_depth=3, n_estimators=40, random_state=23)</pre></div> </div></div></div></div>"
      ],
      "text/plain": [
       "RandomForestRegressor(max_depth=3, n_estimators=40, random_state=23)"
      ]
     },
     "execution_count": 13,
     "metadata": {},
     "output_type": "execute_result"
    }
   ],
   "source": [
    "model.best_estimator_"
   ]
  },
  {
   "cell_type": "code",
   "execution_count": 14,
   "metadata": {},
   "outputs": [
    {
     "data": {
      "text/plain": [
       "{'criterion': 'squared_error', 'max_depth': 3, 'n_estimators': 40}"
      ]
     },
     "execution_count": 14,
     "metadata": {},
     "output_type": "execute_result"
    }
   ],
   "source": [
    "model.best_params_"
   ]
  },
  {
   "cell_type": "code",
   "execution_count": 16,
   "metadata": {},
   "outputs": [
    {
     "data": {
      "text/plain": [
       "56.89101506653416"
      ]
     },
     "execution_count": 16,
     "metadata": {},
     "output_type": "execute_result"
    }
   ],
   "source": [
    "-model.best_score_"
   ]
  },
  {
   "cell_type": "markdown",
   "metadata": {},
   "source": [
    "### RANDOMIZED SEARCH"
   ]
  },
  {
   "cell_type": "code",
   "execution_count": 17,
   "metadata": {},
   "outputs": [
    {
     "name": "stdout",
     "output_type": "stream",
     "text": [
      "Fitting 5 folds for each of 50 candidates, totalling 250 fits\n",
      "[CV 1/5] END criterion=poisson, max_depth=2, n_estimators=30;, score=(train=-54.335, test=-59.356) total time=   0.1s\n",
      "[CV 2/5] END criterion=poisson, max_depth=2, n_estimators=30;, score=(train=-55.710, test=-55.994) total time=   0.1s\n",
      "[CV 3/5] END criterion=poisson, max_depth=2, n_estimators=30;, score=(train=-53.793, test=-60.805) total time=   0.0s\n",
      "[CV 4/5] END criterion=poisson, max_depth=2, n_estimators=30;, score=(train=-54.627, test=-57.677) total time=   0.1s\n",
      "[CV 5/5] END criterion=poisson, max_depth=2, n_estimators=30;, score=(train=-54.758, test=-60.187) total time=   0.1s\n",
      "[CV 1/5] END criterion=squared_error, max_depth=2, n_estimators=60;, score=(train=-53.420, test=-59.322) total time=   0.1s\n",
      "[CV 2/5] END criterion=squared_error, max_depth=2, n_estimators=60;, score=(train=-55.045, test=-53.673) total time=   0.0s\n",
      "[CV 3/5] END criterion=squared_error, max_depth=2, n_estimators=60;, score=(train=-53.468, test=-59.714) total time=   0.0s\n",
      "[CV 4/5] END criterion=squared_error, max_depth=2, n_estimators=60;, score=(train=-54.211, test=-57.251) total time=   0.0s\n",
      "[CV 5/5] END criterion=squared_error, max_depth=2, n_estimators=60;, score=(train=-54.072, test=-59.625) total time=   0.0s\n",
      "[CV 1/5] END criterion=poisson, max_depth=8, n_estimators=10;, score=(train=-27.786, test=-65.292) total time=   0.0s\n",
      "[CV 2/5] END criterion=poisson, max_depth=8, n_estimators=10;, score=(train=-29.201, test=-55.234) total time=   0.0s\n",
      "[CV 3/5] END criterion=poisson, max_depth=8, n_estimators=10;, score=(train=-28.916, test=-62.024) total time=   0.0s\n",
      "[CV 4/5] END criterion=poisson, max_depth=8, n_estimators=10;, score=(train=-29.798, test=-58.613) total time=   0.0s\n",
      "[CV 5/5] END criterion=poisson, max_depth=8, n_estimators=10;, score=(train=-29.377, test=-59.487) total time=   0.0s\n",
      "[CV 1/5] END criterion=poisson, max_depth=9, n_estimators=70;, score=(train=-23.929, test=-60.508) total time=   0.3s\n",
      "[CV 2/5] END criterion=poisson, max_depth=9, n_estimators=70;, score=(train=-26.148, test=-51.991) total time=   0.2s\n",
      "[CV 3/5] END criterion=poisson, max_depth=9, n_estimators=70;, score=(train=-24.232, test=-62.399) total time=   0.2s\n",
      "[CV 4/5] END criterion=poisson, max_depth=9, n_estimators=70;, score=(train=-25.250, test=-57.820) total time=   0.2s\n",
      "[CV 5/5] END criterion=poisson, max_depth=9, n_estimators=70;, score=(train=-24.001, test=-60.124) total time=   0.2s\n",
      "[CV 1/5] END criterion=squared_error, max_depth=6, n_estimators=50;, score=(train=-34.683, test=-58.716) total time=   0.0s\n",
      "[CV 2/5] END criterion=squared_error, max_depth=6, n_estimators=50;, score=(train=-36.112, test=-52.158) total time=   0.1s\n",
      "[CV 3/5] END criterion=squared_error, max_depth=6, n_estimators=50;, score=(train=-34.475, test=-61.659) total time=   0.1s\n",
      "[CV 4/5] END criterion=squared_error, max_depth=6, n_estimators=50;, score=(train=-35.422, test=-56.508) total time=   0.1s\n",
      "[CV 5/5] END criterion=squared_error, max_depth=6, n_estimators=50;, score=(train=-33.379, test=-59.728) total time=   0.0s\n",
      "[CV 1/5] END criterion=poisson, max_depth=5, n_estimators=10;, score=(train=-39.687, test=-63.909) total time=   0.0s\n",
      "[CV 2/5] END criterion=poisson, max_depth=5, n_estimators=10;, score=(train=-41.585, test=-54.851) total time=   0.0s\n",
      "[CV 3/5] END criterion=poisson, max_depth=5, n_estimators=10;, score=(train=-40.413, test=-61.567) total time=   0.0s\n",
      "[CV 4/5] END criterion=poisson, max_depth=5, n_estimators=10;, score=(train=-42.043, test=-57.719) total time=   0.0s\n",
      "[CV 5/5] END criterion=poisson, max_depth=5, n_estimators=10;, score=(train=-40.723, test=-57.881) total time=   0.0s\n",
      "[CV 1/5] END criterion=squared_error, max_depth=3, n_estimators=70;, score=(train=-49.110, test=-57.625) total time=   0.1s\n",
      "[CV 2/5] END criterion=squared_error, max_depth=3, n_estimators=70;, score=(train=-50.506, test=-52.974) total time=   0.1s\n",
      "[CV 3/5] END criterion=squared_error, max_depth=3, n_estimators=70;, score=(train=-48.827, test=-60.127) total time=   0.1s\n",
      "[CV 4/5] END criterion=squared_error, max_depth=3, n_estimators=70;, score=(train=-50.047, test=-55.690) total time=   0.1s\n",
      "[CV 5/5] END criterion=squared_error, max_depth=3, n_estimators=70;, score=(train=-49.557, test=-58.653) total time=   0.1s\n",
      "[CV 1/5] END criterion=squared_error, max_depth=7, n_estimators=50;, score=(train=-30.418, test=-58.971) total time=   0.1s\n",
      "[CV 2/5] END criterion=squared_error, max_depth=7, n_estimators=50;, score=(train=-31.698, test=-52.246) total time=   0.1s\n",
      "[CV 3/5] END criterion=squared_error, max_depth=7, n_estimators=50;, score=(train=-30.229, test=-61.709) total time=   0.0s\n",
      "[CV 4/5] END criterion=squared_error, max_depth=7, n_estimators=50;, score=(train=-30.835, test=-55.837) total time=   0.1s\n",
      "[CV 5/5] END criterion=squared_error, max_depth=7, n_estimators=50;, score=(train=-29.153, test=-61.009) total time=   0.0s\n",
      "[CV 1/5] END criterion=squared_error, max_depth=6, n_estimators=80;, score=(train=-34.516, test=-58.709) total time=   0.1s\n",
      "[CV 2/5] END criterion=squared_error, max_depth=6, n_estimators=80;, score=(train=-36.312, test=-52.210) total time=   0.1s\n",
      "[CV 3/5] END criterion=squared_error, max_depth=6, n_estimators=80;, score=(train=-34.376, test=-61.707) total time=   1.1s\n",
      "[CV 4/5] END criterion=squared_error, max_depth=6, n_estimators=80;, score=(train=-35.285, test=-56.487) total time=   0.2s\n",
      "[CV 5/5] END criterion=squared_error, max_depth=6, n_estimators=80;, score=(train=-33.471, test=-59.442) total time=   0.2s\n",
      "[CV 1/5] END criterion=squared_error, max_depth=7, n_estimators=20;, score=(train=-30.887, test=-59.484) total time=   0.0s\n",
      "[CV 2/5] END criterion=squared_error, max_depth=7, n_estimators=20;, score=(train=-32.754, test=-52.396) total time=   0.0s\n",
      "[CV 3/5] END criterion=squared_error, max_depth=7, n_estimators=20;, score=(train=-30.563, test=-63.321) total time=   0.0s\n",
      "[CV 4/5] END criterion=squared_error, max_depth=7, n_estimators=20;, score=(train=-31.969, test=-57.567) total time=   0.0s\n",
      "[CV 5/5] END criterion=squared_error, max_depth=7, n_estimators=20;, score=(train=-30.571, test=-60.913) total time=   0.0s\n",
      "[CV 1/5] END criterion=poisson, max_depth=8, n_estimators=50;, score=(train=-26.024, test=-62.284) total time=   0.2s\n",
      "[CV 2/5] END criterion=poisson, max_depth=8, n_estimators=50;, score=(train=-28.206, test=-51.687) total time=   0.2s\n",
      "[CV 3/5] END criterion=poisson, max_depth=8, n_estimators=50;, score=(train=-26.895, test=-62.637) total time=   0.1s\n",
      "[CV 4/5] END criterion=poisson, max_depth=8, n_estimators=50;, score=(train=-27.587, test=-56.305) total time=   0.2s\n",
      "[CV 5/5] END criterion=poisson, max_depth=8, n_estimators=50;, score=(train=-26.087, test=-60.512) total time=   0.1s\n",
      "[CV 1/5] END criterion=absolute_error, max_depth=4, n_estimators=60;, score=(train=-45.452, test=-59.547) total time=   0.4s\n",
      "[CV 2/5] END criterion=absolute_error, max_depth=4, n_estimators=60;, score=(train=-46.151, test=-51.961) total time=   0.3s\n",
      "[CV 3/5] END criterion=absolute_error, max_depth=4, n_estimators=60;, score=(train=-44.436, test=-60.114) total time=   0.4s\n",
      "[CV 4/5] END criterion=absolute_error, max_depth=4, n_estimators=60;, score=(train=-46.220, test=-55.684) total time=   0.4s\n",
      "[CV 5/5] END criterion=absolute_error, max_depth=4, n_estimators=60;, score=(train=-45.246, test=-59.794) total time=   0.4s\n",
      "[CV 1/5] END criterion=poisson, max_depth=4, n_estimators=20;, score=(train=-44.647, test=-61.461) total time=   0.0s\n",
      "[CV 2/5] END criterion=poisson, max_depth=4, n_estimators=20;, score=(train=-46.888, test=-52.812) total time=   0.0s\n",
      "[CV 3/5] END criterion=poisson, max_depth=4, n_estimators=20;, score=(train=-44.459, test=-62.148) total time=   0.0s\n",
      "[CV 4/5] END criterion=poisson, max_depth=4, n_estimators=20;, score=(train=-45.959, test=-55.952) total time=   0.0s\n",
      "[CV 5/5] END criterion=poisson, max_depth=4, n_estimators=20;, score=(train=-45.262, test=-58.729) total time=   0.0s\n",
      "[CV 1/5] END criterion=squared_error, max_depth=9, n_estimators=60;, score=(train=-24.523, test=-58.697) total time=   0.2s\n",
      "[CV 2/5] END criterion=squared_error, max_depth=9, n_estimators=60;, score=(train=-25.848, test=-51.917) total time=   0.1s\n",
      "[CV 3/5] END criterion=squared_error, max_depth=9, n_estimators=60;, score=(train=-24.313, test=-63.366) total time=   0.2s\n",
      "[CV 4/5] END criterion=squared_error, max_depth=9, n_estimators=60;, score=(train=-25.570, test=-56.437) total time=   0.2s\n",
      "[CV 5/5] END criterion=squared_error, max_depth=9, n_estimators=60;, score=(train=-23.724, test=-60.912) total time=   0.1s\n",
      "[CV 1/5] END criterion=squared_error, max_depth=3, n_estimators=50;, score=(train=-49.229, test=-57.404) total time=   0.1s\n",
      "[CV 2/5] END criterion=squared_error, max_depth=3, n_estimators=50;, score=(train=-50.654, test=-52.667) total time=   0.1s\n",
      "[CV 3/5] END criterion=squared_error, max_depth=3, n_estimators=50;, score=(train=-48.797, test=-60.046) total time=   0.0s\n",
      "[CV 4/5] END criterion=squared_error, max_depth=3, n_estimators=50;, score=(train=-50.256, test=-55.598) total time=   0.0s\n",
      "[CV 5/5] END criterion=squared_error, max_depth=3, n_estimators=50;, score=(train=-49.694, test=-59.141) total time=   0.0s\n",
      "[CV 1/5] END criterion=absolute_error, max_depth=9, n_estimators=80;, score=(train=-27.546, test=-60.571) total time=   2.0s\n",
      "[CV 2/5] END criterion=absolute_error, max_depth=9, n_estimators=80;, score=(train=-28.172, test=-52.237) total time=   1.1s\n",
      "[CV 3/5] END criterion=absolute_error, max_depth=9, n_estimators=80;, score=(train=-26.937, test=-60.442) total time=   0.8s\n",
      "[CV 4/5] END criterion=absolute_error, max_depth=9, n_estimators=80;, score=(train=-28.319, test=-55.196) total time=   1.4s\n",
      "[CV 5/5] END criterion=absolute_error, max_depth=9, n_estimators=80;, score=(train=-26.699, test=-60.957) total time=   1.4s\n",
      "[CV 1/5] END criterion=absolute_error, max_depth=6, n_estimators=10;, score=(train=-39.858, test=-59.719) total time=   0.0s\n",
      "[CV 2/5] END criterion=absolute_error, max_depth=6, n_estimators=10;, score=(train=-39.168, test=-51.941) total time=   0.0s\n",
      "[CV 3/5] END criterion=absolute_error, max_depth=6, n_estimators=10;, score=(train=-36.744, test=-60.105) total time=   0.0s\n",
      "[CV 4/5] END criterion=absolute_error, max_depth=6, n_estimators=10;, score=(train=-39.086, test=-56.507) total time=   0.0s\n",
      "[CV 5/5] END criterion=absolute_error, max_depth=6, n_estimators=10;, score=(train=-37.782, test=-60.210) total time=   0.1s\n",
      "[CV 1/5] END criterion=absolute_error, max_depth=6, n_estimators=100;, score=(train=-36.614, test=-59.977) total time=   0.9s\n",
      "[CV 2/5] END criterion=absolute_error, max_depth=6, n_estimators=100;, score=(train=-37.455, test=-52.345) total time=   1.3s\n",
      "[CV 3/5] END criterion=absolute_error, max_depth=6, n_estimators=100;, score=(train=-35.863, test=-60.752) total time=   1.6s\n",
      "[CV 4/5] END criterion=absolute_error, max_depth=6, n_estimators=100;, score=(train=-37.551, test=-55.979) total time=   1.6s\n",
      "[CV 5/5] END criterion=absolute_error, max_depth=6, n_estimators=100;, score=(train=-36.330, test=-59.699) total time=   0.9s\n",
      "[CV 1/5] END criterion=squared_error, max_depth=3, n_estimators=100;, score=(train=-49.237, test=-58.202) total time=   0.1s\n",
      "[CV 2/5] END criterion=squared_error, max_depth=3, n_estimators=100;, score=(train=-50.475, test=-53.133) total time=   0.1s\n",
      "[CV 3/5] END criterion=squared_error, max_depth=3, n_estimators=100;, score=(train=-48.879, test=-59.936) total time=   0.1s\n",
      "[CV 4/5] END criterion=squared_error, max_depth=3, n_estimators=100;, score=(train=-50.102, test=-55.950) total time=   0.1s\n",
      "[CV 5/5] END criterion=squared_error, max_depth=3, n_estimators=100;, score=(train=-49.588, test=-59.270) total time=   0.3s\n",
      "[CV 1/5] END criterion=poisson, max_depth=7, n_estimators=50;, score=(train=-29.157, test=-61.931) total time=   0.1s\n",
      "[CV 2/5] END criterion=poisson, max_depth=7, n_estimators=50;, score=(train=-31.770, test=-51.527) total time=   0.2s\n",
      "[CV 3/5] END criterion=poisson, max_depth=7, n_estimators=50;, score=(train=-30.138, test=-62.482) total time=   0.1s\n",
      "[CV 4/5] END criterion=poisson, max_depth=7, n_estimators=50;, score=(train=-30.880, test=-56.956) total time=   0.1s\n",
      "[CV 5/5] END criterion=poisson, max_depth=7, n_estimators=50;, score=(train=-29.006, test=-60.020) total time=   0.1s\n",
      "[CV 1/5] END criterion=squared_error, max_depth=9, n_estimators=50;, score=(train=-24.911, test=-59.092) total time=   0.1s\n",
      "[CV 2/5] END criterion=squared_error, max_depth=9, n_estimators=50;, score=(train=-25.908, test=-52.068) total time=   0.1s\n",
      "[CV 3/5] END criterion=squared_error, max_depth=9, n_estimators=50;, score=(train=-24.782, test=-62.902) total time=   0.1s\n",
      "[CV 4/5] END criterion=squared_error, max_depth=9, n_estimators=50;, score=(train=-25.674, test=-56.069) total time=   0.3s\n",
      "[CV 5/5] END criterion=squared_error, max_depth=9, n_estimators=50;, score=(train=-23.936, test=-61.359) total time=   0.4s\n",
      "[CV 1/5] END criterion=squared_error, max_depth=8, n_estimators=80;, score=(train=-26.951, test=-58.313) total time=   0.2s\n",
      "[CV 2/5] END criterion=squared_error, max_depth=8, n_estimators=80;, score=(train=-28.651, test=-52.582) total time=   0.2s\n",
      "[CV 3/5] END criterion=squared_error, max_depth=8, n_estimators=80;, score=(train=-26.474, test=-62.631) total time=   0.2s\n",
      "[CV 4/5] END criterion=squared_error, max_depth=8, n_estimators=80;, score=(train=-27.736, test=-56.554) total time=   0.2s\n",
      "[CV 5/5] END criterion=squared_error, max_depth=8, n_estimators=80;, score=(train=-25.910, test=-60.836) total time=   0.3s\n",
      "[CV 1/5] END criterion=absolute_error, max_depth=8, n_estimators=90;, score=(train=-30.037, test=-60.430) total time=   1.2s\n",
      "[CV 2/5] END criterion=absolute_error, max_depth=8, n_estimators=90;, score=(train=-30.784, test=-51.950) total time=   0.8s\n",
      "[CV 3/5] END criterion=absolute_error, max_depth=8, n_estimators=90;, score=(train=-29.159, test=-60.965) total time=   1.1s\n",
      "[CV 4/5] END criterion=absolute_error, max_depth=8, n_estimators=90;, score=(train=-30.765, test=-56.233) total time=   0.8s\n",
      "[CV 5/5] END criterion=absolute_error, max_depth=8, n_estimators=90;, score=(train=-29.205, test=-60.037) total time=   0.8s\n",
      "[CV 1/5] END criterion=squared_error, max_depth=7, n_estimators=90;, score=(train=-30.370, test=-58.607) total time=   0.2s\n",
      "[CV 2/5] END criterion=squared_error, max_depth=7, n_estimators=90;, score=(train=-31.994, test=-52.249) total time=   0.2s\n",
      "[CV 3/5] END criterion=squared_error, max_depth=7, n_estimators=90;, score=(train=-29.847, test=-61.582) total time=   0.2s\n",
      "[CV 4/5] END criterion=squared_error, max_depth=7, n_estimators=90;, score=(train=-30.732, test=-56.447) total time=   0.2s\n",
      "[CV 5/5] END criterion=squared_error, max_depth=7, n_estimators=90;, score=(train=-29.027, test=-60.720) total time=   0.2s\n",
      "[CV 1/5] END criterion=absolute_error, max_depth=2, n_estimators=30;, score=(train=-54.613, test=-60.544) total time=   0.1s\n",
      "[CV 2/5] END criterion=absolute_error, max_depth=2, n_estimators=30;, score=(train=-55.285, test=-53.614) total time=   0.1s\n",
      "[CV 3/5] END criterion=absolute_error, max_depth=2, n_estimators=30;, score=(train=-53.498, test=-60.705) total time=   0.1s\n",
      "[CV 4/5] END criterion=absolute_error, max_depth=2, n_estimators=30;, score=(train=-53.960, test=-56.847) total time=   0.0s\n",
      "[CV 5/5] END criterion=absolute_error, max_depth=2, n_estimators=30;, score=(train=-53.949, test=-59.103) total time=   0.0s\n",
      "[CV 1/5] END criterion=absolute_error, max_depth=3, n_estimators=90;, score=(train=-50.033, test=-59.797) total time=   0.5s\n",
      "[CV 2/5] END criterion=absolute_error, max_depth=3, n_estimators=90;, score=(train=-50.736, test=-53.626) total time=   0.5s\n",
      "[CV 3/5] END criterion=absolute_error, max_depth=3, n_estimators=90;, score=(train=-49.120, test=-60.609) total time=   0.4s\n",
      "[CV 4/5] END criterion=absolute_error, max_depth=3, n_estimators=90;, score=(train=-50.126, test=-55.690) total time=   0.5s\n",
      "[CV 5/5] END criterion=absolute_error, max_depth=3, n_estimators=90;, score=(train=-49.663, test=-59.239) total time=   0.4s\n",
      "[CV 1/5] END criterion=poisson, max_depth=3, n_estimators=100;, score=(train=-49.356, test=-59.963) total time=   0.2s\n",
      "[CV 2/5] END criterion=poisson, max_depth=3, n_estimators=100;, score=(train=-50.892, test=-54.156) total time=   0.1s\n",
      "[CV 3/5] END criterion=poisson, max_depth=3, n_estimators=100;, score=(train=-49.113, test=-60.651) total time=   0.1s\n",
      "[CV 4/5] END criterion=poisson, max_depth=3, n_estimators=100;, score=(train=-50.365, test=-56.451) total time=   0.1s\n",
      "[CV 5/5] END criterion=poisson, max_depth=3, n_estimators=100;, score=(train=-49.878, test=-59.294) total time=   0.2s\n",
      "[CV 1/5] END criterion=absolute_error, max_depth=9, n_estimators=70;, score=(train=-27.556, test=-60.540) total time=   1.1s\n",
      "[CV 2/5] END criterion=absolute_error, max_depth=9, n_estimators=70;, score=(train=-28.208, test=-52.003) total time=   0.9s\n",
      "[CV 3/5] END criterion=absolute_error, max_depth=9, n_estimators=70;, score=(train=-26.685, test=-60.239) total time=   0.8s\n",
      "[CV 4/5] END criterion=absolute_error, max_depth=9, n_estimators=70;, score=(train=-28.313, test=-55.381) total time=   0.8s\n",
      "[CV 5/5] END criterion=absolute_error, max_depth=9, n_estimators=70;, score=(train=-26.683, test=-60.791) total time=   0.9s\n",
      "[CV 1/5] END criterion=poisson, max_depth=5, n_estimators=80;, score=(train=-38.822, test=-60.585) total time=   0.2s\n",
      "[CV 2/5] END criterion=poisson, max_depth=5, n_estimators=80;, score=(train=-41.127, test=-52.879) total time=   0.2s\n",
      "[CV 3/5] END criterion=poisson, max_depth=5, n_estimators=80;, score=(train=-39.234, test=-61.984) total time=   0.2s\n",
      "[CV 4/5] END criterion=poisson, max_depth=5, n_estimators=80;, score=(train=-40.397, test=-56.544) total time=   0.1s\n",
      "[CV 5/5] END criterion=poisson, max_depth=5, n_estimators=80;, score=(train=-38.917, test=-59.203) total time=   0.1s\n",
      "[CV 1/5] END criterion=squared_error, max_depth=4, n_estimators=90;, score=(train=-44.431, test=-57.794) total time=   0.1s\n",
      "[CV 2/5] END criterion=squared_error, max_depth=4, n_estimators=90;, score=(train=-46.118, test=-52.510) total time=   0.1s\n",
      "[CV 3/5] END criterion=squared_error, max_depth=4, n_estimators=90;, score=(train=-43.963, test=-60.846) total time=   0.1s\n",
      "[CV 4/5] END criterion=squared_error, max_depth=4, n_estimators=90;, score=(train=-45.263, test=-55.982) total time=   0.1s\n",
      "[CV 5/5] END criterion=squared_error, max_depth=4, n_estimators=90;, score=(train=-44.114, test=-59.586) total time=   0.1s\n",
      "[CV 1/5] END criterion=poisson, max_depth=5, n_estimators=60;, score=(train=-38.667, test=-60.942) total time=   0.1s\n",
      "[CV 2/5] END criterion=poisson, max_depth=5, n_estimators=60;, score=(train=-41.008, test=-52.541) total time=   0.1s\n",
      "[CV 3/5] END criterion=poisson, max_depth=5, n_estimators=60;, score=(train=-39.085, test=-62.216) total time=   0.0s\n",
      "[CV 4/5] END criterion=poisson, max_depth=5, n_estimators=60;, score=(train=-40.362, test=-56.553) total time=   0.1s\n",
      "[CV 5/5] END criterion=poisson, max_depth=5, n_estimators=60;, score=(train=-38.747, test=-59.227) total time=   0.1s\n",
      "[CV 1/5] END criterion=squared_error, max_depth=6, n_estimators=70;, score=(train=-34.450, test=-58.708) total time=   0.1s\n",
      "[CV 2/5] END criterion=squared_error, max_depth=6, n_estimators=70;, score=(train=-36.270, test=-52.075) total time=   0.1s\n",
      "[CV 3/5] END criterion=squared_error, max_depth=6, n_estimators=70;, score=(train=-34.386, test=-61.772) total time=   0.1s\n",
      "[CV 4/5] END criterion=squared_error, max_depth=6, n_estimators=70;, score=(train=-35.396, test=-56.292) total time=   0.1s\n",
      "[CV 5/5] END criterion=squared_error, max_depth=6, n_estimators=70;, score=(train=-33.382, test=-59.139) total time=   0.2s\n",
      "[CV 1/5] END criterion=poisson, max_depth=3, n_estimators=80;, score=(train=-49.358, test=-59.629) total time=   0.1s\n",
      "[CV 2/5] END criterion=poisson, max_depth=3, n_estimators=80;, score=(train=-50.950, test=-54.260) total time=   0.1s\n",
      "[CV 3/5] END criterion=poisson, max_depth=3, n_estimators=80;, score=(train=-49.098, test=-60.759) total time=   0.1s\n",
      "[CV 4/5] END criterion=poisson, max_depth=3, n_estimators=80;, score=(train=-50.345, test=-56.056) total time=   0.1s\n",
      "[CV 5/5] END criterion=poisson, max_depth=3, n_estimators=80;, score=(train=-49.882, test=-59.037) total time=   0.1s\n",
      "[CV 1/5] END criterion=squared_error, max_depth=2, n_estimators=90;, score=(train=-53.408, test=-59.432) total time=   0.1s\n",
      "[CV 2/5] END criterion=squared_error, max_depth=2, n_estimators=90;, score=(train=-55.114, test=-54.538) total time=   0.0s\n",
      "[CV 3/5] END criterion=squared_error, max_depth=2, n_estimators=90;, score=(train=-53.580, test=-59.929) total time=   0.0s\n",
      "[CV 4/5] END criterion=squared_error, max_depth=2, n_estimators=90;, score=(train=-54.155, test=-57.212) total time=   0.1s\n",
      "[CV 5/5] END criterion=squared_error, max_depth=2, n_estimators=90;, score=(train=-54.105, test=-59.983) total time=   0.0s\n",
      "[CV 1/5] END criterion=poisson, max_depth=6, n_estimators=70;, score=(train=-33.628, test=-60.481) total time=   0.1s\n",
      "[CV 2/5] END criterion=poisson, max_depth=6, n_estimators=70;, score=(train=-36.321, test=-52.082) total time=   0.2s\n",
      "[CV 3/5] END criterion=poisson, max_depth=6, n_estimators=70;, score=(train=-34.348, test=-62.149) total time=   0.1s\n",
      "[CV 4/5] END criterion=poisson, max_depth=6, n_estimators=70;, score=(train=-35.235, test=-57.115) total time=   0.1s\n",
      "[CV 5/5] END criterion=poisson, max_depth=6, n_estimators=70;, score=(train=-33.538, test=-59.652) total time=   0.1s\n",
      "[CV 1/5] END criterion=poisson, max_depth=4, n_estimators=60;, score=(train=-44.290, test=-60.307) total time=   0.0s\n",
      "[CV 2/5] END criterion=poisson, max_depth=4, n_estimators=60;, score=(train=-46.366, test=-52.271) total time=   0.1s\n",
      "[CV 3/5] END criterion=poisson, max_depth=4, n_estimators=60;, score=(train=-44.051, test=-61.819) total time=   0.0s\n",
      "[CV 4/5] END criterion=poisson, max_depth=4, n_estimators=60;, score=(train=-45.540, test=-55.982) total time=   0.1s\n",
      "[CV 5/5] END criterion=poisson, max_depth=4, n_estimators=60;, score=(train=-44.547, test=-58.849) total time=   0.0s\n",
      "[CV 1/5] END criterion=squared_error, max_depth=7, n_estimators=60;, score=(train=-30.237, test=-58.809) total time=   0.1s\n",
      "[CV 2/5] END criterion=squared_error, max_depth=7, n_estimators=60;, score=(train=-31.692, test=-52.136) total time=   0.1s\n",
      "[CV 3/5] END criterion=squared_error, max_depth=7, n_estimators=60;, score=(train=-30.023, test=-61.838) total time=   0.1s\n",
      "[CV 4/5] END criterion=squared_error, max_depth=7, n_estimators=60;, score=(train=-30.799, test=-56.329) total time=   0.2s\n",
      "[CV 5/5] END criterion=squared_error, max_depth=7, n_estimators=60;, score=(train=-28.941, test=-60.614) total time=   0.1s\n",
      "[CV 1/5] END criterion=squared_error, max_depth=9, n_estimators=80;, score=(train=-24.573, test=-59.000) total time=   0.2s\n",
      "[CV 2/5] END criterion=squared_error, max_depth=9, n_estimators=80;, score=(train=-25.962, test=-52.217) total time=   0.2s\n",
      "[CV 3/5] END criterion=squared_error, max_depth=9, n_estimators=80;, score=(train=-24.144, test=-63.052) total time=   0.2s\n",
      "[CV 4/5] END criterion=squared_error, max_depth=9, n_estimators=80;, score=(train=-25.531, test=-56.286) total time=   0.2s\n",
      "[CV 5/5] END criterion=squared_error, max_depth=9, n_estimators=80;, score=(train=-23.672, test=-60.815) total time=   0.2s\n",
      "[CV 1/5] END criterion=absolute_error, max_depth=7, n_estimators=90;, score=(train=-32.881, test=-60.681) total time=   1.6s\n",
      "[CV 2/5] END criterion=absolute_error, max_depth=7, n_estimators=90;, score=(train=-33.783, test=-52.246) total time=   1.4s\n",
      "[CV 3/5] END criterion=absolute_error, max_depth=7, n_estimators=90;, score=(train=-32.034, test=-61.151) total time=   0.8s\n",
      "[CV 4/5] END criterion=absolute_error, max_depth=7, n_estimators=90;, score=(train=-33.915, test=-55.765) total time=   0.7s\n",
      "[CV 5/5] END criterion=absolute_error, max_depth=7, n_estimators=90;, score=(train=-32.540, test=-60.216) total time=   0.8s\n",
      "[CV 1/5] END criterion=squared_error, max_depth=9, n_estimators=40;, score=(train=-25.164, test=-59.217) total time=   0.0s\n",
      "[CV 2/5] END criterion=squared_error, max_depth=9, n_estimators=40;, score=(train=-25.913, test=-51.189) total time=   0.1s\n",
      "[CV 3/5] END criterion=squared_error, max_depth=9, n_estimators=40;, score=(train=-24.949, test=-63.504) total time=   0.0s\n",
      "[CV 4/5] END criterion=squared_error, max_depth=9, n_estimators=40;, score=(train=-25.732, test=-56.822) total time=   0.1s\n",
      "[CV 5/5] END criterion=squared_error, max_depth=9, n_estimators=40;, score=(train=-24.139, test=-60.921) total time=   0.0s\n",
      "[CV 1/5] END criterion=poisson, max_depth=5, n_estimators=30;, score=(train=-39.255, test=-61.350) total time=   0.0s\n",
      "[CV 2/5] END criterion=poisson, max_depth=5, n_estimators=30;, score=(train=-41.299, test=-52.678) total time=   0.0s\n",
      "[CV 3/5] END criterion=poisson, max_depth=5, n_estimators=30;, score=(train=-39.587, test=-62.040) total time=   0.0s\n",
      "[CV 4/5] END criterion=poisson, max_depth=5, n_estimators=30;, score=(train=-40.908, test=-57.530) total time=   0.0s\n",
      "[CV 5/5] END criterion=poisson, max_depth=5, n_estimators=30;, score=(train=-38.811, test=-59.143) total time=   0.1s\n",
      "[CV 1/5] END criterion=poisson, max_depth=9, n_estimators=60;, score=(train=-23.987, test=-61.301) total time=   0.5s\n",
      "[CV 2/5] END criterion=poisson, max_depth=9, n_estimators=60;, score=(train=-26.056, test=-51.884) total time=   0.2s\n",
      "[CV 3/5] END criterion=poisson, max_depth=9, n_estimators=60;, score=(train=-24.086, test=-62.776) total time=   0.2s\n",
      "[CV 4/5] END criterion=poisson, max_depth=9, n_estimators=60;, score=(train=-25.201, test=-57.696) total time=   0.3s\n",
      "[CV 5/5] END criterion=poisson, max_depth=9, n_estimators=60;, score=(train=-23.929, test=-60.224) total time=   0.3s\n",
      "[CV 1/5] END criterion=absolute_error, max_depth=7, n_estimators=70;, score=(train=-32.736, test=-60.646) total time=   0.6s\n",
      "[CV 2/5] END criterion=absolute_error, max_depth=7, n_estimators=70;, score=(train=-33.946, test=-51.494) total time=   0.5s\n",
      "[CV 3/5] END criterion=absolute_error, max_depth=7, n_estimators=70;, score=(train=-31.777, test=-60.921) total time=   0.7s\n",
      "[CV 4/5] END criterion=absolute_error, max_depth=7, n_estimators=70;, score=(train=-34.078, test=-55.884) total time=   0.9s\n",
      "[CV 5/5] END criterion=absolute_error, max_depth=7, n_estimators=70;, score=(train=-32.494, test=-59.734) total time=   0.8s\n",
      "[CV 1/5] END criterion=poisson, max_depth=3, n_estimators=30;, score=(train=-49.817, test=-59.647) total time=   0.0s\n",
      "[CV 2/5] END criterion=poisson, max_depth=3, n_estimators=30;, score=(train=-51.183, test=-54.166) total time=   0.0s\n",
      "[CV 3/5] END criterion=poisson, max_depth=3, n_estimators=30;, score=(train=-49.120, test=-60.643) total time=   0.0s\n",
      "[CV 4/5] END criterion=poisson, max_depth=3, n_estimators=30;, score=(train=-50.500, test=-56.265) total time=   0.0s\n",
      "[CV 5/5] END criterion=poisson, max_depth=3, n_estimators=30;, score=(train=-50.219, test=-59.017) total time=   0.0s\n",
      "[CV 1/5] END criterion=squared_error, max_depth=8, n_estimators=50;, score=(train=-27.189, test=-57.857) total time=   0.1s\n",
      "[CV 2/5] END criterion=squared_error, max_depth=8, n_estimators=50;, score=(train=-28.601, test=-52.564) total time=   0.1s\n",
      "[CV 3/5] END criterion=squared_error, max_depth=8, n_estimators=50;, score=(train=-27.015, test=-62.406) total time=   0.1s\n",
      "[CV 4/5] END criterion=squared_error, max_depth=8, n_estimators=50;, score=(train=-27.914, test=-56.455) total time=   0.1s\n",
      "[CV 5/5] END criterion=squared_error, max_depth=8, n_estimators=50;, score=(train=-25.986, test=-61.152) total time=   0.1s\n",
      "[CV 1/5] END criterion=poisson, max_depth=4, n_estimators=90;, score=(train=-44.273, test=-59.929) total time=   0.1s\n",
      "[CV 2/5] END criterion=poisson, max_depth=4, n_estimators=90;, score=(train=-46.364, test=-52.903) total time=   0.1s\n",
      "[CV 3/5] END criterion=poisson, max_depth=4, n_estimators=90;, score=(train=-44.177, test=-61.362) total time=   0.1s\n",
      "[CV 4/5] END criterion=poisson, max_depth=4, n_estimators=90;, score=(train=-45.470, test=-56.139) total time=   0.1s\n",
      "[CV 5/5] END criterion=poisson, max_depth=4, n_estimators=90;, score=(train=-44.435, test=-59.053) total time=   0.1s\n",
      "[CV 1/5] END criterion=poisson, max_depth=6, n_estimators=50;, score=(train=-33.592, test=-61.415) total time=   0.1s\n",
      "[CV 2/5] END criterion=poisson, max_depth=6, n_estimators=50;, score=(train=-36.128, test=-51.785) total time=   0.1s\n",
      "[CV 3/5] END criterion=poisson, max_depth=6, n_estimators=50;, score=(train=-34.428, test=-61.673) total time=   0.1s\n",
      "[CV 4/5] END criterion=poisson, max_depth=6, n_estimators=50;, score=(train=-35.453, test=-57.023) total time=   0.1s\n",
      "[CV 5/5] END criterion=poisson, max_depth=6, n_estimators=50;, score=(train=-33.512, test=-60.122) total time=   0.1s\n",
      "[CV 1/5] END criterion=squared_error, max_depth=3, n_estimators=90;, score=(train=-49.175, test=-57.991) total time=   0.1s\n",
      "[CV 2/5] END criterion=squared_error, max_depth=3, n_estimators=90;, score=(train=-50.518, test=-53.030) total time=   0.1s\n",
      "[CV 3/5] END criterion=squared_error, max_depth=3, n_estimators=90;, score=(train=-48.813, test=-60.030) total time=   0.1s\n",
      "[CV 4/5] END criterion=squared_error, max_depth=3, n_estimators=90;, score=(train=-50.087, test=-55.848) total time=   0.1s\n",
      "[CV 5/5] END criterion=squared_error, max_depth=3, n_estimators=90;, score=(train=-49.596, test=-59.156) total time=   0.1s\n",
      "[CV 1/5] END criterion=absolute_error, max_depth=7, n_estimators=10;, score=(train=-35.954, test=-60.357) total time=   0.0s\n",
      "[CV 2/5] END criterion=absolute_error, max_depth=7, n_estimators=10;, score=(train=-36.037, test=-53.919) total time=   0.0s\n",
      "[CV 3/5] END criterion=absolute_error, max_depth=7, n_estimators=10;, score=(train=-33.684, test=-61.360) total time=   0.0s\n",
      "[CV 4/5] END criterion=absolute_error, max_depth=7, n_estimators=10;, score=(train=-36.370, test=-56.956) total time=   0.0s\n",
      "[CV 5/5] END criterion=absolute_error, max_depth=7, n_estimators=10;, score=(train=-34.720, test=-59.899) total time=   0.0s\n",
      "[CV 1/5] END criterion=absolute_error, max_depth=9, n_estimators=100;, score=(train=-27.642, test=-60.158) total time=   1.4s\n",
      "[CV 2/5] END criterion=absolute_error, max_depth=9, n_estimators=100;, score=(train=-28.160, test=-52.325) total time=   1.1s\n",
      "[CV 3/5] END criterion=absolute_error, max_depth=9, n_estimators=100;, score=(train=-26.717, test=-60.539) total time=   1.0s\n",
      "[CV 4/5] END criterion=absolute_error, max_depth=9, n_estimators=100;, score=(train=-28.287, test=-55.860) total time=   1.3s\n",
      "[CV 5/5] END criterion=absolute_error, max_depth=9, n_estimators=100;, score=(train=-26.703, test=-60.767) total time=   1.2s\n"
     ]
    },
    {
     "data": {
      "text/html": [
       "<style>#sk-container-id-3 {\n",
       "  /* Definition of color scheme common for light and dark mode */\n",
       "  --sklearn-color-text: black;\n",
       "  --sklearn-color-line: gray;\n",
       "  /* Definition of color scheme for unfitted estimators */\n",
       "  --sklearn-color-unfitted-level-0: #fff5e6;\n",
       "  --sklearn-color-unfitted-level-1: #f6e4d2;\n",
       "  --sklearn-color-unfitted-level-2: #ffe0b3;\n",
       "  --sklearn-color-unfitted-level-3: chocolate;\n",
       "  /* Definition of color scheme for fitted estimators */\n",
       "  --sklearn-color-fitted-level-0: #f0f8ff;\n",
       "  --sklearn-color-fitted-level-1: #d4ebff;\n",
       "  --sklearn-color-fitted-level-2: #b3dbfd;\n",
       "  --sklearn-color-fitted-level-3: cornflowerblue;\n",
       "\n",
       "  /* Specific color for light theme */\n",
       "  --sklearn-color-text-on-default-background: var(--sg-text-color, var(--theme-code-foreground, var(--jp-content-font-color1, black)));\n",
       "  --sklearn-color-background: var(--sg-background-color, var(--theme-background, var(--jp-layout-color0, white)));\n",
       "  --sklearn-color-border-box: var(--sg-text-color, var(--theme-code-foreground, var(--jp-content-font-color1, black)));\n",
       "  --sklearn-color-icon: #696969;\n",
       "\n",
       "  @media (prefers-color-scheme: dark) {\n",
       "    /* Redefinition of color scheme for dark theme */\n",
       "    --sklearn-color-text-on-default-background: var(--sg-text-color, var(--theme-code-foreground, var(--jp-content-font-color1, white)));\n",
       "    --sklearn-color-background: var(--sg-background-color, var(--theme-background, var(--jp-layout-color0, #111)));\n",
       "    --sklearn-color-border-box: var(--sg-text-color, var(--theme-code-foreground, var(--jp-content-font-color1, white)));\n",
       "    --sklearn-color-icon: #878787;\n",
       "  }\n",
       "}\n",
       "\n",
       "#sk-container-id-3 {\n",
       "  color: var(--sklearn-color-text);\n",
       "}\n",
       "\n",
       "#sk-container-id-3 pre {\n",
       "  padding: 0;\n",
       "}\n",
       "\n",
       "#sk-container-id-3 input.sk-hidden--visually {\n",
       "  border: 0;\n",
       "  clip: rect(1px 1px 1px 1px);\n",
       "  clip: rect(1px, 1px, 1px, 1px);\n",
       "  height: 1px;\n",
       "  margin: -1px;\n",
       "  overflow: hidden;\n",
       "  padding: 0;\n",
       "  position: absolute;\n",
       "  width: 1px;\n",
       "}\n",
       "\n",
       "#sk-container-id-3 div.sk-dashed-wrapped {\n",
       "  border: 1px dashed var(--sklearn-color-line);\n",
       "  margin: 0 0.4em 0.5em 0.4em;\n",
       "  box-sizing: border-box;\n",
       "  padding-bottom: 0.4em;\n",
       "  background-color: var(--sklearn-color-background);\n",
       "}\n",
       "\n",
       "#sk-container-id-3 div.sk-container {\n",
       "  /* jupyter's `normalize.less` sets `[hidden] { display: none; }`\n",
       "     but bootstrap.min.css set `[hidden] { display: none !important; }`\n",
       "     so we also need the `!important` here to be able to override the\n",
       "     default hidden behavior on the sphinx rendered scikit-learn.org.\n",
       "     See: https://github.com/scikit-learn/scikit-learn/issues/21755 */\n",
       "  display: inline-block !important;\n",
       "  position: relative;\n",
       "}\n",
       "\n",
       "#sk-container-id-3 div.sk-text-repr-fallback {\n",
       "  display: none;\n",
       "}\n",
       "\n",
       "div.sk-parallel-item,\n",
       "div.sk-serial,\n",
       "div.sk-item {\n",
       "  /* draw centered vertical line to link estimators */\n",
       "  background-image: linear-gradient(var(--sklearn-color-text-on-default-background), var(--sklearn-color-text-on-default-background));\n",
       "  background-size: 2px 100%;\n",
       "  background-repeat: no-repeat;\n",
       "  background-position: center center;\n",
       "}\n",
       "\n",
       "/* Parallel-specific style estimator block */\n",
       "\n",
       "#sk-container-id-3 div.sk-parallel-item::after {\n",
       "  content: \"\";\n",
       "  width: 100%;\n",
       "  border-bottom: 2px solid var(--sklearn-color-text-on-default-background);\n",
       "  flex-grow: 1;\n",
       "}\n",
       "\n",
       "#sk-container-id-3 div.sk-parallel {\n",
       "  display: flex;\n",
       "  align-items: stretch;\n",
       "  justify-content: center;\n",
       "  background-color: var(--sklearn-color-background);\n",
       "  position: relative;\n",
       "}\n",
       "\n",
       "#sk-container-id-3 div.sk-parallel-item {\n",
       "  display: flex;\n",
       "  flex-direction: column;\n",
       "}\n",
       "\n",
       "#sk-container-id-3 div.sk-parallel-item:first-child::after {\n",
       "  align-self: flex-end;\n",
       "  width: 50%;\n",
       "}\n",
       "\n",
       "#sk-container-id-3 div.sk-parallel-item:last-child::after {\n",
       "  align-self: flex-start;\n",
       "  width: 50%;\n",
       "}\n",
       "\n",
       "#sk-container-id-3 div.sk-parallel-item:only-child::after {\n",
       "  width: 0;\n",
       "}\n",
       "\n",
       "/* Serial-specific style estimator block */\n",
       "\n",
       "#sk-container-id-3 div.sk-serial {\n",
       "  display: flex;\n",
       "  flex-direction: column;\n",
       "  align-items: center;\n",
       "  background-color: var(--sklearn-color-background);\n",
       "  padding-right: 1em;\n",
       "  padding-left: 1em;\n",
       "}\n",
       "\n",
       "\n",
       "/* Toggleable style: style used for estimator/Pipeline/ColumnTransformer box that is\n",
       "clickable and can be expanded/collapsed.\n",
       "- Pipeline and ColumnTransformer use this feature and define the default style\n",
       "- Estimators will overwrite some part of the style using the `sk-estimator` class\n",
       "*/\n",
       "\n",
       "/* Pipeline and ColumnTransformer style (default) */\n",
       "\n",
       "#sk-container-id-3 div.sk-toggleable {\n",
       "  /* Default theme specific background. It is overwritten whether we have a\n",
       "  specific estimator or a Pipeline/ColumnTransformer */\n",
       "  background-color: var(--sklearn-color-background);\n",
       "}\n",
       "\n",
       "/* Toggleable label */\n",
       "#sk-container-id-3 label.sk-toggleable__label {\n",
       "  cursor: pointer;\n",
       "  display: block;\n",
       "  width: 100%;\n",
       "  margin-bottom: 0;\n",
       "  padding: 0.5em;\n",
       "  box-sizing: border-box;\n",
       "  text-align: center;\n",
       "}\n",
       "\n",
       "#sk-container-id-3 label.sk-toggleable__label-arrow:before {\n",
       "  /* Arrow on the left of the label */\n",
       "  content: \"▸\";\n",
       "  float: left;\n",
       "  margin-right: 0.25em;\n",
       "  color: var(--sklearn-color-icon);\n",
       "}\n",
       "\n",
       "#sk-container-id-3 label.sk-toggleable__label-arrow:hover:before {\n",
       "  color: var(--sklearn-color-text);\n",
       "}\n",
       "\n",
       "/* Toggleable content - dropdown */\n",
       "\n",
       "#sk-container-id-3 div.sk-toggleable__content {\n",
       "  max-height: 0;\n",
       "  max-width: 0;\n",
       "  overflow: hidden;\n",
       "  text-align: left;\n",
       "  /* unfitted */\n",
       "  background-color: var(--sklearn-color-unfitted-level-0);\n",
       "}\n",
       "\n",
       "#sk-container-id-3 div.sk-toggleable__content.fitted {\n",
       "  /* fitted */\n",
       "  background-color: var(--sklearn-color-fitted-level-0);\n",
       "}\n",
       "\n",
       "#sk-container-id-3 div.sk-toggleable__content pre {\n",
       "  margin: 0.2em;\n",
       "  border-radius: 0.25em;\n",
       "  color: var(--sklearn-color-text);\n",
       "  /* unfitted */\n",
       "  background-color: var(--sklearn-color-unfitted-level-0);\n",
       "}\n",
       "\n",
       "#sk-container-id-3 div.sk-toggleable__content.fitted pre {\n",
       "  /* unfitted */\n",
       "  background-color: var(--sklearn-color-fitted-level-0);\n",
       "}\n",
       "\n",
       "#sk-container-id-3 input.sk-toggleable__control:checked~div.sk-toggleable__content {\n",
       "  /* Expand drop-down */\n",
       "  max-height: 200px;\n",
       "  max-width: 100%;\n",
       "  overflow: auto;\n",
       "}\n",
       "\n",
       "#sk-container-id-3 input.sk-toggleable__control:checked~label.sk-toggleable__label-arrow:before {\n",
       "  content: \"▾\";\n",
       "}\n",
       "\n",
       "/* Pipeline/ColumnTransformer-specific style */\n",
       "\n",
       "#sk-container-id-3 div.sk-label input.sk-toggleable__control:checked~label.sk-toggleable__label {\n",
       "  color: var(--sklearn-color-text);\n",
       "  background-color: var(--sklearn-color-unfitted-level-2);\n",
       "}\n",
       "\n",
       "#sk-container-id-3 div.sk-label.fitted input.sk-toggleable__control:checked~label.sk-toggleable__label {\n",
       "  background-color: var(--sklearn-color-fitted-level-2);\n",
       "}\n",
       "\n",
       "/* Estimator-specific style */\n",
       "\n",
       "/* Colorize estimator box */\n",
       "#sk-container-id-3 div.sk-estimator input.sk-toggleable__control:checked~label.sk-toggleable__label {\n",
       "  /* unfitted */\n",
       "  background-color: var(--sklearn-color-unfitted-level-2);\n",
       "}\n",
       "\n",
       "#sk-container-id-3 div.sk-estimator.fitted input.sk-toggleable__control:checked~label.sk-toggleable__label {\n",
       "  /* fitted */\n",
       "  background-color: var(--sklearn-color-fitted-level-2);\n",
       "}\n",
       "\n",
       "#sk-container-id-3 div.sk-label label.sk-toggleable__label,\n",
       "#sk-container-id-3 div.sk-label label {\n",
       "  /* The background is the default theme color */\n",
       "  color: var(--sklearn-color-text-on-default-background);\n",
       "}\n",
       "\n",
       "/* On hover, darken the color of the background */\n",
       "#sk-container-id-3 div.sk-label:hover label.sk-toggleable__label {\n",
       "  color: var(--sklearn-color-text);\n",
       "  background-color: var(--sklearn-color-unfitted-level-2);\n",
       "}\n",
       "\n",
       "/* Label box, darken color on hover, fitted */\n",
       "#sk-container-id-3 div.sk-label.fitted:hover label.sk-toggleable__label.fitted {\n",
       "  color: var(--sklearn-color-text);\n",
       "  background-color: var(--sklearn-color-fitted-level-2);\n",
       "}\n",
       "\n",
       "/* Estimator label */\n",
       "\n",
       "#sk-container-id-3 div.sk-label label {\n",
       "  font-family: monospace;\n",
       "  font-weight: bold;\n",
       "  display: inline-block;\n",
       "  line-height: 1.2em;\n",
       "}\n",
       "\n",
       "#sk-container-id-3 div.sk-label-container {\n",
       "  text-align: center;\n",
       "}\n",
       "\n",
       "/* Estimator-specific */\n",
       "#sk-container-id-3 div.sk-estimator {\n",
       "  font-family: monospace;\n",
       "  border: 1px dotted var(--sklearn-color-border-box);\n",
       "  border-radius: 0.25em;\n",
       "  box-sizing: border-box;\n",
       "  margin-bottom: 0.5em;\n",
       "  /* unfitted */\n",
       "  background-color: var(--sklearn-color-unfitted-level-0);\n",
       "}\n",
       "\n",
       "#sk-container-id-3 div.sk-estimator.fitted {\n",
       "  /* fitted */\n",
       "  background-color: var(--sklearn-color-fitted-level-0);\n",
       "}\n",
       "\n",
       "/* on hover */\n",
       "#sk-container-id-3 div.sk-estimator:hover {\n",
       "  /* unfitted */\n",
       "  background-color: var(--sklearn-color-unfitted-level-2);\n",
       "}\n",
       "\n",
       "#sk-container-id-3 div.sk-estimator.fitted:hover {\n",
       "  /* fitted */\n",
       "  background-color: var(--sklearn-color-fitted-level-2);\n",
       "}\n",
       "\n",
       "/* Specification for estimator info (e.g. \"i\" and \"?\") */\n",
       "\n",
       "/* Common style for \"i\" and \"?\" */\n",
       "\n",
       ".sk-estimator-doc-link,\n",
       "a:link.sk-estimator-doc-link,\n",
       "a:visited.sk-estimator-doc-link {\n",
       "  float: right;\n",
       "  font-size: smaller;\n",
       "  line-height: 1em;\n",
       "  font-family: monospace;\n",
       "  background-color: var(--sklearn-color-background);\n",
       "  border-radius: 1em;\n",
       "  height: 1em;\n",
       "  width: 1em;\n",
       "  text-decoration: none !important;\n",
       "  margin-left: 1ex;\n",
       "  /* unfitted */\n",
       "  border: var(--sklearn-color-unfitted-level-1) 1pt solid;\n",
       "  color: var(--sklearn-color-unfitted-level-1);\n",
       "}\n",
       "\n",
       ".sk-estimator-doc-link.fitted,\n",
       "a:link.sk-estimator-doc-link.fitted,\n",
       "a:visited.sk-estimator-doc-link.fitted {\n",
       "  /* fitted */\n",
       "  border: var(--sklearn-color-fitted-level-1) 1pt solid;\n",
       "  color: var(--sklearn-color-fitted-level-1);\n",
       "}\n",
       "\n",
       "/* On hover */\n",
       "div.sk-estimator:hover .sk-estimator-doc-link:hover,\n",
       ".sk-estimator-doc-link:hover,\n",
       "div.sk-label-container:hover .sk-estimator-doc-link:hover,\n",
       ".sk-estimator-doc-link:hover {\n",
       "  /* unfitted */\n",
       "  background-color: var(--sklearn-color-unfitted-level-3);\n",
       "  color: var(--sklearn-color-background);\n",
       "  text-decoration: none;\n",
       "}\n",
       "\n",
       "div.sk-estimator.fitted:hover .sk-estimator-doc-link.fitted:hover,\n",
       ".sk-estimator-doc-link.fitted:hover,\n",
       "div.sk-label-container:hover .sk-estimator-doc-link.fitted:hover,\n",
       ".sk-estimator-doc-link.fitted:hover {\n",
       "  /* fitted */\n",
       "  background-color: var(--sklearn-color-fitted-level-3);\n",
       "  color: var(--sklearn-color-background);\n",
       "  text-decoration: none;\n",
       "}\n",
       "\n",
       "/* Span, style for the box shown on hovering the info icon */\n",
       ".sk-estimator-doc-link span {\n",
       "  display: none;\n",
       "  z-index: 9999;\n",
       "  position: relative;\n",
       "  font-weight: normal;\n",
       "  right: .2ex;\n",
       "  padding: .5ex;\n",
       "  margin: .5ex;\n",
       "  width: min-content;\n",
       "  min-width: 20ex;\n",
       "  max-width: 50ex;\n",
       "  color: var(--sklearn-color-text);\n",
       "  box-shadow: 2pt 2pt 4pt #999;\n",
       "  /* unfitted */\n",
       "  background: var(--sklearn-color-unfitted-level-0);\n",
       "  border: .5pt solid var(--sklearn-color-unfitted-level-3);\n",
       "}\n",
       "\n",
       ".sk-estimator-doc-link.fitted span {\n",
       "  /* fitted */\n",
       "  background: var(--sklearn-color-fitted-level-0);\n",
       "  border: var(--sklearn-color-fitted-level-3);\n",
       "}\n",
       "\n",
       ".sk-estimator-doc-link:hover span {\n",
       "  display: block;\n",
       "}\n",
       "\n",
       "/* \"?\"-specific style due to the `<a>` HTML tag */\n",
       "\n",
       "#sk-container-id-3 a.estimator_doc_link {\n",
       "  float: right;\n",
       "  font-size: 1rem;\n",
       "  line-height: 1em;\n",
       "  font-family: monospace;\n",
       "  background-color: var(--sklearn-color-background);\n",
       "  border-radius: 1rem;\n",
       "  height: 1rem;\n",
       "  width: 1rem;\n",
       "  text-decoration: none;\n",
       "  /* unfitted */\n",
       "  color: var(--sklearn-color-unfitted-level-1);\n",
       "  border: var(--sklearn-color-unfitted-level-1) 1pt solid;\n",
       "}\n",
       "\n",
       "#sk-container-id-3 a.estimator_doc_link.fitted {\n",
       "  /* fitted */\n",
       "  border: var(--sklearn-color-fitted-level-1) 1pt solid;\n",
       "  color: var(--sklearn-color-fitted-level-1);\n",
       "}\n",
       "\n",
       "/* On hover */\n",
       "#sk-container-id-3 a.estimator_doc_link:hover {\n",
       "  /* unfitted */\n",
       "  background-color: var(--sklearn-color-unfitted-level-3);\n",
       "  color: var(--sklearn-color-background);\n",
       "  text-decoration: none;\n",
       "}\n",
       "\n",
       "#sk-container-id-3 a.estimator_doc_link.fitted:hover {\n",
       "  /* fitted */\n",
       "  background-color: var(--sklearn-color-fitted-level-3);\n",
       "}\n",
       "</style><div id=\"sk-container-id-3\" class=\"sk-top-container\"><div class=\"sk-text-repr-fallback\"><pre>RandomizedSearchCV(cv=&lt;generator object _BaseKFold.split at 0x0000025CF11B8590&gt;,\n",
       "                   estimator=RandomForestRegressor(random_state=23), n_iter=50,\n",
       "                   n_jobs=1,\n",
       "                   param_distributions={&#x27;criterion&#x27;: [&#x27;squared_error&#x27;,\n",
       "                                                      &#x27;poisson&#x27;,\n",
       "                                                      &#x27;absolute_error&#x27;],\n",
       "                                        &#x27;max_depth&#x27;: [2, 3, 4, 5, 6, 7, 8, 9],\n",
       "                                        &#x27;n_estimators&#x27;: [10, 20, 30, 40, 50, 60,\n",
       "                                                         70, 80, 90, 100]},\n",
       "                   random_state=23, return_train_score=True,\n",
       "                   scoring=&#x27;neg_root_mean_squared_error&#x27;, verbose=3)</pre><b>In a Jupyter environment, please rerun this cell to show the HTML representation or trust the notebook. <br />On GitHub, the HTML representation is unable to render, please try loading this page with nbviewer.org.</b></div><div class=\"sk-container\" hidden><div class=\"sk-item sk-dashed-wrapped\"><div class=\"sk-label-container\"><div class=\"sk-label fitted sk-toggleable\"><input class=\"sk-toggleable__control sk-hidden--visually\" id=\"sk-estimator-id-5\" type=\"checkbox\" ><label for=\"sk-estimator-id-5\" class=\"sk-toggleable__label fitted sk-toggleable__label-arrow fitted\">&nbsp;&nbsp;RandomizedSearchCV<a class=\"sk-estimator-doc-link fitted\" rel=\"noreferrer\" target=\"_blank\" href=\"https://scikit-learn.org/1.4/modules/generated/sklearn.model_selection.RandomizedSearchCV.html\">?<span>Documentation for RandomizedSearchCV</span></a><span class=\"sk-estimator-doc-link fitted\">i<span>Fitted</span></span></label><div class=\"sk-toggleable__content fitted\"><pre>RandomizedSearchCV(cv=&lt;generator object _BaseKFold.split at 0x0000025CF11B8590&gt;,\n",
       "                   estimator=RandomForestRegressor(random_state=23), n_iter=50,\n",
       "                   n_jobs=1,\n",
       "                   param_distributions={&#x27;criterion&#x27;: [&#x27;squared_error&#x27;,\n",
       "                                                      &#x27;poisson&#x27;,\n",
       "                                                      &#x27;absolute_error&#x27;],\n",
       "                                        &#x27;max_depth&#x27;: [2, 3, 4, 5, 6, 7, 8, 9],\n",
       "                                        &#x27;n_estimators&#x27;: [10, 20, 30, 40, 50, 60,\n",
       "                                                         70, 80, 90, 100]},\n",
       "                   random_state=23, return_train_score=True,\n",
       "                   scoring=&#x27;neg_root_mean_squared_error&#x27;, verbose=3)</pre></div> </div></div><div class=\"sk-parallel\"><div class=\"sk-parallel-item\"><div class=\"sk-item\"><div class=\"sk-label-container\"><div class=\"sk-label fitted sk-toggleable\"><input class=\"sk-toggleable__control sk-hidden--visually\" id=\"sk-estimator-id-6\" type=\"checkbox\" ><label for=\"sk-estimator-id-6\" class=\"sk-toggleable__label fitted sk-toggleable__label-arrow fitted\">estimator: RandomForestRegressor</label><div class=\"sk-toggleable__content fitted\"><pre>RandomForestRegressor(random_state=23)</pre></div> </div></div><div class=\"sk-serial\"><div class=\"sk-item\"><div class=\"sk-estimator fitted sk-toggleable\"><input class=\"sk-toggleable__control sk-hidden--visually\" id=\"sk-estimator-id-7\" type=\"checkbox\" ><label for=\"sk-estimator-id-7\" class=\"sk-toggleable__label fitted sk-toggleable__label-arrow fitted\">&nbsp;RandomForestRegressor<a class=\"sk-estimator-doc-link fitted\" rel=\"noreferrer\" target=\"_blank\" href=\"https://scikit-learn.org/1.4/modules/generated/sklearn.ensemble.RandomForestRegressor.html\">?<span>Documentation for RandomForestRegressor</span></a></label><div class=\"sk-toggleable__content fitted\"><pre>RandomForestRegressor(random_state=23)</pre></div> </div></div></div></div></div></div></div></div></div>"
      ],
      "text/plain": [
       "RandomizedSearchCV(cv=<generator object _BaseKFold.split at 0x0000025CF11B8590>,\n",
       "                   estimator=RandomForestRegressor(random_state=23), n_iter=50,\n",
       "                   n_jobs=1,\n",
       "                   param_distributions={'criterion': ['squared_error',\n",
       "                                                      'poisson',\n",
       "                                                      'absolute_error'],\n",
       "                                        'max_depth': [2, 3, 4, 5, 6, 7, 8, 9],\n",
       "                                        'n_estimators': [10, 20, 30, 40, 50, 60,\n",
       "                                                         70, 80, 90, 100]},\n",
       "                   random_state=23, return_train_score=True,\n",
       "                   scoring='neg_root_mean_squared_error', verbose=3)"
      ]
     },
     "execution_count": 17,
     "metadata": {},
     "output_type": "execute_result"
    }
   ],
   "source": [
    "# init the random_search object\n",
    "\n",
    "model = RandomizedSearchCV(estimator=rfr_estimator, param_distributions= params,\n",
    "                           n_iter= 50, scoring= 'neg_root_mean_squared_error',\n",
    "                           verbose = 3, random_state= 23, return_train_score=True,\n",
    "                           cv= k_fold.split(X), n_jobs = 1)\n",
    "model.fit(X, y)"
   ]
  },
  {
   "cell_type": "code",
   "execution_count": 5,
   "metadata": {},
   "outputs": [
    {
     "data": {
      "text/plain": [
       "[2, 3, 4, 5, 6, 7, 8, 9]"
      ]
     },
     "execution_count": 5,
     "metadata": {},
     "output_type": "execute_result"
    }
   ],
   "source": [
    "[x for x in range(2, 10)]"
   ]
  },
  {
   "cell_type": "markdown",
   "metadata": {},
   "source": [
    "### BAYESIAN OPTIMIZATION WITH OPTUNA"
   ]
  },
  {
   "cell_type": "code",
   "execution_count": 19,
   "metadata": {},
   "outputs": [
    {
     "name": "stderr",
     "output_type": "stream",
     "text": [
      "[I 2025-04-04 14:33:40,497] A new study created in memory with name: no-name-5fb73aca-3c51-4c54-b3e1-48d4fb50cfed\n",
      "[I 2025-04-04 14:33:44,943] Trial 0 finished with value: 58.14466023072968 and parameters: {'n_estiimators': 57, 'max_depth': 10, 'criterion': 'absolute_error'}. Best is trial 0 with value: 58.14466023072968.\n",
      "[I 2025-04-04 14:33:46,016] Trial 1 finished with value: 57.91427367693552 and parameters: {'n_estiimators': 73, 'max_depth': 3, 'criterion': 'poisson'}. Best is trial 1 with value: 57.91427367693552.\n",
      "[I 2025-04-04 14:33:46,678] Trial 2 finished with value: 58.53303179991748 and parameters: {'n_estiimators': 10, 'max_depth': 9, 'criterion': 'absolute_error'}. Best is trial 1 with value: 57.91427367693552.\n",
      "[I 2025-04-04 14:33:49,495] Trial 3 finished with value: 58.384396585020184 and parameters: {'n_estiimators': 100, 'max_depth': 9, 'criterion': 'poisson'}. Best is trial 1 with value: 57.91427367693552.\n",
      "[I 2025-04-04 14:33:52,024] Trial 4 finished with value: 57.962151912719776 and parameters: {'n_estiimators': 85, 'max_depth': 7, 'criterion': 'squared_error'}. Best is trial 1 with value: 57.91427367693552.\n",
      "[I 2025-04-04 14:33:52,456] Trial 5 finished with value: 58.89948637343897 and parameters: {'n_estiimators': 23, 'max_depth': 5, 'criterion': 'poisson'}. Best is trial 1 with value: 57.91427367693552.\n",
      "[I 2025-04-04 14:33:54,651] Trial 6 finished with value: 58.450225222294605 and parameters: {'n_estiimators': 86, 'max_depth': 8, 'criterion': 'poisson'}. Best is trial 1 with value: 57.91427367693552.\n",
      "[I 2025-04-04 14:33:55,365] Trial 7 finished with value: 58.971867304870884 and parameters: {'n_estiimators': 17, 'max_depth': 9, 'criterion': 'squared_error'}. Best is trial 1 with value: 57.91427367693552.\n",
      "[I 2025-04-04 14:33:59,703] Trial 8 finished with value: 57.88414145416807 and parameters: {'n_estiimators': 64, 'max_depth': 8, 'criterion': 'absolute_error'}. Best is trial 8 with value: 57.88414145416807.\n",
      "[I 2025-04-04 14:34:00,485] Trial 9 finished with value: 58.128090557303665 and parameters: {'n_estiimators': 32, 'max_depth': 6, 'criterion': 'squared_error'}. Best is trial 8 with value: 57.88414145416807.\n",
      "[I 2025-04-04 14:34:02,518] Trial 10 finished with value: 58.175407629700985 and parameters: {'n_estiimators': 92, 'max_depth': 6, 'criterion': 'poisson'}. Best is trial 8 with value: 57.88414145416807.\n",
      "[I 2025-04-04 14:34:03,449] Trial 11 finished with value: 57.2409642182432 and parameters: {'n_estiimators': 17, 'max_depth': 6, 'criterion': 'absolute_error'}. Best is trial 11 with value: 57.2409642182432.\n",
      "[I 2025-04-04 14:34:07,443] Trial 12 finished with value: 57.79107921453713 and parameters: {'n_estiimators': 94, 'max_depth': 3, 'criterion': 'absolute_error'}. Best is trial 11 with value: 57.2409642182432.\n",
      "[I 2025-04-04 14:34:09,394] Trial 13 finished with value: 58.00076529119476 and parameters: {'n_estiimators': 97, 'max_depth': 4, 'criterion': 'poisson'}. Best is trial 11 with value: 57.2409642182432.\n",
      "[I 2025-04-04 14:34:10,938] Trial 14 finished with value: 58.38213840730555 and parameters: {'n_estiimators': 28, 'max_depth': 8, 'criterion': 'absolute_error'}. Best is trial 11 with value: 57.2409642182432.\n",
      "[I 2025-04-04 14:34:11,801] Trial 15 finished with value: 57.88935849924807 and parameters: {'n_estiimators': 67, 'max_depth': 2, 'criterion': 'squared_error'}. Best is trial 11 with value: 57.2409642182432.\n",
      "[I 2025-04-04 14:34:13,138] Trial 16 finished with value: 57.43012018817224 and parameters: {'n_estiimators': 83, 'max_depth': 5, 'criterion': 'squared_error'}. Best is trial 11 with value: 57.2409642182432.\n",
      "[I 2025-04-04 14:34:14,171] Trial 17 finished with value: 58.318097525583525 and parameters: {'n_estiimators': 56, 'max_depth': 6, 'criterion': 'poisson'}. Best is trial 11 with value: 57.2409642182432.\n",
      "[I 2025-04-04 14:34:15,848] Trial 18 finished with value: 58.260514403590534 and parameters: {'n_estiimators': 79, 'max_depth': 6, 'criterion': 'poisson'}. Best is trial 11 with value: 57.2409642182432.\n",
      "[I 2025-04-04 14:34:16,029] Trial 19 finished with value: 58.37041882411448 and parameters: {'n_estiimators': 10, 'max_depth': 2, 'criterion': 'poisson'}. Best is trial 11 with value: 57.2409642182432.\n",
      "[I 2025-04-04 14:34:17,649] Trial 20 finished with value: 58.50054612898318 and parameters: {'n_estiimators': 69, 'max_depth': 7, 'criterion': 'poisson'}. Best is trial 11 with value: 57.2409642182432.\n",
      "[I 2025-04-04 14:34:17,999] Trial 21 finished with value: 58.88117329904395 and parameters: {'n_estiimators': 21, 'max_depth': 6, 'criterion': 'squared_error'}. Best is trial 11 with value: 57.2409642182432.\n",
      "[I 2025-04-04 14:34:22,020] Trial 22 finished with value: 58.15953177486715 and parameters: {'n_estiimators': 65, 'max_depth': 10, 'criterion': 'absolute_error'}. Best is trial 11 with value: 57.2409642182432.\n",
      "[I 2025-04-04 14:34:23,371] Trial 23 finished with value: 58.09743198952701 and parameters: {'n_estiimators': 17, 'max_depth': 10, 'criterion': 'absolute_error'}. Best is trial 11 with value: 57.2409642182432.\n",
      "[I 2025-04-04 14:34:26,876] Trial 24 finished with value: 57.487080765857385 and parameters: {'n_estiimators': 68, 'max_depth': 5, 'criterion': 'absolute_error'}. Best is trial 11 with value: 57.2409642182432.\n",
      "[I 2025-04-04 14:34:30,411] Trial 25 finished with value: 58.15642139978195 and parameters: {'n_estiimators': 46, 'max_depth': 9, 'criterion': 'absolute_error'}. Best is trial 11 with value: 57.2409642182432.\n",
      "[I 2025-04-04 14:34:31,915] Trial 26 finished with value: 58.313362008354986 and parameters: {'n_estiimators': 54, 'max_depth': 5, 'criterion': 'poisson'}. Best is trial 11 with value: 57.2409642182432.\n",
      "[I 2025-04-04 14:34:32,312] Trial 27 finished with value: 58.009074835398295 and parameters: {'n_estiimators': 12, 'max_depth': 3, 'criterion': 'absolute_error'}. Best is trial 11 with value: 57.2409642182432.\n",
      "[I 2025-04-04 14:34:33,053] Trial 28 finished with value: 59.408254736957744 and parameters: {'n_estiimators': 21, 'max_depth': 10, 'criterion': 'poisson'}. Best is trial 11 with value: 57.2409642182432.\n",
      "[I 2025-04-04 14:34:34,088] Trial 29 finished with value: 57.74708854413166 and parameters: {'n_estiimators': 37, 'max_depth': 3, 'criterion': 'absolute_error'}. Best is trial 11 with value: 57.2409642182432.\n",
      "[I 2025-04-04 14:34:35,651] Trial 30 finished with value: 58.3997223170504 and parameters: {'n_estiimators': 77, 'max_depth': 7, 'criterion': 'poisson'}. Best is trial 11 with value: 57.2409642182432.\n",
      "[I 2025-04-04 14:34:35,901] Trial 31 finished with value: 57.897135654714575 and parameters: {'n_estiimators': 20, 'max_depth': 3, 'criterion': 'poisson'}. Best is trial 11 with value: 57.2409642182432.\n",
      "[I 2025-04-04 14:34:38,720] Trial 32 finished with value: 58.027377679238406 and parameters: {'n_estiimators': 51, 'max_depth': 8, 'criterion': 'absolute_error'}. Best is trial 11 with value: 57.2409642182432.\n",
      "[I 2025-04-04 14:34:40,101] Trial 33 finished with value: 58.197580229205506 and parameters: {'n_estiimators': 87, 'max_depth': 5, 'criterion': 'poisson'}. Best is trial 11 with value: 57.2409642182432.\n",
      "[I 2025-04-04 14:34:40,353] Trial 34 finished with value: 58.379623968024305 and parameters: {'n_estiimators': 14, 'max_depth': 4, 'criterion': 'poisson'}. Best is trial 11 with value: 57.2409642182432.\n",
      "[I 2025-04-04 14:34:44,242] Trial 35 finished with value: 57.83722467917725 and parameters: {'n_estiimators': 79, 'max_depth': 7, 'criterion': 'absolute_error'}. Best is trial 11 with value: 57.2409642182432.\n",
      "[I 2025-04-04 14:34:46,892] Trial 36 finished with value: 57.487080765857385 and parameters: {'n_estiimators': 68, 'max_depth': 5, 'criterion': 'absolute_error'}. Best is trial 11 with value: 57.2409642182432.\n",
      "[I 2025-04-04 14:34:47,542] Trial 37 finished with value: 57.40015423055185 and parameters: {'n_estiimators': 20, 'max_depth': 4, 'criterion': 'absolute_error'}. Best is trial 11 with value: 57.2409642182432.\n",
      "[I 2025-04-04 14:34:47,758] Trial 38 finished with value: 59.52805954056489 and parameters: {'n_estiimators': 12, 'max_depth': 6, 'criterion': 'squared_error'}. Best is trial 11 with value: 57.2409642182432.\n",
      "[I 2025-04-04 14:34:49,360] Trial 39 finished with value: 58.87580962157519 and parameters: {'n_estiimators': 54, 'max_depth': 10, 'criterion': 'poisson'}. Best is trial 11 with value: 57.2409642182432.\n",
      "[I 2025-04-04 14:34:49,641] Trial 40 finished with value: 59.16762883994413 and parameters: {'n_estiimators': 16, 'max_depth': 8, 'criterion': 'squared_error'}. Best is trial 11 with value: 57.2409642182432.\n",
      "[I 2025-04-04 14:34:50,173] Trial 41 finished with value: 58.01191846764635 and parameters: {'n_estiimators': 41, 'max_depth': 4, 'criterion': 'poisson'}. Best is trial 11 with value: 57.2409642182432.\n",
      "[I 2025-04-04 14:34:50,856] Trial 42 finished with value: 56.97433367498089 and parameters: {'n_estiimators': 67, 'max_depth': 3, 'criterion': 'squared_error'}. Best is trial 42 with value: 56.97433367498089.\n",
      "[I 2025-04-04 14:34:53,274] Trial 43 finished with value: 58.156711201359975 and parameters: {'n_estiimators': 46, 'max_depth': 8, 'criterion': 'absolute_error'}. Best is trial 42 with value: 56.97433367498089.\n",
      "[I 2025-04-04 14:34:54,703] Trial 44 finished with value: 58.77621988078645 and parameters: {'n_estiimators': 60, 'max_depth': 9, 'criterion': 'poisson'}. Best is trial 42 with value: 56.97433367498089.\n",
      "[I 2025-04-04 14:34:55,902] Trial 45 finished with value: 57.47620505064437 and parameters: {'n_estiimators': 90, 'max_depth': 5, 'criterion': 'squared_error'}. Best is trial 42 with value: 56.97433367498089.\n",
      "[I 2025-04-04 14:34:57,337] Trial 46 finished with value: 57.99915532916386 and parameters: {'n_estiimators': 99, 'max_depth': 4, 'criterion': 'poisson'}. Best is trial 42 with value: 56.97433367498089.\n",
      "[I 2025-04-04 14:34:58,203] Trial 47 finished with value: 58.17079432862329 and parameters: {'n_estiimators': 91, 'max_depth': 2, 'criterion': 'squared_error'}. Best is trial 42 with value: 56.97433367498089.\n",
      "[I 2025-04-04 14:35:02,617] Trial 48 finished with value: 57.88431788151386 and parameters: {'n_estiimators': 81, 'max_depth': 9, 'criterion': 'absolute_error'}. Best is trial 42 with value: 56.97433367498089.\n",
      "[I 2025-04-04 14:35:03,812] Trial 49 finished with value: 57.47393391773934 and parameters: {'n_estiimators': 91, 'max_depth': 5, 'criterion': 'squared_error'}. Best is trial 42 with value: 56.97433367498089.\n"
     ]
    }
   ],
   "source": [
    "import optuna\n",
    "from sklearn.model_selection import cross_val_score\n",
    "\n",
    "\n",
    "# define the objective function\n",
    "\n",
    "def objective(trial):\n",
    "    \n",
    "    n_estimators = trial.suggest_int('n_estiimators', 10, 101)\n",
    "    max_depth = trial.suggest_int('max_depth', 2, 10)\n",
    "    criterion = trial.suggest_categorical('criterion', ['absolute_error','poisson','squared_error'])\n",
    "    \n",
    "    model = RandomForestRegressor(n_estimators=n_estimators,max_depth=max_depth,\n",
    "                                  criterion=criterion, random_state=23)\n",
    "    score = -cross_val_score(estimator=model, X=X, y = y, scoring='neg_root_mean_squared_error',\n",
    "                             cv= k_fold.split(X)).mean()\n",
    "    \n",
    "    return score\n",
    "\n",
    "# init the study\n",
    "study = optuna.create_study(direction='minimize', sampler=optuna.samplers.RandomSampler(seed=23))\n",
    "# optimize the study\n",
    "study.optimize(objective, n_trials=50)"
   ]
  },
  {
   "cell_type": "code",
   "execution_count": 21,
   "metadata": {},
   "outputs": [
    {
     "ename": "ValueError",
     "evalue": "Mime type rendering requires nbformat>=4.2.0 but it is not installed",
     "output_type": "error",
     "traceback": [
      "\u001b[1;31m---------------------------------------------------------------------------\u001b[0m",
      "\u001b[1;31mValueError\u001b[0m                                Traceback (most recent call last)",
      "File \u001b[1;32m~\\AppData\\Roaming\\Python\\Python312\\site-packages\\IPython\\core\\formatters.py:922\u001b[0m, in \u001b[0;36mIPythonDisplayFormatter.__call__\u001b[1;34m(self, obj)\u001b[0m\n\u001b[0;32m    920\u001b[0m method \u001b[38;5;241m=\u001b[39m get_real_method(obj, \u001b[38;5;28mself\u001b[39m\u001b[38;5;241m.\u001b[39mprint_method)\n\u001b[0;32m    921\u001b[0m \u001b[38;5;28;01mif\u001b[39;00m method \u001b[38;5;129;01mis\u001b[39;00m \u001b[38;5;129;01mnot\u001b[39;00m \u001b[38;5;28;01mNone\u001b[39;00m:\n\u001b[1;32m--> 922\u001b[0m     \u001b[43mmethod\u001b[49m\u001b[43m(\u001b[49m\u001b[43m)\u001b[49m\n\u001b[0;32m    923\u001b[0m     \u001b[38;5;28;01mreturn\u001b[39;00m \u001b[38;5;28;01mTrue\u001b[39;00m\n",
      "File \u001b[1;32mc:\\Users\\hp\\AppData\\Local\\Programs\\Python\\Python312\\Lib\\site-packages\\plotly\\basedatatypes.py:832\u001b[0m, in \u001b[0;36mBaseFigure._ipython_display_\u001b[1;34m(self)\u001b[0m\n\u001b[0;32m    829\u001b[0m \u001b[38;5;28;01mimport\u001b[39;00m \u001b[38;5;21;01mplotly\u001b[39;00m\u001b[38;5;21;01m.\u001b[39;00m\u001b[38;5;21;01mio\u001b[39;00m \u001b[38;5;28;01mas\u001b[39;00m \u001b[38;5;21;01mpio\u001b[39;00m\n\u001b[0;32m    831\u001b[0m \u001b[38;5;28;01mif\u001b[39;00m pio\u001b[38;5;241m.\u001b[39mrenderers\u001b[38;5;241m.\u001b[39mrender_on_display \u001b[38;5;129;01mand\u001b[39;00m pio\u001b[38;5;241m.\u001b[39mrenderers\u001b[38;5;241m.\u001b[39mdefault:\n\u001b[1;32m--> 832\u001b[0m     \u001b[43mpio\u001b[49m\u001b[38;5;241;43m.\u001b[39;49m\u001b[43mshow\u001b[49m\u001b[43m(\u001b[49m\u001b[38;5;28;43mself\u001b[39;49m\u001b[43m)\u001b[49m\n\u001b[0;32m    833\u001b[0m \u001b[38;5;28;01melse\u001b[39;00m:\n\u001b[0;32m    834\u001b[0m     \u001b[38;5;28mprint\u001b[39m(\u001b[38;5;28mrepr\u001b[39m(\u001b[38;5;28mself\u001b[39m))\n",
      "File \u001b[1;32mc:\\Users\\hp\\AppData\\Local\\Programs\\Python\\Python312\\Lib\\site-packages\\plotly\\io\\_renderers.py:394\u001b[0m, in \u001b[0;36mshow\u001b[1;34m(fig, renderer, validate, **kwargs)\u001b[0m\n\u001b[0;32m    389\u001b[0m         \u001b[38;5;28;01mraise\u001b[39;00m \u001b[38;5;167;01mValueError\u001b[39;00m(\n\u001b[0;32m    390\u001b[0m             \u001b[38;5;124m\"\u001b[39m\u001b[38;5;124mMime type rendering requires ipython but it is not installed\u001b[39m\u001b[38;5;124m\"\u001b[39m\n\u001b[0;32m    391\u001b[0m         )\n\u001b[0;32m    393\u001b[0m     \u001b[38;5;28;01mif\u001b[39;00m \u001b[38;5;129;01mnot\u001b[39;00m nbformat \u001b[38;5;129;01mor\u001b[39;00m Version(nbformat\u001b[38;5;241m.\u001b[39m__version__) \u001b[38;5;241m<\u001b[39m Version(\u001b[38;5;124m\"\u001b[39m\u001b[38;5;124m4.2.0\u001b[39m\u001b[38;5;124m\"\u001b[39m):\n\u001b[1;32m--> 394\u001b[0m         \u001b[38;5;28;01mraise\u001b[39;00m \u001b[38;5;167;01mValueError\u001b[39;00m(\n\u001b[0;32m    395\u001b[0m             \u001b[38;5;124m\"\u001b[39m\u001b[38;5;124mMime type rendering requires nbformat>=4.2.0 but it is not installed\u001b[39m\u001b[38;5;124m\"\u001b[39m\n\u001b[0;32m    396\u001b[0m         )\n\u001b[0;32m    398\u001b[0m     ipython_display\u001b[38;5;241m.\u001b[39mdisplay(bundle, raw\u001b[38;5;241m=\u001b[39m\u001b[38;5;28;01mTrue\u001b[39;00m)\n\u001b[0;32m    400\u001b[0m \u001b[38;5;66;03m# external renderers\u001b[39;00m\n",
      "\u001b[1;31mValueError\u001b[0m: Mime type rendering requires nbformat>=4.2.0 but it is not installed"
     ]
    },
    {
     "data": {
      "application/vnd.plotly.v1+json": {
       "config": {
        "plotlyServerURL": "https://plot.ly"
       },
       "data": [
        {
         "cliponaxis": false,
         "hovertemplate": [
          "n_estiimators (IntDistribution): 0.22682685549309087<extra></extra>",
          "criterion (CategoricalDistribution): 0.3670489462647241<extra></extra>",
          "max_depth (IntDistribution): 0.40612419824218504<extra></extra>"
         ],
         "name": "Objective Value",
         "orientation": "h",
         "text": [
          "0.23",
          "0.37",
          "0.41"
         ],
         "textposition": "outside",
         "type": "bar",
         "x": [
          0.22682685549309087,
          0.3670489462647241,
          0.40612419824218504
         ],
         "y": [
          "n_estiimators",
          "criterion",
          "max_depth"
         ]
        }
       ],
       "layout": {
        "template": {
         "data": {
          "bar": [
           {
            "error_x": {
             "color": "#2a3f5f"
            },
            "error_y": {
             "color": "#2a3f5f"
            },
            "marker": {
             "line": {
              "color": "#E5ECF6",
              "width": 0.5
             },
             "pattern": {
              "fillmode": "overlay",
              "size": 10,
              "solidity": 0.2
             }
            },
            "type": "bar"
           }
          ],
          "barpolar": [
           {
            "marker": {
             "line": {
              "color": "#E5ECF6",
              "width": 0.5
             },
             "pattern": {
              "fillmode": "overlay",
              "size": 10,
              "solidity": 0.2
             }
            },
            "type": "barpolar"
           }
          ],
          "carpet": [
           {
            "aaxis": {
             "endlinecolor": "#2a3f5f",
             "gridcolor": "white",
             "linecolor": "white",
             "minorgridcolor": "white",
             "startlinecolor": "#2a3f5f"
            },
            "baxis": {
             "endlinecolor": "#2a3f5f",
             "gridcolor": "white",
             "linecolor": "white",
             "minorgridcolor": "white",
             "startlinecolor": "#2a3f5f"
            },
            "type": "carpet"
           }
          ],
          "choropleth": [
           {
            "colorbar": {
             "outlinewidth": 0,
             "ticks": ""
            },
            "type": "choropleth"
           }
          ],
          "contour": [
           {
            "colorbar": {
             "outlinewidth": 0,
             "ticks": ""
            },
            "colorscale": [
             [
              0,
              "#0d0887"
             ],
             [
              0.1111111111111111,
              "#46039f"
             ],
             [
              0.2222222222222222,
              "#7201a8"
             ],
             [
              0.3333333333333333,
              "#9c179e"
             ],
             [
              0.4444444444444444,
              "#bd3786"
             ],
             [
              0.5555555555555556,
              "#d8576b"
             ],
             [
              0.6666666666666666,
              "#ed7953"
             ],
             [
              0.7777777777777778,
              "#fb9f3a"
             ],
             [
              0.8888888888888888,
              "#fdca26"
             ],
             [
              1,
              "#f0f921"
             ]
            ],
            "type": "contour"
           }
          ],
          "contourcarpet": [
           {
            "colorbar": {
             "outlinewidth": 0,
             "ticks": ""
            },
            "type": "contourcarpet"
           }
          ],
          "heatmap": [
           {
            "colorbar": {
             "outlinewidth": 0,
             "ticks": ""
            },
            "colorscale": [
             [
              0,
              "#0d0887"
             ],
             [
              0.1111111111111111,
              "#46039f"
             ],
             [
              0.2222222222222222,
              "#7201a8"
             ],
             [
              0.3333333333333333,
              "#9c179e"
             ],
             [
              0.4444444444444444,
              "#bd3786"
             ],
             [
              0.5555555555555556,
              "#d8576b"
             ],
             [
              0.6666666666666666,
              "#ed7953"
             ],
             [
              0.7777777777777778,
              "#fb9f3a"
             ],
             [
              0.8888888888888888,
              "#fdca26"
             ],
             [
              1,
              "#f0f921"
             ]
            ],
            "type": "heatmap"
           }
          ],
          "heatmapgl": [
           {
            "colorbar": {
             "outlinewidth": 0,
             "ticks": ""
            },
            "colorscale": [
             [
              0,
              "#0d0887"
             ],
             [
              0.1111111111111111,
              "#46039f"
             ],
             [
              0.2222222222222222,
              "#7201a8"
             ],
             [
              0.3333333333333333,
              "#9c179e"
             ],
             [
              0.4444444444444444,
              "#bd3786"
             ],
             [
              0.5555555555555556,
              "#d8576b"
             ],
             [
              0.6666666666666666,
              "#ed7953"
             ],
             [
              0.7777777777777778,
              "#fb9f3a"
             ],
             [
              0.8888888888888888,
              "#fdca26"
             ],
             [
              1,
              "#f0f921"
             ]
            ],
            "type": "heatmapgl"
           }
          ],
          "histogram": [
           {
            "marker": {
             "pattern": {
              "fillmode": "overlay",
              "size": 10,
              "solidity": 0.2
             }
            },
            "type": "histogram"
           }
          ],
          "histogram2d": [
           {
            "colorbar": {
             "outlinewidth": 0,
             "ticks": ""
            },
            "colorscale": [
             [
              0,
              "#0d0887"
             ],
             [
              0.1111111111111111,
              "#46039f"
             ],
             [
              0.2222222222222222,
              "#7201a8"
             ],
             [
              0.3333333333333333,
              "#9c179e"
             ],
             [
              0.4444444444444444,
              "#bd3786"
             ],
             [
              0.5555555555555556,
              "#d8576b"
             ],
             [
              0.6666666666666666,
              "#ed7953"
             ],
             [
              0.7777777777777778,
              "#fb9f3a"
             ],
             [
              0.8888888888888888,
              "#fdca26"
             ],
             [
              1,
              "#f0f921"
             ]
            ],
            "type": "histogram2d"
           }
          ],
          "histogram2dcontour": [
           {
            "colorbar": {
             "outlinewidth": 0,
             "ticks": ""
            },
            "colorscale": [
             [
              0,
              "#0d0887"
             ],
             [
              0.1111111111111111,
              "#46039f"
             ],
             [
              0.2222222222222222,
              "#7201a8"
             ],
             [
              0.3333333333333333,
              "#9c179e"
             ],
             [
              0.4444444444444444,
              "#bd3786"
             ],
             [
              0.5555555555555556,
              "#d8576b"
             ],
             [
              0.6666666666666666,
              "#ed7953"
             ],
             [
              0.7777777777777778,
              "#fb9f3a"
             ],
             [
              0.8888888888888888,
              "#fdca26"
             ],
             [
              1,
              "#f0f921"
             ]
            ],
            "type": "histogram2dcontour"
           }
          ],
          "mesh3d": [
           {
            "colorbar": {
             "outlinewidth": 0,
             "ticks": ""
            },
            "type": "mesh3d"
           }
          ],
          "parcoords": [
           {
            "line": {
             "colorbar": {
              "outlinewidth": 0,
              "ticks": ""
             }
            },
            "type": "parcoords"
           }
          ],
          "pie": [
           {
            "automargin": true,
            "type": "pie"
           }
          ],
          "scatter": [
           {
            "fillpattern": {
             "fillmode": "overlay",
             "size": 10,
             "solidity": 0.2
            },
            "type": "scatter"
           }
          ],
          "scatter3d": [
           {
            "line": {
             "colorbar": {
              "outlinewidth": 0,
              "ticks": ""
             }
            },
            "marker": {
             "colorbar": {
              "outlinewidth": 0,
              "ticks": ""
             }
            },
            "type": "scatter3d"
           }
          ],
          "scattercarpet": [
           {
            "marker": {
             "colorbar": {
              "outlinewidth": 0,
              "ticks": ""
             }
            },
            "type": "scattercarpet"
           }
          ],
          "scattergeo": [
           {
            "marker": {
             "colorbar": {
              "outlinewidth": 0,
              "ticks": ""
             }
            },
            "type": "scattergeo"
           }
          ],
          "scattergl": [
           {
            "marker": {
             "colorbar": {
              "outlinewidth": 0,
              "ticks": ""
             }
            },
            "type": "scattergl"
           }
          ],
          "scattermapbox": [
           {
            "marker": {
             "colorbar": {
              "outlinewidth": 0,
              "ticks": ""
             }
            },
            "type": "scattermapbox"
           }
          ],
          "scatterpolar": [
           {
            "marker": {
             "colorbar": {
              "outlinewidth": 0,
              "ticks": ""
             }
            },
            "type": "scatterpolar"
           }
          ],
          "scatterpolargl": [
           {
            "marker": {
             "colorbar": {
              "outlinewidth": 0,
              "ticks": ""
             }
            },
            "type": "scatterpolargl"
           }
          ],
          "scatterternary": [
           {
            "marker": {
             "colorbar": {
              "outlinewidth": 0,
              "ticks": ""
             }
            },
            "type": "scatterternary"
           }
          ],
          "surface": [
           {
            "colorbar": {
             "outlinewidth": 0,
             "ticks": ""
            },
            "colorscale": [
             [
              0,
              "#0d0887"
             ],
             [
              0.1111111111111111,
              "#46039f"
             ],
             [
              0.2222222222222222,
              "#7201a8"
             ],
             [
              0.3333333333333333,
              "#9c179e"
             ],
             [
              0.4444444444444444,
              "#bd3786"
             ],
             [
              0.5555555555555556,
              "#d8576b"
             ],
             [
              0.6666666666666666,
              "#ed7953"
             ],
             [
              0.7777777777777778,
              "#fb9f3a"
             ],
             [
              0.8888888888888888,
              "#fdca26"
             ],
             [
              1,
              "#f0f921"
             ]
            ],
            "type": "surface"
           }
          ],
          "table": [
           {
            "cells": {
             "fill": {
              "color": "#EBF0F8"
             },
             "line": {
              "color": "white"
             }
            },
            "header": {
             "fill": {
              "color": "#C8D4E3"
             },
             "line": {
              "color": "white"
             }
            },
            "type": "table"
           }
          ]
         },
         "layout": {
          "annotationdefaults": {
           "arrowcolor": "#2a3f5f",
           "arrowhead": 0,
           "arrowwidth": 1
          },
          "autotypenumbers": "strict",
          "coloraxis": {
           "colorbar": {
            "outlinewidth": 0,
            "ticks": ""
           }
          },
          "colorscale": {
           "diverging": [
            [
             0,
             "#8e0152"
            ],
            [
             0.1,
             "#c51b7d"
            ],
            [
             0.2,
             "#de77ae"
            ],
            [
             0.3,
             "#f1b6da"
            ],
            [
             0.4,
             "#fde0ef"
            ],
            [
             0.5,
             "#f7f7f7"
            ],
            [
             0.6,
             "#e6f5d0"
            ],
            [
             0.7,
             "#b8e186"
            ],
            [
             0.8,
             "#7fbc41"
            ],
            [
             0.9,
             "#4d9221"
            ],
            [
             1,
             "#276419"
            ]
           ],
           "sequential": [
            [
             0,
             "#0d0887"
            ],
            [
             0.1111111111111111,
             "#46039f"
            ],
            [
             0.2222222222222222,
             "#7201a8"
            ],
            [
             0.3333333333333333,
             "#9c179e"
            ],
            [
             0.4444444444444444,
             "#bd3786"
            ],
            [
             0.5555555555555556,
             "#d8576b"
            ],
            [
             0.6666666666666666,
             "#ed7953"
            ],
            [
             0.7777777777777778,
             "#fb9f3a"
            ],
            [
             0.8888888888888888,
             "#fdca26"
            ],
            [
             1,
             "#f0f921"
            ]
           ],
           "sequentialminus": [
            [
             0,
             "#0d0887"
            ],
            [
             0.1111111111111111,
             "#46039f"
            ],
            [
             0.2222222222222222,
             "#7201a8"
            ],
            [
             0.3333333333333333,
             "#9c179e"
            ],
            [
             0.4444444444444444,
             "#bd3786"
            ],
            [
             0.5555555555555556,
             "#d8576b"
            ],
            [
             0.6666666666666666,
             "#ed7953"
            ],
            [
             0.7777777777777778,
             "#fb9f3a"
            ],
            [
             0.8888888888888888,
             "#fdca26"
            ],
            [
             1,
             "#f0f921"
            ]
           ]
          },
          "colorway": [
           "#636efa",
           "#EF553B",
           "#00cc96",
           "#ab63fa",
           "#FFA15A",
           "#19d3f3",
           "#FF6692",
           "#B6E880",
           "#FF97FF",
           "#FECB52"
          ],
          "font": {
           "color": "#2a3f5f"
          },
          "geo": {
           "bgcolor": "white",
           "lakecolor": "white",
           "landcolor": "#E5ECF6",
           "showlakes": true,
           "showland": true,
           "subunitcolor": "white"
          },
          "hoverlabel": {
           "align": "left"
          },
          "hovermode": "closest",
          "mapbox": {
           "style": "light"
          },
          "paper_bgcolor": "white",
          "plot_bgcolor": "#E5ECF6",
          "polar": {
           "angularaxis": {
            "gridcolor": "white",
            "linecolor": "white",
            "ticks": ""
           },
           "bgcolor": "#E5ECF6",
           "radialaxis": {
            "gridcolor": "white",
            "linecolor": "white",
            "ticks": ""
           }
          },
          "scene": {
           "xaxis": {
            "backgroundcolor": "#E5ECF6",
            "gridcolor": "white",
            "gridwidth": 2,
            "linecolor": "white",
            "showbackground": true,
            "ticks": "",
            "zerolinecolor": "white"
           },
           "yaxis": {
            "backgroundcolor": "#E5ECF6",
            "gridcolor": "white",
            "gridwidth": 2,
            "linecolor": "white",
            "showbackground": true,
            "ticks": "",
            "zerolinecolor": "white"
           },
           "zaxis": {
            "backgroundcolor": "#E5ECF6",
            "gridcolor": "white",
            "gridwidth": 2,
            "linecolor": "white",
            "showbackground": true,
            "ticks": "",
            "zerolinecolor": "white"
           }
          },
          "shapedefaults": {
           "line": {
            "color": "#2a3f5f"
           }
          },
          "ternary": {
           "aaxis": {
            "gridcolor": "white",
            "linecolor": "white",
            "ticks": ""
           },
           "baxis": {
            "gridcolor": "white",
            "linecolor": "white",
            "ticks": ""
           },
           "bgcolor": "#E5ECF6",
           "caxis": {
            "gridcolor": "white",
            "linecolor": "white",
            "ticks": ""
           }
          },
          "title": {
           "x": 0.05
          },
          "xaxis": {
           "automargin": true,
           "gridcolor": "white",
           "linecolor": "white",
           "ticks": "",
           "title": {
            "standoff": 15
           },
           "zerolinecolor": "white",
           "zerolinewidth": 2
          },
          "yaxis": {
           "automargin": true,
           "gridcolor": "white",
           "linecolor": "white",
           "ticks": "",
           "title": {
            "standoff": 15
           },
           "zerolinecolor": "white",
           "zerolinewidth": 2
          }
         }
        },
        "title": {
         "text": "Hyperparameter Importances"
        },
        "xaxis": {
         "title": {
          "text": "Hyperparameter Importance"
         }
        },
        "yaxis": {
         "title": {
          "text": "Hyperparameter"
         }
        }
       }
      },
      "text/html": [
       "<div>                        <script type=\"text/javascript\">window.PlotlyConfig = {MathJaxConfig: 'local'};</script>\n",
       "        <script charset=\"utf-8\" src=\"https://cdn.plot.ly/plotly-2.35.2.min.js\"></script>                <div id=\"9ae10c24-2f0f-4e51-b53a-d4812d0e9c5a\" class=\"plotly-graph-div\" style=\"height:100%; width:100%;\"></div>            <script type=\"text/javascript\">                                    window.PLOTLYENV=window.PLOTLYENV || {};                                    if (document.getElementById(\"9ae10c24-2f0f-4e51-b53a-d4812d0e9c5a\")) {                    Plotly.newPlot(                        \"9ae10c24-2f0f-4e51-b53a-d4812d0e9c5a\",                        [{\"cliponaxis\":false,\"hovertemplate\":[\"n_estiimators (IntDistribution): 0.22682685549309087\\u003cextra\\u003e\\u003c\\u002fextra\\u003e\",\"criterion (CategoricalDistribution): 0.3670489462647241\\u003cextra\\u003e\\u003c\\u002fextra\\u003e\",\"max_depth (IntDistribution): 0.40612419824218504\\u003cextra\\u003e\\u003c\\u002fextra\\u003e\"],\"name\":\"Objective Value\",\"orientation\":\"h\",\"text\":[\"0.23\",\"0.37\",\"0.41\"],\"textposition\":\"outside\",\"x\":[0.22682685549309087,0.3670489462647241,0.40612419824218504],\"y\":[\"n_estiimators\",\"criterion\",\"max_depth\"],\"type\":\"bar\"}],                        {\"title\":{\"text\":\"Hyperparameter Importances\"},\"xaxis\":{\"title\":{\"text\":\"Hyperparameter Importance\"}},\"yaxis\":{\"title\":{\"text\":\"Hyperparameter\"}},\"template\":{\"data\":{\"histogram2dcontour\":[{\"type\":\"histogram2dcontour\",\"colorbar\":{\"outlinewidth\":0,\"ticks\":\"\"},\"colorscale\":[[0.0,\"#0d0887\"],[0.1111111111111111,\"#46039f\"],[0.2222222222222222,\"#7201a8\"],[0.3333333333333333,\"#9c179e\"],[0.4444444444444444,\"#bd3786\"],[0.5555555555555556,\"#d8576b\"],[0.6666666666666666,\"#ed7953\"],[0.7777777777777778,\"#fb9f3a\"],[0.8888888888888888,\"#fdca26\"],[1.0,\"#f0f921\"]]}],\"choropleth\":[{\"type\":\"choropleth\",\"colorbar\":{\"outlinewidth\":0,\"ticks\":\"\"}}],\"histogram2d\":[{\"type\":\"histogram2d\",\"colorbar\":{\"outlinewidth\":0,\"ticks\":\"\"},\"colorscale\":[[0.0,\"#0d0887\"],[0.1111111111111111,\"#46039f\"],[0.2222222222222222,\"#7201a8\"],[0.3333333333333333,\"#9c179e\"],[0.4444444444444444,\"#bd3786\"],[0.5555555555555556,\"#d8576b\"],[0.6666666666666666,\"#ed7953\"],[0.7777777777777778,\"#fb9f3a\"],[0.8888888888888888,\"#fdca26\"],[1.0,\"#f0f921\"]]}],\"heatmap\":[{\"type\":\"heatmap\",\"colorbar\":{\"outlinewidth\":0,\"ticks\":\"\"},\"colorscale\":[[0.0,\"#0d0887\"],[0.1111111111111111,\"#46039f\"],[0.2222222222222222,\"#7201a8\"],[0.3333333333333333,\"#9c179e\"],[0.4444444444444444,\"#bd3786\"],[0.5555555555555556,\"#d8576b\"],[0.6666666666666666,\"#ed7953\"],[0.7777777777777778,\"#fb9f3a\"],[0.8888888888888888,\"#fdca26\"],[1.0,\"#f0f921\"]]}],\"heatmapgl\":[{\"type\":\"heatmapgl\",\"colorbar\":{\"outlinewidth\":0,\"ticks\":\"\"},\"colorscale\":[[0.0,\"#0d0887\"],[0.1111111111111111,\"#46039f\"],[0.2222222222222222,\"#7201a8\"],[0.3333333333333333,\"#9c179e\"],[0.4444444444444444,\"#bd3786\"],[0.5555555555555556,\"#d8576b\"],[0.6666666666666666,\"#ed7953\"],[0.7777777777777778,\"#fb9f3a\"],[0.8888888888888888,\"#fdca26\"],[1.0,\"#f0f921\"]]}],\"contourcarpet\":[{\"type\":\"contourcarpet\",\"colorbar\":{\"outlinewidth\":0,\"ticks\":\"\"}}],\"contour\":[{\"type\":\"contour\",\"colorbar\":{\"outlinewidth\":0,\"ticks\":\"\"},\"colorscale\":[[0.0,\"#0d0887\"],[0.1111111111111111,\"#46039f\"],[0.2222222222222222,\"#7201a8\"],[0.3333333333333333,\"#9c179e\"],[0.4444444444444444,\"#bd3786\"],[0.5555555555555556,\"#d8576b\"],[0.6666666666666666,\"#ed7953\"],[0.7777777777777778,\"#fb9f3a\"],[0.8888888888888888,\"#fdca26\"],[1.0,\"#f0f921\"]]}],\"surface\":[{\"type\":\"surface\",\"colorbar\":{\"outlinewidth\":0,\"ticks\":\"\"},\"colorscale\":[[0.0,\"#0d0887\"],[0.1111111111111111,\"#46039f\"],[0.2222222222222222,\"#7201a8\"],[0.3333333333333333,\"#9c179e\"],[0.4444444444444444,\"#bd3786\"],[0.5555555555555556,\"#d8576b\"],[0.6666666666666666,\"#ed7953\"],[0.7777777777777778,\"#fb9f3a\"],[0.8888888888888888,\"#fdca26\"],[1.0,\"#f0f921\"]]}],\"mesh3d\":[{\"type\":\"mesh3d\",\"colorbar\":{\"outlinewidth\":0,\"ticks\":\"\"}}],\"scatter\":[{\"fillpattern\":{\"fillmode\":\"overlay\",\"size\":10,\"solidity\":0.2},\"type\":\"scatter\"}],\"parcoords\":[{\"type\":\"parcoords\",\"line\":{\"colorbar\":{\"outlinewidth\":0,\"ticks\":\"\"}}}],\"scatterpolargl\":[{\"type\":\"scatterpolargl\",\"marker\":{\"colorbar\":{\"outlinewidth\":0,\"ticks\":\"\"}}}],\"bar\":[{\"error_x\":{\"color\":\"#2a3f5f\"},\"error_y\":{\"color\":\"#2a3f5f\"},\"marker\":{\"line\":{\"color\":\"#E5ECF6\",\"width\":0.5},\"pattern\":{\"fillmode\":\"overlay\",\"size\":10,\"solidity\":0.2}},\"type\":\"bar\"}],\"scattergeo\":[{\"type\":\"scattergeo\",\"marker\":{\"colorbar\":{\"outlinewidth\":0,\"ticks\":\"\"}}}],\"scatterpolar\":[{\"type\":\"scatterpolar\",\"marker\":{\"colorbar\":{\"outlinewidth\":0,\"ticks\":\"\"}}}],\"histogram\":[{\"marker\":{\"pattern\":{\"fillmode\":\"overlay\",\"size\":10,\"solidity\":0.2}},\"type\":\"histogram\"}],\"scattergl\":[{\"type\":\"scattergl\",\"marker\":{\"colorbar\":{\"outlinewidth\":0,\"ticks\":\"\"}}}],\"scatter3d\":[{\"type\":\"scatter3d\",\"line\":{\"colorbar\":{\"outlinewidth\":0,\"ticks\":\"\"}},\"marker\":{\"colorbar\":{\"outlinewidth\":0,\"ticks\":\"\"}}}],\"scattermapbox\":[{\"type\":\"scattermapbox\",\"marker\":{\"colorbar\":{\"outlinewidth\":0,\"ticks\":\"\"}}}],\"scatterternary\":[{\"type\":\"scatterternary\",\"marker\":{\"colorbar\":{\"outlinewidth\":0,\"ticks\":\"\"}}}],\"scattercarpet\":[{\"type\":\"scattercarpet\",\"marker\":{\"colorbar\":{\"outlinewidth\":0,\"ticks\":\"\"}}}],\"carpet\":[{\"aaxis\":{\"endlinecolor\":\"#2a3f5f\",\"gridcolor\":\"white\",\"linecolor\":\"white\",\"minorgridcolor\":\"white\",\"startlinecolor\":\"#2a3f5f\"},\"baxis\":{\"endlinecolor\":\"#2a3f5f\",\"gridcolor\":\"white\",\"linecolor\":\"white\",\"minorgridcolor\":\"white\",\"startlinecolor\":\"#2a3f5f\"},\"type\":\"carpet\"}],\"table\":[{\"cells\":{\"fill\":{\"color\":\"#EBF0F8\"},\"line\":{\"color\":\"white\"}},\"header\":{\"fill\":{\"color\":\"#C8D4E3\"},\"line\":{\"color\":\"white\"}},\"type\":\"table\"}],\"barpolar\":[{\"marker\":{\"line\":{\"color\":\"#E5ECF6\",\"width\":0.5},\"pattern\":{\"fillmode\":\"overlay\",\"size\":10,\"solidity\":0.2}},\"type\":\"barpolar\"}],\"pie\":[{\"automargin\":true,\"type\":\"pie\"}]},\"layout\":{\"autotypenumbers\":\"strict\",\"colorway\":[\"#636efa\",\"#EF553B\",\"#00cc96\",\"#ab63fa\",\"#FFA15A\",\"#19d3f3\",\"#FF6692\",\"#B6E880\",\"#FF97FF\",\"#FECB52\"],\"font\":{\"color\":\"#2a3f5f\"},\"hovermode\":\"closest\",\"hoverlabel\":{\"align\":\"left\"},\"paper_bgcolor\":\"white\",\"plot_bgcolor\":\"#E5ECF6\",\"polar\":{\"bgcolor\":\"#E5ECF6\",\"angularaxis\":{\"gridcolor\":\"white\",\"linecolor\":\"white\",\"ticks\":\"\"},\"radialaxis\":{\"gridcolor\":\"white\",\"linecolor\":\"white\",\"ticks\":\"\"}},\"ternary\":{\"bgcolor\":\"#E5ECF6\",\"aaxis\":{\"gridcolor\":\"white\",\"linecolor\":\"white\",\"ticks\":\"\"},\"baxis\":{\"gridcolor\":\"white\",\"linecolor\":\"white\",\"ticks\":\"\"},\"caxis\":{\"gridcolor\":\"white\",\"linecolor\":\"white\",\"ticks\":\"\"}},\"coloraxis\":{\"colorbar\":{\"outlinewidth\":0,\"ticks\":\"\"}},\"colorscale\":{\"sequential\":[[0.0,\"#0d0887\"],[0.1111111111111111,\"#46039f\"],[0.2222222222222222,\"#7201a8\"],[0.3333333333333333,\"#9c179e\"],[0.4444444444444444,\"#bd3786\"],[0.5555555555555556,\"#d8576b\"],[0.6666666666666666,\"#ed7953\"],[0.7777777777777778,\"#fb9f3a\"],[0.8888888888888888,\"#fdca26\"],[1.0,\"#f0f921\"]],\"sequentialminus\":[[0.0,\"#0d0887\"],[0.1111111111111111,\"#46039f\"],[0.2222222222222222,\"#7201a8\"],[0.3333333333333333,\"#9c179e\"],[0.4444444444444444,\"#bd3786\"],[0.5555555555555556,\"#d8576b\"],[0.6666666666666666,\"#ed7953\"],[0.7777777777777778,\"#fb9f3a\"],[0.8888888888888888,\"#fdca26\"],[1.0,\"#f0f921\"]],\"diverging\":[[0,\"#8e0152\"],[0.1,\"#c51b7d\"],[0.2,\"#de77ae\"],[0.3,\"#f1b6da\"],[0.4,\"#fde0ef\"],[0.5,\"#f7f7f7\"],[0.6,\"#e6f5d0\"],[0.7,\"#b8e186\"],[0.8,\"#7fbc41\"],[0.9,\"#4d9221\"],[1,\"#276419\"]]},\"xaxis\":{\"gridcolor\":\"white\",\"linecolor\":\"white\",\"ticks\":\"\",\"title\":{\"standoff\":15},\"zerolinecolor\":\"white\",\"automargin\":true,\"zerolinewidth\":2},\"yaxis\":{\"gridcolor\":\"white\",\"linecolor\":\"white\",\"ticks\":\"\",\"title\":{\"standoff\":15},\"zerolinecolor\":\"white\",\"automargin\":true,\"zerolinewidth\":2},\"scene\":{\"xaxis\":{\"backgroundcolor\":\"#E5ECF6\",\"gridcolor\":\"white\",\"linecolor\":\"white\",\"showbackground\":true,\"ticks\":\"\",\"zerolinecolor\":\"white\",\"gridwidth\":2},\"yaxis\":{\"backgroundcolor\":\"#E5ECF6\",\"gridcolor\":\"white\",\"linecolor\":\"white\",\"showbackground\":true,\"ticks\":\"\",\"zerolinecolor\":\"white\",\"gridwidth\":2},\"zaxis\":{\"backgroundcolor\":\"#E5ECF6\",\"gridcolor\":\"white\",\"linecolor\":\"white\",\"showbackground\":true,\"ticks\":\"\",\"zerolinecolor\":\"white\",\"gridwidth\":2}},\"shapedefaults\":{\"line\":{\"color\":\"#2a3f5f\"}},\"annotationdefaults\":{\"arrowcolor\":\"#2a3f5f\",\"arrowhead\":0,\"arrowwidth\":1},\"geo\":{\"bgcolor\":\"white\",\"landcolor\":\"#E5ECF6\",\"subunitcolor\":\"white\",\"showland\":true,\"showlakes\":true,\"lakecolor\":\"white\"},\"title\":{\"x\":0.05},\"mapbox\":{\"style\":\"light\"}}}},                        {\"responsive\": true}                    )                };                            </script>        </div>"
      ],
      "text/plain": [
       "Figure({\n",
       "    'data': [{'cliponaxis': False,\n",
       "              'hovertemplate': [n_estiimators (IntDistribution):\n",
       "                                0.22682685549309087<extra></extra>, criterion\n",
       "                                (CategoricalDistribution):\n",
       "                                0.3670489462647241<extra></extra>, max_depth\n",
       "                                (IntDistribution):\n",
       "                                0.40612419824218504<extra></extra>],\n",
       "              'name': 'Objective Value',\n",
       "              'orientation': 'h',\n",
       "              'text': [0.23, 0.37, 0.41],\n",
       "              'textposition': 'outside',\n",
       "              'type': 'bar',\n",
       "              'x': [0.22682685549309087, 0.3670489462647241, 0.40612419824218504],\n",
       "              'y': [n_estiimators, criterion, max_depth]}],\n",
       "    'layout': {'template': '...',\n",
       "               'title': {'text': 'Hyperparameter Importances'},\n",
       "               'xaxis': {'title': {'text': 'Hyperparameter Importance'}},\n",
       "               'yaxis': {'title': {'text': 'Hyperparameter'}}}\n",
       "})"
      ]
     },
     "execution_count": 21,
     "metadata": {},
     "output_type": "execute_result"
    }
   ],
   "source": [
    "optuna.visualization.plot_param_importances(study)"
   ]
  },
  {
   "cell_type": "code",
   "execution_count": 22,
   "metadata": {},
   "outputs": [
    {
     "ename": "ValueError",
     "evalue": "Mime type rendering requires nbformat>=4.2.0 but it is not installed",
     "output_type": "error",
     "traceback": [
      "\u001b[1;31m---------------------------------------------------------------------------\u001b[0m",
      "\u001b[1;31mValueError\u001b[0m                                Traceback (most recent call last)",
      "File \u001b[1;32m~\\AppData\\Roaming\\Python\\Python312\\site-packages\\IPython\\core\\formatters.py:922\u001b[0m, in \u001b[0;36mIPythonDisplayFormatter.__call__\u001b[1;34m(self, obj)\u001b[0m\n\u001b[0;32m    920\u001b[0m method \u001b[38;5;241m=\u001b[39m get_real_method(obj, \u001b[38;5;28mself\u001b[39m\u001b[38;5;241m.\u001b[39mprint_method)\n\u001b[0;32m    921\u001b[0m \u001b[38;5;28;01mif\u001b[39;00m method \u001b[38;5;129;01mis\u001b[39;00m \u001b[38;5;129;01mnot\u001b[39;00m \u001b[38;5;28;01mNone\u001b[39;00m:\n\u001b[1;32m--> 922\u001b[0m     \u001b[43mmethod\u001b[49m\u001b[43m(\u001b[49m\u001b[43m)\u001b[49m\n\u001b[0;32m    923\u001b[0m     \u001b[38;5;28;01mreturn\u001b[39;00m \u001b[38;5;28;01mTrue\u001b[39;00m\n",
      "File \u001b[1;32mc:\\Users\\hp\\AppData\\Local\\Programs\\Python\\Python312\\Lib\\site-packages\\plotly\\basedatatypes.py:832\u001b[0m, in \u001b[0;36mBaseFigure._ipython_display_\u001b[1;34m(self)\u001b[0m\n\u001b[0;32m    829\u001b[0m \u001b[38;5;28;01mimport\u001b[39;00m \u001b[38;5;21;01mplotly\u001b[39;00m\u001b[38;5;21;01m.\u001b[39;00m\u001b[38;5;21;01mio\u001b[39;00m \u001b[38;5;28;01mas\u001b[39;00m \u001b[38;5;21;01mpio\u001b[39;00m\n\u001b[0;32m    831\u001b[0m \u001b[38;5;28;01mif\u001b[39;00m pio\u001b[38;5;241m.\u001b[39mrenderers\u001b[38;5;241m.\u001b[39mrender_on_display \u001b[38;5;129;01mand\u001b[39;00m pio\u001b[38;5;241m.\u001b[39mrenderers\u001b[38;5;241m.\u001b[39mdefault:\n\u001b[1;32m--> 832\u001b[0m     \u001b[43mpio\u001b[49m\u001b[38;5;241;43m.\u001b[39;49m\u001b[43mshow\u001b[49m\u001b[43m(\u001b[49m\u001b[38;5;28;43mself\u001b[39;49m\u001b[43m)\u001b[49m\n\u001b[0;32m    833\u001b[0m \u001b[38;5;28;01melse\u001b[39;00m:\n\u001b[0;32m    834\u001b[0m     \u001b[38;5;28mprint\u001b[39m(\u001b[38;5;28mrepr\u001b[39m(\u001b[38;5;28mself\u001b[39m))\n",
      "File \u001b[1;32mc:\\Users\\hp\\AppData\\Local\\Programs\\Python\\Python312\\Lib\\site-packages\\plotly\\io\\_renderers.py:394\u001b[0m, in \u001b[0;36mshow\u001b[1;34m(fig, renderer, validate, **kwargs)\u001b[0m\n\u001b[0;32m    389\u001b[0m         \u001b[38;5;28;01mraise\u001b[39;00m \u001b[38;5;167;01mValueError\u001b[39;00m(\n\u001b[0;32m    390\u001b[0m             \u001b[38;5;124m\"\u001b[39m\u001b[38;5;124mMime type rendering requires ipython but it is not installed\u001b[39m\u001b[38;5;124m\"\u001b[39m\n\u001b[0;32m    391\u001b[0m         )\n\u001b[0;32m    393\u001b[0m     \u001b[38;5;28;01mif\u001b[39;00m \u001b[38;5;129;01mnot\u001b[39;00m nbformat \u001b[38;5;129;01mor\u001b[39;00m Version(nbformat\u001b[38;5;241m.\u001b[39m__version__) \u001b[38;5;241m<\u001b[39m Version(\u001b[38;5;124m\"\u001b[39m\u001b[38;5;124m4.2.0\u001b[39m\u001b[38;5;124m\"\u001b[39m):\n\u001b[1;32m--> 394\u001b[0m         \u001b[38;5;28;01mraise\u001b[39;00m \u001b[38;5;167;01mValueError\u001b[39;00m(\n\u001b[0;32m    395\u001b[0m             \u001b[38;5;124m\"\u001b[39m\u001b[38;5;124mMime type rendering requires nbformat>=4.2.0 but it is not installed\u001b[39m\u001b[38;5;124m\"\u001b[39m\n\u001b[0;32m    396\u001b[0m         )\n\u001b[0;32m    398\u001b[0m     ipython_display\u001b[38;5;241m.\u001b[39mdisplay(bundle, raw\u001b[38;5;241m=\u001b[39m\u001b[38;5;28;01mTrue\u001b[39;00m)\n\u001b[0;32m    400\u001b[0m \u001b[38;5;66;03m# external renderers\u001b[39;00m\n",
      "\u001b[1;31mValueError\u001b[0m: Mime type rendering requires nbformat>=4.2.0 but it is not installed"
     ]
    },
    {
     "data": {
      "application/vnd.plotly.v1+json": {
       "config": {
        "plotlyServerURL": "https://plot.ly"
       },
       "data": [
        {
         "mode": "markers",
         "name": "Objective Value",
         "type": "scatter",
         "x": [
          0,
          1,
          2,
          3,
          4,
          5,
          6,
          7,
          8,
          9,
          10,
          11,
          12,
          13,
          14,
          15,
          16,
          17,
          18,
          19,
          20,
          21,
          22,
          23,
          24,
          25,
          26,
          27,
          28,
          29,
          30,
          31,
          32,
          33,
          34,
          35,
          36,
          37,
          38,
          39,
          40,
          41,
          42,
          43,
          44,
          45,
          46,
          47,
          48,
          49
         ],
         "y": [
          58.14466023072968,
          57.91427367693552,
          58.53303179991748,
          58.384396585020184,
          57.962151912719776,
          58.89948637343897,
          58.450225222294605,
          58.971867304870884,
          57.88414145416807,
          58.128090557303665,
          58.175407629700985,
          57.2409642182432,
          57.79107921453713,
          58.00076529119476,
          58.38213840730555,
          57.88935849924807,
          57.43012018817224,
          58.318097525583525,
          58.260514403590534,
          58.37041882411448,
          58.50054612898318,
          58.88117329904395,
          58.15953177486715,
          58.09743198952701,
          57.487080765857385,
          58.15642139978195,
          58.313362008354986,
          58.009074835398295,
          59.408254736957744,
          57.74708854413166,
          58.3997223170504,
          57.897135654714575,
          58.027377679238406,
          58.197580229205506,
          58.379623968024305,
          57.83722467917725,
          57.487080765857385,
          57.40015423055185,
          59.52805954056489,
          58.87580962157519,
          59.16762883994413,
          58.01191846764635,
          56.97433367498089,
          58.156711201359975,
          58.77621988078645,
          57.47620505064437,
          57.99915532916386,
          58.17079432862329,
          57.88431788151386,
          57.47393391773934
         ]
        },
        {
         "mode": "lines",
         "name": "Best Value",
         "type": "scatter",
         "x": [
          0,
          1,
          2,
          3,
          4,
          5,
          6,
          7,
          8,
          9,
          10,
          11,
          12,
          13,
          14,
          15,
          16,
          17,
          18,
          19,
          20,
          21,
          22,
          23,
          24,
          25,
          26,
          27,
          28,
          29,
          30,
          31,
          32,
          33,
          34,
          35,
          36,
          37,
          38,
          39,
          40,
          41,
          42,
          43,
          44,
          45,
          46,
          47,
          48,
          49
         ],
         "y": [
          58.14466023072968,
          57.91427367693552,
          57.91427367693552,
          57.91427367693552,
          57.91427367693552,
          57.91427367693552,
          57.91427367693552,
          57.91427367693552,
          57.88414145416807,
          57.88414145416807,
          57.88414145416807,
          57.2409642182432,
          57.2409642182432,
          57.2409642182432,
          57.2409642182432,
          57.2409642182432,
          57.2409642182432,
          57.2409642182432,
          57.2409642182432,
          57.2409642182432,
          57.2409642182432,
          57.2409642182432,
          57.2409642182432,
          57.2409642182432,
          57.2409642182432,
          57.2409642182432,
          57.2409642182432,
          57.2409642182432,
          57.2409642182432,
          57.2409642182432,
          57.2409642182432,
          57.2409642182432,
          57.2409642182432,
          57.2409642182432,
          57.2409642182432,
          57.2409642182432,
          57.2409642182432,
          57.2409642182432,
          57.2409642182432,
          57.2409642182432,
          57.2409642182432,
          57.2409642182432,
          56.97433367498089,
          56.97433367498089,
          56.97433367498089,
          56.97433367498089,
          56.97433367498089,
          56.97433367498089,
          56.97433367498089,
          56.97433367498089
         ]
        },
        {
         "marker": {
          "color": "#cccccc"
         },
         "mode": "markers",
         "name": "Infeasible Trial",
         "showlegend": false,
         "type": "scatter",
         "x": [],
         "y": []
        }
       ],
       "layout": {
        "template": {
         "data": {
          "bar": [
           {
            "error_x": {
             "color": "#2a3f5f"
            },
            "error_y": {
             "color": "#2a3f5f"
            },
            "marker": {
             "line": {
              "color": "#E5ECF6",
              "width": 0.5
             },
             "pattern": {
              "fillmode": "overlay",
              "size": 10,
              "solidity": 0.2
             }
            },
            "type": "bar"
           }
          ],
          "barpolar": [
           {
            "marker": {
             "line": {
              "color": "#E5ECF6",
              "width": 0.5
             },
             "pattern": {
              "fillmode": "overlay",
              "size": 10,
              "solidity": 0.2
             }
            },
            "type": "barpolar"
           }
          ],
          "carpet": [
           {
            "aaxis": {
             "endlinecolor": "#2a3f5f",
             "gridcolor": "white",
             "linecolor": "white",
             "minorgridcolor": "white",
             "startlinecolor": "#2a3f5f"
            },
            "baxis": {
             "endlinecolor": "#2a3f5f",
             "gridcolor": "white",
             "linecolor": "white",
             "minorgridcolor": "white",
             "startlinecolor": "#2a3f5f"
            },
            "type": "carpet"
           }
          ],
          "choropleth": [
           {
            "colorbar": {
             "outlinewidth": 0,
             "ticks": ""
            },
            "type": "choropleth"
           }
          ],
          "contour": [
           {
            "colorbar": {
             "outlinewidth": 0,
             "ticks": ""
            },
            "colorscale": [
             [
              0,
              "#0d0887"
             ],
             [
              0.1111111111111111,
              "#46039f"
             ],
             [
              0.2222222222222222,
              "#7201a8"
             ],
             [
              0.3333333333333333,
              "#9c179e"
             ],
             [
              0.4444444444444444,
              "#bd3786"
             ],
             [
              0.5555555555555556,
              "#d8576b"
             ],
             [
              0.6666666666666666,
              "#ed7953"
             ],
             [
              0.7777777777777778,
              "#fb9f3a"
             ],
             [
              0.8888888888888888,
              "#fdca26"
             ],
             [
              1,
              "#f0f921"
             ]
            ],
            "type": "contour"
           }
          ],
          "contourcarpet": [
           {
            "colorbar": {
             "outlinewidth": 0,
             "ticks": ""
            },
            "type": "contourcarpet"
           }
          ],
          "heatmap": [
           {
            "colorbar": {
             "outlinewidth": 0,
             "ticks": ""
            },
            "colorscale": [
             [
              0,
              "#0d0887"
             ],
             [
              0.1111111111111111,
              "#46039f"
             ],
             [
              0.2222222222222222,
              "#7201a8"
             ],
             [
              0.3333333333333333,
              "#9c179e"
             ],
             [
              0.4444444444444444,
              "#bd3786"
             ],
             [
              0.5555555555555556,
              "#d8576b"
             ],
             [
              0.6666666666666666,
              "#ed7953"
             ],
             [
              0.7777777777777778,
              "#fb9f3a"
             ],
             [
              0.8888888888888888,
              "#fdca26"
             ],
             [
              1,
              "#f0f921"
             ]
            ],
            "type": "heatmap"
           }
          ],
          "heatmapgl": [
           {
            "colorbar": {
             "outlinewidth": 0,
             "ticks": ""
            },
            "colorscale": [
             [
              0,
              "#0d0887"
             ],
             [
              0.1111111111111111,
              "#46039f"
             ],
             [
              0.2222222222222222,
              "#7201a8"
             ],
             [
              0.3333333333333333,
              "#9c179e"
             ],
             [
              0.4444444444444444,
              "#bd3786"
             ],
             [
              0.5555555555555556,
              "#d8576b"
             ],
             [
              0.6666666666666666,
              "#ed7953"
             ],
             [
              0.7777777777777778,
              "#fb9f3a"
             ],
             [
              0.8888888888888888,
              "#fdca26"
             ],
             [
              1,
              "#f0f921"
             ]
            ],
            "type": "heatmapgl"
           }
          ],
          "histogram": [
           {
            "marker": {
             "pattern": {
              "fillmode": "overlay",
              "size": 10,
              "solidity": 0.2
             }
            },
            "type": "histogram"
           }
          ],
          "histogram2d": [
           {
            "colorbar": {
             "outlinewidth": 0,
             "ticks": ""
            },
            "colorscale": [
             [
              0,
              "#0d0887"
             ],
             [
              0.1111111111111111,
              "#46039f"
             ],
             [
              0.2222222222222222,
              "#7201a8"
             ],
             [
              0.3333333333333333,
              "#9c179e"
             ],
             [
              0.4444444444444444,
              "#bd3786"
             ],
             [
              0.5555555555555556,
              "#d8576b"
             ],
             [
              0.6666666666666666,
              "#ed7953"
             ],
             [
              0.7777777777777778,
              "#fb9f3a"
             ],
             [
              0.8888888888888888,
              "#fdca26"
             ],
             [
              1,
              "#f0f921"
             ]
            ],
            "type": "histogram2d"
           }
          ],
          "histogram2dcontour": [
           {
            "colorbar": {
             "outlinewidth": 0,
             "ticks": ""
            },
            "colorscale": [
             [
              0,
              "#0d0887"
             ],
             [
              0.1111111111111111,
              "#46039f"
             ],
             [
              0.2222222222222222,
              "#7201a8"
             ],
             [
              0.3333333333333333,
              "#9c179e"
             ],
             [
              0.4444444444444444,
              "#bd3786"
             ],
             [
              0.5555555555555556,
              "#d8576b"
             ],
             [
              0.6666666666666666,
              "#ed7953"
             ],
             [
              0.7777777777777778,
              "#fb9f3a"
             ],
             [
              0.8888888888888888,
              "#fdca26"
             ],
             [
              1,
              "#f0f921"
             ]
            ],
            "type": "histogram2dcontour"
           }
          ],
          "mesh3d": [
           {
            "colorbar": {
             "outlinewidth": 0,
             "ticks": ""
            },
            "type": "mesh3d"
           }
          ],
          "parcoords": [
           {
            "line": {
             "colorbar": {
              "outlinewidth": 0,
              "ticks": ""
             }
            },
            "type": "parcoords"
           }
          ],
          "pie": [
           {
            "automargin": true,
            "type": "pie"
           }
          ],
          "scatter": [
           {
            "fillpattern": {
             "fillmode": "overlay",
             "size": 10,
             "solidity": 0.2
            },
            "type": "scatter"
           }
          ],
          "scatter3d": [
           {
            "line": {
             "colorbar": {
              "outlinewidth": 0,
              "ticks": ""
             }
            },
            "marker": {
             "colorbar": {
              "outlinewidth": 0,
              "ticks": ""
             }
            },
            "type": "scatter3d"
           }
          ],
          "scattercarpet": [
           {
            "marker": {
             "colorbar": {
              "outlinewidth": 0,
              "ticks": ""
             }
            },
            "type": "scattercarpet"
           }
          ],
          "scattergeo": [
           {
            "marker": {
             "colorbar": {
              "outlinewidth": 0,
              "ticks": ""
             }
            },
            "type": "scattergeo"
           }
          ],
          "scattergl": [
           {
            "marker": {
             "colorbar": {
              "outlinewidth": 0,
              "ticks": ""
             }
            },
            "type": "scattergl"
           }
          ],
          "scattermapbox": [
           {
            "marker": {
             "colorbar": {
              "outlinewidth": 0,
              "ticks": ""
             }
            },
            "type": "scattermapbox"
           }
          ],
          "scatterpolar": [
           {
            "marker": {
             "colorbar": {
              "outlinewidth": 0,
              "ticks": ""
             }
            },
            "type": "scatterpolar"
           }
          ],
          "scatterpolargl": [
           {
            "marker": {
             "colorbar": {
              "outlinewidth": 0,
              "ticks": ""
             }
            },
            "type": "scatterpolargl"
           }
          ],
          "scatterternary": [
           {
            "marker": {
             "colorbar": {
              "outlinewidth": 0,
              "ticks": ""
             }
            },
            "type": "scatterternary"
           }
          ],
          "surface": [
           {
            "colorbar": {
             "outlinewidth": 0,
             "ticks": ""
            },
            "colorscale": [
             [
              0,
              "#0d0887"
             ],
             [
              0.1111111111111111,
              "#46039f"
             ],
             [
              0.2222222222222222,
              "#7201a8"
             ],
             [
              0.3333333333333333,
              "#9c179e"
             ],
             [
              0.4444444444444444,
              "#bd3786"
             ],
             [
              0.5555555555555556,
              "#d8576b"
             ],
             [
              0.6666666666666666,
              "#ed7953"
             ],
             [
              0.7777777777777778,
              "#fb9f3a"
             ],
             [
              0.8888888888888888,
              "#fdca26"
             ],
             [
              1,
              "#f0f921"
             ]
            ],
            "type": "surface"
           }
          ],
          "table": [
           {
            "cells": {
             "fill": {
              "color": "#EBF0F8"
             },
             "line": {
              "color": "white"
             }
            },
            "header": {
             "fill": {
              "color": "#C8D4E3"
             },
             "line": {
              "color": "white"
             }
            },
            "type": "table"
           }
          ]
         },
         "layout": {
          "annotationdefaults": {
           "arrowcolor": "#2a3f5f",
           "arrowhead": 0,
           "arrowwidth": 1
          },
          "autotypenumbers": "strict",
          "coloraxis": {
           "colorbar": {
            "outlinewidth": 0,
            "ticks": ""
           }
          },
          "colorscale": {
           "diverging": [
            [
             0,
             "#8e0152"
            ],
            [
             0.1,
             "#c51b7d"
            ],
            [
             0.2,
             "#de77ae"
            ],
            [
             0.3,
             "#f1b6da"
            ],
            [
             0.4,
             "#fde0ef"
            ],
            [
             0.5,
             "#f7f7f7"
            ],
            [
             0.6,
             "#e6f5d0"
            ],
            [
             0.7,
             "#b8e186"
            ],
            [
             0.8,
             "#7fbc41"
            ],
            [
             0.9,
             "#4d9221"
            ],
            [
             1,
             "#276419"
            ]
           ],
           "sequential": [
            [
             0,
             "#0d0887"
            ],
            [
             0.1111111111111111,
             "#46039f"
            ],
            [
             0.2222222222222222,
             "#7201a8"
            ],
            [
             0.3333333333333333,
             "#9c179e"
            ],
            [
             0.4444444444444444,
             "#bd3786"
            ],
            [
             0.5555555555555556,
             "#d8576b"
            ],
            [
             0.6666666666666666,
             "#ed7953"
            ],
            [
             0.7777777777777778,
             "#fb9f3a"
            ],
            [
             0.8888888888888888,
             "#fdca26"
            ],
            [
             1,
             "#f0f921"
            ]
           ],
           "sequentialminus": [
            [
             0,
             "#0d0887"
            ],
            [
             0.1111111111111111,
             "#46039f"
            ],
            [
             0.2222222222222222,
             "#7201a8"
            ],
            [
             0.3333333333333333,
             "#9c179e"
            ],
            [
             0.4444444444444444,
             "#bd3786"
            ],
            [
             0.5555555555555556,
             "#d8576b"
            ],
            [
             0.6666666666666666,
             "#ed7953"
            ],
            [
             0.7777777777777778,
             "#fb9f3a"
            ],
            [
             0.8888888888888888,
             "#fdca26"
            ],
            [
             1,
             "#f0f921"
            ]
           ]
          },
          "colorway": [
           "#636efa",
           "#EF553B",
           "#00cc96",
           "#ab63fa",
           "#FFA15A",
           "#19d3f3",
           "#FF6692",
           "#B6E880",
           "#FF97FF",
           "#FECB52"
          ],
          "font": {
           "color": "#2a3f5f"
          },
          "geo": {
           "bgcolor": "white",
           "lakecolor": "white",
           "landcolor": "#E5ECF6",
           "showlakes": true,
           "showland": true,
           "subunitcolor": "white"
          },
          "hoverlabel": {
           "align": "left"
          },
          "hovermode": "closest",
          "mapbox": {
           "style": "light"
          },
          "paper_bgcolor": "white",
          "plot_bgcolor": "#E5ECF6",
          "polar": {
           "angularaxis": {
            "gridcolor": "white",
            "linecolor": "white",
            "ticks": ""
           },
           "bgcolor": "#E5ECF6",
           "radialaxis": {
            "gridcolor": "white",
            "linecolor": "white",
            "ticks": ""
           }
          },
          "scene": {
           "xaxis": {
            "backgroundcolor": "#E5ECF6",
            "gridcolor": "white",
            "gridwidth": 2,
            "linecolor": "white",
            "showbackground": true,
            "ticks": "",
            "zerolinecolor": "white"
           },
           "yaxis": {
            "backgroundcolor": "#E5ECF6",
            "gridcolor": "white",
            "gridwidth": 2,
            "linecolor": "white",
            "showbackground": true,
            "ticks": "",
            "zerolinecolor": "white"
           },
           "zaxis": {
            "backgroundcolor": "#E5ECF6",
            "gridcolor": "white",
            "gridwidth": 2,
            "linecolor": "white",
            "showbackground": true,
            "ticks": "",
            "zerolinecolor": "white"
           }
          },
          "shapedefaults": {
           "line": {
            "color": "#2a3f5f"
           }
          },
          "ternary": {
           "aaxis": {
            "gridcolor": "white",
            "linecolor": "white",
            "ticks": ""
           },
           "baxis": {
            "gridcolor": "white",
            "linecolor": "white",
            "ticks": ""
           },
           "bgcolor": "#E5ECF6",
           "caxis": {
            "gridcolor": "white",
            "linecolor": "white",
            "ticks": ""
           }
          },
          "title": {
           "x": 0.05
          },
          "xaxis": {
           "automargin": true,
           "gridcolor": "white",
           "linecolor": "white",
           "ticks": "",
           "title": {
            "standoff": 15
           },
           "zerolinecolor": "white",
           "zerolinewidth": 2
          },
          "yaxis": {
           "automargin": true,
           "gridcolor": "white",
           "linecolor": "white",
           "ticks": "",
           "title": {
            "standoff": 15
           },
           "zerolinecolor": "white",
           "zerolinewidth": 2
          }
         }
        },
        "title": {
         "text": "Optimization History Plot"
        },
        "xaxis": {
         "title": {
          "text": "Trial"
         }
        },
        "yaxis": {
         "title": {
          "text": "Objective Value"
         }
        }
       }
      },
      "text/html": [
       "<div>                        <script type=\"text/javascript\">window.PlotlyConfig = {MathJaxConfig: 'local'};</script>\n",
       "        <script charset=\"utf-8\" src=\"https://cdn.plot.ly/plotly-2.35.2.min.js\"></script>                <div id=\"49edc102-3618-4db3-af12-dc9dfd8aff9b\" class=\"plotly-graph-div\" style=\"height:100%; width:100%;\"></div>            <script type=\"text/javascript\">                                    window.PLOTLYENV=window.PLOTLYENV || {};                                    if (document.getElementById(\"49edc102-3618-4db3-af12-dc9dfd8aff9b\")) {                    Plotly.newPlot(                        \"49edc102-3618-4db3-af12-dc9dfd8aff9b\",                        [{\"mode\":\"markers\",\"name\":\"Objective Value\",\"x\":[0,1,2,3,4,5,6,7,8,9,10,11,12,13,14,15,16,17,18,19,20,21,22,23,24,25,26,27,28,29,30,31,32,33,34,35,36,37,38,39,40,41,42,43,44,45,46,47,48,49],\"y\":[58.14466023072968,57.91427367693552,58.53303179991748,58.384396585020184,57.962151912719776,58.89948637343897,58.450225222294605,58.971867304870884,57.88414145416807,58.128090557303665,58.175407629700985,57.2409642182432,57.79107921453713,58.00076529119476,58.38213840730555,57.88935849924807,57.43012018817224,58.318097525583525,58.260514403590534,58.37041882411448,58.50054612898318,58.88117329904395,58.15953177486715,58.09743198952701,57.487080765857385,58.15642139978195,58.313362008354986,58.009074835398295,59.408254736957744,57.74708854413166,58.3997223170504,57.897135654714575,58.027377679238406,58.197580229205506,58.379623968024305,57.83722467917725,57.487080765857385,57.40015423055185,59.52805954056489,58.87580962157519,59.16762883994413,58.01191846764635,56.97433367498089,58.156711201359975,58.77621988078645,57.47620505064437,57.99915532916386,58.17079432862329,57.88431788151386,57.47393391773934],\"type\":\"scatter\"},{\"mode\":\"lines\",\"name\":\"Best Value\",\"x\":[0,1,2,3,4,5,6,7,8,9,10,11,12,13,14,15,16,17,18,19,20,21,22,23,24,25,26,27,28,29,30,31,32,33,34,35,36,37,38,39,40,41,42,43,44,45,46,47,48,49],\"y\":[58.14466023072968,57.91427367693552,57.91427367693552,57.91427367693552,57.91427367693552,57.91427367693552,57.91427367693552,57.91427367693552,57.88414145416807,57.88414145416807,57.88414145416807,57.2409642182432,57.2409642182432,57.2409642182432,57.2409642182432,57.2409642182432,57.2409642182432,57.2409642182432,57.2409642182432,57.2409642182432,57.2409642182432,57.2409642182432,57.2409642182432,57.2409642182432,57.2409642182432,57.2409642182432,57.2409642182432,57.2409642182432,57.2409642182432,57.2409642182432,57.2409642182432,57.2409642182432,57.2409642182432,57.2409642182432,57.2409642182432,57.2409642182432,57.2409642182432,57.2409642182432,57.2409642182432,57.2409642182432,57.2409642182432,57.2409642182432,56.97433367498089,56.97433367498089,56.97433367498089,56.97433367498089,56.97433367498089,56.97433367498089,56.97433367498089,56.97433367498089],\"type\":\"scatter\"},{\"marker\":{\"color\":\"#cccccc\"},\"mode\":\"markers\",\"name\":\"Infeasible Trial\",\"showlegend\":false,\"x\":[],\"y\":[],\"type\":\"scatter\"}],                        {\"title\":{\"text\":\"Optimization History Plot\"},\"xaxis\":{\"title\":{\"text\":\"Trial\"}},\"yaxis\":{\"title\":{\"text\":\"Objective Value\"}},\"template\":{\"data\":{\"histogram2dcontour\":[{\"type\":\"histogram2dcontour\",\"colorbar\":{\"outlinewidth\":0,\"ticks\":\"\"},\"colorscale\":[[0.0,\"#0d0887\"],[0.1111111111111111,\"#46039f\"],[0.2222222222222222,\"#7201a8\"],[0.3333333333333333,\"#9c179e\"],[0.4444444444444444,\"#bd3786\"],[0.5555555555555556,\"#d8576b\"],[0.6666666666666666,\"#ed7953\"],[0.7777777777777778,\"#fb9f3a\"],[0.8888888888888888,\"#fdca26\"],[1.0,\"#f0f921\"]]}],\"choropleth\":[{\"type\":\"choropleth\",\"colorbar\":{\"outlinewidth\":0,\"ticks\":\"\"}}],\"histogram2d\":[{\"type\":\"histogram2d\",\"colorbar\":{\"outlinewidth\":0,\"ticks\":\"\"},\"colorscale\":[[0.0,\"#0d0887\"],[0.1111111111111111,\"#46039f\"],[0.2222222222222222,\"#7201a8\"],[0.3333333333333333,\"#9c179e\"],[0.4444444444444444,\"#bd3786\"],[0.5555555555555556,\"#d8576b\"],[0.6666666666666666,\"#ed7953\"],[0.7777777777777778,\"#fb9f3a\"],[0.8888888888888888,\"#fdca26\"],[1.0,\"#f0f921\"]]}],\"heatmap\":[{\"type\":\"heatmap\",\"colorbar\":{\"outlinewidth\":0,\"ticks\":\"\"},\"colorscale\":[[0.0,\"#0d0887\"],[0.1111111111111111,\"#46039f\"],[0.2222222222222222,\"#7201a8\"],[0.3333333333333333,\"#9c179e\"],[0.4444444444444444,\"#bd3786\"],[0.5555555555555556,\"#d8576b\"],[0.6666666666666666,\"#ed7953\"],[0.7777777777777778,\"#fb9f3a\"],[0.8888888888888888,\"#fdca26\"],[1.0,\"#f0f921\"]]}],\"heatmapgl\":[{\"type\":\"heatmapgl\",\"colorbar\":{\"outlinewidth\":0,\"ticks\":\"\"},\"colorscale\":[[0.0,\"#0d0887\"],[0.1111111111111111,\"#46039f\"],[0.2222222222222222,\"#7201a8\"],[0.3333333333333333,\"#9c179e\"],[0.4444444444444444,\"#bd3786\"],[0.5555555555555556,\"#d8576b\"],[0.6666666666666666,\"#ed7953\"],[0.7777777777777778,\"#fb9f3a\"],[0.8888888888888888,\"#fdca26\"],[1.0,\"#f0f921\"]]}],\"contourcarpet\":[{\"type\":\"contourcarpet\",\"colorbar\":{\"outlinewidth\":0,\"ticks\":\"\"}}],\"contour\":[{\"type\":\"contour\",\"colorbar\":{\"outlinewidth\":0,\"ticks\":\"\"},\"colorscale\":[[0.0,\"#0d0887\"],[0.1111111111111111,\"#46039f\"],[0.2222222222222222,\"#7201a8\"],[0.3333333333333333,\"#9c179e\"],[0.4444444444444444,\"#bd3786\"],[0.5555555555555556,\"#d8576b\"],[0.6666666666666666,\"#ed7953\"],[0.7777777777777778,\"#fb9f3a\"],[0.8888888888888888,\"#fdca26\"],[1.0,\"#f0f921\"]]}],\"surface\":[{\"type\":\"surface\",\"colorbar\":{\"outlinewidth\":0,\"ticks\":\"\"},\"colorscale\":[[0.0,\"#0d0887\"],[0.1111111111111111,\"#46039f\"],[0.2222222222222222,\"#7201a8\"],[0.3333333333333333,\"#9c179e\"],[0.4444444444444444,\"#bd3786\"],[0.5555555555555556,\"#d8576b\"],[0.6666666666666666,\"#ed7953\"],[0.7777777777777778,\"#fb9f3a\"],[0.8888888888888888,\"#fdca26\"],[1.0,\"#f0f921\"]]}],\"mesh3d\":[{\"type\":\"mesh3d\",\"colorbar\":{\"outlinewidth\":0,\"ticks\":\"\"}}],\"scatter\":[{\"fillpattern\":{\"fillmode\":\"overlay\",\"size\":10,\"solidity\":0.2},\"type\":\"scatter\"}],\"parcoords\":[{\"type\":\"parcoords\",\"line\":{\"colorbar\":{\"outlinewidth\":0,\"ticks\":\"\"}}}],\"scatterpolargl\":[{\"type\":\"scatterpolargl\",\"marker\":{\"colorbar\":{\"outlinewidth\":0,\"ticks\":\"\"}}}],\"bar\":[{\"error_x\":{\"color\":\"#2a3f5f\"},\"error_y\":{\"color\":\"#2a3f5f\"},\"marker\":{\"line\":{\"color\":\"#E5ECF6\",\"width\":0.5},\"pattern\":{\"fillmode\":\"overlay\",\"size\":10,\"solidity\":0.2}},\"type\":\"bar\"}],\"scattergeo\":[{\"type\":\"scattergeo\",\"marker\":{\"colorbar\":{\"outlinewidth\":0,\"ticks\":\"\"}}}],\"scatterpolar\":[{\"type\":\"scatterpolar\",\"marker\":{\"colorbar\":{\"outlinewidth\":0,\"ticks\":\"\"}}}],\"histogram\":[{\"marker\":{\"pattern\":{\"fillmode\":\"overlay\",\"size\":10,\"solidity\":0.2}},\"type\":\"histogram\"}],\"scattergl\":[{\"type\":\"scattergl\",\"marker\":{\"colorbar\":{\"outlinewidth\":0,\"ticks\":\"\"}}}],\"scatter3d\":[{\"type\":\"scatter3d\",\"line\":{\"colorbar\":{\"outlinewidth\":0,\"ticks\":\"\"}},\"marker\":{\"colorbar\":{\"outlinewidth\":0,\"ticks\":\"\"}}}],\"scattermapbox\":[{\"type\":\"scattermapbox\",\"marker\":{\"colorbar\":{\"outlinewidth\":0,\"ticks\":\"\"}}}],\"scatterternary\":[{\"type\":\"scatterternary\",\"marker\":{\"colorbar\":{\"outlinewidth\":0,\"ticks\":\"\"}}}],\"scattercarpet\":[{\"type\":\"scattercarpet\",\"marker\":{\"colorbar\":{\"outlinewidth\":0,\"ticks\":\"\"}}}],\"carpet\":[{\"aaxis\":{\"endlinecolor\":\"#2a3f5f\",\"gridcolor\":\"white\",\"linecolor\":\"white\",\"minorgridcolor\":\"white\",\"startlinecolor\":\"#2a3f5f\"},\"baxis\":{\"endlinecolor\":\"#2a3f5f\",\"gridcolor\":\"white\",\"linecolor\":\"white\",\"minorgridcolor\":\"white\",\"startlinecolor\":\"#2a3f5f\"},\"type\":\"carpet\"}],\"table\":[{\"cells\":{\"fill\":{\"color\":\"#EBF0F8\"},\"line\":{\"color\":\"white\"}},\"header\":{\"fill\":{\"color\":\"#C8D4E3\"},\"line\":{\"color\":\"white\"}},\"type\":\"table\"}],\"barpolar\":[{\"marker\":{\"line\":{\"color\":\"#E5ECF6\",\"width\":0.5},\"pattern\":{\"fillmode\":\"overlay\",\"size\":10,\"solidity\":0.2}},\"type\":\"barpolar\"}],\"pie\":[{\"automargin\":true,\"type\":\"pie\"}]},\"layout\":{\"autotypenumbers\":\"strict\",\"colorway\":[\"#636efa\",\"#EF553B\",\"#00cc96\",\"#ab63fa\",\"#FFA15A\",\"#19d3f3\",\"#FF6692\",\"#B6E880\",\"#FF97FF\",\"#FECB52\"],\"font\":{\"color\":\"#2a3f5f\"},\"hovermode\":\"closest\",\"hoverlabel\":{\"align\":\"left\"},\"paper_bgcolor\":\"white\",\"plot_bgcolor\":\"#E5ECF6\",\"polar\":{\"bgcolor\":\"#E5ECF6\",\"angularaxis\":{\"gridcolor\":\"white\",\"linecolor\":\"white\",\"ticks\":\"\"},\"radialaxis\":{\"gridcolor\":\"white\",\"linecolor\":\"white\",\"ticks\":\"\"}},\"ternary\":{\"bgcolor\":\"#E5ECF6\",\"aaxis\":{\"gridcolor\":\"white\",\"linecolor\":\"white\",\"ticks\":\"\"},\"baxis\":{\"gridcolor\":\"white\",\"linecolor\":\"white\",\"ticks\":\"\"},\"caxis\":{\"gridcolor\":\"white\",\"linecolor\":\"white\",\"ticks\":\"\"}},\"coloraxis\":{\"colorbar\":{\"outlinewidth\":0,\"ticks\":\"\"}},\"colorscale\":{\"sequential\":[[0.0,\"#0d0887\"],[0.1111111111111111,\"#46039f\"],[0.2222222222222222,\"#7201a8\"],[0.3333333333333333,\"#9c179e\"],[0.4444444444444444,\"#bd3786\"],[0.5555555555555556,\"#d8576b\"],[0.6666666666666666,\"#ed7953\"],[0.7777777777777778,\"#fb9f3a\"],[0.8888888888888888,\"#fdca26\"],[1.0,\"#f0f921\"]],\"sequentialminus\":[[0.0,\"#0d0887\"],[0.1111111111111111,\"#46039f\"],[0.2222222222222222,\"#7201a8\"],[0.3333333333333333,\"#9c179e\"],[0.4444444444444444,\"#bd3786\"],[0.5555555555555556,\"#d8576b\"],[0.6666666666666666,\"#ed7953\"],[0.7777777777777778,\"#fb9f3a\"],[0.8888888888888888,\"#fdca26\"],[1.0,\"#f0f921\"]],\"diverging\":[[0,\"#8e0152\"],[0.1,\"#c51b7d\"],[0.2,\"#de77ae\"],[0.3,\"#f1b6da\"],[0.4,\"#fde0ef\"],[0.5,\"#f7f7f7\"],[0.6,\"#e6f5d0\"],[0.7,\"#b8e186\"],[0.8,\"#7fbc41\"],[0.9,\"#4d9221\"],[1,\"#276419\"]]},\"xaxis\":{\"gridcolor\":\"white\",\"linecolor\":\"white\",\"ticks\":\"\",\"title\":{\"standoff\":15},\"zerolinecolor\":\"white\",\"automargin\":true,\"zerolinewidth\":2},\"yaxis\":{\"gridcolor\":\"white\",\"linecolor\":\"white\",\"ticks\":\"\",\"title\":{\"standoff\":15},\"zerolinecolor\":\"white\",\"automargin\":true,\"zerolinewidth\":2},\"scene\":{\"xaxis\":{\"backgroundcolor\":\"#E5ECF6\",\"gridcolor\":\"white\",\"linecolor\":\"white\",\"showbackground\":true,\"ticks\":\"\",\"zerolinecolor\":\"white\",\"gridwidth\":2},\"yaxis\":{\"backgroundcolor\":\"#E5ECF6\",\"gridcolor\":\"white\",\"linecolor\":\"white\",\"showbackground\":true,\"ticks\":\"\",\"zerolinecolor\":\"white\",\"gridwidth\":2},\"zaxis\":{\"backgroundcolor\":\"#E5ECF6\",\"gridcolor\":\"white\",\"linecolor\":\"white\",\"showbackground\":true,\"ticks\":\"\",\"zerolinecolor\":\"white\",\"gridwidth\":2}},\"shapedefaults\":{\"line\":{\"color\":\"#2a3f5f\"}},\"annotationdefaults\":{\"arrowcolor\":\"#2a3f5f\",\"arrowhead\":0,\"arrowwidth\":1},\"geo\":{\"bgcolor\":\"white\",\"landcolor\":\"#E5ECF6\",\"subunitcolor\":\"white\",\"showland\":true,\"showlakes\":true,\"lakecolor\":\"white\"},\"title\":{\"x\":0.05},\"mapbox\":{\"style\":\"light\"}}}},                        {\"responsive\": true}                    )                };                            </script>        </div>"
      ],
      "text/plain": [
       "Figure({\n",
       "    'data': [{'mode': 'markers',\n",
       "              'name': 'Objective Value',\n",
       "              'type': 'scatter',\n",
       "              'x': [0, 1, 2, 3, 4, 5, 6, 7, 8, 9, 10, 11, 12, 13, 14, 15, 16, 17,\n",
       "                    18, 19, 20, 21, 22, 23, 24, 25, 26, 27, 28, 29, 30, 31, 32, 33,\n",
       "                    34, 35, 36, 37, 38, 39, 40, 41, 42, 43, 44, 45, 46, 47, 48, 49],\n",
       "              'y': [58.14466023072968, 57.91427367693552, 58.53303179991748,\n",
       "                    58.384396585020184, 57.962151912719776, 58.89948637343897,\n",
       "                    58.450225222294605, 58.971867304870884, 57.88414145416807,\n",
       "                    58.128090557303665, 58.175407629700985, 57.2409642182432,\n",
       "                    57.79107921453713, 58.00076529119476, 58.38213840730555,\n",
       "                    57.88935849924807, 57.43012018817224, 58.318097525583525,\n",
       "                    58.260514403590534, 58.37041882411448, 58.50054612898318,\n",
       "                    58.88117329904395, 58.15953177486715, 58.09743198952701,\n",
       "                    57.487080765857385, 58.15642139978195, 58.313362008354986,\n",
       "                    58.009074835398295, 59.408254736957744, 57.74708854413166,\n",
       "                    58.3997223170504, 57.897135654714575, 58.027377679238406,\n",
       "                    58.197580229205506, 58.379623968024305, 57.83722467917725,\n",
       "                    57.487080765857385, 57.40015423055185, 59.52805954056489,\n",
       "                    58.87580962157519, 59.16762883994413, 58.01191846764635,\n",
       "                    56.97433367498089, 58.156711201359975, 58.77621988078645,\n",
       "                    57.47620505064437, 57.99915532916386, 58.17079432862329,\n",
       "                    57.88431788151386, 57.47393391773934]},\n",
       "             {'mode': 'lines',\n",
       "              'name': 'Best Value',\n",
       "              'type': 'scatter',\n",
       "              'x': [0, 1, 2, 3, 4, 5, 6, 7, 8, 9, 10, 11, 12, 13, 14, 15, 16, 17,\n",
       "                    18, 19, 20, 21, 22, 23, 24, 25, 26, 27, 28, 29, 30, 31, 32, 33,\n",
       "                    34, 35, 36, 37, 38, 39, 40, 41, 42, 43, 44, 45, 46, 47, 48, 49],\n",
       "              'y': [58.14466023072968, 57.91427367693552, 57.91427367693552,\n",
       "                    57.91427367693552, 57.91427367693552, 57.91427367693552,\n",
       "                    57.91427367693552, 57.91427367693552, 57.88414145416807,\n",
       "                    57.88414145416807, 57.88414145416807, 57.2409642182432,\n",
       "                    57.2409642182432, 57.2409642182432, 57.2409642182432,\n",
       "                    57.2409642182432, 57.2409642182432, 57.2409642182432,\n",
       "                    57.2409642182432, 57.2409642182432, 57.2409642182432,\n",
       "                    57.2409642182432, 57.2409642182432, 57.2409642182432,\n",
       "                    57.2409642182432, 57.2409642182432, 57.2409642182432,\n",
       "                    57.2409642182432, 57.2409642182432, 57.2409642182432,\n",
       "                    57.2409642182432, 57.2409642182432, 57.2409642182432,\n",
       "                    57.2409642182432, 57.2409642182432, 57.2409642182432,\n",
       "                    57.2409642182432, 57.2409642182432, 57.2409642182432,\n",
       "                    57.2409642182432, 57.2409642182432, 57.2409642182432,\n",
       "                    56.97433367498089, 56.97433367498089, 56.97433367498089,\n",
       "                    56.97433367498089, 56.97433367498089, 56.97433367498089,\n",
       "                    56.97433367498089, 56.97433367498089]},\n",
       "             {'marker': {'color': '#cccccc'},\n",
       "              'mode': 'markers',\n",
       "              'name': 'Infeasible Trial',\n",
       "              'showlegend': False,\n",
       "              'type': 'scatter',\n",
       "              'x': [],\n",
       "              'y': []}],\n",
       "    'layout': {'template': '...',\n",
       "               'title': {'text': 'Optimization History Plot'},\n",
       "               'xaxis': {'title': {'text': 'Trial'}},\n",
       "               'yaxis': {'title': {'text': 'Objective Value'}}}\n",
       "})"
      ]
     },
     "execution_count": 22,
     "metadata": {},
     "output_type": "execute_result"
    }
   ],
   "source": [
    "optuna.visualization.plot_optimization_history(study)"
   ]
  },
  {
   "cell_type": "code",
   "execution_count": 23,
   "metadata": {},
   "outputs": [
    {
     "ename": "ValueError",
     "evalue": "Mime type rendering requires nbformat>=4.2.0 but it is not installed",
     "output_type": "error",
     "traceback": [
      "\u001b[1;31m---------------------------------------------------------------------------\u001b[0m",
      "\u001b[1;31mValueError\u001b[0m                                Traceback (most recent call last)",
      "File \u001b[1;32m~\\AppData\\Roaming\\Python\\Python312\\site-packages\\IPython\\core\\formatters.py:922\u001b[0m, in \u001b[0;36mIPythonDisplayFormatter.__call__\u001b[1;34m(self, obj)\u001b[0m\n\u001b[0;32m    920\u001b[0m method \u001b[38;5;241m=\u001b[39m get_real_method(obj, \u001b[38;5;28mself\u001b[39m\u001b[38;5;241m.\u001b[39mprint_method)\n\u001b[0;32m    921\u001b[0m \u001b[38;5;28;01mif\u001b[39;00m method \u001b[38;5;129;01mis\u001b[39;00m \u001b[38;5;129;01mnot\u001b[39;00m \u001b[38;5;28;01mNone\u001b[39;00m:\n\u001b[1;32m--> 922\u001b[0m     \u001b[43mmethod\u001b[49m\u001b[43m(\u001b[49m\u001b[43m)\u001b[49m\n\u001b[0;32m    923\u001b[0m     \u001b[38;5;28;01mreturn\u001b[39;00m \u001b[38;5;28;01mTrue\u001b[39;00m\n",
      "File \u001b[1;32mc:\\Users\\hp\\AppData\\Local\\Programs\\Python\\Python312\\Lib\\site-packages\\plotly\\basedatatypes.py:832\u001b[0m, in \u001b[0;36mBaseFigure._ipython_display_\u001b[1;34m(self)\u001b[0m\n\u001b[0;32m    829\u001b[0m \u001b[38;5;28;01mimport\u001b[39;00m \u001b[38;5;21;01mplotly\u001b[39;00m\u001b[38;5;21;01m.\u001b[39;00m\u001b[38;5;21;01mio\u001b[39;00m \u001b[38;5;28;01mas\u001b[39;00m \u001b[38;5;21;01mpio\u001b[39;00m\n\u001b[0;32m    831\u001b[0m \u001b[38;5;28;01mif\u001b[39;00m pio\u001b[38;5;241m.\u001b[39mrenderers\u001b[38;5;241m.\u001b[39mrender_on_display \u001b[38;5;129;01mand\u001b[39;00m pio\u001b[38;5;241m.\u001b[39mrenderers\u001b[38;5;241m.\u001b[39mdefault:\n\u001b[1;32m--> 832\u001b[0m     \u001b[43mpio\u001b[49m\u001b[38;5;241;43m.\u001b[39;49m\u001b[43mshow\u001b[49m\u001b[43m(\u001b[49m\u001b[38;5;28;43mself\u001b[39;49m\u001b[43m)\u001b[49m\n\u001b[0;32m    833\u001b[0m \u001b[38;5;28;01melse\u001b[39;00m:\n\u001b[0;32m    834\u001b[0m     \u001b[38;5;28mprint\u001b[39m(\u001b[38;5;28mrepr\u001b[39m(\u001b[38;5;28mself\u001b[39m))\n",
      "File \u001b[1;32mc:\\Users\\hp\\AppData\\Local\\Programs\\Python\\Python312\\Lib\\site-packages\\plotly\\io\\_renderers.py:394\u001b[0m, in \u001b[0;36mshow\u001b[1;34m(fig, renderer, validate, **kwargs)\u001b[0m\n\u001b[0;32m    389\u001b[0m         \u001b[38;5;28;01mraise\u001b[39;00m \u001b[38;5;167;01mValueError\u001b[39;00m(\n\u001b[0;32m    390\u001b[0m             \u001b[38;5;124m\"\u001b[39m\u001b[38;5;124mMime type rendering requires ipython but it is not installed\u001b[39m\u001b[38;5;124m\"\u001b[39m\n\u001b[0;32m    391\u001b[0m         )\n\u001b[0;32m    393\u001b[0m     \u001b[38;5;28;01mif\u001b[39;00m \u001b[38;5;129;01mnot\u001b[39;00m nbformat \u001b[38;5;129;01mor\u001b[39;00m Version(nbformat\u001b[38;5;241m.\u001b[39m__version__) \u001b[38;5;241m<\u001b[39m Version(\u001b[38;5;124m\"\u001b[39m\u001b[38;5;124m4.2.0\u001b[39m\u001b[38;5;124m\"\u001b[39m):\n\u001b[1;32m--> 394\u001b[0m         \u001b[38;5;28;01mraise\u001b[39;00m \u001b[38;5;167;01mValueError\u001b[39;00m(\n\u001b[0;32m    395\u001b[0m             \u001b[38;5;124m\"\u001b[39m\u001b[38;5;124mMime type rendering requires nbformat>=4.2.0 but it is not installed\u001b[39m\u001b[38;5;124m\"\u001b[39m\n\u001b[0;32m    396\u001b[0m         )\n\u001b[0;32m    398\u001b[0m     ipython_display\u001b[38;5;241m.\u001b[39mdisplay(bundle, raw\u001b[38;5;241m=\u001b[39m\u001b[38;5;28;01mTrue\u001b[39;00m)\n\u001b[0;32m    400\u001b[0m \u001b[38;5;66;03m# external renderers\u001b[39;00m\n",
      "\u001b[1;31mValueError\u001b[0m: Mime type rendering requires nbformat>=4.2.0 but it is not installed"
     ]
    },
    {
     "data": {
      "application/vnd.plotly.v1+json": {
       "config": {
        "plotlyServerURL": "https://plot.ly"
       },
       "data": [
        {
         "dimensions": [
          {
           "label": "Objective Value",
           "range": [
            56.97433367498089,
            59.52805954056489
           ],
           "values": [
            58.14466023072968,
            57.91427367693552,
            58.53303179991748,
            58.384396585020184,
            57.962151912719776,
            58.89948637343897,
            58.450225222294605,
            58.971867304870884,
            57.88414145416807,
            58.128090557303665,
            58.175407629700985,
            57.2409642182432,
            57.79107921453713,
            58.00076529119476,
            58.38213840730555,
            57.88935849924807,
            57.43012018817224,
            58.318097525583525,
            58.260514403590534,
            58.37041882411448,
            58.50054612898318,
            58.88117329904395,
            58.15953177486715,
            58.09743198952701,
            57.487080765857385,
            58.15642139978195,
            58.313362008354986,
            58.009074835398295,
            59.408254736957744,
            57.74708854413166,
            58.3997223170504,
            57.897135654714575,
            58.027377679238406,
            58.197580229205506,
            58.379623968024305,
            57.83722467917725,
            57.487080765857385,
            57.40015423055185,
            59.52805954056489,
            58.87580962157519,
            59.16762883994413,
            58.01191846764635,
            56.97433367498089,
            58.156711201359975,
            58.77621988078645,
            57.47620505064437,
            57.99915532916386,
            58.17079432862329,
            57.88431788151386,
            57.47393391773934
           ]
          },
          {
           "label": "criterion",
           "range": [
            0,
            2
           ],
           "ticktext": [
            "absolute_error",
            "poisson",
            "squared_error"
           ],
           "tickvals": [
            0,
            1,
            2
           ],
           "values": [
            0,
            1,
            0,
            1,
            2,
            1,
            1,
            2,
            0,
            2,
            1,
            0,
            0,
            1,
            0,
            2,
            2,
            1,
            1,
            1,
            1,
            2,
            0,
            0,
            0,
            0,
            1,
            0,
            1,
            0,
            1,
            1,
            0,
            1,
            1,
            0,
            0,
            0,
            2,
            1,
            2,
            1,
            2,
            0,
            1,
            2,
            1,
            2,
            0,
            2
           ]
          },
          {
           "label": "max_depth",
           "range": [
            2,
            10
           ],
           "values": [
            10,
            3,
            9,
            9,
            7,
            5,
            8,
            9,
            8,
            6,
            6,
            6,
            3,
            4,
            8,
            2,
            5,
            6,
            6,
            2,
            7,
            6,
            10,
            10,
            5,
            9,
            5,
            3,
            10,
            3,
            7,
            3,
            8,
            5,
            4,
            7,
            5,
            4,
            6,
            10,
            8,
            4,
            3,
            8,
            9,
            5,
            4,
            2,
            9,
            5
           ]
          },
          {
           "label": "n_estiimators",
           "range": [
            10,
            100
           ],
           "values": [
            57,
            73,
            10,
            100,
            85,
            23,
            86,
            17,
            64,
            32,
            92,
            17,
            94,
            97,
            28,
            67,
            83,
            56,
            79,
            10,
            69,
            21,
            65,
            17,
            68,
            46,
            54,
            12,
            21,
            37,
            77,
            20,
            51,
            87,
            14,
            79,
            68,
            20,
            12,
            54,
            16,
            41,
            67,
            46,
            60,
            90,
            99,
            91,
            81,
            91
           ]
          }
         ],
         "labelangle": 30,
         "labelside": "bottom",
         "line": {
          "color": [
           58.14466023072968,
           57.91427367693552,
           58.53303179991748,
           58.384396585020184,
           57.962151912719776,
           58.89948637343897,
           58.450225222294605,
           58.971867304870884,
           57.88414145416807,
           58.128090557303665,
           58.175407629700985,
           57.2409642182432,
           57.79107921453713,
           58.00076529119476,
           58.38213840730555,
           57.88935849924807,
           57.43012018817224,
           58.318097525583525,
           58.260514403590534,
           58.37041882411448,
           58.50054612898318,
           58.88117329904395,
           58.15953177486715,
           58.09743198952701,
           57.487080765857385,
           58.15642139978195,
           58.313362008354986,
           58.009074835398295,
           59.408254736957744,
           57.74708854413166,
           58.3997223170504,
           57.897135654714575,
           58.027377679238406,
           58.197580229205506,
           58.379623968024305,
           57.83722467917725,
           57.487080765857385,
           57.40015423055185,
           59.52805954056489,
           58.87580962157519,
           59.16762883994413,
           58.01191846764635,
           56.97433367498089,
           58.156711201359975,
           58.77621988078645,
           57.47620505064437,
           57.99915532916386,
           58.17079432862329,
           57.88431788151386,
           57.47393391773934
          ],
          "colorbar": {
           "title": {
            "text": "Objective Value"
           }
          },
          "colorscale": [
           [
            0,
            "rgb(247,251,255)"
           ],
           [
            0.125,
            "rgb(222,235,247)"
           ],
           [
            0.25,
            "rgb(198,219,239)"
           ],
           [
            0.375,
            "rgb(158,202,225)"
           ],
           [
            0.5,
            "rgb(107,174,214)"
           ],
           [
            0.625,
            "rgb(66,146,198)"
           ],
           [
            0.75,
            "rgb(33,113,181)"
           ],
           [
            0.875,
            "rgb(8,81,156)"
           ],
           [
            1,
            "rgb(8,48,107)"
           ]
          ],
          "reversescale": true,
          "showscale": true
         },
         "type": "parcoords"
        }
       ],
       "layout": {
        "template": {
         "data": {
          "bar": [
           {
            "error_x": {
             "color": "#2a3f5f"
            },
            "error_y": {
             "color": "#2a3f5f"
            },
            "marker": {
             "line": {
              "color": "#E5ECF6",
              "width": 0.5
             },
             "pattern": {
              "fillmode": "overlay",
              "size": 10,
              "solidity": 0.2
             }
            },
            "type": "bar"
           }
          ],
          "barpolar": [
           {
            "marker": {
             "line": {
              "color": "#E5ECF6",
              "width": 0.5
             },
             "pattern": {
              "fillmode": "overlay",
              "size": 10,
              "solidity": 0.2
             }
            },
            "type": "barpolar"
           }
          ],
          "carpet": [
           {
            "aaxis": {
             "endlinecolor": "#2a3f5f",
             "gridcolor": "white",
             "linecolor": "white",
             "minorgridcolor": "white",
             "startlinecolor": "#2a3f5f"
            },
            "baxis": {
             "endlinecolor": "#2a3f5f",
             "gridcolor": "white",
             "linecolor": "white",
             "minorgridcolor": "white",
             "startlinecolor": "#2a3f5f"
            },
            "type": "carpet"
           }
          ],
          "choropleth": [
           {
            "colorbar": {
             "outlinewidth": 0,
             "ticks": ""
            },
            "type": "choropleth"
           }
          ],
          "contour": [
           {
            "colorbar": {
             "outlinewidth": 0,
             "ticks": ""
            },
            "colorscale": [
             [
              0,
              "#0d0887"
             ],
             [
              0.1111111111111111,
              "#46039f"
             ],
             [
              0.2222222222222222,
              "#7201a8"
             ],
             [
              0.3333333333333333,
              "#9c179e"
             ],
             [
              0.4444444444444444,
              "#bd3786"
             ],
             [
              0.5555555555555556,
              "#d8576b"
             ],
             [
              0.6666666666666666,
              "#ed7953"
             ],
             [
              0.7777777777777778,
              "#fb9f3a"
             ],
             [
              0.8888888888888888,
              "#fdca26"
             ],
             [
              1,
              "#f0f921"
             ]
            ],
            "type": "contour"
           }
          ],
          "contourcarpet": [
           {
            "colorbar": {
             "outlinewidth": 0,
             "ticks": ""
            },
            "type": "contourcarpet"
           }
          ],
          "heatmap": [
           {
            "colorbar": {
             "outlinewidth": 0,
             "ticks": ""
            },
            "colorscale": [
             [
              0,
              "#0d0887"
             ],
             [
              0.1111111111111111,
              "#46039f"
             ],
             [
              0.2222222222222222,
              "#7201a8"
             ],
             [
              0.3333333333333333,
              "#9c179e"
             ],
             [
              0.4444444444444444,
              "#bd3786"
             ],
             [
              0.5555555555555556,
              "#d8576b"
             ],
             [
              0.6666666666666666,
              "#ed7953"
             ],
             [
              0.7777777777777778,
              "#fb9f3a"
             ],
             [
              0.8888888888888888,
              "#fdca26"
             ],
             [
              1,
              "#f0f921"
             ]
            ],
            "type": "heatmap"
           }
          ],
          "heatmapgl": [
           {
            "colorbar": {
             "outlinewidth": 0,
             "ticks": ""
            },
            "colorscale": [
             [
              0,
              "#0d0887"
             ],
             [
              0.1111111111111111,
              "#46039f"
             ],
             [
              0.2222222222222222,
              "#7201a8"
             ],
             [
              0.3333333333333333,
              "#9c179e"
             ],
             [
              0.4444444444444444,
              "#bd3786"
             ],
             [
              0.5555555555555556,
              "#d8576b"
             ],
             [
              0.6666666666666666,
              "#ed7953"
             ],
             [
              0.7777777777777778,
              "#fb9f3a"
             ],
             [
              0.8888888888888888,
              "#fdca26"
             ],
             [
              1,
              "#f0f921"
             ]
            ],
            "type": "heatmapgl"
           }
          ],
          "histogram": [
           {
            "marker": {
             "pattern": {
              "fillmode": "overlay",
              "size": 10,
              "solidity": 0.2
             }
            },
            "type": "histogram"
           }
          ],
          "histogram2d": [
           {
            "colorbar": {
             "outlinewidth": 0,
             "ticks": ""
            },
            "colorscale": [
             [
              0,
              "#0d0887"
             ],
             [
              0.1111111111111111,
              "#46039f"
             ],
             [
              0.2222222222222222,
              "#7201a8"
             ],
             [
              0.3333333333333333,
              "#9c179e"
             ],
             [
              0.4444444444444444,
              "#bd3786"
             ],
             [
              0.5555555555555556,
              "#d8576b"
             ],
             [
              0.6666666666666666,
              "#ed7953"
             ],
             [
              0.7777777777777778,
              "#fb9f3a"
             ],
             [
              0.8888888888888888,
              "#fdca26"
             ],
             [
              1,
              "#f0f921"
             ]
            ],
            "type": "histogram2d"
           }
          ],
          "histogram2dcontour": [
           {
            "colorbar": {
             "outlinewidth": 0,
             "ticks": ""
            },
            "colorscale": [
             [
              0,
              "#0d0887"
             ],
             [
              0.1111111111111111,
              "#46039f"
             ],
             [
              0.2222222222222222,
              "#7201a8"
             ],
             [
              0.3333333333333333,
              "#9c179e"
             ],
             [
              0.4444444444444444,
              "#bd3786"
             ],
             [
              0.5555555555555556,
              "#d8576b"
             ],
             [
              0.6666666666666666,
              "#ed7953"
             ],
             [
              0.7777777777777778,
              "#fb9f3a"
             ],
             [
              0.8888888888888888,
              "#fdca26"
             ],
             [
              1,
              "#f0f921"
             ]
            ],
            "type": "histogram2dcontour"
           }
          ],
          "mesh3d": [
           {
            "colorbar": {
             "outlinewidth": 0,
             "ticks": ""
            },
            "type": "mesh3d"
           }
          ],
          "parcoords": [
           {
            "line": {
             "colorbar": {
              "outlinewidth": 0,
              "ticks": ""
             }
            },
            "type": "parcoords"
           }
          ],
          "pie": [
           {
            "automargin": true,
            "type": "pie"
           }
          ],
          "scatter": [
           {
            "fillpattern": {
             "fillmode": "overlay",
             "size": 10,
             "solidity": 0.2
            },
            "type": "scatter"
           }
          ],
          "scatter3d": [
           {
            "line": {
             "colorbar": {
              "outlinewidth": 0,
              "ticks": ""
             }
            },
            "marker": {
             "colorbar": {
              "outlinewidth": 0,
              "ticks": ""
             }
            },
            "type": "scatter3d"
           }
          ],
          "scattercarpet": [
           {
            "marker": {
             "colorbar": {
              "outlinewidth": 0,
              "ticks": ""
             }
            },
            "type": "scattercarpet"
           }
          ],
          "scattergeo": [
           {
            "marker": {
             "colorbar": {
              "outlinewidth": 0,
              "ticks": ""
             }
            },
            "type": "scattergeo"
           }
          ],
          "scattergl": [
           {
            "marker": {
             "colorbar": {
              "outlinewidth": 0,
              "ticks": ""
             }
            },
            "type": "scattergl"
           }
          ],
          "scattermapbox": [
           {
            "marker": {
             "colorbar": {
              "outlinewidth": 0,
              "ticks": ""
             }
            },
            "type": "scattermapbox"
           }
          ],
          "scatterpolar": [
           {
            "marker": {
             "colorbar": {
              "outlinewidth": 0,
              "ticks": ""
             }
            },
            "type": "scatterpolar"
           }
          ],
          "scatterpolargl": [
           {
            "marker": {
             "colorbar": {
              "outlinewidth": 0,
              "ticks": ""
             }
            },
            "type": "scatterpolargl"
           }
          ],
          "scatterternary": [
           {
            "marker": {
             "colorbar": {
              "outlinewidth": 0,
              "ticks": ""
             }
            },
            "type": "scatterternary"
           }
          ],
          "surface": [
           {
            "colorbar": {
             "outlinewidth": 0,
             "ticks": ""
            },
            "colorscale": [
             [
              0,
              "#0d0887"
             ],
             [
              0.1111111111111111,
              "#46039f"
             ],
             [
              0.2222222222222222,
              "#7201a8"
             ],
             [
              0.3333333333333333,
              "#9c179e"
             ],
             [
              0.4444444444444444,
              "#bd3786"
             ],
             [
              0.5555555555555556,
              "#d8576b"
             ],
             [
              0.6666666666666666,
              "#ed7953"
             ],
             [
              0.7777777777777778,
              "#fb9f3a"
             ],
             [
              0.8888888888888888,
              "#fdca26"
             ],
             [
              1,
              "#f0f921"
             ]
            ],
            "type": "surface"
           }
          ],
          "table": [
           {
            "cells": {
             "fill": {
              "color": "#EBF0F8"
             },
             "line": {
              "color": "white"
             }
            },
            "header": {
             "fill": {
              "color": "#C8D4E3"
             },
             "line": {
              "color": "white"
             }
            },
            "type": "table"
           }
          ]
         },
         "layout": {
          "annotationdefaults": {
           "arrowcolor": "#2a3f5f",
           "arrowhead": 0,
           "arrowwidth": 1
          },
          "autotypenumbers": "strict",
          "coloraxis": {
           "colorbar": {
            "outlinewidth": 0,
            "ticks": ""
           }
          },
          "colorscale": {
           "diverging": [
            [
             0,
             "#8e0152"
            ],
            [
             0.1,
             "#c51b7d"
            ],
            [
             0.2,
             "#de77ae"
            ],
            [
             0.3,
             "#f1b6da"
            ],
            [
             0.4,
             "#fde0ef"
            ],
            [
             0.5,
             "#f7f7f7"
            ],
            [
             0.6,
             "#e6f5d0"
            ],
            [
             0.7,
             "#b8e186"
            ],
            [
             0.8,
             "#7fbc41"
            ],
            [
             0.9,
             "#4d9221"
            ],
            [
             1,
             "#276419"
            ]
           ],
           "sequential": [
            [
             0,
             "#0d0887"
            ],
            [
             0.1111111111111111,
             "#46039f"
            ],
            [
             0.2222222222222222,
             "#7201a8"
            ],
            [
             0.3333333333333333,
             "#9c179e"
            ],
            [
             0.4444444444444444,
             "#bd3786"
            ],
            [
             0.5555555555555556,
             "#d8576b"
            ],
            [
             0.6666666666666666,
             "#ed7953"
            ],
            [
             0.7777777777777778,
             "#fb9f3a"
            ],
            [
             0.8888888888888888,
             "#fdca26"
            ],
            [
             1,
             "#f0f921"
            ]
           ],
           "sequentialminus": [
            [
             0,
             "#0d0887"
            ],
            [
             0.1111111111111111,
             "#46039f"
            ],
            [
             0.2222222222222222,
             "#7201a8"
            ],
            [
             0.3333333333333333,
             "#9c179e"
            ],
            [
             0.4444444444444444,
             "#bd3786"
            ],
            [
             0.5555555555555556,
             "#d8576b"
            ],
            [
             0.6666666666666666,
             "#ed7953"
            ],
            [
             0.7777777777777778,
             "#fb9f3a"
            ],
            [
             0.8888888888888888,
             "#fdca26"
            ],
            [
             1,
             "#f0f921"
            ]
           ]
          },
          "colorway": [
           "#636efa",
           "#EF553B",
           "#00cc96",
           "#ab63fa",
           "#FFA15A",
           "#19d3f3",
           "#FF6692",
           "#B6E880",
           "#FF97FF",
           "#FECB52"
          ],
          "font": {
           "color": "#2a3f5f"
          },
          "geo": {
           "bgcolor": "white",
           "lakecolor": "white",
           "landcolor": "#E5ECF6",
           "showlakes": true,
           "showland": true,
           "subunitcolor": "white"
          },
          "hoverlabel": {
           "align": "left"
          },
          "hovermode": "closest",
          "mapbox": {
           "style": "light"
          },
          "paper_bgcolor": "white",
          "plot_bgcolor": "#E5ECF6",
          "polar": {
           "angularaxis": {
            "gridcolor": "white",
            "linecolor": "white",
            "ticks": ""
           },
           "bgcolor": "#E5ECF6",
           "radialaxis": {
            "gridcolor": "white",
            "linecolor": "white",
            "ticks": ""
           }
          },
          "scene": {
           "xaxis": {
            "backgroundcolor": "#E5ECF6",
            "gridcolor": "white",
            "gridwidth": 2,
            "linecolor": "white",
            "showbackground": true,
            "ticks": "",
            "zerolinecolor": "white"
           },
           "yaxis": {
            "backgroundcolor": "#E5ECF6",
            "gridcolor": "white",
            "gridwidth": 2,
            "linecolor": "white",
            "showbackground": true,
            "ticks": "",
            "zerolinecolor": "white"
           },
           "zaxis": {
            "backgroundcolor": "#E5ECF6",
            "gridcolor": "white",
            "gridwidth": 2,
            "linecolor": "white",
            "showbackground": true,
            "ticks": "",
            "zerolinecolor": "white"
           }
          },
          "shapedefaults": {
           "line": {
            "color": "#2a3f5f"
           }
          },
          "ternary": {
           "aaxis": {
            "gridcolor": "white",
            "linecolor": "white",
            "ticks": ""
           },
           "baxis": {
            "gridcolor": "white",
            "linecolor": "white",
            "ticks": ""
           },
           "bgcolor": "#E5ECF6",
           "caxis": {
            "gridcolor": "white",
            "linecolor": "white",
            "ticks": ""
           }
          },
          "title": {
           "x": 0.05
          },
          "xaxis": {
           "automargin": true,
           "gridcolor": "white",
           "linecolor": "white",
           "ticks": "",
           "title": {
            "standoff": 15
           },
           "zerolinecolor": "white",
           "zerolinewidth": 2
          },
          "yaxis": {
           "automargin": true,
           "gridcolor": "white",
           "linecolor": "white",
           "ticks": "",
           "title": {
            "standoff": 15
           },
           "zerolinecolor": "white",
           "zerolinewidth": 2
          }
         }
        },
        "title": {
         "text": "Parallel Coordinate Plot"
        }
       }
      },
      "text/html": [
       "<div>                        <script type=\"text/javascript\">window.PlotlyConfig = {MathJaxConfig: 'local'};</script>\n",
       "        <script charset=\"utf-8\" src=\"https://cdn.plot.ly/plotly-2.35.2.min.js\"></script>                <div id=\"4cd14b68-3550-48a5-95e4-4306424ec1a9\" class=\"plotly-graph-div\" style=\"height:100%; width:100%;\"></div>            <script type=\"text/javascript\">                                    window.PLOTLYENV=window.PLOTLYENV || {};                                    if (document.getElementById(\"4cd14b68-3550-48a5-95e4-4306424ec1a9\")) {                    Plotly.newPlot(                        \"4cd14b68-3550-48a5-95e4-4306424ec1a9\",                        [{\"dimensions\":[{\"label\":\"Objective Value\",\"range\":[56.97433367498089,59.52805954056489],\"values\":[58.14466023072968,57.91427367693552,58.53303179991748,58.384396585020184,57.962151912719776,58.89948637343897,58.450225222294605,58.971867304870884,57.88414145416807,58.128090557303665,58.175407629700985,57.2409642182432,57.79107921453713,58.00076529119476,58.38213840730555,57.88935849924807,57.43012018817224,58.318097525583525,58.260514403590534,58.37041882411448,58.50054612898318,58.88117329904395,58.15953177486715,58.09743198952701,57.487080765857385,58.15642139978195,58.313362008354986,58.009074835398295,59.408254736957744,57.74708854413166,58.3997223170504,57.897135654714575,58.027377679238406,58.197580229205506,58.379623968024305,57.83722467917725,57.487080765857385,57.40015423055185,59.52805954056489,58.87580962157519,59.16762883994413,58.01191846764635,56.97433367498089,58.156711201359975,58.77621988078645,57.47620505064437,57.99915532916386,58.17079432862329,57.88431788151386,57.47393391773934]},{\"label\":\"criterion\",\"range\":[0,2],\"ticktext\":[\"absolute_error\",\"poisson\",\"squared_error\"],\"tickvals\":[0,1,2],\"values\":[0,1,0,1,2,1,1,2,0,2,1,0,0,1,0,2,2,1,1,1,1,2,0,0,0,0,1,0,1,0,1,1,0,1,1,0,0,0,2,1,2,1,2,0,1,2,1,2,0,2]},{\"label\":\"max_depth\",\"range\":[2,10],\"values\":[10,3,9,9,7,5,8,9,8,6,6,6,3,4,8,2,5,6,6,2,7,6,10,10,5,9,5,3,10,3,7,3,8,5,4,7,5,4,6,10,8,4,3,8,9,5,4,2,9,5]},{\"label\":\"n_estiimators\",\"range\":[10,100],\"values\":[57,73,10,100,85,23,86,17,64,32,92,17,94,97,28,67,83,56,79,10,69,21,65,17,68,46,54,12,21,37,77,20,51,87,14,79,68,20,12,54,16,41,67,46,60,90,99,91,81,91]}],\"labelangle\":30,\"labelside\":\"bottom\",\"line\":{\"color\":[58.14466023072968,57.91427367693552,58.53303179991748,58.384396585020184,57.962151912719776,58.89948637343897,58.450225222294605,58.971867304870884,57.88414145416807,58.128090557303665,58.175407629700985,57.2409642182432,57.79107921453713,58.00076529119476,58.38213840730555,57.88935849924807,57.43012018817224,58.318097525583525,58.260514403590534,58.37041882411448,58.50054612898318,58.88117329904395,58.15953177486715,58.09743198952701,57.487080765857385,58.15642139978195,58.313362008354986,58.009074835398295,59.408254736957744,57.74708854413166,58.3997223170504,57.897135654714575,58.027377679238406,58.197580229205506,58.379623968024305,57.83722467917725,57.487080765857385,57.40015423055185,59.52805954056489,58.87580962157519,59.16762883994413,58.01191846764635,56.97433367498089,58.156711201359975,58.77621988078645,57.47620505064437,57.99915532916386,58.17079432862329,57.88431788151386,57.47393391773934],\"colorbar\":{\"title\":{\"text\":\"Objective Value\"}},\"colorscale\":[[0.0,\"rgb(247,251,255)\"],[0.125,\"rgb(222,235,247)\"],[0.25,\"rgb(198,219,239)\"],[0.375,\"rgb(158,202,225)\"],[0.5,\"rgb(107,174,214)\"],[0.625,\"rgb(66,146,198)\"],[0.75,\"rgb(33,113,181)\"],[0.875,\"rgb(8,81,156)\"],[1.0,\"rgb(8,48,107)\"]],\"reversescale\":true,\"showscale\":true},\"type\":\"parcoords\"}],                        {\"title\":{\"text\":\"Parallel Coordinate Plot\"},\"template\":{\"data\":{\"histogram2dcontour\":[{\"type\":\"histogram2dcontour\",\"colorbar\":{\"outlinewidth\":0,\"ticks\":\"\"},\"colorscale\":[[0.0,\"#0d0887\"],[0.1111111111111111,\"#46039f\"],[0.2222222222222222,\"#7201a8\"],[0.3333333333333333,\"#9c179e\"],[0.4444444444444444,\"#bd3786\"],[0.5555555555555556,\"#d8576b\"],[0.6666666666666666,\"#ed7953\"],[0.7777777777777778,\"#fb9f3a\"],[0.8888888888888888,\"#fdca26\"],[1.0,\"#f0f921\"]]}],\"choropleth\":[{\"type\":\"choropleth\",\"colorbar\":{\"outlinewidth\":0,\"ticks\":\"\"}}],\"histogram2d\":[{\"type\":\"histogram2d\",\"colorbar\":{\"outlinewidth\":0,\"ticks\":\"\"},\"colorscale\":[[0.0,\"#0d0887\"],[0.1111111111111111,\"#46039f\"],[0.2222222222222222,\"#7201a8\"],[0.3333333333333333,\"#9c179e\"],[0.4444444444444444,\"#bd3786\"],[0.5555555555555556,\"#d8576b\"],[0.6666666666666666,\"#ed7953\"],[0.7777777777777778,\"#fb9f3a\"],[0.8888888888888888,\"#fdca26\"],[1.0,\"#f0f921\"]]}],\"heatmap\":[{\"type\":\"heatmap\",\"colorbar\":{\"outlinewidth\":0,\"ticks\":\"\"},\"colorscale\":[[0.0,\"#0d0887\"],[0.1111111111111111,\"#46039f\"],[0.2222222222222222,\"#7201a8\"],[0.3333333333333333,\"#9c179e\"],[0.4444444444444444,\"#bd3786\"],[0.5555555555555556,\"#d8576b\"],[0.6666666666666666,\"#ed7953\"],[0.7777777777777778,\"#fb9f3a\"],[0.8888888888888888,\"#fdca26\"],[1.0,\"#f0f921\"]]}],\"heatmapgl\":[{\"type\":\"heatmapgl\",\"colorbar\":{\"outlinewidth\":0,\"ticks\":\"\"},\"colorscale\":[[0.0,\"#0d0887\"],[0.1111111111111111,\"#46039f\"],[0.2222222222222222,\"#7201a8\"],[0.3333333333333333,\"#9c179e\"],[0.4444444444444444,\"#bd3786\"],[0.5555555555555556,\"#d8576b\"],[0.6666666666666666,\"#ed7953\"],[0.7777777777777778,\"#fb9f3a\"],[0.8888888888888888,\"#fdca26\"],[1.0,\"#f0f921\"]]}],\"contourcarpet\":[{\"type\":\"contourcarpet\",\"colorbar\":{\"outlinewidth\":0,\"ticks\":\"\"}}],\"contour\":[{\"type\":\"contour\",\"colorbar\":{\"outlinewidth\":0,\"ticks\":\"\"},\"colorscale\":[[0.0,\"#0d0887\"],[0.1111111111111111,\"#46039f\"],[0.2222222222222222,\"#7201a8\"],[0.3333333333333333,\"#9c179e\"],[0.4444444444444444,\"#bd3786\"],[0.5555555555555556,\"#d8576b\"],[0.6666666666666666,\"#ed7953\"],[0.7777777777777778,\"#fb9f3a\"],[0.8888888888888888,\"#fdca26\"],[1.0,\"#f0f921\"]]}],\"surface\":[{\"type\":\"surface\",\"colorbar\":{\"outlinewidth\":0,\"ticks\":\"\"},\"colorscale\":[[0.0,\"#0d0887\"],[0.1111111111111111,\"#46039f\"],[0.2222222222222222,\"#7201a8\"],[0.3333333333333333,\"#9c179e\"],[0.4444444444444444,\"#bd3786\"],[0.5555555555555556,\"#d8576b\"],[0.6666666666666666,\"#ed7953\"],[0.7777777777777778,\"#fb9f3a\"],[0.8888888888888888,\"#fdca26\"],[1.0,\"#f0f921\"]]}],\"mesh3d\":[{\"type\":\"mesh3d\",\"colorbar\":{\"outlinewidth\":0,\"ticks\":\"\"}}],\"scatter\":[{\"fillpattern\":{\"fillmode\":\"overlay\",\"size\":10,\"solidity\":0.2},\"type\":\"scatter\"}],\"parcoords\":[{\"type\":\"parcoords\",\"line\":{\"colorbar\":{\"outlinewidth\":0,\"ticks\":\"\"}}}],\"scatterpolargl\":[{\"type\":\"scatterpolargl\",\"marker\":{\"colorbar\":{\"outlinewidth\":0,\"ticks\":\"\"}}}],\"bar\":[{\"error_x\":{\"color\":\"#2a3f5f\"},\"error_y\":{\"color\":\"#2a3f5f\"},\"marker\":{\"line\":{\"color\":\"#E5ECF6\",\"width\":0.5},\"pattern\":{\"fillmode\":\"overlay\",\"size\":10,\"solidity\":0.2}},\"type\":\"bar\"}],\"scattergeo\":[{\"type\":\"scattergeo\",\"marker\":{\"colorbar\":{\"outlinewidth\":0,\"ticks\":\"\"}}}],\"scatterpolar\":[{\"type\":\"scatterpolar\",\"marker\":{\"colorbar\":{\"outlinewidth\":0,\"ticks\":\"\"}}}],\"histogram\":[{\"marker\":{\"pattern\":{\"fillmode\":\"overlay\",\"size\":10,\"solidity\":0.2}},\"type\":\"histogram\"}],\"scattergl\":[{\"type\":\"scattergl\",\"marker\":{\"colorbar\":{\"outlinewidth\":0,\"ticks\":\"\"}}}],\"scatter3d\":[{\"type\":\"scatter3d\",\"line\":{\"colorbar\":{\"outlinewidth\":0,\"ticks\":\"\"}},\"marker\":{\"colorbar\":{\"outlinewidth\":0,\"ticks\":\"\"}}}],\"scattermapbox\":[{\"type\":\"scattermapbox\",\"marker\":{\"colorbar\":{\"outlinewidth\":0,\"ticks\":\"\"}}}],\"scatterternary\":[{\"type\":\"scatterternary\",\"marker\":{\"colorbar\":{\"outlinewidth\":0,\"ticks\":\"\"}}}],\"scattercarpet\":[{\"type\":\"scattercarpet\",\"marker\":{\"colorbar\":{\"outlinewidth\":0,\"ticks\":\"\"}}}],\"carpet\":[{\"aaxis\":{\"endlinecolor\":\"#2a3f5f\",\"gridcolor\":\"white\",\"linecolor\":\"white\",\"minorgridcolor\":\"white\",\"startlinecolor\":\"#2a3f5f\"},\"baxis\":{\"endlinecolor\":\"#2a3f5f\",\"gridcolor\":\"white\",\"linecolor\":\"white\",\"minorgridcolor\":\"white\",\"startlinecolor\":\"#2a3f5f\"},\"type\":\"carpet\"}],\"table\":[{\"cells\":{\"fill\":{\"color\":\"#EBF0F8\"},\"line\":{\"color\":\"white\"}},\"header\":{\"fill\":{\"color\":\"#C8D4E3\"},\"line\":{\"color\":\"white\"}},\"type\":\"table\"}],\"barpolar\":[{\"marker\":{\"line\":{\"color\":\"#E5ECF6\",\"width\":0.5},\"pattern\":{\"fillmode\":\"overlay\",\"size\":10,\"solidity\":0.2}},\"type\":\"barpolar\"}],\"pie\":[{\"automargin\":true,\"type\":\"pie\"}]},\"layout\":{\"autotypenumbers\":\"strict\",\"colorway\":[\"#636efa\",\"#EF553B\",\"#00cc96\",\"#ab63fa\",\"#FFA15A\",\"#19d3f3\",\"#FF6692\",\"#B6E880\",\"#FF97FF\",\"#FECB52\"],\"font\":{\"color\":\"#2a3f5f\"},\"hovermode\":\"closest\",\"hoverlabel\":{\"align\":\"left\"},\"paper_bgcolor\":\"white\",\"plot_bgcolor\":\"#E5ECF6\",\"polar\":{\"bgcolor\":\"#E5ECF6\",\"angularaxis\":{\"gridcolor\":\"white\",\"linecolor\":\"white\",\"ticks\":\"\"},\"radialaxis\":{\"gridcolor\":\"white\",\"linecolor\":\"white\",\"ticks\":\"\"}},\"ternary\":{\"bgcolor\":\"#E5ECF6\",\"aaxis\":{\"gridcolor\":\"white\",\"linecolor\":\"white\",\"ticks\":\"\"},\"baxis\":{\"gridcolor\":\"white\",\"linecolor\":\"white\",\"ticks\":\"\"},\"caxis\":{\"gridcolor\":\"white\",\"linecolor\":\"white\",\"ticks\":\"\"}},\"coloraxis\":{\"colorbar\":{\"outlinewidth\":0,\"ticks\":\"\"}},\"colorscale\":{\"sequential\":[[0.0,\"#0d0887\"],[0.1111111111111111,\"#46039f\"],[0.2222222222222222,\"#7201a8\"],[0.3333333333333333,\"#9c179e\"],[0.4444444444444444,\"#bd3786\"],[0.5555555555555556,\"#d8576b\"],[0.6666666666666666,\"#ed7953\"],[0.7777777777777778,\"#fb9f3a\"],[0.8888888888888888,\"#fdca26\"],[1.0,\"#f0f921\"]],\"sequentialminus\":[[0.0,\"#0d0887\"],[0.1111111111111111,\"#46039f\"],[0.2222222222222222,\"#7201a8\"],[0.3333333333333333,\"#9c179e\"],[0.4444444444444444,\"#bd3786\"],[0.5555555555555556,\"#d8576b\"],[0.6666666666666666,\"#ed7953\"],[0.7777777777777778,\"#fb9f3a\"],[0.8888888888888888,\"#fdca26\"],[1.0,\"#f0f921\"]],\"diverging\":[[0,\"#8e0152\"],[0.1,\"#c51b7d\"],[0.2,\"#de77ae\"],[0.3,\"#f1b6da\"],[0.4,\"#fde0ef\"],[0.5,\"#f7f7f7\"],[0.6,\"#e6f5d0\"],[0.7,\"#b8e186\"],[0.8,\"#7fbc41\"],[0.9,\"#4d9221\"],[1,\"#276419\"]]},\"xaxis\":{\"gridcolor\":\"white\",\"linecolor\":\"white\",\"ticks\":\"\",\"title\":{\"standoff\":15},\"zerolinecolor\":\"white\",\"automargin\":true,\"zerolinewidth\":2},\"yaxis\":{\"gridcolor\":\"white\",\"linecolor\":\"white\",\"ticks\":\"\",\"title\":{\"standoff\":15},\"zerolinecolor\":\"white\",\"automargin\":true,\"zerolinewidth\":2},\"scene\":{\"xaxis\":{\"backgroundcolor\":\"#E5ECF6\",\"gridcolor\":\"white\",\"linecolor\":\"white\",\"showbackground\":true,\"ticks\":\"\",\"zerolinecolor\":\"white\",\"gridwidth\":2},\"yaxis\":{\"backgroundcolor\":\"#E5ECF6\",\"gridcolor\":\"white\",\"linecolor\":\"white\",\"showbackground\":true,\"ticks\":\"\",\"zerolinecolor\":\"white\",\"gridwidth\":2},\"zaxis\":{\"backgroundcolor\":\"#E5ECF6\",\"gridcolor\":\"white\",\"linecolor\":\"white\",\"showbackground\":true,\"ticks\":\"\",\"zerolinecolor\":\"white\",\"gridwidth\":2}},\"shapedefaults\":{\"line\":{\"color\":\"#2a3f5f\"}},\"annotationdefaults\":{\"arrowcolor\":\"#2a3f5f\",\"arrowhead\":0,\"arrowwidth\":1},\"geo\":{\"bgcolor\":\"white\",\"landcolor\":\"#E5ECF6\",\"subunitcolor\":\"white\",\"showland\":true,\"showlakes\":true,\"lakecolor\":\"white\"},\"title\":{\"x\":0.05},\"mapbox\":{\"style\":\"light\"}}}},                        {\"responsive\": true}                    )                };                            </script>        </div>"
      ],
      "text/plain": [
       "Figure({\n",
       "    'data': [{'dimensions': [{'label': 'Objective Value',\n",
       "                              'range': [56.97433367498089, 59.52805954056489],\n",
       "                              'values': [58.14466023072968, 57.91427367693552,\n",
       "                                         58.53303179991748, 58.384396585020184,\n",
       "                                         57.962151912719776, 58.89948637343897,\n",
       "                                         58.450225222294605, 58.971867304870884,\n",
       "                                         57.88414145416807, 58.128090557303665,\n",
       "                                         58.175407629700985, 57.2409642182432,\n",
       "                                         57.79107921453713, 58.00076529119476,\n",
       "                                         58.38213840730555, 57.88935849924807,\n",
       "                                         57.43012018817224, 58.318097525583525,\n",
       "                                         58.260514403590534, 58.37041882411448,\n",
       "                                         58.50054612898318, 58.88117329904395,\n",
       "                                         58.15953177486715, 58.09743198952701,\n",
       "                                         57.487080765857385, 58.15642139978195,\n",
       "                                         58.313362008354986, 58.009074835398295,\n",
       "                                         59.408254736957744, 57.74708854413166,\n",
       "                                         58.3997223170504, 57.897135654714575,\n",
       "                                         58.027377679238406, 58.197580229205506,\n",
       "                                         58.379623968024305, 57.83722467917725,\n",
       "                                         57.487080765857385, 57.40015423055185,\n",
       "                                         59.52805954056489, 58.87580962157519,\n",
       "                                         59.16762883994413, 58.01191846764635,\n",
       "                                         56.97433367498089, 58.156711201359975,\n",
       "                                         58.77621988078645, 57.47620505064437,\n",
       "                                         57.99915532916386, 58.17079432862329,\n",
       "                                         57.88431788151386, 57.47393391773934]},\n",
       "                             {'label': 'criterion',\n",
       "                              'range': [0, 2],\n",
       "                              'ticktext': [absolute_error, poisson, squared_error],\n",
       "                              'tickvals': [0, 1, 2],\n",
       "                              'values': [0, 1, 0, 1, 2, 1, 1, 2, 0, 2, 1, 0, 0, 1,\n",
       "                                         0, 2, 2, 1, 1, 1, 1, 2, 0, 0, 0, 0, 1, 0,\n",
       "                                         1, 0, 1, 1, 0, 1, 1, 0, 0, 0, 2, 1, 2, 1,\n",
       "                                         2, 0, 1, 2, 1, 2, 0, 2]},\n",
       "                             {'label': 'max_depth',\n",
       "                              'range': [2, 10],\n",
       "                              'values': [10, 3, 9, 9, 7, 5, 8, 9, 8, 6, 6, 6, 3,\n",
       "                                         4, 8, 2, 5, 6, 6, 2, 7, 6, 10, 10, 5, 9,\n",
       "                                         5, 3, 10, 3, 7, 3, 8, 5, 4, 7, 5, 4, 6,\n",
       "                                         10, 8, 4, 3, 8, 9, 5, 4, 2, 9, 5]},\n",
       "                             {'label': 'n_estiimators',\n",
       "                              'range': [10, 100],\n",
       "                              'values': [57, 73, 10, 100, 85, 23, 86, 17, 64, 32,\n",
       "                                         92, 17, 94, 97, 28, 67, 83, 56, 79, 10,\n",
       "                                         69, 21, 65, 17, 68, 46, 54, 12, 21, 37,\n",
       "                                         77, 20, 51, 87, 14, 79, 68, 20, 12, 54,\n",
       "                                         16, 41, 67, 46, 60, 90, 99, 91, 81, 91]}],\n",
       "              'labelangle': 30,\n",
       "              'labelside': 'bottom',\n",
       "              'line': {'color': [58.14466023072968, 57.91427367693552,\n",
       "                                 58.53303179991748, 58.384396585020184,\n",
       "                                 57.962151912719776, 58.89948637343897,\n",
       "                                 58.450225222294605, 58.971867304870884,\n",
       "                                 57.88414145416807, 58.128090557303665,\n",
       "                                 58.175407629700985, 57.2409642182432,\n",
       "                                 57.79107921453713, 58.00076529119476,\n",
       "                                 58.38213840730555, 57.88935849924807,\n",
       "                                 57.43012018817224, 58.318097525583525,\n",
       "                                 58.260514403590534, 58.37041882411448,\n",
       "                                 58.50054612898318, 58.88117329904395,\n",
       "                                 58.15953177486715, 58.09743198952701,\n",
       "                                 57.487080765857385, 58.15642139978195,\n",
       "                                 58.313362008354986, 58.009074835398295,\n",
       "                                 59.408254736957744, 57.74708854413166,\n",
       "                                 58.3997223170504, 57.897135654714575,\n",
       "                                 58.027377679238406, 58.197580229205506,\n",
       "                                 58.379623968024305, 57.83722467917725,\n",
       "                                 57.487080765857385, 57.40015423055185,\n",
       "                                 59.52805954056489, 58.87580962157519,\n",
       "                                 59.16762883994413, 58.01191846764635,\n",
       "                                 56.97433367498089, 58.156711201359975,\n",
       "                                 58.77621988078645, 57.47620505064437,\n",
       "                                 57.99915532916386, 58.17079432862329,\n",
       "                                 57.88431788151386, 57.47393391773934],\n",
       "                       'colorbar': {'title': {'text': 'Objective Value'}},\n",
       "                       'colorscale': [[0.0, 'rgb(247,251,255)'], [0.125,\n",
       "                                      'rgb(222,235,247)'], [0.25,\n",
       "                                      'rgb(198,219,239)'], [0.375,\n",
       "                                      'rgb(158,202,225)'], [0.5,\n",
       "                                      'rgb(107,174,214)'], [0.625,\n",
       "                                      'rgb(66,146,198)'], [0.75,\n",
       "                                      'rgb(33,113,181)'], [0.875, 'rgb(8,81,156)'],\n",
       "                                      [1.0, 'rgb(8,48,107)']],\n",
       "                       'reversescale': True,\n",
       "                       'showscale': True},\n",
       "              'type': 'parcoords'}],\n",
       "    'layout': {'template': '...', 'title': {'text': 'Parallel Coordinate Plot'}}\n",
       "})"
      ]
     },
     "execution_count": 23,
     "metadata": {},
     "output_type": "execute_result"
    }
   ],
   "source": [
    "optuna.visualization.plot_parallel_coordinate(study)"
   ]
  },
  {
   "cell_type": "code",
   "execution_count": 24,
   "metadata": {},
   "outputs": [
    {
     "data": {
      "text/plain": [
       "{'n_estiimators': 67, 'max_depth': 3, 'criterion': 'squared_error'}"
      ]
     },
     "execution_count": 24,
     "metadata": {},
     "output_type": "execute_result"
    }
   ],
   "source": [
    "study.best_params"
   ]
  },
  {
   "cell_type": "code",
   "execution_count": null,
   "metadata": {},
   "outputs": [],
   "source": []
  }
 ],
 "metadata": {
  "kernelspec": {
   "display_name": "Python 3",
   "language": "python",
   "name": "python3"
  },
  "language_info": {
   "codemirror_mode": {
    "name": "ipython",
    "version": 3
   },
   "file_extension": ".py",
   "mimetype": "text/x-python",
   "name": "python",
   "nbconvert_exporter": "python",
   "pygments_lexer": "ipython3",
   "version": "3.12.0"
  }
 },
 "nbformat": 4,
 "nbformat_minor": 2
}
