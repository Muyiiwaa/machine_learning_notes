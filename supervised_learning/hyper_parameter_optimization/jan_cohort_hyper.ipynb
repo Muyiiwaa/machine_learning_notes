{
 "cells": [
  {
   "cell_type": "markdown",
   "id": "c616fc5d",
   "metadata": {},
   "source": [
    "### HYPER-PARAMETER OPTIMIZATION"
   ]
  },
  {
   "cell_type": "markdown",
   "id": "2e1f66f8",
   "metadata": {},
   "source": [
    "#### GRIDSEARCH"
   ]
  },
  {
   "cell_type": "code",
   "execution_count": 1,
   "id": "b7fa2eef",
   "metadata": {},
   "outputs": [],
   "source": [
    "from sklearn.metrics import f1_score\n",
    "from sklearn.model_selection import StratifiedKFold,GridSearchCV\n",
    "from sklearn.datasets import load_breast_cancer\n",
    "from sklearn.ensemble import RandomForestClassifier\n",
    "\n",
    "# set up the dataset\n",
    "X = load_breast_cancer(as_frame=True)['data']\n",
    "y = load_breast_cancer()['target']\n"
   ]
  },
  {
   "cell_type": "code",
   "execution_count": 2,
   "id": "27fe9f80",
   "metadata": {},
   "outputs": [],
   "source": [
    "## stratified kfold\n",
    "str_kfold = StratifiedKFold(n_splits=5, shuffle=True, random_state=23)"
   ]
  },
  {
   "cell_type": "code",
   "execution_count": 3,
   "id": "a4ef56a9",
   "metadata": {},
   "outputs": [
    {
     "name": "stdout",
     "output_type": "stream",
     "text": [
      "Fitting 5 folds for each of 40 candidates, totalling 200 fits\n",
      "[CV 1/5] END criterion=gini, max_depth=3, n_estimators=50;, score=(train=0.983, test=0.978) total time=   0.3s\n",
      "[CV 2/5] END criterion=gini, max_depth=3, n_estimators=50;, score=(train=0.984, test=0.952) total time=   0.3s\n",
      "[CV 3/5] END criterion=gini, max_depth=3, n_estimators=50;, score=(train=0.984, test=0.940) total time=   0.1s\n",
      "[CV 4/5] END criterion=gini, max_depth=3, n_estimators=50;, score=(train=0.984, test=0.973) total time=   0.0s\n",
      "[CV 5/5] END criterion=gini, max_depth=3, n_estimators=50;, score=(train=0.985, test=0.972) total time=   0.0s\n",
      "[CV 1/5] END criterion=gini, max_depth=3, n_estimators=60;, score=(train=0.985, test=0.986) total time=   0.0s\n",
      "[CV 2/5] END criterion=gini, max_depth=3, n_estimators=60;, score=(train=0.984, test=0.952) total time=   0.1s\n",
      "[CV 3/5] END criterion=gini, max_depth=3, n_estimators=60;, score=(train=0.986, test=0.940) total time=   0.2s\n",
      "[CV 4/5] END criterion=gini, max_depth=3, n_estimators=60;, score=(train=0.984, test=0.966) total time=   0.3s\n",
      "[CV 5/5] END criterion=gini, max_depth=3, n_estimators=60;, score=(train=0.983, test=0.965) total time=   0.1s\n",
      "[CV 1/5] END criterion=gini, max_depth=3, n_estimators=70;, score=(train=0.985, test=0.986) total time=   0.2s\n",
      "[CV 2/5] END criterion=gini, max_depth=3, n_estimators=70;, score=(train=0.984, test=0.952) total time=   0.2s\n",
      "[CV 3/5] END criterion=gini, max_depth=3, n_estimators=70;, score=(train=0.986, test=0.940) total time=   0.3s\n",
      "[CV 4/5] END criterion=gini, max_depth=3, n_estimators=70;, score=(train=0.986, test=0.966) total time=   0.2s\n",
      "[CV 5/5] END criterion=gini, max_depth=3, n_estimators=70;, score=(train=0.983, test=0.972) total time=   0.1s\n",
      "[CV 1/5] END criterion=gini, max_depth=3, n_estimators=80;, score=(train=0.983, test=0.986) total time=   0.1s\n",
      "[CV 2/5] END criterion=gini, max_depth=3, n_estimators=80;, score=(train=0.984, test=0.958) total time=   0.1s\n",
      "[CV 3/5] END criterion=gini, max_depth=3, n_estimators=80;, score=(train=0.986, test=0.940) total time=   0.2s\n",
      "[CV 4/5] END criterion=gini, max_depth=3, n_estimators=80;, score=(train=0.984, test=0.973) total time=   0.1s\n",
      "[CV 5/5] END criterion=gini, max_depth=3, n_estimators=80;, score=(train=0.983, test=0.965) total time=   0.3s\n",
      "[CV 1/5] END criterion=gini, max_depth=3, n_estimators=90;, score=(train=0.985, test=0.986) total time=   0.3s\n",
      "[CV 2/5] END criterion=gini, max_depth=3, n_estimators=90;, score=(train=0.984, test=0.958) total time=   0.2s\n",
      "[CV 3/5] END criterion=gini, max_depth=3, n_estimators=90;, score=(train=0.986, test=0.946) total time=   0.2s\n",
      "[CV 4/5] END criterion=gini, max_depth=3, n_estimators=90;, score=(train=0.983, test=0.966) total time=   0.2s\n",
      "[CV 5/5] END criterion=gini, max_depth=3, n_estimators=90;, score=(train=0.983, test=0.965) total time=   0.2s\n",
      "[CV 1/5] END criterion=gini, max_depth=4, n_estimators=50;, score=(train=0.991, test=0.978) total time=   0.0s\n",
      "[CV 2/5] END criterion=gini, max_depth=4, n_estimators=50;, score=(train=0.993, test=0.966) total time=   0.1s\n",
      "[CV 3/5] END criterion=gini, max_depth=4, n_estimators=50;, score=(train=0.990, test=0.946) total time=   0.0s\n",
      "[CV 4/5] END criterion=gini, max_depth=4, n_estimators=50;, score=(train=0.993, test=0.973) total time=   0.1s\n",
      "[CV 5/5] END criterion=gini, max_depth=4, n_estimators=50;, score=(train=0.993, test=0.972) total time=   0.1s\n",
      "[CV 1/5] END criterion=gini, max_depth=4, n_estimators=60;, score=(train=0.991, test=0.978) total time=   0.2s\n",
      "[CV 2/5] END criterion=gini, max_depth=4, n_estimators=60;, score=(train=0.993, test=0.966) total time=   0.1s\n",
      "[CV 3/5] END criterion=gini, max_depth=4, n_estimators=60;, score=(train=0.991, test=0.946) total time=   0.1s\n",
      "[CV 4/5] END criterion=gini, max_depth=4, n_estimators=60;, score=(train=0.993, test=0.966) total time=   0.1s\n",
      "[CV 5/5] END criterion=gini, max_depth=4, n_estimators=60;, score=(train=0.991, test=0.965) total time=   0.1s\n",
      "[CV 1/5] END criterion=gini, max_depth=4, n_estimators=70;, score=(train=0.991, test=0.986) total time=   0.1s\n",
      "[CV 2/5] END criterion=gini, max_depth=4, n_estimators=70;, score=(train=0.993, test=0.966) total time=   0.1s\n",
      "[CV 3/5] END criterion=gini, max_depth=4, n_estimators=70;, score=(train=0.991, test=0.953) total time=   0.1s\n",
      "[CV 4/5] END criterion=gini, max_depth=4, n_estimators=70;, score=(train=0.991, test=0.966) total time=   0.1s\n",
      "[CV 5/5] END criterion=gini, max_depth=4, n_estimators=70;, score=(train=0.991, test=0.972) total time=   0.1s\n",
      "[CV 1/5] END criterion=gini, max_depth=4, n_estimators=80;, score=(train=0.991, test=0.986) total time=   0.1s\n",
      "[CV 2/5] END criterion=gini, max_depth=4, n_estimators=80;, score=(train=0.993, test=0.958) total time=   0.2s\n",
      "[CV 3/5] END criterion=gini, max_depth=4, n_estimators=80;, score=(train=0.991, test=0.939) total time=   0.1s\n",
      "[CV 4/5] END criterion=gini, max_depth=4, n_estimators=80;, score=(train=0.991, test=0.966) total time=   0.3s\n",
      "[CV 5/5] END criterion=gini, max_depth=4, n_estimators=80;, score=(train=0.991, test=0.972) total time=   0.3s\n",
      "[CV 1/5] END criterion=gini, max_depth=4, n_estimators=90;, score=(train=0.990, test=0.986) total time=   0.2s\n",
      "[CV 2/5] END criterion=gini, max_depth=4, n_estimators=90;, score=(train=0.995, test=0.966) total time=   0.4s\n",
      "[CV 3/5] END criterion=gini, max_depth=4, n_estimators=90;, score=(train=0.991, test=0.953) total time=   0.5s\n",
      "[CV 4/5] END criterion=gini, max_depth=4, n_estimators=90;, score=(train=0.991, test=0.966) total time=   0.2s\n",
      "[CV 5/5] END criterion=gini, max_depth=4, n_estimators=90;, score=(train=0.991, test=0.972) total time=   0.2s\n",
      "[CV 1/5] END criterion=gini, max_depth=5, n_estimators=50;, score=(train=0.995, test=0.986) total time=   0.1s\n",
      "[CV 2/5] END criterion=gini, max_depth=5, n_estimators=50;, score=(train=0.995, test=0.966) total time=   0.1s\n",
      "[CV 3/5] END criterion=gini, max_depth=5, n_estimators=50;, score=(train=0.997, test=0.947) total time=   0.1s\n",
      "[CV 4/5] END criterion=gini, max_depth=5, n_estimators=50;, score=(train=0.995, test=0.966) total time=   0.0s\n",
      "[CV 5/5] END criterion=gini, max_depth=5, n_estimators=50;, score=(train=0.995, test=0.972) total time=   0.1s\n",
      "[CV 1/5] END criterion=gini, max_depth=5, n_estimators=60;, score=(train=0.995, test=0.986) total time=   0.1s\n",
      "[CV 2/5] END criterion=gini, max_depth=5, n_estimators=60;, score=(train=0.995, test=0.966) total time=   0.1s\n",
      "[CV 3/5] END criterion=gini, max_depth=5, n_estimators=60;, score=(train=0.997, test=0.959) total time=   0.1s\n",
      "[CV 4/5] END criterion=gini, max_depth=5, n_estimators=60;, score=(train=0.995, test=0.966) total time=   0.1s\n",
      "[CV 5/5] END criterion=gini, max_depth=5, n_estimators=60;, score=(train=0.995, test=0.965) total time=   0.1s\n",
      "[CV 1/5] END criterion=gini, max_depth=5, n_estimators=70;, score=(train=0.995, test=0.986) total time=   0.2s\n",
      "[CV 2/5] END criterion=gini, max_depth=5, n_estimators=70;, score=(train=0.995, test=0.966) total time=   0.1s\n",
      "[CV 3/5] END criterion=gini, max_depth=5, n_estimators=70;, score=(train=0.997, test=0.959) total time=   0.1s\n",
      "[CV 4/5] END criterion=gini, max_depth=5, n_estimators=70;, score=(train=0.995, test=0.966) total time=   0.1s\n",
      "[CV 5/5] END criterion=gini, max_depth=5, n_estimators=70;, score=(train=0.995, test=0.965) total time=   0.1s\n",
      "[CV 1/5] END criterion=gini, max_depth=5, n_estimators=80;, score=(train=0.995, test=0.986) total time=   0.2s\n",
      "[CV 2/5] END criterion=gini, max_depth=5, n_estimators=80;, score=(train=0.997, test=0.966) total time=   0.2s\n",
      "[CV 3/5] END criterion=gini, max_depth=5, n_estimators=80;, score=(train=0.997, test=0.959) total time=   0.2s\n",
      "[CV 4/5] END criterion=gini, max_depth=5, n_estimators=80;, score=(train=0.997, test=0.966) total time=   0.2s\n",
      "[CV 5/5] END criterion=gini, max_depth=5, n_estimators=80;, score=(train=0.995, test=0.965) total time=   0.2s\n",
      "[CV 1/5] END criterion=gini, max_depth=5, n_estimators=90;, score=(train=0.993, test=0.986) total time=   0.2s\n",
      "[CV 2/5] END criterion=gini, max_depth=5, n_estimators=90;, score=(train=0.995, test=0.966) total time=   0.2s\n",
      "[CV 3/5] END criterion=gini, max_depth=5, n_estimators=90;, score=(train=0.997, test=0.959) total time=   0.2s\n",
      "[CV 4/5] END criterion=gini, max_depth=5, n_estimators=90;, score=(train=0.995, test=0.958) total time=   0.2s\n",
      "[CV 5/5] END criterion=gini, max_depth=5, n_estimators=90;, score=(train=0.995, test=0.965) total time=   0.2s\n",
      "[CV 1/5] END criterion=gini, max_depth=6, n_estimators=50;, score=(train=0.995, test=0.986) total time=   0.1s\n",
      "[CV 2/5] END criterion=gini, max_depth=6, n_estimators=50;, score=(train=0.998, test=0.959) total time=   0.1s\n",
      "[CV 3/5] END criterion=gini, max_depth=6, n_estimators=50;, score=(train=1.000, test=0.946) total time=   0.0s\n",
      "[CV 4/5] END criterion=gini, max_depth=6, n_estimators=50;, score=(train=0.997, test=0.973) total time=   0.1s\n",
      "[CV 5/5] END criterion=gini, max_depth=6, n_estimators=50;, score=(train=0.998, test=0.979) total time=   0.1s\n",
      "[CV 1/5] END criterion=gini, max_depth=6, n_estimators=60;, score=(train=0.995, test=0.986) total time=   0.2s\n",
      "[CV 2/5] END criterion=gini, max_depth=6, n_estimators=60;, score=(train=0.998, test=0.959) total time=   0.1s\n",
      "[CV 3/5] END criterion=gini, max_depth=6, n_estimators=60;, score=(train=1.000, test=0.945) total time=   0.1s\n",
      "[CV 4/5] END criterion=gini, max_depth=6, n_estimators=60;, score=(train=0.997, test=0.973) total time=   0.1s\n",
      "[CV 5/5] END criterion=gini, max_depth=6, n_estimators=60;, score=(train=0.998, test=0.972) total time=   0.1s\n",
      "[CV 1/5] END criterion=gini, max_depth=6, n_estimators=70;, score=(train=0.995, test=0.986) total time=   0.1s\n",
      "[CV 2/5] END criterion=gini, max_depth=6, n_estimators=70;, score=(train=0.998, test=0.959) total time=   0.1s\n",
      "[CV 3/5] END criterion=gini, max_depth=6, n_estimators=70;, score=(train=1.000, test=0.945) total time=   0.1s\n",
      "[CV 4/5] END criterion=gini, max_depth=6, n_estimators=70;, score=(train=0.997, test=0.973) total time=   0.1s\n",
      "[CV 5/5] END criterion=gini, max_depth=6, n_estimators=70;, score=(train=0.998, test=0.972) total time=   0.1s\n",
      "[CV 1/5] END criterion=gini, max_depth=6, n_estimators=80;, score=(train=0.995, test=0.986) total time=   0.2s\n",
      "[CV 2/5] END criterion=gini, max_depth=6, n_estimators=80;, score=(train=0.998, test=0.966) total time=   0.2s\n",
      "[CV 3/5] END criterion=gini, max_depth=6, n_estimators=80;, score=(train=1.000, test=0.945) total time=   0.2s\n",
      "[CV 4/5] END criterion=gini, max_depth=6, n_estimators=80;, score=(train=0.997, test=0.979) total time=   0.1s\n",
      "[CV 5/5] END criterion=gini, max_depth=6, n_estimators=80;, score=(train=0.998, test=0.972) total time=   0.1s\n",
      "[CV 1/5] END criterion=gini, max_depth=6, n_estimators=90;, score=(train=0.995, test=0.986) total time=   0.2s\n",
      "[CV 2/5] END criterion=gini, max_depth=6, n_estimators=90;, score=(train=0.998, test=0.959) total time=   0.2s\n",
      "[CV 3/5] END criterion=gini, max_depth=6, n_estimators=90;, score=(train=1.000, test=0.952) total time=   0.2s\n",
      "[CV 4/5] END criterion=gini, max_depth=6, n_estimators=90;, score=(train=0.997, test=0.979) total time=   0.2s\n",
      "[CV 5/5] END criterion=gini, max_depth=6, n_estimators=90;, score=(train=0.998, test=0.972) total time=   0.3s\n",
      "[CV 1/5] END criterion=entropy, max_depth=3, n_estimators=50;, score=(train=0.981, test=0.971) total time=   0.1s\n",
      "[CV 2/5] END criterion=entropy, max_depth=3, n_estimators=50;, score=(train=0.986, test=0.952) total time=   0.2s\n",
      "[CV 3/5] END criterion=entropy, max_depth=3, n_estimators=50;, score=(train=0.988, test=0.940) total time=   0.0s\n",
      "[CV 4/5] END criterion=entropy, max_depth=3, n_estimators=50;, score=(train=0.984, test=0.966) total time=   0.1s\n",
      "[CV 5/5] END criterion=entropy, max_depth=3, n_estimators=50;, score=(train=0.988, test=0.972) total time=   0.1s\n",
      "[CV 1/5] END criterion=entropy, max_depth=3, n_estimators=60;, score=(train=0.985, test=0.971) total time=   0.4s\n",
      "[CV 2/5] END criterion=entropy, max_depth=3, n_estimators=60;, score=(train=0.984, test=0.952) total time=   0.2s\n",
      "[CV 3/5] END criterion=entropy, max_depth=3, n_estimators=60;, score=(train=0.988, test=0.939) total time=   0.4s\n",
      "[CV 4/5] END criterion=entropy, max_depth=3, n_estimators=60;, score=(train=0.984, test=0.966) total time=   0.6s\n",
      "[CV 5/5] END criterion=entropy, max_depth=3, n_estimators=60;, score=(train=0.986, test=0.965) total time=   0.2s\n",
      "[CV 1/5] END criterion=entropy, max_depth=3, n_estimators=70;, score=(train=0.981, test=0.971) total time=   0.6s\n",
      "[CV 2/5] END criterion=entropy, max_depth=3, n_estimators=70;, score=(train=0.983, test=0.959) total time=   0.5s\n",
      "[CV 3/5] END criterion=entropy, max_depth=3, n_estimators=70;, score=(train=0.986, test=0.939) total time=   0.1s\n",
      "[CV 4/5] END criterion=entropy, max_depth=3, n_estimators=70;, score=(train=0.986, test=0.966) total time=   0.2s\n",
      "[CV 5/5] END criterion=entropy, max_depth=3, n_estimators=70;, score=(train=0.986, test=0.972) total time=   0.3s\n",
      "[CV 1/5] END criterion=entropy, max_depth=3, n_estimators=80;, score=(train=0.985, test=0.971) total time=   0.4s\n",
      "[CV 2/5] END criterion=entropy, max_depth=3, n_estimators=80;, score=(train=0.984, test=0.959) total time=   0.4s\n",
      "[CV 3/5] END criterion=entropy, max_depth=3, n_estimators=80;, score=(train=0.986, test=0.939) total time=   0.2s\n",
      "[CV 4/5] END criterion=entropy, max_depth=3, n_estimators=80;, score=(train=0.986, test=0.966) total time=   0.2s\n",
      "[CV 5/5] END criterion=entropy, max_depth=3, n_estimators=80;, score=(train=0.986, test=0.972) total time=   0.2s\n",
      "[CV 1/5] END criterion=entropy, max_depth=3, n_estimators=90;, score=(train=0.985, test=0.986) total time=   0.3s\n",
      "[CV 2/5] END criterion=entropy, max_depth=3, n_estimators=90;, score=(train=0.986, test=0.959) total time=   0.2s\n",
      "[CV 3/5] END criterion=entropy, max_depth=3, n_estimators=90;, score=(train=0.986, test=0.939) total time=   0.2s\n",
      "[CV 4/5] END criterion=entropy, max_depth=3, n_estimators=90;, score=(train=0.984, test=0.966) total time=   0.3s\n",
      "[CV 5/5] END criterion=entropy, max_depth=3, n_estimators=90;, score=(train=0.985, test=0.972) total time=   0.2s\n",
      "[CV 1/5] END criterion=entropy, max_depth=4, n_estimators=50;, score=(train=0.991, test=0.993) total time=   0.1s\n",
      "[CV 2/5] END criterion=entropy, max_depth=4, n_estimators=50;, score=(train=0.995, test=0.966) total time=   0.1s\n",
      "[CV 3/5] END criterion=entropy, max_depth=4, n_estimators=50;, score=(train=0.995, test=0.953) total time=   0.0s\n",
      "[CV 4/5] END criterion=entropy, max_depth=4, n_estimators=50;, score=(train=0.991, test=0.972) total time=   0.1s\n",
      "[CV 5/5] END criterion=entropy, max_depth=4, n_estimators=50;, score=(train=0.995, test=0.965) total time=   0.1s\n",
      "[CV 1/5] END criterion=entropy, max_depth=4, n_estimators=60;, score=(train=0.991, test=0.993) total time=   0.1s\n",
      "[CV 2/5] END criterion=entropy, max_depth=4, n_estimators=60;, score=(train=0.995, test=0.966) total time=   0.1s\n",
      "[CV 3/5] END criterion=entropy, max_depth=4, n_estimators=60;, score=(train=0.995, test=0.953) total time=   0.1s\n",
      "[CV 4/5] END criterion=entropy, max_depth=4, n_estimators=60;, score=(train=0.991, test=0.972) total time=   0.1s\n",
      "[CV 5/5] END criterion=entropy, max_depth=4, n_estimators=60;, score=(train=0.993, test=0.972) total time=   0.1s\n",
      "[CV 1/5] END criterion=entropy, max_depth=4, n_estimators=70;, score=(train=0.991, test=0.993) total time=   0.2s\n",
      "[CV 2/5] END criterion=entropy, max_depth=4, n_estimators=70;, score=(train=0.993, test=0.966) total time=   0.1s\n",
      "[CV 3/5] END criterion=entropy, max_depth=4, n_estimators=70;, score=(train=0.995, test=0.953) total time=   0.1s\n",
      "[CV 4/5] END criterion=entropy, max_depth=4, n_estimators=70;, score=(train=0.991, test=0.972) total time=   0.1s\n",
      "[CV 5/5] END criterion=entropy, max_depth=4, n_estimators=70;, score=(train=0.993, test=0.972) total time=   0.5s\n",
      "[CV 1/5] END criterion=entropy, max_depth=4, n_estimators=80;, score=(train=0.991, test=0.986) total time=   0.2s\n",
      "[CV 2/5] END criterion=entropy, max_depth=4, n_estimators=80;, score=(train=0.995, test=0.958) total time=   0.1s\n",
      "[CV 3/5] END criterion=entropy, max_depth=4, n_estimators=80;, score=(train=0.995, test=0.953) total time=   0.3s\n",
      "[CV 4/5] END criterion=entropy, max_depth=4, n_estimators=80;, score=(train=0.991, test=0.972) total time=   0.3s\n",
      "[CV 5/5] END criterion=entropy, max_depth=4, n_estimators=80;, score=(train=0.993, test=0.972) total time=   0.2s\n",
      "[CV 1/5] END criterion=entropy, max_depth=4, n_estimators=90;, score=(train=0.991, test=0.993) total time=   0.3s\n",
      "[CV 2/5] END criterion=entropy, max_depth=4, n_estimators=90;, score=(train=0.993, test=0.966) total time=   0.2s\n",
      "[CV 3/5] END criterion=entropy, max_depth=4, n_estimators=90;, score=(train=0.995, test=0.953) total time=   0.2s\n",
      "[CV 4/5] END criterion=entropy, max_depth=4, n_estimators=90;, score=(train=0.991, test=0.972) total time=   0.2s\n",
      "[CV 5/5] END criterion=entropy, max_depth=4, n_estimators=90;, score=(train=0.993, test=0.972) total time=   0.2s\n",
      "[CV 1/5] END criterion=entropy, max_depth=5, n_estimators=50;, score=(train=0.995, test=0.986) total time=   0.1s\n",
      "[CV 2/5] END criterion=entropy, max_depth=5, n_estimators=50;, score=(train=0.997, test=0.952) total time=   0.1s\n",
      "[CV 3/5] END criterion=entropy, max_depth=5, n_estimators=50;, score=(train=1.000, test=0.953) total time=   0.1s\n",
      "[CV 4/5] END criterion=entropy, max_depth=5, n_estimators=50;, score=(train=0.997, test=0.986) total time=   0.1s\n",
      "[CV 5/5] END criterion=entropy, max_depth=5, n_estimators=50;, score=(train=0.997, test=0.972) total time=   0.1s\n",
      "[CV 1/5] END criterion=entropy, max_depth=5, n_estimators=60;, score=(train=0.995, test=0.986) total time=   0.1s\n",
      "[CV 2/5] END criterion=entropy, max_depth=5, n_estimators=60;, score=(train=0.995, test=0.958) total time=   0.1s\n",
      "[CV 3/5] END criterion=entropy, max_depth=5, n_estimators=60;, score=(train=1.000, test=0.953) total time=   0.1s\n",
      "[CV 4/5] END criterion=entropy, max_depth=5, n_estimators=60;, score=(train=0.997, test=0.979) total time=   0.1s\n",
      "[CV 5/5] END criterion=entropy, max_depth=5, n_estimators=60;, score=(train=0.995, test=0.972) total time=   0.1s\n",
      "[CV 1/5] END criterion=entropy, max_depth=5, n_estimators=70;, score=(train=0.995, test=0.986) total time=   0.1s\n",
      "[CV 2/5] END criterion=entropy, max_depth=5, n_estimators=70;, score=(train=0.995, test=0.958) total time=   0.1s\n",
      "[CV 3/5] END criterion=entropy, max_depth=5, n_estimators=70;, score=(train=0.998, test=0.953) total time=   0.2s\n",
      "[CV 4/5] END criterion=entropy, max_depth=5, n_estimators=70;, score=(train=0.997, test=0.979) total time=   0.1s\n",
      "[CV 5/5] END criterion=entropy, max_depth=5, n_estimators=70;, score=(train=0.997, test=0.972) total time=   0.1s\n",
      "[CV 1/5] END criterion=entropy, max_depth=5, n_estimators=80;, score=(train=0.997, test=0.986) total time=   0.2s\n",
      "[CV 2/5] END criterion=entropy, max_depth=5, n_estimators=80;, score=(train=0.995, test=0.958) total time=   0.7s\n",
      "[CV 3/5] END criterion=entropy, max_depth=5, n_estimators=80;, score=(train=1.000, test=0.953) total time=   0.4s\n",
      "[CV 4/5] END criterion=entropy, max_depth=5, n_estimators=80;, score=(train=0.997, test=0.986) total time=   0.2s\n",
      "[CV 5/5] END criterion=entropy, max_depth=5, n_estimators=80;, score=(train=0.997, test=0.972) total time=   0.2s\n",
      "[CV 1/5] END criterion=entropy, max_depth=5, n_estimators=90;, score=(train=0.995, test=0.986) total time=   0.3s\n",
      "[CV 2/5] END criterion=entropy, max_depth=5, n_estimators=90;, score=(train=0.995, test=0.958) total time=   0.2s\n",
      "[CV 3/5] END criterion=entropy, max_depth=5, n_estimators=90;, score=(train=1.000, test=0.953) total time=   0.5s\n",
      "[CV 4/5] END criterion=entropy, max_depth=5, n_estimators=90;, score=(train=0.997, test=0.979) total time=   0.3s\n",
      "[CV 5/5] END criterion=entropy, max_depth=5, n_estimators=90;, score=(train=0.997, test=0.972) total time=   0.2s\n",
      "[CV 1/5] END criterion=entropy, max_depth=6, n_estimators=50;, score=(train=0.998, test=0.986) total time=   0.1s\n",
      "[CV 2/5] END criterion=entropy, max_depth=6, n_estimators=50;, score=(train=0.998, test=0.952) total time=   0.1s\n",
      "[CV 3/5] END criterion=entropy, max_depth=6, n_estimators=50;, score=(train=1.000, test=0.953) total time=   0.1s\n",
      "[CV 4/5] END criterion=entropy, max_depth=6, n_estimators=50;, score=(train=1.000, test=0.979) total time=   0.2s\n",
      "[CV 5/5] END criterion=entropy, max_depth=6, n_estimators=50;, score=(train=1.000, test=0.979) total time=   0.3s\n",
      "[CV 1/5] END criterion=entropy, max_depth=6, n_estimators=60;, score=(train=0.998, test=0.993) total time=   0.4s\n",
      "[CV 2/5] END criterion=entropy, max_depth=6, n_estimators=60;, score=(train=0.998, test=0.952) total time=   0.1s\n",
      "[CV 3/5] END criterion=entropy, max_depth=6, n_estimators=60;, score=(train=1.000, test=0.959) total time=   0.1s\n",
      "[CV 4/5] END criterion=entropy, max_depth=6, n_estimators=60;, score=(train=1.000, test=0.973) total time=   0.1s\n",
      "[CV 5/5] END criterion=entropy, max_depth=6, n_estimators=60;, score=(train=1.000, test=0.972) total time=   0.1s\n",
      "[CV 1/5] END criterion=entropy, max_depth=6, n_estimators=70;, score=(train=1.000, test=0.993) total time=   0.2s\n",
      "[CV 2/5] END criterion=entropy, max_depth=6, n_estimators=70;, score=(train=0.998, test=0.952) total time=   0.1s\n",
      "[CV 3/5] END criterion=entropy, max_depth=6, n_estimators=70;, score=(train=1.000, test=0.953) total time=   0.2s\n",
      "[CV 4/5] END criterion=entropy, max_depth=6, n_estimators=70;, score=(train=1.000, test=0.979) total time=   0.2s\n",
      "[CV 5/5] END criterion=entropy, max_depth=6, n_estimators=70;, score=(train=1.000, test=0.979) total time=   0.2s\n",
      "[CV 1/5] END criterion=entropy, max_depth=6, n_estimators=80;, score=(train=1.000, test=0.993) total time=   0.2s\n",
      "[CV 2/5] END criterion=entropy, max_depth=6, n_estimators=80;, score=(train=0.998, test=0.958) total time=   0.4s\n",
      "[CV 3/5] END criterion=entropy, max_depth=6, n_estimators=80;, score=(train=1.000, test=0.953) total time=   0.2s\n",
      "[CV 4/5] END criterion=entropy, max_depth=6, n_estimators=80;, score=(train=1.000, test=0.979) total time=   0.4s\n",
      "[CV 5/5] END criterion=entropy, max_depth=6, n_estimators=80;, score=(train=1.000, test=0.972) total time=   0.2s\n",
      "[CV 1/5] END criterion=entropy, max_depth=6, n_estimators=90;, score=(train=1.000, test=0.993) total time=   0.3s\n",
      "[CV 2/5] END criterion=entropy, max_depth=6, n_estimators=90;, score=(train=0.998, test=0.958) total time=   0.2s\n",
      "[CV 3/5] END criterion=entropy, max_depth=6, n_estimators=90;, score=(train=1.000, test=0.953) total time=   0.3s\n",
      "[CV 4/5] END criterion=entropy, max_depth=6, n_estimators=90;, score=(train=1.000, test=0.979) total time=   0.2s\n",
      "[CV 5/5] END criterion=entropy, max_depth=6, n_estimators=90;, score=(train=1.000, test=0.972) total time=   0.2s\n"
     ]
    },
    {
     "data": {
      "text/html": [
       "<style>#sk-container-id-1 {\n",
       "  /* Definition of color scheme common for light and dark mode */\n",
       "  --sklearn-color-text: black;\n",
       "  --sklearn-color-line: gray;\n",
       "  /* Definition of color scheme for unfitted estimators */\n",
       "  --sklearn-color-unfitted-level-0: #fff5e6;\n",
       "  --sklearn-color-unfitted-level-1: #f6e4d2;\n",
       "  --sklearn-color-unfitted-level-2: #ffe0b3;\n",
       "  --sklearn-color-unfitted-level-3: chocolate;\n",
       "  /* Definition of color scheme for fitted estimators */\n",
       "  --sklearn-color-fitted-level-0: #f0f8ff;\n",
       "  --sklearn-color-fitted-level-1: #d4ebff;\n",
       "  --sklearn-color-fitted-level-2: #b3dbfd;\n",
       "  --sklearn-color-fitted-level-3: cornflowerblue;\n",
       "\n",
       "  /* Specific color for light theme */\n",
       "  --sklearn-color-text-on-default-background: var(--sg-text-color, var(--theme-code-foreground, var(--jp-content-font-color1, black)));\n",
       "  --sklearn-color-background: var(--sg-background-color, var(--theme-background, var(--jp-layout-color0, white)));\n",
       "  --sklearn-color-border-box: var(--sg-text-color, var(--theme-code-foreground, var(--jp-content-font-color1, black)));\n",
       "  --sklearn-color-icon: #696969;\n",
       "\n",
       "  @media (prefers-color-scheme: dark) {\n",
       "    /* Redefinition of color scheme for dark theme */\n",
       "    --sklearn-color-text-on-default-background: var(--sg-text-color, var(--theme-code-foreground, var(--jp-content-font-color1, white)));\n",
       "    --sklearn-color-background: var(--sg-background-color, var(--theme-background, var(--jp-layout-color0, #111)));\n",
       "    --sklearn-color-border-box: var(--sg-text-color, var(--theme-code-foreground, var(--jp-content-font-color1, white)));\n",
       "    --sklearn-color-icon: #878787;\n",
       "  }\n",
       "}\n",
       "\n",
       "#sk-container-id-1 {\n",
       "  color: var(--sklearn-color-text);\n",
       "}\n",
       "\n",
       "#sk-container-id-1 pre {\n",
       "  padding: 0;\n",
       "}\n",
       "\n",
       "#sk-container-id-1 input.sk-hidden--visually {\n",
       "  border: 0;\n",
       "  clip: rect(1px 1px 1px 1px);\n",
       "  clip: rect(1px, 1px, 1px, 1px);\n",
       "  height: 1px;\n",
       "  margin: -1px;\n",
       "  overflow: hidden;\n",
       "  padding: 0;\n",
       "  position: absolute;\n",
       "  width: 1px;\n",
       "}\n",
       "\n",
       "#sk-container-id-1 div.sk-dashed-wrapped {\n",
       "  border: 1px dashed var(--sklearn-color-line);\n",
       "  margin: 0 0.4em 0.5em 0.4em;\n",
       "  box-sizing: border-box;\n",
       "  padding-bottom: 0.4em;\n",
       "  background-color: var(--sklearn-color-background);\n",
       "}\n",
       "\n",
       "#sk-container-id-1 div.sk-container {\n",
       "  /* jupyter's `normalize.less` sets `[hidden] { display: none; }`\n",
       "     but bootstrap.min.css set `[hidden] { display: none !important; }`\n",
       "     so we also need the `!important` here to be able to override the\n",
       "     default hidden behavior on the sphinx rendered scikit-learn.org.\n",
       "     See: https://github.com/scikit-learn/scikit-learn/issues/21755 */\n",
       "  display: inline-block !important;\n",
       "  position: relative;\n",
       "}\n",
       "\n",
       "#sk-container-id-1 div.sk-text-repr-fallback {\n",
       "  display: none;\n",
       "}\n",
       "\n",
       "div.sk-parallel-item,\n",
       "div.sk-serial,\n",
       "div.sk-item {\n",
       "  /* draw centered vertical line to link estimators */\n",
       "  background-image: linear-gradient(var(--sklearn-color-text-on-default-background), var(--sklearn-color-text-on-default-background));\n",
       "  background-size: 2px 100%;\n",
       "  background-repeat: no-repeat;\n",
       "  background-position: center center;\n",
       "}\n",
       "\n",
       "/* Parallel-specific style estimator block */\n",
       "\n",
       "#sk-container-id-1 div.sk-parallel-item::after {\n",
       "  content: \"\";\n",
       "  width: 100%;\n",
       "  border-bottom: 2px solid var(--sklearn-color-text-on-default-background);\n",
       "  flex-grow: 1;\n",
       "}\n",
       "\n",
       "#sk-container-id-1 div.sk-parallel {\n",
       "  display: flex;\n",
       "  align-items: stretch;\n",
       "  justify-content: center;\n",
       "  background-color: var(--sklearn-color-background);\n",
       "  position: relative;\n",
       "}\n",
       "\n",
       "#sk-container-id-1 div.sk-parallel-item {\n",
       "  display: flex;\n",
       "  flex-direction: column;\n",
       "}\n",
       "\n",
       "#sk-container-id-1 div.sk-parallel-item:first-child::after {\n",
       "  align-self: flex-end;\n",
       "  width: 50%;\n",
       "}\n",
       "\n",
       "#sk-container-id-1 div.sk-parallel-item:last-child::after {\n",
       "  align-self: flex-start;\n",
       "  width: 50%;\n",
       "}\n",
       "\n",
       "#sk-container-id-1 div.sk-parallel-item:only-child::after {\n",
       "  width: 0;\n",
       "}\n",
       "\n",
       "/* Serial-specific style estimator block */\n",
       "\n",
       "#sk-container-id-1 div.sk-serial {\n",
       "  display: flex;\n",
       "  flex-direction: column;\n",
       "  align-items: center;\n",
       "  background-color: var(--sklearn-color-background);\n",
       "  padding-right: 1em;\n",
       "  padding-left: 1em;\n",
       "}\n",
       "\n",
       "\n",
       "/* Toggleable style: style used for estimator/Pipeline/ColumnTransformer box that is\n",
       "clickable and can be expanded/collapsed.\n",
       "- Pipeline and ColumnTransformer use this feature and define the default style\n",
       "- Estimators will overwrite some part of the style using the `sk-estimator` class\n",
       "*/\n",
       "\n",
       "/* Pipeline and ColumnTransformer style (default) */\n",
       "\n",
       "#sk-container-id-1 div.sk-toggleable {\n",
       "  /* Default theme specific background. It is overwritten whether we have a\n",
       "  specific estimator or a Pipeline/ColumnTransformer */\n",
       "  background-color: var(--sklearn-color-background);\n",
       "}\n",
       "\n",
       "/* Toggleable label */\n",
       "#sk-container-id-1 label.sk-toggleable__label {\n",
       "  cursor: pointer;\n",
       "  display: block;\n",
       "  width: 100%;\n",
       "  margin-bottom: 0;\n",
       "  padding: 0.5em;\n",
       "  box-sizing: border-box;\n",
       "  text-align: center;\n",
       "}\n",
       "\n",
       "#sk-container-id-1 label.sk-toggleable__label-arrow:before {\n",
       "  /* Arrow on the left of the label */\n",
       "  content: \"▸\";\n",
       "  float: left;\n",
       "  margin-right: 0.25em;\n",
       "  color: var(--sklearn-color-icon);\n",
       "}\n",
       "\n",
       "#sk-container-id-1 label.sk-toggleable__label-arrow:hover:before {\n",
       "  color: var(--sklearn-color-text);\n",
       "}\n",
       "\n",
       "/* Toggleable content - dropdown */\n",
       "\n",
       "#sk-container-id-1 div.sk-toggleable__content {\n",
       "  max-height: 0;\n",
       "  max-width: 0;\n",
       "  overflow: hidden;\n",
       "  text-align: left;\n",
       "  /* unfitted */\n",
       "  background-color: var(--sklearn-color-unfitted-level-0);\n",
       "}\n",
       "\n",
       "#sk-container-id-1 div.sk-toggleable__content.fitted {\n",
       "  /* fitted */\n",
       "  background-color: var(--sklearn-color-fitted-level-0);\n",
       "}\n",
       "\n",
       "#sk-container-id-1 div.sk-toggleable__content pre {\n",
       "  margin: 0.2em;\n",
       "  border-radius: 0.25em;\n",
       "  color: var(--sklearn-color-text);\n",
       "  /* unfitted */\n",
       "  background-color: var(--sklearn-color-unfitted-level-0);\n",
       "}\n",
       "\n",
       "#sk-container-id-1 div.sk-toggleable__content.fitted pre {\n",
       "  /* unfitted */\n",
       "  background-color: var(--sklearn-color-fitted-level-0);\n",
       "}\n",
       "\n",
       "#sk-container-id-1 input.sk-toggleable__control:checked~div.sk-toggleable__content {\n",
       "  /* Expand drop-down */\n",
       "  max-height: 200px;\n",
       "  max-width: 100%;\n",
       "  overflow: auto;\n",
       "}\n",
       "\n",
       "#sk-container-id-1 input.sk-toggleable__control:checked~label.sk-toggleable__label-arrow:before {\n",
       "  content: \"▾\";\n",
       "}\n",
       "\n",
       "/* Pipeline/ColumnTransformer-specific style */\n",
       "\n",
       "#sk-container-id-1 div.sk-label input.sk-toggleable__control:checked~label.sk-toggleable__label {\n",
       "  color: var(--sklearn-color-text);\n",
       "  background-color: var(--sklearn-color-unfitted-level-2);\n",
       "}\n",
       "\n",
       "#sk-container-id-1 div.sk-label.fitted input.sk-toggleable__control:checked~label.sk-toggleable__label {\n",
       "  background-color: var(--sklearn-color-fitted-level-2);\n",
       "}\n",
       "\n",
       "/* Estimator-specific style */\n",
       "\n",
       "/* Colorize estimator box */\n",
       "#sk-container-id-1 div.sk-estimator input.sk-toggleable__control:checked~label.sk-toggleable__label {\n",
       "  /* unfitted */\n",
       "  background-color: var(--sklearn-color-unfitted-level-2);\n",
       "}\n",
       "\n",
       "#sk-container-id-1 div.sk-estimator.fitted input.sk-toggleable__control:checked~label.sk-toggleable__label {\n",
       "  /* fitted */\n",
       "  background-color: var(--sklearn-color-fitted-level-2);\n",
       "}\n",
       "\n",
       "#sk-container-id-1 div.sk-label label.sk-toggleable__label,\n",
       "#sk-container-id-1 div.sk-label label {\n",
       "  /* The background is the default theme color */\n",
       "  color: var(--sklearn-color-text-on-default-background);\n",
       "}\n",
       "\n",
       "/* On hover, darken the color of the background */\n",
       "#sk-container-id-1 div.sk-label:hover label.sk-toggleable__label {\n",
       "  color: var(--sklearn-color-text);\n",
       "  background-color: var(--sklearn-color-unfitted-level-2);\n",
       "}\n",
       "\n",
       "/* Label box, darken color on hover, fitted */\n",
       "#sk-container-id-1 div.sk-label.fitted:hover label.sk-toggleable__label.fitted {\n",
       "  color: var(--sklearn-color-text);\n",
       "  background-color: var(--sklearn-color-fitted-level-2);\n",
       "}\n",
       "\n",
       "/* Estimator label */\n",
       "\n",
       "#sk-container-id-1 div.sk-label label {\n",
       "  font-family: monospace;\n",
       "  font-weight: bold;\n",
       "  display: inline-block;\n",
       "  line-height: 1.2em;\n",
       "}\n",
       "\n",
       "#sk-container-id-1 div.sk-label-container {\n",
       "  text-align: center;\n",
       "}\n",
       "\n",
       "/* Estimator-specific */\n",
       "#sk-container-id-1 div.sk-estimator {\n",
       "  font-family: monospace;\n",
       "  border: 1px dotted var(--sklearn-color-border-box);\n",
       "  border-radius: 0.25em;\n",
       "  box-sizing: border-box;\n",
       "  margin-bottom: 0.5em;\n",
       "  /* unfitted */\n",
       "  background-color: var(--sklearn-color-unfitted-level-0);\n",
       "}\n",
       "\n",
       "#sk-container-id-1 div.sk-estimator.fitted {\n",
       "  /* fitted */\n",
       "  background-color: var(--sklearn-color-fitted-level-0);\n",
       "}\n",
       "\n",
       "/* on hover */\n",
       "#sk-container-id-1 div.sk-estimator:hover {\n",
       "  /* unfitted */\n",
       "  background-color: var(--sklearn-color-unfitted-level-2);\n",
       "}\n",
       "\n",
       "#sk-container-id-1 div.sk-estimator.fitted:hover {\n",
       "  /* fitted */\n",
       "  background-color: var(--sklearn-color-fitted-level-2);\n",
       "}\n",
       "\n",
       "/* Specification for estimator info (e.g. \"i\" and \"?\") */\n",
       "\n",
       "/* Common style for \"i\" and \"?\" */\n",
       "\n",
       ".sk-estimator-doc-link,\n",
       "a:link.sk-estimator-doc-link,\n",
       "a:visited.sk-estimator-doc-link {\n",
       "  float: right;\n",
       "  font-size: smaller;\n",
       "  line-height: 1em;\n",
       "  font-family: monospace;\n",
       "  background-color: var(--sklearn-color-background);\n",
       "  border-radius: 1em;\n",
       "  height: 1em;\n",
       "  width: 1em;\n",
       "  text-decoration: none !important;\n",
       "  margin-left: 1ex;\n",
       "  /* unfitted */\n",
       "  border: var(--sklearn-color-unfitted-level-1) 1pt solid;\n",
       "  color: var(--sklearn-color-unfitted-level-1);\n",
       "}\n",
       "\n",
       ".sk-estimator-doc-link.fitted,\n",
       "a:link.sk-estimator-doc-link.fitted,\n",
       "a:visited.sk-estimator-doc-link.fitted {\n",
       "  /* fitted */\n",
       "  border: var(--sklearn-color-fitted-level-1) 1pt solid;\n",
       "  color: var(--sklearn-color-fitted-level-1);\n",
       "}\n",
       "\n",
       "/* On hover */\n",
       "div.sk-estimator:hover .sk-estimator-doc-link:hover,\n",
       ".sk-estimator-doc-link:hover,\n",
       "div.sk-label-container:hover .sk-estimator-doc-link:hover,\n",
       ".sk-estimator-doc-link:hover {\n",
       "  /* unfitted */\n",
       "  background-color: var(--sklearn-color-unfitted-level-3);\n",
       "  color: var(--sklearn-color-background);\n",
       "  text-decoration: none;\n",
       "}\n",
       "\n",
       "div.sk-estimator.fitted:hover .sk-estimator-doc-link.fitted:hover,\n",
       ".sk-estimator-doc-link.fitted:hover,\n",
       "div.sk-label-container:hover .sk-estimator-doc-link.fitted:hover,\n",
       ".sk-estimator-doc-link.fitted:hover {\n",
       "  /* fitted */\n",
       "  background-color: var(--sklearn-color-fitted-level-3);\n",
       "  color: var(--sklearn-color-background);\n",
       "  text-decoration: none;\n",
       "}\n",
       "\n",
       "/* Span, style for the box shown on hovering the info icon */\n",
       ".sk-estimator-doc-link span {\n",
       "  display: none;\n",
       "  z-index: 9999;\n",
       "  position: relative;\n",
       "  font-weight: normal;\n",
       "  right: .2ex;\n",
       "  padding: .5ex;\n",
       "  margin: .5ex;\n",
       "  width: min-content;\n",
       "  min-width: 20ex;\n",
       "  max-width: 50ex;\n",
       "  color: var(--sklearn-color-text);\n",
       "  box-shadow: 2pt 2pt 4pt #999;\n",
       "  /* unfitted */\n",
       "  background: var(--sklearn-color-unfitted-level-0);\n",
       "  border: .5pt solid var(--sklearn-color-unfitted-level-3);\n",
       "}\n",
       "\n",
       ".sk-estimator-doc-link.fitted span {\n",
       "  /* fitted */\n",
       "  background: var(--sklearn-color-fitted-level-0);\n",
       "  border: var(--sklearn-color-fitted-level-3);\n",
       "}\n",
       "\n",
       ".sk-estimator-doc-link:hover span {\n",
       "  display: block;\n",
       "}\n",
       "\n",
       "/* \"?\"-specific style due to the `<a>` HTML tag */\n",
       "\n",
       "#sk-container-id-1 a.estimator_doc_link {\n",
       "  float: right;\n",
       "  font-size: 1rem;\n",
       "  line-height: 1em;\n",
       "  font-family: monospace;\n",
       "  background-color: var(--sklearn-color-background);\n",
       "  border-radius: 1rem;\n",
       "  height: 1rem;\n",
       "  width: 1rem;\n",
       "  text-decoration: none;\n",
       "  /* unfitted */\n",
       "  color: var(--sklearn-color-unfitted-level-1);\n",
       "  border: var(--sklearn-color-unfitted-level-1) 1pt solid;\n",
       "}\n",
       "\n",
       "#sk-container-id-1 a.estimator_doc_link.fitted {\n",
       "  /* fitted */\n",
       "  border: var(--sklearn-color-fitted-level-1) 1pt solid;\n",
       "  color: var(--sklearn-color-fitted-level-1);\n",
       "}\n",
       "\n",
       "/* On hover */\n",
       "#sk-container-id-1 a.estimator_doc_link:hover {\n",
       "  /* unfitted */\n",
       "  background-color: var(--sklearn-color-unfitted-level-3);\n",
       "  color: var(--sklearn-color-background);\n",
       "  text-decoration: none;\n",
       "}\n",
       "\n",
       "#sk-container-id-1 a.estimator_doc_link.fitted:hover {\n",
       "  /* fitted */\n",
       "  background-color: var(--sklearn-color-fitted-level-3);\n",
       "}\n",
       "</style><div id=\"sk-container-id-1\" class=\"sk-top-container\"><div class=\"sk-text-repr-fallback\"><pre>GridSearchCV(cv=&lt;generator object _BaseKFold.split at 0x000002D9C4568E10&gt;,\n",
       "             estimator=RandomForestClassifier(random_state=23),\n",
       "             param_grid={&#x27;criterion&#x27;: [&#x27;gini&#x27;, &#x27;entropy&#x27;],\n",
       "                         &#x27;max_depth&#x27;: [3, 4, 5, 6],\n",
       "                         &#x27;n_estimators&#x27;: [50, 60, 70, 80, 90]},\n",
       "             return_train_score=True, scoring=&#x27;f1&#x27;, verbose=3)</pre><b>In a Jupyter environment, please rerun this cell to show the HTML representation or trust the notebook. <br />On GitHub, the HTML representation is unable to render, please try loading this page with nbviewer.org.</b></div><div class=\"sk-container\" hidden><div class=\"sk-item sk-dashed-wrapped\"><div class=\"sk-label-container\"><div class=\"sk-label fitted sk-toggleable\"><input class=\"sk-toggleable__control sk-hidden--visually\" id=\"sk-estimator-id-1\" type=\"checkbox\" ><label for=\"sk-estimator-id-1\" class=\"sk-toggleable__label fitted sk-toggleable__label-arrow fitted\">&nbsp;&nbsp;GridSearchCV<a class=\"sk-estimator-doc-link fitted\" rel=\"noreferrer\" target=\"_blank\" href=\"https://scikit-learn.org/1.4/modules/generated/sklearn.model_selection.GridSearchCV.html\">?<span>Documentation for GridSearchCV</span></a><span class=\"sk-estimator-doc-link fitted\">i<span>Fitted</span></span></label><div class=\"sk-toggleable__content fitted\"><pre>GridSearchCV(cv=&lt;generator object _BaseKFold.split at 0x000002D9C4568E10&gt;,\n",
       "             estimator=RandomForestClassifier(random_state=23),\n",
       "             param_grid={&#x27;criterion&#x27;: [&#x27;gini&#x27;, &#x27;entropy&#x27;],\n",
       "                         &#x27;max_depth&#x27;: [3, 4, 5, 6],\n",
       "                         &#x27;n_estimators&#x27;: [50, 60, 70, 80, 90]},\n",
       "             return_train_score=True, scoring=&#x27;f1&#x27;, verbose=3)</pre></div> </div></div><div class=\"sk-parallel\"><div class=\"sk-parallel-item\"><div class=\"sk-item\"><div class=\"sk-label-container\"><div class=\"sk-label fitted sk-toggleable\"><input class=\"sk-toggleable__control sk-hidden--visually\" id=\"sk-estimator-id-2\" type=\"checkbox\" ><label for=\"sk-estimator-id-2\" class=\"sk-toggleable__label fitted sk-toggleable__label-arrow fitted\">estimator: RandomForestClassifier</label><div class=\"sk-toggleable__content fitted\"><pre>RandomForestClassifier(random_state=23)</pre></div> </div></div><div class=\"sk-serial\"><div class=\"sk-item\"><div class=\"sk-estimator fitted sk-toggleable\"><input class=\"sk-toggleable__control sk-hidden--visually\" id=\"sk-estimator-id-3\" type=\"checkbox\" ><label for=\"sk-estimator-id-3\" class=\"sk-toggleable__label fitted sk-toggleable__label-arrow fitted\">&nbsp;RandomForestClassifier<a class=\"sk-estimator-doc-link fitted\" rel=\"noreferrer\" target=\"_blank\" href=\"https://scikit-learn.org/1.4/modules/generated/sklearn.ensemble.RandomForestClassifier.html\">?<span>Documentation for RandomForestClassifier</span></a></label><div class=\"sk-toggleable__content fitted\"><pre>RandomForestClassifier(random_state=23)</pre></div> </div></div></div></div></div></div></div></div></div>"
      ],
      "text/plain": [
       "GridSearchCV(cv=<generator object _BaseKFold.split at 0x000002D9C4568E10>,\n",
       "             estimator=RandomForestClassifier(random_state=23),\n",
       "             param_grid={'criterion': ['gini', 'entropy'],\n",
       "                         'max_depth': [3, 4, 5, 6],\n",
       "                         'n_estimators': [50, 60, 70, 80, 90]},\n",
       "             return_train_score=True, scoring='f1', verbose=3)"
      ]
     },
     "execution_count": 3,
     "metadata": {},
     "output_type": "execute_result"
    }
   ],
   "source": [
    "classfier = RandomForestClassifier(random_state=23)\n",
    "\n",
    "# param_grid\n",
    "param_grid = {\n",
    "    'n_estimators': [50,60,70,80,90],\n",
    "    'max_depth': [3,4,5,6],\n",
    "    'criterion': ['gini','entropy']\n",
    "}\n",
    "\n",
    "model = GridSearchCV(estimator=classfier,param_grid=param_grid,\n",
    "                     scoring='f1',cv = str_kfold.split(X,y),\n",
    "                     verbose=3,return_train_score=True)\n",
    "\n",
    "model.fit(X=X, y=y)"
   ]
  },
  {
   "cell_type": "code",
   "execution_count": 4,
   "id": "2b0b9321",
   "metadata": {},
   "outputs": [
    {
     "data": {
      "text/plain": [
       "0.9711371645321135"
      ]
     },
     "execution_count": 4,
     "metadata": {},
     "output_type": "execute_result"
    }
   ],
   "source": [
    "# return the best score\n",
    "model.best_score_"
   ]
  },
  {
   "cell_type": "code",
   "execution_count": 5,
   "id": "53ba11a6",
   "metadata": {},
   "outputs": [
    {
     "data": {
      "text/plain": [
       "{'criterion': 'entropy', 'max_depth': 6, 'n_estimators': 70}"
      ]
     },
     "execution_count": 5,
     "metadata": {},
     "output_type": "execute_result"
    }
   ],
   "source": [
    "model.best_params_"
   ]
  },
  {
   "cell_type": "markdown",
   "id": "93785a94",
   "metadata": {},
   "source": [
    "## Randomized Search"
   ]
  },
  {
   "cell_type": "code",
   "execution_count": 8,
   "id": "c4e8271b",
   "metadata": {},
   "outputs": [
    {
     "name": "stdout",
     "output_type": "stream",
     "text": [
      "Fitting 5 folds for each of 15 candidates, totalling 75 fits\n",
      "[CV 1/5] END criterion=gini, max_depth=6, n_estimators=80;, score=(train=0.995, test=0.986) total time=   0.4s\n",
      "[CV 2/5] END criterion=gini, max_depth=6, n_estimators=80;, score=(train=0.998, test=0.966) total time=   0.3s\n",
      "[CV 3/5] END criterion=gini, max_depth=6, n_estimators=80;, score=(train=1.000, test=0.945) total time=   0.2s\n",
      "[CV 4/5] END criterion=gini, max_depth=6, n_estimators=80;, score=(train=0.997, test=0.979) total time=   0.3s\n",
      "[CV 5/5] END criterion=gini, max_depth=6, n_estimators=80;, score=(train=0.998, test=0.972) total time=   0.2s\n",
      "[CV 1/5] END criterion=entropy, max_depth=3, n_estimators=80;, score=(train=0.985, test=0.971) total time=   0.2s\n",
      "[CV 2/5] END criterion=entropy, max_depth=3, n_estimators=80;, score=(train=0.984, test=0.959) total time=   0.2s\n",
      "[CV 3/5] END criterion=entropy, max_depth=3, n_estimators=80;, score=(train=0.986, test=0.939) total time=   0.3s\n",
      "[CV 4/5] END criterion=entropy, max_depth=3, n_estimators=80;, score=(train=0.986, test=0.966) total time=   0.2s\n",
      "[CV 5/5] END criterion=entropy, max_depth=3, n_estimators=80;, score=(train=0.986, test=0.972) total time=   0.2s\n",
      "[CV 1/5] END criterion=gini, max_depth=4, n_estimators=80;, score=(train=0.991, test=0.986) total time=   0.2s\n",
      "[CV 2/5] END criterion=gini, max_depth=4, n_estimators=80;, score=(train=0.993, test=0.958) total time=   0.1s\n",
      "[CV 3/5] END criterion=gini, max_depth=4, n_estimators=80;, score=(train=0.991, test=0.939) total time=   0.2s\n",
      "[CV 4/5] END criterion=gini, max_depth=4, n_estimators=80;, score=(train=0.991, test=0.966) total time=   0.2s\n",
      "[CV 5/5] END criterion=gini, max_depth=4, n_estimators=80;, score=(train=0.991, test=0.972) total time=   0.1s\n",
      "[CV 1/5] END criterion=entropy, max_depth=3, n_estimators=70;, score=(train=0.981, test=0.971) total time=   0.2s\n",
      "[CV 2/5] END criterion=entropy, max_depth=3, n_estimators=70;, score=(train=0.983, test=0.959) total time=   0.1s\n",
      "[CV 3/5] END criterion=entropy, max_depth=3, n_estimators=70;, score=(train=0.986, test=0.939) total time=   0.1s\n",
      "[CV 4/5] END criterion=entropy, max_depth=3, n_estimators=70;, score=(train=0.986, test=0.966) total time=   0.2s\n",
      "[CV 5/5] END criterion=entropy, max_depth=3, n_estimators=70;, score=(train=0.986, test=0.972) total time=   0.2s\n",
      "[CV 1/5] END criterion=entropy, max_depth=5, n_estimators=80;, score=(train=0.997, test=0.986) total time=   0.2s\n",
      "[CV 2/5] END criterion=entropy, max_depth=5, n_estimators=80;, score=(train=0.995, test=0.958) total time=   0.2s\n",
      "[CV 3/5] END criterion=entropy, max_depth=5, n_estimators=80;, score=(train=1.000, test=0.953) total time=   0.2s\n",
      "[CV 4/5] END criterion=entropy, max_depth=5, n_estimators=80;, score=(train=0.997, test=0.986) total time=   0.2s\n",
      "[CV 5/5] END criterion=entropy, max_depth=5, n_estimators=80;, score=(train=0.997, test=0.972) total time=   0.2s\n",
      "[CV 1/5] END criterion=entropy, max_depth=5, n_estimators=70;, score=(train=0.995, test=0.986) total time=   0.3s\n",
      "[CV 2/5] END criterion=entropy, max_depth=5, n_estimators=70;, score=(train=0.995, test=0.958) total time=   0.3s\n",
      "[CV 3/5] END criterion=entropy, max_depth=5, n_estimators=70;, score=(train=0.998, test=0.953) total time=   0.1s\n",
      "[CV 4/5] END criterion=entropy, max_depth=5, n_estimators=70;, score=(train=0.997, test=0.979) total time=   0.3s\n",
      "[CV 5/5] END criterion=entropy, max_depth=5, n_estimators=70;, score=(train=0.997, test=0.972) total time=   0.3s\n",
      "[CV 1/5] END criterion=gini, max_depth=5, n_estimators=50;, score=(train=0.995, test=0.986) total time=   0.1s\n",
      "[CV 2/5] END criterion=gini, max_depth=5, n_estimators=50;, score=(train=0.995, test=0.966) total time=   0.1s\n",
      "[CV 3/5] END criterion=gini, max_depth=5, n_estimators=50;, score=(train=0.997, test=0.947) total time=   0.0s\n",
      "[CV 4/5] END criterion=gini, max_depth=5, n_estimators=50;, score=(train=0.995, test=0.966) total time=   0.1s\n",
      "[CV 5/5] END criterion=gini, max_depth=5, n_estimators=50;, score=(train=0.995, test=0.972) total time=   0.2s\n",
      "[CV 1/5] END criterion=gini, max_depth=3, n_estimators=80;, score=(train=0.983, test=0.986) total time=   0.2s\n",
      "[CV 2/5] END criterion=gini, max_depth=3, n_estimators=80;, score=(train=0.984, test=0.958) total time=   0.1s\n",
      "[CV 3/5] END criterion=gini, max_depth=3, n_estimators=80;, score=(train=0.986, test=0.940) total time=   0.1s\n",
      "[CV 4/5] END criterion=gini, max_depth=3, n_estimators=80;, score=(train=0.984, test=0.973) total time=   0.1s\n",
      "[CV 5/5] END criterion=gini, max_depth=3, n_estimators=80;, score=(train=0.983, test=0.965) total time=   0.1s\n",
      "[CV 1/5] END criterion=gini, max_depth=5, n_estimators=90;, score=(train=0.993, test=0.986) total time=   0.2s\n",
      "[CV 2/5] END criterion=gini, max_depth=5, n_estimators=90;, score=(train=0.995, test=0.966) total time=   0.2s\n",
      "[CV 3/5] END criterion=gini, max_depth=5, n_estimators=90;, score=(train=0.997, test=0.959) total time=   0.2s\n",
      "[CV 4/5] END criterion=gini, max_depth=5, n_estimators=90;, score=(train=0.995, test=0.958) total time=   0.2s\n",
      "[CV 5/5] END criterion=gini, max_depth=5, n_estimators=90;, score=(train=0.995, test=0.965) total time=   0.2s\n",
      "[CV 1/5] END criterion=entropy, max_depth=5, n_estimators=50;, score=(train=0.995, test=0.986) total time=   0.1s\n",
      "[CV 2/5] END criterion=entropy, max_depth=5, n_estimators=50;, score=(train=0.997, test=0.952) total time=   0.1s\n",
      "[CV 3/5] END criterion=entropy, max_depth=5, n_estimators=50;, score=(train=1.000, test=0.953) total time=   0.1s\n",
      "[CV 4/5] END criterion=entropy, max_depth=5, n_estimators=50;, score=(train=0.997, test=0.986) total time=   0.1s\n",
      "[CV 5/5] END criterion=entropy, max_depth=5, n_estimators=50;, score=(train=0.997, test=0.972) total time=   0.1s\n",
      "[CV 1/5] END criterion=entropy, max_depth=4, n_estimators=80;, score=(train=0.991, test=0.986) total time=   0.2s\n",
      "[CV 2/5] END criterion=entropy, max_depth=4, n_estimators=80;, score=(train=0.995, test=0.958) total time=   0.2s\n",
      "[CV 3/5] END criterion=entropy, max_depth=4, n_estimators=80;, score=(train=0.995, test=0.953) total time=   0.2s\n",
      "[CV 4/5] END criterion=entropy, max_depth=4, n_estimators=80;, score=(train=0.991, test=0.972) total time=   0.3s\n",
      "[CV 5/5] END criterion=entropy, max_depth=4, n_estimators=80;, score=(train=0.993, test=0.972) total time=   0.3s\n",
      "[CV 1/5] END criterion=entropy, max_depth=3, n_estimators=50;, score=(train=0.981, test=0.971) total time=   0.2s\n",
      "[CV 2/5] END criterion=entropy, max_depth=3, n_estimators=50;, score=(train=0.986, test=0.952) total time=   0.1s\n",
      "[CV 3/5] END criterion=entropy, max_depth=3, n_estimators=50;, score=(train=0.988, test=0.940) total time=   0.1s\n",
      "[CV 4/5] END criterion=entropy, max_depth=3, n_estimators=50;, score=(train=0.984, test=0.966) total time=   0.1s\n",
      "[CV 5/5] END criterion=entropy, max_depth=3, n_estimators=50;, score=(train=0.988, test=0.972) total time=   0.3s\n",
      "[CV 1/5] END criterion=entropy, max_depth=6, n_estimators=60;, score=(train=0.998, test=0.993) total time=   0.2s\n",
      "[CV 2/5] END criterion=entropy, max_depth=6, n_estimators=60;, score=(train=0.998, test=0.952) total time=   0.1s\n",
      "[CV 3/5] END criterion=entropy, max_depth=6, n_estimators=60;, score=(train=1.000, test=0.959) total time=   0.1s\n",
      "[CV 4/5] END criterion=entropy, max_depth=6, n_estimators=60;, score=(train=1.000, test=0.973) total time=   0.1s\n",
      "[CV 5/5] END criterion=entropy, max_depth=6, n_estimators=60;, score=(train=1.000, test=0.972) total time=   0.1s\n",
      "[CV 1/5] END criterion=gini, max_depth=3, n_estimators=90;, score=(train=0.985, test=0.986) total time=   0.1s\n",
      "[CV 2/5] END criterion=gini, max_depth=3, n_estimators=90;, score=(train=0.984, test=0.958) total time=   0.2s\n",
      "[CV 3/5] END criterion=gini, max_depth=3, n_estimators=90;, score=(train=0.986, test=0.946) total time=   0.1s\n",
      "[CV 4/5] END criterion=gini, max_depth=3, n_estimators=90;, score=(train=0.983, test=0.966) total time=   0.1s\n",
      "[CV 5/5] END criterion=gini, max_depth=3, n_estimators=90;, score=(train=0.983, test=0.965) total time=   0.2s\n",
      "[CV 1/5] END criterion=gini, max_depth=4, n_estimators=70;, score=(train=0.991, test=0.986) total time=   0.1s\n",
      "[CV 2/5] END criterion=gini, max_depth=4, n_estimators=70;, score=(train=0.993, test=0.966) total time=   0.1s\n",
      "[CV 3/5] END criterion=gini, max_depth=4, n_estimators=70;, score=(train=0.991, test=0.953) total time=   0.1s\n",
      "[CV 4/5] END criterion=gini, max_depth=4, n_estimators=70;, score=(train=0.991, test=0.966) total time=   0.1s\n",
      "[CV 5/5] END criterion=gini, max_depth=4, n_estimators=70;, score=(train=0.991, test=0.972) total time=   0.1s\n"
     ]
    },
    {
     "data": {
      "text/html": [
       "<style>#sk-container-id-2 {\n",
       "  /* Definition of color scheme common for light and dark mode */\n",
       "  --sklearn-color-text: black;\n",
       "  --sklearn-color-line: gray;\n",
       "  /* Definition of color scheme for unfitted estimators */\n",
       "  --sklearn-color-unfitted-level-0: #fff5e6;\n",
       "  --sklearn-color-unfitted-level-1: #f6e4d2;\n",
       "  --sklearn-color-unfitted-level-2: #ffe0b3;\n",
       "  --sklearn-color-unfitted-level-3: chocolate;\n",
       "  /* Definition of color scheme for fitted estimators */\n",
       "  --sklearn-color-fitted-level-0: #f0f8ff;\n",
       "  --sklearn-color-fitted-level-1: #d4ebff;\n",
       "  --sklearn-color-fitted-level-2: #b3dbfd;\n",
       "  --sklearn-color-fitted-level-3: cornflowerblue;\n",
       "\n",
       "  /* Specific color for light theme */\n",
       "  --sklearn-color-text-on-default-background: var(--sg-text-color, var(--theme-code-foreground, var(--jp-content-font-color1, black)));\n",
       "  --sklearn-color-background: var(--sg-background-color, var(--theme-background, var(--jp-layout-color0, white)));\n",
       "  --sklearn-color-border-box: var(--sg-text-color, var(--theme-code-foreground, var(--jp-content-font-color1, black)));\n",
       "  --sklearn-color-icon: #696969;\n",
       "\n",
       "  @media (prefers-color-scheme: dark) {\n",
       "    /* Redefinition of color scheme for dark theme */\n",
       "    --sklearn-color-text-on-default-background: var(--sg-text-color, var(--theme-code-foreground, var(--jp-content-font-color1, white)));\n",
       "    --sklearn-color-background: var(--sg-background-color, var(--theme-background, var(--jp-layout-color0, #111)));\n",
       "    --sklearn-color-border-box: var(--sg-text-color, var(--theme-code-foreground, var(--jp-content-font-color1, white)));\n",
       "    --sklearn-color-icon: #878787;\n",
       "  }\n",
       "}\n",
       "\n",
       "#sk-container-id-2 {\n",
       "  color: var(--sklearn-color-text);\n",
       "}\n",
       "\n",
       "#sk-container-id-2 pre {\n",
       "  padding: 0;\n",
       "}\n",
       "\n",
       "#sk-container-id-2 input.sk-hidden--visually {\n",
       "  border: 0;\n",
       "  clip: rect(1px 1px 1px 1px);\n",
       "  clip: rect(1px, 1px, 1px, 1px);\n",
       "  height: 1px;\n",
       "  margin: -1px;\n",
       "  overflow: hidden;\n",
       "  padding: 0;\n",
       "  position: absolute;\n",
       "  width: 1px;\n",
       "}\n",
       "\n",
       "#sk-container-id-2 div.sk-dashed-wrapped {\n",
       "  border: 1px dashed var(--sklearn-color-line);\n",
       "  margin: 0 0.4em 0.5em 0.4em;\n",
       "  box-sizing: border-box;\n",
       "  padding-bottom: 0.4em;\n",
       "  background-color: var(--sklearn-color-background);\n",
       "}\n",
       "\n",
       "#sk-container-id-2 div.sk-container {\n",
       "  /* jupyter's `normalize.less` sets `[hidden] { display: none; }`\n",
       "     but bootstrap.min.css set `[hidden] { display: none !important; }`\n",
       "     so we also need the `!important` here to be able to override the\n",
       "     default hidden behavior on the sphinx rendered scikit-learn.org.\n",
       "     See: https://github.com/scikit-learn/scikit-learn/issues/21755 */\n",
       "  display: inline-block !important;\n",
       "  position: relative;\n",
       "}\n",
       "\n",
       "#sk-container-id-2 div.sk-text-repr-fallback {\n",
       "  display: none;\n",
       "}\n",
       "\n",
       "div.sk-parallel-item,\n",
       "div.sk-serial,\n",
       "div.sk-item {\n",
       "  /* draw centered vertical line to link estimators */\n",
       "  background-image: linear-gradient(var(--sklearn-color-text-on-default-background), var(--sklearn-color-text-on-default-background));\n",
       "  background-size: 2px 100%;\n",
       "  background-repeat: no-repeat;\n",
       "  background-position: center center;\n",
       "}\n",
       "\n",
       "/* Parallel-specific style estimator block */\n",
       "\n",
       "#sk-container-id-2 div.sk-parallel-item::after {\n",
       "  content: \"\";\n",
       "  width: 100%;\n",
       "  border-bottom: 2px solid var(--sklearn-color-text-on-default-background);\n",
       "  flex-grow: 1;\n",
       "}\n",
       "\n",
       "#sk-container-id-2 div.sk-parallel {\n",
       "  display: flex;\n",
       "  align-items: stretch;\n",
       "  justify-content: center;\n",
       "  background-color: var(--sklearn-color-background);\n",
       "  position: relative;\n",
       "}\n",
       "\n",
       "#sk-container-id-2 div.sk-parallel-item {\n",
       "  display: flex;\n",
       "  flex-direction: column;\n",
       "}\n",
       "\n",
       "#sk-container-id-2 div.sk-parallel-item:first-child::after {\n",
       "  align-self: flex-end;\n",
       "  width: 50%;\n",
       "}\n",
       "\n",
       "#sk-container-id-2 div.sk-parallel-item:last-child::after {\n",
       "  align-self: flex-start;\n",
       "  width: 50%;\n",
       "}\n",
       "\n",
       "#sk-container-id-2 div.sk-parallel-item:only-child::after {\n",
       "  width: 0;\n",
       "}\n",
       "\n",
       "/* Serial-specific style estimator block */\n",
       "\n",
       "#sk-container-id-2 div.sk-serial {\n",
       "  display: flex;\n",
       "  flex-direction: column;\n",
       "  align-items: center;\n",
       "  background-color: var(--sklearn-color-background);\n",
       "  padding-right: 1em;\n",
       "  padding-left: 1em;\n",
       "}\n",
       "\n",
       "\n",
       "/* Toggleable style: style used for estimator/Pipeline/ColumnTransformer box that is\n",
       "clickable and can be expanded/collapsed.\n",
       "- Pipeline and ColumnTransformer use this feature and define the default style\n",
       "- Estimators will overwrite some part of the style using the `sk-estimator` class\n",
       "*/\n",
       "\n",
       "/* Pipeline and ColumnTransformer style (default) */\n",
       "\n",
       "#sk-container-id-2 div.sk-toggleable {\n",
       "  /* Default theme specific background. It is overwritten whether we have a\n",
       "  specific estimator or a Pipeline/ColumnTransformer */\n",
       "  background-color: var(--sklearn-color-background);\n",
       "}\n",
       "\n",
       "/* Toggleable label */\n",
       "#sk-container-id-2 label.sk-toggleable__label {\n",
       "  cursor: pointer;\n",
       "  display: block;\n",
       "  width: 100%;\n",
       "  margin-bottom: 0;\n",
       "  padding: 0.5em;\n",
       "  box-sizing: border-box;\n",
       "  text-align: center;\n",
       "}\n",
       "\n",
       "#sk-container-id-2 label.sk-toggleable__label-arrow:before {\n",
       "  /* Arrow on the left of the label */\n",
       "  content: \"▸\";\n",
       "  float: left;\n",
       "  margin-right: 0.25em;\n",
       "  color: var(--sklearn-color-icon);\n",
       "}\n",
       "\n",
       "#sk-container-id-2 label.sk-toggleable__label-arrow:hover:before {\n",
       "  color: var(--sklearn-color-text);\n",
       "}\n",
       "\n",
       "/* Toggleable content - dropdown */\n",
       "\n",
       "#sk-container-id-2 div.sk-toggleable__content {\n",
       "  max-height: 0;\n",
       "  max-width: 0;\n",
       "  overflow: hidden;\n",
       "  text-align: left;\n",
       "  /* unfitted */\n",
       "  background-color: var(--sklearn-color-unfitted-level-0);\n",
       "}\n",
       "\n",
       "#sk-container-id-2 div.sk-toggleable__content.fitted {\n",
       "  /* fitted */\n",
       "  background-color: var(--sklearn-color-fitted-level-0);\n",
       "}\n",
       "\n",
       "#sk-container-id-2 div.sk-toggleable__content pre {\n",
       "  margin: 0.2em;\n",
       "  border-radius: 0.25em;\n",
       "  color: var(--sklearn-color-text);\n",
       "  /* unfitted */\n",
       "  background-color: var(--sklearn-color-unfitted-level-0);\n",
       "}\n",
       "\n",
       "#sk-container-id-2 div.sk-toggleable__content.fitted pre {\n",
       "  /* unfitted */\n",
       "  background-color: var(--sklearn-color-fitted-level-0);\n",
       "}\n",
       "\n",
       "#sk-container-id-2 input.sk-toggleable__control:checked~div.sk-toggleable__content {\n",
       "  /* Expand drop-down */\n",
       "  max-height: 200px;\n",
       "  max-width: 100%;\n",
       "  overflow: auto;\n",
       "}\n",
       "\n",
       "#sk-container-id-2 input.sk-toggleable__control:checked~label.sk-toggleable__label-arrow:before {\n",
       "  content: \"▾\";\n",
       "}\n",
       "\n",
       "/* Pipeline/ColumnTransformer-specific style */\n",
       "\n",
       "#sk-container-id-2 div.sk-label input.sk-toggleable__control:checked~label.sk-toggleable__label {\n",
       "  color: var(--sklearn-color-text);\n",
       "  background-color: var(--sklearn-color-unfitted-level-2);\n",
       "}\n",
       "\n",
       "#sk-container-id-2 div.sk-label.fitted input.sk-toggleable__control:checked~label.sk-toggleable__label {\n",
       "  background-color: var(--sklearn-color-fitted-level-2);\n",
       "}\n",
       "\n",
       "/* Estimator-specific style */\n",
       "\n",
       "/* Colorize estimator box */\n",
       "#sk-container-id-2 div.sk-estimator input.sk-toggleable__control:checked~label.sk-toggleable__label {\n",
       "  /* unfitted */\n",
       "  background-color: var(--sklearn-color-unfitted-level-2);\n",
       "}\n",
       "\n",
       "#sk-container-id-2 div.sk-estimator.fitted input.sk-toggleable__control:checked~label.sk-toggleable__label {\n",
       "  /* fitted */\n",
       "  background-color: var(--sklearn-color-fitted-level-2);\n",
       "}\n",
       "\n",
       "#sk-container-id-2 div.sk-label label.sk-toggleable__label,\n",
       "#sk-container-id-2 div.sk-label label {\n",
       "  /* The background is the default theme color */\n",
       "  color: var(--sklearn-color-text-on-default-background);\n",
       "}\n",
       "\n",
       "/* On hover, darken the color of the background */\n",
       "#sk-container-id-2 div.sk-label:hover label.sk-toggleable__label {\n",
       "  color: var(--sklearn-color-text);\n",
       "  background-color: var(--sklearn-color-unfitted-level-2);\n",
       "}\n",
       "\n",
       "/* Label box, darken color on hover, fitted */\n",
       "#sk-container-id-2 div.sk-label.fitted:hover label.sk-toggleable__label.fitted {\n",
       "  color: var(--sklearn-color-text);\n",
       "  background-color: var(--sklearn-color-fitted-level-2);\n",
       "}\n",
       "\n",
       "/* Estimator label */\n",
       "\n",
       "#sk-container-id-2 div.sk-label label {\n",
       "  font-family: monospace;\n",
       "  font-weight: bold;\n",
       "  display: inline-block;\n",
       "  line-height: 1.2em;\n",
       "}\n",
       "\n",
       "#sk-container-id-2 div.sk-label-container {\n",
       "  text-align: center;\n",
       "}\n",
       "\n",
       "/* Estimator-specific */\n",
       "#sk-container-id-2 div.sk-estimator {\n",
       "  font-family: monospace;\n",
       "  border: 1px dotted var(--sklearn-color-border-box);\n",
       "  border-radius: 0.25em;\n",
       "  box-sizing: border-box;\n",
       "  margin-bottom: 0.5em;\n",
       "  /* unfitted */\n",
       "  background-color: var(--sklearn-color-unfitted-level-0);\n",
       "}\n",
       "\n",
       "#sk-container-id-2 div.sk-estimator.fitted {\n",
       "  /* fitted */\n",
       "  background-color: var(--sklearn-color-fitted-level-0);\n",
       "}\n",
       "\n",
       "/* on hover */\n",
       "#sk-container-id-2 div.sk-estimator:hover {\n",
       "  /* unfitted */\n",
       "  background-color: var(--sklearn-color-unfitted-level-2);\n",
       "}\n",
       "\n",
       "#sk-container-id-2 div.sk-estimator.fitted:hover {\n",
       "  /* fitted */\n",
       "  background-color: var(--sklearn-color-fitted-level-2);\n",
       "}\n",
       "\n",
       "/* Specification for estimator info (e.g. \"i\" and \"?\") */\n",
       "\n",
       "/* Common style for \"i\" and \"?\" */\n",
       "\n",
       ".sk-estimator-doc-link,\n",
       "a:link.sk-estimator-doc-link,\n",
       "a:visited.sk-estimator-doc-link {\n",
       "  float: right;\n",
       "  font-size: smaller;\n",
       "  line-height: 1em;\n",
       "  font-family: monospace;\n",
       "  background-color: var(--sklearn-color-background);\n",
       "  border-radius: 1em;\n",
       "  height: 1em;\n",
       "  width: 1em;\n",
       "  text-decoration: none !important;\n",
       "  margin-left: 1ex;\n",
       "  /* unfitted */\n",
       "  border: var(--sklearn-color-unfitted-level-1) 1pt solid;\n",
       "  color: var(--sklearn-color-unfitted-level-1);\n",
       "}\n",
       "\n",
       ".sk-estimator-doc-link.fitted,\n",
       "a:link.sk-estimator-doc-link.fitted,\n",
       "a:visited.sk-estimator-doc-link.fitted {\n",
       "  /* fitted */\n",
       "  border: var(--sklearn-color-fitted-level-1) 1pt solid;\n",
       "  color: var(--sklearn-color-fitted-level-1);\n",
       "}\n",
       "\n",
       "/* On hover */\n",
       "div.sk-estimator:hover .sk-estimator-doc-link:hover,\n",
       ".sk-estimator-doc-link:hover,\n",
       "div.sk-label-container:hover .sk-estimator-doc-link:hover,\n",
       ".sk-estimator-doc-link:hover {\n",
       "  /* unfitted */\n",
       "  background-color: var(--sklearn-color-unfitted-level-3);\n",
       "  color: var(--sklearn-color-background);\n",
       "  text-decoration: none;\n",
       "}\n",
       "\n",
       "div.sk-estimator.fitted:hover .sk-estimator-doc-link.fitted:hover,\n",
       ".sk-estimator-doc-link.fitted:hover,\n",
       "div.sk-label-container:hover .sk-estimator-doc-link.fitted:hover,\n",
       ".sk-estimator-doc-link.fitted:hover {\n",
       "  /* fitted */\n",
       "  background-color: var(--sklearn-color-fitted-level-3);\n",
       "  color: var(--sklearn-color-background);\n",
       "  text-decoration: none;\n",
       "}\n",
       "\n",
       "/* Span, style for the box shown on hovering the info icon */\n",
       ".sk-estimator-doc-link span {\n",
       "  display: none;\n",
       "  z-index: 9999;\n",
       "  position: relative;\n",
       "  font-weight: normal;\n",
       "  right: .2ex;\n",
       "  padding: .5ex;\n",
       "  margin: .5ex;\n",
       "  width: min-content;\n",
       "  min-width: 20ex;\n",
       "  max-width: 50ex;\n",
       "  color: var(--sklearn-color-text);\n",
       "  box-shadow: 2pt 2pt 4pt #999;\n",
       "  /* unfitted */\n",
       "  background: var(--sklearn-color-unfitted-level-0);\n",
       "  border: .5pt solid var(--sklearn-color-unfitted-level-3);\n",
       "}\n",
       "\n",
       ".sk-estimator-doc-link.fitted span {\n",
       "  /* fitted */\n",
       "  background: var(--sklearn-color-fitted-level-0);\n",
       "  border: var(--sklearn-color-fitted-level-3);\n",
       "}\n",
       "\n",
       ".sk-estimator-doc-link:hover span {\n",
       "  display: block;\n",
       "}\n",
       "\n",
       "/* \"?\"-specific style due to the `<a>` HTML tag */\n",
       "\n",
       "#sk-container-id-2 a.estimator_doc_link {\n",
       "  float: right;\n",
       "  font-size: 1rem;\n",
       "  line-height: 1em;\n",
       "  font-family: monospace;\n",
       "  background-color: var(--sklearn-color-background);\n",
       "  border-radius: 1rem;\n",
       "  height: 1rem;\n",
       "  width: 1rem;\n",
       "  text-decoration: none;\n",
       "  /* unfitted */\n",
       "  color: var(--sklearn-color-unfitted-level-1);\n",
       "  border: var(--sklearn-color-unfitted-level-1) 1pt solid;\n",
       "}\n",
       "\n",
       "#sk-container-id-2 a.estimator_doc_link.fitted {\n",
       "  /* fitted */\n",
       "  border: var(--sklearn-color-fitted-level-1) 1pt solid;\n",
       "  color: var(--sklearn-color-fitted-level-1);\n",
       "}\n",
       "\n",
       "/* On hover */\n",
       "#sk-container-id-2 a.estimator_doc_link:hover {\n",
       "  /* unfitted */\n",
       "  background-color: var(--sklearn-color-unfitted-level-3);\n",
       "  color: var(--sklearn-color-background);\n",
       "  text-decoration: none;\n",
       "}\n",
       "\n",
       "#sk-container-id-2 a.estimator_doc_link.fitted:hover {\n",
       "  /* fitted */\n",
       "  background-color: var(--sklearn-color-fitted-level-3);\n",
       "}\n",
       "</style><div id=\"sk-container-id-2\" class=\"sk-top-container\"><div class=\"sk-text-repr-fallback\"><pre>RandomizedSearchCV(cv=&lt;generator object _BaseKFold.split at 0x000002D9C456B230&gt;,\n",
       "                   estimator=RandomForestClassifier(random_state=23), n_iter=15,\n",
       "                   param_distributions={&#x27;criterion&#x27;: [&#x27;gini&#x27;, &#x27;entropy&#x27;],\n",
       "                                        &#x27;max_depth&#x27;: [3, 4, 5, 6],\n",
       "                                        &#x27;n_estimators&#x27;: [50, 60, 70, 80, 90]},\n",
       "                   random_state=23, return_train_score=True, scoring=&#x27;f1&#x27;,\n",
       "                   verbose=3)</pre><b>In a Jupyter environment, please rerun this cell to show the HTML representation or trust the notebook. <br />On GitHub, the HTML representation is unable to render, please try loading this page with nbviewer.org.</b></div><div class=\"sk-container\" hidden><div class=\"sk-item sk-dashed-wrapped\"><div class=\"sk-label-container\"><div class=\"sk-label fitted sk-toggleable\"><input class=\"sk-toggleable__control sk-hidden--visually\" id=\"sk-estimator-id-4\" type=\"checkbox\" ><label for=\"sk-estimator-id-4\" class=\"sk-toggleable__label fitted sk-toggleable__label-arrow fitted\">&nbsp;&nbsp;RandomizedSearchCV<a class=\"sk-estimator-doc-link fitted\" rel=\"noreferrer\" target=\"_blank\" href=\"https://scikit-learn.org/1.4/modules/generated/sklearn.model_selection.RandomizedSearchCV.html\">?<span>Documentation for RandomizedSearchCV</span></a><span class=\"sk-estimator-doc-link fitted\">i<span>Fitted</span></span></label><div class=\"sk-toggleable__content fitted\"><pre>RandomizedSearchCV(cv=&lt;generator object _BaseKFold.split at 0x000002D9C456B230&gt;,\n",
       "                   estimator=RandomForestClassifier(random_state=23), n_iter=15,\n",
       "                   param_distributions={&#x27;criterion&#x27;: [&#x27;gini&#x27;, &#x27;entropy&#x27;],\n",
       "                                        &#x27;max_depth&#x27;: [3, 4, 5, 6],\n",
       "                                        &#x27;n_estimators&#x27;: [50, 60, 70, 80, 90]},\n",
       "                   random_state=23, return_train_score=True, scoring=&#x27;f1&#x27;,\n",
       "                   verbose=3)</pre></div> </div></div><div class=\"sk-parallel\"><div class=\"sk-parallel-item\"><div class=\"sk-item\"><div class=\"sk-label-container\"><div class=\"sk-label fitted sk-toggleable\"><input class=\"sk-toggleable__control sk-hidden--visually\" id=\"sk-estimator-id-5\" type=\"checkbox\" ><label for=\"sk-estimator-id-5\" class=\"sk-toggleable__label fitted sk-toggleable__label-arrow fitted\">estimator: RandomForestClassifier</label><div class=\"sk-toggleable__content fitted\"><pre>RandomForestClassifier(random_state=23)</pre></div> </div></div><div class=\"sk-serial\"><div class=\"sk-item\"><div class=\"sk-estimator fitted sk-toggleable\"><input class=\"sk-toggleable__control sk-hidden--visually\" id=\"sk-estimator-id-6\" type=\"checkbox\" ><label for=\"sk-estimator-id-6\" class=\"sk-toggleable__label fitted sk-toggleable__label-arrow fitted\">&nbsp;RandomForestClassifier<a class=\"sk-estimator-doc-link fitted\" rel=\"noreferrer\" target=\"_blank\" href=\"https://scikit-learn.org/1.4/modules/generated/sklearn.ensemble.RandomForestClassifier.html\">?<span>Documentation for RandomForestClassifier</span></a></label><div class=\"sk-toggleable__content fitted\"><pre>RandomForestClassifier(random_state=23)</pre></div> </div></div></div></div></div></div></div></div></div>"
      ],
      "text/plain": [
       "RandomizedSearchCV(cv=<generator object _BaseKFold.split at 0x000002D9C456B230>,\n",
       "                   estimator=RandomForestClassifier(random_state=23), n_iter=15,\n",
       "                   param_distributions={'criterion': ['gini', 'entropy'],\n",
       "                                        'max_depth': [3, 4, 5, 6],\n",
       "                                        'n_estimators': [50, 60, 70, 80, 90]},\n",
       "                   random_state=23, return_train_score=True, scoring='f1',\n",
       "                   verbose=3)"
      ]
     },
     "execution_count": 8,
     "metadata": {},
     "output_type": "execute_result"
    }
   ],
   "source": [
    "from sklearn.model_selection import RandomizedSearchCV\n",
    "\n",
    "\n",
    "param_grid = {\n",
    "    'n_estimators': [50,60,70,80,90],\n",
    "    'max_depth': [3,4,5,6],\n",
    "    'criterion': ['gini','entropy']\n",
    "}\n",
    "\n",
    "model = RandomizedSearchCV(estimator=classfier, param_distributions=param_grid,\n",
    "                           n_iter=15, scoring='f1',return_train_score=True,\n",
    "                           verbose=3, random_state=23, cv=str_kfold.split(X=X,y=y))\n",
    "model.fit(X=X,y=y)"
   ]
  },
  {
   "cell_type": "code",
   "execution_count": 9,
   "id": "2bcb73da",
   "metadata": {},
   "outputs": [
    {
     "data": {
      "text/plain": [
       "0.9710400218108628"
      ]
     },
     "execution_count": 9,
     "metadata": {},
     "output_type": "execute_result"
    }
   ],
   "source": [
    "model.best_score_"
   ]
  },
  {
   "cell_type": "code",
   "execution_count": 10,
   "id": "cab24297",
   "metadata": {},
   "outputs": [
    {
     "data": {
      "text/plain": [
       "{'n_estimators': 80, 'max_depth': 5, 'criterion': 'entropy'}"
      ]
     },
     "execution_count": 10,
     "metadata": {},
     "output_type": "execute_result"
    }
   ],
   "source": [
    "model.best_params_"
   ]
  },
  {
   "cell_type": "markdown",
   "id": "e92cb2ff",
   "metadata": {},
   "source": [
    "#### Bayesian Optimization with Optuna."
   ]
  },
  {
   "cell_type": "code",
   "execution_count": 22,
   "id": "8b7778dc",
   "metadata": {},
   "outputs": [
    {
     "name": "stderr",
     "output_type": "stream",
     "text": [
      "[I 2025-06-03 14:41:35,500] A new study created in memory with name: no-name-ad176f60-e9d9-4242-9ece-7abb39ed252b\n",
      "[I 2025-06-03 14:41:49,386] Trial 0 finished with value: 0.973538014470735 and parameters: {'n_estimators': 527, 'max_depth': 95}. Best is trial 0 with value: 0.973538014470735.\n",
      "[I 2025-06-03 14:42:03,025] Trial 1 finished with value: 0.973538014470735 and parameters: {'n_estimators': 770, 'max_depth': 29}. Best is trial 0 with value: 0.973538014470735.\n",
      "[I 2025-06-03 14:42:07,187] Trial 2 finished with value: 0.9720596406819025 and parameters: {'n_estimators': 236, 'max_depth': 69}. Best is trial 0 with value: 0.973538014470735.\n",
      "[I 2025-06-03 14:42:11,038] Trial 3 finished with value: 0.972063019687948 and parameters: {'n_estimators': 183, 'max_depth': 40}. Best is trial 0 with value: 0.973538014470735.\n",
      "[I 2025-06-03 14:42:22,111] Trial 4 finished with value: 0.9720596406819025 and parameters: {'n_estimators': 626, 'max_depth': 42}. Best is trial 0 with value: 0.973538014470735.\n",
      "[I 2025-06-03 14:42:22,475] Trial 5 finished with value: 0.9688378716985625 and parameters: {'n_estimators': 22, 'max_depth': 89}. Best is trial 0 with value: 0.973538014470735.\n",
      "[I 2025-06-03 14:42:36,942] Trial 6 finished with value: 0.973538014470735 and parameters: {'n_estimators': 888, 'max_depth': 31}. Best is trial 0 with value: 0.973538014470735.\n",
      "[I 2025-06-03 14:42:47,847] Trial 7 finished with value: 0.9720596406819025 and parameters: {'n_estimators': 598, 'max_depth': 98}. Best is trial 0 with value: 0.973538014470735.\n",
      "[I 2025-06-03 14:43:01,781] Trial 8 finished with value: 0.973538014470735 and parameters: {'n_estimators': 849, 'max_depth': 8}. Best is trial 0 with value: 0.973538014470735.\n",
      "[I 2025-06-03 14:43:07,801] Trial 9 finished with value: 0.9721985089058771 and parameters: {'n_estimators': 309, 'max_depth': 30}. Best is trial 0 with value: 0.973538014470735.\n",
      "[I 2025-06-03 14:43:21,173] Trial 10 finished with value: 0.973538014470735 and parameters: {'n_estimators': 826, 'max_depth': 63}. Best is trial 0 with value: 0.973538014470735.\n",
      "[I 2025-06-03 14:43:22,637] Trial 11 finished with value: 0.9534286671117191 and parameters: {'n_estimators': 128, 'max_depth': 2}. Best is trial 0 with value: 0.973538014470735.\n",
      "[I 2025-06-03 14:43:36,988] Trial 12 finished with value: 0.973538014470735 and parameters: {'n_estimators': 944, 'max_depth': 16}. Best is trial 0 with value: 0.973538014470735.\n",
      "[I 2025-06-03 14:43:43,660] Trial 13 finished with value: 0.973538014470735 and parameters: {'n_estimators': 433, 'max_depth': 36}. Best is trial 0 with value: 0.973538014470735.\n",
      "[I 2025-06-03 14:43:57,326] Trial 14 finished with value: 0.973538014470735 and parameters: {'n_estimators': 873, 'max_depth': 44}. Best is trial 0 with value: 0.973538014470735.\n",
      "[I 2025-06-03 14:44:13,812] Trial 15 finished with value: 0.973538014470735 and parameters: {'n_estimators': 833, 'max_depth': 73}. Best is trial 0 with value: 0.973538014470735.\n",
      "[I 2025-06-03 14:44:15,903] Trial 16 finished with value: 0.972100809012464 and parameters: {'n_estimators': 136, 'max_depth': 61}. Best is trial 0 with value: 0.973538014470735.\n",
      "[I 2025-06-03 14:44:18,289] Trial 17 finished with value: 0.972063019687948 and parameters: {'n_estimators': 147, 'max_depth': 9}. Best is trial 0 with value: 0.973538014470735.\n",
      "[I 2025-06-03 14:44:30,620] Trial 18 finished with value: 0.973538014470735 and parameters: {'n_estimators': 835, 'max_depth': 47}. Best is trial 0 with value: 0.973538014470735.\n",
      "[I 2025-06-03 14:44:33,404] Trial 19 finished with value: 0.972063019687948 and parameters: {'n_estimators': 178, 'max_depth': 56}. Best is trial 0 with value: 0.973538014470735.\n",
      "[I 2025-06-03 14:44:42,135] Trial 20 finished with value: 0.9720596406819025 and parameters: {'n_estimators': 597, 'max_depth': 78}. Best is trial 0 with value: 0.973538014470735.\n",
      "[I 2025-06-03 14:44:51,767] Trial 21 finished with value: 0.973538014470735 and parameters: {'n_estimators': 663, 'max_depth': 57}. Best is trial 0 with value: 0.973538014470735.\n",
      "[I 2025-06-03 14:44:54,839] Trial 22 finished with value: 0.9707211130622841 and parameters: {'n_estimators': 194, 'max_depth': 25}. Best is trial 0 with value: 0.973538014470735.\n",
      "[I 2025-06-03 14:45:02,607] Trial 23 finished with value: 0.973538014470735 and parameters: {'n_estimators': 516, 'max_depth': 41}. Best is trial 0 with value: 0.973538014470735.\n",
      "[I 2025-06-03 14:45:10,063] Trial 24 finished with value: 0.973538014470735 and parameters: {'n_estimators': 493, 'max_depth': 96}. Best is trial 0 with value: 0.973538014470735.\n",
      "[I 2025-06-03 14:45:23,430] Trial 25 finished with value: 0.9720596406819025 and parameters: {'n_estimators': 904, 'max_depth': 52}. Best is trial 0 with value: 0.973538014470735.\n",
      "[I 2025-06-03 14:45:36,848] Trial 26 finished with value: 0.973538014470735 and parameters: {'n_estimators': 825, 'max_depth': 83}. Best is trial 0 with value: 0.973538014470735.\n",
      "[I 2025-06-03 14:45:41,577] Trial 27 finished with value: 0.9707211130622841 and parameters: {'n_estimators': 247, 'max_depth': 9}. Best is trial 0 with value: 0.973538014470735.\n",
      "[I 2025-06-03 14:45:50,675] Trial 28 finished with value: 0.973538014470735 and parameters: {'n_estimators': 476, 'max_depth': 89}. Best is trial 0 with value: 0.973538014470735.\n",
      "[I 2025-06-03 14:45:54,349] Trial 29 finished with value: 0.972063019687948 and parameters: {'n_estimators': 164, 'max_depth': 24}. Best is trial 0 with value: 0.973538014470735.\n",
      "[I 2025-06-03 14:46:16,653] Trial 30 finished with value: 0.973538014470735 and parameters: {'n_estimators': 920, 'max_depth': 14}. Best is trial 0 with value: 0.973538014470735.\n",
      "[I 2025-06-03 14:46:31,633] Trial 31 finished with value: 0.973538014470735 and parameters: {'n_estimators': 918, 'max_depth': 25}. Best is trial 0 with value: 0.973538014470735.\n",
      "[I 2025-06-03 14:46:42,606] Trial 32 finished with value: 0.9720596406819025 and parameters: {'n_estimators': 624, 'max_depth': 96}. Best is trial 0 with value: 0.973538014470735.\n",
      "[I 2025-06-03 14:46:47,048] Trial 33 finished with value: 0.9720596406819025 and parameters: {'n_estimators': 270, 'max_depth': 46}. Best is trial 0 with value: 0.973538014470735.\n",
      "[I 2025-06-03 14:47:01,574] Trial 34 finished with value: 0.973538014470735 and parameters: {'n_estimators': 974, 'max_depth': 25}. Best is trial 0 with value: 0.973538014470735.\n",
      "[I 2025-06-03 14:47:04,886] Trial 35 finished with value: 0.9721985089058771 and parameters: {'n_estimators': 214, 'max_depth': 70}. Best is trial 0 with value: 0.973538014470735.\n",
      "[I 2025-06-03 14:47:17,377] Trial 36 finished with value: 0.973538014470735 and parameters: {'n_estimators': 848, 'max_depth': 46}. Best is trial 0 with value: 0.973538014470735.\n",
      "[I 2025-06-03 14:47:19,193] Trial 37 finished with value: 0.9734234353705178 and parameters: {'n_estimators': 119, 'max_depth': 63}. Best is trial 0 with value: 0.973538014470735.\n",
      "[I 2025-06-03 14:47:20,909] Trial 38 finished with value: 0.9721192382907073 and parameters: {'n_estimators': 101, 'max_depth': 7}. Best is trial 0 with value: 0.973538014470735.\n",
      "[I 2025-06-03 14:47:26,281] Trial 39 finished with value: 0.973538014470735 and parameters: {'n_estimators': 358, 'max_depth': 91}. Best is trial 0 with value: 0.973538014470735.\n",
      "[I 2025-06-03 14:47:38,027] Trial 40 finished with value: 0.973538014470735 and parameters: {'n_estimators': 803, 'max_depth': 40}. Best is trial 0 with value: 0.973538014470735.\n",
      "[I 2025-06-03 14:47:39,679] Trial 41 finished with value: 0.9734234353705178 and parameters: {'n_estimators': 110, 'max_depth': 14}. Best is trial 0 with value: 0.973538014470735.\n",
      "[I 2025-06-03 14:47:47,852] Trial 42 finished with value: 0.9720596406819025 and parameters: {'n_estimators': 544, 'max_depth': 52}. Best is trial 0 with value: 0.973538014470735.\n",
      "[I 2025-06-03 14:47:58,674] Trial 43 finished with value: 0.973538014470735 and parameters: {'n_estimators': 513, 'max_depth': 14}. Best is trial 0 with value: 0.973538014470735.\n",
      "[I 2025-06-03 14:48:10,343] Trial 44 finished with value: 0.973538014470735 and parameters: {'n_estimators': 796, 'max_depth': 61}. Best is trial 0 with value: 0.973538014470735.\n",
      "[I 2025-06-03 14:48:29,636] Trial 45 finished with value: 0.973538014470735 and parameters: {'n_estimators': 763, 'max_depth': 47}. Best is trial 0 with value: 0.973538014470735.\n",
      "[I 2025-06-03 14:48:31,228] Trial 46 finished with value: 0.973578204856057 and parameters: {'n_estimators': 93, 'max_depth': 61}. Best is trial 46 with value: 0.973578204856057.\n",
      "[I 2025-06-03 14:48:36,798] Trial 47 finished with value: 0.9523309883050104 and parameters: {'n_estimators': 447, 'max_depth': 2}. Best is trial 46 with value: 0.973578204856057.\n",
      "[I 2025-06-03 14:48:37,995] Trial 48 finished with value: 0.9691434906341087 and parameters: {'n_estimators': 65, 'max_depth': 43}. Best is trial 46 with value: 0.973578204856057.\n",
      "[I 2025-06-03 14:48:50,855] Trial 49 finished with value: 0.973538014470735 and parameters: {'n_estimators': 881, 'max_depth': 44}. Best is trial 46 with value: 0.973578204856057.\n"
     ]
    }
   ],
   "source": [
    "import optuna\n",
    "from sklearn.model_selection import cross_val_score\n",
    "\n",
    "\n",
    "\n",
    "# step 1: define objective function\n",
    "\n",
    "def objective(trial):\n",
    "    n_estimators = trial.suggest_int('n_estimators', 20, 1000)\n",
    "    max_depth = trial.suggest_int('max_depth', 2, 100)\n",
    "    \n",
    "    classifier = RandomForestClassifier(n_estimators=n_estimators,\n",
    "                                        max_depth=max_depth, criterion='entropy',\n",
    "                                        random_state=23)\n",
    "    score = cross_val_score(estimator=classifier, cv = 5, scoring=\"f1\",X=X, y=y).mean()\n",
    "    \n",
    "    return score\n",
    "\n",
    "# step 2: create study\n",
    "study = optuna.create_study(sampler=optuna.samplers.RandomSampler(seed=23), direction='maximize')\n",
    "study.optimize(objective, n_trials=50)"
   ]
  },
  {
   "cell_type": "markdown",
   "id": "487b8b7c",
   "metadata": {},
   "source": [
    "## visualizing the experiment."
   ]
  },
  {
   "cell_type": "code",
   "execution_count": 24,
   "id": "b85f51b2",
   "metadata": {},
   "outputs": [
    {
     "ename": "ValueError",
     "evalue": "Mime type rendering requires nbformat>=4.2.0 but it is not installed",
     "output_type": "error",
     "traceback": [
      "\u001b[1;31m---------------------------------------------------------------------------\u001b[0m",
      "\u001b[1;31mValueError\u001b[0m                                Traceback (most recent call last)",
      "File \u001b[1;32m~\\AppData\\Roaming\\Python\\Python312\\site-packages\\IPython\\core\\formatters.py:922\u001b[0m, in \u001b[0;36mIPythonDisplayFormatter.__call__\u001b[1;34m(self, obj)\u001b[0m\n\u001b[0;32m    920\u001b[0m method \u001b[38;5;241m=\u001b[39m get_real_method(obj, \u001b[38;5;28mself\u001b[39m\u001b[38;5;241m.\u001b[39mprint_method)\n\u001b[0;32m    921\u001b[0m \u001b[38;5;28;01mif\u001b[39;00m method \u001b[38;5;129;01mis\u001b[39;00m \u001b[38;5;129;01mnot\u001b[39;00m \u001b[38;5;28;01mNone\u001b[39;00m:\n\u001b[1;32m--> 922\u001b[0m     \u001b[43mmethod\u001b[49m\u001b[43m(\u001b[49m\u001b[43m)\u001b[49m\n\u001b[0;32m    923\u001b[0m     \u001b[38;5;28;01mreturn\u001b[39;00m \u001b[38;5;28;01mTrue\u001b[39;00m\n",
      "File \u001b[1;32mc:\\Users\\hp\\AppData\\Local\\Programs\\Python\\Python312\\Lib\\site-packages\\plotly\\basedatatypes.py:832\u001b[0m, in \u001b[0;36mBaseFigure._ipython_display_\u001b[1;34m(self)\u001b[0m\n\u001b[0;32m    829\u001b[0m \u001b[38;5;28;01mimport\u001b[39;00m \u001b[38;5;21;01mplotly\u001b[39;00m\u001b[38;5;21;01m.\u001b[39;00m\u001b[38;5;21;01mio\u001b[39;00m \u001b[38;5;28;01mas\u001b[39;00m \u001b[38;5;21;01mpio\u001b[39;00m\n\u001b[0;32m    831\u001b[0m \u001b[38;5;28;01mif\u001b[39;00m pio\u001b[38;5;241m.\u001b[39mrenderers\u001b[38;5;241m.\u001b[39mrender_on_display \u001b[38;5;129;01mand\u001b[39;00m pio\u001b[38;5;241m.\u001b[39mrenderers\u001b[38;5;241m.\u001b[39mdefault:\n\u001b[1;32m--> 832\u001b[0m     \u001b[43mpio\u001b[49m\u001b[38;5;241;43m.\u001b[39;49m\u001b[43mshow\u001b[49m\u001b[43m(\u001b[49m\u001b[38;5;28;43mself\u001b[39;49m\u001b[43m)\u001b[49m\n\u001b[0;32m    833\u001b[0m \u001b[38;5;28;01melse\u001b[39;00m:\n\u001b[0;32m    834\u001b[0m     \u001b[38;5;28mprint\u001b[39m(\u001b[38;5;28mrepr\u001b[39m(\u001b[38;5;28mself\u001b[39m))\n",
      "File \u001b[1;32mc:\\Users\\hp\\AppData\\Local\\Programs\\Python\\Python312\\Lib\\site-packages\\plotly\\io\\_renderers.py:394\u001b[0m, in \u001b[0;36mshow\u001b[1;34m(fig, renderer, validate, **kwargs)\u001b[0m\n\u001b[0;32m    389\u001b[0m         \u001b[38;5;28;01mraise\u001b[39;00m \u001b[38;5;167;01mValueError\u001b[39;00m(\n\u001b[0;32m    390\u001b[0m             \u001b[38;5;124m\"\u001b[39m\u001b[38;5;124mMime type rendering requires ipython but it is not installed\u001b[39m\u001b[38;5;124m\"\u001b[39m\n\u001b[0;32m    391\u001b[0m         )\n\u001b[0;32m    393\u001b[0m     \u001b[38;5;28;01mif\u001b[39;00m \u001b[38;5;129;01mnot\u001b[39;00m nbformat \u001b[38;5;129;01mor\u001b[39;00m Version(nbformat\u001b[38;5;241m.\u001b[39m__version__) \u001b[38;5;241m<\u001b[39m Version(\u001b[38;5;124m\"\u001b[39m\u001b[38;5;124m4.2.0\u001b[39m\u001b[38;5;124m\"\u001b[39m):\n\u001b[1;32m--> 394\u001b[0m         \u001b[38;5;28;01mraise\u001b[39;00m \u001b[38;5;167;01mValueError\u001b[39;00m(\n\u001b[0;32m    395\u001b[0m             \u001b[38;5;124m\"\u001b[39m\u001b[38;5;124mMime type rendering requires nbformat>=4.2.0 but it is not installed\u001b[39m\u001b[38;5;124m\"\u001b[39m\n\u001b[0;32m    396\u001b[0m         )\n\u001b[0;32m    398\u001b[0m     ipython_display\u001b[38;5;241m.\u001b[39mdisplay(bundle, raw\u001b[38;5;241m=\u001b[39m\u001b[38;5;28;01mTrue\u001b[39;00m)\n\u001b[0;32m    400\u001b[0m \u001b[38;5;66;03m# external renderers\u001b[39;00m\n",
      "\u001b[1;31mValueError\u001b[0m: Mime type rendering requires nbformat>=4.2.0 but it is not installed"
     ]
    },
    {
     "data": {
      "application/vnd.plotly.v1+json": {
       "config": {
        "plotlyServerURL": "https://plot.ly"
       },
       "data": [
        {
         "mode": "markers",
         "name": "Objective Value",
         "type": "scatter",
         "x": [
          0,
          1,
          2,
          3,
          4,
          5,
          6,
          7,
          8,
          9,
          10,
          11,
          12,
          13,
          14,
          15,
          16,
          17,
          18,
          19,
          20,
          21,
          22,
          23,
          24,
          25,
          26,
          27,
          28,
          29,
          30,
          31,
          32,
          33,
          34,
          35,
          36,
          37,
          38,
          39,
          40,
          41,
          42,
          43,
          44,
          45,
          46,
          47,
          48,
          49
         ],
         "y": [
          0.973538014470735,
          0.973538014470735,
          0.9720596406819025,
          0.972063019687948,
          0.9720596406819025,
          0.9688378716985625,
          0.973538014470735,
          0.9720596406819025,
          0.973538014470735,
          0.9721985089058771,
          0.973538014470735,
          0.9534286671117191,
          0.973538014470735,
          0.973538014470735,
          0.973538014470735,
          0.973538014470735,
          0.972100809012464,
          0.972063019687948,
          0.973538014470735,
          0.972063019687948,
          0.9720596406819025,
          0.973538014470735,
          0.9707211130622841,
          0.973538014470735,
          0.973538014470735,
          0.9720596406819025,
          0.973538014470735,
          0.9707211130622841,
          0.973538014470735,
          0.972063019687948,
          0.973538014470735,
          0.973538014470735,
          0.9720596406819025,
          0.9720596406819025,
          0.973538014470735,
          0.9721985089058771,
          0.973538014470735,
          0.9734234353705178,
          0.9721192382907073,
          0.973538014470735,
          0.973538014470735,
          0.9734234353705178,
          0.9720596406819025,
          0.973538014470735,
          0.973538014470735,
          0.973538014470735,
          0.973578204856057,
          0.9523309883050104,
          0.9691434906341087,
          0.973538014470735
         ]
        },
        {
         "mode": "lines",
         "name": "Best Value",
         "type": "scatter",
         "x": [
          0,
          1,
          2,
          3,
          4,
          5,
          6,
          7,
          8,
          9,
          10,
          11,
          12,
          13,
          14,
          15,
          16,
          17,
          18,
          19,
          20,
          21,
          22,
          23,
          24,
          25,
          26,
          27,
          28,
          29,
          30,
          31,
          32,
          33,
          34,
          35,
          36,
          37,
          38,
          39,
          40,
          41,
          42,
          43,
          44,
          45,
          46,
          47,
          48,
          49
         ],
         "y": [
          0.973538014470735,
          0.973538014470735,
          0.973538014470735,
          0.973538014470735,
          0.973538014470735,
          0.973538014470735,
          0.973538014470735,
          0.973538014470735,
          0.973538014470735,
          0.973538014470735,
          0.973538014470735,
          0.973538014470735,
          0.973538014470735,
          0.973538014470735,
          0.973538014470735,
          0.973538014470735,
          0.973538014470735,
          0.973538014470735,
          0.973538014470735,
          0.973538014470735,
          0.973538014470735,
          0.973538014470735,
          0.973538014470735,
          0.973538014470735,
          0.973538014470735,
          0.973538014470735,
          0.973538014470735,
          0.973538014470735,
          0.973538014470735,
          0.973538014470735,
          0.973538014470735,
          0.973538014470735,
          0.973538014470735,
          0.973538014470735,
          0.973538014470735,
          0.973538014470735,
          0.973538014470735,
          0.973538014470735,
          0.973538014470735,
          0.973538014470735,
          0.973538014470735,
          0.973538014470735,
          0.973538014470735,
          0.973538014470735,
          0.973538014470735,
          0.973538014470735,
          0.973578204856057,
          0.973578204856057,
          0.973578204856057,
          0.973578204856057
         ]
        },
        {
         "marker": {
          "color": "#cccccc"
         },
         "mode": "markers",
         "name": "Infeasible Trial",
         "showlegend": false,
         "type": "scatter",
         "x": [],
         "y": []
        }
       ],
       "layout": {
        "template": {
         "data": {
          "bar": [
           {
            "error_x": {
             "color": "#2a3f5f"
            },
            "error_y": {
             "color": "#2a3f5f"
            },
            "marker": {
             "line": {
              "color": "#E5ECF6",
              "width": 0.5
             },
             "pattern": {
              "fillmode": "overlay",
              "size": 10,
              "solidity": 0.2
             }
            },
            "type": "bar"
           }
          ],
          "barpolar": [
           {
            "marker": {
             "line": {
              "color": "#E5ECF6",
              "width": 0.5
             },
             "pattern": {
              "fillmode": "overlay",
              "size": 10,
              "solidity": 0.2
             }
            },
            "type": "barpolar"
           }
          ],
          "carpet": [
           {
            "aaxis": {
             "endlinecolor": "#2a3f5f",
             "gridcolor": "white",
             "linecolor": "white",
             "minorgridcolor": "white",
             "startlinecolor": "#2a3f5f"
            },
            "baxis": {
             "endlinecolor": "#2a3f5f",
             "gridcolor": "white",
             "linecolor": "white",
             "minorgridcolor": "white",
             "startlinecolor": "#2a3f5f"
            },
            "type": "carpet"
           }
          ],
          "choropleth": [
           {
            "colorbar": {
             "outlinewidth": 0,
             "ticks": ""
            },
            "type": "choropleth"
           }
          ],
          "contour": [
           {
            "colorbar": {
             "outlinewidth": 0,
             "ticks": ""
            },
            "colorscale": [
             [
              0,
              "#0d0887"
             ],
             [
              0.1111111111111111,
              "#46039f"
             ],
             [
              0.2222222222222222,
              "#7201a8"
             ],
             [
              0.3333333333333333,
              "#9c179e"
             ],
             [
              0.4444444444444444,
              "#bd3786"
             ],
             [
              0.5555555555555556,
              "#d8576b"
             ],
             [
              0.6666666666666666,
              "#ed7953"
             ],
             [
              0.7777777777777778,
              "#fb9f3a"
             ],
             [
              0.8888888888888888,
              "#fdca26"
             ],
             [
              1,
              "#f0f921"
             ]
            ],
            "type": "contour"
           }
          ],
          "contourcarpet": [
           {
            "colorbar": {
             "outlinewidth": 0,
             "ticks": ""
            },
            "type": "contourcarpet"
           }
          ],
          "heatmap": [
           {
            "colorbar": {
             "outlinewidth": 0,
             "ticks": ""
            },
            "colorscale": [
             [
              0,
              "#0d0887"
             ],
             [
              0.1111111111111111,
              "#46039f"
             ],
             [
              0.2222222222222222,
              "#7201a8"
             ],
             [
              0.3333333333333333,
              "#9c179e"
             ],
             [
              0.4444444444444444,
              "#bd3786"
             ],
             [
              0.5555555555555556,
              "#d8576b"
             ],
             [
              0.6666666666666666,
              "#ed7953"
             ],
             [
              0.7777777777777778,
              "#fb9f3a"
             ],
             [
              0.8888888888888888,
              "#fdca26"
             ],
             [
              1,
              "#f0f921"
             ]
            ],
            "type": "heatmap"
           }
          ],
          "heatmapgl": [
           {
            "colorbar": {
             "outlinewidth": 0,
             "ticks": ""
            },
            "colorscale": [
             [
              0,
              "#0d0887"
             ],
             [
              0.1111111111111111,
              "#46039f"
             ],
             [
              0.2222222222222222,
              "#7201a8"
             ],
             [
              0.3333333333333333,
              "#9c179e"
             ],
             [
              0.4444444444444444,
              "#bd3786"
             ],
             [
              0.5555555555555556,
              "#d8576b"
             ],
             [
              0.6666666666666666,
              "#ed7953"
             ],
             [
              0.7777777777777778,
              "#fb9f3a"
             ],
             [
              0.8888888888888888,
              "#fdca26"
             ],
             [
              1,
              "#f0f921"
             ]
            ],
            "type": "heatmapgl"
           }
          ],
          "histogram": [
           {
            "marker": {
             "pattern": {
              "fillmode": "overlay",
              "size": 10,
              "solidity": 0.2
             }
            },
            "type": "histogram"
           }
          ],
          "histogram2d": [
           {
            "colorbar": {
             "outlinewidth": 0,
             "ticks": ""
            },
            "colorscale": [
             [
              0,
              "#0d0887"
             ],
             [
              0.1111111111111111,
              "#46039f"
             ],
             [
              0.2222222222222222,
              "#7201a8"
             ],
             [
              0.3333333333333333,
              "#9c179e"
             ],
             [
              0.4444444444444444,
              "#bd3786"
             ],
             [
              0.5555555555555556,
              "#d8576b"
             ],
             [
              0.6666666666666666,
              "#ed7953"
             ],
             [
              0.7777777777777778,
              "#fb9f3a"
             ],
             [
              0.8888888888888888,
              "#fdca26"
             ],
             [
              1,
              "#f0f921"
             ]
            ],
            "type": "histogram2d"
           }
          ],
          "histogram2dcontour": [
           {
            "colorbar": {
             "outlinewidth": 0,
             "ticks": ""
            },
            "colorscale": [
             [
              0,
              "#0d0887"
             ],
             [
              0.1111111111111111,
              "#46039f"
             ],
             [
              0.2222222222222222,
              "#7201a8"
             ],
             [
              0.3333333333333333,
              "#9c179e"
             ],
             [
              0.4444444444444444,
              "#bd3786"
             ],
             [
              0.5555555555555556,
              "#d8576b"
             ],
             [
              0.6666666666666666,
              "#ed7953"
             ],
             [
              0.7777777777777778,
              "#fb9f3a"
             ],
             [
              0.8888888888888888,
              "#fdca26"
             ],
             [
              1,
              "#f0f921"
             ]
            ],
            "type": "histogram2dcontour"
           }
          ],
          "mesh3d": [
           {
            "colorbar": {
             "outlinewidth": 0,
             "ticks": ""
            },
            "type": "mesh3d"
           }
          ],
          "parcoords": [
           {
            "line": {
             "colorbar": {
              "outlinewidth": 0,
              "ticks": ""
             }
            },
            "type": "parcoords"
           }
          ],
          "pie": [
           {
            "automargin": true,
            "type": "pie"
           }
          ],
          "scatter": [
           {
            "fillpattern": {
             "fillmode": "overlay",
             "size": 10,
             "solidity": 0.2
            },
            "type": "scatter"
           }
          ],
          "scatter3d": [
           {
            "line": {
             "colorbar": {
              "outlinewidth": 0,
              "ticks": ""
             }
            },
            "marker": {
             "colorbar": {
              "outlinewidth": 0,
              "ticks": ""
             }
            },
            "type": "scatter3d"
           }
          ],
          "scattercarpet": [
           {
            "marker": {
             "colorbar": {
              "outlinewidth": 0,
              "ticks": ""
             }
            },
            "type": "scattercarpet"
           }
          ],
          "scattergeo": [
           {
            "marker": {
             "colorbar": {
              "outlinewidth": 0,
              "ticks": ""
             }
            },
            "type": "scattergeo"
           }
          ],
          "scattergl": [
           {
            "marker": {
             "colorbar": {
              "outlinewidth": 0,
              "ticks": ""
             }
            },
            "type": "scattergl"
           }
          ],
          "scattermapbox": [
           {
            "marker": {
             "colorbar": {
              "outlinewidth": 0,
              "ticks": ""
             }
            },
            "type": "scattermapbox"
           }
          ],
          "scatterpolar": [
           {
            "marker": {
             "colorbar": {
              "outlinewidth": 0,
              "ticks": ""
             }
            },
            "type": "scatterpolar"
           }
          ],
          "scatterpolargl": [
           {
            "marker": {
             "colorbar": {
              "outlinewidth": 0,
              "ticks": ""
             }
            },
            "type": "scatterpolargl"
           }
          ],
          "scatterternary": [
           {
            "marker": {
             "colorbar": {
              "outlinewidth": 0,
              "ticks": ""
             }
            },
            "type": "scatterternary"
           }
          ],
          "surface": [
           {
            "colorbar": {
             "outlinewidth": 0,
             "ticks": ""
            },
            "colorscale": [
             [
              0,
              "#0d0887"
             ],
             [
              0.1111111111111111,
              "#46039f"
             ],
             [
              0.2222222222222222,
              "#7201a8"
             ],
             [
              0.3333333333333333,
              "#9c179e"
             ],
             [
              0.4444444444444444,
              "#bd3786"
             ],
             [
              0.5555555555555556,
              "#d8576b"
             ],
             [
              0.6666666666666666,
              "#ed7953"
             ],
             [
              0.7777777777777778,
              "#fb9f3a"
             ],
             [
              0.8888888888888888,
              "#fdca26"
             ],
             [
              1,
              "#f0f921"
             ]
            ],
            "type": "surface"
           }
          ],
          "table": [
           {
            "cells": {
             "fill": {
              "color": "#EBF0F8"
             },
             "line": {
              "color": "white"
             }
            },
            "header": {
             "fill": {
              "color": "#C8D4E3"
             },
             "line": {
              "color": "white"
             }
            },
            "type": "table"
           }
          ]
         },
         "layout": {
          "annotationdefaults": {
           "arrowcolor": "#2a3f5f",
           "arrowhead": 0,
           "arrowwidth": 1
          },
          "autotypenumbers": "strict",
          "coloraxis": {
           "colorbar": {
            "outlinewidth": 0,
            "ticks": ""
           }
          },
          "colorscale": {
           "diverging": [
            [
             0,
             "#8e0152"
            ],
            [
             0.1,
             "#c51b7d"
            ],
            [
             0.2,
             "#de77ae"
            ],
            [
             0.3,
             "#f1b6da"
            ],
            [
             0.4,
             "#fde0ef"
            ],
            [
             0.5,
             "#f7f7f7"
            ],
            [
             0.6,
             "#e6f5d0"
            ],
            [
             0.7,
             "#b8e186"
            ],
            [
             0.8,
             "#7fbc41"
            ],
            [
             0.9,
             "#4d9221"
            ],
            [
             1,
             "#276419"
            ]
           ],
           "sequential": [
            [
             0,
             "#0d0887"
            ],
            [
             0.1111111111111111,
             "#46039f"
            ],
            [
             0.2222222222222222,
             "#7201a8"
            ],
            [
             0.3333333333333333,
             "#9c179e"
            ],
            [
             0.4444444444444444,
             "#bd3786"
            ],
            [
             0.5555555555555556,
             "#d8576b"
            ],
            [
             0.6666666666666666,
             "#ed7953"
            ],
            [
             0.7777777777777778,
             "#fb9f3a"
            ],
            [
             0.8888888888888888,
             "#fdca26"
            ],
            [
             1,
             "#f0f921"
            ]
           ],
           "sequentialminus": [
            [
             0,
             "#0d0887"
            ],
            [
             0.1111111111111111,
             "#46039f"
            ],
            [
             0.2222222222222222,
             "#7201a8"
            ],
            [
             0.3333333333333333,
             "#9c179e"
            ],
            [
             0.4444444444444444,
             "#bd3786"
            ],
            [
             0.5555555555555556,
             "#d8576b"
            ],
            [
             0.6666666666666666,
             "#ed7953"
            ],
            [
             0.7777777777777778,
             "#fb9f3a"
            ],
            [
             0.8888888888888888,
             "#fdca26"
            ],
            [
             1,
             "#f0f921"
            ]
           ]
          },
          "colorway": [
           "#636efa",
           "#EF553B",
           "#00cc96",
           "#ab63fa",
           "#FFA15A",
           "#19d3f3",
           "#FF6692",
           "#B6E880",
           "#FF97FF",
           "#FECB52"
          ],
          "font": {
           "color": "#2a3f5f"
          },
          "geo": {
           "bgcolor": "white",
           "lakecolor": "white",
           "landcolor": "#E5ECF6",
           "showlakes": true,
           "showland": true,
           "subunitcolor": "white"
          },
          "hoverlabel": {
           "align": "left"
          },
          "hovermode": "closest",
          "mapbox": {
           "style": "light"
          },
          "paper_bgcolor": "white",
          "plot_bgcolor": "#E5ECF6",
          "polar": {
           "angularaxis": {
            "gridcolor": "white",
            "linecolor": "white",
            "ticks": ""
           },
           "bgcolor": "#E5ECF6",
           "radialaxis": {
            "gridcolor": "white",
            "linecolor": "white",
            "ticks": ""
           }
          },
          "scene": {
           "xaxis": {
            "backgroundcolor": "#E5ECF6",
            "gridcolor": "white",
            "gridwidth": 2,
            "linecolor": "white",
            "showbackground": true,
            "ticks": "",
            "zerolinecolor": "white"
           },
           "yaxis": {
            "backgroundcolor": "#E5ECF6",
            "gridcolor": "white",
            "gridwidth": 2,
            "linecolor": "white",
            "showbackground": true,
            "ticks": "",
            "zerolinecolor": "white"
           },
           "zaxis": {
            "backgroundcolor": "#E5ECF6",
            "gridcolor": "white",
            "gridwidth": 2,
            "linecolor": "white",
            "showbackground": true,
            "ticks": "",
            "zerolinecolor": "white"
           }
          },
          "shapedefaults": {
           "line": {
            "color": "#2a3f5f"
           }
          },
          "ternary": {
           "aaxis": {
            "gridcolor": "white",
            "linecolor": "white",
            "ticks": ""
           },
           "baxis": {
            "gridcolor": "white",
            "linecolor": "white",
            "ticks": ""
           },
           "bgcolor": "#E5ECF6",
           "caxis": {
            "gridcolor": "white",
            "linecolor": "white",
            "ticks": ""
           }
          },
          "title": {
           "x": 0.05
          },
          "xaxis": {
           "automargin": true,
           "gridcolor": "white",
           "linecolor": "white",
           "ticks": "",
           "title": {
            "standoff": 15
           },
           "zerolinecolor": "white",
           "zerolinewidth": 2
          },
          "yaxis": {
           "automargin": true,
           "gridcolor": "white",
           "linecolor": "white",
           "ticks": "",
           "title": {
            "standoff": 15
           },
           "zerolinecolor": "white",
           "zerolinewidth": 2
          }
         }
        },
        "title": {
         "text": "Optimization History Plot"
        },
        "xaxis": {
         "title": {
          "text": "Trial"
         }
        },
        "yaxis": {
         "title": {
          "text": "Objective Value"
         }
        }
       }
      },
      "text/html": [
       "<div>                        <script type=\"text/javascript\">window.PlotlyConfig = {MathJaxConfig: 'local'};</script>\n",
       "        <script charset=\"utf-8\" src=\"https://cdn.plot.ly/plotly-2.35.2.min.js\"></script>                <div id=\"d8c7da8a-8651-4f78-8049-2589c9f0bf4b\" class=\"plotly-graph-div\" style=\"height:100%; width:100%;\"></div>            <script type=\"text/javascript\">                                    window.PLOTLYENV=window.PLOTLYENV || {};                                    if (document.getElementById(\"d8c7da8a-8651-4f78-8049-2589c9f0bf4b\")) {                    Plotly.newPlot(                        \"d8c7da8a-8651-4f78-8049-2589c9f0bf4b\",                        [{\"mode\":\"markers\",\"name\":\"Objective Value\",\"x\":[0,1,2,3,4,5,6,7,8,9,10,11,12,13,14,15,16,17,18,19,20,21,22,23,24,25,26,27,28,29,30,31,32,33,34,35,36,37,38,39,40,41,42,43,44,45,46,47,48,49],\"y\":[0.973538014470735,0.973538014470735,0.9720596406819025,0.972063019687948,0.9720596406819025,0.9688378716985625,0.973538014470735,0.9720596406819025,0.973538014470735,0.9721985089058771,0.973538014470735,0.9534286671117191,0.973538014470735,0.973538014470735,0.973538014470735,0.973538014470735,0.972100809012464,0.972063019687948,0.973538014470735,0.972063019687948,0.9720596406819025,0.973538014470735,0.9707211130622841,0.973538014470735,0.973538014470735,0.9720596406819025,0.973538014470735,0.9707211130622841,0.973538014470735,0.972063019687948,0.973538014470735,0.973538014470735,0.9720596406819025,0.9720596406819025,0.973538014470735,0.9721985089058771,0.973538014470735,0.9734234353705178,0.9721192382907073,0.973538014470735,0.973538014470735,0.9734234353705178,0.9720596406819025,0.973538014470735,0.973538014470735,0.973538014470735,0.973578204856057,0.9523309883050104,0.9691434906341087,0.973538014470735],\"type\":\"scatter\"},{\"mode\":\"lines\",\"name\":\"Best Value\",\"x\":[0,1,2,3,4,5,6,7,8,9,10,11,12,13,14,15,16,17,18,19,20,21,22,23,24,25,26,27,28,29,30,31,32,33,34,35,36,37,38,39,40,41,42,43,44,45,46,47,48,49],\"y\":[0.973538014470735,0.973538014470735,0.973538014470735,0.973538014470735,0.973538014470735,0.973538014470735,0.973538014470735,0.973538014470735,0.973538014470735,0.973538014470735,0.973538014470735,0.973538014470735,0.973538014470735,0.973538014470735,0.973538014470735,0.973538014470735,0.973538014470735,0.973538014470735,0.973538014470735,0.973538014470735,0.973538014470735,0.973538014470735,0.973538014470735,0.973538014470735,0.973538014470735,0.973538014470735,0.973538014470735,0.973538014470735,0.973538014470735,0.973538014470735,0.973538014470735,0.973538014470735,0.973538014470735,0.973538014470735,0.973538014470735,0.973538014470735,0.973538014470735,0.973538014470735,0.973538014470735,0.973538014470735,0.973538014470735,0.973538014470735,0.973538014470735,0.973538014470735,0.973538014470735,0.973538014470735,0.973578204856057,0.973578204856057,0.973578204856057,0.973578204856057],\"type\":\"scatter\"},{\"marker\":{\"color\":\"#cccccc\"},\"mode\":\"markers\",\"name\":\"Infeasible Trial\",\"showlegend\":false,\"x\":[],\"y\":[],\"type\":\"scatter\"}],                        {\"title\":{\"text\":\"Optimization History Plot\"},\"xaxis\":{\"title\":{\"text\":\"Trial\"}},\"yaxis\":{\"title\":{\"text\":\"Objective Value\"}},\"template\":{\"data\":{\"histogram2dcontour\":[{\"type\":\"histogram2dcontour\",\"colorbar\":{\"outlinewidth\":0,\"ticks\":\"\"},\"colorscale\":[[0.0,\"#0d0887\"],[0.1111111111111111,\"#46039f\"],[0.2222222222222222,\"#7201a8\"],[0.3333333333333333,\"#9c179e\"],[0.4444444444444444,\"#bd3786\"],[0.5555555555555556,\"#d8576b\"],[0.6666666666666666,\"#ed7953\"],[0.7777777777777778,\"#fb9f3a\"],[0.8888888888888888,\"#fdca26\"],[1.0,\"#f0f921\"]]}],\"choropleth\":[{\"type\":\"choropleth\",\"colorbar\":{\"outlinewidth\":0,\"ticks\":\"\"}}],\"histogram2d\":[{\"type\":\"histogram2d\",\"colorbar\":{\"outlinewidth\":0,\"ticks\":\"\"},\"colorscale\":[[0.0,\"#0d0887\"],[0.1111111111111111,\"#46039f\"],[0.2222222222222222,\"#7201a8\"],[0.3333333333333333,\"#9c179e\"],[0.4444444444444444,\"#bd3786\"],[0.5555555555555556,\"#d8576b\"],[0.6666666666666666,\"#ed7953\"],[0.7777777777777778,\"#fb9f3a\"],[0.8888888888888888,\"#fdca26\"],[1.0,\"#f0f921\"]]}],\"heatmap\":[{\"type\":\"heatmap\",\"colorbar\":{\"outlinewidth\":0,\"ticks\":\"\"},\"colorscale\":[[0.0,\"#0d0887\"],[0.1111111111111111,\"#46039f\"],[0.2222222222222222,\"#7201a8\"],[0.3333333333333333,\"#9c179e\"],[0.4444444444444444,\"#bd3786\"],[0.5555555555555556,\"#d8576b\"],[0.6666666666666666,\"#ed7953\"],[0.7777777777777778,\"#fb9f3a\"],[0.8888888888888888,\"#fdca26\"],[1.0,\"#f0f921\"]]}],\"heatmapgl\":[{\"type\":\"heatmapgl\",\"colorbar\":{\"outlinewidth\":0,\"ticks\":\"\"},\"colorscale\":[[0.0,\"#0d0887\"],[0.1111111111111111,\"#46039f\"],[0.2222222222222222,\"#7201a8\"],[0.3333333333333333,\"#9c179e\"],[0.4444444444444444,\"#bd3786\"],[0.5555555555555556,\"#d8576b\"],[0.6666666666666666,\"#ed7953\"],[0.7777777777777778,\"#fb9f3a\"],[0.8888888888888888,\"#fdca26\"],[1.0,\"#f0f921\"]]}],\"contourcarpet\":[{\"type\":\"contourcarpet\",\"colorbar\":{\"outlinewidth\":0,\"ticks\":\"\"}}],\"contour\":[{\"type\":\"contour\",\"colorbar\":{\"outlinewidth\":0,\"ticks\":\"\"},\"colorscale\":[[0.0,\"#0d0887\"],[0.1111111111111111,\"#46039f\"],[0.2222222222222222,\"#7201a8\"],[0.3333333333333333,\"#9c179e\"],[0.4444444444444444,\"#bd3786\"],[0.5555555555555556,\"#d8576b\"],[0.6666666666666666,\"#ed7953\"],[0.7777777777777778,\"#fb9f3a\"],[0.8888888888888888,\"#fdca26\"],[1.0,\"#f0f921\"]]}],\"surface\":[{\"type\":\"surface\",\"colorbar\":{\"outlinewidth\":0,\"ticks\":\"\"},\"colorscale\":[[0.0,\"#0d0887\"],[0.1111111111111111,\"#46039f\"],[0.2222222222222222,\"#7201a8\"],[0.3333333333333333,\"#9c179e\"],[0.4444444444444444,\"#bd3786\"],[0.5555555555555556,\"#d8576b\"],[0.6666666666666666,\"#ed7953\"],[0.7777777777777778,\"#fb9f3a\"],[0.8888888888888888,\"#fdca26\"],[1.0,\"#f0f921\"]]}],\"mesh3d\":[{\"type\":\"mesh3d\",\"colorbar\":{\"outlinewidth\":0,\"ticks\":\"\"}}],\"scatter\":[{\"fillpattern\":{\"fillmode\":\"overlay\",\"size\":10,\"solidity\":0.2},\"type\":\"scatter\"}],\"parcoords\":[{\"type\":\"parcoords\",\"line\":{\"colorbar\":{\"outlinewidth\":0,\"ticks\":\"\"}}}],\"scatterpolargl\":[{\"type\":\"scatterpolargl\",\"marker\":{\"colorbar\":{\"outlinewidth\":0,\"ticks\":\"\"}}}],\"bar\":[{\"error_x\":{\"color\":\"#2a3f5f\"},\"error_y\":{\"color\":\"#2a3f5f\"},\"marker\":{\"line\":{\"color\":\"#E5ECF6\",\"width\":0.5},\"pattern\":{\"fillmode\":\"overlay\",\"size\":10,\"solidity\":0.2}},\"type\":\"bar\"}],\"scattergeo\":[{\"type\":\"scattergeo\",\"marker\":{\"colorbar\":{\"outlinewidth\":0,\"ticks\":\"\"}}}],\"scatterpolar\":[{\"type\":\"scatterpolar\",\"marker\":{\"colorbar\":{\"outlinewidth\":0,\"ticks\":\"\"}}}],\"histogram\":[{\"marker\":{\"pattern\":{\"fillmode\":\"overlay\",\"size\":10,\"solidity\":0.2}},\"type\":\"histogram\"}],\"scattergl\":[{\"type\":\"scattergl\",\"marker\":{\"colorbar\":{\"outlinewidth\":0,\"ticks\":\"\"}}}],\"scatter3d\":[{\"type\":\"scatter3d\",\"line\":{\"colorbar\":{\"outlinewidth\":0,\"ticks\":\"\"}},\"marker\":{\"colorbar\":{\"outlinewidth\":0,\"ticks\":\"\"}}}],\"scattermapbox\":[{\"type\":\"scattermapbox\",\"marker\":{\"colorbar\":{\"outlinewidth\":0,\"ticks\":\"\"}}}],\"scatterternary\":[{\"type\":\"scatterternary\",\"marker\":{\"colorbar\":{\"outlinewidth\":0,\"ticks\":\"\"}}}],\"scattercarpet\":[{\"type\":\"scattercarpet\",\"marker\":{\"colorbar\":{\"outlinewidth\":0,\"ticks\":\"\"}}}],\"carpet\":[{\"aaxis\":{\"endlinecolor\":\"#2a3f5f\",\"gridcolor\":\"white\",\"linecolor\":\"white\",\"minorgridcolor\":\"white\",\"startlinecolor\":\"#2a3f5f\"},\"baxis\":{\"endlinecolor\":\"#2a3f5f\",\"gridcolor\":\"white\",\"linecolor\":\"white\",\"minorgridcolor\":\"white\",\"startlinecolor\":\"#2a3f5f\"},\"type\":\"carpet\"}],\"table\":[{\"cells\":{\"fill\":{\"color\":\"#EBF0F8\"},\"line\":{\"color\":\"white\"}},\"header\":{\"fill\":{\"color\":\"#C8D4E3\"},\"line\":{\"color\":\"white\"}},\"type\":\"table\"}],\"barpolar\":[{\"marker\":{\"line\":{\"color\":\"#E5ECF6\",\"width\":0.5},\"pattern\":{\"fillmode\":\"overlay\",\"size\":10,\"solidity\":0.2}},\"type\":\"barpolar\"}],\"pie\":[{\"automargin\":true,\"type\":\"pie\"}]},\"layout\":{\"autotypenumbers\":\"strict\",\"colorway\":[\"#636efa\",\"#EF553B\",\"#00cc96\",\"#ab63fa\",\"#FFA15A\",\"#19d3f3\",\"#FF6692\",\"#B6E880\",\"#FF97FF\",\"#FECB52\"],\"font\":{\"color\":\"#2a3f5f\"},\"hovermode\":\"closest\",\"hoverlabel\":{\"align\":\"left\"},\"paper_bgcolor\":\"white\",\"plot_bgcolor\":\"#E5ECF6\",\"polar\":{\"bgcolor\":\"#E5ECF6\",\"angularaxis\":{\"gridcolor\":\"white\",\"linecolor\":\"white\",\"ticks\":\"\"},\"radialaxis\":{\"gridcolor\":\"white\",\"linecolor\":\"white\",\"ticks\":\"\"}},\"ternary\":{\"bgcolor\":\"#E5ECF6\",\"aaxis\":{\"gridcolor\":\"white\",\"linecolor\":\"white\",\"ticks\":\"\"},\"baxis\":{\"gridcolor\":\"white\",\"linecolor\":\"white\",\"ticks\":\"\"},\"caxis\":{\"gridcolor\":\"white\",\"linecolor\":\"white\",\"ticks\":\"\"}},\"coloraxis\":{\"colorbar\":{\"outlinewidth\":0,\"ticks\":\"\"}},\"colorscale\":{\"sequential\":[[0.0,\"#0d0887\"],[0.1111111111111111,\"#46039f\"],[0.2222222222222222,\"#7201a8\"],[0.3333333333333333,\"#9c179e\"],[0.4444444444444444,\"#bd3786\"],[0.5555555555555556,\"#d8576b\"],[0.6666666666666666,\"#ed7953\"],[0.7777777777777778,\"#fb9f3a\"],[0.8888888888888888,\"#fdca26\"],[1.0,\"#f0f921\"]],\"sequentialminus\":[[0.0,\"#0d0887\"],[0.1111111111111111,\"#46039f\"],[0.2222222222222222,\"#7201a8\"],[0.3333333333333333,\"#9c179e\"],[0.4444444444444444,\"#bd3786\"],[0.5555555555555556,\"#d8576b\"],[0.6666666666666666,\"#ed7953\"],[0.7777777777777778,\"#fb9f3a\"],[0.8888888888888888,\"#fdca26\"],[1.0,\"#f0f921\"]],\"diverging\":[[0,\"#8e0152\"],[0.1,\"#c51b7d\"],[0.2,\"#de77ae\"],[0.3,\"#f1b6da\"],[0.4,\"#fde0ef\"],[0.5,\"#f7f7f7\"],[0.6,\"#e6f5d0\"],[0.7,\"#b8e186\"],[0.8,\"#7fbc41\"],[0.9,\"#4d9221\"],[1,\"#276419\"]]},\"xaxis\":{\"gridcolor\":\"white\",\"linecolor\":\"white\",\"ticks\":\"\",\"title\":{\"standoff\":15},\"zerolinecolor\":\"white\",\"automargin\":true,\"zerolinewidth\":2},\"yaxis\":{\"gridcolor\":\"white\",\"linecolor\":\"white\",\"ticks\":\"\",\"title\":{\"standoff\":15},\"zerolinecolor\":\"white\",\"automargin\":true,\"zerolinewidth\":2},\"scene\":{\"xaxis\":{\"backgroundcolor\":\"#E5ECF6\",\"gridcolor\":\"white\",\"linecolor\":\"white\",\"showbackground\":true,\"ticks\":\"\",\"zerolinecolor\":\"white\",\"gridwidth\":2},\"yaxis\":{\"backgroundcolor\":\"#E5ECF6\",\"gridcolor\":\"white\",\"linecolor\":\"white\",\"showbackground\":true,\"ticks\":\"\",\"zerolinecolor\":\"white\",\"gridwidth\":2},\"zaxis\":{\"backgroundcolor\":\"#E5ECF6\",\"gridcolor\":\"white\",\"linecolor\":\"white\",\"showbackground\":true,\"ticks\":\"\",\"zerolinecolor\":\"white\",\"gridwidth\":2}},\"shapedefaults\":{\"line\":{\"color\":\"#2a3f5f\"}},\"annotationdefaults\":{\"arrowcolor\":\"#2a3f5f\",\"arrowhead\":0,\"arrowwidth\":1},\"geo\":{\"bgcolor\":\"white\",\"landcolor\":\"#E5ECF6\",\"subunitcolor\":\"white\",\"showland\":true,\"showlakes\":true,\"lakecolor\":\"white\"},\"title\":{\"x\":0.05},\"mapbox\":{\"style\":\"light\"}}}},                        {\"responsive\": true}                    )                };                            </script>        </div>"
      ],
      "text/plain": [
       "Figure({\n",
       "    'data': [{'mode': 'markers',\n",
       "              'name': 'Objective Value',\n",
       "              'type': 'scatter',\n",
       "              'x': [0, 1, 2, 3, 4, 5, 6, 7, 8, 9, 10, 11, 12, 13, 14, 15, 16, 17,\n",
       "                    18, 19, 20, 21, 22, 23, 24, 25, 26, 27, 28, 29, 30, 31, 32, 33,\n",
       "                    34, 35, 36, 37, 38, 39, 40, 41, 42, 43, 44, 45, 46, 47, 48, 49],\n",
       "              'y': [0.973538014470735, 0.973538014470735, 0.9720596406819025,\n",
       "                    0.972063019687948, 0.9720596406819025, 0.9688378716985625,\n",
       "                    0.973538014470735, 0.9720596406819025, 0.973538014470735,\n",
       "                    0.9721985089058771, 0.973538014470735, 0.9534286671117191,\n",
       "                    0.973538014470735, 0.973538014470735, 0.973538014470735,\n",
       "                    0.973538014470735, 0.972100809012464, 0.972063019687948,\n",
       "                    0.973538014470735, 0.972063019687948, 0.9720596406819025,\n",
       "                    0.973538014470735, 0.9707211130622841, 0.973538014470735,\n",
       "                    0.973538014470735, 0.9720596406819025, 0.973538014470735,\n",
       "                    0.9707211130622841, 0.973538014470735, 0.972063019687948,\n",
       "                    0.973538014470735, 0.973538014470735, 0.9720596406819025,\n",
       "                    0.9720596406819025, 0.973538014470735, 0.9721985089058771,\n",
       "                    0.973538014470735, 0.9734234353705178, 0.9721192382907073,\n",
       "                    0.973538014470735, 0.973538014470735, 0.9734234353705178,\n",
       "                    0.9720596406819025, 0.973538014470735, 0.973538014470735,\n",
       "                    0.973538014470735, 0.973578204856057, 0.9523309883050104,\n",
       "                    0.9691434906341087, 0.973538014470735]},\n",
       "             {'mode': 'lines',\n",
       "              'name': 'Best Value',\n",
       "              'type': 'scatter',\n",
       "              'x': [0, 1, 2, 3, 4, 5, 6, 7, 8, 9, 10, 11, 12, 13, 14, 15, 16, 17,\n",
       "                    18, 19, 20, 21, 22, 23, 24, 25, 26, 27, 28, 29, 30, 31, 32, 33,\n",
       "                    34, 35, 36, 37, 38, 39, 40, 41, 42, 43, 44, 45, 46, 47, 48, 49],\n",
       "              'y': [0.973538014470735, 0.973538014470735, 0.973538014470735,\n",
       "                    0.973538014470735, 0.973538014470735, 0.973538014470735,\n",
       "                    0.973538014470735, 0.973538014470735, 0.973538014470735,\n",
       "                    0.973538014470735, 0.973538014470735, 0.973538014470735,\n",
       "                    0.973538014470735, 0.973538014470735, 0.973538014470735,\n",
       "                    0.973538014470735, 0.973538014470735, 0.973538014470735,\n",
       "                    0.973538014470735, 0.973538014470735, 0.973538014470735,\n",
       "                    0.973538014470735, 0.973538014470735, 0.973538014470735,\n",
       "                    0.973538014470735, 0.973538014470735, 0.973538014470735,\n",
       "                    0.973538014470735, 0.973538014470735, 0.973538014470735,\n",
       "                    0.973538014470735, 0.973538014470735, 0.973538014470735,\n",
       "                    0.973538014470735, 0.973538014470735, 0.973538014470735,\n",
       "                    0.973538014470735, 0.973538014470735, 0.973538014470735,\n",
       "                    0.973538014470735, 0.973538014470735, 0.973538014470735,\n",
       "                    0.973538014470735, 0.973538014470735, 0.973538014470735,\n",
       "                    0.973538014470735, 0.973578204856057, 0.973578204856057,\n",
       "                    0.973578204856057, 0.973578204856057]},\n",
       "             {'marker': {'color': '#cccccc'},\n",
       "              'mode': 'markers',\n",
       "              'name': 'Infeasible Trial',\n",
       "              'showlegend': False,\n",
       "              'type': 'scatter',\n",
       "              'x': [],\n",
       "              'y': []}],\n",
       "    'layout': {'template': '...',\n",
       "               'title': {'text': 'Optimization History Plot'},\n",
       "               'xaxis': {'title': {'text': 'Trial'}},\n",
       "               'yaxis': {'title': {'text': 'Objective Value'}}}\n",
       "})"
      ]
     },
     "execution_count": 24,
     "metadata": {},
     "output_type": "execute_result"
    }
   ],
   "source": [
    "optuna.visualization.plot_optimization_history(study)"
   ]
  },
  {
   "cell_type": "code",
   "execution_count": 25,
   "id": "7888d9cb",
   "metadata": {},
   "outputs": [
    {
     "ename": "ValueError",
     "evalue": "Mime type rendering requires nbformat>=4.2.0 but it is not installed",
     "output_type": "error",
     "traceback": [
      "\u001b[1;31m---------------------------------------------------------------------------\u001b[0m",
      "\u001b[1;31mValueError\u001b[0m                                Traceback (most recent call last)",
      "File \u001b[1;32m~\\AppData\\Roaming\\Python\\Python312\\site-packages\\IPython\\core\\formatters.py:922\u001b[0m, in \u001b[0;36mIPythonDisplayFormatter.__call__\u001b[1;34m(self, obj)\u001b[0m\n\u001b[0;32m    920\u001b[0m method \u001b[38;5;241m=\u001b[39m get_real_method(obj, \u001b[38;5;28mself\u001b[39m\u001b[38;5;241m.\u001b[39mprint_method)\n\u001b[0;32m    921\u001b[0m \u001b[38;5;28;01mif\u001b[39;00m method \u001b[38;5;129;01mis\u001b[39;00m \u001b[38;5;129;01mnot\u001b[39;00m \u001b[38;5;28;01mNone\u001b[39;00m:\n\u001b[1;32m--> 922\u001b[0m     \u001b[43mmethod\u001b[49m\u001b[43m(\u001b[49m\u001b[43m)\u001b[49m\n\u001b[0;32m    923\u001b[0m     \u001b[38;5;28;01mreturn\u001b[39;00m \u001b[38;5;28;01mTrue\u001b[39;00m\n",
      "File \u001b[1;32mc:\\Users\\hp\\AppData\\Local\\Programs\\Python\\Python312\\Lib\\site-packages\\plotly\\basedatatypes.py:832\u001b[0m, in \u001b[0;36mBaseFigure._ipython_display_\u001b[1;34m(self)\u001b[0m\n\u001b[0;32m    829\u001b[0m \u001b[38;5;28;01mimport\u001b[39;00m \u001b[38;5;21;01mplotly\u001b[39;00m\u001b[38;5;21;01m.\u001b[39;00m\u001b[38;5;21;01mio\u001b[39;00m \u001b[38;5;28;01mas\u001b[39;00m \u001b[38;5;21;01mpio\u001b[39;00m\n\u001b[0;32m    831\u001b[0m \u001b[38;5;28;01mif\u001b[39;00m pio\u001b[38;5;241m.\u001b[39mrenderers\u001b[38;5;241m.\u001b[39mrender_on_display \u001b[38;5;129;01mand\u001b[39;00m pio\u001b[38;5;241m.\u001b[39mrenderers\u001b[38;5;241m.\u001b[39mdefault:\n\u001b[1;32m--> 832\u001b[0m     \u001b[43mpio\u001b[49m\u001b[38;5;241;43m.\u001b[39;49m\u001b[43mshow\u001b[49m\u001b[43m(\u001b[49m\u001b[38;5;28;43mself\u001b[39;49m\u001b[43m)\u001b[49m\n\u001b[0;32m    833\u001b[0m \u001b[38;5;28;01melse\u001b[39;00m:\n\u001b[0;32m    834\u001b[0m     \u001b[38;5;28mprint\u001b[39m(\u001b[38;5;28mrepr\u001b[39m(\u001b[38;5;28mself\u001b[39m))\n",
      "File \u001b[1;32mc:\\Users\\hp\\AppData\\Local\\Programs\\Python\\Python312\\Lib\\site-packages\\plotly\\io\\_renderers.py:394\u001b[0m, in \u001b[0;36mshow\u001b[1;34m(fig, renderer, validate, **kwargs)\u001b[0m\n\u001b[0;32m    389\u001b[0m         \u001b[38;5;28;01mraise\u001b[39;00m \u001b[38;5;167;01mValueError\u001b[39;00m(\n\u001b[0;32m    390\u001b[0m             \u001b[38;5;124m\"\u001b[39m\u001b[38;5;124mMime type rendering requires ipython but it is not installed\u001b[39m\u001b[38;5;124m\"\u001b[39m\n\u001b[0;32m    391\u001b[0m         )\n\u001b[0;32m    393\u001b[0m     \u001b[38;5;28;01mif\u001b[39;00m \u001b[38;5;129;01mnot\u001b[39;00m nbformat \u001b[38;5;129;01mor\u001b[39;00m Version(nbformat\u001b[38;5;241m.\u001b[39m__version__) \u001b[38;5;241m<\u001b[39m Version(\u001b[38;5;124m\"\u001b[39m\u001b[38;5;124m4.2.0\u001b[39m\u001b[38;5;124m\"\u001b[39m):\n\u001b[1;32m--> 394\u001b[0m         \u001b[38;5;28;01mraise\u001b[39;00m \u001b[38;5;167;01mValueError\u001b[39;00m(\n\u001b[0;32m    395\u001b[0m             \u001b[38;5;124m\"\u001b[39m\u001b[38;5;124mMime type rendering requires nbformat>=4.2.0 but it is not installed\u001b[39m\u001b[38;5;124m\"\u001b[39m\n\u001b[0;32m    396\u001b[0m         )\n\u001b[0;32m    398\u001b[0m     ipython_display\u001b[38;5;241m.\u001b[39mdisplay(bundle, raw\u001b[38;5;241m=\u001b[39m\u001b[38;5;28;01mTrue\u001b[39;00m)\n\u001b[0;32m    400\u001b[0m \u001b[38;5;66;03m# external renderers\u001b[39;00m\n",
      "\u001b[1;31mValueError\u001b[0m: Mime type rendering requires nbformat>=4.2.0 but it is not installed"
     ]
    },
    {
     "data": {
      "application/vnd.plotly.v1+json": {
       "config": {
        "plotlyServerURL": "https://plot.ly"
       },
       "data": [
        {
         "cliponaxis": false,
         "hovertemplate": [
          "n_estimators (IntDistribution): 0.21462493874138716<extra></extra>",
          "max_depth (IntDistribution): 0.7853750612586129<extra></extra>"
         ],
         "name": "Objective Value",
         "orientation": "h",
         "text": [
          "0.21",
          "0.79"
         ],
         "textposition": "outside",
         "type": "bar",
         "x": [
          0.21462493874138716,
          0.7853750612586129
         ],
         "y": [
          "n_estimators",
          "max_depth"
         ]
        }
       ],
       "layout": {
        "template": {
         "data": {
          "bar": [
           {
            "error_x": {
             "color": "#2a3f5f"
            },
            "error_y": {
             "color": "#2a3f5f"
            },
            "marker": {
             "line": {
              "color": "#E5ECF6",
              "width": 0.5
             },
             "pattern": {
              "fillmode": "overlay",
              "size": 10,
              "solidity": 0.2
             }
            },
            "type": "bar"
           }
          ],
          "barpolar": [
           {
            "marker": {
             "line": {
              "color": "#E5ECF6",
              "width": 0.5
             },
             "pattern": {
              "fillmode": "overlay",
              "size": 10,
              "solidity": 0.2
             }
            },
            "type": "barpolar"
           }
          ],
          "carpet": [
           {
            "aaxis": {
             "endlinecolor": "#2a3f5f",
             "gridcolor": "white",
             "linecolor": "white",
             "minorgridcolor": "white",
             "startlinecolor": "#2a3f5f"
            },
            "baxis": {
             "endlinecolor": "#2a3f5f",
             "gridcolor": "white",
             "linecolor": "white",
             "minorgridcolor": "white",
             "startlinecolor": "#2a3f5f"
            },
            "type": "carpet"
           }
          ],
          "choropleth": [
           {
            "colorbar": {
             "outlinewidth": 0,
             "ticks": ""
            },
            "type": "choropleth"
           }
          ],
          "contour": [
           {
            "colorbar": {
             "outlinewidth": 0,
             "ticks": ""
            },
            "colorscale": [
             [
              0,
              "#0d0887"
             ],
             [
              0.1111111111111111,
              "#46039f"
             ],
             [
              0.2222222222222222,
              "#7201a8"
             ],
             [
              0.3333333333333333,
              "#9c179e"
             ],
             [
              0.4444444444444444,
              "#bd3786"
             ],
             [
              0.5555555555555556,
              "#d8576b"
             ],
             [
              0.6666666666666666,
              "#ed7953"
             ],
             [
              0.7777777777777778,
              "#fb9f3a"
             ],
             [
              0.8888888888888888,
              "#fdca26"
             ],
             [
              1,
              "#f0f921"
             ]
            ],
            "type": "contour"
           }
          ],
          "contourcarpet": [
           {
            "colorbar": {
             "outlinewidth": 0,
             "ticks": ""
            },
            "type": "contourcarpet"
           }
          ],
          "heatmap": [
           {
            "colorbar": {
             "outlinewidth": 0,
             "ticks": ""
            },
            "colorscale": [
             [
              0,
              "#0d0887"
             ],
             [
              0.1111111111111111,
              "#46039f"
             ],
             [
              0.2222222222222222,
              "#7201a8"
             ],
             [
              0.3333333333333333,
              "#9c179e"
             ],
             [
              0.4444444444444444,
              "#bd3786"
             ],
             [
              0.5555555555555556,
              "#d8576b"
             ],
             [
              0.6666666666666666,
              "#ed7953"
             ],
             [
              0.7777777777777778,
              "#fb9f3a"
             ],
             [
              0.8888888888888888,
              "#fdca26"
             ],
             [
              1,
              "#f0f921"
             ]
            ],
            "type": "heatmap"
           }
          ],
          "heatmapgl": [
           {
            "colorbar": {
             "outlinewidth": 0,
             "ticks": ""
            },
            "colorscale": [
             [
              0,
              "#0d0887"
             ],
             [
              0.1111111111111111,
              "#46039f"
             ],
             [
              0.2222222222222222,
              "#7201a8"
             ],
             [
              0.3333333333333333,
              "#9c179e"
             ],
             [
              0.4444444444444444,
              "#bd3786"
             ],
             [
              0.5555555555555556,
              "#d8576b"
             ],
             [
              0.6666666666666666,
              "#ed7953"
             ],
             [
              0.7777777777777778,
              "#fb9f3a"
             ],
             [
              0.8888888888888888,
              "#fdca26"
             ],
             [
              1,
              "#f0f921"
             ]
            ],
            "type": "heatmapgl"
           }
          ],
          "histogram": [
           {
            "marker": {
             "pattern": {
              "fillmode": "overlay",
              "size": 10,
              "solidity": 0.2
             }
            },
            "type": "histogram"
           }
          ],
          "histogram2d": [
           {
            "colorbar": {
             "outlinewidth": 0,
             "ticks": ""
            },
            "colorscale": [
             [
              0,
              "#0d0887"
             ],
             [
              0.1111111111111111,
              "#46039f"
             ],
             [
              0.2222222222222222,
              "#7201a8"
             ],
             [
              0.3333333333333333,
              "#9c179e"
             ],
             [
              0.4444444444444444,
              "#bd3786"
             ],
             [
              0.5555555555555556,
              "#d8576b"
             ],
             [
              0.6666666666666666,
              "#ed7953"
             ],
             [
              0.7777777777777778,
              "#fb9f3a"
             ],
             [
              0.8888888888888888,
              "#fdca26"
             ],
             [
              1,
              "#f0f921"
             ]
            ],
            "type": "histogram2d"
           }
          ],
          "histogram2dcontour": [
           {
            "colorbar": {
             "outlinewidth": 0,
             "ticks": ""
            },
            "colorscale": [
             [
              0,
              "#0d0887"
             ],
             [
              0.1111111111111111,
              "#46039f"
             ],
             [
              0.2222222222222222,
              "#7201a8"
             ],
             [
              0.3333333333333333,
              "#9c179e"
             ],
             [
              0.4444444444444444,
              "#bd3786"
             ],
             [
              0.5555555555555556,
              "#d8576b"
             ],
             [
              0.6666666666666666,
              "#ed7953"
             ],
             [
              0.7777777777777778,
              "#fb9f3a"
             ],
             [
              0.8888888888888888,
              "#fdca26"
             ],
             [
              1,
              "#f0f921"
             ]
            ],
            "type": "histogram2dcontour"
           }
          ],
          "mesh3d": [
           {
            "colorbar": {
             "outlinewidth": 0,
             "ticks": ""
            },
            "type": "mesh3d"
           }
          ],
          "parcoords": [
           {
            "line": {
             "colorbar": {
              "outlinewidth": 0,
              "ticks": ""
             }
            },
            "type": "parcoords"
           }
          ],
          "pie": [
           {
            "automargin": true,
            "type": "pie"
           }
          ],
          "scatter": [
           {
            "fillpattern": {
             "fillmode": "overlay",
             "size": 10,
             "solidity": 0.2
            },
            "type": "scatter"
           }
          ],
          "scatter3d": [
           {
            "line": {
             "colorbar": {
              "outlinewidth": 0,
              "ticks": ""
             }
            },
            "marker": {
             "colorbar": {
              "outlinewidth": 0,
              "ticks": ""
             }
            },
            "type": "scatter3d"
           }
          ],
          "scattercarpet": [
           {
            "marker": {
             "colorbar": {
              "outlinewidth": 0,
              "ticks": ""
             }
            },
            "type": "scattercarpet"
           }
          ],
          "scattergeo": [
           {
            "marker": {
             "colorbar": {
              "outlinewidth": 0,
              "ticks": ""
             }
            },
            "type": "scattergeo"
           }
          ],
          "scattergl": [
           {
            "marker": {
             "colorbar": {
              "outlinewidth": 0,
              "ticks": ""
             }
            },
            "type": "scattergl"
           }
          ],
          "scattermapbox": [
           {
            "marker": {
             "colorbar": {
              "outlinewidth": 0,
              "ticks": ""
             }
            },
            "type": "scattermapbox"
           }
          ],
          "scatterpolar": [
           {
            "marker": {
             "colorbar": {
              "outlinewidth": 0,
              "ticks": ""
             }
            },
            "type": "scatterpolar"
           }
          ],
          "scatterpolargl": [
           {
            "marker": {
             "colorbar": {
              "outlinewidth": 0,
              "ticks": ""
             }
            },
            "type": "scatterpolargl"
           }
          ],
          "scatterternary": [
           {
            "marker": {
             "colorbar": {
              "outlinewidth": 0,
              "ticks": ""
             }
            },
            "type": "scatterternary"
           }
          ],
          "surface": [
           {
            "colorbar": {
             "outlinewidth": 0,
             "ticks": ""
            },
            "colorscale": [
             [
              0,
              "#0d0887"
             ],
             [
              0.1111111111111111,
              "#46039f"
             ],
             [
              0.2222222222222222,
              "#7201a8"
             ],
             [
              0.3333333333333333,
              "#9c179e"
             ],
             [
              0.4444444444444444,
              "#bd3786"
             ],
             [
              0.5555555555555556,
              "#d8576b"
             ],
             [
              0.6666666666666666,
              "#ed7953"
             ],
             [
              0.7777777777777778,
              "#fb9f3a"
             ],
             [
              0.8888888888888888,
              "#fdca26"
             ],
             [
              1,
              "#f0f921"
             ]
            ],
            "type": "surface"
           }
          ],
          "table": [
           {
            "cells": {
             "fill": {
              "color": "#EBF0F8"
             },
             "line": {
              "color": "white"
             }
            },
            "header": {
             "fill": {
              "color": "#C8D4E3"
             },
             "line": {
              "color": "white"
             }
            },
            "type": "table"
           }
          ]
         },
         "layout": {
          "annotationdefaults": {
           "arrowcolor": "#2a3f5f",
           "arrowhead": 0,
           "arrowwidth": 1
          },
          "autotypenumbers": "strict",
          "coloraxis": {
           "colorbar": {
            "outlinewidth": 0,
            "ticks": ""
           }
          },
          "colorscale": {
           "diverging": [
            [
             0,
             "#8e0152"
            ],
            [
             0.1,
             "#c51b7d"
            ],
            [
             0.2,
             "#de77ae"
            ],
            [
             0.3,
             "#f1b6da"
            ],
            [
             0.4,
             "#fde0ef"
            ],
            [
             0.5,
             "#f7f7f7"
            ],
            [
             0.6,
             "#e6f5d0"
            ],
            [
             0.7,
             "#b8e186"
            ],
            [
             0.8,
             "#7fbc41"
            ],
            [
             0.9,
             "#4d9221"
            ],
            [
             1,
             "#276419"
            ]
           ],
           "sequential": [
            [
             0,
             "#0d0887"
            ],
            [
             0.1111111111111111,
             "#46039f"
            ],
            [
             0.2222222222222222,
             "#7201a8"
            ],
            [
             0.3333333333333333,
             "#9c179e"
            ],
            [
             0.4444444444444444,
             "#bd3786"
            ],
            [
             0.5555555555555556,
             "#d8576b"
            ],
            [
             0.6666666666666666,
             "#ed7953"
            ],
            [
             0.7777777777777778,
             "#fb9f3a"
            ],
            [
             0.8888888888888888,
             "#fdca26"
            ],
            [
             1,
             "#f0f921"
            ]
           ],
           "sequentialminus": [
            [
             0,
             "#0d0887"
            ],
            [
             0.1111111111111111,
             "#46039f"
            ],
            [
             0.2222222222222222,
             "#7201a8"
            ],
            [
             0.3333333333333333,
             "#9c179e"
            ],
            [
             0.4444444444444444,
             "#bd3786"
            ],
            [
             0.5555555555555556,
             "#d8576b"
            ],
            [
             0.6666666666666666,
             "#ed7953"
            ],
            [
             0.7777777777777778,
             "#fb9f3a"
            ],
            [
             0.8888888888888888,
             "#fdca26"
            ],
            [
             1,
             "#f0f921"
            ]
           ]
          },
          "colorway": [
           "#636efa",
           "#EF553B",
           "#00cc96",
           "#ab63fa",
           "#FFA15A",
           "#19d3f3",
           "#FF6692",
           "#B6E880",
           "#FF97FF",
           "#FECB52"
          ],
          "font": {
           "color": "#2a3f5f"
          },
          "geo": {
           "bgcolor": "white",
           "lakecolor": "white",
           "landcolor": "#E5ECF6",
           "showlakes": true,
           "showland": true,
           "subunitcolor": "white"
          },
          "hoverlabel": {
           "align": "left"
          },
          "hovermode": "closest",
          "mapbox": {
           "style": "light"
          },
          "paper_bgcolor": "white",
          "plot_bgcolor": "#E5ECF6",
          "polar": {
           "angularaxis": {
            "gridcolor": "white",
            "linecolor": "white",
            "ticks": ""
           },
           "bgcolor": "#E5ECF6",
           "radialaxis": {
            "gridcolor": "white",
            "linecolor": "white",
            "ticks": ""
           }
          },
          "scene": {
           "xaxis": {
            "backgroundcolor": "#E5ECF6",
            "gridcolor": "white",
            "gridwidth": 2,
            "linecolor": "white",
            "showbackground": true,
            "ticks": "",
            "zerolinecolor": "white"
           },
           "yaxis": {
            "backgroundcolor": "#E5ECF6",
            "gridcolor": "white",
            "gridwidth": 2,
            "linecolor": "white",
            "showbackground": true,
            "ticks": "",
            "zerolinecolor": "white"
           },
           "zaxis": {
            "backgroundcolor": "#E5ECF6",
            "gridcolor": "white",
            "gridwidth": 2,
            "linecolor": "white",
            "showbackground": true,
            "ticks": "",
            "zerolinecolor": "white"
           }
          },
          "shapedefaults": {
           "line": {
            "color": "#2a3f5f"
           }
          },
          "ternary": {
           "aaxis": {
            "gridcolor": "white",
            "linecolor": "white",
            "ticks": ""
           },
           "baxis": {
            "gridcolor": "white",
            "linecolor": "white",
            "ticks": ""
           },
           "bgcolor": "#E5ECF6",
           "caxis": {
            "gridcolor": "white",
            "linecolor": "white",
            "ticks": ""
           }
          },
          "title": {
           "x": 0.05
          },
          "xaxis": {
           "automargin": true,
           "gridcolor": "white",
           "linecolor": "white",
           "ticks": "",
           "title": {
            "standoff": 15
           },
           "zerolinecolor": "white",
           "zerolinewidth": 2
          },
          "yaxis": {
           "automargin": true,
           "gridcolor": "white",
           "linecolor": "white",
           "ticks": "",
           "title": {
            "standoff": 15
           },
           "zerolinecolor": "white",
           "zerolinewidth": 2
          }
         }
        },
        "title": {
         "text": "Hyperparameter Importances"
        },
        "xaxis": {
         "title": {
          "text": "Hyperparameter Importance"
         }
        },
        "yaxis": {
         "title": {
          "text": "Hyperparameter"
         }
        }
       }
      },
      "text/html": [
       "<div>                        <script type=\"text/javascript\">window.PlotlyConfig = {MathJaxConfig: 'local'};</script>\n",
       "        <script charset=\"utf-8\" src=\"https://cdn.plot.ly/plotly-2.35.2.min.js\"></script>                <div id=\"21db4b60-0f92-4a7b-adf7-7d939be6568d\" class=\"plotly-graph-div\" style=\"height:100%; width:100%;\"></div>            <script type=\"text/javascript\">                                    window.PLOTLYENV=window.PLOTLYENV || {};                                    if (document.getElementById(\"21db4b60-0f92-4a7b-adf7-7d939be6568d\")) {                    Plotly.newPlot(                        \"21db4b60-0f92-4a7b-adf7-7d939be6568d\",                        [{\"cliponaxis\":false,\"hovertemplate\":[\"n_estimators (IntDistribution): 0.21462493874138716\\u003cextra\\u003e\\u003c\\u002fextra\\u003e\",\"max_depth (IntDistribution): 0.7853750612586129\\u003cextra\\u003e\\u003c\\u002fextra\\u003e\"],\"name\":\"Objective Value\",\"orientation\":\"h\",\"text\":[\"0.21\",\"0.79\"],\"textposition\":\"outside\",\"x\":[0.21462493874138716,0.7853750612586129],\"y\":[\"n_estimators\",\"max_depth\"],\"type\":\"bar\"}],                        {\"title\":{\"text\":\"Hyperparameter Importances\"},\"xaxis\":{\"title\":{\"text\":\"Hyperparameter Importance\"}},\"yaxis\":{\"title\":{\"text\":\"Hyperparameter\"}},\"template\":{\"data\":{\"histogram2dcontour\":[{\"type\":\"histogram2dcontour\",\"colorbar\":{\"outlinewidth\":0,\"ticks\":\"\"},\"colorscale\":[[0.0,\"#0d0887\"],[0.1111111111111111,\"#46039f\"],[0.2222222222222222,\"#7201a8\"],[0.3333333333333333,\"#9c179e\"],[0.4444444444444444,\"#bd3786\"],[0.5555555555555556,\"#d8576b\"],[0.6666666666666666,\"#ed7953\"],[0.7777777777777778,\"#fb9f3a\"],[0.8888888888888888,\"#fdca26\"],[1.0,\"#f0f921\"]]}],\"choropleth\":[{\"type\":\"choropleth\",\"colorbar\":{\"outlinewidth\":0,\"ticks\":\"\"}}],\"histogram2d\":[{\"type\":\"histogram2d\",\"colorbar\":{\"outlinewidth\":0,\"ticks\":\"\"},\"colorscale\":[[0.0,\"#0d0887\"],[0.1111111111111111,\"#46039f\"],[0.2222222222222222,\"#7201a8\"],[0.3333333333333333,\"#9c179e\"],[0.4444444444444444,\"#bd3786\"],[0.5555555555555556,\"#d8576b\"],[0.6666666666666666,\"#ed7953\"],[0.7777777777777778,\"#fb9f3a\"],[0.8888888888888888,\"#fdca26\"],[1.0,\"#f0f921\"]]}],\"heatmap\":[{\"type\":\"heatmap\",\"colorbar\":{\"outlinewidth\":0,\"ticks\":\"\"},\"colorscale\":[[0.0,\"#0d0887\"],[0.1111111111111111,\"#46039f\"],[0.2222222222222222,\"#7201a8\"],[0.3333333333333333,\"#9c179e\"],[0.4444444444444444,\"#bd3786\"],[0.5555555555555556,\"#d8576b\"],[0.6666666666666666,\"#ed7953\"],[0.7777777777777778,\"#fb9f3a\"],[0.8888888888888888,\"#fdca26\"],[1.0,\"#f0f921\"]]}],\"heatmapgl\":[{\"type\":\"heatmapgl\",\"colorbar\":{\"outlinewidth\":0,\"ticks\":\"\"},\"colorscale\":[[0.0,\"#0d0887\"],[0.1111111111111111,\"#46039f\"],[0.2222222222222222,\"#7201a8\"],[0.3333333333333333,\"#9c179e\"],[0.4444444444444444,\"#bd3786\"],[0.5555555555555556,\"#d8576b\"],[0.6666666666666666,\"#ed7953\"],[0.7777777777777778,\"#fb9f3a\"],[0.8888888888888888,\"#fdca26\"],[1.0,\"#f0f921\"]]}],\"contourcarpet\":[{\"type\":\"contourcarpet\",\"colorbar\":{\"outlinewidth\":0,\"ticks\":\"\"}}],\"contour\":[{\"type\":\"contour\",\"colorbar\":{\"outlinewidth\":0,\"ticks\":\"\"},\"colorscale\":[[0.0,\"#0d0887\"],[0.1111111111111111,\"#46039f\"],[0.2222222222222222,\"#7201a8\"],[0.3333333333333333,\"#9c179e\"],[0.4444444444444444,\"#bd3786\"],[0.5555555555555556,\"#d8576b\"],[0.6666666666666666,\"#ed7953\"],[0.7777777777777778,\"#fb9f3a\"],[0.8888888888888888,\"#fdca26\"],[1.0,\"#f0f921\"]]}],\"surface\":[{\"type\":\"surface\",\"colorbar\":{\"outlinewidth\":0,\"ticks\":\"\"},\"colorscale\":[[0.0,\"#0d0887\"],[0.1111111111111111,\"#46039f\"],[0.2222222222222222,\"#7201a8\"],[0.3333333333333333,\"#9c179e\"],[0.4444444444444444,\"#bd3786\"],[0.5555555555555556,\"#d8576b\"],[0.6666666666666666,\"#ed7953\"],[0.7777777777777778,\"#fb9f3a\"],[0.8888888888888888,\"#fdca26\"],[1.0,\"#f0f921\"]]}],\"mesh3d\":[{\"type\":\"mesh3d\",\"colorbar\":{\"outlinewidth\":0,\"ticks\":\"\"}}],\"scatter\":[{\"fillpattern\":{\"fillmode\":\"overlay\",\"size\":10,\"solidity\":0.2},\"type\":\"scatter\"}],\"parcoords\":[{\"type\":\"parcoords\",\"line\":{\"colorbar\":{\"outlinewidth\":0,\"ticks\":\"\"}}}],\"scatterpolargl\":[{\"type\":\"scatterpolargl\",\"marker\":{\"colorbar\":{\"outlinewidth\":0,\"ticks\":\"\"}}}],\"bar\":[{\"error_x\":{\"color\":\"#2a3f5f\"},\"error_y\":{\"color\":\"#2a3f5f\"},\"marker\":{\"line\":{\"color\":\"#E5ECF6\",\"width\":0.5},\"pattern\":{\"fillmode\":\"overlay\",\"size\":10,\"solidity\":0.2}},\"type\":\"bar\"}],\"scattergeo\":[{\"type\":\"scattergeo\",\"marker\":{\"colorbar\":{\"outlinewidth\":0,\"ticks\":\"\"}}}],\"scatterpolar\":[{\"type\":\"scatterpolar\",\"marker\":{\"colorbar\":{\"outlinewidth\":0,\"ticks\":\"\"}}}],\"histogram\":[{\"marker\":{\"pattern\":{\"fillmode\":\"overlay\",\"size\":10,\"solidity\":0.2}},\"type\":\"histogram\"}],\"scattergl\":[{\"type\":\"scattergl\",\"marker\":{\"colorbar\":{\"outlinewidth\":0,\"ticks\":\"\"}}}],\"scatter3d\":[{\"type\":\"scatter3d\",\"line\":{\"colorbar\":{\"outlinewidth\":0,\"ticks\":\"\"}},\"marker\":{\"colorbar\":{\"outlinewidth\":0,\"ticks\":\"\"}}}],\"scattermapbox\":[{\"type\":\"scattermapbox\",\"marker\":{\"colorbar\":{\"outlinewidth\":0,\"ticks\":\"\"}}}],\"scatterternary\":[{\"type\":\"scatterternary\",\"marker\":{\"colorbar\":{\"outlinewidth\":0,\"ticks\":\"\"}}}],\"scattercarpet\":[{\"type\":\"scattercarpet\",\"marker\":{\"colorbar\":{\"outlinewidth\":0,\"ticks\":\"\"}}}],\"carpet\":[{\"aaxis\":{\"endlinecolor\":\"#2a3f5f\",\"gridcolor\":\"white\",\"linecolor\":\"white\",\"minorgridcolor\":\"white\",\"startlinecolor\":\"#2a3f5f\"},\"baxis\":{\"endlinecolor\":\"#2a3f5f\",\"gridcolor\":\"white\",\"linecolor\":\"white\",\"minorgridcolor\":\"white\",\"startlinecolor\":\"#2a3f5f\"},\"type\":\"carpet\"}],\"table\":[{\"cells\":{\"fill\":{\"color\":\"#EBF0F8\"},\"line\":{\"color\":\"white\"}},\"header\":{\"fill\":{\"color\":\"#C8D4E3\"},\"line\":{\"color\":\"white\"}},\"type\":\"table\"}],\"barpolar\":[{\"marker\":{\"line\":{\"color\":\"#E5ECF6\",\"width\":0.5},\"pattern\":{\"fillmode\":\"overlay\",\"size\":10,\"solidity\":0.2}},\"type\":\"barpolar\"}],\"pie\":[{\"automargin\":true,\"type\":\"pie\"}]},\"layout\":{\"autotypenumbers\":\"strict\",\"colorway\":[\"#636efa\",\"#EF553B\",\"#00cc96\",\"#ab63fa\",\"#FFA15A\",\"#19d3f3\",\"#FF6692\",\"#B6E880\",\"#FF97FF\",\"#FECB52\"],\"font\":{\"color\":\"#2a3f5f\"},\"hovermode\":\"closest\",\"hoverlabel\":{\"align\":\"left\"},\"paper_bgcolor\":\"white\",\"plot_bgcolor\":\"#E5ECF6\",\"polar\":{\"bgcolor\":\"#E5ECF6\",\"angularaxis\":{\"gridcolor\":\"white\",\"linecolor\":\"white\",\"ticks\":\"\"},\"radialaxis\":{\"gridcolor\":\"white\",\"linecolor\":\"white\",\"ticks\":\"\"}},\"ternary\":{\"bgcolor\":\"#E5ECF6\",\"aaxis\":{\"gridcolor\":\"white\",\"linecolor\":\"white\",\"ticks\":\"\"},\"baxis\":{\"gridcolor\":\"white\",\"linecolor\":\"white\",\"ticks\":\"\"},\"caxis\":{\"gridcolor\":\"white\",\"linecolor\":\"white\",\"ticks\":\"\"}},\"coloraxis\":{\"colorbar\":{\"outlinewidth\":0,\"ticks\":\"\"}},\"colorscale\":{\"sequential\":[[0.0,\"#0d0887\"],[0.1111111111111111,\"#46039f\"],[0.2222222222222222,\"#7201a8\"],[0.3333333333333333,\"#9c179e\"],[0.4444444444444444,\"#bd3786\"],[0.5555555555555556,\"#d8576b\"],[0.6666666666666666,\"#ed7953\"],[0.7777777777777778,\"#fb9f3a\"],[0.8888888888888888,\"#fdca26\"],[1.0,\"#f0f921\"]],\"sequentialminus\":[[0.0,\"#0d0887\"],[0.1111111111111111,\"#46039f\"],[0.2222222222222222,\"#7201a8\"],[0.3333333333333333,\"#9c179e\"],[0.4444444444444444,\"#bd3786\"],[0.5555555555555556,\"#d8576b\"],[0.6666666666666666,\"#ed7953\"],[0.7777777777777778,\"#fb9f3a\"],[0.8888888888888888,\"#fdca26\"],[1.0,\"#f0f921\"]],\"diverging\":[[0,\"#8e0152\"],[0.1,\"#c51b7d\"],[0.2,\"#de77ae\"],[0.3,\"#f1b6da\"],[0.4,\"#fde0ef\"],[0.5,\"#f7f7f7\"],[0.6,\"#e6f5d0\"],[0.7,\"#b8e186\"],[0.8,\"#7fbc41\"],[0.9,\"#4d9221\"],[1,\"#276419\"]]},\"xaxis\":{\"gridcolor\":\"white\",\"linecolor\":\"white\",\"ticks\":\"\",\"title\":{\"standoff\":15},\"zerolinecolor\":\"white\",\"automargin\":true,\"zerolinewidth\":2},\"yaxis\":{\"gridcolor\":\"white\",\"linecolor\":\"white\",\"ticks\":\"\",\"title\":{\"standoff\":15},\"zerolinecolor\":\"white\",\"automargin\":true,\"zerolinewidth\":2},\"scene\":{\"xaxis\":{\"backgroundcolor\":\"#E5ECF6\",\"gridcolor\":\"white\",\"linecolor\":\"white\",\"showbackground\":true,\"ticks\":\"\",\"zerolinecolor\":\"white\",\"gridwidth\":2},\"yaxis\":{\"backgroundcolor\":\"#E5ECF6\",\"gridcolor\":\"white\",\"linecolor\":\"white\",\"showbackground\":true,\"ticks\":\"\",\"zerolinecolor\":\"white\",\"gridwidth\":2},\"zaxis\":{\"backgroundcolor\":\"#E5ECF6\",\"gridcolor\":\"white\",\"linecolor\":\"white\",\"showbackground\":true,\"ticks\":\"\",\"zerolinecolor\":\"white\",\"gridwidth\":2}},\"shapedefaults\":{\"line\":{\"color\":\"#2a3f5f\"}},\"annotationdefaults\":{\"arrowcolor\":\"#2a3f5f\",\"arrowhead\":0,\"arrowwidth\":1},\"geo\":{\"bgcolor\":\"white\",\"landcolor\":\"#E5ECF6\",\"subunitcolor\":\"white\",\"showland\":true,\"showlakes\":true,\"lakecolor\":\"white\"},\"title\":{\"x\":0.05},\"mapbox\":{\"style\":\"light\"}}}},                        {\"responsive\": true}                    )                };                            </script>        </div>"
      ],
      "text/plain": [
       "Figure({\n",
       "    'data': [{'cliponaxis': False,\n",
       "              'hovertemplate': [n_estimators (IntDistribution):\n",
       "                                0.21462493874138716<extra></extra>, max_depth\n",
       "                                (IntDistribution):\n",
       "                                0.7853750612586129<extra></extra>],\n",
       "              'name': 'Objective Value',\n",
       "              'orientation': 'h',\n",
       "              'text': [0.21, 0.79],\n",
       "              'textposition': 'outside',\n",
       "              'type': 'bar',\n",
       "              'x': [0.21462493874138716, 0.7853750612586129],\n",
       "              'y': [n_estimators, max_depth]}],\n",
       "    'layout': {'template': '...',\n",
       "               'title': {'text': 'Hyperparameter Importances'},\n",
       "               'xaxis': {'title': {'text': 'Hyperparameter Importance'}},\n",
       "               'yaxis': {'title': {'text': 'Hyperparameter'}}}\n",
       "})"
      ]
     },
     "execution_count": 25,
     "metadata": {},
     "output_type": "execute_result"
    }
   ],
   "source": [
    "optuna.visualization.plot_param_importances(study)"
   ]
  },
  {
   "cell_type": "code",
   "execution_count": 21,
   "id": "f4f60d0f",
   "metadata": {},
   "outputs": [
    {
     "data": {
      "text/plain": [
       "{'n_estimators': 888, 'max_depth': 31, 'criterion': 'entropy'}"
      ]
     },
     "execution_count": 21,
     "metadata": {},
     "output_type": "execute_result"
    }
   ],
   "source": [
    "study.best_params"
   ]
  },
  {
   "cell_type": "code",
   "execution_count": null,
   "id": "2a9846b6",
   "metadata": {},
   "outputs": [],
   "source": [
    "optuna.visualization.plot_parallel_coordinate(study)"
   ]
  }
 ],
 "metadata": {
  "kernelspec": {
   "display_name": "Python 3",
   "language": "python",
   "name": "python3"
  },
  "language_info": {
   "codemirror_mode": {
    "name": "ipython",
    "version": 3
   },
   "file_extension": ".py",
   "mimetype": "text/x-python",
   "name": "python",
   "nbconvert_exporter": "python",
   "pygments_lexer": "ipython3",
   "version": "3.12.0"
  }
 },
 "nbformat": 4,
 "nbformat_minor": 5
}
