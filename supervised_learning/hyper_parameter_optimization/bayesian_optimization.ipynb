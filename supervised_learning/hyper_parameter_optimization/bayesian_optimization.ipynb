{
 "cells": [
  {
   "cell_type": "code",
   "execution_count": null,
   "metadata": {},
   "outputs": [],
   "source": [
    "## you want to firstly run !pip instal optuna"
   ]
  },
  {
   "cell_type": "code",
   "execution_count": 1,
   "metadata": {},
   "outputs": [
    {
     "name": "stderr",
     "output_type": "stream",
     "text": [
      "c:\\Users\\hp\\AppData\\Local\\Programs\\Python\\Python312\\Lib\\site-packages\\tqdm\\auto.py:21: TqdmWarning: IProgress not found. Please update jupyter and ipywidgets. See https://ipywidgets.readthedocs.io/en/stable/user_install.html\n",
      "  from .autonotebook import tqdm as notebook_tqdm\n"
     ]
    }
   ],
   "source": [
    "import pandas as pd\n",
    "import numpy as np\n",
    "from sklearn.datasets import load_diabetes\n",
    "from sklearn.model_selection import KFold,cross_val_score\n",
    "from sklearn.ensemble import RandomForestRegressor\n",
    "import optuna\n",
    "import plotly.express as px"
   ]
  },
  {
   "cell_type": "code",
   "execution_count": 2,
   "metadata": {},
   "outputs": [],
   "source": [
    "## setup the dataset\n",
    "\n",
    "X = load_diabetes(as_frame = True)['data']\n",
    "y = load_diabetes()['target']\n"
   ]
  },
  {
   "cell_type": "code",
   "execution_count": 3,
   "metadata": {},
   "outputs": [
    {
     "name": "stderr",
     "output_type": "stream",
     "text": [
      "[I 2024-12-19 14:31:24,684] A new study created in memory with name: no-name-25c9264c-1004-48cb-a784-95698f72d4f9\n",
      "[I 2024-12-19 14:31:47,476] Trial 0 finished with value: 58.010616267741625 and parameters: {'n_estimators': 160, 'max_depth': 19, 'criterion': 'squared_error'}. Best is trial 0 with value: 58.010616267741625.\n",
      "[I 2024-12-19 14:31:58,087] Trial 1 finished with value: 57.73487706540742 and parameters: {'n_estimators': 58, 'max_depth': 9, 'criterion': 'poisson'}. Best is trial 1 with value: 57.73487706540742.\n",
      "[I 2024-12-19 14:33:18,104] Trial 2 finished with value: 57.75895199544866 and parameters: {'n_estimators': 267, 'max_depth': 7, 'criterion': 'absolute_error'}. Best is trial 1 with value: 57.73487706540742.\n",
      "[I 2024-12-19 14:33:32,030] Trial 3 finished with value: 57.826393589528415 and parameters: {'n_estimators': 95, 'max_depth': 7, 'criterion': 'squared_error'}. Best is trial 1 with value: 57.73487706540742.\n",
      "[I 2024-12-19 14:33:43,684] Trial 4 finished with value: 57.18842155375999 and parameters: {'n_estimators': 284, 'max_depth': 4, 'criterion': 'friedman_mse'}. Best is trial 4 with value: 57.18842155375999.\n",
      "[I 2024-12-19 14:34:19,684] Trial 5 finished with value: 57.991341724200694 and parameters: {'n_estimators': 251, 'max_depth': 15, 'criterion': 'absolute_error'}. Best is trial 4 with value: 57.18842155375999.\n",
      "[I 2024-12-19 14:34:34,988] Trial 6 finished with value: 57.89773186754691 and parameters: {'n_estimators': 251, 'max_depth': 10, 'criterion': 'poisson'}. Best is trial 4 with value: 57.18842155375999.\n",
      "[I 2024-12-19 14:34:46,183] Trial 7 finished with value: 57.88360936124614 and parameters: {'n_estimators': 200, 'max_depth': 12, 'criterion': 'friedman_mse'}. Best is trial 4 with value: 57.18842155375999.\n",
      "[I 2024-12-19 14:34:57,694] Trial 8 finished with value: 58.10646745426391 and parameters: {'n_estimators': 150, 'max_depth': 20, 'criterion': 'squared_error'}. Best is trial 4 with value: 57.18842155375999.\n",
      "[I 2024-12-19 14:35:03,388] Trial 9 finished with value: 57.67963998957542 and parameters: {'n_estimators': 77, 'max_depth': 3, 'criterion': 'absolute_error'}. Best is trial 4 with value: 57.18842155375999.\n",
      "[I 2024-12-19 14:35:24,396] Trial 10 finished with value: 57.10106685465706 and parameters: {'n_estimators': 277, 'max_depth': 4, 'criterion': 'poisson'}. Best is trial 10 with value: 57.10106685465706.\n",
      "[I 2024-12-19 14:35:27,876] Trial 11 finished with value: 58.28628903472459 and parameters: {'n_estimators': 84, 'max_depth': 10, 'criterion': 'squared_error'}. Best is trial 10 with value: 57.10106685465706.\n",
      "[I 2024-12-19 14:35:58,273] Trial 12 finished with value: 58.01474927812622 and parameters: {'n_estimators': 255, 'max_depth': 10, 'criterion': 'absolute_error'}. Best is trial 10 with value: 57.10106685465706.\n",
      "[I 2024-12-19 14:36:06,204] Trial 13 finished with value: 58.1927127775856 and parameters: {'n_estimators': 110, 'max_depth': 19, 'criterion': 'squared_error'}. Best is trial 10 with value: 57.10106685465706.\n",
      "[I 2024-12-19 14:36:15,019] Trial 14 finished with value: 58.11349489740594 and parameters: {'n_estimators': 165, 'max_depth': 11, 'criterion': 'friedman_mse'}. Best is trial 10 with value: 57.10106685465706.\n",
      "[I 2024-12-19 14:36:44,109] Trial 15 finished with value: 58.00097818579068 and parameters: {'n_estimators': 230, 'max_depth': 10, 'criterion': 'absolute_error'}. Best is trial 10 with value: 57.10106685465706.\n",
      "[I 2024-12-19 14:36:45,189] Trial 16 finished with value: 58.39396044365818 and parameters: {'n_estimators': 23, 'max_depth': 9, 'criterion': 'squared_error'}. Best is trial 10 with value: 57.10106685465706.\n",
      "[I 2024-12-19 14:36:48,807] Trial 17 finished with value: 57.6971279185327 and parameters: {'n_estimators': 79, 'max_depth': 7, 'criterion': 'poisson'}. Best is trial 10 with value: 57.10106685465706.\n",
      "[I 2024-12-19 14:36:57,330] Trial 18 finished with value: 58.95909422298716 and parameters: {'n_estimators': 52, 'max_depth': 15, 'criterion': 'absolute_error'}. Best is trial 10 with value: 57.10106685465706.\n",
      "[I 2024-12-19 14:37:32,101] Trial 19 finished with value: 57.33380443684261 and parameters: {'n_estimators': 185, 'max_depth': 3, 'criterion': 'squared_error'}. Best is trial 10 with value: 57.10106685465706.\n",
      "[I 2024-12-19 14:37:44,010] Trial 20 finished with value: 57.69343348406394 and parameters: {'n_estimators': 196, 'max_depth': 9, 'criterion': 'squared_error'}. Best is trial 10 with value: 57.10106685465706.\n",
      "[I 2024-12-19 14:38:12,153] Trial 21 finished with value: 57.94278844692483 and parameters: {'n_estimators': 257, 'max_depth': 17, 'criterion': 'friedman_mse'}. Best is trial 10 with value: 57.10106685465706.\n",
      "[I 2024-12-19 14:38:29,890] Trial 22 finished with value: 58.231515557005785 and parameters: {'n_estimators': 105, 'max_depth': 12, 'criterion': 'poisson'}. Best is trial 10 with value: 57.10106685465706.\n",
      "[I 2024-12-19 14:39:58,752] Trial 23 finished with value: 57.954813563899734 and parameters: {'n_estimators': 231, 'max_depth': 11, 'criterion': 'absolute_error'}. Best is trial 10 with value: 57.10106685465706.\n",
      "[I 2024-12-19 14:40:27,843] Trial 24 finished with value: 57.63238692607134 and parameters: {'n_estimators': 174, 'max_depth': 7, 'criterion': 'absolute_error'}. Best is trial 10 with value: 57.10106685465706.\n",
      "[I 2024-12-19 14:41:01,393] Trial 25 finished with value: 57.86654664703697 and parameters: {'n_estimators': 224, 'max_depth': 12, 'criterion': 'absolute_error'}. Best is trial 10 with value: 57.10106685465706.\n",
      "[I 2024-12-19 14:41:03,044] Trial 26 finished with value: 57.70852966959948 and parameters: {'n_estimators': 43, 'max_depth': 7, 'criterion': 'poisson'}. Best is trial 10 with value: 57.10106685465706.\n",
      "[I 2024-12-19 14:41:06,364] Trial 27 finished with value: 57.5344911433079 and parameters: {'n_estimators': 53, 'max_depth': 4, 'criterion': 'absolute_error'}. Best is trial 10 with value: 57.10106685465706.\n",
      "[I 2024-12-19 14:41:23,776] Trial 28 finished with value: 57.325981963703704 and parameters: {'n_estimators': 275, 'max_depth': 5, 'criterion': 'poisson'}. Best is trial 10 with value: 57.10106685465706.\n",
      "[I 2024-12-19 14:41:49,045] Trial 29 finished with value: 58.247987271998724 and parameters: {'n_estimators': 69, 'max_depth': 16, 'criterion': 'absolute_error'}. Best is trial 10 with value: 57.10106685465706.\n",
      "[I 2024-12-19 14:42:04,645] Trial 30 finished with value: 57.69343348406394 and parameters: {'n_estimators': 196, 'max_depth': 9, 'criterion': 'squared_error'}. Best is trial 10 with value: 57.10106685465706.\n",
      "[I 2024-12-19 14:42:08,745] Trial 31 finished with value: 58.24931390310345 and parameters: {'n_estimators': 106, 'max_depth': 17, 'criterion': 'squared_error'}. Best is trial 10 with value: 57.10106685465706.\n",
      "[I 2024-12-19 14:42:19,087] Trial 32 finished with value: 57.950708512907525 and parameters: {'n_estimators': 283, 'max_depth': 12, 'criterion': 'friedman_mse'}. Best is trial 10 with value: 57.10106685465706.\n",
      "[I 2024-12-19 14:42:28,813] Trial 33 finished with value: 57.63120540972035 and parameters: {'n_estimators': 250, 'max_depth': 7, 'criterion': 'poisson'}. Best is trial 10 with value: 57.10106685465706.\n",
      "[I 2024-12-19 14:42:38,139] Trial 34 finished with value: 57.745423777825124 and parameters: {'n_estimators': 282, 'max_depth': 8, 'criterion': 'friedman_mse'}. Best is trial 10 with value: 57.10106685465706.\n",
      "[I 2024-12-19 14:42:43,150] Trial 35 finished with value: 57.23342937596429 and parameters: {'n_estimators': 192, 'max_depth': 5, 'criterion': 'friedman_mse'}. Best is trial 10 with value: 57.10106685465706.\n",
      "[I 2024-12-19 14:42:57,991] Trial 36 finished with value: 57.82606089352197 and parameters: {'n_estimators': 220, 'max_depth': 11, 'criterion': 'poisson'}. Best is trial 10 with value: 57.10106685465706.\n",
      "[I 2024-12-19 14:43:13,395] Trial 37 finished with value: 58.32689563613661 and parameters: {'n_estimators': 111, 'max_depth': 16, 'criterion': 'absolute_error'}. Best is trial 10 with value: 57.10106685465706.\n",
      "[I 2024-12-19 14:43:14,913] Trial 38 finished with value: 57.98999663691867 and parameters: {'n_estimators': 37, 'max_depth': 12, 'criterion': 'squared_error'}. Best is trial 10 with value: 57.10106685465706.\n",
      "[I 2024-12-19 14:43:25,131] Trial 39 finished with value: 57.96478365459808 and parameters: {'n_estimators': 124, 'max_depth': 18, 'criterion': 'poisson'}. Best is trial 10 with value: 57.10106685465706.\n",
      "[I 2024-12-19 14:43:52,921] Trial 40 finished with value: 57.71475703580552 and parameters: {'n_estimators': 234, 'max_depth': 17, 'criterion': 'poisson'}. Best is trial 10 with value: 57.10106685465706.\n",
      "[I 2024-12-19 14:44:07,797] Trial 41 finished with value: 58.262106942002504 and parameters: {'n_estimators': 134, 'max_depth': 2, 'criterion': 'absolute_error'}. Best is trial 10 with value: 57.10106685465706.\n",
      "[I 2024-12-19 14:44:18,726] Trial 42 finished with value: 58.30346924802042 and parameters: {'n_estimators': 64, 'max_depth': 16, 'criterion': 'absolute_error'}. Best is trial 10 with value: 57.10106685465706.\n",
      "[I 2024-12-19 14:44:21,404] Trial 43 finished with value: 57.655275715244684 and parameters: {'n_estimators': 85, 'max_depth': 6, 'criterion': 'poisson'}. Best is trial 10 with value: 57.10106685465706.\n",
      "[I 2024-12-19 14:44:28,715] Trial 44 finished with value: 57.962590427807946 and parameters: {'n_estimators': 182, 'max_depth': 12, 'criterion': 'poisson'}. Best is trial 10 with value: 57.10106685465706.\n",
      "[I 2024-12-19 14:44:31,878] Trial 45 finished with value: 57.440065212981764 and parameters: {'n_estimators': 148, 'max_depth': 3, 'criterion': 'squared_error'}. Best is trial 10 with value: 57.10106685465706.\n",
      "[I 2024-12-19 14:44:34,552] Trial 46 finished with value: 57.40439376605997 and parameters: {'n_estimators': 121, 'max_depth': 4, 'criterion': 'squared_error'}. Best is trial 10 with value: 57.10106685465706.\n",
      "[I 2024-12-19 14:44:34,960] Trial 47 finished with value: 58.34828907020011 and parameters: {'n_estimators': 17, 'max_depth': 6, 'criterion': 'squared_error'}. Best is trial 10 with value: 57.10106685465706.\n",
      "[I 2024-12-19 14:44:46,309] Trial 48 finished with value: 57.93221482985318 and parameters: {'n_estimators': 289, 'max_depth': 15, 'criterion': 'friedman_mse'}. Best is trial 10 with value: 57.10106685465706.\n",
      "[I 2024-12-19 14:45:13,663] Trial 49 finished with value: 58.28954506141831 and parameters: {'n_estimators': 158, 'max_depth': 17, 'criterion': 'absolute_error'}. Best is trial 10 with value: 57.10106685465706.\n"
     ]
    }
   ],
   "source": [
    "# step 1: set up an objective function\n",
    "\n",
    "def objective(trial):\n",
    "    \n",
    "    # define the hyperparameters\n",
    "    n_estimators = trial.suggest_int('n_estimators',10, 300)\n",
    "    max_depth = trial.suggest_int('max_depth', 2, 20)\n",
    "    criterion = trial.suggest_categorical('criterion', \n",
    "                                          ['squared_error', 'absolute_error', \n",
    "                                           'friedman_mse', 'poisson'])\n",
    "    \n",
    "    regressor = RandomForestRegressor(n_estimators=n_estimators, max_depth=max_depth,\n",
    "                                      criterion=criterion, random_state=23)\n",
    "    \n",
    "    score = -cross_val_score(estimator=regressor, X=X, y=y,\n",
    "                             scoring='neg_root_mean_squared_error',cv = 5).mean()\n",
    "    \n",
    "    return score\n",
    "\n",
    "# step 2: create the study\n",
    "study = optuna.create_study(direction='minimize',\n",
    "                            sampler = optuna.samplers.RandomSampler(seed=23))\n",
    "\n",
    "# step 3: optimize the study\n",
    "study.optimize(objective, n_trials=50,n_jobs = 1)"
   ]
  },
  {
   "cell_type": "code",
   "execution_count": 4,
   "metadata": {},
   "outputs": [
    {
     "data": {
      "text/plain": [
       "{'n_estimators': 277, 'max_depth': 4, 'criterion': 'poisson'}"
      ]
     },
     "execution_count": 4,
     "metadata": {},
     "output_type": "execute_result"
    }
   ],
   "source": [
    "study.best_params"
   ]
  },
  {
   "cell_type": "code",
   "execution_count": 5,
   "metadata": {},
   "outputs": [
    {
     "data": {
      "text/plain": [
       "57.10106685465706"
      ]
     },
     "execution_count": 5,
     "metadata": {},
     "output_type": "execute_result"
    }
   ],
   "source": [
    "study.best_value"
   ]
  },
  {
   "cell_type": "code",
   "execution_count": null,
   "metadata": {},
   "outputs": [],
   "source": [
    "optuna.visualization.plot_param_importances(study)\n"
   ]
  },
  {
   "cell_type": "code",
   "execution_count": null,
   "metadata": {},
   "outputs": [],
   "source": [
    "optuna.visualization.plot_optimization_history(study)"
   ]
  },
  {
   "cell_type": "code",
   "execution_count": null,
   "metadata": {},
   "outputs": [],
   "source": [
    "optuna.visualization.plot_slice(study)"
   ]
  },
  {
   "cell_type": "code",
   "execution_count": null,
   "metadata": {},
   "outputs": [],
   "source": [
    "optuna.visualization.plot_parallel_coordinate(study)"
   ]
  },
  {
   "cell_type": "code",
   "execution_count": null,
   "metadata": {},
   "outputs": [],
   "source": []
  }
 ],
 "metadata": {
  "kernelspec": {
   "display_name": "Python 3",
   "language": "python",
   "name": "python3"
  },
  "language_info": {
   "codemirror_mode": {
    "name": "ipython",
    "version": 3
   },
   "file_extension": ".py",
   "mimetype": "text/x-python",
   "name": "python",
   "nbconvert_exporter": "python",
   "pygments_lexer": "ipython3",
   "version": "3.12.0"
  }
 },
 "nbformat": 4,
 "nbformat_minor": 2
}
