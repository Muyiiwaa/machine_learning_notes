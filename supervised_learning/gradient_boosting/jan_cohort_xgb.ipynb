{
 "cells": [
  {
   "cell_type": "markdown",
   "id": "6c8d4ae9",
   "metadata": {},
   "source": [
    "### GRADIENT BOOSTING WITH XGBOOST"
   ]
  },
  {
   "cell_type": "code",
   "execution_count": null,
   "id": "eb858ae1",
   "metadata": {},
   "outputs": [],
   "source": [
    "from xgboost import XGBClassifier\n"
   ]
  }
 ],
 "metadata": {
  "kernelspec": {
   "display_name": "Python 3",
   "language": "python",
   "name": "python3"
  },
  "language_info": {
   "codemirror_mode": {
    "name": "ipython",
    "version": 3
   },
   "file_extension": ".py",
   "mimetype": "text/x-python",
   "name": "python",
   "nbconvert_exporter": "python",
   "pygments_lexer": "ipython3",
   "version": "3.12.0"
  }
 },
 "nbformat": 4,
 "nbformat_minor": 5
}
