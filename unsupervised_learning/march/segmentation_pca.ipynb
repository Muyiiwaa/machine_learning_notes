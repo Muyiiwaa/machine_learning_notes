{
 "cells": [
  {
   "cell_type": "markdown",
   "id": "e5a592d8",
   "metadata": {},
   "source": [
    "### SEGMENTATION WITH CLUSTERING AND PCA"
   ]
  },
  {
   "cell_type": "code",
   "execution_count": 1,
   "id": "f6218e8a",
   "metadata": {},
   "outputs": [],
   "source": [
    "import pandas as pd\n",
    "from sklearn.preprocessing import LabelEncoder,StandardScaler\n",
    "from sklearn.cluster import KMeans\n",
    "from sklearn.decomposition import PCA\n",
    "import seaborn as sns\n",
    "import matplotlib.pyplot as plt\n",
    "import plotly.express as px\n",
    "import numpy as np"
   ]
  },
  {
   "cell_type": "code",
   "execution_count": 3,
   "id": "9cb20830",
   "metadata": {},
   "outputs": [
    {
     "data": {
      "text/html": [
       "<div>\n",
       "<style scoped>\n",
       "    .dataframe tbody tr th:only-of-type {\n",
       "        vertical-align: middle;\n",
       "    }\n",
       "\n",
       "    .dataframe tbody tr th {\n",
       "        vertical-align: top;\n",
       "    }\n",
       "\n",
       "    .dataframe thead th {\n",
       "        text-align: right;\n",
       "    }\n",
       "</style>\n",
       "<table border=\"1\" class=\"dataframe\">\n",
       "  <thead>\n",
       "    <tr style=\"text-align: right;\">\n",
       "      <th></th>\n",
       "      <th>ID</th>\n",
       "      <th>Year_Birth</th>\n",
       "      <th>Education</th>\n",
       "      <th>Marital_Status</th>\n",
       "      <th>Income</th>\n",
       "      <th>Kidhome</th>\n",
       "      <th>Teenhome</th>\n",
       "      <th>Dt_Customer</th>\n",
       "      <th>Recency</th>\n",
       "      <th>MntWines</th>\n",
       "      <th>...</th>\n",
       "      <th>NumWebVisitsMonth</th>\n",
       "      <th>AcceptedCmp3</th>\n",
       "      <th>AcceptedCmp4</th>\n",
       "      <th>AcceptedCmp5</th>\n",
       "      <th>AcceptedCmp1</th>\n",
       "      <th>AcceptedCmp2</th>\n",
       "      <th>Complain</th>\n",
       "      <th>Z_CostContact</th>\n",
       "      <th>Z_Revenue</th>\n",
       "      <th>Response</th>\n",
       "    </tr>\n",
       "  </thead>\n",
       "  <tbody>\n",
       "    <tr>\n",
       "      <th>0</th>\n",
       "      <td>5524</td>\n",
       "      <td>1957</td>\n",
       "      <td>Graduation</td>\n",
       "      <td>Single</td>\n",
       "      <td>58138</td>\n",
       "      <td>0</td>\n",
       "      <td>0</td>\n",
       "      <td>2012-09-04</td>\n",
       "      <td>58</td>\n",
       "      <td>635</td>\n",
       "      <td>...</td>\n",
       "      <td>7</td>\n",
       "      <td>0</td>\n",
       "      <td>0</td>\n",
       "      <td>0</td>\n",
       "      <td>0</td>\n",
       "      <td>0</td>\n",
       "      <td>0</td>\n",
       "      <td>3</td>\n",
       "      <td>11</td>\n",
       "      <td>1</td>\n",
       "    </tr>\n",
       "    <tr>\n",
       "      <th>1</th>\n",
       "      <td>2174</td>\n",
       "      <td>1954</td>\n",
       "      <td>Graduation</td>\n",
       "      <td>Single</td>\n",
       "      <td>46344</td>\n",
       "      <td>1</td>\n",
       "      <td>1</td>\n",
       "      <td>2014-03-08</td>\n",
       "      <td>38</td>\n",
       "      <td>11</td>\n",
       "      <td>...</td>\n",
       "      <td>5</td>\n",
       "      <td>0</td>\n",
       "      <td>0</td>\n",
       "      <td>0</td>\n",
       "      <td>0</td>\n",
       "      <td>0</td>\n",
       "      <td>0</td>\n",
       "      <td>3</td>\n",
       "      <td>11</td>\n",
       "      <td>0</td>\n",
       "    </tr>\n",
       "    <tr>\n",
       "      <th>2</th>\n",
       "      <td>4141</td>\n",
       "      <td>1965</td>\n",
       "      <td>Graduation</td>\n",
       "      <td>Together</td>\n",
       "      <td>71613</td>\n",
       "      <td>0</td>\n",
       "      <td>0</td>\n",
       "      <td>2013-08-21</td>\n",
       "      <td>26</td>\n",
       "      <td>426</td>\n",
       "      <td>...</td>\n",
       "      <td>4</td>\n",
       "      <td>0</td>\n",
       "      <td>0</td>\n",
       "      <td>0</td>\n",
       "      <td>0</td>\n",
       "      <td>0</td>\n",
       "      <td>0</td>\n",
       "      <td>3</td>\n",
       "      <td>11</td>\n",
       "      <td>0</td>\n",
       "    </tr>\n",
       "    <tr>\n",
       "      <th>3</th>\n",
       "      <td>6182</td>\n",
       "      <td>1984</td>\n",
       "      <td>Graduation</td>\n",
       "      <td>Together</td>\n",
       "      <td>26646</td>\n",
       "      <td>1</td>\n",
       "      <td>0</td>\n",
       "      <td>2014-02-10</td>\n",
       "      <td>26</td>\n",
       "      <td>11</td>\n",
       "      <td>...</td>\n",
       "      <td>6</td>\n",
       "      <td>0</td>\n",
       "      <td>0</td>\n",
       "      <td>0</td>\n",
       "      <td>0</td>\n",
       "      <td>0</td>\n",
       "      <td>0</td>\n",
       "      <td>3</td>\n",
       "      <td>11</td>\n",
       "      <td>0</td>\n",
       "    </tr>\n",
       "    <tr>\n",
       "      <th>4</th>\n",
       "      <td>5324</td>\n",
       "      <td>1981</td>\n",
       "      <td>PhD</td>\n",
       "      <td>Married</td>\n",
       "      <td>58293</td>\n",
       "      <td>1</td>\n",
       "      <td>0</td>\n",
       "      <td>2014-01-19</td>\n",
       "      <td>94</td>\n",
       "      <td>173</td>\n",
       "      <td>...</td>\n",
       "      <td>5</td>\n",
       "      <td>0</td>\n",
       "      <td>0</td>\n",
       "      <td>0</td>\n",
       "      <td>0</td>\n",
       "      <td>0</td>\n",
       "      <td>0</td>\n",
       "      <td>3</td>\n",
       "      <td>11</td>\n",
       "      <td>0</td>\n",
       "    </tr>\n",
       "  </tbody>\n",
       "</table>\n",
       "<p>5 rows × 29 columns</p>\n",
       "</div>"
      ],
      "text/plain": [
       "     ID  Year_Birth   Education Marital_Status Income  Kidhome  Teenhome  \\\n",
       "0  5524        1957  Graduation         Single  58138        0         0   \n",
       "1  2174        1954  Graduation         Single  46344        1         1   \n",
       "2  4141        1965  Graduation       Together  71613        0         0   \n",
       "3  6182        1984  Graduation       Together  26646        1         0   \n",
       "4  5324        1981         PhD        Married  58293        1         0   \n",
       "\n",
       "  Dt_Customer  Recency  MntWines  ...  NumWebVisitsMonth  AcceptedCmp3  \\\n",
       "0  2012-09-04       58       635  ...                  7             0   \n",
       "1  2014-03-08       38        11  ...                  5             0   \n",
       "2  2013-08-21       26       426  ...                  4             0   \n",
       "3  2014-02-10       26        11  ...                  6             0   \n",
       "4  2014-01-19       94       173  ...                  5             0   \n",
       "\n",
       "   AcceptedCmp4  AcceptedCmp5  AcceptedCmp1  AcceptedCmp2  Complain  \\\n",
       "0             0             0             0             0         0   \n",
       "1             0             0             0             0         0   \n",
       "2             0             0             0             0         0   \n",
       "3             0             0             0             0         0   \n",
       "4             0             0             0             0         0   \n",
       "\n",
       "   Z_CostContact  Z_Revenue  Response  \n",
       "0              3         11         1  \n",
       "1              3         11         0  \n",
       "2              3         11         0  \n",
       "3              3         11         0  \n",
       "4              3         11         0  \n",
       "\n",
       "[5 rows x 29 columns]"
      ]
     },
     "execution_count": 3,
     "metadata": {},
     "output_type": "execute_result"
    }
   ],
   "source": [
    "data = pd.read_csv('cleaned_marketing.csv')\n",
    "data.head()"
   ]
  },
  {
   "cell_type": "code",
   "execution_count": 16,
   "id": "46755ef4",
   "metadata": {},
   "outputs": [],
   "source": [
    "data = data[data[\"Income\"] != \" \"].copy()\n",
    "data.reset_index(drop=True, inplace = True)"
   ]
  },
  {
   "cell_type": "code",
   "execution_count": 17,
   "id": "031af359",
   "metadata": {},
   "outputs": [
    {
     "name": "stdout",
     "output_type": "stream",
     "text": [
      "<class 'pandas.core.frame.DataFrame'>\n",
      "RangeIndex: 2216 entries, 0 to 2215\n",
      "Data columns (total 29 columns):\n",
      " #   Column               Non-Null Count  Dtype         \n",
      "---  ------               --------------  -----         \n",
      " 0   ID                   2216 non-null   int64         \n",
      " 1   Year_Birth           2216 non-null   int64         \n",
      " 2   Education            2216 non-null   object        \n",
      " 3   Marital_Status       2216 non-null   object        \n",
      " 4   Income               2216 non-null   int64         \n",
      " 5   Kidhome              2216 non-null   int64         \n",
      " 6   Teenhome             2216 non-null   int64         \n",
      " 7   Dt_Customer          2216 non-null   datetime64[ns]\n",
      " 8   Recency              2216 non-null   int64         \n",
      " 9   MntWines             2216 non-null   int64         \n",
      " 10  MntFruits            2216 non-null   int64         \n",
      " 11  MntMeatProducts      2216 non-null   int64         \n",
      " 12  MntFishProducts      2216 non-null   int64         \n",
      " 13  MntSweetProducts     2216 non-null   int64         \n",
      " 14  MntGoldProds         2216 non-null   int64         \n",
      " 15  NumDealsPurchases    2216 non-null   int64         \n",
      " 16  NumWebPurchases      2216 non-null   int64         \n",
      " 17  NumCatalogPurchases  2216 non-null   int64         \n",
      " 18  NumStorePurchases    2216 non-null   int64         \n",
      " 19  NumWebVisitsMonth    2216 non-null   int64         \n",
      " 20  AcceptedCmp3         2216 non-null   int64         \n",
      " 21  AcceptedCmp4         2216 non-null   int64         \n",
      " 22  AcceptedCmp5         2216 non-null   int64         \n",
      " 23  AcceptedCmp1         2216 non-null   int64         \n",
      " 24  AcceptedCmp2         2216 non-null   int64         \n",
      " 25  Complain             2216 non-null   int64         \n",
      " 26  Z_CostContact        2216 non-null   int64         \n",
      " 27  Z_Revenue            2216 non-null   int64         \n",
      " 28  Response             2216 non-null   int64         \n",
      "dtypes: datetime64[ns](1), int64(26), object(2)\n",
      "memory usage: 502.2+ KB\n"
     ]
    }
   ],
   "source": [
    "data['Dt_Customer'] = pd.to_datetime(data['Dt_Customer'])\n",
    "data['Income'] = pd.to_numeric(data['Income'])\n",
    "data.info()"
   ]
  },
  {
   "cell_type": "code",
   "execution_count": 23,
   "id": "88c1ac57",
   "metadata": {},
   "outputs": [
    {
     "data": {
      "text/html": [
       "<div>\n",
       "<style scoped>\n",
       "    .dataframe tbody tr th:only-of-type {\n",
       "        vertical-align: middle;\n",
       "    }\n",
       "\n",
       "    .dataframe tbody tr th {\n",
       "        vertical-align: top;\n",
       "    }\n",
       "\n",
       "    .dataframe thead th {\n",
       "        text-align: right;\n",
       "    }\n",
       "</style>\n",
       "<table border=\"1\" class=\"dataframe\">\n",
       "  <thead>\n",
       "    <tr style=\"text-align: right;\">\n",
       "      <th></th>\n",
       "      <th>ID</th>\n",
       "      <th>Year_Birth</th>\n",
       "      <th>Education</th>\n",
       "      <th>Marital_Status</th>\n",
       "      <th>Income</th>\n",
       "      <th>Kidhome</th>\n",
       "      <th>Teenhome</th>\n",
       "      <th>Dt_Customer</th>\n",
       "      <th>Recency</th>\n",
       "      <th>MntWines</th>\n",
       "      <th>...</th>\n",
       "      <th>AcceptedCmp4</th>\n",
       "      <th>AcceptedCmp5</th>\n",
       "      <th>AcceptedCmp1</th>\n",
       "      <th>AcceptedCmp2</th>\n",
       "      <th>Complain</th>\n",
       "      <th>Z_CostContact</th>\n",
       "      <th>Z_Revenue</th>\n",
       "      <th>Response</th>\n",
       "      <th>age</th>\n",
       "      <th>length_of_patronage</th>\n",
       "    </tr>\n",
       "  </thead>\n",
       "  <tbody>\n",
       "    <tr>\n",
       "      <th>0</th>\n",
       "      <td>5524</td>\n",
       "      <td>1957</td>\n",
       "      <td>Graduation</td>\n",
       "      <td>Single</td>\n",
       "      <td>58138</td>\n",
       "      <td>0</td>\n",
       "      <td>0</td>\n",
       "      <td>2012-09-04</td>\n",
       "      <td>58</td>\n",
       "      <td>635</td>\n",
       "      <td>...</td>\n",
       "      <td>0</td>\n",
       "      <td>0</td>\n",
       "      <td>0</td>\n",
       "      <td>0</td>\n",
       "      <td>0</td>\n",
       "      <td>3</td>\n",
       "      <td>11</td>\n",
       "      <td>1</td>\n",
       "      <td>68</td>\n",
       "      <td>13</td>\n",
       "    </tr>\n",
       "    <tr>\n",
       "      <th>1</th>\n",
       "      <td>2174</td>\n",
       "      <td>1954</td>\n",
       "      <td>Graduation</td>\n",
       "      <td>Single</td>\n",
       "      <td>46344</td>\n",
       "      <td>1</td>\n",
       "      <td>1</td>\n",
       "      <td>2014-03-08</td>\n",
       "      <td>38</td>\n",
       "      <td>11</td>\n",
       "      <td>...</td>\n",
       "      <td>0</td>\n",
       "      <td>0</td>\n",
       "      <td>0</td>\n",
       "      <td>0</td>\n",
       "      <td>0</td>\n",
       "      <td>3</td>\n",
       "      <td>11</td>\n",
       "      <td>0</td>\n",
       "      <td>71</td>\n",
       "      <td>11</td>\n",
       "    </tr>\n",
       "    <tr>\n",
       "      <th>2</th>\n",
       "      <td>4141</td>\n",
       "      <td>1965</td>\n",
       "      <td>Graduation</td>\n",
       "      <td>Together</td>\n",
       "      <td>71613</td>\n",
       "      <td>0</td>\n",
       "      <td>0</td>\n",
       "      <td>2013-08-21</td>\n",
       "      <td>26</td>\n",
       "      <td>426</td>\n",
       "      <td>...</td>\n",
       "      <td>0</td>\n",
       "      <td>0</td>\n",
       "      <td>0</td>\n",
       "      <td>0</td>\n",
       "      <td>0</td>\n",
       "      <td>3</td>\n",
       "      <td>11</td>\n",
       "      <td>0</td>\n",
       "      <td>60</td>\n",
       "      <td>12</td>\n",
       "    </tr>\n",
       "    <tr>\n",
       "      <th>3</th>\n",
       "      <td>6182</td>\n",
       "      <td>1984</td>\n",
       "      <td>Graduation</td>\n",
       "      <td>Together</td>\n",
       "      <td>26646</td>\n",
       "      <td>1</td>\n",
       "      <td>0</td>\n",
       "      <td>2014-02-10</td>\n",
       "      <td>26</td>\n",
       "      <td>11</td>\n",
       "      <td>...</td>\n",
       "      <td>0</td>\n",
       "      <td>0</td>\n",
       "      <td>0</td>\n",
       "      <td>0</td>\n",
       "      <td>0</td>\n",
       "      <td>3</td>\n",
       "      <td>11</td>\n",
       "      <td>0</td>\n",
       "      <td>41</td>\n",
       "      <td>11</td>\n",
       "    </tr>\n",
       "    <tr>\n",
       "      <th>4</th>\n",
       "      <td>5324</td>\n",
       "      <td>1981</td>\n",
       "      <td>PhD</td>\n",
       "      <td>Married</td>\n",
       "      <td>58293</td>\n",
       "      <td>1</td>\n",
       "      <td>0</td>\n",
       "      <td>2014-01-19</td>\n",
       "      <td>94</td>\n",
       "      <td>173</td>\n",
       "      <td>...</td>\n",
       "      <td>0</td>\n",
       "      <td>0</td>\n",
       "      <td>0</td>\n",
       "      <td>0</td>\n",
       "      <td>0</td>\n",
       "      <td>3</td>\n",
       "      <td>11</td>\n",
       "      <td>0</td>\n",
       "      <td>44</td>\n",
       "      <td>11</td>\n",
       "    </tr>\n",
       "  </tbody>\n",
       "</table>\n",
       "<p>5 rows × 31 columns</p>\n",
       "</div>"
      ],
      "text/plain": [
       "     ID  Year_Birth   Education Marital_Status  Income  Kidhome  Teenhome  \\\n",
       "0  5524        1957  Graduation         Single   58138        0         0   \n",
       "1  2174        1954  Graduation         Single   46344        1         1   \n",
       "2  4141        1965  Graduation       Together   71613        0         0   \n",
       "3  6182        1984  Graduation       Together   26646        1         0   \n",
       "4  5324        1981         PhD        Married   58293        1         0   \n",
       "\n",
       "  Dt_Customer  Recency  MntWines  ...  AcceptedCmp4  AcceptedCmp5  \\\n",
       "0  2012-09-04       58       635  ...             0             0   \n",
       "1  2014-03-08       38        11  ...             0             0   \n",
       "2  2013-08-21       26       426  ...             0             0   \n",
       "3  2014-02-10       26        11  ...             0             0   \n",
       "4  2014-01-19       94       173  ...             0             0   \n",
       "\n",
       "   AcceptedCmp1  AcceptedCmp2  Complain  Z_CostContact  Z_Revenue  Response  \\\n",
       "0             0             0         0              3         11         1   \n",
       "1             0             0         0              3         11         0   \n",
       "2             0             0         0              3         11         0   \n",
       "3             0             0         0              3         11         0   \n",
       "4             0             0         0              3         11         0   \n",
       "\n",
       "   age  length_of_patronage  \n",
       "0   68                   13  \n",
       "1   71                   11  \n",
       "2   60                   12  \n",
       "3   41                   11  \n",
       "4   44                   11  \n",
       "\n",
       "[5 rows x 31 columns]"
      ]
     },
     "execution_count": 23,
     "metadata": {},
     "output_type": "execute_result"
    }
   ],
   "source": [
    "# generate age and length_of_patronage columns\n",
    "\n",
    "data['age'] = 2025 - data[\"Year_Birth\"]\n",
    "data[\"length_of_patronage\"] = [2025-x.year for x in data[\"Dt_Customer\"]]\n",
    "data.head()"
   ]
  },
  {
   "cell_type": "code",
   "execution_count": 24,
   "id": "48321963",
   "metadata": {},
   "outputs": [],
   "source": [
    "# drop year_birth, id and Dt_Customer\n",
    "\n",
    "data.drop(columns=[\"Year_Birth\",\"ID\",\"Dt_Customer\"], inplace=True)"
   ]
  },
  {
   "cell_type": "code",
   "execution_count": 28,
   "id": "48a8bad6",
   "metadata": {},
   "outputs": [
    {
     "data": {
      "text/plain": [
       "Marital_Status\n",
       "Married     857\n",
       "Together    573\n",
       "Single      478\n",
       "Divorced    232\n",
       "Widow        76\n",
       "Name: count, dtype: int64"
      ]
     },
     "execution_count": 28,
     "metadata": {},
     "output_type": "execute_result"
    }
   ],
   "source": [
    "data['Marital_Status'] = ['Single' if x in ['Alone','Absurd','YOLO'] else\n",
    "                          x for x in data['Marital_Status']]\n",
    "data[\"Marital_Status\"].value_counts()"
   ]
  },
  {
   "cell_type": "code",
   "execution_count": 29,
   "id": "564d6b4f",
   "metadata": {},
   "outputs": [],
   "source": [
    "cleaned_data = data.copy()\n",
    "\n",
    "# encode the data \n",
    "encoder = LabelEncoder()\n",
    "\n",
    "for column in list(data.select_dtypes(include='object').columns):\n",
    "    data[column] = encoder.fit_transform(data[column])"
   ]
  },
  {
   "cell_type": "code",
   "execution_count": 33,
   "id": "89648636",
   "metadata": {},
   "outputs": [
    {
     "data": {
      "text/html": [
       "<div>\n",
       "<style scoped>\n",
       "    .dataframe tbody tr th:only-of-type {\n",
       "        vertical-align: middle;\n",
       "    }\n",
       "\n",
       "    .dataframe tbody tr th {\n",
       "        vertical-align: top;\n",
       "    }\n",
       "\n",
       "    .dataframe thead th {\n",
       "        text-align: right;\n",
       "    }\n",
       "</style>\n",
       "<table border=\"1\" class=\"dataframe\">\n",
       "  <thead>\n",
       "    <tr style=\"text-align: right;\">\n",
       "      <th></th>\n",
       "      <th>Education</th>\n",
       "      <th>Marital_Status</th>\n",
       "      <th>Income</th>\n",
       "      <th>Kidhome</th>\n",
       "      <th>Teenhome</th>\n",
       "      <th>Recency</th>\n",
       "      <th>MntWines</th>\n",
       "      <th>MntFruits</th>\n",
       "      <th>MntMeatProducts</th>\n",
       "      <th>MntFishProducts</th>\n",
       "      <th>...</th>\n",
       "      <th>AcceptedCmp4</th>\n",
       "      <th>AcceptedCmp5</th>\n",
       "      <th>AcceptedCmp1</th>\n",
       "      <th>AcceptedCmp2</th>\n",
       "      <th>Complain</th>\n",
       "      <th>Z_CostContact</th>\n",
       "      <th>Z_Revenue</th>\n",
       "      <th>Response</th>\n",
       "      <th>age</th>\n",
       "      <th>length_of_patronage</th>\n",
       "    </tr>\n",
       "  </thead>\n",
       "  <tbody>\n",
       "    <tr>\n",
       "      <th>0</th>\n",
       "      <td>-0.350527</td>\n",
       "      <td>0.253130</td>\n",
       "      <td>0.234063</td>\n",
       "      <td>-0.823039</td>\n",
       "      <td>-0.928972</td>\n",
       "      <td>0.310532</td>\n",
       "      <td>0.978226</td>\n",
       "      <td>1.549429</td>\n",
       "      <td>1.690227</td>\n",
       "      <td>2.454568</td>\n",
       "      <td>...</td>\n",
       "      <td>-0.282705</td>\n",
       "      <td>-0.280839</td>\n",
       "      <td>-0.261661</td>\n",
       "      <td>-0.117148</td>\n",
       "      <td>-0.097812</td>\n",
       "      <td>0.0</td>\n",
       "      <td>0.0</td>\n",
       "      <td>2.377952</td>\n",
       "      <td>0.986443</td>\n",
       "      <td>1.500343</td>\n",
       "    </tr>\n",
       "    <tr>\n",
       "      <th>1</th>\n",
       "      <td>-0.350527</td>\n",
       "      <td>0.253130</td>\n",
       "      <td>-0.234559</td>\n",
       "      <td>1.039938</td>\n",
       "      <td>0.909066</td>\n",
       "      <td>-0.380509</td>\n",
       "      <td>-0.872024</td>\n",
       "      <td>-0.637328</td>\n",
       "      <td>-0.717986</td>\n",
       "      <td>-0.651038</td>\n",
       "      <td>...</td>\n",
       "      <td>-0.282705</td>\n",
       "      <td>-0.280839</td>\n",
       "      <td>-0.261661</td>\n",
       "      <td>-0.117148</td>\n",
       "      <td>-0.097812</td>\n",
       "      <td>0.0</td>\n",
       "      <td>0.0</td>\n",
       "      <td>-0.420530</td>\n",
       "      <td>1.236801</td>\n",
       "      <td>-1.417393</td>\n",
       "    </tr>\n",
       "    <tr>\n",
       "      <th>2</th>\n",
       "      <td>-0.350527</td>\n",
       "      <td>1.194297</td>\n",
       "      <td>0.769478</td>\n",
       "      <td>-0.823039</td>\n",
       "      <td>-0.928972</td>\n",
       "      <td>-0.795134</td>\n",
       "      <td>0.358511</td>\n",
       "      <td>0.569159</td>\n",
       "      <td>-0.178368</td>\n",
       "      <td>1.340203</td>\n",
       "      <td>...</td>\n",
       "      <td>-0.282705</td>\n",
       "      <td>-0.280839</td>\n",
       "      <td>-0.261661</td>\n",
       "      <td>-0.117148</td>\n",
       "      <td>-0.097812</td>\n",
       "      <td>0.0</td>\n",
       "      <td>0.0</td>\n",
       "      <td>-0.420530</td>\n",
       "      <td>0.318822</td>\n",
       "      <td>0.041475</td>\n",
       "    </tr>\n",
       "    <tr>\n",
       "      <th>3</th>\n",
       "      <td>-0.350527</td>\n",
       "      <td>1.194297</td>\n",
       "      <td>-1.017239</td>\n",
       "      <td>1.039938</td>\n",
       "      <td>-0.928972</td>\n",
       "      <td>-0.795134</td>\n",
       "      <td>-0.872024</td>\n",
       "      <td>-0.561922</td>\n",
       "      <td>-0.655551</td>\n",
       "      <td>-0.504892</td>\n",
       "      <td>...</td>\n",
       "      <td>-0.282705</td>\n",
       "      <td>-0.280839</td>\n",
       "      <td>-0.261661</td>\n",
       "      <td>-0.117148</td>\n",
       "      <td>-0.097812</td>\n",
       "      <td>0.0</td>\n",
       "      <td>0.0</td>\n",
       "      <td>-0.420530</td>\n",
       "      <td>-1.266777</td>\n",
       "      <td>-1.417393</td>\n",
       "    </tr>\n",
       "    <tr>\n",
       "      <th>4</th>\n",
       "      <td>1.429011</td>\n",
       "      <td>-0.688038</td>\n",
       "      <td>0.240221</td>\n",
       "      <td>1.039938</td>\n",
       "      <td>-0.928972</td>\n",
       "      <td>1.554407</td>\n",
       "      <td>-0.391671</td>\n",
       "      <td>0.418348</td>\n",
       "      <td>-0.218505</td>\n",
       "      <td>0.152766</td>\n",
       "      <td>...</td>\n",
       "      <td>-0.282705</td>\n",
       "      <td>-0.280839</td>\n",
       "      <td>-0.261661</td>\n",
       "      <td>-0.117148</td>\n",
       "      <td>-0.097812</td>\n",
       "      <td>0.0</td>\n",
       "      <td>0.0</td>\n",
       "      <td>-0.420530</td>\n",
       "      <td>-1.016420</td>\n",
       "      <td>-1.417393</td>\n",
       "    </tr>\n",
       "  </tbody>\n",
       "</table>\n",
       "<p>5 rows × 28 columns</p>\n",
       "</div>"
      ],
      "text/plain": [
       "   Education  Marital_Status    Income   Kidhome  Teenhome   Recency  \\\n",
       "0  -0.350527        0.253130  0.234063 -0.823039 -0.928972  0.310532   \n",
       "1  -0.350527        0.253130 -0.234559  1.039938  0.909066 -0.380509   \n",
       "2  -0.350527        1.194297  0.769478 -0.823039 -0.928972 -0.795134   \n",
       "3  -0.350527        1.194297 -1.017239  1.039938 -0.928972 -0.795134   \n",
       "4   1.429011       -0.688038  0.240221  1.039938 -0.928972  1.554407   \n",
       "\n",
       "   MntWines  MntFruits  MntMeatProducts  MntFishProducts  ...  AcceptedCmp4  \\\n",
       "0  0.978226   1.549429         1.690227         2.454568  ...     -0.282705   \n",
       "1 -0.872024  -0.637328        -0.717986        -0.651038  ...     -0.282705   \n",
       "2  0.358511   0.569159        -0.178368         1.340203  ...     -0.282705   \n",
       "3 -0.872024  -0.561922        -0.655551        -0.504892  ...     -0.282705   \n",
       "4 -0.391671   0.418348        -0.218505         0.152766  ...     -0.282705   \n",
       "\n",
       "   AcceptedCmp5  AcceptedCmp1  AcceptedCmp2  Complain  Z_CostContact  \\\n",
       "0     -0.280839     -0.261661     -0.117148 -0.097812            0.0   \n",
       "1     -0.280839     -0.261661     -0.117148 -0.097812            0.0   \n",
       "2     -0.280839     -0.261661     -0.117148 -0.097812            0.0   \n",
       "3     -0.280839     -0.261661     -0.117148 -0.097812            0.0   \n",
       "4     -0.280839     -0.261661     -0.117148 -0.097812            0.0   \n",
       "\n",
       "   Z_Revenue  Response       age  length_of_patronage  \n",
       "0        0.0  2.377952  0.986443             1.500343  \n",
       "1        0.0 -0.420530  1.236801            -1.417393  \n",
       "2        0.0 -0.420530  0.318822             0.041475  \n",
       "3        0.0 -0.420530 -1.266777            -1.417393  \n",
       "4        0.0 -0.420530 -1.016420            -1.417393  \n",
       "\n",
       "[5 rows x 28 columns]"
      ]
     },
     "execution_count": 33,
     "metadata": {},
     "output_type": "execute_result"
    }
   ],
   "source": [
    "# scaling.\n",
    "\n",
    "scaler = StandardScaler()\n",
    "data = scaler.fit_transform(data)\n",
    "data = pd.DataFrame(data=data, columns = list(cleaned_data.columns))\n",
    "data.head()"
   ]
  },
  {
   "cell_type": "code",
   "execution_count": 34,
   "id": "6dc21d94",
   "metadata": {},
   "outputs": [
    {
     "data": {
      "text/html": [
       "<div>\n",
       "<style scoped>\n",
       "    .dataframe tbody tr th:only-of-type {\n",
       "        vertical-align: middle;\n",
       "    }\n",
       "\n",
       "    .dataframe tbody tr th {\n",
       "        vertical-align: top;\n",
       "    }\n",
       "\n",
       "    .dataframe thead th {\n",
       "        text-align: right;\n",
       "    }\n",
       "</style>\n",
       "<table border=\"1\" class=\"dataframe\">\n",
       "  <thead>\n",
       "    <tr style=\"text-align: right;\">\n",
       "      <th></th>\n",
       "      <th>col_1</th>\n",
       "      <th>col_2</th>\n",
       "      <th>col_3</th>\n",
       "    </tr>\n",
       "  </thead>\n",
       "  <tbody>\n",
       "    <tr>\n",
       "      <th>0</th>\n",
       "      <td>3.820632</td>\n",
       "      <td>0.218436</td>\n",
       "      <td>-0.291975</td>\n",
       "    </tr>\n",
       "    <tr>\n",
       "      <th>1</th>\n",
       "      <td>-2.433868</td>\n",
       "      <td>-0.231073</td>\n",
       "      <td>-0.316547</td>\n",
       "    </tr>\n",
       "    <tr>\n",
       "      <th>2</th>\n",
       "      <td>1.623851</td>\n",
       "      <td>-0.221575</td>\n",
       "      <td>-1.103518</td>\n",
       "    </tr>\n",
       "    <tr>\n",
       "      <th>3</th>\n",
       "      <td>-2.562849</td>\n",
       "      <td>-1.643803</td>\n",
       "      <td>0.235809</td>\n",
       "    </tr>\n",
       "    <tr>\n",
       "      <th>4</th>\n",
       "      <td>-0.491134</td>\n",
       "      <td>-0.227614</td>\n",
       "      <td>-0.501157</td>\n",
       "    </tr>\n",
       "  </tbody>\n",
       "</table>\n",
       "</div>"
      ],
      "text/plain": [
       "      col_1     col_2     col_3\n",
       "0  3.820632  0.218436 -0.291975\n",
       "1 -2.433868 -0.231073 -0.316547\n",
       "2  1.623851 -0.221575 -1.103518\n",
       "3 -2.562849 -1.643803  0.235809\n",
       "4 -0.491134 -0.227614 -0.501157"
      ]
     },
     "execution_count": 34,
     "metadata": {},
     "output_type": "execute_result"
    }
   ],
   "source": [
    "# pca \n",
    "\n",
    "\n",
    "pca = PCA(n_components=3, random_state=23)\n",
    "columns = ['col_1','col_2','col_3']\n",
    "data = pca.fit_transform(data)\n",
    "\n",
    "data = pd.DataFrame(data=data, columns=columns)\n",
    "data.head()"
   ]
  },
  {
   "cell_type": "code",
   "execution_count": 35,
   "id": "0d0b1804",
   "metadata": {},
   "outputs": [],
   "source": [
    "# kmeans\n",
    "\n",
    "kmeans = KMeans(n_clusters=4, n_init=\"auto\", random_state=23)\n",
    "kmeans.fit(data)\n",
    "preds = kmeans.labels_"
   ]
  },
  {
   "cell_type": "code",
   "execution_count": 37,
   "id": "fb9e9e83",
   "metadata": {},
   "outputs": [
    {
     "data": {
      "application/vnd.plotly.v1+json": {
       "config": {
        "plotlyServerURL": "https://plot.ly"
       },
       "data": [
        {
         "hovertemplate": "col_1=%{x}<br>col_2=%{y}<br>col_3=%{z}<br>color=%{marker.color}<extra></extra>",
         "legendgroup": "",
         "marker": {
          "color": {
           "bdata": "AAAAAAEAAAAAAAAAAQAAAAEAAAADAAAAAwAAAAEAAAABAAAAAQAAAAEAAAAAAAAAAwAAAAEAAAACAAAAAQAAAAMAAAAAAAAAAQAAAAEAAAAAAAAAAwAAAAMAAAADAAAAAQAAAAEAAAABAAAAAAAAAAEAAAABAAAAAQAAAAMAAAAAAAAAAQAAAAMAAAABAAAAAQAAAAAAAAAAAAAAAQAAAAEAAAABAAAAAAAAAAEAAAABAAAAAwAAAAMAAAAAAAAAAQAAAAIAAAADAAAAAgAAAAAAAAABAAAAAwAAAAIAAAADAAAAAwAAAAMAAAAAAAAAAQAAAAEAAAACAAAAAwAAAAMAAAAAAAAAAwAAAAMAAAABAAAAAQAAAAAAAAAAAAAAAQAAAAMAAAABAAAAAQAAAAEAAAABAAAAAAAAAAEAAAABAAAAAwAAAAAAAAABAAAAAQAAAAEAAAABAAAAAwAAAAEAAAAAAAAAAwAAAAEAAAABAAAAAAAAAAAAAAAAAAAAAQAAAAEAAAADAAAAAQAAAAAAAAAAAAAAAgAAAAMAAAACAAAAAwAAAAEAAAACAAAAAwAAAAEAAAABAAAAAwAAAAEAAAABAAAAAQAAAAIAAAAAAAAAAAAAAAEAAAADAAAAAwAAAAMAAAAAAAAAAwAAAAAAAAABAAAAAQAAAAEAAAABAAAAAAAAAAMAAAAAAAAAAwAAAAEAAAADAAAAAQAAAAEAAAABAAAAAQAAAAMAAAADAAAAAwAAAAEAAAADAAAAAgAAAAMAAAABAAAAAQAAAAAAAAABAAAAAwAAAAEAAAAAAAAAAAAAAAEAAAAAAAAAAQAAAAAAAAABAAAAAQAAAAEAAAABAAAAAQAAAAEAAAAAAAAAAgAAAAEAAAABAAAAAAAAAAEAAAABAAAAAAAAAAEAAAABAAAAAQAAAAEAAAADAAAAAAAAAAEAAAABAAAAAAAAAAEAAAABAAAAAQAAAAEAAAAAAAAAAAAAAAAAAAABAAAAAwAAAAAAAAADAAAAAgAAAAEAAAABAAAAAQAAAAMAAAABAAAAAwAAAAMAAAAAAAAAAwAAAAMAAAAAAAAAAQAAAAEAAAACAAAAAwAAAAMAAAABAAAAAAAAAAMAAAABAAAAAwAAAAEAAAADAAAAAwAAAAAAAAABAAAAAwAAAAAAAAABAAAAAQAAAAMAAAABAAAAAQAAAAMAAAABAAAAAQAAAAAAAAAAAAAAAQAAAAIAAAADAAAAAQAAAAIAAAADAAAAAAAAAAAAAAABAAAAAQAAAAIAAAABAAAAAwAAAAEAAAADAAAAAwAAAAEAAAABAAAAAQAAAAMAAAABAAAAAQAAAAMAAAABAAAAAAAAAAEAAAAAAAAAAQAAAAAAAAABAAAAAQAAAAEAAAABAAAAAwAAAAAAAAAAAAAAAgAAAAMAAAABAAAAAwAAAAMAAAADAAAAAQAAAAEAAAAAAAAAAwAAAAAAAAADAAAAAQAAAAEAAAAAAAAAAQAAAAEAAAADAAAAAQAAAAEAAAAAAAAAAwAAAAEAAAADAAAAAQAAAAEAAAABAAAAAAAAAAEAAAAAAAAAAwAAAAEAAAABAAAAAQAAAAAAAAABAAAAAQAAAAEAAAABAAAAAQAAAAMAAAABAAAAAQAAAAMAAAADAAAAAAAAAAEAAAABAAAAAQAAAAEAAAABAAAAAQAAAAMAAAABAAAAAQAAAAAAAAACAAAAAQAAAAIAAAAAAAAAAAAAAAEAAAADAAAAAwAAAAEAAAAAAAAAAQAAAAAAAAABAAAAAQAAAAMAAAAAAAAAAwAAAAAAAAADAAAAAQAAAAEAAAAAAAAAAwAAAAMAAAAAAAAAAwAAAAEAAAABAAAAAwAAAAMAAAAAAAAAAQAAAAAAAAADAAAAAQAAAAMAAAABAAAAAwAAAAEAAAABAAAAAQAAAAEAAAADAAAAAQAAAAEAAAABAAAAAwAAAAEAAAABAAAAAQAAAAMAAAADAAAAAQAAAAMAAAAAAAAAAQAAAAAAAAABAAAAAwAAAAAAAAABAAAAAQAAAAEAAAABAAAAAQAAAAAAAAABAAAAAQAAAAMAAAABAAAAAQAAAAEAAAABAAAAAwAAAAEAAAAAAAAAAwAAAAEAAAADAAAAAAAAAAEAAAACAAAAAgAAAAMAAAABAAAAAQAAAAEAAAACAAAAAAAAAAEAAAACAAAAAgAAAAEAAAAAAAAAAgAAAAMAAAADAAAAAAAAAAEAAAABAAAAAwAAAAMAAAABAAAAAQAAAAEAAAADAAAAAQAAAAEAAAABAAAAAQAAAAEAAAAAAAAAAQAAAAMAAAADAAAAAwAAAAEAAAADAAAAAwAAAAMAAAACAAAAAQAAAAMAAAAAAAAAAwAAAAAAAAABAAAAAAAAAAEAAAAAAAAAAgAAAAEAAAADAAAAAwAAAAAAAAABAAAAAwAAAAEAAAABAAAAAwAAAAEAAAADAAAAAwAAAAMAAAABAAAAAQAAAAEAAAABAAAAAAAAAAAAAAADAAAAAwAAAAEAAAABAAAAAAAAAAEAAAAAAAAAAwAAAAMAAAADAAAAAQAAAAMAAAADAAAAAAAAAAEAAAABAAAAAQAAAAMAAAABAAAAAwAAAAAAAAAAAAAAAQAAAAMAAAABAAAAAAAAAAMAAAAAAAAAAwAAAAAAAAABAAAAAQAAAAAAAAACAAAAAQAAAAAAAAABAAAAAgAAAAEAAAABAAAAAAAAAAAAAAAAAAAAAwAAAAMAAAAAAAAAAwAAAAEAAAABAAAAAwAAAAEAAAACAAAAAwAAAAEAAAABAAAAAQAAAAEAAAACAAAAAAAAAAEAAAAAAAAAAQAAAAEAAAABAAAAAQAAAAEAAAADAAAAAQAAAAAAAAADAAAAAAAAAAAAAAABAAAAAgAAAAEAAAAAAAAAAwAAAAAAAAADAAAAAwAAAAMAAAABAAAAAQAAAAEAAAADAAAAAQAAAAEAAAADAAAAAQAAAAIAAAABAAAAAQAAAAEAAAADAAAAAwAAAAMAAAABAAAAAQAAAAEAAAABAAAAAgAAAAMAAAADAAAAAQAAAAEAAAACAAAAAAAAAAEAAAAAAAAAAQAAAAEAAAABAAAAAQAAAAEAAAABAAAAAwAAAAAAAAADAAAAAQAAAAEAAAABAAAAAQAAAAEAAAAAAAAAAQAAAAEAAAABAAAAAQAAAAAAAAADAAAAAQAAAAEAAAABAAAAAwAAAAMAAAABAAAAAgAAAAEAAAAAAAAAAQAAAAAAAAADAAAAAQAAAAEAAAADAAAAAAAAAAAAAAABAAAAAAAAAAEAAAAAAAAAAwAAAAMAAAAAAAAAAwAAAAAAAAADAAAAAwAAAAIAAAADAAAAAgAAAAEAAAAAAAAAAwAAAAAAAAABAAAAAwAAAAEAAAADAAAAAQAAAAEAAAABAAAAAAAAAAMAAAADAAAAAQAAAAAAAAABAAAAAQAAAAEAAAABAAAAAQAAAAEAAAABAAAAAAAAAAMAAAAAAAAAAAAAAAMAAAABAAAAAwAAAAAAAAABAAAAAAAAAAMAAAAAAAAAAAAAAAMAAAAAAAAAAwAAAAAAAAAAAAAAAgAAAAAAAAADAAAAAAAAAAMAAAABAAAAAQAAAAMAAAABAAAAAQAAAAMAAAAAAAAAAwAAAAAAAAADAAAAAgAAAAEAAAAAAAAAAQAAAAMAAAADAAAAAQAAAAEAAAADAAAAAQAAAAMAAAABAAAAAAAAAAAAAAABAAAAAwAAAAEAAAADAAAAAwAAAAEAAAAAAAAAAQAAAAEAAAAAAAAAAAAAAAMAAAAAAAAAAQAAAAMAAAADAAAAAwAAAAIAAAACAAAAAAAAAAMAAAABAAAAAAAAAAMAAAABAAAAAQAAAAEAAAAAAAAAAAAAAAEAAAAAAAAAAQAAAAAAAAAAAAAAAwAAAAAAAAACAAAAAAAAAAAAAAADAAAAAwAAAAEAAAABAAAAAQAAAAMAAAAAAAAAAQAAAAAAAAADAAAAAAAAAAAAAAABAAAAAwAAAAAAAAAAAAAAAwAAAAEAAAABAAAAAQAAAAEAAAAAAAAAAQAAAAAAAAAAAAAAAQAAAAEAAAABAAAAAQAAAAEAAAABAAAAAwAAAAMAAAADAAAAAAAAAAIAAAABAAAAAQAAAAEAAAADAAAAAwAAAAMAAAAAAAAAAQAAAAMAAAABAAAAAQAAAAAAAAACAAAAAwAAAAEAAAADAAAAAwAAAAAAAAABAAAAAQAAAAAAAAADAAAAAAAAAAMAAAABAAAAAwAAAAMAAAABAAAAAgAAAAEAAAACAAAAAQAAAAIAAAAAAAAAAwAAAAEAAAAAAAAAAQAAAAEAAAADAAAAAwAAAAEAAAABAAAAAAAAAAEAAAAAAAAAAQAAAAMAAAABAAAAAwAAAAEAAAABAAAAAAAAAAIAAAAAAAAAAwAAAAEAAAABAAAAAwAAAAMAAAAAAAAAAQAAAAMAAAAAAAAAAQAAAAMAAAABAAAAAAAAAAEAAAABAAAAAQAAAAEAAAABAAAAAwAAAAMAAAABAAAAAwAAAAEAAAACAAAAAwAAAAEAAAABAAAAAAAAAAIAAAADAAAAAQAAAAAAAAABAAAAAQAAAAEAAAABAAAAAQAAAAAAAAAAAAAAAwAAAAEAAAADAAAAAAAAAAEAAAADAAAAAAAAAAEAAAAAAAAAAwAAAAAAAAAAAAAAAQAAAAEAAAAAAAAAAQAAAAAAAAABAAAAAwAAAAAAAAACAAAAAQAAAAEAAAABAAAAAAAAAAAAAAADAAAAAQAAAAIAAAAAAAAAAAAAAAIAAAADAAAAAAAAAAEAAAAAAAAAAQAAAAEAAAAAAAAAAwAAAAAAAAAAAAAAAAAAAAAAAAAAAAAAAQAAAAMAAAABAAAAAAAAAAEAAAAAAAAAAwAAAAMAAAADAAAAAwAAAAMAAAAAAAAAAgAAAAEAAAACAAAAAAAAAAEAAAABAAAAAwAAAAEAAAABAAAAAQAAAAEAAAABAAAAAQAAAAMAAAADAAAAAQAAAAMAAAAAAAAAAwAAAAEAAAABAAAAAQAAAAMAAAACAAAAAQAAAAEAAAADAAAAAAAAAAEAAAABAAAAAwAAAAAAAAAAAAAAAAAAAAMAAAABAAAAAwAAAAEAAAABAAAAAQAAAAMAAAACAAAAAwAAAAAAAAACAAAAAAAAAAEAAAACAAAAAQAAAAMAAAAAAAAAAQAAAAEAAAAAAAAAAQAAAAAAAAADAAAAAgAAAAIAAAADAAAAAQAAAAMAAAADAAAAAwAAAAAAAAABAAAAAQAAAAIAAAABAAAAAQAAAAEAAAABAAAAAAAAAAAAAAABAAAAAQAAAAEAAAABAAAAAQAAAAMAAAABAAAAAQAAAAAAAAABAAAAAQAAAAEAAAADAAAAAgAAAAAAAAAAAAAAAQAAAAAAAAABAAAAAQAAAAEAAAABAAAAAwAAAAMAAAABAAAAAQAAAAAAAAABAAAAAQAAAAEAAAAAAAAAAwAAAAMAAAAAAAAAAQAAAAAAAAABAAAAAQAAAAAAAAADAAAAAQAAAAAAAAAAAAAAAwAAAAMAAAAAAAAAAQAAAAMAAAABAAAAAgAAAAMAAAABAAAAAAAAAAEAAAAAAAAAAwAAAAEAAAADAAAAAAAAAAIAAAABAAAAAQAAAAEAAAAAAAAAAQAAAAAAAAABAAAAAgAAAAMAAAABAAAAAgAAAAEAAAAAAAAAAAAAAAEAAAAAAAAAAQAAAAEAAAADAAAAAwAAAAAAAAABAAAAAwAAAAIAAAADAAAAAQAAAAEAAAABAAAAAAAAAAEAAAABAAAAAwAAAAMAAAAAAAAAAgAAAAEAAAAAAAAAAQAAAAMAAAABAAAAAQAAAAEAAAADAAAAAwAAAAEAAAADAAAAAQAAAAMAAAADAAAAAwAAAAEAAAABAAAAAAAAAAMAAAABAAAAAQAAAAAAAAACAAAAAQAAAAEAAAAAAAAAAQAAAAMAAAADAAAAAQAAAAEAAAABAAAAAAAAAAEAAAABAAAAAwAAAAMAAAABAAAAAwAAAAAAAAABAAAAAgAAAAEAAAABAAAAAwAAAAAAAAAAAAAAAAAAAAEAAAADAAAAAwAAAAAAAAABAAAAAwAAAAEAAAABAAAAAAAAAAAAAAABAAAAAQAAAAAAAAADAAAAAQAAAAMAAAABAAAAAwAAAAEAAAAAAAAAAwAAAAEAAAADAAAAAQAAAAEAAAABAAAAAQAAAAMAAAABAAAAAQAAAAAAAAACAAAAAQAAAAEAAAABAAAAAwAAAAEAAAADAAAAAAAAAAAAAAABAAAAAwAAAAMAAAABAAAAAAAAAAMAAAAAAAAAAQAAAAEAAAABAAAAAwAAAAAAAAAAAAAAAAAAAAMAAAABAAAAAwAAAAEAAAAAAAAAAQAAAAEAAAABAAAAAAAAAAEAAAABAAAAAwAAAAMAAAABAAAAAwAAAAEAAAABAAAAAQAAAAEAAAABAAAAAQAAAAAAAAABAAAAAgAAAAEAAAABAAAAAQAAAAEAAAAAAAAAAAAAAAEAAAABAAAAAQAAAAEAAAABAAAAAwAAAAIAAAADAAAAAAAAAAAAAAADAAAAAwAAAAMAAAAAAAAAAQAAAAIAAAABAAAAAgAAAAIAAAABAAAAAQAAAAIAAAADAAAAAQAAAAMAAAAAAAAAAwAAAAMAAAABAAAAAwAAAAEAAAADAAAAAQAAAAEAAAAAAAAAAwAAAAIAAAACAAAAAQAAAAMAAAADAAAAAQAAAAMAAAABAAAAAgAAAAAAAAABAAAAAQAAAAEAAAABAAAAAQAAAAMAAAABAAAAAwAAAAAAAAABAAAAAQAAAAIAAAABAAAAAQAAAAAAAAADAAAAAwAAAAIAAAACAAAAAwAAAAMAAAAAAAAAAwAAAAAAAAABAAAAAQAAAAMAAAABAAAAAQAAAAEAAAAAAAAAAwAAAAAAAAABAAAAAQAAAAMAAAABAAAAAQAAAAEAAAAAAAAAAQAAAAMAAAACAAAAAAAAAAIAAAADAAAAAAAAAAEAAAABAAAAAQAAAAMAAAADAAAAAwAAAAEAAAABAAAAAQAAAAEAAAADAAAAAwAAAAAAAAAAAAAAAAAAAAEAAAABAAAAAgAAAAAAAAABAAAAAAAAAAAAAAABAAAAAwAAAAEAAAADAAAAAAAAAAMAAAAAAAAAAwAAAAEAAAABAAAAAQAAAAEAAAABAAAAAQAAAAMAAAADAAAAAwAAAAMAAAABAAAAAwAAAAEAAAABAAAAAQAAAAIAAAABAAAAAQAAAAAAAAADAAAAAQAAAAEAAAABAAAAAQAAAAMAAAABAAAAAQAAAAMAAAADAAAAAwAAAAMAAAABAAAAAwAAAAMAAAABAAAAAwAAAAMAAAADAAAAAQAAAAMAAAACAAAAAQAAAAAAAAABAAAAAwAAAAEAAAABAAAAAQAAAAEAAAABAAAAAAAAAAMAAAABAAAAAQAAAAEAAAABAAAAAQAAAAEAAAAAAAAAAQAAAAEAAAACAAAAAQAAAAMAAAABAAAAAwAAAAEAAAABAAAAAQAAAAEAAAABAAAAAQAAAAIAAAACAAAAAAAAAAAAAAADAAAAAAAAAAMAAAABAAAAAAAAAAAAAAABAAAAAwAAAAAAAAABAAAAAQAAAAIAAAADAAAAAwAAAAMAAAABAAAAAQAAAAEAAAADAAAAAwAAAAAAAAABAAAAAAAAAAEAAAABAAAAAQAAAAIAAAADAAAAAQAAAAAAAAABAAAAAQAAAAMAAAAAAAAAAwAAAAEAAAABAAAAAAAAAAMAAAAAAAAAAwAAAAAAAAABAAAAAwAAAAMAAAACAAAAAwAAAAEAAAAAAAAAAQAAAAMAAAADAAAAAAAAAAMAAAABAAAAAwAAAAMAAAADAAAAAAAAAAMAAAAAAAAAAAAAAAMAAAAAAAAAAQAAAAAAAAAAAAAAAQAAAAEAAAADAAAAAQAAAAEAAAABAAAAAAAAAAAAAAABAAAAAQAAAAEAAAADAAAAAAAAAAEAAAACAAAAAQAAAAMAAAADAAAAAwAAAAEAAAABAAAAAQAAAAEAAAAAAAAAAwAAAAMAAAABAAAAAwAAAAAAAAABAAAAAwAAAAEAAAABAAAAAQAAAAMAAAABAAAAAQAAAAAAAAAAAAAAAAAAAAMAAAABAAAAAwAAAAEAAAABAAAAAwAAAAEAAAADAAAAAQAAAAAAAAABAAAAAwAAAAMAAAAAAAAAAwAAAAMAAAACAAAAAQAAAAIAAAABAAAAAwAAAAMAAAABAAAAAgAAAAEAAAADAAAAAQAAAAAAAAAAAAAAAQAAAAAAAAABAAAAAwAAAAAAAAABAAAAAAAAAAEAAAAAAAAAAQAAAAMAAAABAAAAAwAAAAEAAAABAAAAAAAAAAEAAAADAAAAAAAAAAMAAAABAAAAAQAAAAEAAAAAAAAAAwAAAAMAAAADAAAAAAAAAAEAAAAAAAAAAQAAAAEAAAAAAAAAAQAAAAEAAAABAAAAAwAAAAMAAAABAAAAAAAAAAMAAAABAAAAAwAAAAMAAAAAAAAAAQAAAAEAAAAAAAAAAQAAAAEAAAABAAAAAwAAAAMAAAADAAAAAAAAAAEAAAABAAAAAQAAAAIAAAADAAAAAQAAAAAAAAABAAAAAwAAAAAAAAAAAAAAAQAAAAEAAAAAAAAAAQAAAAAAAAABAAAAAQAAAAMAAAADAAAAAwAAAAIAAAADAAAAAQAAAAMAAAABAAAAAQAAAAEAAAADAAAAAQAAAAMAAAAAAAAAAgAAAAAAAAACAAAAAAAAAAAAAAABAAAAAQAAAAEAAAABAAAAAQAAAAAAAAABAAAAAQAAAAEAAAADAAAAAQAAAAAAAAACAAAAAwAAAAAAAAADAAAAAAAAAAEAAAABAAAAAQAAAAAAAAABAAAAAAAAAAEAAAAAAAAAAwAAAAEAAAABAAAAAwAAAAEAAAABAAAAAwAAAAMAAAAAAAAAAQAAAAIAAAACAAAAAQAAAAAAAAABAAAAAwAAAAMAAAABAAAAAQAAAAMAAAABAAAAAgAAAAIAAAAAAAAAAQAAAAEAAAADAAAAAQAAAAMAAAAAAAAAAQAAAAEAAAABAAAAAAAAAAAAAAADAAAAAwAAAAAAAAADAAAAAQAAAAMAAAABAAAAAQAAAAAAAAADAAAAAAAAAAEAAAAAAAAAAAAAAAIAAAADAAAAAwAAAAEAAAADAAAAAQAAAAEAAAABAAAAAQAAAAEAAAAAAAAAAAAAAAEAAAADAAAAAAAAAAEAAAADAAAAAQAAAAAAAAABAAAAAQAAAAEAAAABAAAAAAAAAAAAAAABAAAAAwAAAAEAAAABAAAAAQAAAAAAAAABAAAAAQAAAAAAAAADAAAAAQAAAAEAAAADAAAAAQAAAAMAAAAAAAAAAQAAAAEAAAAAAAAAAQAAAAEAAAABAAAAAwAAAAEAAAADAAAAAAAAAAAAAAAAAAAAAQAAAAMAAAABAAAAAwAAAAMAAAABAAAAAAAAAAAAAAABAAAAAwAAAAAAAAAAAAAAAAAAAAEAAAADAAAAAAAAAAMAAAABAAAAAAAAAAEAAAABAAAAAAAAAAAAAAABAAAAAwAAAAAAAAAAAAAAAQAAAAEAAAABAAAAAwAAAAEAAAABAAAAAQAAAAAAAAADAAAAAwAAAAMAAAABAAAAAgAAAAEAAAAAAAAAAwAAAAIAAAABAAAAAQAAAAMAAAABAAAAAgAAAAEAAAAAAAAAAAAAAAAAAAADAAAAAQAAAAEAAAAAAAAAAwAAAAMAAAABAAAAAwAAAAAAAAACAAAAAwAAAAEAAAABAAAAAQAAAAIAAAABAAAAAAAAAAEAAAADAAAAAQAAAAEAAAADAAAAAAAAAAMAAAAAAAAAAAAAAAEAAAABAAAAAwAAAAEAAAABAAAAAQAAAAAAAAADAAAAAQAAAAAAAAACAAAAAQAAAAMAAAAAAAAAAwAAAAEAAAAAAAAAAAAAAAMAAAABAAAAAQAAAAEAAAABAAAAAwAAAAAAAAADAAAAAQAAAAEAAAABAAAAAAAAAAAAAAAAAAAAAgAAAAMAAAADAAAAAQAAAAEAAAABAAAAAQAAAAEAAAAAAAAAAgAAAAAAAAAAAAAAAQAAAAMAAAAAAAAAAAAAAAMAAAABAAAAAwAAAAEAAAABAAAAAAAAAAEAAAADAAAAAwAAAAEAAAABAAAAAgAAAAEAAAABAAAAAAAAAAEAAAAAAAAAAAAAAAAAAAABAAAAAQAAAAEAAAADAAAAAAAAAAAAAAADAAAAAAAAAAEAAAADAAAAAgAAAAEAAAAAAAAAAgAAAAEAAAABAAAAAQAAAAAAAAADAAAAAAAAAAAAAAACAAAAAwAAAAEAAAABAAAAAwAAAAEAAAADAAAAAAAAAAEAAAABAAAAAQAAAAEAAAABAAAAAgAAAAEAAAADAAAAAQAAAAEAAAABAAAAAQAAAAMAAAACAAAAAQAAAAIAAAACAAAAAQAAAAIAAAACAAAAAwAAAAEAAAABAAAAAQAAAAEAAAABAAAAAQAAAAEAAAABAAAAAAAAAAMAAAADAAAAAwAAAAAAAAABAAAAAgAAAAAAAAAAAAAAAQAAAAEAAAABAAAAAQAAAAEAAAABAAAAAQAAAAMAAAADAAAAAAAAAAEAAAABAAAAAQAAAAMAAAABAAAAAwAAAAMAAAABAAAAAAAAAAEAAAADAAAAAwAAAAMAAAABAAAAAAAAAAAAAAADAAAAAQAAAAEAAAADAAAAAQAAAAEAAAACAAAAAAAAAAAAAAABAAAAAwAAAAAAAAABAAAAAQAAAAEAAAAAAAAAAwAAAAMAAAABAAAAAAAAAAEAAAADAAAAAAAAAAEAAAADAAAAAQAAAAEAAAADAAAAAAAAAAEAAAAAAAAAAAAAAAAAAAABAAAAAQAAAAEAAAADAAAAAAAAAAMAAAAAAAAAAAAAAAEAAAABAAAAAwAAAAEAAAADAAAAAgAAAAMAAAABAAAAAAAAAAMAAAACAAAAAgAAAAEAAAADAAAAAQAAAAIAAAABAAAAAQAAAAEAAAADAAAAAwAAAAIAAAADAAAAAwAAAAEAAAABAAAAAwAAAAMAAAABAAAAAwAAAAAAAAABAAAAAQAAAAEAAAABAAAAAAAAAAEAAAACAAAAAwAAAAIAAAADAAAAAQAAAAEAAAACAAAAAQAAAAEAAAAAAAAAAwAAAAEAAAABAAAAAQAAAAEAAAABAAAAAQAAAAEAAAABAAAAAwAAAAIAAAABAAAAAQAAAAMAAAABAAAAAQAAAAAAAAABAAAAAQAAAAEAAAABAAAAAQAAAAEAAAADAAAAAQAAAAMAAAABAAAAAwAAAAAAAAABAAAAAQAAAAAAAAACAAAAAgAAAAEAAAADAAAAAgAAAAAAAAADAAAAAwAAAAIAAAAAAAAAAwAAAAMAAAADAAAAAQAAAAMAAAABAAAAAQAAAAEAAAADAAAAAwAAAAAAAAAAAAAAAQAAAAAAAAABAAAAAQAAAAIAAAADAAAAAQAAAAEAAAADAAAAAwAAAAEAAAABAAAAAwAAAAMAAAAAAAAAAQAAAAEAAAAAAAAAAQAAAAEAAAABAAAAAwAAAAAAAAABAAAAAAAAAAEAAAABAAAAAQAAAAAAAAABAAAAAQAAAAMAAAACAAAAAQAAAAEAAAADAAAAAwAAAAMAAAADAAAAAQAAAAEAAAADAAAAAQAAAAAAAAABAAAAAAAAAAMAAAADAAAAAAAAAAMAAAA=",
           "dtype": "i4"
          },
          "coloraxis": "coloraxis",
          "symbol": "circle"
         },
         "mode": "markers",
         "name": "",
         "scene": "scene",
         "showlegend": false,
         "type": "scatter3d",
         "x": {
          "bdata": "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",
          "dtype": "f8"
         },
         "y": {
          "bdata": "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",
          "dtype": "f8"
         },
         "z": {
          "bdata": "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",
          "dtype": "f8"
         }
        }
       ],
       "layout": {
        "coloraxis": {
         "colorbar": {
          "title": {
           "text": "color"
          }
         },
         "colorscale": [
          [
           0,
           "#0d0887"
          ],
          [
           0.1111111111111111,
           "#46039f"
          ],
          [
           0.2222222222222222,
           "#7201a8"
          ],
          [
           0.3333333333333333,
           "#9c179e"
          ],
          [
           0.4444444444444444,
           "#bd3786"
          ],
          [
           0.5555555555555556,
           "#d8576b"
          ],
          [
           0.6666666666666666,
           "#ed7953"
          ],
          [
           0.7777777777777778,
           "#fb9f3a"
          ],
          [
           0.8888888888888888,
           "#fdca26"
          ],
          [
           1,
           "#f0f921"
          ]
         ]
        },
        "legend": {
         "tracegroupgap": 0
        },
        "margin": {
         "t": 60
        },
        "scene": {
         "domain": {
          "x": [
           0,
           1
          ],
          "y": [
           0,
           1
          ]
         },
         "xaxis": {
          "title": {
           "text": "col_1"
          }
         },
         "yaxis": {
          "title": {
           "text": "col_2"
          }
         },
         "zaxis": {
          "title": {
           "text": "col_3"
          }
         }
        },
        "template": {
         "data": {
          "bar": [
           {
            "error_x": {
             "color": "#2a3f5f"
            },
            "error_y": {
             "color": "#2a3f5f"
            },
            "marker": {
             "line": {
              "color": "#E5ECF6",
              "width": 0.5
             },
             "pattern": {
              "fillmode": "overlay",
              "size": 10,
              "solidity": 0.2
             }
            },
            "type": "bar"
           }
          ],
          "barpolar": [
           {
            "marker": {
             "line": {
              "color": "#E5ECF6",
              "width": 0.5
             },
             "pattern": {
              "fillmode": "overlay",
              "size": 10,
              "solidity": 0.2
             }
            },
            "type": "barpolar"
           }
          ],
          "carpet": [
           {
            "aaxis": {
             "endlinecolor": "#2a3f5f",
             "gridcolor": "white",
             "linecolor": "white",
             "minorgridcolor": "white",
             "startlinecolor": "#2a3f5f"
            },
            "baxis": {
             "endlinecolor": "#2a3f5f",
             "gridcolor": "white",
             "linecolor": "white",
             "minorgridcolor": "white",
             "startlinecolor": "#2a3f5f"
            },
            "type": "carpet"
           }
          ],
          "choropleth": [
           {
            "colorbar": {
             "outlinewidth": 0,
             "ticks": ""
            },
            "type": "choropleth"
           }
          ],
          "contour": [
           {
            "colorbar": {
             "outlinewidth": 0,
             "ticks": ""
            },
            "colorscale": [
             [
              0,
              "#0d0887"
             ],
             [
              0.1111111111111111,
              "#46039f"
             ],
             [
              0.2222222222222222,
              "#7201a8"
             ],
             [
              0.3333333333333333,
              "#9c179e"
             ],
             [
              0.4444444444444444,
              "#bd3786"
             ],
             [
              0.5555555555555556,
              "#d8576b"
             ],
             [
              0.6666666666666666,
              "#ed7953"
             ],
             [
              0.7777777777777778,
              "#fb9f3a"
             ],
             [
              0.8888888888888888,
              "#fdca26"
             ],
             [
              1,
              "#f0f921"
             ]
            ],
            "type": "contour"
           }
          ],
          "contourcarpet": [
           {
            "colorbar": {
             "outlinewidth": 0,
             "ticks": ""
            },
            "type": "contourcarpet"
           }
          ],
          "heatmap": [
           {
            "colorbar": {
             "outlinewidth": 0,
             "ticks": ""
            },
            "colorscale": [
             [
              0,
              "#0d0887"
             ],
             [
              0.1111111111111111,
              "#46039f"
             ],
             [
              0.2222222222222222,
              "#7201a8"
             ],
             [
              0.3333333333333333,
              "#9c179e"
             ],
             [
              0.4444444444444444,
              "#bd3786"
             ],
             [
              0.5555555555555556,
              "#d8576b"
             ],
             [
              0.6666666666666666,
              "#ed7953"
             ],
             [
              0.7777777777777778,
              "#fb9f3a"
             ],
             [
              0.8888888888888888,
              "#fdca26"
             ],
             [
              1,
              "#f0f921"
             ]
            ],
            "type": "heatmap"
           }
          ],
          "histogram": [
           {
            "marker": {
             "pattern": {
              "fillmode": "overlay",
              "size": 10,
              "solidity": 0.2
             }
            },
            "type": "histogram"
           }
          ],
          "histogram2d": [
           {
            "colorbar": {
             "outlinewidth": 0,
             "ticks": ""
            },
            "colorscale": [
             [
              0,
              "#0d0887"
             ],
             [
              0.1111111111111111,
              "#46039f"
             ],
             [
              0.2222222222222222,
              "#7201a8"
             ],
             [
              0.3333333333333333,
              "#9c179e"
             ],
             [
              0.4444444444444444,
              "#bd3786"
             ],
             [
              0.5555555555555556,
              "#d8576b"
             ],
             [
              0.6666666666666666,
              "#ed7953"
             ],
             [
              0.7777777777777778,
              "#fb9f3a"
             ],
             [
              0.8888888888888888,
              "#fdca26"
             ],
             [
              1,
              "#f0f921"
             ]
            ],
            "type": "histogram2d"
           }
          ],
          "histogram2dcontour": [
           {
            "colorbar": {
             "outlinewidth": 0,
             "ticks": ""
            },
            "colorscale": [
             [
              0,
              "#0d0887"
             ],
             [
              0.1111111111111111,
              "#46039f"
             ],
             [
              0.2222222222222222,
              "#7201a8"
             ],
             [
              0.3333333333333333,
              "#9c179e"
             ],
             [
              0.4444444444444444,
              "#bd3786"
             ],
             [
              0.5555555555555556,
              "#d8576b"
             ],
             [
              0.6666666666666666,
              "#ed7953"
             ],
             [
              0.7777777777777778,
              "#fb9f3a"
             ],
             [
              0.8888888888888888,
              "#fdca26"
             ],
             [
              1,
              "#f0f921"
             ]
            ],
            "type": "histogram2dcontour"
           }
          ],
          "mesh3d": [
           {
            "colorbar": {
             "outlinewidth": 0,
             "ticks": ""
            },
            "type": "mesh3d"
           }
          ],
          "parcoords": [
           {
            "line": {
             "colorbar": {
              "outlinewidth": 0,
              "ticks": ""
             }
            },
            "type": "parcoords"
           }
          ],
          "pie": [
           {
            "automargin": true,
            "type": "pie"
           }
          ],
          "scatter": [
           {
            "fillpattern": {
             "fillmode": "overlay",
             "size": 10,
             "solidity": 0.2
            },
            "type": "scatter"
           }
          ],
          "scatter3d": [
           {
            "line": {
             "colorbar": {
              "outlinewidth": 0,
              "ticks": ""
             }
            },
            "marker": {
             "colorbar": {
              "outlinewidth": 0,
              "ticks": ""
             }
            },
            "type": "scatter3d"
           }
          ],
          "scattercarpet": [
           {
            "marker": {
             "colorbar": {
              "outlinewidth": 0,
              "ticks": ""
             }
            },
            "type": "scattercarpet"
           }
          ],
          "scattergeo": [
           {
            "marker": {
             "colorbar": {
              "outlinewidth": 0,
              "ticks": ""
             }
            },
            "type": "scattergeo"
           }
          ],
          "scattergl": [
           {
            "marker": {
             "colorbar": {
              "outlinewidth": 0,
              "ticks": ""
             }
            },
            "type": "scattergl"
           }
          ],
          "scattermap": [
           {
            "marker": {
             "colorbar": {
              "outlinewidth": 0,
              "ticks": ""
             }
            },
            "type": "scattermap"
           }
          ],
          "scattermapbox": [
           {
            "marker": {
             "colorbar": {
              "outlinewidth": 0,
              "ticks": ""
             }
            },
            "type": "scattermapbox"
           }
          ],
          "scatterpolar": [
           {
            "marker": {
             "colorbar": {
              "outlinewidth": 0,
              "ticks": ""
             }
            },
            "type": "scatterpolar"
           }
          ],
          "scatterpolargl": [
           {
            "marker": {
             "colorbar": {
              "outlinewidth": 0,
              "ticks": ""
             }
            },
            "type": "scatterpolargl"
           }
          ],
          "scatterternary": [
           {
            "marker": {
             "colorbar": {
              "outlinewidth": 0,
              "ticks": ""
             }
            },
            "type": "scatterternary"
           }
          ],
          "surface": [
           {
            "colorbar": {
             "outlinewidth": 0,
             "ticks": ""
            },
            "colorscale": [
             [
              0,
              "#0d0887"
             ],
             [
              0.1111111111111111,
              "#46039f"
             ],
             [
              0.2222222222222222,
              "#7201a8"
             ],
             [
              0.3333333333333333,
              "#9c179e"
             ],
             [
              0.4444444444444444,
              "#bd3786"
             ],
             [
              0.5555555555555556,
              "#d8576b"
             ],
             [
              0.6666666666666666,
              "#ed7953"
             ],
             [
              0.7777777777777778,
              "#fb9f3a"
             ],
             [
              0.8888888888888888,
              "#fdca26"
             ],
             [
              1,
              "#f0f921"
             ]
            ],
            "type": "surface"
           }
          ],
          "table": [
           {
            "cells": {
             "fill": {
              "color": "#EBF0F8"
             },
             "line": {
              "color": "white"
             }
            },
            "header": {
             "fill": {
              "color": "#C8D4E3"
             },
             "line": {
              "color": "white"
             }
            },
            "type": "table"
           }
          ]
         },
         "layout": {
          "annotationdefaults": {
           "arrowcolor": "#2a3f5f",
           "arrowhead": 0,
           "arrowwidth": 1
          },
          "autotypenumbers": "strict",
          "coloraxis": {
           "colorbar": {
            "outlinewidth": 0,
            "ticks": ""
           }
          },
          "colorscale": {
           "diverging": [
            [
             0,
             "#8e0152"
            ],
            [
             0.1,
             "#c51b7d"
            ],
            [
             0.2,
             "#de77ae"
            ],
            [
             0.3,
             "#f1b6da"
            ],
            [
             0.4,
             "#fde0ef"
            ],
            [
             0.5,
             "#f7f7f7"
            ],
            [
             0.6,
             "#e6f5d0"
            ],
            [
             0.7,
             "#b8e186"
            ],
            [
             0.8,
             "#7fbc41"
            ],
            [
             0.9,
             "#4d9221"
            ],
            [
             1,
             "#276419"
            ]
           ],
           "sequential": [
            [
             0,
             "#0d0887"
            ],
            [
             0.1111111111111111,
             "#46039f"
            ],
            [
             0.2222222222222222,
             "#7201a8"
            ],
            [
             0.3333333333333333,
             "#9c179e"
            ],
            [
             0.4444444444444444,
             "#bd3786"
            ],
            [
             0.5555555555555556,
             "#d8576b"
            ],
            [
             0.6666666666666666,
             "#ed7953"
            ],
            [
             0.7777777777777778,
             "#fb9f3a"
            ],
            [
             0.8888888888888888,
             "#fdca26"
            ],
            [
             1,
             "#f0f921"
            ]
           ],
           "sequentialminus": [
            [
             0,
             "#0d0887"
            ],
            [
             0.1111111111111111,
             "#46039f"
            ],
            [
             0.2222222222222222,
             "#7201a8"
            ],
            [
             0.3333333333333333,
             "#9c179e"
            ],
            [
             0.4444444444444444,
             "#bd3786"
            ],
            [
             0.5555555555555556,
             "#d8576b"
            ],
            [
             0.6666666666666666,
             "#ed7953"
            ],
            [
             0.7777777777777778,
             "#fb9f3a"
            ],
            [
             0.8888888888888888,
             "#fdca26"
            ],
            [
             1,
             "#f0f921"
            ]
           ]
          },
          "colorway": [
           "#636efa",
           "#EF553B",
           "#00cc96",
           "#ab63fa",
           "#FFA15A",
           "#19d3f3",
           "#FF6692",
           "#B6E880",
           "#FF97FF",
           "#FECB52"
          ],
          "font": {
           "color": "#2a3f5f"
          },
          "geo": {
           "bgcolor": "white",
           "lakecolor": "white",
           "landcolor": "#E5ECF6",
           "showlakes": true,
           "showland": true,
           "subunitcolor": "white"
          },
          "hoverlabel": {
           "align": "left"
          },
          "hovermode": "closest",
          "mapbox": {
           "style": "light"
          },
          "paper_bgcolor": "white",
          "plot_bgcolor": "#E5ECF6",
          "polar": {
           "angularaxis": {
            "gridcolor": "white",
            "linecolor": "white",
            "ticks": ""
           },
           "bgcolor": "#E5ECF6",
           "radialaxis": {
            "gridcolor": "white",
            "linecolor": "white",
            "ticks": ""
           }
          },
          "scene": {
           "xaxis": {
            "backgroundcolor": "#E5ECF6",
            "gridcolor": "white",
            "gridwidth": 2,
            "linecolor": "white",
            "showbackground": true,
            "ticks": "",
            "zerolinecolor": "white"
           },
           "yaxis": {
            "backgroundcolor": "#E5ECF6",
            "gridcolor": "white",
            "gridwidth": 2,
            "linecolor": "white",
            "showbackground": true,
            "ticks": "",
            "zerolinecolor": "white"
           },
           "zaxis": {
            "backgroundcolor": "#E5ECF6",
            "gridcolor": "white",
            "gridwidth": 2,
            "linecolor": "white",
            "showbackground": true,
            "ticks": "",
            "zerolinecolor": "white"
           }
          },
          "shapedefaults": {
           "line": {
            "color": "#2a3f5f"
           }
          },
          "ternary": {
           "aaxis": {
            "gridcolor": "white",
            "linecolor": "white",
            "ticks": ""
           },
           "baxis": {
            "gridcolor": "white",
            "linecolor": "white",
            "ticks": ""
           },
           "bgcolor": "#E5ECF6",
           "caxis": {
            "gridcolor": "white",
            "linecolor": "white",
            "ticks": ""
           }
          },
          "title": {
           "x": 0.05
          },
          "xaxis": {
           "automargin": true,
           "gridcolor": "white",
           "linecolor": "white",
           "ticks": "",
           "title": {
            "standoff": 15
           },
           "zerolinecolor": "white",
           "zerolinewidth": 2
          },
          "yaxis": {
           "automargin": true,
           "gridcolor": "white",
           "linecolor": "white",
           "ticks": "",
           "title": {
            "standoff": 15
           },
           "zerolinecolor": "white",
           "zerolinewidth": 2
          }
         }
        }
       }
      }
     },
     "metadata": {},
     "output_type": "display_data"
    }
   ],
   "source": [
    "px.scatter_3d(data_frame=data, x='col_1', y='col_2', z='col_3',\n",
    "              color = preds)"
   ]
  },
  {
   "cell_type": "code",
   "execution_count": 39,
   "id": "02a40e90",
   "metadata": {},
   "outputs": [
    {
     "data": {
      "text/html": [
       "<div>\n",
       "<style scoped>\n",
       "    .dataframe tbody tr th:only-of-type {\n",
       "        vertical-align: middle;\n",
       "    }\n",
       "\n",
       "    .dataframe tbody tr th {\n",
       "        vertical-align: top;\n",
       "    }\n",
       "\n",
       "    .dataframe thead th {\n",
       "        text-align: right;\n",
       "    }\n",
       "</style>\n",
       "<table border=\"1\" class=\"dataframe\">\n",
       "  <thead>\n",
       "    <tr style=\"text-align: right;\">\n",
       "      <th></th>\n",
       "      <th>Education</th>\n",
       "      <th>Marital_Status</th>\n",
       "      <th>Income</th>\n",
       "      <th>Kidhome</th>\n",
       "      <th>Teenhome</th>\n",
       "      <th>Recency</th>\n",
       "      <th>MntWines</th>\n",
       "      <th>MntFruits</th>\n",
       "      <th>MntMeatProducts</th>\n",
       "      <th>MntFishProducts</th>\n",
       "      <th>...</th>\n",
       "      <th>AcceptedCmp5</th>\n",
       "      <th>AcceptedCmp1</th>\n",
       "      <th>AcceptedCmp2</th>\n",
       "      <th>Complain</th>\n",
       "      <th>Z_CostContact</th>\n",
       "      <th>Z_Revenue</th>\n",
       "      <th>Response</th>\n",
       "      <th>age</th>\n",
       "      <th>length_of_patronage</th>\n",
       "      <th>clusters</th>\n",
       "    </tr>\n",
       "  </thead>\n",
       "  <tbody>\n",
       "    <tr>\n",
       "      <th>0</th>\n",
       "      <td>Graduation</td>\n",
       "      <td>Single</td>\n",
       "      <td>58138</td>\n",
       "      <td>0</td>\n",
       "      <td>0</td>\n",
       "      <td>58</td>\n",
       "      <td>635</td>\n",
       "      <td>88</td>\n",
       "      <td>546</td>\n",
       "      <td>172</td>\n",
       "      <td>...</td>\n",
       "      <td>0</td>\n",
       "      <td>0</td>\n",
       "      <td>0</td>\n",
       "      <td>0</td>\n",
       "      <td>3</td>\n",
       "      <td>11</td>\n",
       "      <td>1</td>\n",
       "      <td>68</td>\n",
       "      <td>13</td>\n",
       "      <td>cluster_0</td>\n",
       "    </tr>\n",
       "    <tr>\n",
       "      <th>1</th>\n",
       "      <td>Graduation</td>\n",
       "      <td>Single</td>\n",
       "      <td>46344</td>\n",
       "      <td>1</td>\n",
       "      <td>1</td>\n",
       "      <td>38</td>\n",
       "      <td>11</td>\n",
       "      <td>1</td>\n",
       "      <td>6</td>\n",
       "      <td>2</td>\n",
       "      <td>...</td>\n",
       "      <td>0</td>\n",
       "      <td>0</td>\n",
       "      <td>0</td>\n",
       "      <td>0</td>\n",
       "      <td>3</td>\n",
       "      <td>11</td>\n",
       "      <td>0</td>\n",
       "      <td>71</td>\n",
       "      <td>11</td>\n",
       "      <td>cluster_1</td>\n",
       "    </tr>\n",
       "    <tr>\n",
       "      <th>2</th>\n",
       "      <td>Graduation</td>\n",
       "      <td>Together</td>\n",
       "      <td>71613</td>\n",
       "      <td>0</td>\n",
       "      <td>0</td>\n",
       "      <td>26</td>\n",
       "      <td>426</td>\n",
       "      <td>49</td>\n",
       "      <td>127</td>\n",
       "      <td>111</td>\n",
       "      <td>...</td>\n",
       "      <td>0</td>\n",
       "      <td>0</td>\n",
       "      <td>0</td>\n",
       "      <td>0</td>\n",
       "      <td>3</td>\n",
       "      <td>11</td>\n",
       "      <td>0</td>\n",
       "      <td>60</td>\n",
       "      <td>12</td>\n",
       "      <td>cluster_0</td>\n",
       "    </tr>\n",
       "    <tr>\n",
       "      <th>3</th>\n",
       "      <td>Graduation</td>\n",
       "      <td>Together</td>\n",
       "      <td>26646</td>\n",
       "      <td>1</td>\n",
       "      <td>0</td>\n",
       "      <td>26</td>\n",
       "      <td>11</td>\n",
       "      <td>4</td>\n",
       "      <td>20</td>\n",
       "      <td>10</td>\n",
       "      <td>...</td>\n",
       "      <td>0</td>\n",
       "      <td>0</td>\n",
       "      <td>0</td>\n",
       "      <td>0</td>\n",
       "      <td>3</td>\n",
       "      <td>11</td>\n",
       "      <td>0</td>\n",
       "      <td>41</td>\n",
       "      <td>11</td>\n",
       "      <td>cluster_1</td>\n",
       "    </tr>\n",
       "    <tr>\n",
       "      <th>4</th>\n",
       "      <td>PhD</td>\n",
       "      <td>Married</td>\n",
       "      <td>58293</td>\n",
       "      <td>1</td>\n",
       "      <td>0</td>\n",
       "      <td>94</td>\n",
       "      <td>173</td>\n",
       "      <td>43</td>\n",
       "      <td>118</td>\n",
       "      <td>46</td>\n",
       "      <td>...</td>\n",
       "      <td>0</td>\n",
       "      <td>0</td>\n",
       "      <td>0</td>\n",
       "      <td>0</td>\n",
       "      <td>3</td>\n",
       "      <td>11</td>\n",
       "      <td>0</td>\n",
       "      <td>44</td>\n",
       "      <td>11</td>\n",
       "      <td>cluster_1</td>\n",
       "    </tr>\n",
       "  </tbody>\n",
       "</table>\n",
       "<p>5 rows × 29 columns</p>\n",
       "</div>"
      ],
      "text/plain": [
       "    Education Marital_Status  Income  Kidhome  Teenhome  Recency  MntWines  \\\n",
       "0  Graduation         Single   58138        0         0       58       635   \n",
       "1  Graduation         Single   46344        1         1       38        11   \n",
       "2  Graduation       Together   71613        0         0       26       426   \n",
       "3  Graduation       Together   26646        1         0       26        11   \n",
       "4         PhD        Married   58293        1         0       94       173   \n",
       "\n",
       "   MntFruits  MntMeatProducts  MntFishProducts  ...  AcceptedCmp5  \\\n",
       "0         88              546              172  ...             0   \n",
       "1          1                6                2  ...             0   \n",
       "2         49              127              111  ...             0   \n",
       "3          4               20               10  ...             0   \n",
       "4         43              118               46  ...             0   \n",
       "\n",
       "   AcceptedCmp1  AcceptedCmp2  Complain  Z_CostContact  Z_Revenue  Response  \\\n",
       "0             0             0         0              3         11         1   \n",
       "1             0             0         0              3         11         0   \n",
       "2             0             0         0              3         11         0   \n",
       "3             0             0         0              3         11         0   \n",
       "4             0             0         0              3         11         0   \n",
       "\n",
       "   age  length_of_patronage   clusters  \n",
       "0   68                   13  cluster_0  \n",
       "1   71                   11  cluster_1  \n",
       "2   60                   12  cluster_0  \n",
       "3   41                   11  cluster_1  \n",
       "4   44                   11  cluster_1  \n",
       "\n",
       "[5 rows x 29 columns]"
      ]
     },
     "execution_count": 39,
     "metadata": {},
     "output_type": "execute_result"
    }
   ],
   "source": [
    "cleaned_data['clusters'] = [f'cluster_{x}' for x in preds]\n",
    "cleaned_data.head()"
   ]
  },
  {
   "cell_type": "code",
   "execution_count": 40,
   "id": "c30ab09c",
   "metadata": {},
   "outputs": [
    {
     "data": {
      "text/plain": [
       "<Axes: xlabel='clusters', ylabel='Income'>"
      ]
     },
     "execution_count": 40,
     "metadata": {},
     "output_type": "execute_result"
    },
    {
     "data": {
      "image/png": "[encoded data removed]",
      "text/plain": [
       "<Figure size 640x480 with 1 Axes>"
      ]
     },
     "metadata": {},
     "output_type": "display_data"
    }
   ],
   "source": [
    "sns.set_style('dark')\n",
    "sns.set_palette('bright')\n",
    "sns.barplot(data=cleaned_data, x = 'clusters', y='Income')"
   ]
  },
  {
   "cell_type": "code",
   "execution_count": 41,
   "id": "ebb540c5",
   "metadata": {},
   "outputs": [
    {
     "data": {
      "text/plain": [
       "<Axes: xlabel='clusters', ylabel='MntWines'>"
      ]
     },
     "execution_count": 41,
     "metadata": {},
     "output_type": "execute_result"
    },
    {
     "data": {
      "image/png": "[encoded data removed]",
      "text/plain": [
       "<Figure size 640x480 with 1 Axes>"
      ]
     },
     "metadata": {},
     "output_type": "display_data"
    }
   ],
   "source": [
    "sns.barplot(data=cleaned_data, x = 'clusters', y='MntWines')"
   ]
  },
  {
   "cell_type": "code",
   "execution_count": 47,
   "id": "48d89d35",
   "metadata": {},
   "outputs": [
    {
     "data": {
      "text/plain": [
       "<Axes: xlabel='clusters', ylabel='children'>"
      ]
     },
     "execution_count": 47,
     "metadata": {},
     "output_type": "execute_result"
    },
    {
     "data": {
      "image/png": "[encoded data removed]",
      "text/plain": [
       "<Figure size 640x480 with 1 Axes>"
      ]
     },
     "metadata": {},
     "output_type": "display_data"
    }
   ],
   "source": [
    "cleaned_data['children'] = cleaned_data['Kidhome'] + cleaned_data['Teenhome']\n",
    "sns.barplot(data=cleaned_data, x = 'clusters', y='children')"
   ]
  },
  {
   "cell_type": "code",
   "execution_count": 48,
   "id": "76cb5b6f",
   "metadata": {},
   "outputs": [
    {
     "data": {
      "text/plain": [
       "<Axes: xlabel='clusters', ylabel='count'>"
      ]
     },
     "execution_count": 48,
     "metadata": {},
     "output_type": "execute_result"
    },
    {
     "data": {
      "image/png": "[encoded data removed]",
      "text/plain": [
       "<Figure size 640x480 with 1 Axes>"
      ]
     },
     "metadata": {},
     "output_type": "display_data"
    }
   ],
   "source": [
    "sns.countplot(data=cleaned_data, x = 'clusters', hue='Education')"
   ]
  }
 ],
 "metadata": {
  "kernelspec": {
   "display_name": "Python 3",
   "language": "python",
   "name": "python3"
  },
  "language_info": {
   "codemirror_mode": {
    "name": "ipython",
    "version": 3
   },
   "file_extension": ".py",
   "mimetype": "text/x-python",
   "name": "python",
   "nbconvert_exporter": "python",
   "pygments_lexer": "ipython3",
   "version": "3.12.1"
  }
 },
 "nbformat": 4,
 "nbformat_minor": 5
}
