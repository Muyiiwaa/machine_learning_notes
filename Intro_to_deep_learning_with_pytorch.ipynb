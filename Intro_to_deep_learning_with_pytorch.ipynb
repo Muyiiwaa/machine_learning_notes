{
  "nbformat": 4,
  "nbformat_minor": 0,
  "metadata": {
    "colab": {
      "provenance": [],
      "authorship_tag": "ABX9TyPsiM55ssa016SJ76Gx1pax",
      "include_colab_link": true
    },
    "kernelspec": {
      "name": "python3",
      "display_name": "Python 3"
    },
    "language_info": {
      "name": "python"
    }
  },
  "cells": [
    {
      "cell_type": "markdown",
      "metadata": {
        "id": "view-in-github",
        "colab_type": "text"
      },
      "source": [
        "<a href=\"https://colab.research.google.com/github/Muyiiwaa/machine_learning_notes/blob/master/Intro_to_deep_learning_with_pytorch.ipynb\" target=\"_parent\"><img src=\"https://colab.research.google.com/assets/colab-badge.svg\" alt=\"Open In Colab\"/></a>"
      ]
    },
    {
      "cell_type": "markdown",
      "source": [
        "# BASIC TENSOR OPERATION IN PYTORCH"
      ],
      "metadata": {
        "id": "kOtdQhMvoJ42"
      }
    },
    {
      "cell_type": "code",
      "execution_count": 2,
      "metadata": {
        "colab": {
          "base_uri": "https://localhost:8080/",
          "height": 35
        },
        "id": "OjINv6Lx5JRw",
        "outputId": "bdf41c66-b5a8-429f-950d-1e587c205a95"
      },
      "outputs": [
        {
          "output_type": "execute_result",
          "data": {
            "text/plain": [
              "'2.6.0+cu124'"
            ],
            "application/vnd.google.colaboratory.intrinsic+json": {
              "type": "string"
            }
          },
          "metadata": {},
          "execution_count": 2
        }
      ],
      "source": [
        "import torch\n",
        "\n",
        "torch.__version__"
      ]
    },
    {
      "cell_type": "markdown",
      "source": [
        "## Creating Tensors.\n",
        "\n",
        "Scaler: $ tensor_A = 2$\n",
        "\n",
        "Vector: $ tensor_B = \\begin{bmatrix} 2 \\\\ 1 \\end{bmatrix}$\n",
        "\n",
        "Matrix: $ tensor_C = \\begin{bmatrix} 2 & 1 \\\\ 4 & 7 \\end{bmatrix}$\n"
      ],
      "metadata": {
        "id": "zWXsrQbvhwiP"
      }
    },
    {
      "cell_type": "code",
      "source": [
        "# creating tensors\n",
        "\n",
        "tensor_a = torch.tensor(5)\n",
        "tensor_b = torch.tensor(data= [2,1])\n",
        "tensor_c = torch.tensor(data= [[2,1],\n",
        "                               [4, 7]])\n",
        "\n",
        "print(tensor_a)\n",
        "print('=' * 30)\n",
        "print(tensor_b)\n",
        "print('=' * 30)\n",
        "print(tensor_c)\n",
        "print('=' * 30)"
      ],
      "metadata": {
        "colab": {
          "base_uri": "https://localhost:8080/"
        },
        "id": "TqN71bip7iVv",
        "outputId": "904226ed-8aca-4d0f-fc05-8df4fc55ddd4"
      },
      "execution_count": 43,
      "outputs": [
        {
          "output_type": "stream",
          "name": "stdout",
          "text": [
            "tensor(5)\n",
            "==============================\n",
            "tensor([2, 1])\n",
            "==============================\n",
            "tensor([[2, 1],\n",
            "        [4, 7]])\n",
            "==============================\n"
          ]
        }
      ]
    },
    {
      "cell_type": "code",
      "source": [
        "## understanding tensor types and dimenstion\n",
        "\n",
        "print(f'tensor_a is of dimension: {tensor_a.dim()}')\n",
        "print(f'tensor_b is of dimension: {tensor_b.dim()}')\n",
        "print(f'tensor_c is of dimension: {tensor_c.dim()}')"
      ],
      "metadata": {
        "colab": {
          "base_uri": "https://localhost:8080/"
        },
        "id": "8Qz7rArA5qqu",
        "outputId": "191592ac-fb09-40dc-b151-ae7362fb41d2"
      },
      "execution_count": 19,
      "outputs": [
        {
          "output_type": "stream",
          "name": "stdout",
          "text": [
            "tensor_a is of dimension: 0\n",
            "tensor_b is of dimension: 1\n",
            "tensor_c is of dimension: 2\n"
          ]
        }
      ]
    },
    {
      "cell_type": "markdown",
      "source": [
        "## Performing basic maths operation on tensors"
      ],
      "metadata": {
        "id": "tIMMHy-zlGB-"
      }
    },
    {
      "cell_type": "markdown",
      "source": [
        "### ADDITION\n",
        "\n",
        "$ matrix_a = \\begin{bmatrix} 1 & 2 \\\\ 3 & 5 \\end{bmatrix} $\n",
        "$ matrix_b = \\begin{bmatrix} 2 & 4 \\\\ 1 & 6 \\end{bmatrix} $\n",
        "\n",
        "$suMmatrix = \\begin{bmatrix} 1 & 2 \\\\ 3 & 5 \\end{bmatrix}$ + $\\begin{bmatrix} 2 & 4 \\\\ 1 & 6 \\end{bmatrix}$ = $\\begin{bmatrix} 3 & 6 \\\\ 4 & 11 \\end{bmatrix}$"
      ],
      "metadata": {
        "id": "O0A1FtmHjjvf"
      }
    },
    {
      "cell_type": "code",
      "source": [
        "matrix_a = torch.tensor([[1,2],\n",
        "            [3, 5]])\n",
        "matrix_b = torch.tensor([[2, 4],\n",
        "            [1, 6]])\n",
        "\n",
        "print(f'matrix_a:\\n {matrix_a}')\n",
        "print(f'matrix_b:\\n {matrix_b}')\n",
        "\n",
        "# sum\n",
        "sum_matrix = matrix_a + matrix_b\n",
        "print('*'*25)\n",
        "print(f'sum_matrix:\\n {sum_matrix}')"
      ],
      "metadata": {
        "id": "nuZ2mAl-nOI0"
      },
      "execution_count": null,
      "outputs": []
    },
    {
      "cell_type": "markdown",
      "source": [
        "##Subtraction\n",
        "\n",
        "$ matrix_a = \\begin{bmatrix} 1 & 2 \\\\ 3 & 5 \\end{bmatrix} $\n",
        "$ matrix_b = \\begin{bmatrix} 2 & 4 \\\\ 1 & 6 \\end{bmatrix} $\n",
        "\n",
        "$diffmatrix = \\begin{bmatrix} 1 & 2 \\\\ 3 & 5 \\end{bmatrix} - \\begin{bmatrix} 2 & 4 \\\\ 1 & 6 \\end{bmatrix} = \\begin{bmatrix} -1 & -2 \\\\ 2 & -1 \\end{bmatrix}$"
      ],
      "metadata": {
        "id": "TqfUH1n1lkZy"
      }
    },
    {
      "cell_type": "code",
      "source": [
        "# difference\n",
        "diff_matrix = matrix_a - matrix_b\n",
        "print('*'*25)\n",
        "print(f'diff_matrix:\\n {diff_matrix}')"
      ],
      "metadata": {
        "colab": {
          "base_uri": "https://localhost:8080/"
        },
        "id": "9sUfGOFenZV2",
        "outputId": "9c4ff922-bc98-4265-b552-5def2bd2c47d"
      },
      "execution_count": 44,
      "outputs": [
        {
          "output_type": "stream",
          "name": "stdout",
          "text": [
            "*************************\n",
            "diff_matrix:\n",
            " tensor([[ 1,  1],\n",
            "        [-3, -2]])\n"
          ]
        }
      ]
    },
    {
      "cell_type": "markdown",
      "source": [
        "### ELEMENTWISE PRODUCT\n",
        "$ matrix_a = \\begin{bmatrix} 1 & 2 \\\\ 3 & 5 \\end{bmatrix} $\n",
        "$ matrix_b = \\begin{bmatrix} 2 & 4 \\\\ 1 & 6 \\end{bmatrix} $\n",
        "\n",
        "$elemproduct = \\begin{bmatrix} 1 & 2 \\\\ 3 & 5 \\end{bmatrix} \\circ \\begin{bmatrix} 2 & 4 \\\\ 1 & 6 \\end{bmatrix} = \\begin{bmatrix} 2 & 8 \\\\ 3 & 30 \\end{bmatrix}$"
      ],
      "metadata": {
        "id": "TYbUugb1mben"
      }
    },
    {
      "cell_type": "code",
      "source": [
        "# products\n",
        "product_matrix = matrix_a * matrix_b\n",
        "print('*'*25)\n",
        "print(f'product_matrix:\\n {product_matrix}')"
      ],
      "metadata": {
        "colab": {
          "base_uri": "https://localhost:8080/"
        },
        "id": "Yhh_yJlRnglj",
        "outputId": "a472ee84-c8cb-4b5c-c3a2-8c131035aee1"
      },
      "execution_count": 45,
      "outputs": [
        {
          "output_type": "stream",
          "name": "stdout",
          "text": [
            "*************************\n",
            "product_matrix:\n",
            " tensor([[ 2,  6],\n",
            "        [-2,  8]])\n"
          ]
        }
      ]
    },
    {
      "cell_type": "markdown",
      "source": [
        "## MATRIX MULTIPLICATION\n",
        "$ matrix_a = \\begin{bmatrix} 1 & 2 \\\\ 3 & 5 \\end{bmatrix} $\n",
        "$ matrix_b = \\begin{bmatrix} 2 & 4 \\\\ 1 & 6 \\end{bmatrix} $\n",
        "\n",
        "$matmul = \\begin{bmatrix} 1 & 2 \\\\ 3 & 5 \\end{bmatrix} \\cdot \\begin{bmatrix} 2 & 4 \\\\ 1 & 6 \\end{bmatrix} = \\begin{bmatrix} 4 & 16 \\\\ 11 & 42 \\end{bmatrix}$"
      ],
      "metadata": {
        "id": "cqp8n1hym3-o"
      }
    },
    {
      "cell_type": "code",
      "source": [
        "# matmul (matrix multiplication)\n",
        "matrix_muti = matrix_a @ matrix_b\n",
        "print('*'*25)\n",
        "print(f'matrix_muti:\\n {matrix_muti}')\n"
      ],
      "metadata": {
        "colab": {
          "base_uri": "https://localhost:8080/"
        },
        "id": "peG-fozg7wzg",
        "outputId": "c569f055-8312-448d-d7c5-a74795543aa8"
      },
      "execution_count": 46,
      "outputs": [
        {
          "output_type": "stream",
          "name": "stdout",
          "text": [
            "*************************\n",
            "matrix_muti:\n",
            " tensor([[ 8, 16],\n",
            "        [ 3,  6]])\n"
          ]
        }
      ]
    },
    {
      "cell_type": "markdown",
      "source": [
        "## exercise"
      ],
      "metadata": {
        "id": "7vvr-GcVoEi0"
      }
    },
    {
      "cell_type": "code",
      "source": [
        "## performing maths operation on tensors\n",
        "\n",
        "matrix_a = torch.tensor([[2,3],\n",
        "            [-1, 2]])\n",
        "matrix_b = torch.tensor([[1, 2],\n",
        "            [2, 4]])\n",
        "\n",
        "print(f'matrix_a:\\n {matrix_a}')\n",
        "print(f'matrix_b:\\n {matrix_b}')\n",
        "\n",
        "# sum\n",
        "sum_matrix = matrix_a + matrix_b\n",
        "print('*'*25)\n",
        "print(f'sum_matrix:\\n {sum_matrix}')\n",
        "\n",
        "# difference\n",
        "diff_matrix = matrix_a - matrix_b\n",
        "print('*'*25)\n",
        "print(f'diff_matrix:\\n {diff_matrix}')\n",
        "\n",
        "# products\n",
        "product_matrix = matrix_a * matrix_b\n",
        "print('*'*25)\n",
        "print(f'product_matrix:\\n {product_matrix}')\n",
        "\n",
        "# matmul (matrix multiplication)\n",
        "matrix_muti = matrix_a @ matrix_b\n",
        "print('*'*25)\n",
        "print(f'matrix_muti:\\n {matrix_muti}')"
      ],
      "metadata": {
        "colab": {
          "base_uri": "https://localhost:8080/"
        },
        "id": "qaAubS0H-VRa",
        "outputId": "e55f5c7f-b156-4511-fda4-4c4828928abf"
      },
      "execution_count": 29,
      "outputs": [
        {
          "output_type": "stream",
          "name": "stdout",
          "text": [
            "matrix_a:\n",
            " tensor([[ 2,  3],\n",
            "        [-1,  2]])\n",
            "matrix_b:\n",
            " tensor([[1, 2],\n",
            "        [2, 4]])\n",
            "*************************\n",
            "sum_matrix:\n",
            " tensor([[3, 5],\n",
            "        [1, 6]])\n",
            "*************************\n",
            "diff_matrix:\n",
            " tensor([[ 1,  1],\n",
            "        [-3, -2]])\n",
            "*************************\n",
            "product_matrix:\n",
            " tensor([[ 2,  6],\n",
            "        [-2,  8]])\n",
            "*************************\n",
            "matrix_muti:\n",
            " tensor([[ 8, 16],\n",
            "        [ 3,  6]])\n"
          ]
        }
      ]
    },
    {
      "cell_type": "markdown",
      "source": [
        "### GRADIENT COMPUTATION"
      ],
      "metadata": {
        "id": "LymsOmvycGxk"
      }
    },
    {
      "cell_type": "markdown",
      "source": [
        "1. Compute the gradient of $y = 3x^2 + 6x + 4$     at $x = 2$\n"
      ],
      "metadata": {
        "id": "jSkkRfQIdiQC"
      }
    },
    {
      "cell_type": "code",
      "source": [
        "# create the tensor object\n",
        "x = torch.tensor(data = 2.0, requires_grad=True)\n",
        "\n",
        "# define the equation\n",
        "y = 3*x**2 + 6*x + 4\n",
        "\n",
        "# compute the derivative\n",
        "y.backward()\n",
        "\n",
        "# get the value of y at x = 2\n",
        "x.grad"
      ],
      "metadata": {
        "colab": {
          "base_uri": "https://localhost:8080/"
        },
        "id": "yYUrhPhw-jRI",
        "outputId": "ba49affb-af5b-45d7-9f44-ef2e80fb4c34"
      },
      "execution_count": 32,
      "outputs": [
        {
          "output_type": "execute_result",
          "data": {
            "text/plain": [
              "tensor(18.)"
            ]
          },
          "metadata": {},
          "execution_count": 32
        }
      ]
    },
    {
      "cell_type": "markdown",
      "source": [
        "2. Compute the gradient of $z = 2xy + 3x^2 + 5y + 3$ at $x = 3$ and $y = 2$\n"
      ],
      "metadata": {
        "id": "TCWD5424gNUH"
      }
    },
    {
      "cell_type": "code",
      "source": [
        "x = torch.tensor(data = 3.0, requires_grad=True)\n",
        "y = torch.tensor(data = 2.0, requires_grad=True)\n",
        "\n",
        "z = 2 * x * y + 3 * x **2 + 5 *y + 3\n",
        "\n",
        "z.backward()\n",
        "\n",
        "print(x.grad)\n",
        "print(y.grad)"
      ],
      "metadata": {
        "colab": {
          "base_uri": "https://localhost:8080/"
        },
        "id": "wSkraktEJ1Fk",
        "outputId": "385e0237-f7e3-4d30-bef4-d7756a522101"
      },
      "execution_count": 36,
      "outputs": [
        {
          "output_type": "stream",
          "name": "stdout",
          "text": [
            "tensor(22.)\n",
            "tensor(11.)\n"
          ]
        }
      ]
    },
    {
      "cell_type": "markdown",
      "source": [
        "3. Compute the value of $z = \\sqrt{2x^2 + 5}$\n",
        "at $x = 5$\n"
      ],
      "metadata": {
        "id": "leq3-21dgvb3"
      }
    },
    {
      "cell_type": "code",
      "source": [
        "x = torch.tensor(data = 1.0, requires_grad=True)\n",
        "\n",
        "z = (2 * x ** 2 + 5) ** (1/2)\n",
        "\n",
        "z.backward()\n",
        "\n",
        "print(x.grad)"
      ],
      "metadata": {
        "colab": {
          "base_uri": "https://localhost:8080/"
        },
        "id": "TRq_KxK3No3m",
        "outputId": "bccc2df3-c9c9-4b2f-9063-611067581d3d"
      },
      "execution_count": 39,
      "outputs": [
        {
          "output_type": "stream",
          "name": "stdout",
          "text": [
            "tensor(0.7559)\n"
          ]
        }
      ]
    },
    {
      "cell_type": "code",
      "source": [
        "2/(7 ** 0.5)"
      ],
      "metadata": {
        "colab": {
          "base_uri": "https://localhost:8080/"
        },
        "id": "qoP1gYmIOBem",
        "outputId": "c6652fa7-2a25-4d69-e28a-9fd8e94bd3b8"
      },
      "execution_count": 41,
      "outputs": [
        {
          "output_type": "execute_result",
          "data": {
            "text/plain": [
              "0.7559289460184544"
            ]
          },
          "metadata": {},
          "execution_count": 41
        }
      ]
    },
    {
      "cell_type": "code",
      "source": [],
      "metadata": {
        "id": "l9-FHIrARs4a"
      },
      "execution_count": null,
      "outputs": []
    }
  ]
}