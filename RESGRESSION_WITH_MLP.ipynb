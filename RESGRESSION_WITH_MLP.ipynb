{
  "nbformat": 4,
  "nbformat_minor": 0,
  "metadata": {
    "colab": {
      "provenance": [],
      "authorship_tag": "ABX9TyNLvb5sLla/AMJmzjIuDyDK",
      "include_colab_link": true
    },
    "kernelspec": {
      "name": "python3",
      "display_name": "Python 3"
    },
    "language_info": {
      "name": "python"
    }
  },
  "cells": [
    {
      "cell_type": "markdown",
      "metadata": {
        "id": "view-in-github",
        "colab_type": "text"
      },
      "source": [
        "<a href=\"https://colab.research.google.com/github/Muyiiwaa/machine_learning_notes/blob/master/RESGRESSION_WITH_MLP.ipynb\" target=\"_parent\"><img src=\"https://colab.research.google.com/assets/colab-badge.svg\" alt=\"Open In Colab\"/></a>"
      ]
    },
    {
      "cell_type": "markdown",
      "source": [
        "### REGRESSION"
      ],
      "metadata": {
        "id": "TIpYqJUESKUI"
      }
    },
    {
      "cell_type": "code",
      "execution_count": null,
      "metadata": {
        "id": "5ARqbEtlPMeC"
      },
      "outputs": [],
      "source": [
        "import torch\n",
        "from torch import nn, optim\n",
        "from sklearn.datasets import load_diabetes, load_breast_cancer\n",
        "from sklearn.metrics import root_mean_squared_error, f1_score\n",
        "from sklearn.model_selection import train_test_split"
      ]
    },
    {
      "cell_type": "code",
      "source": [
        "# load the dataset\n",
        "\n",
        "X = load_diabetes()['data']\n",
        "y = load_diabetes()['target']\n",
        "\n",
        "# split the dataset\n",
        "X_train, X_test, y_train, y_test = train_test_split(X, y, test_size=0.2,\n",
        "                                                    random_state=23)\n",
        "\n",
        "# turn the numpy array to tensors\n",
        "X_train_tensor = torch.tensor(data=X_train, dtype=torch.float32)\n",
        "X_test_tensor = torch.tensor(data=X_test, dtype=torch.float32)\n",
        "y_train_tensor = torch.tensor(data=y_train, dtype=torch.float32).unsqueeze(dim=1)\n",
        "y_test_tensor = torch.tensor(data=y_test, dtype=torch.float32).unsqueeze(dim=1)"
      ],
      "metadata": {
        "id": "YmiyCRowTFOx"
      },
      "execution_count": null,
      "outputs": []
    },
    {
      "cell_type": "code",
      "source": [
        "## define the archi of the computational graph\n",
        "\n",
        "class Diabete_NN(nn.Module):\n",
        "\n",
        "  # define constructor\n",
        "  def __init__(self, number_columns) -> None:\n",
        "    super().__init__()\n",
        "    self.fc1 = nn.Linear(in_features=number_columns, out_features=500)\n",
        "    self.fc2 = nn.Linear(in_features=500, out_features= 250)\n",
        "    self.fc3 = nn.Linear(in_features=250, out_features=100)\n",
        "    self.out = nn.Linear(in_features=100, out_features=1)\n",
        "    self.relu = nn.ReLU()\n",
        "\n",
        "  # define the foward method\n",
        "  def forward(self, X: torch.Tensor) -> torch.Tensor:\n",
        "    result = self.relu(self.fc1(X))\n",
        "    result = self.relu(self.fc2(result))\n",
        "    result = self.relu(self.fc3(result))\n",
        "    result = self.out(result)\n",
        "\n",
        "    return result"
      ],
      "metadata": {
        "id": "maqYzLKQUnfJ"
      },
      "execution_count": null,
      "outputs": []
    },
    {
      "cell_type": "code",
      "source": [
        "# define the model hyper parameters\n",
        "\n",
        "model = Diabete_NN(number_columns=X_train.shape[1])\n",
        "LEARNING_RATE = 1e-4\n",
        "criterion = nn.MSELoss()\n",
        "optimizer = optim.Adam(params=model.parameters(), lr= LEARNING_RATE)\n",
        "EPOCHS = 5000"
      ],
      "metadata": {
        "id": "cD-wAMF1XgOF"
      },
      "execution_count": null,
      "outputs": []
    },
    {
      "cell_type": "code",
      "source": [
        "# setup the training loop\n",
        "\n",
        "model.train()\n",
        "for epoch in range(EPOCHS):\n",
        "  # forward passs\n",
        "  train_preds = model(X_train_tensor)\n",
        "  loss = criterion(train_preds, y_train_tensor)\n",
        "\n",
        "  # back propagation\n",
        "  optimizer.zero_grad()\n",
        "  loss.backward()\n",
        "  optimizer.step()\n",
        "\n",
        "  if epoch % 1000 == 0:\n",
        "    print(f\"epochs: {epoch}/{EPOCHS}.........LOSS: {loss.item()}\")"
      ],
      "metadata": {
        "colab": {
          "base_uri": "https://localhost:8080/"
        },
        "id": "Ih-YaxqJU6FG",
        "outputId": "d61a07cb-4d21-4b18-9c82-6940d70c9fa5"
      },
      "execution_count": null,
      "outputs": [
        {
          "output_type": "stream",
          "name": "stdout",
          "text": [
            "epochs: 0/5000.........LOSS: 27725.560546875\n",
            "epochs: 1000/5000.........LOSS: 3771.29736328125\n",
            "epochs: 2000/5000.........LOSS: 2960.94189453125\n",
            "epochs: 3000/5000.........LOSS: 2739.70947265625\n",
            "epochs: 4000/5000.........LOSS: 2627.17333984375\n"
          ]
        }
      ]
    },
    {
      "cell_type": "code",
      "source": [
        "# get inference\n",
        "\n",
        "model.eval()\n",
        "with torch.no_grad():\n",
        "  test_preds = model(X_test_tensor)\n",
        "  rmse = root_mean_squared_error(y_test, test_preds.squeeze(dim=1))"
      ],
      "metadata": {
        "id": "zInK2gbCVTcg"
      },
      "execution_count": null,
      "outputs": []
    },
    {
      "cell_type": "code",
      "source": [
        "rmse"
      ],
      "metadata": {
        "colab": {
          "base_uri": "https://localhost:8080/"
        },
        "id": "xGl19D7hd95r",
        "outputId": "9dbee3c2-f65a-47ab-9b25-ebe5f5a88d6a"
      },
      "execution_count": null,
      "outputs": [
        {
          "output_type": "execute_result",
          "data": {
            "text/plain": [
              "55.9535300801579"
            ]
          },
          "metadata": {},
          "execution_count": 32
        }
      ]
    },
    {
      "cell_type": "code",
      "source": [
        "root_mean_squared_error(y_train, train_preds.detach().squeeze(dim=1))"
      ],
      "metadata": {
        "colab": {
          "base_uri": "https://localhost:8080/"
        },
        "id": "w97IC-49eBBu",
        "outputId": "067395ac-42bc-4f80-ecb3-68f806ed98fa"
      },
      "execution_count": null,
      "outputs": [
        {
          "output_type": "execute_result",
          "data": {
            "text/plain": [
              "50.12644229995778"
            ]
          },
          "metadata": {},
          "execution_count": 34
        }
      ]
    },
    {
      "cell_type": "code",
      "source": [],
      "metadata": {
        "id": "aMBVBoVJexVK"
      },
      "execution_count": null,
      "outputs": []
    }
  ]
}