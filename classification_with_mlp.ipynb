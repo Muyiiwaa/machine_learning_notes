{
  "nbformat": 4,
  "nbformat_minor": 0,
  "metadata": {
    "colab": {
      "provenance": [],
      "gpuType": "T4",
      "authorship_tag": "ABX9TyNxk8QPycHhIH4jgGzIOP8w",
      "include_colab_link": true
    },
    "kernelspec": {
      "name": "python3",
      "display_name": "Python 3"
    },
    "language_info": {
      "name": "python"
    },
    "accelerator": "GPU"
  },
  "cells": [
    {
      "cell_type": "markdown",
      "metadata": {
        "id": "view-in-github",
        "colab_type": "text"
      },
      "source": [
        "<a href=\"https://colab.research.google.com/github/Muyiiwaa/machine_learning_notes/blob/master/classification_with_mlp.ipynb\" target=\"_parent\"><img src=\"https://colab.research.google.com/assets/colab-badge.svg\" alt=\"Open In Colab\"/></a>"
      ]
    },
    {
      "cell_type": "markdown",
      "source": [
        "### Multi-Layer Perceptron (classification)"
      ],
      "metadata": {
        "id": "FLTPYvtVOqEW"
      }
    },
    {
      "cell_type": "code",
      "execution_count": 1,
      "metadata": {
        "id": "JxQO-788OJlK"
      },
      "outputs": [],
      "source": [
        "import torch\n",
        "from torch import nn,optim\n",
        "import wandb\n",
        "from sklearn.datasets import load_iris\n",
        "import numpy as np\n",
        "import seaborn as sns\n",
        "import matplotlib.pyplot as plt\n",
        "from sklearn.model_selection import train_test_split"
      ]
    },
    {
      "cell_type": "code",
      "source": [
        "# load and prepare dataset\n",
        "\n",
        "X = load_iris()['data']\n",
        "y = load_iris()['target']\n",
        "\n",
        "# split the dataset\n",
        "X_train, X_test, y_train, y_test = train_test_split(X,y, test_size=0.2,\n",
        "                                                    stratify=y)\n",
        "\n",
        "# convert to tensor\n",
        "X_train_tensor = torch.tensor(data = X_train, dtype=torch.float32)\n",
        "X_test_tensor = torch.tensor(data= X_test, dtype=torch.float32)\n",
        "y_train_tensor = torch.tensor(data=y_train, dtype = torch.long)\n",
        "y_test_tensor = torch.tensor(data=y_test, dtype = torch.long)"
      ],
      "metadata": {
        "id": "x_vyDb0hPlo3"
      },
      "execution_count": 2,
      "outputs": []
    },
    {
      "cell_type": "code",
      "source": [
        "## create the  computational graph\n",
        "\n",
        "class Flower_NN(nn.Module):\n",
        "\n",
        "  def __init__(self, number_of_columns: int) -> None:\n",
        "    super().__init__()\n",
        "    self.fc1 = nn.Linear(in_features=number_of_columns, out_features=500)\n",
        "    self.fc2 = nn.Linear(in_features=500, out_features=250)\n",
        "    self.fc3 = nn.Linear(in_features=250, out_features=50)\n",
        "    self.out = nn.Linear(in_features=50, out_features=3)\n",
        "    self.relu = nn.ReLU()\n",
        "    self.dropout = nn.Dropout(p=0.4)\n",
        "\n",
        "  def forward(self, X: torch.Tensor) -> torch.Tensor:\n",
        "\n",
        "    result = self.dropout(self.relu(self.fc1(X)))\n",
        "    result = self.dropout(self.relu(self.fc2(result)))\n",
        "    result = self.dropout(self.relu(self.fc3(result)))\n",
        "    result = self.out(result)\n",
        "\n",
        "    return result"
      ],
      "metadata": {
        "id": "i8QDX3sTQNlD"
      },
      "execution_count": 31,
      "outputs": []
    },
    {
      "cell_type": "code",
      "source": [
        "# setup the model hyperparameters and init the model\n",
        "\n",
        "model = Flower_NN(number_of_columns=X_train.shape[1]) #init\n",
        "criterion = nn.CrossEntropyLoss()\n",
        "LEARNING_RATE = 1e-4\n",
        "optimizer = optim.Adam(params = model.parameters(), lr = LEARNING_RATE)\n",
        "EPOCHS = 2000\n",
        "device = torch.device('cuda' if torch.cuda.is_available() else 'cpu')\n",
        "model = model.to(device)"
      ],
      "metadata": {
        "id": "lfPturW3RkFg"
      },
      "execution_count": 32,
      "outputs": []
    },
    {
      "cell_type": "code",
      "source": [
        "# setup the training loop\n",
        "train_loss_tracker = []\n",
        "test_loss_tracker = []\n",
        "\n",
        "for epoch in range(EPOCHS):\n",
        "  model.train()\n",
        "  # forward pass\n",
        "  X_train_tensor, y_train_tensor = X_train_tensor.to(device), y_train_tensor.to(device)\n",
        "  X_test_tensor, y_test_tensor = X_test_tensor.to(device), y_test_tensor.to(device)\n",
        "  train_preds = model(X_train_tensor)\n",
        "  loss = criterion(train_preds, y_train_tensor)\n",
        "\n",
        "  # back propagation\n",
        "  optimizer.zero_grad() # wipe out the previous gradients\n",
        "  loss.backward()\n",
        "  optimizer.step()\n",
        "\n",
        "  if epoch % 200 == 0:\n",
        "    train_loss_tracker.append(loss.item())\n",
        "    #print(f\"Completed training for epoch {(epoch//1000) + 1} now testing...\")\n",
        "\n",
        "    model.eval()\n",
        "    with torch.no_grad():\n",
        "      test_preds = model(X_test_tensor)\n",
        "      test_loss = criterion(test_preds, y_test_tensor)\n",
        "      test_loss_tracker.append(test_loss.item())\n",
        "      print(f\"Epoch: {(epoch//200) + 1}/10......TRAIN LOSS: {loss.item()}...TEST_LOSS: {test_loss.item()}\")\n"
      ],
      "metadata": {
        "colab": {
          "base_uri": "https://localhost:8080/"
        },
        "id": "ZSoT50XAYVVf",
        "outputId": "23f098f2-29f3-46ba-ff77-f29f4d8ffd5a"
      },
      "execution_count": 33,
      "outputs": [
        {
          "output_type": "stream",
          "name": "stdout",
          "text": [
            "Epoch: 1/10......TRAIN LOSS: 1.190469741821289...TEST_LOSS: 1.1176438331604004\n",
            "Epoch: 2/10......TRAIN LOSS: 0.3246237635612488...TEST_LOSS: 0.23461411893367767\n",
            "Epoch: 3/10......TRAIN LOSS: 0.2211192101240158...TEST_LOSS: 0.13797099888324738\n",
            "Epoch: 4/10......TRAIN LOSS: 0.13593563437461853...TEST_LOSS: 0.14620240032672882\n",
            "Epoch: 5/10......TRAIN LOSS: 0.13501659035682678...TEST_LOSS: 0.14902058243751526\n",
            "Epoch: 6/10......TRAIN LOSS: 0.126075878739357...TEST_LOSS: 0.15076154470443726\n",
            "Epoch: 7/10......TRAIN LOSS: 0.1213458776473999...TEST_LOSS: 0.16125470399856567\n",
            "Epoch: 8/10......TRAIN LOSS: 0.07222754508256912...TEST_LOSS: 0.160644993185997\n",
            "Epoch: 9/10......TRAIN LOSS: 0.11693353950977325...TEST_LOSS: 0.17470835149288177\n",
            "Epoch: 10/10......TRAIN LOSS: 0.06719336658716202...TEST_LOSS: 0.17506274580955505\n"
          ]
        }
      ]
    },
    {
      "cell_type": "code",
      "source": [
        "test_loss_tracker"
      ],
      "metadata": {
        "colab": {
          "base_uri": "https://localhost:8080/"
        },
        "id": "7GjXjjs2k0Wn",
        "outputId": "71ac4ed3-4734-4f5e-e5a0-e9cd71ea33f9"
      },
      "execution_count": 29,
      "outputs": [
        {
          "output_type": "execute_result",
          "data": {
            "text/plain": [
              "[1.0755465030670166,\n",
              " 0.14409354329109192,\n",
              " 0.16366419196128845,\n",
              " 0.18623895943164825,\n",
              " 0.18827620148658752,\n",
              " 0.2002260684967041,\n",
              " 0.21339622139930725,\n",
              " 0.22885814309120178,\n",
              " 0.23878921568393707,\n",
              " 0.2469032108783722]"
            ]
          },
          "metadata": {},
          "execution_count": 29
        }
      ]
    },
    {
      "cell_type": "code",
      "source": [
        "sns.set_style('darkgrid')\n",
        "sns.set_palette('husl')\n",
        "\n",
        "plt.plot(list(range(1,11)), train_loss_tracker)\n",
        "plt.plot(list(range(1,11)), test_loss_tracker)\n",
        "\n",
        "plt.xlabel('Number of Epochs')\n",
        "plt.ylabel('Loss')\n",
        "plt.legend(['train loss', 'test loss'])"
      ],
      "metadata": {
        "colab": {
          "base_uri": "https://localhost:8080/",
          "height": 466
        },
        "id": "wHkDYfD0Z0-K",
        "outputId": "1df95037-a01e-4b15-9d72-9845f16b77a2"
      },
      "execution_count": 34,
      "outputs": [
        {
          "output_type": "execute_result",
          "data": {
            "text/plain": [
              "<matplotlib.legend.Legend at 0x7abeff6bc9d0>"
            ]
          },
          "metadata": {},
          "execution_count": 34
        },
        {
          "output_type": "display_data",
          "data": {
            "text/plain": [
              "<Figure size 640x480 with 1 Axes>"
            ],
            "image/png": "[encoded data removed]"
          },
          "metadata": {}
        }
      ]
    },
    {
      "cell_type": "code",
      "source": [],
      "metadata": {
        "id": "umMiqERvZ29i"
      },
      "execution_count": null,
      "outputs": []
    }
  ]
}